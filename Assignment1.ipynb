{
 "cells": [
  {
   "cell_type": "markdown",
   "metadata": {
    "pycharm": {
     "name": "#%% md\n"
    }
   },
   "source": [
    "Please fill out the information of your group!\n",
    "\n",
    "| <p style=\"text-align: center;\">First Name</p>  | <p style=\"text-align: center;\">Family Name</p> | Matr.-No. |\n",
    "| ---------------------------------------------- | ---------------------------------------------- | -------- |\n",
    "| <p style=\"text-align: left\">*EDIT!*</p>| <p style=\"text-align: left\">*EDIT!*</p> | *EDIT!* |\n",
    "| <p style=\"text-align: left\">*EDIT!*</p>| <p style=\"text-align: left\">*EDIT!*</p> | *EDIT!* |\n"
   ]
  },
  {
   "cell_type": "markdown",
   "metadata": {
    "pycharm": {
     "name": "#%% md\n"
    }
   },
   "source": [
    "<h2 style=\"text-align: center\">344.105/6/7 UE: Natural Language Processing (WS2022/23)</h2>\n",
    "<h1 style=\"color:rgb(0,120,170)\">Assignment 1</h1>\n",
    "<h2 style=\"color:rgb(0,120,170)\">Document Classification with Standard Machine Learning Methods</h2>"
   ]
  },
  {
   "cell_type": "markdown",
   "metadata": {
    "pycharm": {
     "name": "#%% md\n"
    }
   },
   "source": [
    "<div style=\"background-color:rgb(224, 243, 255)\">\n",
    "<b>Terms of Use</b><br>\n",
    "This  material is prepared for educational purposes at the Johannes Kepler University (JKU) Linz, and is exclusively provided to the registered students of the mentioned course at JKU. It is strictly forbidden to distribute the current file, the contents of the assignment, and its solution. The use or reproduction of this manuscript is only allowed for educational purposes in non-profit organizations, while in this case, the explicit prior acceptance of the author(s) is required.\n",
    "\n",
    "**Author:** Navid Rekab-saz<br>\n",
    "**Email:** navid.rekabsaz@jku.at<br>\n",
    "\n",
    "</div>"
   ]
  },
  {
   "cell_type": "markdown",
   "metadata": {
    "pycharm": {
     "name": "#%% md\n"
    }
   },
   "source": [
    "<h2>Table of contents</h2>\n",
    "<ol>\n",
    "    <a href=\"#section-general-guidelines\"><li style=\"font-size:large;font-weight:bold\">General Guidelines</li></a>\n",
    "    <a href=\"#section-preprocessing\"><li style=\"font-size:large;font-weight:bold\">Task A: Pre-processing & Feature Extraction (15 points)</li></a>\n",
    "    <a href=\"#section-training\"><li style=\"font-size:large;font-weight:bold\">Task B: Training and Results Analysis (15 points)</li></a>\n",
    "    <a href=\"#section-optional\"><li style=\"font-size:large;font-weight:bold\">Task C: Linear Model Interpretability (2 extra point)</li></a>\n",
    "    \n",
    "</ol>"
   ]
  },
  {
   "cell_type": "markdown",
   "metadata": {
    "pycharm": {
     "name": "#%% md\n"
    }
   },
   "source": [
    "<a name=\"section-general-guidelines\"></a><h2 style=\"color:rgb(0,120,170)\">General Guidelines</h2>"
   ]
  },
  {
   "cell_type": "markdown",
   "metadata": {
    "pycharm": {
     "name": "#%% md\n"
    }
   },
   "source": [
    "<div style=\"background-color:rgb(224, 243, 255)\">\n",
    "\n",
    "### Assignment objective\n",
    "\n",
    "The aim of this assignment is to implement a document (sentence) classification model using (standard) machine learning methods. The assignment in total has **30 points**; it also offers **2 extra points** which can cover any missing point.\n",
    "\n",
    "This Notebook encompasses all aspects of the assignment, namely the descriptions of tasks as well as your solutions and reports. Feel free to add any required cell for solutions. The cells can contain code, reports, charts, tables, or any other material, required for the assignment. Feel free to provide the solutions in an interactive and visual way! \n",
    "\n",
    "Please discuss any unclear point in the assignment in the provided forum in MOODLE. It is also encouraged to provide answers to your peer's questions. However when submitting a post, keep in mind to avoid providing solutions. Please let the tutor(s) know shall you find any error or unclarity in the assignment.\n",
    "\n",
    "</div>\n"
   ]
  },
  {
   "cell_type": "markdown",
   "metadata": {
    "pycharm": {
     "name": "#%% md\n"
    }
   },
   "source": [
    "<div style=\"background-color:rgb(224, 243, 255)\">\n",
    "\n",
    "### Libraries & Dataset\n",
    "\n",
    "The assignment should be implemented with recent versions of `Python` (>3.7). Any standard Python library can be used, so far that the library is free and can be simply installed using `pip` or `conda`. Examples of potentially useful libraries are `scikit-learn`, `numpy`, `scipy`, `gensim`, `nltk`, `spaCy`, and `AllenNLP`. Use the latest stable version of each library.\n",
    "\n",
    "To conduct the experiments, two datasets are provided. The datasets are taken from the data of `thedeep` project, produced by the DEEP (https://www.thedeep.io) platform. The DEEP is an open-source platform, which aims to facilitate processing of textual data for international humanitarian response organizations. The platform enables the classification of text excerpts, extracted from news and reports into a set of domain specific classes. The provided dataset has 12 classes (labels) like agriculture, health, and protection. \n",
    "\n",
    "The difference between the datasets is in their sizes. We refer to these as `medium` and `small`, containing an overall number of 38,000 and 12,000 annotated text excerpts, respectively. Select one of the datasets, and use it for all of the tasks. `medium` provides more data and therefore reflects a more realistic scenario. `small` is however provided for the sake of convenience, particularly if running the experiments on your available hardware takes too long. Using `medium` is generally recommended, but from the point of view of assignment grading, there is no difference between the datasets.\n",
    "\n",
    "Download the dataset from [this link](https://drive.jku.at/filr/public-link/file-download/0cce88f083887a040183c5bebe366b04/43388/4737518022038762454/nlp2022_23_data.zip).\n",
    "\n",
    "Whether `medium` or `small`, you will find the following files in the provided zip file:\n",
    "- `thedeep.$name$.train.txt`: Train set in csv format with three fields: sentence_id, text, and label.\n",
    "- `thedeep.$name$.validation.txt`: Validation set in csv format with three fields: sentence_id, text, and label.\n",
    "- `thedeep.$name$.test.txt`: Test set in csv format with three fields: sentence_id, text, and label.\n",
    "- `thedeep.$name$.label.txt`: Captions of the labels.\n",
    "- `README.txt`: Terms of use of the dataset.\n",
    "\n",
    "</div>\n"
   ]
  },
  {
   "cell_type": "markdown",
   "metadata": {
    "pycharm": {
     "name": "#%% md\n"
    }
   },
   "source": [
    "<div style=\"background-color:rgb(224, 243, 255)\">\n",
    "\n",
    "### Submission\n",
    "\n",
    "Each group should submit the following two files:\n",
    "\n",
    "- One Jupyter Notebook file (`.ipynb`), containing all the code, results, visualizations, etc. **In the submitted Notebook, all the results and visualizations should already be present, and can be observed simply by loading the Notebook in a browser.** The Notebook must be self-contained, meaning that (if necessary) one can run all the cells from top to bottom without any error. Do not forget to put in your names and student numbers in the first cell of the Notebook. \n",
    "- The HTML file (`.html`) achieved from exporting the Jupyter Notebook to HTML (Download As HTML).\n",
    "\n",
    "You do not need to include the data files in the submission.\n",
    "\n",
    "\n",
    "</div>"
   ]
  },
  {
   "cell_type": "markdown",
   "metadata": {
    "pycharm": {
     "name": "#%% md\n"
    }
   },
   "source": [
    "<a name=\"section-preprocessing\"></a><h2 style=\"color:rgb(0,120,170)\">Task A: Pre-processing & Feature Extraction (15 points)</h2>"
   ]
  },
  {
   "cell_type": "markdown",
   "metadata": {
    "pycharm": {
     "name": "#%% md\n"
    }
   },
   "source": [
    "<div style=\"background-color:rgb(224, 243, 255)\">\n",
    "    \n",
    "**Preprocessing (4 points).** Load the train, validation, and test sets. Study the text and according to your judgements, apply at least <ins>two text cleaning/preprocessing methods</ins>. Punctuations marks, numbers, dates, case-sensitivity are some examples of the elements which can be potentially considered for cleaning/preprocessing. Tokenize the result text with a tokenizer of your choice. Report your approaches to text cleaning and tokenization and the reasons of your choices. Provide some examples, showing the effects of the applied approaches on the text.\n",
    "\n",
    "**Creating dictionary (4 points).** Create a dictionary of vocabularies following the guidelines discussed in the lecture. Next, reduce the size of dictionary using a method of your choice, for instance by considering a cut-off threshold on the tokens with low frequencies. When removing tokens from the dictionary, consider a strategy for handling Out-Of-Vocabulary (OOV) tokens, namely the ones in the train/validation/test datasets that that are not anymore in the dictionary. Some possible strategies could be to remove OOVs completely from the texts, or to replace them with a special token like <OOV\\>. Explain your approaches and report the statistics of the dictionary before and after the reduction.\n",
    "\n",
    "**Creating sentence vectors (4 points).** Use the dictionary to prepare <ins>two variations of document representation vectors</ins>, separately for train, validation, and test sets. Both variations follow a Bag-of-Words approach with a different token weighting method. One applied weighting must be `tf-idf` and the other one can be any other methods discussed in the lecture such as `tc`, `tf`, `BM25`. These term weighting methods should be implemented; using a library to readily calculate the term weightings is not allowed. Report the applied approaches. Calculate and report the sparsity rate of the vectors of train, validation, and test sets, namely what percentages of the vectors in each set are filled with zeros.\n",
    "\n",
    "**Dimensionality reduction (3 points).** Reduce vectors' dimensions to $k$ by applying Latent Semantic Analysis (LSA) to the vectors of both variations. $k$ is a hyper-parameter and can be $10<k<1000$. Keep in mind the training and inference phases of LSA, when applied to the train, validation, and test sets. \n",
    "\n",
    "At the end of Task A, you should have the <ins>four feature vectors variations</ins> shown below, each consisting of the sets of train, validation, and test:\n",
    "- **`Token Weighting I - High Dimensional`**\n",
    "- **`Token Weighting I - Low Dimensional`**\n",
    "- **`Token Weighting II - High Dimensional`**\n",
    "- **`Token Weighting II - Low Dimensional`**\n",
    "\n",
    "\n",
    "</div>"
   ]
  },
  {
   "cell_type": "markdown",
   "source": [
    "# Preprocessing"
   ],
   "metadata": {
    "collapsed": false,
    "pycharm": {
     "name": "#%% md\n"
    }
   }
  },
  {
   "cell_type": "code",
   "execution_count": 1,
   "outputs": [],
   "source": [
    "import pandas as pd\n",
    "import numpy as np\n",
    "import re\n",
    "import nltk"
   ],
   "metadata": {
    "collapsed": false,
    "pycharm": {
     "name": "#%%\n"
    }
   }
  },
  {
   "cell_type": "code",
   "execution_count": 2,
   "metadata": {
    "pycharm": {
     "name": "#%%\n"
    }
   },
   "outputs": [],
   "source": [
    "# Load the train, validation, and test sets\n",
    "DS_SIZE = 'medium'\n",
    "BASE_DIR = 'data/nlp2022_23_data/nlpwdl2021_data/'\n",
    "TRAIN_FILE = BASE_DIR + 'thedeep.' + DS_SIZE + '.train.txt'\n",
    "VAL_FILE = BASE_DIR + 'thedeep.' + DS_SIZE + '.validation.txt'\n",
    "TEST_FILE = BASE_DIR + 'thedeep.' + DS_SIZE + '.test.txt'\n",
    "LABEL_FILE = BASE_DIR + 'thedeep.' + 'labels.txt'\n",
    "\n",
    "train_df = pd.read_csv(TRAIN_FILE, sep=',', header=None, names=['sentence_id', 'text', 'label'])\n",
    "val_df = pd.read_csv(VAL_FILE, sep=',', header=None, names=['sentence_id', 'text', 'label'])\n",
    "test_df = pd.read_csv(TEST_FILE, sep=',', header=None, names=['sentence_id', 'text', 'label'])\n",
    "label_df = pd.read_csv(LABEL_FILE, sep=',', header=None, names=['label', 'caption'])"
   ]
  },
  {
   "cell_type": "code",
   "execution_count": 3,
   "outputs": [
    {
     "data": {
      "text/plain": "       sentence_id                                               text  label\n0            11609  • 214,000 students affected as schools close d...      9\n1            28291  The primary reported needs for IDPs across the...      4\n2             9695  Some 602 000 IDPs are now spread across the co...      3\n3             7781  South Sudanese soldiers accused of raping at l...      9\n4            31382  Since the beginning of 2017, 18 882 suspected/...     11\n...            ...                                                ...    ...\n26595        36292  Cholera continues to spread in Yemen, causing ...      4\n26596         5566  An estimated 165,000 children are expected to ...      8\n26597        19676  On 3 March 2017, Tropical storm Enawo formed i...     10\n26598        29831  The presence of UXO was reported in 15 baladiy...      9\n26599        27747  As at week 27 (July 1-7, 2017), the outbreak i...      4\n\n[26600 rows x 3 columns]",
      "text/html": "<div>\n<style scoped>\n    .dataframe tbody tr th:only-of-type {\n        vertical-align: middle;\n    }\n\n    .dataframe tbody tr th {\n        vertical-align: top;\n    }\n\n    .dataframe thead th {\n        text-align: right;\n    }\n</style>\n<table border=\"1\" class=\"dataframe\">\n  <thead>\n    <tr style=\"text-align: right;\">\n      <th></th>\n      <th>sentence_id</th>\n      <th>text</th>\n      <th>label</th>\n    </tr>\n  </thead>\n  <tbody>\n    <tr>\n      <th>0</th>\n      <td>11609</td>\n      <td>• 214,000 students affected as schools close d...</td>\n      <td>9</td>\n    </tr>\n    <tr>\n      <th>1</th>\n      <td>28291</td>\n      <td>The primary reported needs for IDPs across the...</td>\n      <td>4</td>\n    </tr>\n    <tr>\n      <th>2</th>\n      <td>9695</td>\n      <td>Some 602 000 IDPs are now spread across the co...</td>\n      <td>3</td>\n    </tr>\n    <tr>\n      <th>3</th>\n      <td>7781</td>\n      <td>South Sudanese soldiers accused of raping at l...</td>\n      <td>9</td>\n    </tr>\n    <tr>\n      <th>4</th>\n      <td>31382</td>\n      <td>Since the beginning of 2017, 18 882 suspected/...</td>\n      <td>11</td>\n    </tr>\n    <tr>\n      <th>...</th>\n      <td>...</td>\n      <td>...</td>\n      <td>...</td>\n    </tr>\n    <tr>\n      <th>26595</th>\n      <td>36292</td>\n      <td>Cholera continues to spread in Yemen, causing ...</td>\n      <td>4</td>\n    </tr>\n    <tr>\n      <th>26596</th>\n      <td>5566</td>\n      <td>An estimated 165,000 children are expected to ...</td>\n      <td>8</td>\n    </tr>\n    <tr>\n      <th>26597</th>\n      <td>19676</td>\n      <td>On 3 March 2017, Tropical storm Enawo formed i...</td>\n      <td>10</td>\n    </tr>\n    <tr>\n      <th>26598</th>\n      <td>29831</td>\n      <td>The presence of UXO was reported in 15 baladiy...</td>\n      <td>9</td>\n    </tr>\n    <tr>\n      <th>26599</th>\n      <td>27747</td>\n      <td>As at week 27 (July 1-7, 2017), the outbreak i...</td>\n      <td>4</td>\n    </tr>\n  </tbody>\n</table>\n<p>26600 rows × 3 columns</p>\n</div>"
     },
     "execution_count": 3,
     "metadata": {},
     "output_type": "execute_result"
    }
   ],
   "source": [
    "train_df"
   ],
   "metadata": {
    "collapsed": false,
    "pycharm": {
     "name": "#%%\n"
    }
   }
  },
  {
   "cell_type": "code",
   "execution_count": 4,
   "outputs": [
    {
     "name": "stdout",
     "output_type": "stream",
     "text": [
      "Train set length:  26600\n",
      "Validation set length:  5700\n",
      "Test set length:  5700\n"
     ]
    }
   ],
   "source": [
    "# print length of each set\n",
    "print('Train set length: ', len(train_df))\n",
    "print('Validation set length: ', len(val_df))\n",
    "print('Test set length: ', len(test_df))"
   ],
   "metadata": {
    "collapsed": false,
    "pycharm": {
     "name": "#%%\n"
    }
   }
  },
  {
   "cell_type": "code",
   "execution_count": 5,
   "outputs": [
    {
     "name": "stdout",
     "output_type": "stream",
     "text": [
      "Average length of text in train set:  466.31\n",
      "Average length of text in validation set:  468.57\n",
      "Average length of text in test set:  462.7\n"
     ]
    }
   ],
   "source": [
    "# print average length of text in each set\n",
    "print('Average length of text in train set: ', np.round(np.mean(train_df['text'].str.len()), 2))\n",
    "print('Average length of text in validation set: ', np.round(np.mean(val_df['text'].str.len()), 2))\n",
    "print('Average length of text in test set: ', np.round(np.mean(test_df['text'].str.len()), 2))"
   ],
   "metadata": {
    "collapsed": false,
    "pycharm": {
     "name": "#%%\n"
    }
   }
  },
  {
   "cell_type": "code",
   "execution_count": 6,
   "outputs": [
    {
     "data": {
      "text/plain": "    label      caption\n0       0  Agriculture\n1       1        Cross\n2       2    Education\n3       3         Food\n4       4       Health\n5       5   Livelihood\n6       6     Logistic\n7       7          NFI\n8       8    Nutrition\n9       9   Protection\n10     10      Shelter\n11     11         WASH",
      "text/html": "<div>\n<style scoped>\n    .dataframe tbody tr th:only-of-type {\n        vertical-align: middle;\n    }\n\n    .dataframe tbody tr th {\n        vertical-align: top;\n    }\n\n    .dataframe thead th {\n        text-align: right;\n    }\n</style>\n<table border=\"1\" class=\"dataframe\">\n  <thead>\n    <tr style=\"text-align: right;\">\n      <th></th>\n      <th>label</th>\n      <th>caption</th>\n    </tr>\n  </thead>\n  <tbody>\n    <tr>\n      <th>0</th>\n      <td>0</td>\n      <td>Agriculture</td>\n    </tr>\n    <tr>\n      <th>1</th>\n      <td>1</td>\n      <td>Cross</td>\n    </tr>\n    <tr>\n      <th>2</th>\n      <td>2</td>\n      <td>Education</td>\n    </tr>\n    <tr>\n      <th>3</th>\n      <td>3</td>\n      <td>Food</td>\n    </tr>\n    <tr>\n      <th>4</th>\n      <td>4</td>\n      <td>Health</td>\n    </tr>\n    <tr>\n      <th>5</th>\n      <td>5</td>\n      <td>Livelihood</td>\n    </tr>\n    <tr>\n      <th>6</th>\n      <td>6</td>\n      <td>Logistic</td>\n    </tr>\n    <tr>\n      <th>7</th>\n      <td>7</td>\n      <td>NFI</td>\n    </tr>\n    <tr>\n      <th>8</th>\n      <td>8</td>\n      <td>Nutrition</td>\n    </tr>\n    <tr>\n      <th>9</th>\n      <td>9</td>\n      <td>Protection</td>\n    </tr>\n    <tr>\n      <th>10</th>\n      <td>10</td>\n      <td>Shelter</td>\n    </tr>\n    <tr>\n      <th>11</th>\n      <td>11</td>\n      <td>WASH</td>\n    </tr>\n  </tbody>\n</table>\n</div>"
     },
     "execution_count": 6,
     "metadata": {},
     "output_type": "execute_result"
    }
   ],
   "source": [
    "label_df"
   ],
   "metadata": {
    "collapsed": false,
    "pycharm": {
     "name": "#%%\n"
    }
   }
  },
  {
   "cell_type": "markdown",
   "source": [
    "Each label corresponds to a given caption, i.e., a category."
   ],
   "metadata": {
    "collapsed": false,
    "pycharm": {
     "name": "#%% md\n"
    }
   }
  },
  {
   "cell_type": "code",
   "execution_count": 7,
   "outputs": [],
   "source": [
    "def map_label_to_caption(label):\n",
    "    \"\"\"\n",
    "    Map label id to caption using label_df\n",
    "    :param label: label id, int\n",
    "    :return: label caption, str\n",
    "    \"\"\"\n",
    "    return label_df[label_df['label'] == label]['caption'].values[0]"
   ],
   "metadata": {
    "collapsed": false,
    "pycharm": {
     "name": "#%%\n"
    }
   }
  },
  {
   "cell_type": "code",
   "execution_count": 8,
   "outputs": [
    {
     "data": {
      "text/plain": "      sentence_id                                               text  label  \\\n0           11356  The number of people facing severe food insecu...      3   \n1           36871  The SDF fighters appeared on edge, both over I...      9   \n2           13153  In Afrin District, Turkish officials announced...      9   \n3            9835  One food se- cur ity official told RI that are...      3   \n4             796  A total of 548 Iraqi civilians were killed and...      9   \n...           ...                                                ...    ...   \n5695         2722   A total of 85 new cases of AWD were reported ...      4   \n5696        11418  They also reported that 259 000 people were ev...     10   \n5697        24911  Iraqi security officials say a double suicide ...      9   \n5698        31074  All new arrivals require health assistance.  ?...      1   \n5699        36188  The United Nations refugee agency is condemnin...      9   \n\n         caption  \n0           Food  \n1     Protection  \n2     Protection  \n3           Food  \n4     Protection  \n...          ...  \n5695      Health  \n5696     Shelter  \n5697  Protection  \n5698       Cross  \n5699  Protection  \n\n[5700 rows x 4 columns]",
      "text/html": "<div>\n<style scoped>\n    .dataframe tbody tr th:only-of-type {\n        vertical-align: middle;\n    }\n\n    .dataframe tbody tr th {\n        vertical-align: top;\n    }\n\n    .dataframe thead th {\n        text-align: right;\n    }\n</style>\n<table border=\"1\" class=\"dataframe\">\n  <thead>\n    <tr style=\"text-align: right;\">\n      <th></th>\n      <th>sentence_id</th>\n      <th>text</th>\n      <th>label</th>\n      <th>caption</th>\n    </tr>\n  </thead>\n  <tbody>\n    <tr>\n      <th>0</th>\n      <td>11356</td>\n      <td>The number of people facing severe food insecu...</td>\n      <td>3</td>\n      <td>Food</td>\n    </tr>\n    <tr>\n      <th>1</th>\n      <td>36871</td>\n      <td>The SDF fighters appeared on edge, both over I...</td>\n      <td>9</td>\n      <td>Protection</td>\n    </tr>\n    <tr>\n      <th>2</th>\n      <td>13153</td>\n      <td>In Afrin District, Turkish officials announced...</td>\n      <td>9</td>\n      <td>Protection</td>\n    </tr>\n    <tr>\n      <th>3</th>\n      <td>9835</td>\n      <td>One food se- cur ity official told RI that are...</td>\n      <td>3</td>\n      <td>Food</td>\n    </tr>\n    <tr>\n      <th>4</th>\n      <td>796</td>\n      <td>A total of 548 Iraqi civilians were killed and...</td>\n      <td>9</td>\n      <td>Protection</td>\n    </tr>\n    <tr>\n      <th>...</th>\n      <td>...</td>\n      <td>...</td>\n      <td>...</td>\n      <td>...</td>\n    </tr>\n    <tr>\n      <th>5695</th>\n      <td>2722</td>\n      <td>A total of 85 new cases of AWD were reported ...</td>\n      <td>4</td>\n      <td>Health</td>\n    </tr>\n    <tr>\n      <th>5696</th>\n      <td>11418</td>\n      <td>They also reported that 259 000 people were ev...</td>\n      <td>10</td>\n      <td>Shelter</td>\n    </tr>\n    <tr>\n      <th>5697</th>\n      <td>24911</td>\n      <td>Iraqi security officials say a double suicide ...</td>\n      <td>9</td>\n      <td>Protection</td>\n    </tr>\n    <tr>\n      <th>5698</th>\n      <td>31074</td>\n      <td>All new arrivals require health assistance.  ?...</td>\n      <td>1</td>\n      <td>Cross</td>\n    </tr>\n    <tr>\n      <th>5699</th>\n      <td>36188</td>\n      <td>The United Nations refugee agency is condemnin...</td>\n      <td>9</td>\n      <td>Protection</td>\n    </tr>\n  </tbody>\n</table>\n<p>5700 rows × 4 columns</p>\n</div>"
     },
     "execution_count": 8,
     "metadata": {},
     "output_type": "execute_result"
    }
   ],
   "source": [
    "train_df.assign(caption=train_df['label'].apply(map_label_to_caption))\n",
    "val_df.assign(caption=val_df['label'].apply(map_label_to_caption))\n",
    "test_df.assign(caption=test_df['label'].apply(map_label_to_caption))"
   ],
   "metadata": {
    "collapsed": false,
    "pycharm": {
     "name": "#%%\n"
    }
   }
  },
  {
   "cell_type": "markdown",
   "source": [
    "## Clean text"
   ],
   "metadata": {
    "collapsed": false,
    "pycharm": {
     "name": "#%% md\n"
    }
   }
  },
  {
   "cell_type": "code",
   "execution_count": 9,
   "outputs": [],
   "source": [
    "# remove punctuation marks, replace dates & numbers, apply case-sensitivity\n",
    "def clean_text(text):\n",
    "    \"\"\"\n",
    "    Clean text by removing punctuation marks, replacing dates & numbers, applying case-sensitivity\n",
    "    :param text: text to clean, str\n",
    "    :return: cleaned text, str\n",
    "    \"\"\"\n",
    "    # remove punctuation marks\n",
    "    text = re.sub(r'[^\\w\\s]', '', text)\n",
    "    # replace dates\n",
    "    text = re.sub(r'\\d{1,2}/\\d{1,2}/\\d{2,4}', '< date >', text)\n",
    "    # replace numbers\n",
    "    text = re.sub(r'\\d+', '< num >', text)\n",
    "    # apply case-sensitivity\n",
    "    text = text.lower()\n",
    "    return text"
   ],
   "metadata": {
    "collapsed": false,
    "pycharm": {
     "name": "#%%\n"
    }
   }
  },
  {
   "cell_type": "code",
   "execution_count": 10,
   "outputs": [],
   "source": [
    "train_df['cleaned_text'] = train_df['text'].apply(clean_text)\n",
    "val_df['cleaned_text'] = val_df['text'].apply(clean_text)\n",
    "test_df['cleaned_text'] = test_df['text'].apply(clean_text)"
   ],
   "metadata": {
    "collapsed": false,
    "pycharm": {
     "name": "#%%\n"
    }
   }
  },
  {
   "cell_type": "code",
   "execution_count": 11,
   "outputs": [
    {
     "data": {
      "text/plain": "       sentence_id                                               text  label  \\\n0            11609  • 214,000 students affected as schools close d...      9   \n1            28291  The primary reported needs for IDPs across the...      4   \n2             9695  Some 602 000 IDPs are now spread across the co...      3   \n3             7781  South Sudanese soldiers accused of raping at l...      9   \n4            31382  Since the beginning of 2017, 18 882 suspected/...     11   \n...            ...                                                ...    ...   \n26595        36292  Cholera continues to spread in Yemen, causing ...      4   \n26596         5566  An estimated 165,000 children are expected to ...      8   \n26597        19676  On 3 March 2017, Tropical storm Enawo formed i...     10   \n26598        29831  The presence of UXO was reported in 15 baladiy...      9   \n26599        27747  As at week 27 (July 1-7, 2017), the outbreak i...      4   \n\n                                            cleaned_text  \n0       < num > students affected as schools close du...  \n1      the primary reported needs for idps across the...  \n2      some < num > < num > idps are now spread acros...  \n3      south sudanese soldiers accused of raping at l...  \n4      since the beginning of < num > < num > < num >...  \n...                                                  ...  \n26595  cholera continues to spread in yemen causing m...  \n26596  an estimated < num > children are expected to ...  \n26597  on < num > march < num > tropical storm enawo ...  \n26598  the presence of uxo was reported in < num > ba...  \n26599  as at week < num > july < num > < num > the ou...  \n\n[26600 rows x 4 columns]",
      "text/html": "<div>\n<style scoped>\n    .dataframe tbody tr th:only-of-type {\n        vertical-align: middle;\n    }\n\n    .dataframe tbody tr th {\n        vertical-align: top;\n    }\n\n    .dataframe thead th {\n        text-align: right;\n    }\n</style>\n<table border=\"1\" class=\"dataframe\">\n  <thead>\n    <tr style=\"text-align: right;\">\n      <th></th>\n      <th>sentence_id</th>\n      <th>text</th>\n      <th>label</th>\n      <th>cleaned_text</th>\n    </tr>\n  </thead>\n  <tbody>\n    <tr>\n      <th>0</th>\n      <td>11609</td>\n      <td>• 214,000 students affected as schools close d...</td>\n      <td>9</td>\n      <td>&lt; num &gt; students affected as schools close du...</td>\n    </tr>\n    <tr>\n      <th>1</th>\n      <td>28291</td>\n      <td>The primary reported needs for IDPs across the...</td>\n      <td>4</td>\n      <td>the primary reported needs for idps across the...</td>\n    </tr>\n    <tr>\n      <th>2</th>\n      <td>9695</td>\n      <td>Some 602 000 IDPs are now spread across the co...</td>\n      <td>3</td>\n      <td>some &lt; num &gt; &lt; num &gt; idps are now spread acros...</td>\n    </tr>\n    <tr>\n      <th>3</th>\n      <td>7781</td>\n      <td>South Sudanese soldiers accused of raping at l...</td>\n      <td>9</td>\n      <td>south sudanese soldiers accused of raping at l...</td>\n    </tr>\n    <tr>\n      <th>4</th>\n      <td>31382</td>\n      <td>Since the beginning of 2017, 18 882 suspected/...</td>\n      <td>11</td>\n      <td>since the beginning of &lt; num &gt; &lt; num &gt; &lt; num &gt;...</td>\n    </tr>\n    <tr>\n      <th>...</th>\n      <td>...</td>\n      <td>...</td>\n      <td>...</td>\n      <td>...</td>\n    </tr>\n    <tr>\n      <th>26595</th>\n      <td>36292</td>\n      <td>Cholera continues to spread in Yemen, causing ...</td>\n      <td>4</td>\n      <td>cholera continues to spread in yemen causing m...</td>\n    </tr>\n    <tr>\n      <th>26596</th>\n      <td>5566</td>\n      <td>An estimated 165,000 children are expected to ...</td>\n      <td>8</td>\n      <td>an estimated &lt; num &gt; children are expected to ...</td>\n    </tr>\n    <tr>\n      <th>26597</th>\n      <td>19676</td>\n      <td>On 3 March 2017, Tropical storm Enawo formed i...</td>\n      <td>10</td>\n      <td>on &lt; num &gt; march &lt; num &gt; tropical storm enawo ...</td>\n    </tr>\n    <tr>\n      <th>26598</th>\n      <td>29831</td>\n      <td>The presence of UXO was reported in 15 baladiy...</td>\n      <td>9</td>\n      <td>the presence of uxo was reported in &lt; num &gt; ba...</td>\n    </tr>\n    <tr>\n      <th>26599</th>\n      <td>27747</td>\n      <td>As at week 27 (July 1-7, 2017), the outbreak i...</td>\n      <td>4</td>\n      <td>as at week &lt; num &gt; july &lt; num &gt; &lt; num &gt; the ou...</td>\n    </tr>\n  </tbody>\n</table>\n<p>26600 rows × 4 columns</p>\n</div>"
     },
     "execution_count": 11,
     "metadata": {},
     "output_type": "execute_result"
    }
   ],
   "source": [
    "train_df"
   ],
   "metadata": {
    "collapsed": false,
    "pycharm": {
     "name": "#%%\n"
    }
   }
  },
  {
   "cell_type": "code",
   "execution_count": 12,
   "outputs": [],
   "source": [
    "# normalize text\n",
    "def normalize_text(text):\n",
    "    \"\"\"\n",
    "    Normalize text by tokenizing and lemmatizing\n",
    "    :param text: text to normalize, str\n",
    "    :return: normalized text, str\n",
    "    \"\"\"\n",
    "    # tokenize text\n",
    "    tokens = nltk.word_tokenize(text)\n",
    "    # lemmatize text\n",
    "    lemmatizer = nltk.stem.WordNetLemmatizer()\n",
    "    lemmatized_tokens = [lemmatizer.lemmatize(token) for token in tokens]\n",
    "    return ' '.join(lemmatized_tokens)"
   ],
   "metadata": {
    "collapsed": false,
    "pycharm": {
     "name": "#%%\n"
    }
   }
  },
  {
   "cell_type": "code",
   "execution_count": 13,
   "outputs": [],
   "source": [
    "train_df['normalized_text'] = train_df['cleaned_text'].apply(normalize_text)"
   ],
   "metadata": {
    "collapsed": false,
    "pycharm": {
     "name": "#%%\n"
    }
   }
  },
  {
   "cell_type": "markdown",
   "source": [
    "## Tokenization"
   ],
   "metadata": {
    "collapsed": false,
    "pycharm": {
     "name": "#%% md\n"
    }
   }
  },
  {
   "cell_type": "code",
   "execution_count": 14,
   "outputs": [],
   "source": [
    "# use BPE tokenizer\n",
    "from tokenizers import Tokenizer\n",
    "from tokenizers.models import BPE\n",
    "tokenizer = Tokenizer(BPE(unk_token=\"[UNK]\"))\n",
    "\n",
    "from tokenizers.trainers import BpeTrainer\n",
    "trainer = BpeTrainer(special_tokens=[\"[UNK]\", \"[CLS]\", \"[SEP]\", \"[PAD]\", \"[MASK]\"])\n",
    "\n",
    "from tokenizers.pre_tokenizers import Whitespace\n",
    "tokenizer.pre_tokenizer = Whitespace()\n",
    "\n",
    "files =[TRAIN_FILE]\n",
    "tokenizer.train(files, trainer)"
   ],
   "metadata": {
    "collapsed": false,
    "pycharm": {
     "name": "#%%\n"
    }
   }
  },
  {
   "cell_type": "code",
   "execution_count": 15,
   "outputs": [],
   "source": [
    "# train_df['tokenized_text'] = train_df['cleaned_text'].apply(tokenizer.encode).apply(lambda x: x.tokens)\n",
    "# train_df['tokenized_text']"
   ],
   "metadata": {
    "collapsed": false,
    "pycharm": {
     "name": "#%%\n"
    }
   }
  },
  {
   "cell_type": "code",
   "execution_count": 16,
   "outputs": [],
   "source": [
    "# use NLTK tokenizer (TreebankWordTokenizer)\n",
    "from nltk.tokenize import word_tokenize\n",
    "train_df['tokenized_text'] = train_df['cleaned_text'].apply(word_tokenize)\n",
    "val_df['tokenized_text'] = val_df['cleaned_text'].apply(word_tokenize)\n",
    "test_df['tokenized_text'] = test_df['cleaned_text'].apply(word_tokenize)"
   ],
   "metadata": {
    "collapsed": false,
    "pycharm": {
     "name": "#%%\n"
    }
   }
  },
  {
   "cell_type": "markdown",
   "source": [
    "## Stopwords"
   ],
   "metadata": {
    "collapsed": false,
    "pycharm": {
     "name": "#%% md\n"
    }
   }
  },
  {
   "cell_type": "code",
   "execution_count": 17,
   "outputs": [],
   "source": [
    "# remove stopwords\n",
    "from nltk.corpus import stopwords\n",
    "stop_words = set(stopwords.words('english'))\n",
    "train_df['tokenized_text'] = train_df['tokenized_text'].apply(lambda x: [word for word in x if word not in stop_words])\n",
    "val_df['tokenized_text'] = val_df['tokenized_text'].apply(lambda x: [word for word in x if word not in stop_words])\n",
    "test_df['tokenized_text'] = test_df['tokenized_text'].apply(lambda x: [word for word in x if word not in stop_words])"
   ],
   "metadata": {
    "collapsed": false,
    "pycharm": {
     "name": "#%%\n"
    }
   }
  },
  {
   "cell_type": "markdown",
   "source": [
    "## Compare"
   ],
   "metadata": {
    "collapsed": false,
    "pycharm": {
     "name": "#%% md\n"
    }
   }
  },
  {
   "cell_type": "code",
   "execution_count": 18,
   "outputs": [],
   "source": [
    "# compare text before preprocessing, after preprocessing, and after tokenization\n",
    "def compare_text(text, cleaned_text, tokenized_text):\n",
    "    \"\"\"\n",
    "    Compare text before preprocessing, after preprocessing, and after tokenization\n",
    "    :param text: text before preprocessing, str\n",
    "    :param cleaned_text: text after preprocessing, str\n",
    "    :param tokenized_text: text after tokenization, list\n",
    "    :return: None\n",
    "    \"\"\"\n",
    "    print('Text before preprocessing: \\n', text)\n",
    "    print('Text after preprocessing: \\n', cleaned_text)\n",
    "    print('Text after tokenization: \\n', tokenized_text, end='\\n\\n')"
   ],
   "metadata": {
    "collapsed": false,
    "pycharm": {
     "name": "#%%\n"
    }
   }
  },
  {
   "cell_type": "code",
   "execution_count": 19,
   "outputs": [
    {
     "name": "stdout",
     "output_type": "stream",
     "text": [
      "Text before preprocessing: \n",
      " Some 602 000 IDPs are now spread across the country in 84 IDP sites or with host families, mostly in the east. Most IDPs live far below the poverty line with no access to their livelihoods or basic services, such as food, clean water, health care or education. Displacement increases the likelihood of child malnutrition, as the quantity, quality and availability of food diminishes. Forty-one percent of children under the age of five are chronically malnourished. Vulnerable households face a high risk of malaria outbreaks and diarrheal diseases during the rainy season. Most displaced households, returnees, host families and poor populations affected by the conflict in the northwestern, southeastern and central parts of the country (Ouham Pende, Nana Mambéré, Basse Kotto, Mbomou, Haut Mbomou, and Haute Kotto) are forecast to remain in a Crisis (IPC Phase 3) state of acute food insecurity at least until May 2018.The ever-increasing number of refugees also affects the socio-economic situation outside the country in neighbouring Cameroon, Chad, Congo and Democratic Republic of the Congo, putting a strain on already scarce resources.\n",
      "Text after preprocessing: \n",
      " some < num > < num > idps are now spread across the country in < num > idp sites or with host families mostly in the east most idps live far below the poverty line with no access to their livelihoods or basic services such as food clean water health care or education displacement increases the likelihood of child malnutrition as the quantity quality and availability of food diminishes fortyone percent of children under the age of five are chronically malnourished vulnerable households face a high risk of malaria outbreaks and diarrheal diseases during the rainy season most displaced households returnees host families and poor populations affected by the conflict in the northwestern southeastern and central parts of the country ouham pende nana mambéré basse kotto mbomou haut mbomou and haute kotto are forecast to remain in a crisis ipc phase < num > state of acute food insecurity at least until may < num >the everincreasing number of refugees also affects the socioeconomic situation outside the country in neighbouring cameroon chad congo and democratic republic of the congo putting a strain on already scarce resources\n",
      "Text after tokenization: \n",
      " ['<', 'num', '>', '<', 'num', '>', 'idps', 'spread', 'across', 'country', '<', 'num', '>', 'idp', 'sites', 'host', 'families', 'mostly', 'east', 'idps', 'live', 'far', 'poverty', 'line', 'access', 'livelihoods', 'basic', 'services', 'food', 'clean', 'water', 'health', 'care', 'education', 'displacement', 'increases', 'likelihood', 'child', 'malnutrition', 'quantity', 'quality', 'availability', 'food', 'diminishes', 'fortyone', 'percent', 'children', 'age', 'five', 'chronically', 'malnourished', 'vulnerable', 'households', 'face', 'high', 'risk', 'malaria', 'outbreaks', 'diarrheal', 'diseases', 'rainy', 'season', 'displaced', 'households', 'returnees', 'host', 'families', 'poor', 'populations', 'affected', 'conflict', 'northwestern', 'southeastern', 'central', 'parts', 'country', 'ouham', 'pende', 'nana', 'mambéré', 'basse', 'kotto', 'mbomou', 'haut', 'mbomou', 'haute', 'kotto', 'forecast', 'remain', 'crisis', 'ipc', 'phase', '<', 'num', '>', 'state', 'acute', 'food', 'insecurity', 'least', 'may', '<', 'num', '>', 'everincreasing', 'number', 'refugees', 'also', 'affects', 'socioeconomic', 'situation', 'outside', 'country', 'neighbouring', 'cameroon', 'chad', 'congo', 'democratic', 'republic', 'congo', 'putting', 'strain', 'already', 'scarce', 'resources']\n",
      "\n"
     ]
    }
   ],
   "source": [
    "idx = 2\n",
    "\n",
    "compare_text(train_df['text'][idx], train_df['cleaned_text'][idx], train_df['tokenized_text'][idx])"
   ],
   "metadata": {
    "collapsed": false,
    "pycharm": {
     "name": "#%%\n"
    }
   }
  },
  {
   "cell_type": "code",
   "execution_count": 20,
   "outputs": [
    {
     "name": "stdout",
     "output_type": "stream",
     "text": [
      "Text before preprocessing: \n",
      " The Libyan Coastguard found 80 survivors clinging to their almost airless raft with seven bodies floating nearby. AFP also reported that the Tunisian coastguard had picked up a boat whose 126 passengers had been drifting without an engine for two days. On board was the body of a woman.  \n",
      "Text after preprocessing: \n",
      " the libyan coastguard found < num > survivors clinging to their almost airless raft with seven bodies floating nearby afp also reported that the tunisian coastguard had picked up a boat whose < num > passengers had been drifting without an engine for two days on board was the body of a woman  \n",
      "Text after tokenization: \n",
      " ['libyan', 'coastguard', 'found', '<', 'num', '>', 'survivors', 'clinging', 'almost', 'airless', 'raft', 'seven', 'bodies', 'floating', 'nearby', 'afp', 'also', 'reported', 'tunisian', 'coastguard', 'picked', 'boat', 'whose', '<', 'num', '>', 'passengers', 'drifting', 'without', 'engine', 'two', 'days', 'board', 'body', 'woman']\n",
      "\n"
     ]
    }
   ],
   "source": [
    "idx = 42\n",
    "\n",
    "compare_text(train_df['text'][idx], train_df['cleaned_text'][idx], train_df['tokenized_text'][idx])"
   ],
   "metadata": {
    "collapsed": false,
    "pycharm": {
     "name": "#%%\n"
    }
   }
  },
  {
   "cell_type": "code",
   "execution_count": 21,
   "outputs": [
    {
     "name": "stdout",
     "output_type": "stream",
     "text": [
      "Text before preprocessing: \n",
      " Crisis (IPC Phase 3) could be observed in the Diffa region on Niger and in the Lake Chad region where the security crisis continue to disrupt main livelihoods and the normal functioning of markets which are experiencing significant increases in food prices. In Chad, the gradual resumption of trade with Libya following the opening of the border is contributing to improved food security conditions in the region of Borkou-Ennedi-Tibesti (BET) and Bahr El Gazal (BEG), and will assist in bringing areas currently in Crisis (IPC Phase 3) to Stressed (IPC Phase 2).\n",
      "Text after preprocessing: \n",
      " crisis ipc phase < num > could be observed in the diffa region on niger and in the lake chad region where the security crisis continue to disrupt main livelihoods and the normal functioning of markets which are experiencing significant increases in food prices in chad the gradual resumption of trade with libya following the opening of the border is contributing to improved food security conditions in the region of borkouenneditibesti bet and bahr el gazal beg and will assist in bringing areas currently in crisis ipc phase < num > to stressed ipc phase < num >\n",
      "Text after tokenization: \n",
      " ['crisis', 'ipc', 'phase', '<', 'num', '>', 'could', 'observed', 'diffa', 'region', 'niger', 'lake', 'chad', 'region', 'security', 'crisis', 'continue', 'disrupt', 'main', 'livelihoods', 'normal', 'functioning', 'markets', 'experiencing', 'significant', 'increases', 'food', 'prices', 'chad', 'gradual', 'resumption', 'trade', 'libya', 'following', 'opening', 'border', 'contributing', 'improved', 'food', 'security', 'conditions', 'region', 'borkouenneditibesti', 'bet', 'bahr', 'el', 'gazal', 'beg', 'assist', 'bringing', 'areas', 'currently', 'crisis', 'ipc', 'phase', '<', 'num', '>', 'stressed', 'ipc', 'phase', '<', 'num', '>']\n",
      "\n"
     ]
    }
   ],
   "source": [
    "idx = 100\n",
    "\n",
    "compare_text(train_df['text'][idx], train_df['cleaned_text'][idx], train_df['tokenized_text'][idx])"
   ],
   "metadata": {
    "collapsed": false,
    "pycharm": {
     "name": "#%%\n"
    }
   }
  },
  {
   "cell_type": "markdown",
   "source": [
    "# Dictionary"
   ],
   "metadata": {
    "collapsed": false,
    "pycharm": {
     "name": "#%% md\n"
    }
   }
  },
  {
   "cell_type": "code",
   "execution_count": 22,
   "outputs": [],
   "source": [
    "# create dictionary using train set\n",
    "def create_dictionary(tokenized_text):\n",
    "    \"\"\"\n",
    "    Create dictionary using train set\n",
    "    :param tokenized_text: tokenized text, list\n",
    "    :return: dictionary, dict\n",
    "    \"\"\"\n",
    "    dictionary = {}\n",
    "    for tokens in tokenized_text:\n",
    "        for token in tokens:\n",
    "            if token not in dictionary:\n",
    "                dictionary[token] = 1\n",
    "            else:\n",
    "                dictionary[token] += 1\n",
    "    return dictionary"
   ],
   "metadata": {
    "collapsed": false,
    "pycharm": {
     "name": "#%%\n"
    }
   }
  },
  {
   "cell_type": "code",
   "execution_count": 23,
   "outputs": [],
   "source": [
    "dictionary = create_dictionary(train_df['tokenized_text'])"
   ],
   "metadata": {
    "collapsed": false,
    "pycharm": {
     "name": "#%%\n"
    }
   }
  },
  {
   "cell_type": "code",
   "execution_count": 24,
   "outputs": [
    {
     "name": "stdout",
     "output_type": "stream",
     "text": [
      "Length of dictionary:  39214\n"
     ]
    }
   ],
   "source": [
    "# print length of dictionary\n",
    "print('Length of dictionary: ', len(dictionary))"
   ],
   "metadata": {
    "collapsed": false,
    "pycharm": {
     "name": "#%%\n"
    }
   }
  },
  {
   "cell_type": "code",
   "execution_count": 25,
   "outputs": [
    {
     "name": "stdout",
     "output_type": "stream",
     "text": [
      "Most common words in dictionary:  [('num', 84031), ('<', 84029), ('>', 84029), ('food', 11462), ('people', 10794), ('water', 8105), ('cases', 7310), ('reported', 7044), ('children', 6776), ('health', 6304)]\n"
     ]
    }
   ],
   "source": [
    "# print most common words in dictionary\n",
    "print('Most common words in dictionary: ', sorted(dictionary.items(), key=lambda x: x[1], reverse=True)[:10])"
   ],
   "metadata": {
    "collapsed": false,
    "pycharm": {
     "name": "#%%\n"
    }
   }
  },
  {
   "cell_type": "code",
   "execution_count": 26,
   "outputs": [],
   "source": [
    "# keep only top-N most frequent words\n",
    "# removing any word with a lower frequency than a threshold\n",
    "# OOV (out-of-vocabulary) words will be replaced with the <oov> token\n",
    "def clean_dictionary(dictionary, N: int, threshold: int):\n",
    "    \"\"\"\n",
    "    Clean dictionary by keeping only top-N most frequent words and removing any word with a lower frequency than a threshold\n",
    "    :param dictionary: dictionary, dict\n",
    "    :param N: top-N most frequent words, int\n",
    "    :param threshold: threshold of word frequency, int\n",
    "    :return: cleaned dictionary, dict\n",
    "    \"\"\"\n",
    "    # keep only top-N most frequent words\n",
    "    dictionary = dict(sorted(dictionary.items(), key=lambda x: x[1], reverse=True)[:N])\n",
    "\n",
    "    # replace any word with a lower frequency than a threshold\n",
    "    del_list = []\n",
    "    for key, value in dictionary.copy().items():\n",
    "        if value < threshold:\n",
    "            dictionary['<oov>'] = dictionary.get('<oov>', 0) + value\n",
    "            dictionary.pop(key)\n",
    "    return dictionary"
   ],
   "metadata": {
    "collapsed": false,
    "pycharm": {
     "name": "#%%\n"
    }
   }
  },
  {
   "cell_type": "code",
   "execution_count": 27,
   "outputs": [],
   "source": [
    "dictionary = clean_dictionary(dictionary, N=100_000, threshold=5)"
   ],
   "metadata": {
    "collapsed": false,
    "pycharm": {
     "name": "#%%\n"
    }
   }
  },
  {
   "cell_type": "code",
   "execution_count": 28,
   "outputs": [
    {
     "name": "stdout",
     "output_type": "stream",
     "text": [
      "Length of dictionary:  12579\n"
     ]
    }
   ],
   "source": [
    "# print length of dictionary\n",
    "print('Length of dictionary: ', len(dictionary))"
   ],
   "metadata": {
    "collapsed": false,
    "pycharm": {
     "name": "#%%\n"
    }
   }
  },
  {
   "cell_type": "code",
   "execution_count": 29,
   "outputs": [
    {
     "data": {
      "text/plain": "[('num', 84031),\n ('<', 84029),\n ('>', 84029),\n ('<oov>', 45754),\n ('food', 11462),\n ('people', 10794),\n ('water', 8105),\n ('cases', 7310),\n ('reported', 7044),\n ('children', 6776),\n ('health', 6304),\n ('areas', 6021),\n ('affected', 5216),\n ('access', 4649),\n ('due', 4324),\n ('also', 4242),\n ('said', 3907),\n ('including', 3903),\n ('humanitarian', 3782),\n ('per', 3678),\n ('displaced', 3510),\n ('since', 3432),\n ('percent', 3217),\n ('million', 3162),\n ('households', 3117),\n ('security', 3094),\n ('need', 3042),\n ('assistance', 3011),\n ('number', 2916),\n ('refugees', 2907),\n ('cent', 2831),\n ('country', 2807),\n ('many', 2756),\n ('two', 2755),\n ('services', 2749),\n ('needs', 2731),\n ('one', 2721),\n ('families', 2695),\n ('lack', 2609),\n ('government', 2584),\n ('new', 2543),\n ('population', 2517),\n ('according', 2506),\n ('region', 2478),\n ('may', 2468),\n ('deaths', 2459),\n ('city', 2438),\n ('situation', 2401),\n ('total', 2368),\n ('high', 2351),\n ('area', 2333),\n ('women', 2318),\n ('idps', 2298),\n ('cholera', 2287),\n ('prices', 2282),\n ('state', 2271),\n ('emergency', 2246),\n ('schools', 2197),\n ('year', 2166),\n ('insecurity', 2165),\n ('malnutrition', 2154),\n ('acute', 2138),\n ('last', 2088),\n ('risk', 2082),\n ('poor', 2061),\n ('phase', 2050),\n ('local', 2038),\n ('week', 2032),\n ('south', 2021),\n ('season', 2007),\n ('camps', 1991),\n ('facilities', 1986),\n ('three', 1940),\n ('ipc', 1934),\n ('estimated', 1897),\n ('crisis', 1887),\n ('march', 1887),\n ('conflict', 1862),\n ('outbreak', 1859),\n ('medical', 1806),\n ('damaged', 1805),\n ('conditions', 1801),\n ('support', 1797),\n ('increased', 1790),\n ('january', 1784),\n ('years', 1774),\n ('continue', 1759),\n ('across', 1738),\n ('school', 1718),\n ('among', 1706),\n ('shelter', 1689),\n ('communities', 1680),\n ('least', 1679),\n ('violence', 1661),\n ('increase', 1659),\n ('houses', 1659),\n ('education', 1634),\n ('protection', 1630),\n ('camp', 1627),\n ('expected', 1620),\n ('remain', 1619),\n ('severe', 1616),\n ('average', 1611),\n ('suspected', 1608),\n ('still', 1585),\n ('months', 1572),\n ('april', 1570),\n ('february', 1563),\n ('well', 1558),\n ('however', 1545),\n ('production', 1534),\n ('destroyed', 1526),\n ('limited', 1522),\n ('five', 1477),\n ('living', 1470),\n ('national', 1466),\n ('authorities', 1460),\n ('levels', 1446),\n ('main', 1443),\n ('rains', 1426),\n ('basic', 1409),\n ('homes', 1403),\n ('province', 1390),\n ('response', 1381),\n ('likely', 1380),\n ('west', 1372),\n ('regions', 1371),\n ('sanitation', 1359),\n ('livestock', 1355),\n ('care', 1343),\n ('central', 1341),\n ('community', 1321),\n ('district', 1295),\n ('report', 1277),\n ('around', 1267),\n ('killed', 1266),\n ('forces', 1264),\n ('confirmed', 1261),\n ('case', 1254),\n ('mosul', 1249),\n ('armed', 1240),\n ('supplies', 1234),\n ('compared', 1231),\n ('currently', 1229),\n ('several', 1228),\n ('civilians', 1224),\n ('result', 1220),\n ('june', 1219),\n ('december', 1212),\n ('displacement', 1205),\n ('districts', 1205),\n ('nutrition', 1202),\n ('vulnerable', 1195),\n ('drought', 1190),\n ('partners', 1185),\n ('aid', 1184),\n ('north', 1183),\n ('human', 1176),\n ('residents', 1169),\n ('particularly', 1162),\n ('period', 1160),\n ('heavy', 1158),\n ('groups', 1157),\n ('northern', 1156),\n ('rainfall', 1156),\n ('southern', 1150),\n ('east', 1148),\n ('reports', 1148),\n ('rate', 1145),\n ('parts', 1128),\n ('rights', 1127),\n ('four', 1124),\n ('without', 1099),\n ('hospital', 1096),\n ('recent', 1095),\n ('reportedly', 1092),\n ('supply', 1091),\n ('following', 1090),\n ('eastern', 1087),\n ('refugee', 1082),\n ('october', 1073),\n ('crops', 1070),\n ('september', 1067),\n ('remains', 1060),\n ('already', 1058),\n ('forced', 1054),\n ('time', 1052),\n ('shelters', 1049),\n ('villages', 1046),\n ('ongoing', 1044),\n ('disease', 1036),\n ('un', 1034),\n ('assessment', 1027),\n ('town', 1021),\n ('sites', 1018),\n ('military', 1017),\n ('first', 1004),\n ('damage', 1003),\n ('international', 998),\n ('could', 998),\n ('addition', 997),\n ('maize', 994),\n ('markets', 992),\n ('majority', 986),\n ('especially', 985),\n ('significant', 980),\n ('caused', 978),\n ('month', 977),\n ('items', 972),\n ('agricultural', 965),\n ('nearly', 964),\n ('idp', 957),\n ('activities', 956),\n ('fuel', 952),\n ('household', 946),\n ('floods', 945),\n ('day', 945),\n ('severely', 934),\n ('six', 933),\n ('girls', 933),\n ('continued', 932),\n ('safe', 929),\n ('august', 928),\n ('drinking', 927),\n ('days', 924),\n ('treatment', 922),\n ('livelihoods', 921),\n ('even', 921),\n ('low', 919),\n ('early', 916),\n ('public', 914),\n ('recorded', 908),\n ('diseases', 903),\n ('sources', 898),\n ('border', 897),\n ('approximately', 897),\n ('ministry', 890),\n ('continues', 889),\n ('child', 888),\n ('land', 888),\n ('level', 887),\n ('states', 885),\n ('crop', 885),\n ('wash', 882),\n ('attacks', 879),\n ('persons', 879),\n ('hygiene', 879),\n ('weeks', 879),\n ('western', 867),\n ('injured', 863),\n ('host', 861),\n ('impact', 857),\n ('rural', 851),\n ('return', 848),\n ('provinces', 847),\n ('flooding', 841),\n ('sudan', 840),\n ('al', 840),\n ('received', 837),\n ('unhcr', 831),\n ('half', 823),\n ('available', 818),\n ('face', 816),\n ('market', 816),\n ('past', 815),\n ('el', 814),\n ('july', 814),\n ('electricity', 810),\n ('end', 810),\n ('concern', 809),\n ('patients', 809),\n ('infrastructure', 808),\n ('county', 808),\n ('november', 804),\n ('critical', 800),\n ('current', 790),\n ('power', 788),\n ('river', 788),\n ('died', 776),\n ('others', 775),\n ('centres', 775),\n ('major', 774),\n ('harvest', 769),\n ('hospitals', 767),\n ('livelihood', 761),\n ('provide', 754),\n ('use', 753),\n ('urgent', 749),\n ('increasing', 746),\n ('shortages', 742),\n ('death', 740),\n ('fighting', 738),\n ('measles', 734),\n ('men', 733),\n ('insecure', 726),\n ('thousands', 722),\n ('left', 717),\n ('availability', 716),\n ('group', 713),\n ('family', 709),\n ('age', 702),\n ('gaza', 697),\n ('farmers', 696),\n ('near', 695),\n ('higher', 694),\n ('counties', 691),\n ('settlements', 691),\n ('identified', 689),\n ('despite', 688),\n ('almost', 686),\n ('syrian', 684),\n ('within', 682),\n ('less', 682),\n ('told', 682),\n ('rates', 677),\n ('reduced', 675),\n ('price', 665),\n ('system', 663),\n ('fled', 662),\n ('rice', 660),\n ('reporting', 656),\n ('provided', 651),\n ('found', 650),\n ('relief', 650),\n ('would', 648),\n ('village', 647),\n ('israeli', 645),\n ('migrants', 644),\n ('large', 641),\n ('source', 640),\n ('facing', 638),\n ('include', 637),\n ('unicef', 636),\n ('beginning', 635),\n ('work', 635),\n ('operations', 633),\n ('income', 631),\n ('led', 630),\n ('members', 629),\n ('control', 628),\n ('far', 626),\n ('affecting', 624),\n ('related', 622),\n ('previous', 622),\n ('additional', 621),\n ('syria', 619),\n ('somalia', 617),\n ('spread', 616),\n ('populations', 615),\n ('although', 615),\n ('consumption', 613),\n ('capacity', 612),\n ('resources', 610),\n ('needed', 609),\n ('movement', 609),\n ('concerns', 608),\n ('overall', 608),\n ('workers', 603),\n ('centre', 600),\n ('red', 600),\n ('conducted', 598),\n ('outbreaks', 595),\n ('along', 590),\n ('palestinian', 587),\n ('hit', 586),\n ('part', 585),\n ('management', 583),\n ('lost', 581),\n ('returnees', 577),\n ('risks', 576),\n ('agriculture', 574),\n ('resulted', 572),\n ('mainly', 571),\n ('arrivals', 571),\n ('shortage', 570),\n ('world', 570),\n ('individuals', 569),\n ('highest', 568),\n ('seven', 567),\n ('serious', 567),\n ('another', 566),\n ('staff', 564),\n ('information', 564),\n ('outcomes', 564),\n ('sexual', 561),\n ('capital', 559),\n ('opportunities', 556),\n ('lower', 556),\n ('attack', 551),\n ('police', 550),\n ('rain', 550),\n ('used', 548),\n ('sector', 547),\n ('primary', 545),\n ('often', 545),\n ('data', 543),\n ('working', 542),\n ('official', 538),\n ('close', 537),\n ('open', 535),\n ('internally', 534),\n ('locations', 533),\n ('roads', 527),\n ('reach', 525),\n ('place', 524),\n ('incidents', 523),\n ('require', 523),\n ('distribution', 522),\n ('coping', 522),\n ('yemen', 521),\n ('essential', 520),\n ('improved', 520),\n ('latrines', 520),\n ('meet', 515),\n ('closed', 514),\n ('wfp', 514),\n ('live', 512),\n ('dry', 512),\n ('able', 511),\n ('started', 507),\n ('malaria', 506),\n ('normal', 502),\n ('reached', 502),\n ('registered', 501),\n ('economic', 500),\n ('civilian', 498),\n ('significantly', 497),\n ('pregnant', 496),\n ('challenges', 495),\n ('lean', 492),\n ('governorate', 491),\n ('key', 490),\n ('lives', 488),\n ('social', 487),\n ('us', 486),\n ('fever', 486),\n ('late', 486),\n ('long', 485),\n ('healthcare', 484),\n ('start', 484),\n ('suffering', 483),\n ('urban', 481),\n ('outside', 480),\n ('efforts', 480),\n ('like', 479),\n ('th', 478),\n ('rohingya', 477),\n ('fatality', 475),\n ('based', 473),\n ('service', 472),\n ('order', 472),\n ('located', 471),\n ('countries', 471),\n ('difficult', 471),\n ('actors', 469),\n ('bank', 467),\n ('darfur', 467),\n ('remained', 465),\n ('teachers', 465),\n ('governorates', 465),\n ('arrived', 464),\n ('second', 464),\n ('resulting', 463),\n ('daily', 462),\n ('adequate', 461),\n ('providing', 460),\n ('hours', 460),\n ('somali', 460),\n ('sam', 459),\n ('medicines', 457),\n ('negative', 457),\n ('given', 456),\n ('says', 455),\n ('plan', 455),\n ('libya', 453),\n ('department', 453),\n ('leaving', 453),\n ('ethiopia', 453),\n ('countrys', 452),\n ('pastoral', 450),\n ('malnourished', 448),\n ('site', 447),\n ('army', 446),\n ('united', 446),\n ('zones', 445),\n ('numbers', 445),\n ('unable', 445),\n ('road', 444),\n ('harvests', 444),\n ('rakhine', 443),\n ('home', 441),\n ('centers', 439),\n ('figure', 439),\n ('safety', 439),\n ('cross', 438),\n ('flood', 438),\n ('eight', 437),\n ('stocks', 434),\n ('cfr', 434),\n ('republic', 433),\n ('nigeria', 432),\n ('causing', 432),\n ('recently', 432),\n ('rise', 430),\n ('restrictions', 429),\n ('officials', 429),\n ('clashes', 429),\n ('targeted', 428),\n ('returned', 427),\n ('mostly', 426),\n ('throughout', 426),\n ('niger', 425),\n ('loss', 425),\n ('disaster', 424),\n ('hectares', 424),\n ('kenya', 424),\n ('clean', 423),\n ('made', 423),\n ('hundreds', 423),\n ('civil', 422),\n ('staple', 422),\n ('students', 420),\n ('yet', 420),\n ('temporary', 419),\n ('rainy', 418),\n ('cash', 418),\n ('organization', 417),\n ('small', 416),\n ('agencies', 415),\n ('widespread', 414),\n ('much', 414),\n ('casualties', 413),\n ('ensure', 413),\n ('nonfood', 407),\n ('injuries', 406),\n ('funding', 406),\n ('km', 403),\n ('buildings', 403),\n ('war', 402),\n ('cereal', 402),\n ('development', 401),\n ('cyclone', 401),\n ('stressed', 400),\n ('nations', 400),\n ('detention', 399),\n ('today', 398),\n ('indicate', 398),\n ('immediate', 396),\n ('zone', 394),\n ('dengue', 392),\n ('destruction', 390),\n ('regional', 390),\n ('issues', 389),\n ('experienced', 389),\n ('agency', 389),\n ('organizations', 388),\n ('media', 387),\n ('coming', 387),\n ('respectively', 387),\n ('away', 386),\n ('quality', 385),\n ('indicated', 384),\n ('began', 384),\n ('gam', 384),\n ('general', 384),\n ('awd', 383),\n ('every', 382),\n ('leading', 382),\n ('northeast', 381),\n ('presence', 380),\n ('back', 380),\n ('newly', 380),\n ('priority', 380),\n ('observed', 379),\n ('next', 379),\n ('famine', 379),\n ('nine', 378),\n ('partially', 377),\n ('decline', 377),\n ('different', 376),\n ('inadequate', 376),\n ('enough', 376),\n ('provision', 376),\n ('help', 375),\n ('interventions', 372),\n ('fleeing', 372),\n ('inside', 372),\n ('required', 371),\n ('life', 371),\n ('tuesday', 369),\n ('greater', 369),\n ('political', 369),\n ('seasonal', 368),\n ('functioning', 368),\n ('wheat', 368),\n ('possible', 367),\n ('rapid', 367),\n ('cluster', 367),\n ('trade', 365),\n ('diarrhoea', 365),\n ('using', 363),\n ('office', 363),\n ('remaining', 363),\n ('leave', 363),\n ('results', 363),\n ('chronic', 359),\n ('gaps', 359),\n ('old', 359),\n ('receive', 359),\n ('borno', 358),\n ('survey', 358),\n ('poverty', 357),\n ('date', 357),\n ('take', 356),\n ('make', 356),\n ('fear', 356),\n ('systems', 354),\n ('analysis', 354),\n ('points', 352),\n ('materials', 352),\n ('fire', 351),\n ('followed', 351),\n ('assessed', 350),\n ('flee', 350),\n ('cattle', 349),\n ('prevent', 348),\n ('decrease', 347),\n ('nile', 347),\n ('myanmar', 347),\n ('say', 346),\n ('get', 346),\n ('times', 344),\n ('victims', 344),\n ('center', 343),\n ('prevalence', 343),\n ('measures', 342),\n ('taken', 342),\n ('positive', 342),\n ('radio', 341),\n ('bangladesh', 340),\n ('vaccination', 339),\n ('means', 338),\n ('labor', 338),\n ('though', 336),\n ('monday', 336),\n ('various', 335),\n ('global', 334),\n ('madagascar', 334),\n ('seen', 333),\n ('deterioration', 333),\n ('important', 333),\n ('accessing', 332),\n ('extremely', 331),\n ('occurred', 331),\n ('cut', 331),\n ('lifesaving', 331),\n ('become', 331),\n ('laboratory', 331),\n ('housing', 330),\n ('young', 330),\n ('team', 330),\n ('iraqi', 329),\n ('structures', 329),\n ('chad', 328),\n ('landslides', 328),\n ('violations', 327),\n ('go', 327),\n ('delivery', 327),\n ('latest', 327),\n ('worst', 327),\n ('losses', 326),\n ('estimates', 325),\n ('campaign', 325),\n ('weather', 325),\n ('third', 324),\n ('line', 322),\n ('see', 322),\n ('boys', 322),\n ('either', 321),\n ('mission', 321),\n ('strategies', 320),\n ('operation', 320),\n ('improve', 320),\n ('epidemic', 319),\n ('earlier', 319),\n ('iraq', 319),\n ('cumulative', 318),\n ('storm', 318),\n ('trend', 317),\n ('commodities', 317),\n ('nfis', 316),\n ('ghouta', 316),\n ('towns', 315),\n ('damascus', 315),\n ('belowaverage', 314),\n ('earthquake', 314),\n ('quarter', 314),\n ('building', 314),\n ('fall', 313),\n ('affect', 313),\n ('facility', 311),\n ('assessments', 311),\n ('terms', 310),\n ('evacuation', 310),\n ('held', 310),\n ('influx', 310),\n ('extreme', 310),\n ('shelling', 310),\n ('teams', 308),\n ('imports', 308),\n ('disrupted', 308),\n ('wednesday', 308),\n ('monitoring', 307),\n ('demand', 307),\n ('reasons', 306),\n ('sorghum', 306),\n ('sudanese', 305),\n ('medicine', 303),\n ('hunger', 301),\n ('flooded', 301),\n ('impacted', 301),\n ('goods', 300),\n ('diffa', 300),\n ('soldiers', 299),\n ('settlement', 299),\n ('factors', 299),\n ('sufficient', 298),\n ('derna', 298),\n ('aleppo', 298),\n ('makeshift', 298),\n ('network', 297),\n ('little', 297),\n ('doctors', 296),\n ('minister', 296),\n ('detained', 295),\n ('respondents', 295),\n ('property', 294),\n ('move', 294),\n ('decreased', 293),\n ('islamic', 293),\n ('neighbouring', 292),\n ('person', 292),\n ('carried', 291),\n ('coverage', 291),\n ('strong', 291),\n ('sunday', 291),\n ('absence', 291),\n ('therefore', 290),\n ('increases', 290),\n ('taking', 290),\n ('set', 290),\n ('pasture', 289),\n ('abuse', 287),\n ('fully', 287),\n ('physical', 286),\n ('ground', 286),\n ('put', 286),\n ('better', 286),\n ('killing', 284),\n ('departments', 284),\n ('receiving', 283),\n ('challenge', 283),\n ('insufficient', 282),\n ('alert', 282),\n ('returning', 281),\n ('cost', 281),\n ('active', 281),\n ('msf', 280),\n ('africa', 280),\n ('african', 279),\n ('lead', 279),\n ('money', 278),\n ('friday', 278),\n ('secondary', 278),\n ('pressure', 277),\n ('scale', 277),\n ('particular', 277),\n ('law', 276),\n ('deteriorate', 276),\n ('transmission', 276),\n ('sustained', 275),\n ('coast', 275),\n ('attacked', 275),\n ('night', 274),\n ('experiencing', 273),\n ('ago', 273),\n ('sea', 272),\n ('suffered', 271),\n ('watery', 271),\n ('aged', 270),\n ('flour', 270),\n ('took', 270),\n ('council', 270),\n ('equipment', 270),\n ('dead', 269),\n ('fields', 269),\n ('explosive', 268),\n ('suffer', 268),\n ('added', 268),\n ('juba', 267),\n ('private', 267),\n ('informal', 267),\n ('growing', 267),\n ('boko', 266),\n ('nutritional', 266),\n ('reduction', 266),\n ('overcrowded', 265),\n ('southeastern', 265),\n ('president', 265),\n ('dire', 265),\n ('potential', 264),\n ('supported', 264),\n ('kasai', 264),\n ('remote', 264),\n ('problems', 263),\n ('good', 263),\n ('towards', 263),\n ('running', 263),\n ('animals', 262),\n ('threat', 262),\n ('largely', 262),\n ('foods', 261),\n ('waterborne', 261),\n ('alone', 261),\n ('hurricane', 261),\n ('coordination', 260),\n ('completely', 260),\n ('elderly', 260),\n ('coastal', 260),\n ('cause', 259),\n ('released', 259),\n ('urgently', 259),\n ('learning', 259),\n ('damages', 259),\n ('farming', 258),\n ('moderate', 258),\n ('classified', 258),\n ('cover', 258),\n ('car', 257),\n ('associated', 257),\n ('psychosocial', 256),\n ('e', 256),\n ('milk', 256),\n ('committee', 256),\n ('samples', 256),\n ('places', 256),\n ('missing', 256),\n ('longer', 255),\n ('declared', 255),\n ('common', 255),\n ('airstrikes', 255),\n ('winter', 255),\n ('island', 254),\n ('action', 252),\n ('vulnerability', 252),\n ('figures', 252),\n ('costs', 252),\n ('existing', 251),\n ('slightly', 251),\n ('force', 251),\n ('programme', 250),\n ('congo', 249),\n ('prolonged', 249),\n ('status', 249),\n ('largest', 249),\n ('collapsed', 249),\n ('mortality', 249),\n ('asylum', 249),\n ('watch', 248),\n ('trauma', 248),\n ('isil', 248),\n ('infections', 247),\n ('distributed', 246),\n ('increasingly', 246),\n ('issued', 246),\n ('thursday', 245),\n ('table', 245),\n ('kits', 245),\n ('faced', 244),\n ('opposition', 244),\n ('territory', 244),\n ('financial', 244),\n ('accessible', 243),\n ('present', 243),\n ('purchasing', 243),\n ('practices', 243),\n ('origin', 242),\n ('drc', 242),\n ('surrounding', 241),\n ('issue', 241),\n ('domestic', 241),\n ('known', 240),\n ('nearby', 240),\n ('station', 240),\n ('relatives', 240),\n ('director', 240),\n ('documented', 239),\n ('tropical', 238),\n ('making', 238),\n ('oil', 238),\n ('regular', 238),\n ('rising', 238),\n ('natural', 238),\n ('evacuated', 237),\n ('come', 237),\n ('uganda', 237),\n ('assets', 236),\n ('afghanistan', 236),\n ('labour', 236),\n ('governments', 235),\n ('genderbased', 235),\n ('direct', 235),\n ('northeastern', 235),\n ('migration', 235),\n ('mobile', 234),\n ('way', 234),\n ('cities', 234),\n ('wells', 234),\n ('field', 234),\n ('gas', 232),\n ('iom', 232),\n ('de', 232),\n ('legal', 231),\n ('parents', 231),\n ('minimum', 231),\n ('treated', 231),\n ('minimal', 231),\n ('considered', 231),\n ('included', 230),\n ('flash', 230),\n ('problem', 230),\n ('diarrhea', 230),\n ('sectors', 230),\n ('effects', 230),\n ('arrival', 229),\n ('noted', 229),\n ('gender', 228),\n ('initial', 228),\n ('female', 227),\n ('address', 227),\n ('cooking', 227),\n ('crossing', 227),\n ('must', 227),\n ('declined', 227),\n ('jerusalem', 227),\n ('democratic', 226),\n ('short', 226),\n ('wounded', 226),\n ('prior', 226),\n ('recovery', 226),\n ('announced', 225),\n ('probable', 225),\n ('tonnes', 224),\n ('peoples', 224),\n ('plant', 224),\n ('neighbourhoods', 224),\n ('showed', 223),\n ('generally', 223),\n ('furthermore', 222),\n ('onset', 222),\n ('meals', 222),\n ('similar', 222),\n ('proportion', 222),\n ('mechanisms', 221),\n ('point', 220),\n ('directly', 220),\n ('haram', 219),\n ('managed', 219),\n ('arraqqa', 218),\n ('personnel', 218),\n ('search', 217),\n ('former', 217),\n ('net', 217),\n ('targeting', 217),\n ('deirezzor', 217),\n ('process', 217),\n ('show', 216),\n ('experience', 216),\n ('ability', 215),\n ('consecutive', 215),\n ('shows', 215),\n ('oromia', 215),\n ('air', 215),\n ('planted', 215),\n ('concerned', 215),\n ('forecast', 214),\n ('statement', 214),\n ('thus', 214),\n ('joint', 214),\n ('arrested', 213),\n ('winds', 213),\n ('irrigation', 212),\n ('movements', 212),\n ('head', 212),\n ('functional', 212),\n ('rely', 212),\n ('multiple', 212),\n ('worse', 212),\n ('commercial', 211),\n ('authority', 211),\n ...]"
     },
     "execution_count": 29,
     "metadata": {},
     "output_type": "execute_result"
    }
   ],
   "source": [
    "sorted(dictionary.items(), key=lambda x: x[1], reverse=True)"
   ],
   "metadata": {
    "collapsed": false,
    "pycharm": {
     "name": "#%%\n"
    }
   }
  },
  {
   "cell_type": "code",
   "execution_count": 30,
   "outputs": [
    {
     "name": "stdout",
     "output_type": "stream",
     "text": [
      "Most common words in dictionary:  [('num', 84031), ('<', 84029), ('>', 84029), ('<oov>', 45754), ('food', 11462), ('people', 10794), ('water', 8105), ('cases', 7310), ('reported', 7044), ('children', 6776)]\n",
      "Least common words in dictionary:  [('assuming', 5), ('lalpur', 5), ('message', 5), ('hinatuan', 5), ('crucially', 5), ('miranda', 5), ('ancestral', 5), ('coastguard', 5), ('tunisian', 5), ('mushrooms', 5)]\n"
     ]
    }
   ],
   "source": [
    "# print most common words in dictionary\n",
    "print('Most common words in dictionary: ', sorted(dictionary.items(), key=lambda x: x[1], reverse=True)[:10])\n",
    "print('Least common words in dictionary: ', sorted(dictionary.items(), key=lambda x: x[1], reverse=False)[:10])"
   ],
   "metadata": {
    "collapsed": false,
    "pycharm": {
     "name": "#%%\n"
    }
   }
  },
  {
   "cell_type": "markdown",
   "source": [
    "# Creating Sentence Vectors"
   ],
   "metadata": {
    "collapsed": false,
    "pycharm": {
     "name": "#%% md\n"
    }
   }
  },
  {
   "cell_type": "markdown",
   "source": [
    "## TF-IDF"
   ],
   "metadata": {
    "collapsed": false,
    "pycharm": {
     "name": "#%% md\n"
    }
   }
  },
  {
   "cell_type": "code",
   "execution_count": null,
   "outputs": [],
   "source": [
    "# define term frequency\n",
    "def term_frequency(word, tokenized_text):\n",
    "    \"\"\"\n",
    "    Calculate term frequency\n",
    "    :param word: word, str\n",
    "    :param tokenized_text: tokenized text, list\n",
    "    :return: term frequency, float\n",
    "    \"\"\"\n",
    "    return np.log(tokenized_text.count(word) + 1)\n",
    "\n",
    "# define inverse document frequency\n",
    "def inverse_document_frequency(word, tokenized_text_list):\n",
    "    \"\"\"\n",
    "    Calculate inverse document frequency\n",
    "    :param word: word, str\n",
    "    :param tokenized_text_list: list of tokenized texts, list\n",
    "    :return: inverse document frequency, float\n",
    "    \"\"\"\n",
    "    num_texts_containing_word = sum(word in tokenized_text for tokenized_text in tokenized_text_list)\n",
    "    return np.log(len(tokenized_text_list) / (1 + num_texts_containing_word))\n",
    "\n",
    "# define tf-idf\n",
    "def tf_idf(word, tokenized_text, tokenized_text_list):\n",
    "    \"\"\"\n",
    "    Calculate tf-idf\n",
    "    :param word: word, str\n",
    "    :param tokenized_text: tokenized text, list\n",
    "    :param tokenized_text_list: list of tokenized texts, list\n",
    "    :return: tf-idf, float\n",
    "    \"\"\"\n",
    "    return term_frequency(word, tokenized_text) * inverse_document_frequency(word, tokenized_text_list)"
   ],
   "metadata": {
    "collapsed": false,
    "pycharm": {
     "name": "#%%\n"
    }
   }
  },
  {
   "cell_type": "code",
   "execution_count": 76,
   "outputs": [
    {
     "name": "stdout",
     "output_type": "stream",
     "text": [
      "TF-IDF of word \"num\" in text 1:  0.49453091743342825\n"
     ]
    }
   ],
   "source": [
    "\n",
    "# test\n",
    "print('TF-IDF of word \"num\" in text 1: ', tf_idf('num', train_df['tokenized_text'][0], train_df['tokenized_text']))"
   ],
   "metadata": {
    "collapsed": false,
    "pycharm": {
     "name": "#%%\n"
    }
   }
  },
  {
   "cell_type": "code",
   "execution_count": 67,
   "outputs": [
    {
     "data": {
      "text/plain": "  0%|          | 0/12579 [00:00<?, ?it/s]",
      "application/vnd.jupyter.widget-view+json": {
       "version_major": 2,
       "version_minor": 0,
       "model_id": "df7767a6a63942b09f1c611789a5a187"
      }
     },
     "metadata": {},
     "output_type": "display_data"
    }
   ],
   "source": [
    "# define idf for all words in dictionary using vectorization, from scratch\n",
    "def idf_all_words(dictionary, tokenized_text_list):\n",
    "    \"\"\"\n",
    "    Calculate idf for all words in dictionary using vectorization, from scratch\n",
    "    :param dictionary: dictionary, dict\n",
    "    :param tokenized_text_list: list of tokenized texts, list\n",
    "    :return: idf for all words in dictionary, dict\n",
    "    \"\"\"\n",
    "    return {word: inverse_document_frequency(word, tokenized_text_list) for word in tqdm(dictionary, total=len(dictionary))}\n",
    "\n",
    "idf = idf_all_words(dictionary, train_df['tokenized_text'])"
   ],
   "metadata": {
    "collapsed": false,
    "pycharm": {
     "name": "#%%\n"
    }
   }
  },
  {
   "cell_type": "code",
   "execution_count": 68,
   "outputs": [],
   "source": [
    "from tqdm.auto import tqdm\n",
    "\n",
    "# create tf-idf matrix\n",
    "def create_tf_idf_matrix(tokenized_text_list, dictionary, idf):\n",
    "    \"\"\"\n",
    "    Create tf-idf matrix\n",
    "    :param tokenized_text_list: list of tokenized texts, list\n",
    "    :param dictionary: dictionary, dict\n",
    "    :param idf: idf for all words in dictionary, dict\n",
    "    :return: tf-idf matrix, np.array\n",
    "    \"\"\"\n",
    "    tf_idf_matrix = np.zeros((len(tokenized_text_list), len(dictionary)))\n",
    "    for i, tokenized_text in enumerate(tqdm(tokenized_text_list, total=len(tokenized_text_list))):\n",
    "        for j, word in enumerate(dictionary):\n",
    "            tf_idf_matrix[i, j] = term_frequency(word, tokenized_text) * idf[word]\n",
    "    return tf_idf_matrix"
   ],
   "metadata": {
    "collapsed": false,
    "pycharm": {
     "name": "#%%\n"
    }
   }
  },
  {
   "cell_type": "code",
   "execution_count": 70,
   "outputs": [
    {
     "data": {
      "text/plain": "  0%|          | 0/26600 [00:00<?, ?it/s]",
      "application/vnd.jupyter.widget-view+json": {
       "version_major": 2,
       "version_minor": 0,
       "model_id": "735e1d61803f4427a94a42887d5adaea"
      }
     },
     "metadata": {},
     "output_type": "display_data"
    }
   ],
   "source": [
    "tf_idf_matrix_train = create_tf_idf_matrix(train_df['tokenized_text'], dictionary, idf)"
   ],
   "metadata": {
    "collapsed": false,
    "pycharm": {
     "name": "#%%\n"
    }
   }
  },
  {
   "cell_type": "code",
   "execution_count": 91,
   "outputs": [
    {
     "data": {
      "text/plain": "  0%|          | 0/5700 [00:00<?, ?it/s]",
      "application/vnd.jupyter.widget-view+json": {
       "version_major": 2,
       "version_minor": 0,
       "model_id": "a17d0950902b4b44bb09a6cf77171275"
      }
     },
     "metadata": {},
     "output_type": "display_data"
    },
    {
     "data": {
      "text/plain": "  0%|          | 0/5700 [00:00<?, ?it/s]",
      "application/vnd.jupyter.widget-view+json": {
       "version_major": 2,
       "version_minor": 0,
       "model_id": "8decdb24dcfa40be8dd7747fe90a95e2"
      }
     },
     "metadata": {},
     "output_type": "display_data"
    }
   ],
   "source": [
    "tf_idf_matrix_test = create_tf_idf_matrix(test_df['tokenized_text'], dictionary, idf)\n",
    "tf_idf_matrix_val = create_tf_idf_matrix(val_df['tokenized_text'], dictionary, idf)"
   ],
   "metadata": {
    "collapsed": false,
    "pycharm": {
     "name": "#%%\n"
    }
   }
  },
  {
   "cell_type": "code",
   "execution_count": 100,
   "outputs": [],
   "source": [
    "import pickle as pkl\n",
    "pkl.dump(tf_idf_matrix_train, open('tf_idf_matrix_train.pkl', 'wb'))\n",
    "pkl.dump(tf_idf_matrix_test, open('tf_idf_matrix_test.pkl', 'wb'))\n",
    "pkl.dump(tf_idf_matrix_val, open('tf_idf_matrix_val.pkl', 'wb'))"
   ],
   "metadata": {
    "collapsed": false,
    "pycharm": {
     "name": "#%%\n"
    }
   }
  },
  {
   "cell_type": "code",
   "execution_count": 94,
   "outputs": [
    {
     "data": {
      "text/plain": "array([[0.49453092, 0.49453092, 0.49453092, ..., 0.        , 0.        ,\n        0.        ],\n       [0.        , 0.        , 0.        , ..., 0.        , 0.        ,\n        0.        ],\n       [0.63917194, 0.63917194, 0.63917194, ..., 0.        , 0.        ,\n        0.        ],\n       ...,\n       [0.8864374 , 0.8864374 , 0.8864374 , ..., 0.        , 0.        ,\n        0.        ],\n       [0.49453092, 0.49453092, 0.49453092, ..., 0.        , 0.        ,\n        0.        ],\n       [0.63917194, 0.63917194, 0.63917194, ..., 0.        , 0.        ,\n        0.        ]])"
     },
     "execution_count": 94,
     "metadata": {},
     "output_type": "execute_result"
    }
   ],
   "source": [
    "tf_idf_matrix_train"
   ],
   "metadata": {
    "collapsed": false,
    "pycharm": {
     "name": "#%%\n"
    }
   }
  },
  {
   "cell_type": "code",
   "execution_count": 95,
   "outputs": [
    {
     "name": "stdout",
     "output_type": "stream",
     "text": [
      "Shape of tf-idf matrix:  (26600, 12579)\n",
      "Average tf-idf value of word \"num\" in text 1:  0.49453091743342825\n"
     ]
    }
   ],
   "source": [
    "# print shape of tf-idf matrix\n",
    "print('Shape of tf-idf matrix: ', tf_idf_matrix_train.shape)\n",
    "print('Average tf-idf value of word \"num\" in text 1: ', tf_idf_matrix_train[0, list(dictionary.keys()).index(list(dictionary.keys())[0])])"
   ],
   "metadata": {
    "collapsed": false,
    "pycharm": {
     "name": "#%%\n"
    }
   }
  },
  {
   "cell_type": "code",
   "execution_count": 96,
   "outputs": [
    {
     "data": {
      "text/plain": "0"
     },
     "execution_count": 96,
     "metadata": {},
     "output_type": "execute_result"
    }
   ],
   "source": [
    "list(dictionary.keys()).index(list(dictionary.keys())[0])"
   ],
   "metadata": {
    "collapsed": false,
    "pycharm": {
     "name": "#%%\n"
    }
   }
  },
  {
   "cell_type": "markdown",
   "source": [
    "## BM25"
   ],
   "metadata": {
    "collapsed": false,
    "pycharm": {
     "name": "#%% md\n"
    }
   }
  },
  {
   "cell_type": "code",
   "execution_count": 97,
   "outputs": [],
   "source": [
    "# TODO"
   ],
   "metadata": {
    "collapsed": false,
    "pycharm": {
     "name": "#%%\n"
    }
   }
  },
  {
   "cell_type": "markdown",
   "source": [
    "### Comparison"
   ],
   "metadata": {
    "collapsed": false,
    "pycharm": {
     "name": "#%% md\n"
    }
   }
  },
  {
   "cell_type": "code",
   "execution_count": 98,
   "outputs": [],
   "source": [
    "# TODO"
   ],
   "metadata": {
    "collapsed": false,
    "pycharm": {
     "name": "#%%\n"
    }
   }
  },
  {
   "cell_type": "markdown",
   "source": [
    "### Sparsity"
   ],
   "metadata": {
    "collapsed": false,
    "pycharm": {
     "name": "#%% md\n"
    }
   }
  },
  {
   "cell_type": "code",
   "execution_count": 99,
   "outputs": [
    {
     "name": "stdout",
     "output_type": "stream",
     "text": [
      "Sparsity of tf-idf matrix, train set:  0.9971060641109093\n",
      "Sparsity of tf-idf matrix, validation set:  0.9971216020016652\n"
     ]
    }
   ],
   "source": [
    "# Calculate and report the sparsity rate of the vectors of train, validation, and test sets,\n",
    "# namely what percentages of the vectors in each set are filled with zeros.\n",
    "\n",
    "# sparsity of tf-idf\n",
    "print('Sparsity of tf-idf matrix, train set: ', 1 - np.count_nonzero(tf_idf_matrix_train) / tf_idf_matrix_train.size)\n",
    "print('Sparsity of tf-idf matrix, validation set: ', 1 - np.count_nonzero(tf_idf_matrix_val) / tf_idf_matrix_val.size)"
   ],
   "metadata": {
    "collapsed": false,
    "pycharm": {
     "name": "#%%\n"
    }
   }
  },
  {
   "cell_type": "markdown",
   "source": [
    "# Dimensionality reduction"
   ],
   "metadata": {
    "collapsed": false,
    "pycharm": {
     "name": "#%% md\n"
    }
   }
  },
  {
   "cell_type": "code",
   "execution_count": 34,
   "outputs": [],
   "source": [
    "# TODO"
   ],
   "metadata": {
    "collapsed": false,
    "pycharm": {
     "name": "#%%\n"
    }
   }
  },
  {
   "cell_type": "markdown",
   "metadata": {
    "pycharm": {
     "name": "#%% md\n"
    }
   },
   "source": [
    "<a name=\"section-training\"></a><h2 style=\"color:rgb(0,120,170)\">Task B: Training and Results Analysis (15 points)</h2>"
   ]
  },
  {
   "cell_type": "markdown",
   "metadata": {
    "pycharm": {
     "name": "#%% md\n"
    }
   },
   "source": [
    "<div style=\"background-color:rgb(224, 243, 255)\">\n",
    "\n",
    "To evaluate the models, use <ins>accuracy</ins> as the metric throughout the task. \n",
    "\n",
    "**Dummy baseline (2 points).** Create one dummy baseline classifier that predicts the validation/test labels only based on the distribution of the labels in the training set (without any use of the feature vectors). This is a weak baseline and acts as a sanity check for the actual classifiers.\n",
    "\n",
    "**Training and tuning classifiers (5 points).** Select at least <ins>two classification algorithms</ins> from standard machine learning classifiers. Using each classification algorithm, train a machine learning model on each of the variations of feature vectors. This should result in <ins>eight experiment sets</ins> (4 variations of feature vectors × 2 classification algorithms). The ML model in each of the experiments possibly have several involving hyper-parameters (also keep in mind the dimensionality size $k$ in the low-dimensional vectors as yet another hyper-parameter). For each experiment, select <ins>one of the hyper-parameters and tune its value</ins>. The tuning process is done by first assigning at least <ins>five different values</ins> to the hyper-parameter, then training separate models based on each value, and finally using the evaluation results on the validation set to select the best-performing model. Report the studied hyper-parameters, the evaluation results of each on validation set, and finally the selected value of the hyper-parameter. \n",
    "\n",
    "**Evaluation, reporting results, and discussion (3 point).** Evaluate the selected model of the eight experiment on the test set and report the results of the experiments on <ins>both validation and test sets (side by side) in one table as well as in one plot</ins>. Compare different models. Are the test results lower(/higher) than the validation results? If it is the case, where can it be rooted from? Among all these models and variations, what are the most important factors improving the classification results?\n",
    "\n",
    "**Confusion matrix (2 point).** Select the best performing model among the experiments and use it to create a confusion matrix. The matrix shows the predicted versus true results per each label. Explain your observations on the matrix. Across which classes do you observe significant confusions?\n",
    "\n",
    "**Features visualization (3 point).** Continue with the best performing model and now take its feature vectors for the *dataitems in the test set*. Project these feature vectors to a 2-dimensional space using the TSNE method.  Using these 2-dimensional vectors, create two plots where the dataitems are shown as points (small circles) on the plots. The plots look exactly the same but only differ in the coloring of the data points. The first plot colors every dataitem with its *true label*, while the second one colors each according to its *predicted label by the model*. Keep in mind to assign the same colors to the classes of the plots, so that the plots are visually comparable. Put these two plots side by side, observe the differences, and compare the results. Report your observations.\n",
    "\n",
    "\n",
    "</div>"
   ]
  },
  {
   "cell_type": "code",
   "execution_count": 34,
   "metadata": {
    "pycharm": {
     "name": "#%%\n"
    }
   },
   "outputs": [],
   "source": []
  },
  {
   "cell_type": "code",
   "execution_count": 34,
   "metadata": {
    "pycharm": {
     "name": "#%%\n"
    }
   },
   "outputs": [],
   "source": []
  },
  {
   "cell_type": "markdown",
   "metadata": {
    "pycharm": {
     "name": "#%% md\n"
    }
   },
   "source": [
    "<a name=\"section-optional\"></a><h2 style=\"color:rgb(0,120,170)\">Task C: Linear Model Interpretability (2 extra point)</h2>"
   ]
  },
  {
   "cell_type": "markdown",
   "metadata": {
    "pycharm": {
     "name": "#%% md\n"
    }
   },
   "source": [
    "<div style=\"background-color:rgb(224, 243, 255)\">\n",
    "Train a logistic regression model on the high-dimensional vectors. Take the coefficient weights, learned by the model, on each dimension (which here corresponds to each token in the dictionary). Separately for each class, study what are the tokens that have the highest contributions/importance for the predictions of the model.\n",
    "</div>"
   ]
  },
  {
   "cell_type": "code",
   "execution_count": 34,
   "metadata": {
    "pycharm": {
     "name": "#%%\n"
    }
   },
   "outputs": [],
   "source": []
  },
  {
   "cell_type": "code",
   "execution_count": 34,
   "metadata": {
    "pycharm": {
     "name": "#%%\n"
    }
   },
   "outputs": [],
   "source": []
  }
 ],
 "metadata": {
  "kernelspec": {
   "display_name": "Python 3",
   "language": "python",
   "name": "python3"
  },
  "language_info": {
   "codemirror_mode": {
    "name": "ipython",
    "version": 3
   },
   "file_extension": ".py",
   "mimetype": "text/x-python",
   "name": "python",
   "nbconvert_exporter": "python",
   "pygments_lexer": "ipython3",
   "version": "3.7.4"
  }
 },
 "nbformat": 4,
 "nbformat_minor": 4
}