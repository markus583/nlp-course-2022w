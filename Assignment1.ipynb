{
 "cells": [
  {
   "cell_type": "markdown",
   "metadata": {
    "pycharm": {
     "name": "#%% md\n"
    }
   },
   "source": [
    "Please fill out the information of your group!\n",
    "\n",
    "| <p style=\"text-align: center;\">First Name</p>  | <p style=\"text-align: center;\">Family Name</p> | Matr.-No. |\n",
    "| ---------------------------------------------- | ---------------------------------------------- | -------- |\n",
    "| <p style=\"text-align: left\">*EDIT!*</p>| <p style=\"text-align: left\">*EDIT!*</p> | *EDIT!* |\n",
    "| <p style=\"text-align: left\">*EDIT!*</p>| <p style=\"text-align: left\">*EDIT!*</p> | *EDIT!* |\n"
   ]
  },
  {
   "cell_type": "markdown",
   "metadata": {
    "pycharm": {
     "name": "#%% md\n"
    }
   },
   "source": [
    "<h2 style=\"text-align: center\">344.105/6/7 UE: Natural Language Processing (WS2022/23)</h2>\n",
    "<h1 style=\"color:rgb(0,120,170)\">Assignment 1</h1>\n",
    "<h2 style=\"color:rgb(0,120,170)\">Document Classification with Standard Machine Learning Methods</h2>"
   ]
  },
  {
   "cell_type": "markdown",
   "metadata": {
    "pycharm": {
     "name": "#%% md\n"
    }
   },
   "source": [
    "<div style=\"background-color:rgb(224, 243, 255)\">\n",
    "<b>Terms of Use</b><br>\n",
    "This  material is prepared for educational purposes at the Johannes Kepler University (JKU) Linz, and is exclusively provided to the registered students of the mentioned course at JKU. It is strictly forbidden to distribute the current file, the contents of the assignment, and its solution. The use or reproduction of this manuscript is only allowed for educational purposes in non-profit organizations, while in this case, the explicit prior acceptance of the author(s) is required.\n",
    "\n",
    "**Author:** Navid Rekab-saz<br>\n",
    "**Email:** navid.rekabsaz@jku.at<br>\n",
    "\n",
    "</div>"
   ]
  },
  {
   "cell_type": "markdown",
   "metadata": {
    "pycharm": {
     "name": "#%% md\n"
    }
   },
   "source": [
    "<h2>Table of contents</h2>\n",
    "<ol>\n",
    "    <a href=\"#section-general-guidelines\"><li style=\"font-size:large;font-weight:bold\">General Guidelines</li></a>\n",
    "    <a href=\"#section-preprocessing\"><li style=\"font-size:large;font-weight:bold\">Task A: Pre-processing & Feature Extraction (15 points)</li></a>\n",
    "    <a href=\"#section-training\"><li style=\"font-size:large;font-weight:bold\">Task B: Training and Results Analysis (15 points)</li></a>\n",
    "    <a href=\"#section-optional\"><li style=\"font-size:large;font-weight:bold\">Task C: Linear Model Interpretability (2 extra point)</li></a>\n",
    "    \n",
    "</ol>"
   ]
  },
  {
   "cell_type": "markdown",
   "metadata": {
    "pycharm": {
     "name": "#%% md\n"
    }
   },
   "source": [
    "<a name=\"section-general-guidelines\"></a><h2 style=\"color:rgb(0,120,170)\">General Guidelines</h2>"
   ]
  },
  {
   "cell_type": "markdown",
   "metadata": {
    "pycharm": {
     "name": "#%% md\n"
    }
   },
   "source": [
    "<div style=\"background-color:rgb(224, 243, 255)\">\n",
    "\n",
    "### Assignment objective\n",
    "\n",
    "The aim of this assignment is to implement a document (sentence) classification model using (standard) machine learning methods. The assignment in total has **30 points**; it also offers **2 extra points** which can cover any missing point.\n",
    "\n",
    "This Notebook encompasses all aspects of the assignment, namely the descriptions of tasks as well as your solutions and reports. Feel free to add any required cell for solutions. The cells can contain code, reports, charts, tables, or any other material, required for the assignment. Feel free to provide the solutions in an interactive and visual way! \n",
    "\n",
    "Please discuss any unclear point in the assignment in the provided forum in MOODLE. It is also encouraged to provide answers to your peer's questions. However when submitting a post, keep in mind to avoid providing solutions. Please let the tutor(s) know shall you find any error or unclarity in the assignment.\n",
    "\n",
    "</div>\n"
   ]
  },
  {
   "cell_type": "markdown",
   "metadata": {
    "pycharm": {
     "name": "#%% md\n"
    }
   },
   "source": [
    "<div style=\"background-color:rgb(224, 243, 255)\">\n",
    "\n",
    "### Libraries & Dataset\n",
    "\n",
    "The assignment should be implemented with recent versions of `Python` (>3.7). Any standard Python library can be used, so far that the library is free and can be simply installed using `pip` or `conda`. Examples of potentially useful libraries are `scikit-learn`, `numpy`, `scipy`, `gensim`, `nltk`, `spaCy`, and `AllenNLP`. Use the latest stable version of each library.\n",
    "\n",
    "To conduct the experiments, two datasets are provided. The datasets are taken from the data of `thedeep` project, produced by the DEEP (https://www.thedeep.io) platform. The DEEP is an open-source platform, which aims to facilitate processing of textual data for international humanitarian response organizations. The platform enables the classification of text excerpts, extracted from news and reports into a set of domain specific classes. The provided dataset has 12 classes (labels) like agriculture, health, and protection. \n",
    "\n",
    "The difference between the datasets is in their sizes. We refer to these as `medium` and `small`, containing an overall number of 38,000 and 12,000 annotated text excerpts, respectively. Select one of the datasets, and use it for all of the tasks. `medium` provides more data and therefore reflects a more realistic scenario. `small` is however provided for the sake of convenience, particularly if running the experiments on your available hardware takes too long. Using `medium` is generally recommended, but from the point of view of assignment grading, there is no difference between the datasets.\n",
    "\n",
    "Download the dataset from [this link](https://drive.jku.at/filr/public-link/file-download/0cce88f083887a040183c5bebe366b04/43388/4737518022038762454/nlp2022_23_data.zip).\n",
    "\n",
    "Whether `medium` or `small`, you will find the following files in the provided zip file:\n",
    "- `thedeep.$name$.train.txt`: Train set in csv format with three fields: sentence_id, text, and label.\n",
    "- `thedeep.$name$.validation.txt`: Validation set in csv format with three fields: sentence_id, text, and label.\n",
    "- `thedeep.$name$.test.txt`: Test set in csv format with three fields: sentence_id, text, and label.\n",
    "- `thedeep.$name$.label.txt`: Captions of the labels.\n",
    "- `README.txt`: Terms of use of the dataset.\n",
    "\n",
    "</div>\n"
   ]
  },
  {
   "cell_type": "markdown",
   "metadata": {
    "pycharm": {
     "name": "#%% md\n"
    }
   },
   "source": [
    "<div style=\"background-color:rgb(224, 243, 255)\">\n",
    "\n",
    "### Submission\n",
    "\n",
    "Each group should submit the following two files:\n",
    "\n",
    "- One Jupyter Notebook file (`.ipynb`), containing all the code, results, visualizations, etc. **In the submitted Notebook, all the results and visualizations should already be present, and can be observed simply by loading the Notebook in a browser.** The Notebook must be self-contained, meaning that (if necessary) one can run all the cells from top to bottom without any error. Do not forget to put in your names and student numbers in the first cell of the Notebook. \n",
    "- The HTML file (`.html`) achieved from exporting the Jupyter Notebook to HTML (Download As HTML).\n",
    "\n",
    "You do not need to include the data files in the submission.\n",
    "\n",
    "\n",
    "</div>"
   ]
  },
  {
   "cell_type": "markdown",
   "metadata": {
    "pycharm": {
     "name": "#%% md\n"
    }
   },
   "source": [
    "<a name=\"section-preprocessing\"></a><h2 style=\"color:rgb(0,120,170)\">Task A: Pre-processing & Feature Extraction (15 points)</h2>"
   ]
  },
  {
   "cell_type": "markdown",
   "metadata": {
    "pycharm": {
     "name": "#%% md\n"
    }
   },
   "source": [
    "<div style=\"background-color:rgb(224, 243, 255)\">\n",
    "    \n",
    "**Preprocessing (4 points).** Load the train, validation, and test sets. Study the text and according to your judgements, apply at least <ins>two text cleaning/preprocessing methods</ins>. Punctuations marks, numbers, dates, case-sensitivity are some examples of the elements which can be potentially considered for cleaning/preprocessing. Tokenize the result text with a tokenizer of your choice. Report your approaches to text cleaning and tokenization and the reasons of your choices. Provide some examples, showing the effects of the applied approaches on the text.\n",
    "\n",
    "**Creating dictionary (4 points).** Create a dictionary of vocabularies following the guidelines discussed in the lecture. Next, reduce the size of dictionary using a method of your choice, for instance by considering a cut-off threshold on the tokens with low frequencies. When removing tokens from the dictionary, consider a strategy for handling Out-Of-Vocabulary (OOV) tokens, namely the ones in the train/validation/test datasets that that are not anymore in the dictionary. Some possible strategies could be to remove OOVs completely from the texts, or to replace them with a special token like <OOV\\>. Explain your approaches and report the statistics of the dictionary before and after the reduction.\n",
    "\n",
    "**Creating sentence vectors (4 points).** Use the dictionary to prepare <ins>two variations of document representation vectors</ins>, separately for train, validation, and test sets. Both variations follow a Bag-of-Words approach with a different token weighting method. One applied weighting must be `tf-idf` and the other one can be any other methods discussed in the lecture such as `tc`, `tf`, `BM25`. These term weighting methods should be implemented; using a library to readily calculate the term weightings is not allowed. Report the applied approaches. Calculate and report the sparsity rate of the vectors of train, validation, and test sets, namely what percentages of the vectors in each set are filled with zeros.\n",
    "\n",
    "**Dimensionality reduction (3 points).** Reduce vectors' dimensions to $k$ by applying Latent Semantic Analysis (LSA) to the vectors of both variations. $k$ is a hyper-parameter and can be $10<k<1000$. Keep in mind the training and inference phases of LSA, when applied to the train, validation, and test sets. \n",
    "\n",
    "At the end of Task A, you should have the <ins>four feature vectors variations</ins> shown below, each consisting of the sets of train, validation, and test:\n",
    "- **`Token Weighting I - High Dimensional`**\n",
    "- **`Token Weighting I - Low Dimensional`**\n",
    "- **`Token Weighting II - High Dimensional`**\n",
    "- **`Token Weighting II - Low Dimensional`**\n",
    "\n",
    "\n",
    "</div>"
   ]
  },
  {
   "cell_type": "markdown",
   "source": [
    "# Preprocessing"
   ],
   "metadata": {
    "collapsed": false,
    "pycharm": {
     "name": "#%% md\n"
    }
   }
  },
  {
   "cell_type": "code",
   "execution_count": 2,
   "outputs": [],
   "source": [
    "import pandas as pd\n",
    "import numpy as np\n",
    "import re\n",
    "import nltk"
   ],
   "metadata": {
    "collapsed": false,
    "pycharm": {
     "name": "#%%\n"
    }
   }
  },
  {
   "cell_type": "code",
   "execution_count": 8,
   "metadata": {
    "pycharm": {
     "name": "#%%\n"
    }
   },
   "outputs": [],
   "source": [
    "# Load the train, validation, and test sets\n",
    "BASE_DIR = 'data/nlp2022_23_data/'\n",
    "TRAIN_FILE = BASE_DIR + 'thedeep.subset' + '.train.txt'\n",
    "VAL_FILE = BASE_DIR + 'thedeep.subset' + '.validation.txt'\n",
    "TEST_FILE = BASE_DIR + 'thedeep.subset' + '.test.txt'\n",
    "LABEL_FILE = BASE_DIR + 'thedeep.' + 'labels.txt'\n",
    "\n",
    "train_df = pd.read_csv(TRAIN_FILE, sep=',', header=None, names=['sentence_id', 'text', 'label'])\n",
    "val_df = pd.read_csv(VAL_FILE, sep=',', header=None, names=['sentence_id', 'text', 'label'])\n",
    "test_df = pd.read_csv(TEST_FILE, sep=',', header=None, names=['sentence_id', 'text', 'label'])\n",
    "label_df = pd.read_csv(LABEL_FILE, sep=',', header=None, names=['label', 'caption'])"
   ]
  },
  {
   "cell_type": "code",
   "execution_count": 9,
   "outputs": [
    {
     "data": {
      "text/plain": "       sentence_id                                               text  label\n0             5446  In addition to the immediate life-saving inter...      9\n1             8812  There are approximately 2.6 million people cla...      3\n2            16709  While aid imports have held up recently, comme...      5\n3             3526  Heavy rainfalls as well as onrush of water fro...      0\n4             4928  Based on field reports 9 , the main production...      3\n...            ...                                                ...    ...\n12105        12744  The total gap in the number of people who requ...      8\n12106         9655  A food crisis is looming in the country with t...      0\n12107         6963  ? Acute watery diarrhoea (AWD) continues to be...      4\n12108          923  As South India grapples with drought and water...     11\n12109        15880  Mirroring trends in South Africa, the main sou...      3\n\n[12110 rows x 3 columns]",
      "text/html": "<div>\n<style scoped>\n    .dataframe tbody tr th:only-of-type {\n        vertical-align: middle;\n    }\n\n    .dataframe tbody tr th {\n        vertical-align: top;\n    }\n\n    .dataframe thead th {\n        text-align: right;\n    }\n</style>\n<table border=\"1\" class=\"dataframe\">\n  <thead>\n    <tr style=\"text-align: right;\">\n      <th></th>\n      <th>sentence_id</th>\n      <th>text</th>\n      <th>label</th>\n    </tr>\n  </thead>\n  <tbody>\n    <tr>\n      <th>0</th>\n      <td>5446</td>\n      <td>In addition to the immediate life-saving inter...</td>\n      <td>9</td>\n    </tr>\n    <tr>\n      <th>1</th>\n      <td>8812</td>\n      <td>There are approximately 2.6 million people cla...</td>\n      <td>3</td>\n    </tr>\n    <tr>\n      <th>2</th>\n      <td>16709</td>\n      <td>While aid imports have held up recently, comme...</td>\n      <td>5</td>\n    </tr>\n    <tr>\n      <th>3</th>\n      <td>3526</td>\n      <td>Heavy rainfalls as well as onrush of water fro...</td>\n      <td>0</td>\n    </tr>\n    <tr>\n      <th>4</th>\n      <td>4928</td>\n      <td>Based on field reports 9 , the main production...</td>\n      <td>3</td>\n    </tr>\n    <tr>\n      <th>...</th>\n      <td>...</td>\n      <td>...</td>\n      <td>...</td>\n    </tr>\n    <tr>\n      <th>12105</th>\n      <td>12744</td>\n      <td>The total gap in the number of people who requ...</td>\n      <td>8</td>\n    </tr>\n    <tr>\n      <th>12106</th>\n      <td>9655</td>\n      <td>A food crisis is looming in the country with t...</td>\n      <td>0</td>\n    </tr>\n    <tr>\n      <th>12107</th>\n      <td>6963</td>\n      <td>? Acute watery diarrhoea (AWD) continues to be...</td>\n      <td>4</td>\n    </tr>\n    <tr>\n      <th>12108</th>\n      <td>923</td>\n      <td>As South India grapples with drought and water...</td>\n      <td>11</td>\n    </tr>\n    <tr>\n      <th>12109</th>\n      <td>15880</td>\n      <td>Mirroring trends in South Africa, the main sou...</td>\n      <td>3</td>\n    </tr>\n  </tbody>\n</table>\n<p>12110 rows × 3 columns</p>\n</div>"
     },
     "execution_count": 9,
     "metadata": {},
     "output_type": "execute_result"
    }
   ],
   "source": [
    "train_df"
   ],
   "metadata": {
    "collapsed": false,
    "pycharm": {
     "name": "#%%\n"
    }
   }
  },
  {
   "cell_type": "code",
   "execution_count": 10,
   "outputs": [
    {
     "name": "stdout",
     "output_type": "stream",
     "text": [
      "Train set length:  12110\n",
      "Validation set length:  2596\n",
      "Test set length:  2595\n"
     ]
    }
   ],
   "source": [
    "# print length of each set\n",
    "print('Train set length: ', len(train_df))\n",
    "print('Validation set length: ', len(val_df))\n",
    "print('Test set length: ', len(test_df))"
   ],
   "metadata": {
    "collapsed": false,
    "pycharm": {
     "name": "#%%\n"
    }
   }
  },
  {
   "cell_type": "code",
   "execution_count": 11,
   "outputs": [
    {
     "name": "stdout",
     "output_type": "stream",
     "text": [
      "Average length of text in train set:  450.86\n",
      "Average length of text in validation set:  446.5\n",
      "Average length of text in test set:  440.51\n"
     ]
    }
   ],
   "source": [
    "# print average length of text in each set\n",
    "print('Average length of text in train set: ', np.round(np.mean(train_df['text'].str.len()), 2))\n",
    "print('Average length of text in validation set: ', np.round(np.mean(val_df['text'].str.len()), 2))\n",
    "print('Average length of text in test set: ', np.round(np.mean(test_df['text'].str.len()), 2))"
   ],
   "metadata": {
    "collapsed": false,
    "pycharm": {
     "name": "#%%\n"
    }
   }
  },
  {
   "cell_type": "code",
   "execution_count": 12,
   "outputs": [
    {
     "data": {
      "text/plain": "    label      caption\n0       0  Agriculture\n1       1        Cross\n2       2    Education\n3       3         Food\n4       4       Health\n5       5   Livelihood\n6       6     Logistic\n7       7          NFI\n8       8    Nutrition\n9       9   Protection\n10     10      Shelter\n11     11         WASH",
      "text/html": "<div>\n<style scoped>\n    .dataframe tbody tr th:only-of-type {\n        vertical-align: middle;\n    }\n\n    .dataframe tbody tr th {\n        vertical-align: top;\n    }\n\n    .dataframe thead th {\n        text-align: right;\n    }\n</style>\n<table border=\"1\" class=\"dataframe\">\n  <thead>\n    <tr style=\"text-align: right;\">\n      <th></th>\n      <th>label</th>\n      <th>caption</th>\n    </tr>\n  </thead>\n  <tbody>\n    <tr>\n      <th>0</th>\n      <td>0</td>\n      <td>Agriculture</td>\n    </tr>\n    <tr>\n      <th>1</th>\n      <td>1</td>\n      <td>Cross</td>\n    </tr>\n    <tr>\n      <th>2</th>\n      <td>2</td>\n      <td>Education</td>\n    </tr>\n    <tr>\n      <th>3</th>\n      <td>3</td>\n      <td>Food</td>\n    </tr>\n    <tr>\n      <th>4</th>\n      <td>4</td>\n      <td>Health</td>\n    </tr>\n    <tr>\n      <th>5</th>\n      <td>5</td>\n      <td>Livelihood</td>\n    </tr>\n    <tr>\n      <th>6</th>\n      <td>6</td>\n      <td>Logistic</td>\n    </tr>\n    <tr>\n      <th>7</th>\n      <td>7</td>\n      <td>NFI</td>\n    </tr>\n    <tr>\n      <th>8</th>\n      <td>8</td>\n      <td>Nutrition</td>\n    </tr>\n    <tr>\n      <th>9</th>\n      <td>9</td>\n      <td>Protection</td>\n    </tr>\n    <tr>\n      <th>10</th>\n      <td>10</td>\n      <td>Shelter</td>\n    </tr>\n    <tr>\n      <th>11</th>\n      <td>11</td>\n      <td>WASH</td>\n    </tr>\n  </tbody>\n</table>\n</div>"
     },
     "execution_count": 12,
     "metadata": {},
     "output_type": "execute_result"
    }
   ],
   "source": [
    "label_df"
   ],
   "metadata": {
    "collapsed": false,
    "pycharm": {
     "name": "#%%\n"
    }
   }
  },
  {
   "cell_type": "markdown",
   "source": [
    "Each label corresponds to a given caption, i.e., a category."
   ],
   "metadata": {
    "collapsed": false,
    "pycharm": {
     "name": "#%% md\n"
    }
   }
  },
  {
   "cell_type": "code",
   "execution_count": 13,
   "outputs": [],
   "source": [
    "def map_label_to_caption(label):\n",
    "    \"\"\"\n",
    "    Map label id to caption using label_df\n",
    "    :param label: label id, int\n",
    "    :return: label caption, str\n",
    "    \"\"\"\n",
    "    return label_df[label_df['label'] == label]['caption'].values[0]"
   ],
   "metadata": {
    "collapsed": false,
    "pycharm": {
     "name": "#%%\n"
    }
   }
  },
  {
   "cell_type": "code",
   "execution_count": 90,
   "outputs": [],
   "source": [
    "train_df = train_df.assign(caption=train_df['label'].apply(map_label_to_caption))\n",
    "val_df = val_df.assign(caption=val_df['label'].apply(map_label_to_caption))\n",
    "test_df = test_df.assign(caption=test_df['label'].apply(map_label_to_caption))"
   ],
   "metadata": {
    "collapsed": false,
    "pycharm": {
     "name": "#%%\n"
    }
   }
  },
  {
   "cell_type": "markdown",
   "source": [
    "## Clean text"
   ],
   "metadata": {
    "collapsed": false,
    "pycharm": {
     "name": "#%% md\n"
    }
   }
  },
  {
   "cell_type": "code",
   "execution_count": 15,
   "outputs": [],
   "source": [
    "# remove punctuation marks, replace dates & numbers, apply case-sensitivity\n",
    "def clean_text(text):\n",
    "    \"\"\"\n",
    "    Clean text by removing punctuation marks, replacing dates & numbers, applying case-sensitivity\n",
    "    :param text: text to clean, str\n",
    "    :return: cleaned text, str\n",
    "    \"\"\"\n",
    "    # remove punctuation marks\n",
    "    text = re.sub(r'[^\\w\\s]', '', text)\n",
    "    # replace dates\n",
    "    text = re.sub(r'\\d{1,2}/\\d{1,2}/\\d{2,4}', '< date >', text)\n",
    "    # replace numbers\n",
    "    text = re.sub(r'\\d+', '< num >', text)\n",
    "    # apply case-sensitivity\n",
    "    text = text.lower()\n",
    "    return text"
   ],
   "metadata": {
    "collapsed": false,
    "pycharm": {
     "name": "#%%\n"
    }
   }
  },
  {
   "cell_type": "code",
   "execution_count": 16,
   "outputs": [],
   "source": [
    "train_df['cleaned_text'] = train_df['text'].apply(clean_text)\n",
    "val_df['cleaned_text'] = val_df['text'].apply(clean_text)\n",
    "test_df['cleaned_text'] = test_df['text'].apply(clean_text)"
   ],
   "metadata": {
    "collapsed": false,
    "pycharm": {
     "name": "#%%\n"
    }
   }
  },
  {
   "cell_type": "code",
   "execution_count": 17,
   "outputs": [
    {
     "data": {
      "text/plain": "       sentence_id                                               text  label  \\\n0             5446  In addition to the immediate life-saving inter...      9   \n1             8812  There are approximately 2.6 million people cla...      3   \n2            16709  While aid imports have held up recently, comme...      5   \n3             3526  Heavy rainfalls as well as onrush of water fro...      0   \n4             4928  Based on field reports 9 , the main production...      3   \n...            ...                                                ...    ...   \n12105        12744  The total gap in the number of people who requ...      8   \n12106         9655  A food crisis is looming in the country with t...      0   \n12107         6963  ? Acute watery diarrhoea (AWD) continues to be...      4   \n12108          923  As South India grapples with drought and water...     11   \n12109        15880  Mirroring trends in South Africa, the main sou...      3   \n\n                                            cleaned_text  \n0      in addition to the immediate lifesaving interv...  \n1      there are approximately < num > million people...  \n2      while aid imports have held up recently commer...  \n3      heavy rainfalls as well as onrush of water fro...  \n4      based on field reports < num >  the main produ...  \n...                                                  ...  \n12105  the total gap in the number of people who requ...  \n12106  a food crisis is looming in the country with t...  \n12107   acute watery diarrhoea awd continues to be re...  \n12108  as south india grapples with drought and water...  \n12109  mirroring trends in south africa the main sour...  \n\n[12110 rows x 4 columns]",
      "text/html": "<div>\n<style scoped>\n    .dataframe tbody tr th:only-of-type {\n        vertical-align: middle;\n    }\n\n    .dataframe tbody tr th {\n        vertical-align: top;\n    }\n\n    .dataframe thead th {\n        text-align: right;\n    }\n</style>\n<table border=\"1\" class=\"dataframe\">\n  <thead>\n    <tr style=\"text-align: right;\">\n      <th></th>\n      <th>sentence_id</th>\n      <th>text</th>\n      <th>label</th>\n      <th>cleaned_text</th>\n    </tr>\n  </thead>\n  <tbody>\n    <tr>\n      <th>0</th>\n      <td>5446</td>\n      <td>In addition to the immediate life-saving inter...</td>\n      <td>9</td>\n      <td>in addition to the immediate lifesaving interv...</td>\n    </tr>\n    <tr>\n      <th>1</th>\n      <td>8812</td>\n      <td>There are approximately 2.6 million people cla...</td>\n      <td>3</td>\n      <td>there are approximately &lt; num &gt; million people...</td>\n    </tr>\n    <tr>\n      <th>2</th>\n      <td>16709</td>\n      <td>While aid imports have held up recently, comme...</td>\n      <td>5</td>\n      <td>while aid imports have held up recently commer...</td>\n    </tr>\n    <tr>\n      <th>3</th>\n      <td>3526</td>\n      <td>Heavy rainfalls as well as onrush of water fro...</td>\n      <td>0</td>\n      <td>heavy rainfalls as well as onrush of water fro...</td>\n    </tr>\n    <tr>\n      <th>4</th>\n      <td>4928</td>\n      <td>Based on field reports 9 , the main production...</td>\n      <td>3</td>\n      <td>based on field reports &lt; num &gt;  the main produ...</td>\n    </tr>\n    <tr>\n      <th>...</th>\n      <td>...</td>\n      <td>...</td>\n      <td>...</td>\n      <td>...</td>\n    </tr>\n    <tr>\n      <th>12105</th>\n      <td>12744</td>\n      <td>The total gap in the number of people who requ...</td>\n      <td>8</td>\n      <td>the total gap in the number of people who requ...</td>\n    </tr>\n    <tr>\n      <th>12106</th>\n      <td>9655</td>\n      <td>A food crisis is looming in the country with t...</td>\n      <td>0</td>\n      <td>a food crisis is looming in the country with t...</td>\n    </tr>\n    <tr>\n      <th>12107</th>\n      <td>6963</td>\n      <td>? Acute watery diarrhoea (AWD) continues to be...</td>\n      <td>4</td>\n      <td>acute watery diarrhoea awd continues to be re...</td>\n    </tr>\n    <tr>\n      <th>12108</th>\n      <td>923</td>\n      <td>As South India grapples with drought and water...</td>\n      <td>11</td>\n      <td>as south india grapples with drought and water...</td>\n    </tr>\n    <tr>\n      <th>12109</th>\n      <td>15880</td>\n      <td>Mirroring trends in South Africa, the main sou...</td>\n      <td>3</td>\n      <td>mirroring trends in south africa the main sour...</td>\n    </tr>\n  </tbody>\n</table>\n<p>12110 rows × 4 columns</p>\n</div>"
     },
     "execution_count": 17,
     "metadata": {},
     "output_type": "execute_result"
    }
   ],
   "source": [
    "train_df"
   ],
   "metadata": {
    "collapsed": false,
    "pycharm": {
     "name": "#%%\n"
    }
   }
  },
  {
   "cell_type": "code",
   "execution_count": 18,
   "outputs": [],
   "source": [
    "# normalize text\n",
    "def normalize_text(text):\n",
    "    \"\"\"\n",
    "    Normalize text by tokenizing and lemmatizing\n",
    "    :param text: text to normalize, str\n",
    "    :return: normalized text, str\n",
    "    \"\"\"\n",
    "    # tokenize text\n",
    "    tokens = nltk.word_tokenize(text)\n",
    "    # lemmatize text\n",
    "    lemmatizer = nltk.stem.WordNetLemmatizer()\n",
    "    lemmatized_tokens = [lemmatizer.lemmatize(token) for token in tokens]\n",
    "    return ' '.join(lemmatized_tokens)"
   ],
   "metadata": {
    "collapsed": false,
    "pycharm": {
     "name": "#%%\n"
    }
   }
  },
  {
   "cell_type": "code",
   "execution_count": 19,
   "outputs": [],
   "source": [
    "train_df['normalized_text'] = train_df['cleaned_text'].apply(normalize_text)"
   ],
   "metadata": {
    "collapsed": false,
    "pycharm": {
     "name": "#%%\n"
    }
   }
  },
  {
   "cell_type": "markdown",
   "source": [
    "## Tokenization"
   ],
   "metadata": {
    "collapsed": false,
    "pycharm": {
     "name": "#%% md\n"
    }
   }
  },
  {
   "cell_type": "code",
   "execution_count": 20,
   "outputs": [],
   "source": [
    "# use BPE tokenizer\n",
    "from tokenizers import Tokenizer\n",
    "from tokenizers.models import BPE\n",
    "tokenizer = Tokenizer(BPE(unk_token=\"[UNK]\"))\n",
    "\n",
    "from tokenizers.trainers import BpeTrainer\n",
    "trainer = BpeTrainer(special_tokens=[\"[UNK]\", \"[CLS]\", \"[SEP]\", \"[PAD]\", \"[MASK]\"])\n",
    "\n",
    "from tokenizers.pre_tokenizers import Whitespace\n",
    "tokenizer.pre_tokenizer = Whitespace()\n",
    "\n",
    "files =[TRAIN_FILE]\n",
    "tokenizer.train(files, trainer)"
   ],
   "metadata": {
    "collapsed": false,
    "pycharm": {
     "name": "#%%\n"
    }
   }
  },
  {
   "cell_type": "code",
   "execution_count": 21,
   "outputs": [],
   "source": [
    "# train_df['tokenized_text'] = train_df['cleaned_text'].apply(tokenizer.encode).apply(lambda x: x.tokens)\n",
    "# train_df['tokenized_text']"
   ],
   "metadata": {
    "collapsed": false,
    "pycharm": {
     "name": "#%%\n"
    }
   }
  },
  {
   "cell_type": "code",
   "execution_count": 22,
   "outputs": [],
   "source": [
    "# use NLTK tokenizer (TreebankWordTokenizer)\n",
    "from nltk.tokenize import word_tokenize\n",
    "train_df['tokenized_text'] = train_df['cleaned_text'].apply(word_tokenize)\n",
    "val_df['tokenized_text'] = val_df['cleaned_text'].apply(word_tokenize)\n",
    "test_df['tokenized_text'] = test_df['cleaned_text'].apply(word_tokenize)"
   ],
   "metadata": {
    "collapsed": false,
    "pycharm": {
     "name": "#%%\n"
    }
   }
  },
  {
   "cell_type": "markdown",
   "source": [
    "## Stopwords"
   ],
   "metadata": {
    "collapsed": false,
    "pycharm": {
     "name": "#%% md\n"
    }
   }
  },
  {
   "cell_type": "code",
   "execution_count": 23,
   "outputs": [],
   "source": [
    "# remove stopwords\n",
    "from nltk.corpus import stopwords\n",
    "stop_words = set(stopwords.words('english'))\n",
    "train_df['tokenized_text'] = train_df['tokenized_text'].apply(lambda x: [word for word in x if word not in stop_words])\n",
    "val_df['tokenized_text'] = val_df['tokenized_text'].apply(lambda x: [word for word in x if word not in stop_words])\n",
    "test_df['tokenized_text'] = test_df['tokenized_text'].apply(lambda x: [word for word in x if word not in stop_words])"
   ],
   "metadata": {
    "collapsed": false,
    "pycharm": {
     "name": "#%%\n"
    }
   }
  },
  {
   "cell_type": "markdown",
   "source": [
    "## Compare"
   ],
   "metadata": {
    "collapsed": false,
    "pycharm": {
     "name": "#%% md\n"
    }
   }
  },
  {
   "cell_type": "code",
   "execution_count": 24,
   "outputs": [],
   "source": [
    "# compare text before preprocessing, after preprocessing, and after tokenization\n",
    "def compare_text(text, cleaned_text, tokenized_text):\n",
    "    \"\"\"\n",
    "    Compare text before preprocessing, after preprocessing, and after tokenization\n",
    "    :param text: text before preprocessing, str\n",
    "    :param cleaned_text: text after preprocessing, str\n",
    "    :param tokenized_text: text after tokenization, list\n",
    "    :return: None\n",
    "    \"\"\"\n",
    "    print('Text before preprocessing: \\n', text)\n",
    "    print('Text after preprocessing: \\n', cleaned_text)\n",
    "    print('Text after tokenization: \\n', tokenized_text, end='\\n\\n')"
   ],
   "metadata": {
    "collapsed": false,
    "pycharm": {
     "name": "#%%\n"
    }
   }
  },
  {
   "cell_type": "code",
   "execution_count": 25,
   "outputs": [
    {
     "name": "stdout",
     "output_type": "stream",
     "text": [
      "Text before preprocessing: \n",
      " While aid imports have held up recently, commercial food and fuel imports remain well short of pre-blockade averages. I am particularly concerned about the recent decline of commercial food imports through the Red Sea ports. Pressure on the currency and a liquidity crisis in the Yemeni banking system make imports less viable for traders. Confidence among commercial shipping companies has eroded due to delays, including as a result of inspections undertaken by the Saudiled Coalition after these vessels have been cleared by UNVIM.\n",
      "Text after preprocessing: \n",
      " while aid imports have held up recently commercial food and fuel imports remain well short of preblockade averages i am particularly concerned about the recent decline of commercial food imports through the red sea ports pressure on the currency and a liquidity crisis in the yemeni banking system make imports less viable for traders confidence among commercial shipping companies has eroded due to delays including as a result of inspections undertaken by the saudiled coalition after these vessels have been cleared by unvim\n",
      "Text after tokenization: \n",
      " ['aid', 'imports', 'held', 'recently', 'commercial', 'food', 'fuel', 'imports', 'remain', 'well', 'short', 'preblockade', 'averages', 'particularly', 'concerned', 'recent', 'decline', 'commercial', 'food', 'imports', 'red', 'sea', 'ports', 'pressure', 'currency', 'liquidity', 'crisis', 'yemeni', 'banking', 'system', 'make', 'imports', 'less', 'viable', 'traders', 'confidence', 'among', 'commercial', 'shipping', 'companies', 'eroded', 'due', 'delays', 'including', 'result', 'inspections', 'undertaken', 'saudiled', 'coalition', 'vessels', 'cleared', 'unvim']\n",
      "\n"
     ]
    }
   ],
   "source": [
    "idx = 2\n",
    "\n",
    "compare_text(train_df['text'][idx], train_df['cleaned_text'][idx], train_df['tokenized_text'][idx])"
   ],
   "metadata": {
    "collapsed": false,
    "pycharm": {
     "name": "#%%\n"
    }
   }
  },
  {
   "cell_type": "code",
   "execution_count": 26,
   "outputs": [
    {
     "name": "stdout",
     "output_type": "stream",
     "text": [
      "Text before preprocessing: \n",
      "  According to media reports, in 2017 and as of 9 October 2017, 100 possible cholera cases have been reported in Saptari region in Nepal. \n",
      "Text after preprocessing: \n",
      "  according to media reports in < num > and as of < num > october < num > < num > possible cholera cases have been reported in saptari region in nepal \n",
      "Text after tokenization: \n",
      " ['according', 'media', 'reports', '<', 'num', '>', '<', 'num', '>', 'october', '<', 'num', '>', '<', 'num', '>', 'possible', 'cholera', 'cases', 'reported', 'saptari', 'region', 'nepal']\n",
      "\n"
     ]
    }
   ],
   "source": [
    "idx = 42\n",
    "\n",
    "compare_text(train_df['text'][idx], train_df['cleaned_text'][idx], train_df['tokenized_text'][idx])"
   ],
   "metadata": {
    "collapsed": false,
    "pycharm": {
     "name": "#%%\n"
    }
   }
  },
  {
   "cell_type": "code",
   "execution_count": 27,
   "outputs": [
    {
     "name": "stdout",
     "output_type": "stream",
     "text": [
      "Text before preprocessing: \n",
      " With Sao Tome heavily dependent on food imports, food availability is unpredictable: there is no deep sea port; in bad weather, landing is difficult on the country’s one short airstrip. No cereals are cultivated on the island. The country is prone to natural disasters such as floods and landslides, which negatively affect crops and road access as well as destroy houses and household assets.\n",
      "Text after preprocessing: \n",
      " with sao tome heavily dependent on food imports food availability is unpredictable there is no deep sea port in bad weather landing is difficult on the countrys one short airstrip no cereals are cultivated on the island the country is prone to natural disasters such as floods and landslides which negatively affect crops and road access as well as destroy houses and household assets\n",
      "Text after tokenization: \n",
      " ['sao', 'tome', 'heavily', 'dependent', 'food', 'imports', 'food', 'availability', 'unpredictable', 'deep', 'sea', 'port', 'bad', 'weather', 'landing', 'difficult', 'countrys', 'one', 'short', 'airstrip', 'cereals', 'cultivated', 'island', 'country', 'prone', 'natural', 'disasters', 'floods', 'landslides', 'negatively', 'affect', 'crops', 'road', 'access', 'well', 'destroy', 'houses', 'household', 'assets']\n",
      "\n"
     ]
    }
   ],
   "source": [
    "idx = 100\n",
    "\n",
    "compare_text(train_df['text'][idx], train_df['cleaned_text'][idx], train_df['tokenized_text'][idx])"
   ],
   "metadata": {
    "collapsed": false,
    "pycharm": {
     "name": "#%%\n"
    }
   }
  },
  {
   "cell_type": "markdown",
   "source": [
    "# Dictionary"
   ],
   "metadata": {
    "collapsed": false,
    "pycharm": {
     "name": "#%% md\n"
    }
   }
  },
  {
   "cell_type": "code",
   "execution_count": 28,
   "outputs": [],
   "source": [
    "# create dictionary using train set\n",
    "def create_dictionary(tokenized_text):\n",
    "    \"\"\"\n",
    "    Create dictionary using train set\n",
    "    :param tokenized_text: tokenized text, list\n",
    "    :return: dictionary, dict\n",
    "    \"\"\"\n",
    "    dictionary = {}\n",
    "    for tokens in tokenized_text:\n",
    "        for token in tokens:\n",
    "            if token not in dictionary:\n",
    "                dictionary[token] = 1\n",
    "            else:\n",
    "                dictionary[token] += 1\n",
    "    return dictionary"
   ],
   "metadata": {
    "collapsed": false,
    "pycharm": {
     "name": "#%%\n"
    }
   }
  },
  {
   "cell_type": "code",
   "execution_count": 29,
   "outputs": [],
   "source": [
    "dictionary = create_dictionary(train_df['tokenized_text'])"
   ],
   "metadata": {
    "collapsed": false,
    "pycharm": {
     "name": "#%%\n"
    }
   }
  },
  {
   "cell_type": "code",
   "execution_count": 30,
   "outputs": [
    {
     "name": "stdout",
     "output_type": "stream",
     "text": [
      "Length of dictionary:  30396\n"
     ]
    }
   ],
   "source": [
    "# print length of dictionary\n",
    "print('Length of dictionary: ', len(dictionary))"
   ],
   "metadata": {
    "collapsed": false,
    "pycharm": {
     "name": "#%%\n"
    }
   }
  },
  {
   "cell_type": "code",
   "execution_count": 31,
   "outputs": [
    {
     "name": "stdout",
     "output_type": "stream",
     "text": [
      "Most common words in dictionary:  [('<', 41249), ('num', 41249), ('>', 41249), ('cases', 4758), ('food', 4138), ('people', 3799), ('reported', 3676), ('children', 2894), ('areas', 2551), ('water', 2519)]\n"
     ]
    }
   ],
   "source": [
    "# print most common words in dictionary\n",
    "print('Most common words in dictionary: ', sorted(dictionary.items(), key=lambda x: x[1], reverse=True)[:10])"
   ],
   "metadata": {
    "collapsed": false,
    "pycharm": {
     "name": "#%%\n"
    }
   }
  },
  {
   "cell_type": "code",
   "execution_count": 32,
   "outputs": [],
   "source": [
    "# keep only top-N most frequent words\n",
    "# removing any word with a lower frequency than a threshold\n",
    "# OOV (out-of-vocabulary) words will be replaced with the <oov> token\n",
    "def clean_dictionary(dictionary, N: int, threshold: int):\n",
    "    \"\"\"\n",
    "    Clean dictionary by keeping only top-N most frequent words and removing any word with a lower frequency than a threshold\n",
    "    :param dictionary: dictionary, dict\n",
    "    :param N: top-N most frequent words, int\n",
    "    :param threshold: threshold of word frequency, int\n",
    "    :return: cleaned dictionary, dict\n",
    "    \"\"\"\n",
    "    # keep only top-N most frequent words\n",
    "    dictionary = dict(sorted(dictionary.items(), key=lambda x: x[1], reverse=True)[:N])\n",
    "\n",
    "    # replace any word with a lower frequency than a threshold\n",
    "    del_list = []\n",
    "    for key, value in dictionary.copy().items():\n",
    "        if value < threshold:\n",
    "            dictionary['<oov>'] = dictionary.get('<oov>', 0) + value\n",
    "            dictionary.pop(key)\n",
    "    return dictionary"
   ],
   "metadata": {
    "collapsed": false,
    "pycharm": {
     "name": "#%%\n"
    }
   }
  },
  {
   "cell_type": "code",
   "execution_count": 33,
   "outputs": [],
   "source": [
    "dictionary = clean_dictionary(dictionary, N=100_000, threshold=5)"
   ],
   "metadata": {
    "collapsed": false,
    "pycharm": {
     "name": "#%%\n"
    }
   }
  },
  {
   "cell_type": "code",
   "execution_count": 34,
   "outputs": [
    {
     "name": "stdout",
     "output_type": "stream",
     "text": [
      "Length of dictionary:  8195\n"
     ]
    }
   ],
   "source": [
    "# print length of dictionary\n",
    "print('Length of dictionary: ', len(dictionary))"
   ],
   "metadata": {
    "collapsed": false,
    "pycharm": {
     "name": "#%%\n"
    }
   }
  },
  {
   "cell_type": "code",
   "execution_count": 35,
   "outputs": [
    {
     "data": {
      "text/plain": "[('<', 41249),\n ('num', 41249),\n ('>', 41249),\n ('<oov>', 33980),\n ('cases', 4758),\n ('food', 4138),\n ('people', 3799),\n ('reported', 3676),\n ('children', 2894),\n ('areas', 2551),\n ('water', 2519),\n ('health', 2476),\n ('said', 1919),\n ('access', 1829),\n ('including', 1793),\n ('per', 1703),\n ('also', 1690),\n ('percent', 1657),\n ('due', 1639),\n ('affected', 1638),\n ('since', 1600),\n ('deaths', 1469),\n ('number', 1406),\n ('households', 1390),\n ('total', 1354),\n ('humanitarian', 1322),\n ('two', 1320),\n ('security', 1309),\n ('million', 1298),\n ('week', 1298),\n ('one', 1285),\n ('prices', 1268),\n ('new', 1246),\n ('cent', 1234),\n ('refugees', 1230),\n ('state', 1221),\n ('country', 1169),\n ('government', 1165),\n ('year', 1154),\n ('displaced', 1148),\n ('assistance', 1136),\n ('according', 1119),\n ('cholera', 1116),\n ('need', 1115),\n ('phase', 1114),\n ('suspected', 1080),\n ('south', 1079),\n ('high', 1070),\n ('acute', 1063),\n ('ipc', 1060),\n ('may', 1038),\n ('women', 1038),\n ('many', 1028),\n ('region', 1027),\n ('season', 1018),\n ('last', 1002),\n ('outbreak', 1002),\n ('services', 976),\n ('area', 973),\n ('three', 971),\n ('population', 970),\n ('situation', 953),\n ('emergency', 944),\n ('malnutrition', 925),\n ('families', 904),\n ('idps', 904),\n ('years', 903),\n ('january', 902),\n ('local', 887),\n ('average', 886),\n ('increased', 883),\n ('poor', 875),\n ('confirmed', 871),\n ('insecurity', 870),\n ('increase', 851),\n ('case', 837),\n ('march', 830),\n ('lack', 828),\n ('crisis', 816),\n ('across', 812),\n ('expected', 805),\n ('risk', 804),\n ('needs', 797),\n ('facilities', 782),\n ('among', 778),\n ('city', 776),\n ('schools', 772),\n ('least', 770),\n ('camps', 769),\n ('support', 756),\n ('conflict', 747),\n ('school', 739),\n ('estimated', 732),\n ('however', 729),\n ('conditions', 725),\n ('production', 723),\n ('levels', 720),\n ('compared', 717),\n ('medical', 715),\n ('months', 706),\n ('february', 706),\n ('communities', 705),\n ('five', 701),\n ('april', 698),\n ('national', 696),\n ('remain', 677),\n ('violence', 676),\n ('continue', 670),\n ('education', 665),\n ('likely', 661),\n ('authorities', 657),\n ('camp', 654),\n ('response', 650),\n ('period', 647),\n ('rate', 643),\n ('well', 635),\n ('limited', 635),\n ('regions', 628),\n ('still', 628),\n ('human', 627),\n ('armed', 623),\n ('june', 615),\n ('rights', 614),\n ('protection', 613),\n ('care', 610),\n ('october', 609),\n ('states', 609),\n ('central', 608),\n ('severe', 603),\n ('december', 598),\n ('killed', 592),\n ('september', 580),\n ('refugee', 571),\n ('report', 569),\n ('rains', 567),\n ('sites', 564),\n ('forces', 562),\n ('maize', 561),\n ('community', 557),\n ('groups', 548),\n ('four', 547),\n ('main', 542),\n ('districts', 541),\n ('northern', 539),\n ('livestock', 536),\n ('east', 534),\n ('district', 534),\n ('ongoing', 533),\n ('province', 530),\n ('living', 528),\n ('west', 521),\n ('hospital', 519),\n ('recorded', 518),\n ('sudan', 516),\n ('first', 516),\n ('north', 515),\n ('following', 511),\n ('civilians', 509),\n ('august', 506),\n ('around', 502),\n ('currently', 499),\n ('eastern', 499),\n ('month', 497),\n ('reports', 496),\n ('parts', 495),\n ('nutrition', 493),\n ('international', 493),\n ('markets', 488),\n ('rainfall', 486),\n ('particularly', 484),\n ('recent', 483),\n ('time', 483),\n ('aid', 482),\n ('remains', 482),\n ('displacement', 477),\n ('result', 463),\n ('al', 460),\n ('disease', 459),\n ('early', 459),\n ('drought', 457),\n ('several', 455),\n ('partners', 455),\n ('july', 455),\n ('southern', 455),\n ('patients', 453),\n ('shelter', 453),\n ('weeks', 452),\n ('vulnerable', 452),\n ('november', 451),\n ('town', 451),\n ('market', 450),\n ('activities', 448),\n ('treatment', 445),\n ('basic', 443),\n ('continued', 443),\n ('residents', 440),\n ('assessment', 437),\n ('idp', 436),\n ('low', 436),\n ('could', 436),\n ('houses', 435),\n ('un', 432),\n ('girls', 430),\n ('border', 428),\n ('supplies', 427),\n ('military', 427),\n ('israeli', 425),\n ('level', 423),\n ('majority', 423),\n ('ministry', 419),\n ('already', 414),\n ('attacks', 413),\n ('death', 413),\n ('day', 411),\n ('el', 409),\n ('days', 408),\n ('continues', 407),\n ('harvest', 407),\n ('six', 406),\n ('forced', 402),\n ('homes', 402),\n ('measles', 402),\n ('damaged', 399),\n ('gaza', 397),\n ('higher', 397),\n ('host', 395),\n ('price', 393),\n ('reportedly', 390),\n ('past', 390),\n ('public', 389),\n ('palestinian', 388),\n ('available', 385),\n ('even', 383),\n ('land', 383),\n ('syrian', 382),\n ('supply', 382),\n ('shelters', 380),\n ('agricultural', 373),\n ('within', 371),\n ('villages', 370),\n ('county', 370),\n ('fever', 367),\n ('destroyed', 366),\n ('end', 366),\n ('previous', 366),\n ('told', 365),\n ('increasing', 365),\n ('current', 360),\n ('without', 359),\n ('group', 359),\n ('household', 358),\n ('crops', 357),\n ('child', 356),\n ('nearly', 355),\n ('age', 355),\n ('face', 355),\n ('died', 354),\n ('counties', 352),\n ('injured', 352),\n ('sources', 350),\n ('especially', 349),\n ('would', 349),\n ('major', 347),\n ('return', 345),\n ('police', 344),\n ('availability', 343),\n ('reporting', 343),\n ('severely', 342),\n ('safe', 338),\n ('sanitation', 337),\n ('significant', 336),\n ('approximately', 335),\n ('cfr', 334),\n ('wash', 334),\n ('beginning', 334),\n ('critical', 332),\n ('western', 332),\n ('received', 331),\n ('heavy', 329),\n ('rates', 329),\n ('addition', 328),\n ('half', 328),\n ('additional', 328),\n ('caused', 327),\n ('less', 323),\n ('provide', 323),\n ('members', 322),\n ('despite', 322),\n ('river', 322),\n ('diseases', 321),\n ('crop', 319),\n ('rural', 319),\n ('unhcr', 318),\n ('concern', 316),\n ('syria', 314),\n ('malaria', 312),\n ('highest', 312),\n ('provinces', 312),\n ('near', 309),\n ('impact', 306),\n ('lower', 305),\n ('control', 304),\n ('work', 303),\n ('others', 303),\n ('use', 303),\n ('found', 303),\n ('men', 303),\n ('primary', 301),\n ('large', 301),\n ('identified', 299),\n ('fuel', 298),\n ('capacity', 298),\n ('far', 296),\n ('overall', 293),\n ('locations', 291),\n ('almost', 291),\n ('management', 290),\n ('populations', 290),\n ('provided', 289),\n ('outcomes', 289),\n ('settlements', 288),\n ('persons', 287),\n ('system', 286),\n ('damage', 286),\n ('although', 286),\n ('dengue', 285),\n ('world', 284),\n ('centre', 284),\n ('family', 284),\n ('income', 284),\n ('figure', 283),\n ('insecure', 283),\n ('needed', 282),\n ('capital', 282),\n ('part', 282),\n ('attack', 282),\n ('facing', 282),\n ('unicef', 280),\n ('rice', 280),\n ('centres', 280),\n ('migrants', 278),\n ('workers', 277),\n ('source', 276),\n ('lean', 276),\n ('information', 275),\n ('fatality', 275),\n ('livelihood', 272),\n ('thousands', 272),\n ('fighting', 271),\n ('laboratory', 271),\n ('left', 269),\n ('resources', 269),\n ('reduced', 269),\n ('consumption', 268),\n ('official', 266),\n ('somali', 263),\n ('seven', 263),\n ('rohingya', 263),\n ('normal', 263),\n ('used', 262),\n ('darfur', 262),\n ('drinking', 261),\n ('positive', 260),\n ('improved', 259),\n ('livelihoods', 259),\n ('spread', 258),\n ('movement', 258),\n ('nigeria', 257),\n ('floods', 257),\n ('registered', 256),\n ('conducted', 256),\n ('sam', 256),\n ('remained', 256),\n ('staple', 256),\n ('power', 255),\n ('farmers', 253),\n ('late', 253),\n ('along', 252),\n ('borno', 251),\n ('village', 251),\n ('sexual', 251),\n ('th', 248),\n ('sector', 247),\n ('incidents', 247),\n ('civilian', 246),\n ('operations', 242),\n ('data', 242),\n ('countries', 241),\n ('hygiene', 241),\n ('governorates', 240),\n ('significantly', 240),\n ('second', 240),\n ('casualties', 239),\n ('somalia', 239),\n ('respectively', 237),\n ('working', 236),\n ('place', 235),\n ('yemen', 235),\n ('staff', 235),\n ('led', 234),\n ('hospitals', 234),\n ('nile', 234),\n ('another', 233),\n ('live', 231),\n ('wfp', 231),\n ('serious', 231),\n ('bank', 231),\n ('organization', 229),\n ('harvests', 229),\n ('army', 229),\n ('mainly', 229),\n ('started', 228),\n ('concerns', 228),\n ('says', 227),\n ('gam', 226),\n ('opportunities', 226),\n ('start', 226),\n ('pastoral', 225),\n ('located', 225),\n ('flooding', 225),\n ('relief', 225),\n ('cereal', 225),\n ('closed', 224),\n ('outbreaks', 223),\n ('urgent', 223),\n ('include', 222),\n ('infrastructure', 222),\n ('officials', 221),\n ('stressed', 221),\n ('often', 220),\n ('based', 219),\n ('rainy', 219),\n ('service', 219),\n ('dry', 219),\n ('us', 219),\n ('governorate', 218),\n ('reached', 218),\n ('open', 218),\n ('distribution', 218),\n ('individuals', 217),\n ('red', 216),\n ('zone', 216),\n ('targeted', 216),\n ('close', 216),\n ('able', 215),\n ('affecting', 215),\n ('agency', 215),\n ('resulted', 215),\n ('media', 215),\n ('numbers', 215),\n ('home', 215),\n ('given', 214),\n ('teachers', 214),\n ('arrivals', 214),\n ('made', 213),\n ('hit', 213),\n ('site', 212),\n ('civil', 209),\n ('long', 209),\n ('outside', 209),\n ('fled', 208),\n ('stocks', 208),\n ('sudanese', 208),\n ('improve', 208),\n ('kenya', 208),\n ('key', 207),\n ('eight', 207),\n ('efforts', 206),\n ('decline', 204),\n ('related', 204),\n ('reach', 204),\n ('prevalence', 203),\n ('ethiopia', 202),\n ('general', 202),\n ('items', 201),\n ('united', 200),\n ('risks', 200),\n ('meet', 199),\n ('zones', 199),\n ('famine', 198),\n ('actors', 198),\n ('require', 198),\n ('republic', 198),\n ('malnourished', 198),\n ('monday', 197),\n ('yet', 197),\n ('awd', 196),\n ('challenges', 195),\n ('students', 195),\n ('samples', 195),\n ('department', 195),\n ('shortage', 193),\n ('global', 193),\n ('aged', 193),\n ('trend', 192),\n ('war', 191),\n ('using', 191),\n ('urban', 191),\n ('decrease', 191),\n ('lives', 190),\n ('detention', 189),\n ('cluster', 189),\n ('seasonal', 189),\n ('greater', 188),\n ('today', 188),\n ('results', 187),\n ('back', 187),\n ('violations', 186),\n ('agriculture', 186),\n ('arrived', 185),\n ('adequate', 185),\n ('economic', 185),\n ('radio', 185),\n ('held', 184),\n ('wheat', 184),\n ('electricity', 184),\n ('healthcare', 184),\n ('recently', 183),\n ('plan', 183),\n ('shortages', 183),\n ('resulting', 183),\n ('lost', 183),\n ('mostly', 182),\n ('ghouta', 182),\n ('clashes', 182),\n ('road', 182),\n ('regional', 181),\n ('countrys', 181),\n ('latrines', 181),\n ('social', 181),\n ('followed', 181),\n ('development', 180),\n ('transmission', 180),\n ('cumulative', 180),\n ('suffering', 179),\n ('like', 178),\n ('campaign', 178),\n ('much', 178),\n ('throughout', 178),\n ('nations', 177),\n ('belowaverage', 177),\n ('rise', 177),\n ('restrictions', 176),\n ('negative', 176),\n ('hundreds', 175),\n ('returnees', 175),\n ('essential', 174),\n ('nine', 174),\n ('fire', 173),\n ('decreased', 173),\n ('funding', 173),\n ('law', 173),\n ('ensure', 172),\n ('taken', 172),\n ('required', 172),\n ('fall', 171),\n ('safety', 171),\n ('myanmar', 171),\n ('minister', 171),\n ('pregnant', 171),\n ('labor', 171),\n ('internally', 170),\n ('analysis', 170),\n ('remaining', 170),\n ('sorghum', 170),\n ('observed', 170),\n ('latest', 170),\n ('order', 169),\n ('roads', 169),\n ('diarrhoea', 168),\n ('earlier', 168),\n ('centers', 167),\n ('victims', 167),\n ('say', 166),\n ('wednesday', 166),\n ('measures', 166),\n ('occurred', 166),\n ('assessed', 166),\n ('northeast', 165),\n ('leading', 165),\n ('unable', 165),\n ('returned', 165),\n ('daily', 164),\n ('injuries', 164),\n ('young', 163),\n ('demand', 163),\n ('leaving', 162),\n ('experiencing', 162),\n ('next', 162),\n ('rain', 162),\n ('presence', 162),\n ('quality', 161),\n ('hours', 161),\n ('third', 161),\n ('interventions', 160),\n ('coping', 160),\n ('slightly', 159),\n ('increases', 159),\n ('take', 159),\n ('organizations', 159),\n ('boys', 159),\n ('monitoring', 159),\n ('detained', 159),\n ('vaccination', 158),\n ('agencies', 158),\n ('help', 158),\n ('rapid', 158),\n ('away', 157),\n ('oromia', 157),\n ('trade', 157),\n ('tuesday', 156),\n ('either', 156),\n ('seen', 156),\n ('imports', 155),\n ('survey', 155),\n ('journalists', 155),\n ('soldiers', 155),\n ('providing', 155),\n ('cross', 154),\n ('go', 154),\n ('cash', 154),\n ('provision', 153),\n ('probable', 153),\n ('flood', 152),\n ('possible', 152),\n ('difficult', 152),\n ('cost', 151),\n ('niger', 151),\n ('temporary', 151),\n ('night', 150),\n ('important', 150),\n ('political', 149),\n ('africa', 148),\n ('epidemic', 147),\n ('active', 147),\n ('lgas', 147),\n ('indicated', 146),\n ('office', 146),\n ('former', 146),\n ('date', 146),\n ('libya', 146),\n ('surveillance', 145),\n ('kordofan', 145),\n ('diphtheria', 145),\n ('different', 144),\n ('experienced', 144),\n ('mosul', 144),\n ('pasture', 144),\n ('sudans', 144),\n ('equatoria', 144),\n ('leave', 143),\n ('see', 143),\n ('rakhine', 143),\n ('receive', 143),\n ('associated', 142),\n ('indicate', 142),\n ('small', 142),\n ('better', 142),\n ('classified', 141),\n ('arrested', 141),\n ('coming', 141),\n ('medicines', 141),\n ('process', 141),\n ('buildings', 140),\n ('inside', 140),\n ('sea', 139),\n ('thursday', 139),\n ('widespread', 139),\n ('operation', 139),\n ('gaps', 139),\n ('learning', 139),\n ('newly', 139),\n ('times', 139),\n ('largest', 139),\n ('friday', 139),\n ('settlement', 138),\n ('life', 138),\n ('facility', 138),\n ('disaster', 138),\n ('carried', 137),\n ('commodities', 137),\n ('congo', 137),\n ('uganda', 137),\n ('quarter', 137),\n ('make', 136),\n ('opposition', 136),\n ('watch', 136),\n ('every', 136),\n ('began', 136),\n ('sunday', 136),\n ('impacted', 136),\n ('stable', 136),\n ('immediate', 135),\n ('though', 135),\n ('become', 135),\n ('prevent', 135),\n ('minimal', 135),\n ('good', 135),\n ('inadequate', 134),\n ('watery', 134),\n ('msf', 134),\n ('cattle', 134),\n ('head', 134),\n ('influx', 134),\n ('tested', 134),\n ('programme', 134),\n ('move', 133),\n ('body', 133),\n ('added', 133),\n ('building', 133),\n ('structures', 133),\n ('absence', 132),\n ('center', 132),\n ('issues', 132),\n ('released', 132),\n ('systems', 131),\n ('chronic', 131),\n ('juba', 131),\n ('towns', 131),\n ('declined', 131),\n ('causing', 130),\n ('ground', 130),\n ('net', 130),\n ('bangladesh', 130),\n ('oil', 130),\n ('put', 129),\n ('old', 129),\n ('coordination', 128),\n ('jerusalem', 128),\n ('fear', 128),\n ('private', 128),\n ('female', 128),\n ('team', 127),\n ('coverage', 127),\n ('attacked', 127),\n ('white', 127),\n ('extremely', 127),\n ('issued', 126),\n ('president', 126),\n ('teams', 126),\n ('projected', 126),\n ('virus', 126),\n ('wau', 126),\n ('force', 125),\n ('e', 125),\n ('car', 125),\n ('various', 125),\n ('lassa', 125),\n ('get', 125),\n ('action', 124),\n ('line', 124),\n ('neighbouring', 124),\n ('status', 124),\n ('israel', 124),\n ('meningitis', 124),\n ('foods', 124),\n ('asylum', 123),\n ('killing', 123),\n ('field', 122),\n ('means', 122),\n ('existing', 122),\n ('scale', 122),\n ('present', 122),\n ('onset', 122),\n ('physical', 121),\n ('director', 121),\n ('proportion', 121),\n ('terms', 121),\n ('hunger', 121),\n ('democratic', 121),\n ('council', 121),\n ('labour', 121),\n ('gap', 121),\n ('extreme', 121),\n ('declared', 120),\n ('infection', 120),\n ('airstrikes', 120),\n ('committee', 120),\n ('explosive', 120),\n ('dead', 119),\n ('similar', 119),\n ('secondary', 119),\n ('estimates', 119),\n ('domestic', 119),\n ('points', 119),\n ('worst', 118),\n ('took', 118),\n ('construction', 118),\n ('potential', 118),\n ('moderate', 118),\n ('weather', 118),\n ('gas', 118),\n ('receiving', 118),\n ('priority', 117),\n ('delivery', 117),\n ('doctors', 117),\n ('known', 117),\n ('grain', 117),\n ('enough', 117),\n ('point', 117),\n ('milk', 117),\n ('southeastern', 117),\n ('particular', 116),\n ('returning', 116),\n ('materials', 116),\n ('challenge', 116),\n ('ago', 116),\n ('ending', 116),\n ('functioning', 116),\n ('iom', 116),\n ('aleppo', 115),\n ('cause', 115),\n ('mortality', 115),\n ('travel', 115),\n ('statement', 115),\n ('burundi', 115),\n ('loss', 115),\n ('generally', 115),\n ('accessing', 115),\n ('turkey', 115),\n ('mission', 115),\n ('figures', 115),\n ('plague', 115),\n ('threshold', 114),\n ('african', 114),\n ('lead', 114),\n ('infected', 114),\n ('factors', 114),\n ('announced', 114),\n ('respondents', 114),\n ('pressure', 113),\n ('property', 113),\n ('km', 113),\n ('table', 113),\n ('migration', 113),\n ('supported', 113),\n ('traders', 112),\n ('flour', 112),\n ('person', 112),\n ('poverty', 112),\n ('showed', 112),\n ('sufficient', 112),\n ('financial', 112),\n ('deterioration', 111),\n ('insufficient', 111),\n ('damascus', 111),\n ('search', 111),\n ('little', 111),\n ('sustained', 111),\n ('largely', 111),\n ('common', 111),\n ('reduce', 111),\n ('considered', 110),\n ('partially', 110),\n ('air', 110),\n ('must', 110),\n ('experience', 110),\n ('makeshift', 110),\n ('money', 110),\n ('yobe', 110),\n ('authority', 110),\n ('abuse', 110),\n ('places', 109),\n ('included', 109),\n ('costs', 109),\n ('reduction', 109),\n ('torture', 109),\n ('deteriorate', 109),\n ('strip', 109),\n ('relatively', 109),\n ('show', 109),\n ('towards', 109),\n ('alone', 109),\n ('citizens', 109),\n ('address', 109),\n ('leaders', 109),\n ('tonnes', 109),\n ('legal', 108),\n ('equipment', 108),\n ('shows', 108),\n ('meanwhile', 108),\n ('purchasing', 108),\n ('governments', 107),\n ('documented', 107),\n ('news', 107),\n ('freedom', 107),\n ('c', 107),\n ('rising', 106),\n ('longer', 106),\n ('improvement', 106),\n ('incidence', 106),\n ('evacuation', 106),\n ('feeding', 106),\n ('admitted', 106),\n ('saturday', 106),\n ('making', 106),\n ('forecast', 106),\n ('set', 106),\n ('problem', 106),\n ('jonglei', 105),\n ('chad', 105),\n ('upper', 105),\n ('growing', 104),\n ('fews', 104),\n ('disrupted', 104),\n ('treated', 104),\n ('wounded', 104),\n ('male', 104),\n ('threats', 103),\n ('consecutive', 103),\n ('alert', 103),\n ('palestinians', 103),\n ('noted', 103),\n ('court', 103),\n ('issue', 103),\n ('planting', 103),\n ('came', 103),\n ('way', 103),\n ('surveyed', 103),\n ('targeting', 103),\n ('bahr', 103),\n ('minimum', 102),\n ('psychosocial', 102),\n ('persist', 102),\n ('cut', 102),\n ('afghanistan', 102),\n ('fields', 102),\n ('island', 102),\n ('islamic', 102),\n ('multiple', 102),\n ('mental', 102),\n ('reasons', 102),\n ('fiveyear', 102),\n ('coast', 102),\n ('strategies', 102),\n ('armyworm', 102),\n ('unity', 102),\n ('turkana', 101),\n ('commissioner', 101),\n ('earthquake', 101),\n ('housing', 101),\n ('territory', 101),\n ('suffer', 101),\n ('destruction', 101),\n ('short', 100),\n ('threat', 100),\n ('constraints', 100),\n ('nearby', 100),\n ('established', 100),\n ('practices', 100),\n ('therefore', 100),\n ('de', 100),\n ('strong', 100),\n ('clean', 100),\n ('strike', 100),\n ('cooking', 100),\n ('thus', 99),\n ('imported', 99),\n ('occupied', 99),\n ('ten', 99),\n ('direct', 99),\n ('adamawa', 99),\n ('recruitment', 99),\n ('boko', 98),\n ('rape', 98),\n ('crossing', 98),\n ('urgently', 98),\n ('yesterday', 98),\n ('condition', 98),\n ('commercial', 97),\n ('flee', 97),\n ('missing', 97),\n ('affect', 97),\n ('trends', 97),\n ('monthly', 97),\n ('includes', 96),\n ('lebanon', 96),\n ('hepatitis', 96),\n ('cover', 96),\n ('weekly', 96),\n ('assessments', 95),\n ('regular', 95),\n ('network', 95),\n ('brought', 95),\n ('opened', 95),\n ('personnel', 95),\n ('aboveaverage', 95),\n ('come', 95),\n ('called', 95),\n ('localized', 95),\n ('peak', 95),\n ('northwest', 95),\n ('transport', 95),\n ('mass', 95),\n ('losses', 94),\n ('kits', 94),\n ('drc', 94),\n ('locality', 94),\n ('infections', 94),\n ('fleeing', 94),\n ...]"
     },
     "execution_count": 35,
     "metadata": {},
     "output_type": "execute_result"
    }
   ],
   "source": [
    "sorted(dictionary.items(), key=lambda x: x[1], reverse=True)"
   ],
   "metadata": {
    "collapsed": false,
    "pycharm": {
     "name": "#%%\n"
    }
   }
  },
  {
   "cell_type": "code",
   "execution_count": 36,
   "outputs": [
    {
     "name": "stdout",
     "output_type": "stream",
     "text": [
      "Most common words in dictionary:  [('<', 41249), ('num', 41249), ('>', 41249), ('<oov>', 33980), ('cases', 4758), ('food', 4138), ('people', 3799), ('reported', 3676), ('children', 2894), ('areas', 2551)]\n",
      "Least common words in dictionary:  [('banking', 5), ('averaged', 5), ('yearthe', 5), ('droughtinduced', 5), ('secondlargest', 5), ('jilaal', 5), ('oppression', 5), ('teenage', 5), ('slum', 5), ('usaidfunded', 5)]\n"
     ]
    }
   ],
   "source": [
    "# print most common words in dictionary\n",
    "print('Most common words in dictionary: ', sorted(dictionary.items(), key=lambda x: x[1], reverse=True)[:10])\n",
    "print('Least common words in dictionary: ', sorted(dictionary.items(), key=lambda x: x[1], reverse=False)[:10])"
   ],
   "metadata": {
    "collapsed": false,
    "pycharm": {
     "name": "#%%\n"
    }
   }
  },
  {
   "cell_type": "markdown",
   "source": [
    "# Creating Sentence Vectors"
   ],
   "metadata": {
    "collapsed": false,
    "pycharm": {
     "name": "#%% md\n"
    }
   }
  },
  {
   "cell_type": "markdown",
   "source": [
    "## TF-IDF"
   ],
   "metadata": {
    "collapsed": false,
    "pycharm": {
     "name": "#%% md\n"
    }
   }
  },
  {
   "cell_type": "code",
   "execution_count": 37,
   "outputs": [],
   "source": [
    "# define term frequency\n",
    "def term_frequency(word, tokenized_text):\n",
    "    \"\"\"\n",
    "    Calculate term frequency\n",
    "    :param word: word, str\n",
    "    :param tokenized_text: tokenized text, list\n",
    "    :return: term frequency, float\n",
    "    \"\"\"\n",
    "    return np.log(tokenized_text.count(word) + 1)\n",
    "\n",
    "# define inverse document frequency\n",
    "def inverse_document_frequency(word, tokenized_text_list):\n",
    "    \"\"\"\n",
    "    Calculate inverse document frequency\n",
    "    :param word: word, str\n",
    "    :param tokenized_text_list: list of tokenized texts, list\n",
    "    :return: inverse document frequency, float\n",
    "    \"\"\"\n",
    "    num_texts_containing_word = sum(word in tokenized_text for tokenized_text in tokenized_text_list)\n",
    "    return np.log(len(tokenized_text_list) / (1 + num_texts_containing_word))\n",
    "\n",
    "# define tf-idf\n",
    "def tf_idf(word, tokenized_text, tokenized_text_list):\n",
    "    \"\"\"\n",
    "    Calculate tf-idf\n",
    "    :param word: word, str\n",
    "    :param tokenized_text: tokenized text, list\n",
    "    :param tokenized_text_list: list of tokenized texts, list\n",
    "    :return: tf-idf, float\n",
    "    \"\"\"\n",
    "    return term_frequency(word, tokenized_text) * inverse_document_frequency(word, tokenized_text_list)"
   ],
   "metadata": {
    "collapsed": false,
    "pycharm": {
     "name": "#%%\n"
    }
   }
  },
  {
   "cell_type": "code",
   "execution_count": 38,
   "outputs": [
    {
     "name": "stdout",
     "output_type": "stream",
     "text": [
      "TF-IDF of word \"num\" in text 1:  0.23354538677276349\n"
     ]
    }
   ],
   "source": [
    "# test\n",
    "print('TF-IDF of word \"num\" in text 1: ', tf_idf('num', train_df['tokenized_text'][0], train_df['tokenized_text']))"
   ],
   "metadata": {
    "collapsed": false,
    "pycharm": {
     "name": "#%%\n"
    }
   }
  },
  {
   "cell_type": "code",
   "execution_count": 54,
   "outputs": [],
   "source": [
    "from tqdm.auto import tqdm\n",
    "\n",
    "# create tf-idf matrix\n",
    "def create_tf_idf_matrix(tokenized_text_list, dictionary, idf):\n",
    "    \"\"\"\n",
    "    Create tf-idf matrix\n",
    "    :param tokenized_text_list: list of tokenized texts, list\n",
    "    :param dictionary: dictionary, dict\n",
    "    :param idf: idf for all words in dictionary, dict\n",
    "    :return: tf-idf matrix, np.array\n",
    "    \"\"\"\n",
    "    tf_idf_matrix = np.zeros((len(tokenized_text_list), len(dictionary)))\n",
    "    for i, tokenized_text in enumerate(tqdm(tokenized_text_list, total=len(tokenized_text_list))):\n",
    "        for j, word in enumerate(dictionary):\n",
    "            tf_idf_matrix[i, j] = term_frequency(word, tokenized_text) * idf[word]\n",
    "    return tf_idf_matrix"
   ],
   "metadata": {
    "collapsed": false,
    "pycharm": {
     "name": "#%%\n"
    }
   }
  },
  {
   "cell_type": "code",
   "execution_count": 55,
   "outputs": [
    {
     "data": {
      "text/plain": "  0%|          | 0/8195 [00:00<?, ?it/s]",
      "application/vnd.jupyter.widget-view+json": {
       "version_major": 2,
       "version_minor": 0,
       "model_id": "198e35478eab48e2989299b9de908b47"
      }
     },
     "metadata": {},
     "output_type": "display_data"
    },
    {
     "ename": "KeyboardInterrupt",
     "evalue": "",
     "output_type": "error",
     "traceback": [
      "\u001B[1;31m---------------------------------------------------------------------------\u001B[0m",
      "\u001B[1;31mKeyboardInterrupt\u001B[0m                         Traceback (most recent call last)",
      "Input \u001B[1;32mIn [55]\u001B[0m, in \u001B[0;36m<cell line: 11>\u001B[1;34m()\u001B[0m\n\u001B[0;32m      3\u001B[0m     \u001B[38;5;124;03m\"\"\"\u001B[39;00m\n\u001B[0;32m      4\u001B[0m \u001B[38;5;124;03m    Calculate idf for all words in dictionary using vectorization, from scratch\u001B[39;00m\n\u001B[0;32m      5\u001B[0m \u001B[38;5;124;03m    :param dictionary: dictionary, dict\u001B[39;00m\n\u001B[0;32m      6\u001B[0m \u001B[38;5;124;03m    :param tokenized_text_list: list of tokenized texts, list\u001B[39;00m\n\u001B[0;32m      7\u001B[0m \u001B[38;5;124;03m    :return: idf for all words in dictionary, dict\u001B[39;00m\n\u001B[0;32m      8\u001B[0m \u001B[38;5;124;03m    \"\"\"\u001B[39;00m\n\u001B[0;32m      9\u001B[0m     \u001B[38;5;28;01mreturn\u001B[39;00m {word: inverse_document_frequency(word, tokenized_text_list) \u001B[38;5;28;01mfor\u001B[39;00m word \u001B[38;5;129;01min\u001B[39;00m tqdm(dictionary, total\u001B[38;5;241m=\u001B[39m\u001B[38;5;28mlen\u001B[39m(dictionary))}\n\u001B[1;32m---> 11\u001B[0m idf \u001B[38;5;241m=\u001B[39m \u001B[43midf_all_words\u001B[49m\u001B[43m(\u001B[49m\u001B[43mdictionary\u001B[49m\u001B[43m,\u001B[49m\u001B[43m \u001B[49m\u001B[43mtrain_df\u001B[49m\u001B[43m[\u001B[49m\u001B[38;5;124;43m'\u001B[39;49m\u001B[38;5;124;43mtokenized_text\u001B[39;49m\u001B[38;5;124;43m'\u001B[39;49m\u001B[43m]\u001B[49m\u001B[43m)\u001B[49m\n",
      "Input \u001B[1;32mIn [55]\u001B[0m, in \u001B[0;36midf_all_words\u001B[1;34m(dictionary, tokenized_text_list)\u001B[0m\n\u001B[0;32m      2\u001B[0m \u001B[38;5;28;01mdef\u001B[39;00m \u001B[38;5;21midf_all_words\u001B[39m(dictionary, tokenized_text_list):\n\u001B[0;32m      3\u001B[0m     \u001B[38;5;124;03m\"\"\"\u001B[39;00m\n\u001B[0;32m      4\u001B[0m \u001B[38;5;124;03m    Calculate idf for all words in dictionary using vectorization, from scratch\u001B[39;00m\n\u001B[0;32m      5\u001B[0m \u001B[38;5;124;03m    :param dictionary: dictionary, dict\u001B[39;00m\n\u001B[0;32m      6\u001B[0m \u001B[38;5;124;03m    :param tokenized_text_list: list of tokenized texts, list\u001B[39;00m\n\u001B[0;32m      7\u001B[0m \u001B[38;5;124;03m    :return: idf for all words in dictionary, dict\u001B[39;00m\n\u001B[0;32m      8\u001B[0m \u001B[38;5;124;03m    \"\"\"\u001B[39;00m\n\u001B[1;32m----> 9\u001B[0m     \u001B[38;5;28;01mreturn\u001B[39;00m {word: inverse_document_frequency(word, tokenized_text_list) \u001B[38;5;28;01mfor\u001B[39;00m word \u001B[38;5;129;01min\u001B[39;00m tqdm(dictionary, total\u001B[38;5;241m=\u001B[39m\u001B[38;5;28mlen\u001B[39m(dictionary))}\n",
      "Input \u001B[1;32mIn [55]\u001B[0m, in \u001B[0;36m<dictcomp>\u001B[1;34m(.0)\u001B[0m\n\u001B[0;32m      2\u001B[0m \u001B[38;5;28;01mdef\u001B[39;00m \u001B[38;5;21midf_all_words\u001B[39m(dictionary, tokenized_text_list):\n\u001B[0;32m      3\u001B[0m     \u001B[38;5;124;03m\"\"\"\u001B[39;00m\n\u001B[0;32m      4\u001B[0m \u001B[38;5;124;03m    Calculate idf for all words in dictionary using vectorization, from scratch\u001B[39;00m\n\u001B[0;32m      5\u001B[0m \u001B[38;5;124;03m    :param dictionary: dictionary, dict\u001B[39;00m\n\u001B[0;32m      6\u001B[0m \u001B[38;5;124;03m    :param tokenized_text_list: list of tokenized texts, list\u001B[39;00m\n\u001B[0;32m      7\u001B[0m \u001B[38;5;124;03m    :return: idf for all words in dictionary, dict\u001B[39;00m\n\u001B[0;32m      8\u001B[0m \u001B[38;5;124;03m    \"\"\"\u001B[39;00m\n\u001B[1;32m----> 9\u001B[0m     \u001B[38;5;28;01mreturn\u001B[39;00m {word: \u001B[43minverse_document_frequency\u001B[49m\u001B[43m(\u001B[49m\u001B[43mword\u001B[49m\u001B[43m,\u001B[49m\u001B[43m \u001B[49m\u001B[43mtokenized_text_list\u001B[49m\u001B[43m)\u001B[49m \u001B[38;5;28;01mfor\u001B[39;00m word \u001B[38;5;129;01min\u001B[39;00m tqdm(dictionary, total\u001B[38;5;241m=\u001B[39m\u001B[38;5;28mlen\u001B[39m(dictionary))}\n",
      "Input \u001B[1;32mIn [37]\u001B[0m, in \u001B[0;36minverse_document_frequency\u001B[1;34m(word, tokenized_text_list)\u001B[0m\n\u001B[0;32m     12\u001B[0m \u001B[38;5;28;01mdef\u001B[39;00m \u001B[38;5;21minverse_document_frequency\u001B[39m(word, tokenized_text_list):\n\u001B[0;32m     13\u001B[0m     \u001B[38;5;124;03m\"\"\"\u001B[39;00m\n\u001B[0;32m     14\u001B[0m \u001B[38;5;124;03m    Calculate inverse document frequency\u001B[39;00m\n\u001B[0;32m     15\u001B[0m \u001B[38;5;124;03m    :param word: word, str\u001B[39;00m\n\u001B[0;32m     16\u001B[0m \u001B[38;5;124;03m    :param tokenized_text_list: list of tokenized texts, list\u001B[39;00m\n\u001B[0;32m     17\u001B[0m \u001B[38;5;124;03m    :return: inverse document frequency, float\u001B[39;00m\n\u001B[0;32m     18\u001B[0m \u001B[38;5;124;03m    \"\"\"\u001B[39;00m\n\u001B[1;32m---> 19\u001B[0m     num_texts_containing_word \u001B[38;5;241m=\u001B[39m \u001B[38;5;28;43msum\u001B[39;49m\u001B[43m(\u001B[49m\u001B[43mword\u001B[49m\u001B[43m \u001B[49m\u001B[38;5;129;43;01min\u001B[39;49;00m\u001B[43m \u001B[49m\u001B[43mtokenized_text\u001B[49m\u001B[43m \u001B[49m\u001B[38;5;28;43;01mfor\u001B[39;49;00m\u001B[43m \u001B[49m\u001B[43mtokenized_text\u001B[49m\u001B[43m \u001B[49m\u001B[38;5;129;43;01min\u001B[39;49;00m\u001B[43m \u001B[49m\u001B[43mtokenized_text_list\u001B[49m\u001B[43m)\u001B[49m\n\u001B[0;32m     20\u001B[0m     \u001B[38;5;28;01mreturn\u001B[39;00m np\u001B[38;5;241m.\u001B[39mlog(\u001B[38;5;28mlen\u001B[39m(tokenized_text_list) \u001B[38;5;241m/\u001B[39m (\u001B[38;5;241m1\u001B[39m \u001B[38;5;241m+\u001B[39m num_texts_containing_word))\n",
      "Input \u001B[1;32mIn [37]\u001B[0m, in \u001B[0;36m<genexpr>\u001B[1;34m(.0)\u001B[0m\n\u001B[0;32m     12\u001B[0m \u001B[38;5;28;01mdef\u001B[39;00m \u001B[38;5;21minverse_document_frequency\u001B[39m(word, tokenized_text_list):\n\u001B[0;32m     13\u001B[0m     \u001B[38;5;124;03m\"\"\"\u001B[39;00m\n\u001B[0;32m     14\u001B[0m \u001B[38;5;124;03m    Calculate inverse document frequency\u001B[39;00m\n\u001B[0;32m     15\u001B[0m \u001B[38;5;124;03m    :param word: word, str\u001B[39;00m\n\u001B[0;32m     16\u001B[0m \u001B[38;5;124;03m    :param tokenized_text_list: list of tokenized texts, list\u001B[39;00m\n\u001B[0;32m     17\u001B[0m \u001B[38;5;124;03m    :return: inverse document frequency, float\u001B[39;00m\n\u001B[0;32m     18\u001B[0m \u001B[38;5;124;03m    \"\"\"\u001B[39;00m\n\u001B[1;32m---> 19\u001B[0m     num_texts_containing_word \u001B[38;5;241m=\u001B[39m \u001B[38;5;28msum\u001B[39m(word \u001B[38;5;129;01min\u001B[39;00m tokenized_text \u001B[38;5;28;01mfor\u001B[39;00m tokenized_text \u001B[38;5;129;01min\u001B[39;00m tokenized_text_list)\n\u001B[0;32m     20\u001B[0m     \u001B[38;5;28;01mreturn\u001B[39;00m np\u001B[38;5;241m.\u001B[39mlog(\u001B[38;5;28mlen\u001B[39m(tokenized_text_list) \u001B[38;5;241m/\u001B[39m (\u001B[38;5;241m1\u001B[39m \u001B[38;5;241m+\u001B[39m num_texts_containing_word))\n",
      "\u001B[1;31mKeyboardInterrupt\u001B[0m: "
     ]
    }
   ],
   "source": [
    "# define idf for all words in dictionary using vectorization, from scratch\n",
    "def idf_all_words(dictionary, tokenized_text_list):\n",
    "    \"\"\"\n",
    "    Calculate idf for all words in dictionary using vectorization, from scratch\n",
    "    :param dictionary: dictionary, dict\n",
    "    :param tokenized_text_list: list of tokenized texts, list\n",
    "    :return: idf for all words in dictionary, dict\n",
    "    \"\"\"\n",
    "    return {word: inverse_document_frequency(word, tokenized_text_list) for word in tqdm(dictionary, total=len(dictionary))}\n",
    "\n",
    "idf = idf_all_words(dictionary, train_df['tokenized_text'])"
   ],
   "metadata": {
    "collapsed": false,
    "pycharm": {
     "name": "#%%\n"
    }
   }
  },
  {
   "cell_type": "code",
   "execution_count": 56,
   "outputs": [
    {
     "data": {
      "text/plain": "  0%|          | 0/12110 [00:00<?, ?it/s]",
      "application/vnd.jupyter.widget-view+json": {
       "version_major": 2,
       "version_minor": 0,
       "model_id": "93d0ec692b254bd6a9d001397f435da5"
      }
     },
     "metadata": {},
     "output_type": "display_data"
    }
   ],
   "source": [
    "tf_idf_matrix_train = create_tf_idf_matrix(train_df['tokenized_text'], dictionary, idf)"
   ],
   "metadata": {
    "collapsed": false,
    "pycharm": {
     "name": "#%%\n"
    }
   }
  },
  {
   "cell_type": "code",
   "execution_count": 57,
   "outputs": [
    {
     "data": {
      "text/plain": "  0%|          | 0/2595 [00:00<?, ?it/s]",
      "application/vnd.jupyter.widget-view+json": {
       "version_major": 2,
       "version_minor": 0,
       "model_id": "5c1d801184da4d0b9bf0c52cba55565d"
      }
     },
     "metadata": {},
     "output_type": "display_data"
    },
    {
     "data": {
      "text/plain": "  0%|          | 0/2596 [00:00<?, ?it/s]",
      "application/vnd.jupyter.widget-view+json": {
       "version_major": 2,
       "version_minor": 0,
       "model_id": "5750f86385954681bfcb7798ec65b2e0"
      }
     },
     "metadata": {},
     "output_type": "display_data"
    }
   ],
   "source": [
    "tf_idf_matrix_test = create_tf_idf_matrix(test_df['tokenized_text'], dictionary, idf)\n",
    "tf_idf_matrix_val = create_tf_idf_matrix(val_df['tokenized_text'], dictionary, idf)"
   ],
   "metadata": {
    "collapsed": false,
    "pycharm": {
     "name": "#%%\n"
    }
   }
  },
  {
   "cell_type": "code",
   "execution_count": 58,
   "outputs": [],
   "source": [
    "import pickle as pkl\n",
    "pkl.dump(tf_idf_matrix_train, open('tf_idf_matrix_train.pkl', 'wb'))\n",
    "pkl.dump(tf_idf_matrix_test, open('tf_idf_matrix_test.pkl', 'wb'))\n",
    "pkl.dump(tf_idf_matrix_val, open('tf_idf_matrix_val.pkl', 'wb'))"
   ],
   "metadata": {
    "collapsed": false,
    "pycharm": {
     "name": "#%%\n"
    }
   }
  },
  {
   "cell_type": "code",
   "execution_count": 59,
   "outputs": [
    {
     "data": {
      "text/plain": "array([[0.23354539, 0.23354539, 0.23354539, ..., 0.        , 0.        ,\n        0.        ],\n       [0.70063616, 0.70063616, 0.70063616, ..., 0.        , 0.        ,\n        0.        ],\n       [0.        , 0.        , 0.        , ..., 0.        , 0.        ,\n        0.        ],\n       ...,\n       [0.        , 0.        , 0.        , ..., 0.        , 0.        ,\n        0.        ],\n       [0.        , 0.        , 0.        , ..., 0.        , 0.        ,\n        0.        ],\n       [0.46709077, 0.46709077, 0.46709077, ..., 0.        , 0.        ,\n        0.        ]])"
     },
     "execution_count": 59,
     "metadata": {},
     "output_type": "execute_result"
    }
   ],
   "source": [
    "tf_idf_matrix_train"
   ],
   "metadata": {
    "collapsed": false,
    "pycharm": {
     "name": "#%%\n"
    }
   }
  },
  {
   "cell_type": "code",
   "execution_count": 60,
   "outputs": [
    {
     "name": "stdout",
     "output_type": "stream",
     "text": [
      "Shape of tf-idf matrix:  (12110, 8195)\n",
      "Average tf-idf value of word \"num\" in text 1:  0.23354538677276349\n"
     ]
    }
   ],
   "source": [
    "# print shape of tf-idf matrix\n",
    "print('Shape of tf-idf matrix: ', tf_idf_matrix_train.shape)\n",
    "print('Average tf-idf value of word \"num\" in text 1: ', tf_idf_matrix_train[0, list(dictionary.keys()).index(list(dictionary.keys())[0])])"
   ],
   "metadata": {
    "collapsed": false,
    "pycharm": {
     "name": "#%%\n"
    }
   }
  },
  {
   "cell_type": "code",
   "execution_count": 61,
   "outputs": [
    {
     "data": {
      "text/plain": "0"
     },
     "execution_count": 61,
     "metadata": {},
     "output_type": "execute_result"
    }
   ],
   "source": [
    "list(dictionary.keys()).index(list(dictionary.keys())[0])"
   ],
   "metadata": {
    "collapsed": false,
    "pycharm": {
     "name": "#%%\n"
    }
   }
  },
  {
   "cell_type": "markdown",
   "source": [
    "## BM25"
   ],
   "metadata": {
    "collapsed": false,
    "pycharm": {
     "name": "#%% md\n"
    }
   }
  },
  {
   "cell_type": "code",
   "execution_count": 46,
   "outputs": [],
   "source": [
    "# define BM25\n",
    "avg_len_text = np.mean([len(tokenized_text) for tokenized_text in train_df['tokenized_text']])\n",
    "\n",
    "def bm25(word, tokenized_text, tokenized_text_list, idf=idf, k=1.4, b=0.9):\n",
    "    \"\"\"\n",
    "    Calculate BM25\n",
    "    :param word: word, str\n",
    "    :param tokenized_text: tokenized text, list\n",
    "    :param tokenized_text_list: list of tokenized texts, list\n",
    "    :param k: k, float\n",
    "    :param b: b, float\n",
    "    :return: BM25, float\n",
    "    \"\"\"\n",
    "    return idf[word] * (term_frequency(word, tokenized_text) * (k + 1)) / (term_frequency(word, tokenized_text) + k * (1 - b + b * len(tokenized_text) / avg_len_text))"
   ],
   "metadata": {
    "collapsed": false,
    "pycharm": {
     "name": "#%%\n"
    }
   }
  },
  {
   "cell_type": "code",
   "execution_count": 47,
   "outputs": [
    {
     "name": "stdout",
     "output_type": "stream",
     "text": [
      "BM25 of word \"num\" in text 1:  0.44945051332030167\n"
     ]
    }
   ],
   "source": [
    "# test\n",
    "print('BM25 of word \"num\" in text 1: ', bm25('num', train_df['tokenized_text'][0], train_df['tokenized_text']))"
   ],
   "metadata": {
    "collapsed": false,
    "pycharm": {
     "name": "#%%\n"
    }
   }
  },
  {
   "cell_type": "code",
   "execution_count": 48,
   "outputs": [
    {
     "data": {
      "text/plain": "{'<': 0.3369347713195608,\n 'num': 0.3369347713195608,\n '>': 0.3369347713195608,\n 'cases': 1.9106992430122622,\n 'food': 1.824664905670459,\n 'people': 1.5396746248843896,\n 'reported': 1.7587832009864202,\n 'children': 1.9106992430122622,\n 'areas': 1.917418193261007,\n 'water': 2.230898358034633,\n 'health': 2.1094496603732606,\n 'said': 2.158988913753382,\n 'access': 2.194667980339382,\n 'including': 2.0972708900869828,\n 'per': 2.5938518928472116,\n 'also': 2.101314022279339,\n 'percent': 2.688830635870068,\n 'due': 2.1726729587538363,\n 'affected': 2.2653036279568903,\n 'since': 2.1618542452266687,\n 'deaths': 2.5687551037609375,\n 'number': 2.3691625755191317,\n 'households': 2.6851920630261596,\n 'total': 2.4673896266185795,\n 'humanitarian': 2.52862300233462,\n 'two': 2.389671542240758,\n 'security': 2.500049629890564,\n 'million': 2.6460179145628824,\n 'week': 2.789745801714046,\n 'one': 2.4189240850781957,\n 'prices': 2.9325365197513653,\n 'new': 2.5327723858814313,\n 'cent': 2.97691781264175,\n 'refugees': 2.7593000351798818,\n 'state': 2.6128150935549677,\n 'country': 2.5183242501340453,\n 'government': 2.5327723858814313,\n 'year': 2.569833270981283,\n 'displaced': 2.6460179145628824,\n 'assistance': 2.630997412638158,\n 'according': 2.4673896266185795,\n 'cholera': 2.9202097072707067,\n 'need': 2.5927475305041585,\n 'phase': 3.1752501672596725,\n 'suspected': 2.8665455655334795,\n 'south': 2.7221876507027547,\n 'high': 2.623001938861961,\n 'acute': 2.819761697654312,\n 'ipc': 3.2342703456587967,\n 'may': 2.690046441490958,\n 'women': 2.8521360943133276,\n 'many': 2.6161991915392084,\n 'region': 2.756695867041494,\n 'season': 2.7951366503489226,\n 'last': 2.6241402429120213,\n 'outbreak': 2.814236821722342,\n 'services': 2.8032778079326226,\n 'area': 2.728488868779484,\n 'three': 2.6755534341883913,\n 'population': 2.7109445591285746,\n 'situation': 2.7272254447327122,\n 'emergency': 2.761911002720602,\n 'malnutrition': 3.0864288350248033,\n 'families': 2.9624364654470394,\n 'idps': 3.073850052817943,\n 'years': 2.773745460367605,\n 'january': 2.8309038742075536,\n 'local': 2.769785059151508,\n 'average': 3.001529391238317,\n 'increased': 2.8183776143883734,\n 'poor': 2.9403186601934204,\n 'confirmed': 3.0404843589741426,\n 'insecurity': 2.943448553202348,\n 'increase': 2.833708925135162,\n 'case': 3.151811594287655,\n 'march': 2.946588273207016,\n 'lack': 2.8782245303976257,\n 'crisis': 2.900497166006749,\n 'across': 2.81011310453848,\n 'expected': 3.0491574402275714,\n 'risk': 2.917151600911886,\n 'needs': 2.9202097072707067,\n 'facilities': 3.077427874165827,\n 'among': 2.8989967906315144,\n 'city': 3.0474167957497875,\n 'schools': 3.305962274114913,\n 'least': 2.8796940383769853,\n 'camps': 3.117652675476336,\n 'support': 2.9624364654470394,\n 'conflict': 3.0048571813309914,\n 'school': 3.3241445931981035,\n 'estimated': 2.9340881104427843,\n 'however': 2.8593148760403335,\n 'conditions': 2.9850545540348117,\n 'production': 3.1891807407956194,\n 'levels': 3.0596654178259866,\n 'compared': 3.009869723154536,\n 'medical': 3.219701929830506,\n 'months': 2.9592466700789393,\n 'february': 3.121390997586943,\n 'communities': 3.136485623809428,\n 'five': 2.9720673585080006,\n 'april': 3.0828187228007033,\n 'national': 3.0065252384316885,\n 'remain': 2.9998696398199525,\n 'violence': 3.136485623809428,\n 'continue': 2.998212638612323,\n 'education': 3.3663054040223814,\n 'likely': 3.1972290739784475,\n 'authorities': 3.0267620167190414,\n 'camp': 3.4003719585859877,\n 'response': 3.157619935883402,\n 'period': 3.0900520273942234,\n 'rate': 3.2554575788782407,\n 'well': 3.013225431001508,\n 'limited': 3.1028375896911955,\n 'regions': 3.2342703456587967,\n 'still': 3.0404843589741426,\n 'human': 3.2448078509615823,\n 'armed': 3.2448078509615823,\n 'june': 3.2053427087526174,\n 'rights': 3.299228241933569,\n 'protection': 3.266221945465399,\n 'care': 3.4279772246778766,\n 'october': 3.230086239136223,\n 'states': 3.4668926409275502,\n 'central': 3.1307984046888384,\n 'severe': 3.1139282763853533,\n 'december': 3.230086239136223,\n 'killed': 3.24692874253072,\n 'september': 3.2511840681008586,\n 'refugee': 3.340329917619121,\n 'report': 3.2342703456587967,\n 'rains': 3.3639159166250003,\n 'sites': 3.7046933500417336,\n 'forces': 3.2903194970444596,\n 'maize': 3.6428850626698575,\n 'community': 3.2792940270327517,\n 'groups': 3.340329917619121,\n 'four': 3.217637945609655,\n 'main': 3.2384720325124965,\n 'districts': 3.3711015762858745,\n 'northern': 3.2405795148520613,\n 'livestock': 3.593644346566694,\n 'east': 3.3711015762858745,\n 'district': 3.3929736511045427,\n 'ongoing': 3.1952109098222103,\n 'province': 3.388071680504336,\n 'living': 3.2903194970444596,\n 'west': 3.3687006147483363,\n 'hospital': 3.6210433207548087,\n 'recorded': 3.3663054040223814,\n 'sudan': 3.4828929822739916,\n 'first': 3.2705603470639972,\n 'north': 3.3807634871976115,\n 'following': 3.228000732645201,\n 'civilians': 3.4668926409275502,\n 'august': 3.3759208627218236,\n 'around': 3.274917652432953,\n 'currently': 3.257601202421492,\n 'eastern': 3.3831936220509036,\n 'month': 3.340329917619121,\n 'reports': 3.2925392537827727,\n 'parts': 3.3241445931981035,\n 'nutrition': 3.5611451791737396,\n 'international': 3.3450028233185134,\n 'markets': 3.6210433207548087,\n 'rainfall': 3.5787409410641193,\n 'particularly': 3.2814894175961875,\n 'recent': 3.2554575788782407,\n 'time': 3.31047695446944,\n 'aid': 3.515682805096982,\n 'remains': 3.3037125543808976,\n 'displacement': 3.395433676945405,\n 'result': 3.3150121096348313,\n 'al': 3.8923984999191608,\n 'disease': 3.4485435022593536,\n 'early': 3.3929736511045427,\n 'drought': 3.453751847366492,\n 'several': 3.3759208627218236,\n 'partners': 3.4254359272492043,\n 'july': 3.4153348312627,\n 'southern': 3.4128254196572745,\n 'patients': 3.694676571798262,\n 'shelter': 3.538155660949041,\n 'weeks': 3.4305249967566755,\n 'vulnerable': 3.3929736511045427,\n 'november': 3.5495843567726637,\n 'town': 3.5495843567726637,\n 'market': 3.639735453766961,\n 'activities': 3.485584773939703,\n 'treatment': 3.4964249884925676,\n 'basic': 3.422901071646016,\n 'continued': 3.378339243586105,\n 'residents': 3.538155660949041,\n 'assessment': 3.504632968910397,\n 'idp': 3.714811480207318,\n 'low': 3.4668926409275502,\n 'could': 3.435640097423446,\n 'houses': 3.5906458435704374,\n 'un': 3.5611451791737396,\n 'girls': 3.714811480207318,\n 'border': 3.5846756765839336,\n 'supplies': 3.510142624721367,\n 'military': 3.593644346566694,\n 'israeli': 3.8923984999191608,\n 'level': 3.518464448058859,\n 'majority': 3.4279772246778766,\n 'ministry': 3.4991535031457714,\n 'already': 3.4407814969238646,\n 'attacks': 3.5906458435704374,\n 'death': 3.5268561056951073,\n 'day': 3.5324899234133635,\n 'el': 3.8449587748476004,\n 'days': 3.5268561056951073,\n 'continues': 3.453751847366492,\n 'harvest': 3.6523938506388847,\n 'six': 3.5073840022822873,\n 'forced': 3.5324899234133635,\n 'homes': 3.575786729166688,\n 'measles': 3.8964553006147753,\n 'damaged': 3.6057290857817663,\n 'gaza': 3.916989903056483,\n 'higher': 3.581703906194776,\n 'host': 3.655583646006985,\n 'price': 3.8220570105609157,\n 'reportedly': 3.6210433207548087,\n 'past': 3.5129088782142572,\n 'public': 3.5611451791737396,\n 'palestinian': 3.8923984999191608,\n 'available': 3.6118266656498847,\n 'even': 3.504632968910397,\n 'land': 3.714811480207318,\n 'syrian': 3.8220570105609157,\n 'supply': 3.6241345133244813,\n 'shelters': 3.8803259186848913,\n 'agricultural': 3.698004361890937,\n 'within': 3.5966518676306496,\n 'villages': 3.7598797656090244,\n 'county': 3.8566093920675755,\n 'fever': 3.9128491103904515,\n 'destroyed': 3.630345713417122,\n 'end': 3.5353187796138412,\n 'previous': 3.608773228162994,\n 'told': 3.5846756765839336,\n 'increasing': 3.5728412189369307,\n 'current': 3.575786729166688,\n 'without': 3.5669760994845325,\n 'group': 3.674939088959941,\n 'household': 3.678201734594757,\n 'crops': 3.7705750547257724,\n 'child': 3.7886587301590677,\n 'nearly': 3.6118266656498847,\n 'age': 3.7457950257272854,\n 'face': 3.6492141977215047,\n 'died': 3.7182070692084563,\n 'counties': 3.900528626002411,\n 'injured': 3.8070754569452987,\n 'sources': 3.725033034278856,\n 'especially': 3.593644346566694,\n 'would': 3.725033034278856,\n 'major': 3.665214539067946,\n 'return': 3.7777693303597997,\n 'police': 3.8843339400824304,\n 'availability': 3.752812598385932,\n 'reporting': 3.7046933500417336,\n 'severely': 3.698004361890937,\n 'safe': 3.735360148434706,\n 'sanitation': 3.7598797656090244,\n 'significant': 3.6428850626698575,\n 'approximately': 3.7182070692084563,\n 'cfr': 3.9946150650870194,\n 'wash': 3.981251837274852,\n 'beginning': 3.6428850626698575,\n 'critical': 3.752812598385932,\n 'western': 3.735360148434706,\n 'received': 3.714811480207318,\n 'heavy': 3.7284635693756454,\n 'rates': 3.8220570105609157,\n 'addition': 3.646044622960226,\n 'half': 3.6716870535735637,\n 'additional': 3.678201734594757,\n 'caused': 3.665214539067946,\n 'less': 3.7563399389039,\n 'provide': 3.688054031037769,\n 'members': 3.7813859708299877,\n 'despite': 3.6587836487376557,\n 'river': 3.84110520553161,\n 'diseases': 3.8145381781468886,\n 'crop': 3.900528626002411,\n 'rural': 3.833442332786041,\n 'unhcr': 3.981251837274852,\n 'concern': 3.731905913566618,\n 'syria': 3.8763338974153543,\n 'malaria': 4.176040162833937,\n 'highest': 3.7457950257272854,\n 'provinces': 3.8964553006147753,\n 'near': 3.7598797656090244,\n 'impact': 3.7705750547257724,\n 'lower': 3.872357749035715,\n 'control': 3.803364877548763,\n 'work': 3.8763338974153543,\n 'others': 3.735360148434706,\n 'use': 3.7886587301590677,\n 'found': 3.8763338974153543,\n 'men': 3.942201322402979,\n 'primary': 3.8843339400824304,\n 'large': 3.7669972333778885,\n 'identified': 3.8372664292244445,\n 'fuel': 4.149513408500508,\n 'capacity': 3.8449587748476004,\n 'far': 3.7563399389039,\n 'overall': 3.7886587301590677,\n 'locations': 4.098481928488062,\n 'almost': 3.7669972333778885,\n 'management': 3.916989903056483,\n 'populations': 3.929516162875663,\n 'provided': 3.8964553006147753,\n 'outcomes': 4.242731537332609,\n 'settlements': 4.021889483006678,\n 'persons': 3.916989903056483,\n 'system': 3.929516162875663,\n 'damage': 3.916989903056483,\n 'although': 3.7959847702511404,\n 'dengue': 4.425053094126564,\n 'world': 3.7813859708299877,\n 'centre': 4.06424875684582,\n 'family': 3.8923984999191608,\n 'income': 4.008159290194777,\n 'figure': 3.9087253932065895,\n 'insecure': 4.008159290194777,\n 'needed': 3.9128491103904515,\n 'capital': 3.8070754569452987,\n 'part': 3.818290527765439,\n 'attack': 4.088580857505351,\n 'facing': 3.8964553006147753,\n 'unicef': 3.9464657211894365,\n 'rice': 4.170678219692552,\n 'centres': 4.035810821525287,\n 'migrants': 4.277822857143879,\n 'workers': 3.9507483829814376,\n 'source': 4.012715106730637,\n 'lean': 3.9128491103904515,\n 'information': 3.9211479132051466,\n 'fatality': 4.069068043281769,\n 'livelihood': 3.9946150650870194,\n 'thousands': 3.8644525695286016,\n 'fighting': 3.9464657211894365,\n 'laboratory': 4.0739106677575565,\n 'left': 3.84110520553161,\n 'resources': 3.900528626002411,\n 'reduced': 3.916989903056483,\n 'consumption': 4.1339286774838095,\n 'official': 3.916989903056483,\n 'somali': 4.128787277983391,\n 'seven': 3.900528626002411,\n 'rohingya': 4.248495242049359,\n 'normal': 4.098481928488062,\n 'used': 3.9593691260253445,\n 'darfur': 4.197780149470343,\n 'drinking': 4.054679305829669,\n 'positive': 4.170678219692552,\n 'improved': 4.021889483006678,\n 'livelihoods': 3.972441207592697,\n 'spread': 3.9768368190657353,\n 'movement': 3.9464657211894365,\n 'nigeria': 4.128787277983391,\n 'floods': 4.059452584582327,\n 'registered': 3.942201322402979,\n 'conducted': 3.942201322402979,\n 'sam': 4.265988399496877,\n 'remained': 4.008159290194777,\n 'staple': 4.113519805852603,\n 'power': 4.026508428862973,\n 'farmers': 4.154762764386652,\n 'late': 3.981251837274852,\n 'along': 3.916989903056483,\n 'borno': 4.231302841508986,\n 'village': 4.088580857505351,\n 'sexual': 4.186851078938152,\n 'th': 4.254292359733685,\n 'sector': 4.083666842702922,\n 'incidents': 4.220003286255053,\n 'civilian': 4.220003286255053,\n 'operations': 4.040494670837713,\n 'data': 4.049928703071071,\n 'countries': 4.021889483006678,\n 'hygiene': 4.1339286774838095,\n 'governorates': 4.248495242049359,\n 'significantly': 3.9637075276239426,\n 'second': 4.026508428862973,\n 'casualties': 4.391151542450882,\n 'somalia': 4.1653448737171885,\n 'respectively': 4.049928703071071,\n 'working': 4.031148808419475,\n 'place': 4.012715106730637,\n 'yemen': 4.231302841508986,\n 'staff': 4.083666842702922,\n 'led': 4.012715106730637,\n 'hospitals': 4.1653448737171885,\n 'nile': 4.289799048190595,\n 'another': 3.990140784692098,\n 'live': 4.054679305829669,\n 'wfp': 4.208829985656927,\n 'serious': 4.040494670837713,\n 'bank': 4.214401030706383,\n 'organization': 4.0739106677575565,\n 'harvests': 4.181431011468813,\n 'army': 4.1339286774838095,\n 'mainly': 4.008159290194777,\n 'started': 4.035810821525287,\n 'concerns': 4.06424875684582,\n 'says': 4.123672177316621,\n 'gam': 4.581505270942101,\n 'opportunities': 4.123672177316621,\n 'start': 4.040494670837713,\n 'pastoral': 4.3713489151547025,\n 'located': 4.054679305829669,\n 'flooding': 4.139096647642252,\n 'relief': 4.144291464519356,\n 'cereal': 4.364834234133509,\n 'closed': 4.144291464519356,\n 'outbreaks': 4.1653448737171885,\n 'urgent': 4.026508428862973,\n 'include': 4.059452584582327,\n 'infrastructure': 4.1034694699991014,\n 'officials': 4.123672177316621,\n 'stressed': 4.186851078938152,\n 'often': 4.160039821487495,\n 'based': 4.059452584582327,\n 'rainy': 4.170678219692552,\n 'service': 4.208829985656927,\n 'dry': 4.1653448737171885,\n 'us': 4.283793024130383,\n 'governorate': 4.225637103973309,\n 'reached': 4.049928703071071,\n 'open': 4.181431011468813,\n 'distribution': 4.220003286255053,\n 'individuals': 4.208829985656927,\n 'red': 4.225637103973309,\n 'zone': 4.314190501314754,\n 'targeted': 4.113519805852603,\n 'close': 4.0739106677575565,\n 'able': 4.069068043281769,\n 'affecting': 4.078776857408729,\n 'agency': 4.1339286774838095,\n 'resulted': 4.113519805852603,\n 'media': 4.231302841508986,\n 'numbers': 4.093519139145934,\n 'home': 4.139096647642252,\n 'given': 4.1034694699991014,\n 'teachers': 4.489131950811086,\n 'arrivals': 4.225637103973309,\n 'made': 4.069068043281769,\n 'hit': 4.154762764386652,\n 'site': 4.34554103119883,\n 'civil': 4.170678219692552,\n 'long': 4.160039821487495,\n 'outside': 4.1339286774838095,\n 'fled': 4.176040162833937,\n 'stocks': 4.231302841508986,\n 'sudanese': 4.289799048190595,\n 'improve': 4.220003286255053,\n 'kenya': 4.34554103119883,\n 'key': 4.160039821487495,\n 'eight': 4.139096647642252,\n 'efforts': 4.113519805852603,\n 'decline': 4.170678219692552,\n 'related': 4.154762764386652,\n 'reach': 4.197780149470343,\n 'prevalence': 4.397840530601679,\n 'ethiopia': 4.308036635740375,\n 'general': 4.197780149470343,\n 'items': 4.254292359733685,\n 'united': 4.1653448737171885,\n 'risks': 4.231302841508986,\n 'meet': 4.208829985656927,\n 'zones': 4.34554103119883,\n 'famine': 4.489131950811086,\n 'actors': 4.271888121624064,\n 'require': 4.192300683705717,\n 'republic': 4.231302841508986,\n 'malnourished': 4.453026946168969,\n 'monday': 4.1653448737171885,\n 'yet': 4.1339286774838095,\n 'awd': 4.605996290950396,\n 'challenges': 4.208829985656927,\n 'students': 4.557599750088547,\n 'samples': 4.496512058108708,\n 'department': 4.326613021313311,\n 'shortage': 4.220003286255053,\n 'global': 4.208829985656927,\n 'aged': 4.332882634326906,\n 'trend': 4.214401030706383,\n 'war': 4.277822857143879,\n 'using': 4.237000862623624,\n 'urban': 4.308036635740375,\n 'decrease': 4.30192040872294,\n 'lives': 4.181431011468813,\n 'detention': 4.397840530601679,\n 'cluster': 4.3713489151547025,\n 'seasonal': 4.34554103119883,\n 'greater': 4.518984913960767,\n 'today': 4.237000862623624,\n 'results': 4.277822857143879,\n 'back': 4.260123280044478,\n 'violations': 4.460144413937834,\n 'agriculture': 4.314190501314754,\n 'arrived': 4.265988399496877,\n 'adequate': 4.283793024130383,\n 'economic': 4.271888121624064,\n 'radio': 4.277822857143879,\n 'held': 4.339191803520171,\n 'wheat': 4.605996290950396,\n 'electricity': 4.418180214838801,\n 'healthcare': 4.391151542450882,\n 'recently': 4.197780149470343,\n 'plan': 4.283793024130383,\n 'shortages': 4.2958413626465575,\n 'resulting': 4.237000862623624,\n 'lost': 4.314190501314754,\n 'mostly': 4.225637103973309,\n 'ghouta': 4.581505270942101,\n 'clashes': 4.377906315700861,\n 'road': 4.431973536971137,\n 'regional': 4.339191803520171,\n 'countrys': 4.242731537332609,\n 'latrines': 4.6396129017493815,\n 'social': 4.308036635740375,\n 'followed': 4.30192040872294,\n 'development': 4.277822857143879,\n 'transmission': 4.418180214838801,\n 'cumulative': 4.397840530601679,\n 'suffering': 4.277822857143879,\n 'like': 4.260123280044478,\n 'campaign': 4.358361719627891,\n 'much': 4.283793024130383,\n 'throughout': 4.283793024130383,\n 'nations': 4.248495242049359,\n 'belowaverage': 4.364834234133509,\n 'rise': 4.271888121624064,\n 'restrictions': 4.3713489151547025,\n 'negative': 4.3845069997322135,\n 'hundreds': 4.2958413626465575,\n 'returnees': 4.511437708325384,\n 'essential': 4.326613021313311,\n 'nine': 4.2958413626465575,\n 'fire': 4.541974432185466,\n 'decreased': 4.358361719627891,\n 'funding': 4.364834234133509,\n 'law': 4.503947036596227,\n 'ensure': 4.314190501314754,\n 'taken': 4.314190501314754,\n 'required': 4.289799048190595,\n 'fall': 4.3845069997322135,\n 'safety': 4.34554103119883,\n 'myanmar': 4.589602481174721,\n 'minister': 4.404574562783023,\n 'pregnant': 4.332882634326906,\n 'labor': 4.605996290950396,\n 'internally': 4.320382471562675,\n 'analysis': 4.3845069997322135,\n 'remaining': 4.2958413626465575,\n 'sorghum': 4.6396129017493815,\n 'observed': 4.3713489151547025,\n 'latest': 4.277822857143879,\n 'order': 4.314190501314754,\n 'roads': 4.411354249768402,\n 'diarrhoea': 4.489131950811086,\n 'earlier': 4.34554103119883,\n 'centers': 4.541974432185466,\n 'victims': 4.445959778945877,\n 'say': 4.326613021313311,\n 'wednesday': 4.3713489151547025,\n 'measures': 4.377906315700861,\n 'occurred': 4.320382471562675,\n 'assessed': 4.573473099244837,\n 'northeast': 4.474533151389934,\n 'leading': 4.320382471562675,\n 'unable': 4.332882634326906,\n 'returned': 4.438942206287231,\n 'daily': 4.358361719627891,\n 'injuries': 4.597765791813881,\n 'young': 4.404574562783023,\n 'demand': 4.460144413937834,\n 'leaving': 4.351930829297601,\n 'experiencing': 4.418180214838801,\n 'next': 4.332882634326906,\n 'rain': 4.496512058108708,\n 'presence': 4.411354249768402,\n 'quality': 4.481805910719013,\n 'hours': 4.404574562783023,\n 'third': 4.364834234133509,\n 'interventions': 4.445959778945877,\n 'coping': 4.526589513345987,\n 'slightly': 4.445959778945877,\n 'increases': 4.467312903416446,\n 'take': 4.404574562783023,\n 'organizations': 4.425053094126564,\n 'boys': 4.589602481174721,\n 'monitoring': 4.411354249768402,\n 'detained': 4.526589513345987,\n 'vaccination': 4.511437708325384,\n 'agencies': 4.425053094126564,\n 'help': 4.397840530601679,\n 'rapid': 4.397840530601679,\n 'away': 4.431973536971137,\n 'oromia': 4.656854708183888,\n 'trade': 4.534252386091556,\n 'tuesday': 4.391151542450882,\n 'either': 4.391151542450882,\n 'seen': 4.397840530601679,\n 'imports': 4.738347742435071,\n 'survey': 4.534252386091556,\n 'journalists': 4.837438645079302,\n 'soldiers': 4.622663343435608,\n 'providing': 4.460144413937834,\n 'cross': 4.526589513345987,\n 'go': 4.431973536971137,\n 'cash': 4.597765791813881,\n 'provision': 4.481805910719013,\n 'probable': 4.816819357876566,\n 'flood': 4.692256635234804,\n 'possible': 4.404574562783023,\n 'difficult': 4.391151542450882,\n 'cost': 4.557599750088547,\n 'niger': 4.674399017834797,\n 'temporary': 4.445959778945877,\n 'night': 4.589602481174721,\n 'important': 4.56550492959566,\n 'political': 4.496512058108708,\n 'africa': 4.541974432185466,\n 'epidemic': 4.518984913960767,\n 'active': 4.489131950811086,\n 'lgas': 5.032338984080116,\n 'indicated': 4.573473099244837,\n 'office': 4.534252386091556,\n 'former': 4.816819357876566,\n 'date': 4.474533151389934,\n 'libya': 4.719655609422918,\n 'surveillance': 4.622663343435608,\n 'kordofan': 4.776814023262867,\n 'diphtheria': 5.0579814146934545,\n 'different': 4.489131950811086,\n 'experienced': 4.503947036596227,\n 'mosul': 4.827075858043755,\n 'pasture': 4.622663343435608,\n 'sudans': 4.481805910719013,\n 'equatoria': 4.837438645079302,\n 'leave': 4.589602481174721,\n 'see': 4.573473099244837,\n 'rakhine': 4.858492054277134,\n 'receive': 4.474533151389934,\n 'associated': 4.489131950811086,\n 'indicate': 4.518984913960767,\n 'small': 4.489131950811086,\n 'better': 4.481805910719013,\n 'classified': 4.837438645079302,\n 'arrested': 4.656854708183888,\n 'coming': 4.474533151389934,\n 'medicines': 4.728958002085232,\n 'process': 4.614295093765092,\n 'buildings': 4.6396129017493815,\n 'inside': 4.557599750088547,\n 'sea': 4.622663343435608,\n 'thursday': 4.503947036596227,\n 'widespread': 4.481805910719013,\n 'operation': 4.614295093765092,\n 'gaps': 4.573473099244837,\n 'learning': 4.827075858043755,\n 'newly': 4.511437708325384,\n 'times': 4.56550492959566,\n 'largest': 4.496512058108708,\n 'friday': 4.503947036596227,\n 'settlement': 4.747826486389615,\n 'life': 4.518984913960767,\n 'facility': 4.913150466814998,\n 'disaster': 4.622663343435608,\n 'carried': 4.526589513345987,\n 'commodities': 4.738347742435071,\n 'congo': 4.6396129017493815,\n 'uganda': 4.665588388152642,\n 'quarter': 4.816819357876566,\n 'make': 4.511437708325384,\n 'opposition': 4.622663343435608,\n 'watch': 4.656854708183888,\n 'every': 4.549756572627521,\n 'began': 4.518984913960767,\n 'sunday': 4.541974432185466,\n 'impacted': 4.683287965252044,\n 'stable': 4.589602481174721,\n 'immediate': 4.541974432185466,\n 'though': 4.511437708325384,\n 'become': 4.518984913960767,\n 'prevent': 4.526589513345987,\n 'minimal': 4.557599750088547,\n 'good': 4.56550492959566,\n 'inadequate': 4.589602481174721,\n 'watery': 4.6396129017493815,\n 'msf': 4.995067589282884,\n 'cattle': 4.913150466814998,\n 'head': 4.589602481174721,\n 'influx': 4.56550492959566,\n 'tested': 4.674399017834797,\n 'programme': 4.683287965252044,\n 'move': 4.589602481174721,\n 'body': 4.710438954317994,\n 'added': 4.557599750088547,\n 'building': 4.728958002085232,\n 'structures': 4.879998259498097,\n 'absence': 4.597765791813881,\n 'center': 4.757395937405765,\n 'issues': 4.614295093765092,\n 'released': 4.56550492959566,\n 'systems': 4.648196645440773,\n 'chronic': 4.597765791813881,\n 'juba': 4.827075858043755,\n 'towns': 4.614295093765092,\n 'declined': 4.622663343435608,\n 'causing': 4.597765791813881,\n 'ground': 4.56550492959566,\n 'net': 4.757395937405765,\n 'bangladesh': 4.719655609422918,\n 'oil': 4.913150466814998,\n 'put': 4.581505270942101,\n 'old': 4.6396129017493815,\n 'coordination': 4.622663343435608,\n 'jerusalem': 4.913150466814998,\n 'fear': 4.622663343435608,\n 'private': 4.683287965252044,\n 'female': 4.837438645079302,\n 'team': 4.767057848317502,\n 'coverage': 4.701306470754722,\n 'attacked': 4.710438954317994,\n 'white': 4.827075858043755,\n 'extremely': 4.581505270942101,\n 'issued': 4.710438954317994,\n 'president': 4.6396129017493815,\n 'teams': 4.747826486389615,\n 'projected': 4.665588388152642,\n 'virus': 4.879998259498097,\n 'wau': 5.139106959505822,\n 'force': 4.674399017834797,\n 'e': 4.816819357876566,\n 'car': 4.869187343393882,\n 'various': 4.581505270942101,\n 'lassa': 5.182279131371032,\n 'get': 4.656854708183888,\n 'action': 4.747826486389615,\n 'line': 4.665588388152642,\n 'neighbouring': 4.622663343435608,\n 'status': 4.710438954317994,\n 'israel': 4.858492054277134,\n 'meningitis': 5.071053496260807,\n 'foods': 4.901977166216873,\n 'asylum': 4.827075858043755,\n 'killing': 4.665588388152642,\n 'field': 4.806666986412548,\n 'means': 4.622663343435608,\n 'existing': 4.710438954317994,\n 'scale': 4.692256635234804,\n 'present': 4.622663343435608,\n 'onset': 4.692256635234804,\n 'physical': 4.648196645440773,\n 'director': 4.656854708183888,\n 'proportion': 4.683287965252044,\n 'terms': 4.701306470754722,\n 'hunger': 4.827075858043755,\n 'democratic': 4.648196645440773,\n 'council': 4.738347742435071,\n 'labour': 4.816819357876566,\n 'gap': 4.901977166216873,\n 'extreme': 4.665588388152642,\n 'declared': 4.683287965252044,\n 'infection': 4.738347742435071,\n 'airstrikes': 4.901977166216873,\n 'committee': 4.728958002085232,\n 'explosive': 4.924450022068932,\n 'dead': 4.701306470754722,\n 'similar': 4.648196645440773,\n 'secondary': 4.719655609422918,\n 'estimates': 4.648196645440773,\n 'domestic': 4.701306470754722,\n 'points': 4.719655609422918,\n 'worst': 4.6396129017493815,\n 'took': 4.674399017834797,\n 'construction': 4.776814023262867,\n 'potential': 4.665588388152642,\n 'moderate': 4.656854708183888,\n 'weather': 4.701306470754722,\n 'gas': 4.924450022068932,\n 'receiving': 4.665588388152642,\n 'priority': 4.786666319705878,\n 'delivery': 4.728958002085232,\n 'doctors': 4.837438645079302,\n 'known': 4.692256635234804,\n 'grain': 5.071053496260807,\n 'enough': 4.701306470754722,\n 'point': 4.728958002085232,\n 'milk': 4.959135580056821,\n 'southeastern': 4.719655609422918,\n 'particular': 4.701306470754722,\n 'returning': 4.747826486389615,\n 'materials': 4.796616650559047,\n 'challenge': 4.719655609422918,\n 'ago': 4.674399017834797,\n 'ending': 4.869187343393882,\n 'functioning': 4.796616650559047,\n 'iom': 5.0073376818746995,\n 'aleppo': 4.837438645079302,\n 'cause': 4.683287965252044,\n 'mortality': 4.796616650559047,\n 'travel': 4.757395937405765,\n 'statement': 4.776814023262867,\n 'burundi': 4.890927330030288,\n 'loss': 4.757395937405765,\n 'generally': 4.728958002085232,\n 'accessing': 4.767057848317502,\n 'turkey': 4.98294622875054,\n 'mission': 4.747826486389615,\n 'figures': 4.767057848317502,\n 'plague': 5.764200676820752,\n 'threshold': 4.827075858043755,\n 'african': 4.738347742435071,\n 'lead': 4.710438954317994,\n 'infected': 4.786666319705878,\n 'factors': 4.701306470754722,\n 'announced': 4.710438954317994,\n 'respondents': 5.274652451502046,\n 'pressure': 4.728958002085232,\n 'property': 4.738347742435071,\n 'km': 4.890927330030288,\n 'table': 5.182279131371032,\n 'migration': 4.786666319705878,\n 'supported': 4.728958002085232,\n 'traders': 5.032338984080116,\n 'flour': 4.98294622875054,\n 'person': 4.806666986412548,\n 'poverty': 4.879998259498097,\n 'showed': 4.710438954317994,\n 'sufficient': 4.710438954317994,\n 'financial': 4.728958002085232,\n 'deterioration': 4.738347742435071,\n 'insufficient': 4.701306470754722,\n 'damascus': 4.890927330030288,\n 'search': 4.767057848317502,\n 'little': 4.738347742435071,\n 'sustained': 4.747826486389615,\n 'largely': 4.728958002085232,\n 'common': 4.738347742435071,\n 'reduce': 4.786666319705878,\n 'considered': 4.816819357876566,\n 'partially': 4.786666319705878,\n 'air': 4.890927330030288,\n 'must': 4.776814023262867,\n 'experience': 4.796616650559047,\n 'makeshift': 4.890927330030288,\n 'money': 4.767057848317502,\n 'yobe': 5.045078009857546,\n 'authority': 4.827075858043755,\n 'abuse': 4.757395937405765,\n 'places': 4.796616650559047,\n 'included': 4.757395937405765,\n 'costs': 4.796616650559047,\n 'reduction': 4.757395937405765,\n 'torture': 4.869187343393882,\n 'deteriorate': 4.786666319705878,\n 'strip': 4.924450022068932,\n 'relatively': 4.796616650559047,\n 'show': 4.776814023262867,\n 'towards': 4.757395937405765,\n 'alone': 4.719655609422918,\n 'citizens': 4.913150466814998,\n 'address': 4.747826486389615,\n 'leaders': 4.837438645079302,\n 'tonnes': 5.139106959505822,\n 'legal': 4.890927330030288,\n 'equipment': 4.776814023262867,\n 'shows': 4.806666986412548,\n 'meanwhile': 4.747826486389615,\n 'purchasing': 4.786666319705878,\n 'governments': 4.757395937405765,\n 'documented': 4.901977166216873,\n 'news': 4.827075858043755,\n 'freedom': 4.901977166216873,\n 'c': 5.045078009857546,\n 'rising': 4.767057848317502,\n 'longer': 4.738347742435071,\n 'improvement': 4.847909944946597,\n 'incidence': 4.924450022068932,\n 'evacuation': 4.970970037703824,\n 'feeding': 5.0073376818746995,\n 'admitted': 4.913150466814998,\n 'saturday': 4.816819357876566,\n 'making': 4.776814023262867,\n 'forecast': 4.924450022068932,\n 'set': 4.786666319705878,\n 'problem': 4.847909944946597,\n 'jonglei': 4.970970037703824,\n 'chad': 5.045078009857546,\n 'upper': 4.935878717892554,\n 'growing': 4.806666986412548,\n 'fews': 5.032338984080116,\n 'disrupted': 4.816819357876566,\n 'treated': 4.847909944946597,\n 'wounded': 4.901977166216873,\n 'male': 4.94743954029363,\n 'threats': 4.869187343393882,\n 'consecutive': 4.776814023262867,\n 'alert': 4.94743954029363,\n 'palestinians': 4.970970037703824,\n 'noted': 4.796616650559047,\n 'court': 4.959135580056821,\n 'issue': 4.816819357876566,\n 'planting': 4.98294622875054,\n 'came': 4.806666986412548,\n 'way': 4.796616650559047,\n 'surveyed': 5.111327395398747,\n 'targeting': 4.879998259498097,\n 'bahr': 5.1251207175310824,\n 'minimum': 4.901977166216873,\n 'psychosocial': 4.924450022068932,\n 'persist': 4.806666986412548,\n 'cut': 4.827075858043755,\n 'afghanistan': 5.084298723010828,\n 'fields': 4.970970037703824,\n 'island': 4.924450022068932,\n 'islamic': 4.901977166216873,\n 'multiple': 4.827075858043755,\n 'mental': 5.0977217433429685,\n 'reasons': 4.879998259498097,\n 'fiveyear': 4.94743954029363,\n 'coast': 4.924450022068932,\n 'strategies': 4.995067589282884,\n 'armyworm': 4.959135580056821,\n 'unity': 4.98294622875054,\n 'turkana': 5.153291594497779,\n 'commissioner': 4.890927330030288,\n 'earthquake': 5.071053496260807,\n 'housing': 4.995067589282884,\n 'territory': 4.970970037703824,\n 'suffer': 4.827075858043755,\n 'destruction': 4.806666986412548,\n 'short': 4.827075858043755,\n 'threat': 4.869187343393882,\n 'constraints': 4.869187343393882,\n 'nearby': 4.816819357876566,\n 'established': 4.816819357876566,\n 'practices': 4.816819357876566,\n 'therefore': 4.837438645079302,\n 'de': 4.995067589282884,\n 'strong': 4.869187343393882,\n 'clean': 4.858492054277134,\n 'strike': 5.212132094520713,\n 'cooking': 5.0073376818746995,\n 'thus': 4.847909944946597,\n 'imported': 5.071053496260807,\n 'occupied': 4.94743954029363,\n 'ten': 4.858492054277134,\n 'direct': 4.858492054277134,\n 'adamawa': 5.111327395398747,\n 'recruitment': 4.94743954029363,\n 'boko': 5.111327395398747,\n 'rape': 5.032338984080116,\n 'crossing': 4.98294622875054,\n 'urgently': 4.806666986412548,\n 'yesterday': 4.858492054277134,\n 'condition': 4.913150466814998,\n 'commercial': 4.995067589282884,\n 'flee': 4.869187343393882,\n 'missing': 4.94743954029363,\n 'affect': 4.890927330030288,\n 'trends': 4.924450022068932,\n 'monthly': 4.94743954029363,\n 'includes': 4.901977166216873,\n 'lebanon': 5.0977217433429685,\n 'hepatitis': 5.182279131371032,\n 'cover': 4.879998259498097,\n 'weekly': 4.995067589282884,\n 'assessments': 4.94743954029363,\n 'regular': 4.913150466814998,\n 'network': 4.98294622875054,\n 'brought': 4.869187343393882,\n 'opened': 4.98294622875054,\n 'personnel': 4.959135580056821,\n 'aboveaverage': 4.924450022068932,\n 'come': 4.858492054277134,\n 'called': 4.858492054277134,\n 'localized': 4.858492054277134,\n 'peak': 4.890927330030288,\n 'northwest': 4.98294622875054,\n 'transport': 4.94743954029363,\n 'mass': 4.913150466814998,\n 'losses': 5.0073376818746995,\n 'kits': 5.1251207175310824,\n 'drc': 5.0579814146934545,\n 'locality': 5.071053496260807,\n 'infections': 4.94743954029363,\n 'fleeing': 4.858492054277134,\n 'indicates': 4.869187343393882,\n ...}"
     },
     "execution_count": 48,
     "metadata": {},
     "output_type": "execute_result"
    }
   ],
   "source": [
    "idf"
   ],
   "metadata": {
    "collapsed": false,
    "pycharm": {
     "name": "#%%\n"
    }
   }
  },
  {
   "cell_type": "code",
   "execution_count": 62,
   "outputs": [],
   "source": [
    "# create BM25 matrix\n",
    "def create_bm25_matrix(tokenized_text_list, dictionary, idf):\n",
    "    \"\"\"\n",
    "    Create BM25 matrix\n",
    "    :param tokenized_text_list: list of tokenized texts, list\n",
    "    :param dictionary: dictionary, dict\n",
    "    :param idf: idf for all words in dictionary, dict\n",
    "    :return: BM25 matrix, np.array\n",
    "    \"\"\"\n",
    "    bm25_matrix = np.zeros((len(tokenized_text_list), len(dictionary)))\n",
    "    for i, tokenized_text in enumerate(tqdm(tokenized_text_list, total=len(tokenized_text_list))):\n",
    "        for j, word in enumerate(dictionary):\n",
    "            bm25_matrix[i, j] = bm25(word, tokenized_text, tokenized_text_list, idf)\n",
    "    return bm25_matrix"
   ],
   "metadata": {
    "collapsed": false,
    "pycharm": {
     "name": "#%%\n"
    }
   }
  },
  {
   "cell_type": "code",
   "execution_count": 63,
   "outputs": [
    {
     "data": {
      "text/plain": "  0%|          | 0/12110 [00:00<?, ?it/s]",
      "application/vnd.jupyter.widget-view+json": {
       "version_major": 2,
       "version_minor": 0,
       "model_id": "fa198b2b0cbc422fa22800fbee67cbf5"
      }
     },
     "metadata": {},
     "output_type": "display_data"
    },
    {
     "ename": "KeyboardInterrupt",
     "evalue": "",
     "output_type": "error",
     "traceback": [
      "\u001B[1;31m---------------------------------------------------------------------------\u001B[0m",
      "\u001B[1;31mKeyboardInterrupt\u001B[0m                         Traceback (most recent call last)",
      "Input \u001B[1;32mIn [63]\u001B[0m, in \u001B[0;36m<cell line: 1>\u001B[1;34m()\u001B[0m\n\u001B[1;32m----> 1\u001B[0m bm25_matrix_train \u001B[38;5;241m=\u001B[39m \u001B[43mcreate_bm25_matrix\u001B[49m\u001B[43m(\u001B[49m\u001B[43mtrain_df\u001B[49m\u001B[43m[\u001B[49m\u001B[38;5;124;43m'\u001B[39;49m\u001B[38;5;124;43mtokenized_text\u001B[39;49m\u001B[38;5;124;43m'\u001B[39;49m\u001B[43m]\u001B[49m\u001B[43m,\u001B[49m\u001B[43m \u001B[49m\u001B[43mdictionary\u001B[49m\u001B[43m,\u001B[49m\u001B[43m \u001B[49m\u001B[43midf\u001B[49m\u001B[43m)\u001B[49m\n\u001B[0;32m      2\u001B[0m bm25_matrix_test \u001B[38;5;241m=\u001B[39m create_bm25_matrix(test_df[\u001B[38;5;124m'\u001B[39m\u001B[38;5;124mtokenized_text\u001B[39m\u001B[38;5;124m'\u001B[39m], dictionary, idf)\n\u001B[0;32m      3\u001B[0m bm25_matrix_val \u001B[38;5;241m=\u001B[39m create_bm25_matrix(val_df[\u001B[38;5;124m'\u001B[39m\u001B[38;5;124mtokenized_text\u001B[39m\u001B[38;5;124m'\u001B[39m], dictionary, idf)\n",
      "Input \u001B[1;32mIn [62]\u001B[0m, in \u001B[0;36mcreate_bm25_matrix\u001B[1;34m(tokenized_text_list, dictionary, idf)\u001B[0m\n\u001B[0;32m     11\u001B[0m \u001B[38;5;28;01mfor\u001B[39;00m i, tokenized_text \u001B[38;5;129;01min\u001B[39;00m \u001B[38;5;28menumerate\u001B[39m(tqdm(tokenized_text_list, total\u001B[38;5;241m=\u001B[39m\u001B[38;5;28mlen\u001B[39m(tokenized_text_list))):\n\u001B[0;32m     12\u001B[0m     \u001B[38;5;28;01mfor\u001B[39;00m j, word \u001B[38;5;129;01min\u001B[39;00m \u001B[38;5;28menumerate\u001B[39m(dictionary):\n\u001B[1;32m---> 13\u001B[0m         bm25_matrix[i, j] \u001B[38;5;241m=\u001B[39m \u001B[43mbm25\u001B[49m\u001B[43m(\u001B[49m\u001B[43mword\u001B[49m\u001B[43m,\u001B[49m\u001B[43m \u001B[49m\u001B[43mtokenized_text\u001B[49m\u001B[43m,\u001B[49m\u001B[43m \u001B[49m\u001B[43mtokenized_text_list\u001B[49m\u001B[43m,\u001B[49m\u001B[43m \u001B[49m\u001B[43midf\u001B[49m\u001B[43m)\u001B[49m\n\u001B[0;32m     14\u001B[0m \u001B[38;5;28;01mreturn\u001B[39;00m bm25_matrix\n",
      "Input \u001B[1;32mIn [46]\u001B[0m, in \u001B[0;36mbm25\u001B[1;34m(word, tokenized_text, tokenized_text_list, idf, k, b)\u001B[0m\n\u001B[0;32m      4\u001B[0m \u001B[38;5;28;01mdef\u001B[39;00m \u001B[38;5;21mbm25\u001B[39m(word, tokenized_text, tokenized_text_list, idf\u001B[38;5;241m=\u001B[39midf, k\u001B[38;5;241m=\u001B[39m\u001B[38;5;241m1.4\u001B[39m, b\u001B[38;5;241m=\u001B[39m\u001B[38;5;241m0.9\u001B[39m):\n\u001B[0;32m      5\u001B[0m     \u001B[38;5;124;03m\"\"\"\u001B[39;00m\n\u001B[0;32m      6\u001B[0m \u001B[38;5;124;03m    Calculate BM25\u001B[39;00m\n\u001B[0;32m      7\u001B[0m \u001B[38;5;124;03m    :param word: word, str\u001B[39;00m\n\u001B[1;32m   (...)\u001B[0m\n\u001B[0;32m     12\u001B[0m \u001B[38;5;124;03m    :return: BM25, float\u001B[39;00m\n\u001B[0;32m     13\u001B[0m \u001B[38;5;124;03m    \"\"\"\u001B[39;00m\n\u001B[1;32m---> 14\u001B[0m     \u001B[38;5;28;01mreturn\u001B[39;00m idf[word] \u001B[38;5;241m*\u001B[39m (term_frequency(word, tokenized_text) \u001B[38;5;241m*\u001B[39m (k \u001B[38;5;241m+\u001B[39m \u001B[38;5;241m1\u001B[39m)) \u001B[38;5;241m/\u001B[39m (\u001B[43mterm_frequency\u001B[49m\u001B[43m(\u001B[49m\u001B[43mword\u001B[49m\u001B[43m,\u001B[49m\u001B[43m \u001B[49m\u001B[43mtokenized_text\u001B[49m\u001B[43m)\u001B[49m \u001B[38;5;241m+\u001B[39m k \u001B[38;5;241m*\u001B[39m (\u001B[38;5;241m1\u001B[39m \u001B[38;5;241m-\u001B[39m b \u001B[38;5;241m+\u001B[39m b \u001B[38;5;241m*\u001B[39m \u001B[38;5;28mlen\u001B[39m(tokenized_text) \u001B[38;5;241m/\u001B[39m avg_len_text))\n",
      "\u001B[1;31mKeyboardInterrupt\u001B[0m: "
     ]
    }
   ],
   "source": [
    "bm25_matrix_train = create_bm25_matrix(train_df['tokenized_text'], dictionary, idf)\n",
    "bm25_matrix_test = create_bm25_matrix(test_df['tokenized_text'], dictionary, idf)\n",
    "bm25_matrix_val = create_bm25_matrix(val_df['tokenized_text'], dictionary, idf)"
   ],
   "metadata": {
    "collapsed": false,
    "pycharm": {
     "name": "#%%\n"
    }
   }
  },
  {
   "cell_type": "code",
   "execution_count": 52,
   "outputs": [],
   "source": [
    "\n",
    "import pickle as pkl\n",
    "pkl.dump(bm25_matrix_train, open('bm25_matrix_train.pkl', 'wb'))\n",
    "pkl.dump(bm25_matrix_test, open('bm25_matrix_test.pkl', 'wb'))\n",
    "pkl.dump(bm25_matrix_val, open('bm25_matrix_val.pkl', 'wb'))"
   ],
   "metadata": {
    "collapsed": false,
    "pycharm": {
     "name": "#%%\n"
    }
   }
  },
  {
   "cell_type": "markdown",
   "source": [
    "### Comparison"
   ],
   "metadata": {
    "collapsed": false,
    "pycharm": {
     "name": "#%% md\n"
    }
   }
  },
  {
   "cell_type": "code",
   "execution_count": 98,
   "outputs": [],
   "source": [
    "# TODO"
   ],
   "metadata": {
    "collapsed": false,
    "pycharm": {
     "name": "#%%\n"
    }
   }
  },
  {
   "cell_type": "markdown",
   "source": [
    "### Sparsity"
   ],
   "metadata": {
    "collapsed": false,
    "pycharm": {
     "name": "#%% md\n"
    }
   }
  },
  {
   "cell_type": "code",
   "execution_count": 73,
   "outputs": [
    {
     "name": "stdout",
     "output_type": "stream",
     "text": [
      "Sparsity of tf-idf matrix, train set:  0.9958957270374426\n",
      "Sparsity of tf-idf matrix, validation set:  0.9959790770237404\n",
      "Sparsity of tf-idf matrix, test set:  0.9959919637073689\n"
     ]
    }
   ],
   "source": [
    "# Calculate and report the sparsity rate of the vectors of train, validation, and test sets,\n",
    "# namely what percentages of the vectors in each set are filled with zeros.\n",
    "\n",
    "# sparsity of tf-idf\n",
    "print('Sparsity of tf-idf matrix, train set: ', 1 - np.count_nonzero(tf_idf_matrix_train) / tf_idf_matrix_train.size)\n",
    "print('Sparsity of tf-idf matrix, validation set: ', 1 - np.count_nonzero(tf_idf_matrix_val) / tf_idf_matrix_val.size)\n",
    "print('Sparsity of tf-idf matrix, test set: ', 1 - np.count_nonzero(tf_idf_matrix_test) / tf_idf_matrix_test.size)"
   ],
   "metadata": {
    "collapsed": false,
    "pycharm": {
     "name": "#%%\n"
    }
   }
  },
  {
   "cell_type": "code",
   "execution_count": 74,
   "outputs": [
    {
     "name": "stdout",
     "output_type": "stream",
     "text": [
      "Sparsity of BM25 matrix, train set:  0.9958957270374426\n",
      "Sparsity of BM25 matrix, validation set:  0.9959790770237404\n",
      "Sparsity of BM25 matrix, test set:  0.9959919637073689\n"
     ]
    }
   ],
   "source": [
    "# sparsity of BM25\n",
    "print('Sparsity of BM25 matrix, train set: ', 1 - np.count_nonzero(bm25_matrix_train) / bm25_matrix_train.size)\n",
    "print('Sparsity of BM25 matrix, validation set: ', 1 - np.count_nonzero(bm25_matrix_val) / bm25_matrix_val.size)\n",
    "print('Sparsity of BM25 matrix, test set: ', 1 - np.count_nonzero(bm25_matrix_test) / bm25_matrix_test.size)"
   ],
   "metadata": {
    "collapsed": false,
    "pycharm": {
     "name": "#%%\n"
    }
   }
  },
  {
   "cell_type": "markdown",
   "source": [
    "# Dimensionality reduction"
   ],
   "metadata": {
    "collapsed": false,
    "pycharm": {
     "name": "#%% md\n"
    }
   }
  },
  {
   "cell_type": "code",
   "execution_count": 69,
   "outputs": [
    {
     "data": {
      "text/plain": "TruncatedSVD(n_components=100, n_iter=7, random_state=42)",
      "text/html": "<style>#sk-container-id-1 {color: black;background-color: white;}#sk-container-id-1 pre{padding: 0;}#sk-container-id-1 div.sk-toggleable {background-color: white;}#sk-container-id-1 label.sk-toggleable__label {cursor: pointer;display: block;width: 100%;margin-bottom: 0;padding: 0.3em;box-sizing: border-box;text-align: center;}#sk-container-id-1 label.sk-toggleable__label-arrow:before {content: \"▸\";float: left;margin-right: 0.25em;color: #696969;}#sk-container-id-1 label.sk-toggleable__label-arrow:hover:before {color: black;}#sk-container-id-1 div.sk-estimator:hover label.sk-toggleable__label-arrow:before {color: black;}#sk-container-id-1 div.sk-toggleable__content {max-height: 0;max-width: 0;overflow: hidden;text-align: left;background-color: #f0f8ff;}#sk-container-id-1 div.sk-toggleable__content pre {margin: 0.2em;color: black;border-radius: 0.25em;background-color: #f0f8ff;}#sk-container-id-1 input.sk-toggleable__control:checked~div.sk-toggleable__content {max-height: 200px;max-width: 100%;overflow: auto;}#sk-container-id-1 input.sk-toggleable__control:checked~label.sk-toggleable__label-arrow:before {content: \"▾\";}#sk-container-id-1 div.sk-estimator input.sk-toggleable__control:checked~label.sk-toggleable__label {background-color: #d4ebff;}#sk-container-id-1 div.sk-label input.sk-toggleable__control:checked~label.sk-toggleable__label {background-color: #d4ebff;}#sk-container-id-1 input.sk-hidden--visually {border: 0;clip: rect(1px 1px 1px 1px);clip: rect(1px, 1px, 1px, 1px);height: 1px;margin: -1px;overflow: hidden;padding: 0;position: absolute;width: 1px;}#sk-container-id-1 div.sk-estimator {font-family: monospace;background-color: #f0f8ff;border: 1px dotted black;border-radius: 0.25em;box-sizing: border-box;margin-bottom: 0.5em;}#sk-container-id-1 div.sk-estimator:hover {background-color: #d4ebff;}#sk-container-id-1 div.sk-parallel-item::after {content: \"\";width: 100%;border-bottom: 1px solid gray;flex-grow: 1;}#sk-container-id-1 div.sk-label:hover label.sk-toggleable__label {background-color: #d4ebff;}#sk-container-id-1 div.sk-serial::before {content: \"\";position: absolute;border-left: 1px solid gray;box-sizing: border-box;top: 0;bottom: 0;left: 50%;z-index: 0;}#sk-container-id-1 div.sk-serial {display: flex;flex-direction: column;align-items: center;background-color: white;padding-right: 0.2em;padding-left: 0.2em;position: relative;}#sk-container-id-1 div.sk-item {position: relative;z-index: 1;}#sk-container-id-1 div.sk-parallel {display: flex;align-items: stretch;justify-content: center;background-color: white;position: relative;}#sk-container-id-1 div.sk-item::before, #sk-container-id-1 div.sk-parallel-item::before {content: \"\";position: absolute;border-left: 1px solid gray;box-sizing: border-box;top: 0;bottom: 0;left: 50%;z-index: -1;}#sk-container-id-1 div.sk-parallel-item {display: flex;flex-direction: column;z-index: 1;position: relative;background-color: white;}#sk-container-id-1 div.sk-parallel-item:first-child::after {align-self: flex-end;width: 50%;}#sk-container-id-1 div.sk-parallel-item:last-child::after {align-self: flex-start;width: 50%;}#sk-container-id-1 div.sk-parallel-item:only-child::after {width: 0;}#sk-container-id-1 div.sk-dashed-wrapped {border: 1px dashed gray;margin: 0 0.4em 0.5em 0.4em;box-sizing: border-box;padding-bottom: 0.4em;background-color: white;}#sk-container-id-1 div.sk-label label {font-family: monospace;font-weight: bold;display: inline-block;line-height: 1.2em;}#sk-container-id-1 div.sk-label-container {text-align: center;}#sk-container-id-1 div.sk-container {/* jupyter's `normalize.less` sets `[hidden] { display: none; }` but bootstrap.min.css set `[hidden] { display: none !important; }` so we also need the `!important` here to be able to override the default hidden behavior on the sphinx rendered scikit-learn.org. See: https://github.com/scikit-learn/scikit-learn/issues/21755 */display: inline-block !important;position: relative;}#sk-container-id-1 div.sk-text-repr-fallback {display: none;}</style><div id=\"sk-container-id-1\" class=\"sk-top-container\"><div class=\"sk-text-repr-fallback\"><pre>TruncatedSVD(n_components=100, n_iter=7, random_state=42)</pre><b>In a Jupyter environment, please rerun this cell to show the HTML representation or trust the notebook. <br />On GitHub, the HTML representation is unable to render, please try loading this page with nbviewer.org.</b></div><div class=\"sk-container\" hidden><div class=\"sk-item\"><div class=\"sk-estimator sk-toggleable\"><input class=\"sk-toggleable__control sk-hidden--visually\" id=\"sk-estimator-id-1\" type=\"checkbox\" checked><label for=\"sk-estimator-id-1\" class=\"sk-toggleable__label sk-toggleable__label-arrow\">TruncatedSVD</label><div class=\"sk-toggleable__content\"><pre>TruncatedSVD(n_components=100, n_iter=7, random_state=42)</pre></div></div></div></div></div>"
     },
     "execution_count": 69,
     "metadata": {},
     "output_type": "execute_result"
    }
   ],
   "source": [
    "# Reduce vectors’ dimensions to   by applying Latent Semantic Analysis (LSA) to the vectors of both variations.\n",
    "# Report the sparsity rate of the vectors of train, validation, and test sets after dimensionality reduction.\n",
    "\n",
    "# LSA\n",
    "from sklearn.decomposition import TruncatedSVD\n",
    "\n",
    "k_svd = 100\n",
    "svd = TruncatedSVD(n_components=k_svd, n_iter=7, random_state=42)\n",
    "svd.fit(tf_idf_matrix_train)"
   ],
   "metadata": {
    "collapsed": false,
    "pycharm": {
     "name": "#%%\n"
    }
   }
  },
  {
   "cell_type": "code",
   "execution_count": 71,
   "outputs": [],
   "source": [
    "tf_idf_matrix_train_lsa = svd.transform(tf_idf_matrix_train)\n",
    "tf_idf_matrix_val_lsa = svd.transform(tf_idf_matrix_val)\n",
    "tf_idf_matrix_test_lsa = svd.transform(tf_idf_matrix_test)"
   ],
   "metadata": {
    "collapsed": false,
    "pycharm": {
     "name": "#%%\n"
    }
   }
  },
  {
   "cell_type": "code",
   "execution_count": 75,
   "outputs": [
    {
     "data": {
      "text/plain": "array([[ 0.69575791, -0.22465822, -0.08211086, ..., -0.1408919 ,\n         0.0149918 , -0.23613306],\n       [ 2.7280114 , -1.02332209,  1.19054081, ...,  0.77271061,\n        -0.40028264,  0.38921487],\n       [ 4.43634533,  2.26420834, -0.60081245, ...,  0.79922035,\n        -2.37792393,  1.21858432],\n       ...,\n       [ 1.03428372, -0.38884351,  0.88744841, ..., -0.37965635,\n         0.24784295, -0.29555749],\n       [ 1.79399647,  0.07872835,  1.41394841, ..., -0.37099971,\n         0.39624708, -0.30420575],\n       [ 2.32308256, -0.17807667,  0.30095219, ..., -0.46450006,\n        -0.07726602,  0.31003912]])"
     },
     "execution_count": 75,
     "metadata": {},
     "output_type": "execute_result"
    }
   ],
   "source": [
    "tf_idf_matrix_test_lsa"
   ],
   "metadata": {
    "collapsed": false,
    "pycharm": {
     "name": "#%%\n"
    }
   }
  },
  {
   "cell_type": "code",
   "execution_count": 78,
   "outputs": [
    {
     "name": "stdout",
     "output_type": "stream",
     "text": [
      "Sparsity of tf-idf matrix after LSA, train set:  0.0\n",
      "Sparsity of tf-idf matrix after LSA, validation set:  0.0\n",
      "Sparsity of tf-idf matrix after LSA, test set:  0.0\n"
     ]
    }
   ],
   "source": [
    "# sparsity of tf-idf after LSA\n",
    "print('Sparsity of tf-idf matrix after LSA, train set: ', 1 - np.count_nonzero(tf_idf_matrix_train_lsa) / tf_idf_matrix_train_lsa.size)\n",
    "print('Sparsity of tf-idf matrix after LSA, validation set: ', 1 - np.count_nonzero(tf_idf_matrix_val_lsa) / tf_idf_matrix_val_lsa.size)\n",
    "print('Sparsity of tf-idf matrix after LSA, test set: ', 1 - np.count_nonzero(tf_idf_matrix_test_lsa) / tf_idf_matrix_test_lsa.size)"
   ],
   "metadata": {
    "collapsed": false,
    "pycharm": {
     "name": "#%%\n"
    }
   }
  },
  {
   "cell_type": "code",
   "execution_count": 76,
   "outputs": [
    {
     "data": {
      "text/plain": "TruncatedSVD(n_components=100, n_iter=7, random_state=42)",
      "text/html": "<style>#sk-container-id-2 {color: black;background-color: white;}#sk-container-id-2 pre{padding: 0;}#sk-container-id-2 div.sk-toggleable {background-color: white;}#sk-container-id-2 label.sk-toggleable__label {cursor: pointer;display: block;width: 100%;margin-bottom: 0;padding: 0.3em;box-sizing: border-box;text-align: center;}#sk-container-id-2 label.sk-toggleable__label-arrow:before {content: \"▸\";float: left;margin-right: 0.25em;color: #696969;}#sk-container-id-2 label.sk-toggleable__label-arrow:hover:before {color: black;}#sk-container-id-2 div.sk-estimator:hover label.sk-toggleable__label-arrow:before {color: black;}#sk-container-id-2 div.sk-toggleable__content {max-height: 0;max-width: 0;overflow: hidden;text-align: left;background-color: #f0f8ff;}#sk-container-id-2 div.sk-toggleable__content pre {margin: 0.2em;color: black;border-radius: 0.25em;background-color: #f0f8ff;}#sk-container-id-2 input.sk-toggleable__control:checked~div.sk-toggleable__content {max-height: 200px;max-width: 100%;overflow: auto;}#sk-container-id-2 input.sk-toggleable__control:checked~label.sk-toggleable__label-arrow:before {content: \"▾\";}#sk-container-id-2 div.sk-estimator input.sk-toggleable__control:checked~label.sk-toggleable__label {background-color: #d4ebff;}#sk-container-id-2 div.sk-label input.sk-toggleable__control:checked~label.sk-toggleable__label {background-color: #d4ebff;}#sk-container-id-2 input.sk-hidden--visually {border: 0;clip: rect(1px 1px 1px 1px);clip: rect(1px, 1px, 1px, 1px);height: 1px;margin: -1px;overflow: hidden;padding: 0;position: absolute;width: 1px;}#sk-container-id-2 div.sk-estimator {font-family: monospace;background-color: #f0f8ff;border: 1px dotted black;border-radius: 0.25em;box-sizing: border-box;margin-bottom: 0.5em;}#sk-container-id-2 div.sk-estimator:hover {background-color: #d4ebff;}#sk-container-id-2 div.sk-parallel-item::after {content: \"\";width: 100%;border-bottom: 1px solid gray;flex-grow: 1;}#sk-container-id-2 div.sk-label:hover label.sk-toggleable__label {background-color: #d4ebff;}#sk-container-id-2 div.sk-serial::before {content: \"\";position: absolute;border-left: 1px solid gray;box-sizing: border-box;top: 0;bottom: 0;left: 50%;z-index: 0;}#sk-container-id-2 div.sk-serial {display: flex;flex-direction: column;align-items: center;background-color: white;padding-right: 0.2em;padding-left: 0.2em;position: relative;}#sk-container-id-2 div.sk-item {position: relative;z-index: 1;}#sk-container-id-2 div.sk-parallel {display: flex;align-items: stretch;justify-content: center;background-color: white;position: relative;}#sk-container-id-2 div.sk-item::before, #sk-container-id-2 div.sk-parallel-item::before {content: \"\";position: absolute;border-left: 1px solid gray;box-sizing: border-box;top: 0;bottom: 0;left: 50%;z-index: -1;}#sk-container-id-2 div.sk-parallel-item {display: flex;flex-direction: column;z-index: 1;position: relative;background-color: white;}#sk-container-id-2 div.sk-parallel-item:first-child::after {align-self: flex-end;width: 50%;}#sk-container-id-2 div.sk-parallel-item:last-child::after {align-self: flex-start;width: 50%;}#sk-container-id-2 div.sk-parallel-item:only-child::after {width: 0;}#sk-container-id-2 div.sk-dashed-wrapped {border: 1px dashed gray;margin: 0 0.4em 0.5em 0.4em;box-sizing: border-box;padding-bottom: 0.4em;background-color: white;}#sk-container-id-2 div.sk-label label {font-family: monospace;font-weight: bold;display: inline-block;line-height: 1.2em;}#sk-container-id-2 div.sk-label-container {text-align: center;}#sk-container-id-2 div.sk-container {/* jupyter's `normalize.less` sets `[hidden] { display: none; }` but bootstrap.min.css set `[hidden] { display: none !important; }` so we also need the `!important` here to be able to override the default hidden behavior on the sphinx rendered scikit-learn.org. See: https://github.com/scikit-learn/scikit-learn/issues/21755 */display: inline-block !important;position: relative;}#sk-container-id-2 div.sk-text-repr-fallback {display: none;}</style><div id=\"sk-container-id-2\" class=\"sk-top-container\"><div class=\"sk-text-repr-fallback\"><pre>TruncatedSVD(n_components=100, n_iter=7, random_state=42)</pre><b>In a Jupyter environment, please rerun this cell to show the HTML representation or trust the notebook. <br />On GitHub, the HTML representation is unable to render, please try loading this page with nbviewer.org.</b></div><div class=\"sk-container\" hidden><div class=\"sk-item\"><div class=\"sk-estimator sk-toggleable\"><input class=\"sk-toggleable__control sk-hidden--visually\" id=\"sk-estimator-id-2\" type=\"checkbox\" checked><label for=\"sk-estimator-id-2\" class=\"sk-toggleable__label sk-toggleable__label-arrow\">TruncatedSVD</label><div class=\"sk-toggleable__content\"><pre>TruncatedSVD(n_components=100, n_iter=7, random_state=42)</pre></div></div></div></div></div>"
     },
     "execution_count": 76,
     "metadata": {},
     "output_type": "execute_result"
    }
   ],
   "source": [
    "# BM25 after LSA\n",
    "k_svd = 100\n",
    "svd = TruncatedSVD(n_components=k_svd, n_iter=7, random_state=42)\n",
    "svd.fit(bm25_matrix_train)"
   ],
   "metadata": {
    "collapsed": false,
    "pycharm": {
     "name": "#%%\n"
    }
   }
  },
  {
   "cell_type": "code",
   "execution_count": 77,
   "outputs": [],
   "source": [
    "bm25_matrix_train_lsa = svd.transform(bm25_matrix_train)\n",
    "bm25_matrix_val_lsa = svd.transform(bm25_matrix_val)\n",
    "bm25_matrix_test_lsa = svd.transform(bm25_matrix_test)"
   ],
   "metadata": {
    "collapsed": false,
    "pycharm": {
     "name": "#%%\n"
    }
   }
  },
  {
   "cell_type": "code",
   "execution_count": 79,
   "outputs": [
    {
     "name": "stdout",
     "output_type": "stream",
     "text": [
      "Sparsity of BM25 matrix after LSA, train set:  0.0\n",
      "Sparsity of BM25 matrix after LSA, validation set:  0.0\n",
      "Sparsity of BM25 matrix after LSA, test set:  0.0\n"
     ]
    }
   ],
   "source": [
    "# sparsity of BM25 after LSA\n",
    "print('Sparsity of BM25 matrix after LSA, train set: ', 1 - np.count_nonzero(bm25_matrix_train_lsa) / bm25_matrix_train_lsa.size)\n",
    "print('Sparsity of BM25 matrix after LSA, validation set: ', 1 - np.count_nonzero(bm25_matrix_val_lsa) / bm25_matrix_val_lsa.size)\n",
    "print('Sparsity of BM25 matrix after LSA, test set: ', 1 - np.count_nonzero(bm25_matrix_test_lsa) / bm25_matrix_test_lsa.size)"
   ],
   "metadata": {
    "collapsed": false,
    "pycharm": {
     "name": "#%%\n"
    }
   }
  },
  {
   "cell_type": "code",
   "execution_count": null,
   "outputs": [],
   "source": [],
   "metadata": {
    "collapsed": false,
    "pycharm": {
     "name": "#%%\n"
    }
   }
  },
  {
   "cell_type": "markdown",
   "metadata": {
    "pycharm": {
     "name": "#%% md\n"
    }
   },
   "source": [
    "<a name=\"section-training\"></a><h2 style=\"color:rgb(0,120,170)\">Task B: Training and Results Analysis (15 points)</h2>"
   ]
  },
  {
   "cell_type": "markdown",
   "metadata": {
    "pycharm": {
     "name": "#%% md\n"
    }
   },
   "source": [
    "<div style=\"background-color:rgb(224, 243, 255)\">\n",
    "\n",
    "To evaluate the models, use <ins>accuracy</ins> as the metric throughout the task. \n",
    "\n",
    "**Dummy baseline (2 points).** Create one dummy baseline classifier that predicts the validation/test labels only based on the distribution of the labels in the training set (without any use of the feature vectors). This is a weak baseline and acts as a sanity check for the actual classifiers.\n",
    "\n",
    "**Training and tuning classifiers (5 points).** Select at least <ins>two classification algorithms</ins> from standard machine learning classifiers. Using each classification algorithm, train a machine learning model on each of the variations of feature vectors. This should result in <ins>eight experiment sets</ins> (4 variations of feature vectors × 2 classification algorithms). The ML model in each of the experiments possibly have several involving hyper-parameters (also keep in mind the dimensionality size $k$ in the low-dimensional vectors as yet another hyper-parameter). For each experiment, select <ins>one of the hyper-parameters and tune its value</ins>. The tuning process is done by first assigning at least <ins>five different values</ins> to the hyper-parameter, then training separate models based on each value, and finally using the evaluation results on the validation set to select the best-performing model. Report the studied hyper-parameters, the evaluation results of each on validation set, and finally the selected value of the hyper-parameter. \n",
    "\n",
    "**Evaluation, reporting results, and discussion (3 point).** Evaluate the selected model of the eight experiment on the test set and report the results of the experiments on <ins>both validation and test sets (side by side) in one table as well as in one plot</ins>. Compare different models. Are the test results lower(/higher) than the validation results? If it is the case, where can it be rooted from? Among all these models and variations, what are the most important factors improving the classification results?\n",
    "\n",
    "**Confusion matrix (2 point).** Select the best performing model among the experiments and use it to create a confusion matrix. The matrix shows the predicted versus true results per each label. Explain your observations on the matrix. Across which classes do you observe significant confusions?\n",
    "\n",
    "**Features visualization (3 point).** Continue with the best performing model and now take its feature vectors for the *dataitems in the test set*. Project these feature vectors to a 2-dimensional space using the TSNE method.  Using these 2-dimensional vectors, create two plots where the dataitems are shown as points (small circles) on the plots. The plots look exactly the same but only differ in the coloring of the data points. The first plot colors every dataitem with its *true label*, while the second one colors each according to its *predicted label by the model*. Keep in mind to assign the same colors to the classes of the plots, so that the plots are visually comparable. Put these two plots side by side, observe the differences, and compare the results. Report your observations.\n",
    "\n",
    "\n",
    "</div>"
   ]
  },
  {
   "cell_type": "markdown",
   "source": [
    "# Dummy baseline"
   ],
   "metadata": {
    "collapsed": false,
    "pycharm": {
     "name": "#%% md\n"
    }
   }
  },
  {
   "cell_type": "code",
   "execution_count": 91,
   "outputs": [],
   "source": [
    "y_train = train_df['label']\n",
    "y_val = val_df['label']\n",
    "y_test = test_df['label']"
   ],
   "metadata": {
    "collapsed": false,
    "pycharm": {
     "name": "#%%\n"
    }
   }
  },
  {
   "cell_type": "code",
   "execution_count": 98,
   "outputs": [
    {
     "data": {
      "text/plain": "4     2829\n9     2657\n3     2079\n10     947\n11     754\n2      602\n8      564\n5      559\n1      500\n0      238\n7      226\n6      155\nName: label, dtype: int64"
     },
     "execution_count": 98,
     "metadata": {},
     "output_type": "execute_result"
    }
   ],
   "source": [
    "# check the distribution of labels in the training set\n",
    "y_train.value_counts()"
   ],
   "metadata": {
    "collapsed": false,
    "pycharm": {
     "name": "#%%\n"
    }
   }
  },
  {
   "cell_type": "code",
   "execution_count": 93,
   "outputs": [
    {
     "data": {
      "text/plain": "Health         2829\nProtection     2657\nFood           2079\nShelter         947\nWASH            754\nEducation       602\nNutrition       564\nLivelihood      559\nCross           500\nAgriculture     238\nNFI             226\nLogistic        155\nName: caption, dtype: int64"
     },
     "execution_count": 93,
     "metadata": {},
     "output_type": "execute_result"
    }
   ],
   "source": [
    "train_df['caption'].value_counts()"
   ],
   "metadata": {
    "collapsed": false,
    "pycharm": {
     "name": "#%%\n"
    }
   }
  },
  {
   "cell_type": "code",
   "execution_count": 97,
   "outputs": [
    {
     "data": {
      "text/plain": "<AxesSubplot: >"
     },
     "execution_count": 97,
     "metadata": {},
     "output_type": "execute_result"
    },
    {
     "data": {
      "text/plain": "<Figure size 640x480 with 1 Axes>",
      "image/png": "[encoded data removed]"
     },
     "metadata": {},
     "output_type": "display_data"
    }
   ],
   "source": [
    "train_df['caption'].value_counts().plot(kind='bar')"
   ],
   "metadata": {
    "collapsed": false,
    "pycharm": {
     "name": "#%%\n"
    }
   }
  },
  {
   "cell_type": "code",
   "execution_count": 89,
   "outputs": [
    {
     "data": {
      "text/plain": "       sentence_id                                               text  label  \\\n0             5446  In addition to the immediate life-saving inter...      9   \n1             8812  There are approximately 2.6 million people cla...      3   \n2            16709  While aid imports have held up recently, comme...      5   \n3             3526  Heavy rainfalls as well as onrush of water fro...      0   \n4             4928  Based on field reports 9 , the main production...      3   \n...            ...                                                ...    ...   \n12105        12744  The total gap in the number of people who requ...      8   \n12106         9655  A food crisis is looming in the country with t...      0   \n12107         6963  ? Acute watery diarrhoea (AWD) continues to be...      4   \n12108          923  As South India grapples with drought and water...     11   \n12109        15880  Mirroring trends in South Africa, the main sou...      3   \n\n                                            cleaned_text  \\\n0      in addition to the immediate lifesaving interv...   \n1      there are approximately < num > million people...   \n2      while aid imports have held up recently commer...   \n3      heavy rainfalls as well as onrush of water fro...   \n4      based on field reports < num >  the main produ...   \n...                                                  ...   \n12105  the total gap in the number of people who requ...   \n12106  a food crisis is looming in the country with t...   \n12107   acute watery diarrhoea awd continues to be re...   \n12108  as south india grapples with drought and water...   \n12109  mirroring trends in south africa the main sour...   \n\n                                         normalized_text  \\\n0      in addition to the immediate lifesaving interv...   \n1      there are approximately < num > million people...   \n2      while aid import have held up recently commerc...   \n3      heavy rainfall a well a onrush of water from t...   \n4      based on field report < num > the main product...   \n...                                                  ...   \n12105  the total gap in the number of people who requ...   \n12106  a food crisis is looming in the country with t...   \n12107  acute watery diarrhoea awd continues to be rep...   \n12108  a south india grapple with drought and water s...   \n12109  mirroring trend in south africa the main sourc...   \n\n                                          tokenized_text  \n0      [addition, immediate, lifesaving, intervention...  \n1      [approximately, <, num, >, million, people, cl...  \n2      [aid, imports, held, recently, commercial, foo...  \n3      [heavy, rainfalls, well, onrush, water, upstre...  \n4      [based, field, reports, <, num, >, main, produ...  \n...                                                  ...  \n12105  [total, gap, number, people, require, assistan...  \n12106  [food, crisis, looming, country, seasons, maiz...  \n12107  [acute, watery, diarrhoea, awd, continues, rep...  \n12108  [south, india, grapples, drought, water, short...  \n12109  [mirroring, trends, south, africa, main, sourc...  \n\n[12110 rows x 6 columns]",
      "text/html": "<div>\n<style scoped>\n    .dataframe tbody tr th:only-of-type {\n        vertical-align: middle;\n    }\n\n    .dataframe tbody tr th {\n        vertical-align: top;\n    }\n\n    .dataframe thead th {\n        text-align: right;\n    }\n</style>\n<table border=\"1\" class=\"dataframe\">\n  <thead>\n    <tr style=\"text-align: right;\">\n      <th></th>\n      <th>sentence_id</th>\n      <th>text</th>\n      <th>label</th>\n      <th>cleaned_text</th>\n      <th>normalized_text</th>\n      <th>tokenized_text</th>\n    </tr>\n  </thead>\n  <tbody>\n    <tr>\n      <th>0</th>\n      <td>5446</td>\n      <td>In addition to the immediate life-saving inter...</td>\n      <td>9</td>\n      <td>in addition to the immediate lifesaving interv...</td>\n      <td>in addition to the immediate lifesaving interv...</td>\n      <td>[addition, immediate, lifesaving, intervention...</td>\n    </tr>\n    <tr>\n      <th>1</th>\n      <td>8812</td>\n      <td>There are approximately 2.6 million people cla...</td>\n      <td>3</td>\n      <td>there are approximately &lt; num &gt; million people...</td>\n      <td>there are approximately &lt; num &gt; million people...</td>\n      <td>[approximately, &lt;, num, &gt;, million, people, cl...</td>\n    </tr>\n    <tr>\n      <th>2</th>\n      <td>16709</td>\n      <td>While aid imports have held up recently, comme...</td>\n      <td>5</td>\n      <td>while aid imports have held up recently commer...</td>\n      <td>while aid import have held up recently commerc...</td>\n      <td>[aid, imports, held, recently, commercial, foo...</td>\n    </tr>\n    <tr>\n      <th>3</th>\n      <td>3526</td>\n      <td>Heavy rainfalls as well as onrush of water fro...</td>\n      <td>0</td>\n      <td>heavy rainfalls as well as onrush of water fro...</td>\n      <td>heavy rainfall a well a onrush of water from t...</td>\n      <td>[heavy, rainfalls, well, onrush, water, upstre...</td>\n    </tr>\n    <tr>\n      <th>4</th>\n      <td>4928</td>\n      <td>Based on field reports 9 , the main production...</td>\n      <td>3</td>\n      <td>based on field reports &lt; num &gt;  the main produ...</td>\n      <td>based on field report &lt; num &gt; the main product...</td>\n      <td>[based, field, reports, &lt;, num, &gt;, main, produ...</td>\n    </tr>\n    <tr>\n      <th>...</th>\n      <td>...</td>\n      <td>...</td>\n      <td>...</td>\n      <td>...</td>\n      <td>...</td>\n      <td>...</td>\n    </tr>\n    <tr>\n      <th>12105</th>\n      <td>12744</td>\n      <td>The total gap in the number of people who requ...</td>\n      <td>8</td>\n      <td>the total gap in the number of people who requ...</td>\n      <td>the total gap in the number of people who requ...</td>\n      <td>[total, gap, number, people, require, assistan...</td>\n    </tr>\n    <tr>\n      <th>12106</th>\n      <td>9655</td>\n      <td>A food crisis is looming in the country with t...</td>\n      <td>0</td>\n      <td>a food crisis is looming in the country with t...</td>\n      <td>a food crisis is looming in the country with t...</td>\n      <td>[food, crisis, looming, country, seasons, maiz...</td>\n    </tr>\n    <tr>\n      <th>12107</th>\n      <td>6963</td>\n      <td>? Acute watery diarrhoea (AWD) continues to be...</td>\n      <td>4</td>\n      <td>acute watery diarrhoea awd continues to be re...</td>\n      <td>acute watery diarrhoea awd continues to be rep...</td>\n      <td>[acute, watery, diarrhoea, awd, continues, rep...</td>\n    </tr>\n    <tr>\n      <th>12108</th>\n      <td>923</td>\n      <td>As South India grapples with drought and water...</td>\n      <td>11</td>\n      <td>as south india grapples with drought and water...</td>\n      <td>a south india grapple with drought and water s...</td>\n      <td>[south, india, grapples, drought, water, short...</td>\n    </tr>\n    <tr>\n      <th>12109</th>\n      <td>15880</td>\n      <td>Mirroring trends in South Africa, the main sou...</td>\n      <td>3</td>\n      <td>mirroring trends in south africa the main sour...</td>\n      <td>mirroring trend in south africa the main sourc...</td>\n      <td>[mirroring, trends, south, africa, main, sourc...</td>\n    </tr>\n  </tbody>\n</table>\n<p>12110 rows × 6 columns</p>\n</div>"
     },
     "execution_count": 89,
     "metadata": {},
     "output_type": "execute_result"
    }
   ],
   "source": [
    "train_df"
   ],
   "metadata": {
    "collapsed": false,
    "pycharm": {
     "name": "#%%\n"
    }
   }
  },
  {
   "cell_type": "code",
   "execution_count": 85,
   "metadata": {
    "pycharm": {
     "name": "#%%\n"
    }
   },
   "outputs": [
    {
     "data": {
      "text/plain": "DummyClassifier(strategy='most_frequent')",
      "text/html": "<style>#sk-container-id-3 {color: black;background-color: white;}#sk-container-id-3 pre{padding: 0;}#sk-container-id-3 div.sk-toggleable {background-color: white;}#sk-container-id-3 label.sk-toggleable__label {cursor: pointer;display: block;width: 100%;margin-bottom: 0;padding: 0.3em;box-sizing: border-box;text-align: center;}#sk-container-id-3 label.sk-toggleable__label-arrow:before {content: \"▸\";float: left;margin-right: 0.25em;color: #696969;}#sk-container-id-3 label.sk-toggleable__label-arrow:hover:before {color: black;}#sk-container-id-3 div.sk-estimator:hover label.sk-toggleable__label-arrow:before {color: black;}#sk-container-id-3 div.sk-toggleable__content {max-height: 0;max-width: 0;overflow: hidden;text-align: left;background-color: #f0f8ff;}#sk-container-id-3 div.sk-toggleable__content pre {margin: 0.2em;color: black;border-radius: 0.25em;background-color: #f0f8ff;}#sk-container-id-3 input.sk-toggleable__control:checked~div.sk-toggleable__content {max-height: 200px;max-width: 100%;overflow: auto;}#sk-container-id-3 input.sk-toggleable__control:checked~label.sk-toggleable__label-arrow:before {content: \"▾\";}#sk-container-id-3 div.sk-estimator input.sk-toggleable__control:checked~label.sk-toggleable__label {background-color: #d4ebff;}#sk-container-id-3 div.sk-label input.sk-toggleable__control:checked~label.sk-toggleable__label {background-color: #d4ebff;}#sk-container-id-3 input.sk-hidden--visually {border: 0;clip: rect(1px 1px 1px 1px);clip: rect(1px, 1px, 1px, 1px);height: 1px;margin: -1px;overflow: hidden;padding: 0;position: absolute;width: 1px;}#sk-container-id-3 div.sk-estimator {font-family: monospace;background-color: #f0f8ff;border: 1px dotted black;border-radius: 0.25em;box-sizing: border-box;margin-bottom: 0.5em;}#sk-container-id-3 div.sk-estimator:hover {background-color: #d4ebff;}#sk-container-id-3 div.sk-parallel-item::after {content: \"\";width: 100%;border-bottom: 1px solid gray;flex-grow: 1;}#sk-container-id-3 div.sk-label:hover label.sk-toggleable__label {background-color: #d4ebff;}#sk-container-id-3 div.sk-serial::before {content: \"\";position: absolute;border-left: 1px solid gray;box-sizing: border-box;top: 0;bottom: 0;left: 50%;z-index: 0;}#sk-container-id-3 div.sk-serial {display: flex;flex-direction: column;align-items: center;background-color: white;padding-right: 0.2em;padding-left: 0.2em;position: relative;}#sk-container-id-3 div.sk-item {position: relative;z-index: 1;}#sk-container-id-3 div.sk-parallel {display: flex;align-items: stretch;justify-content: center;background-color: white;position: relative;}#sk-container-id-3 div.sk-item::before, #sk-container-id-3 div.sk-parallel-item::before {content: \"\";position: absolute;border-left: 1px solid gray;box-sizing: border-box;top: 0;bottom: 0;left: 50%;z-index: -1;}#sk-container-id-3 div.sk-parallel-item {display: flex;flex-direction: column;z-index: 1;position: relative;background-color: white;}#sk-container-id-3 div.sk-parallel-item:first-child::after {align-self: flex-end;width: 50%;}#sk-container-id-3 div.sk-parallel-item:last-child::after {align-self: flex-start;width: 50%;}#sk-container-id-3 div.sk-parallel-item:only-child::after {width: 0;}#sk-container-id-3 div.sk-dashed-wrapped {border: 1px dashed gray;margin: 0 0.4em 0.5em 0.4em;box-sizing: border-box;padding-bottom: 0.4em;background-color: white;}#sk-container-id-3 div.sk-label label {font-family: monospace;font-weight: bold;display: inline-block;line-height: 1.2em;}#sk-container-id-3 div.sk-label-container {text-align: center;}#sk-container-id-3 div.sk-container {/* jupyter's `normalize.less` sets `[hidden] { display: none; }` but bootstrap.min.css set `[hidden] { display: none !important; }` so we also need the `!important` here to be able to override the default hidden behavior on the sphinx rendered scikit-learn.org. See: https://github.com/scikit-learn/scikit-learn/issues/21755 */display: inline-block !important;position: relative;}#sk-container-id-3 div.sk-text-repr-fallback {display: none;}</style><div id=\"sk-container-id-3\" class=\"sk-top-container\"><div class=\"sk-text-repr-fallback\"><pre>DummyClassifier(strategy=&#x27;most_frequent&#x27;)</pre><b>In a Jupyter environment, please rerun this cell to show the HTML representation or trust the notebook. <br />On GitHub, the HTML representation is unable to render, please try loading this page with nbviewer.org.</b></div><div class=\"sk-container\" hidden><div class=\"sk-item\"><div class=\"sk-estimator sk-toggleable\"><input class=\"sk-toggleable__control sk-hidden--visually\" id=\"sk-estimator-id-3\" type=\"checkbox\" checked><label for=\"sk-estimator-id-3\" class=\"sk-toggleable__label sk-toggleable__label-arrow\">DummyClassifier</label><div class=\"sk-toggleable__content\"><pre>DummyClassifier(strategy=&#x27;most_frequent&#x27;)</pre></div></div></div></div></div>"
     },
     "execution_count": 85,
     "metadata": {},
     "output_type": "execute_result"
    }
   ],
   "source": [
    "from sklearn.dummy import DummyClassifier\n",
    "\n",
    "dummy_clf = DummyClassifier(strategy=\"most_frequent\")\n",
    "dummy_clf.fit(tf_idf_matrix_train_lsa, y_train)"
   ]
  },
  {
   "cell_type": "code",
   "execution_count": 86,
   "outputs": [
    {
     "name": "stdout",
     "output_type": "stream",
     "text": [
      "Accuracy on validation set:  0.2561633281972265\n"
     ]
    }
   ],
   "source": [
    "# Evaluation on validation set\n",
    "from sklearn.metrics import accuracy_score\n",
    "\n",
    "y_pred = dummy_clf.predict(tf_idf_matrix_val_lsa)\n",
    "print('Accuracy on validation set: ', accuracy_score(y_val, y_pred))"
   ],
   "metadata": {
    "collapsed": false,
    "pycharm": {
     "name": "#%%\n"
    }
   }
  },
  {
   "cell_type": "markdown",
   "source": [
    "# Training and tuning classifiers"
   ],
   "metadata": {
    "collapsed": false,
    "pycharm": {
     "name": "#%% md\n"
    }
   }
  },
  {
   "cell_type": "markdown",
   "source": [
    " Select at least  two classification algorithms  from standard machine learning classifiers. Using each classification algorithm, train a machine learning model on each of the variations of feature vectors. This should result in  eight experiment sets  (4 variations of feature vectors × 2 classification algorithms). The ML model in each of the experiments possibly have several involving hyper-parameters (also keep in mind the dimensionality size   in the low-dimensional vectors as yet another hyper-parameter). For each experiment, select  one of the hyper-parameters and tune its value . The tuning process is done by first assigning at least  five different values  to the hyper-parameter, then training separate models based on each value, and finally using the evaluation results on the validation set to select the best-performing model. Report the studied hyper-parameters, the evaluation results of each on validation set, and finally the selected value of the hyper-parameter."
   ],
   "metadata": {
    "collapsed": false,
    "pycharm": {
     "name": "#%% md\n"
    }
   }
  },
  {
   "cell_type": "code",
   "execution_count": 102,
   "outputs": [],
   "source": [
    "from sklearn.metrics import classification_report"
   ],
   "metadata": {
    "collapsed": false,
    "pycharm": {
     "name": "#%%\n"
    }
   }
  },
  {
   "cell_type": "markdown",
   "source": [
    "## Algorithm 1: Linear SVM"
   ],
   "metadata": {
    "collapsed": false,
    "pycharm": {
     "name": "#%% md\n"
    }
   }
  },
  {
   "cell_type": "code",
   "execution_count": 103,
   "outputs": [],
   "source": [
    "from sklearn.linear_model import SGDClassifier"
   ],
   "metadata": {
    "collapsed": false,
    "pycharm": {
     "name": "#%%\n"
    }
   }
  },
  {
   "cell_type": "markdown",
   "source": [
    "### Experiment 1: TF-IDF, full data"
   ],
   "metadata": {
    "collapsed": false,
    "pycharm": {
     "name": "#%% md\n"
    }
   }
  },
  {
   "cell_type": "code",
   "execution_count": 110,
   "outputs": [
    {
     "name": "stderr",
     "output_type": "stream",
     "text": [
      "[Parallel(n_jobs=-1)]: Using backend ThreadingBackend with 8 concurrent workers.\n"
     ]
    },
    {
     "name": "stdout",
     "output_type": "stream",
     "text": [
      "-- Epoch 1\n",
      "-- Epoch 1\n",
      "-- Epoch 1\n",
      "-- Epoch 1\n",
      "-- Epoch 1\n",
      "-- Epoch 1\n",
      "-- Epoch 1\n",
      "-- Epoch 1\n",
      "Norm: 27.44, NNZs: 1604, Bias: -24.318677, T: 12110, Avg. loss: 0.456096\n",
      "Total training time: 0.91 seconds.\n",
      "-- Epoch 2\n",
      "Norm: 29.13, NNZs: 1596, Bias: -15.568741, T: 12110, Avg. loss: 0.430151\n",
      "Total training time: 0.89 seconds.\n",
      "-- Epoch 2\n",
      "Norm: 31.83, NNZs: 1683, Bias: -17.938434, T: 12110, Avg. loss: 0.668913\n",
      "Total training time: 0.99 seconds.\n",
      "-- Epoch 2\n",
      "Norm: 45.85, NNZs: 2811, Bias: -12.702698, T: 12110, Avg. loss: 1.467065\n",
      "Total training time: 1.09 seconds.\n",
      "-- Epoch 2\n",
      "Norm: 29.91, NNZs: 1608, Bias: -17.148331, T: 12110, Avg. loss: 0.369213\n",
      "Total training time: 1.14 seconds.\n",
      "-- Epoch 2\n",
      "Norm: 47.97, NNZs: 3242, Bias: -5.636092, T: 12110, Avg. loss: 1.579759\n",
      "Total training time: 1.14 seconds.\n",
      "-- Epoch 2\n",
      "Norm: 47.24, NNZs: 3056, Bias: -16.404782, T: 12110, Avg. loss: 1.763037\n",
      "Total training time: 1.17 seconds.\n",
      "-- Epoch 2\n",
      "Norm: 50.64, NNZs: 3236, Bias: -9.640378, T: 12110, Avg. loss: 2.246503\n",
      "Total training time: 1.18 seconds.\n",
      "-- Epoch 2\n",
      "Norm: 19.89, NNZs: 1374, Bias: -19.148353, T: 24220, Avg. loss: 0.121457\n",
      "Total training time: 1.48 seconds.\n",
      "-- Epoch 3\n",
      "Norm: 19.55, NNZs: 1379, Bias: -11.555974, T: 24220, Avg. loss: 0.066818\n",
      "Total training time: 1.50 seconds.\n",
      "-- Epoch 3\n",
      "Norm: 21.93, NNZs: 1520, Bias: -13.042210, T: 24220, Avg. loss: 0.111312\n",
      "Total training time: 1.54 seconds.\n",
      "-- Epoch 3\n",
      "Norm: 20.04, NNZs: 1395, Bias: -12.690260, T: 24220, Avg. loss: 0.072083\n",
      "Total training time: 1.62 seconds.\n",
      "-- Epoch 3\n",
      "Norm: 29.91, NNZs: 2394, Bias: -7.312323, T: 24220, Avg. loss: 0.188168\n",
      "Total training time: 1.68 seconds.\n",
      "-- Epoch 3\n",
      "Norm: 31.27, NNZs: 2679, Bias: -8.666929, T: 24220, Avg. loss: 0.228455\n",
      "Total training time: 1.81 seconds.\n",
      "-- Epoch 3\n",
      "Norm: 30.92, NNZs: 2702, Bias: -3.468162, T: 24220, Avg. loss: 0.161506\n",
      "Total training time: 1.86 seconds.\n",
      "-- Epoch 3\n",
      "Norm: 33.12, NNZs: 2745, Bias: -4.696761, T: 24220, Avg. loss: 0.230866\n",
      "Total training time: 1.90 seconds.\n",
      "-- Epoch 3\n",
      "Norm: 16.76, NNZs: 1225, Bias: -16.274866, T: 36330, Avg. loss: 0.076674\n",
      "Total training time: 1.94 seconds.\n",
      "-- Epoch 4\n",
      "Norm: 17.76, NNZs: 1380, Bias: -10.569963, T: 36330, Avg. loss: 0.063871\n",
      "Total training time: 2.01 seconds.\n",
      "-- Epoch 4\n",
      "Norm: 15.72, NNZs: 1233, Bias: -9.450584, T: 36330, Avg. loss: 0.040709\n",
      "Total training time: 1.98 seconds.\n",
      "-- Epoch 4\n",
      "Norm: 16.21, NNZs: 1249, Bias: -10.113316, T: 36330, Avg. loss: 0.044209\n",
      "Total training time: 2.10 seconds.\n",
      "-- Epoch 4\n",
      "Norm: 23.44, NNZs: 2175, Bias: -4.458052, T: 36330, Avg. loss: 0.083092\n",
      "Total training time: 2.22 seconds.\n",
      "-- Epoch 4\n",
      "Norm: 24.58, NNZs: 2380, Bias: -5.468420, T: 36330, Avg. loss: 0.100542\n",
      "Total training time: 2.33 seconds.\n",
      "-- Epoch 4\n",
      "Norm: 14.66, NNZs: 1095, Bias: -14.487209, T: 48440, Avg. loss: 0.056616\n",
      "Total training time: 2.36 seconds.\n",
      "-- Epoch 5\n",
      "Norm: 23.91, NNZs: 2407, Bias: -2.152248, T: 36330, Avg. loss: 0.077686\n",
      "Total training time: 2.40 seconds.\n",
      "-- Epoch 4\n",
      "Norm: 15.36, NNZs: 1234, Bias: -8.911318, T: 48440, Avg. loss: 0.038192\n",
      "Total training time: 2.42 seconds.\n",
      "-- Epoch 5\n",
      "Norm: 25.98, NNZs: 2445, Bias: -3.101600, T: 36330, Avg. loss: 0.111214\n",
      "Total training time: 2.44 seconds.\n",
      "-- Epoch 4\n",
      "Norm: 13.51, NNZs: 1084, Bias: -7.891718, T: 48440, Avg. loss: 0.027086\n",
      "Total training time: 2.40 seconds.\n",
      "-- Epoch 5\n",
      "Norm: 13.88, NNZs: 1106, Bias: -8.589698, T: 48440, Avg. loss: 0.027151\n",
      "Total training time: 2.53 seconds.\n",
      "-- Epoch 5\n",
      "Norm: 19.93, NNZs: 2003, Bias: -3.412737, T: 48440, Avg. loss: 0.049446\n",
      "Total training time: 2.73 seconds.\n",
      "-- Epoch 5\n",
      "Norm: 13.41, NNZs: 1030, Bias: -13.057757, T: 60550, Avg. loss: 0.044838\n",
      "Total training time: 2.75 seconds.\n",
      "-- Epoch 1\n",
      "Norm: 20.84, NNZs: 2190, Bias: -4.158861, T: 48440, Avg. loss: 0.067301\n",
      "Total training time: 2.83 seconds.\n",
      "-- Epoch 5\n",
      "Norm: 13.77, NNZs: 1158, Bias: -7.704421, T: 60550, Avg. loss: 0.030458\n",
      "Total training time: 2.83 seconds.\n",
      "-- Epoch 1\n",
      "Norm: 12.23, NNZs: 1001, Bias: -6.838246, T: 60550, Avg. loss: 0.020236\n",
      "Total training time: 2.86 seconds.\n",
      "-- Epoch 1\n",
      "Norm: 12.43, NNZs: 987, Bias: -7.433711, T: 60550, Avg. loss: 0.020269\n",
      "Total training time: 2.92 seconds.\n",
      "Norm: 20.55, NNZs: 2231, Bias: -1.722990, T: 48440, Avg. loss: 0.058543\n",
      "Total training time: 2.92 seconds.\n",
      "-- Epoch 5\n",
      "-- Epoch 1\n",
      "Norm: 22.07, NNZs: 2251, Bias: -2.057628, T: 48440, Avg. loss: 0.069292\n",
      "Total training time: 3.03 seconds.\n",
      "-- Epoch 5\n",
      "Norm: 30.23, NNZs: 1647, Bias: -14.874985, T: 12110, Avg. loss: 0.444369\n",
      "Total training time: 0.45 seconds.\n",
      "-- Epoch 2\n",
      "Norm: 17.62, NNZs: 1883, Bias: -2.443380, T: 60550, Avg. loss: 0.038722\n",
      "Total training time: 3.26 seconds.\n",
      "Norm: 18.47, NNZs: 2072, Bias: -3.197623, T: 60550, Avg. loss: 0.051518\n",
      "Total training time: 3.34 seconds.\n",
      "Norm: 37.65, NNZs: 2335, Bias: -11.883140, T: 12110, Avg. loss: 0.807291\n",
      "Total training time: 0.56 seconds.\n",
      "-- Epoch 2\n",
      "Norm: 44.81, NNZs: 2761, Bias: -12.658533, T: 12110, Avg. loss: 1.391841\n",
      "Total training time: 0.58 seconds.\n",
      "-- Epoch 2\n",
      "Norm: 18.20, NNZs: 2095, Bias: -1.442477, T: 60550, Avg. loss: 0.046175\n",
      "Total training time: 3.48 seconds.\n",
      "Norm: 19.63, NNZs: 2119, Bias: -1.946734, T: 60550, Avg. loss: 0.057419\n",
      "Total training time: 3.53 seconds.\n",
      "Norm: 20.07, NNZs: 1414, Bias: -9.962316, T: 24220, Avg. loss: 0.072920\n",
      "Total training time: 0.89 seconds.\n",
      "-- Epoch 3\n",
      "Norm: 59.22, NNZs: 4074, Bias: -3.694113, T: 12110, Avg. loss: 2.789862\n",
      "Total training time: 0.86 seconds.\n",
      "-- Epoch 2\n",
      "Norm: 24.34, NNZs: 1985, Bias: -6.869413, T: 24220, Avg. loss: 0.090616\n",
      "Total training time: 1.02 seconds.\n",
      "-- Epoch 3\n",
      "Norm: 29.33, NNZs: 2375, Bias: -6.899130, T: 24220, Avg. loss: 0.164797\n",
      "Total training time: 1.08 seconds.\n",
      "-- Epoch 3\n",
      "Norm: 15.90, NNZs: 1207, Bias: -7.807258, T: 36330, Avg. loss: 0.040822\n",
      "Total training time: 1.30 seconds.\n",
      "-- Epoch 4\n",
      "Norm: 19.08, NNZs: 1758, Bias: -4.467125, T: 36330, Avg. loss: 0.043762\n",
      "Total training time: 1.44 seconds.\n",
      "-- Epoch 4\n",
      "Norm: 23.04, NNZs: 2152, Bias: -4.335037, T: 36330, Avg. loss: 0.078733\n",
      "Total training time: 1.52 seconds.\n",
      "-- Epoch 4\n",
      "Norm: 37.44, NNZs: 3519, Bias: -2.078178, T: 24220, Avg. loss: 0.249510\n",
      "Total training time: 1.61 seconds.\n",
      "-- Epoch 3\n",
      "Norm: 13.65, NNZs: 1047, Bias: -6.453786, T: 48440, Avg. loss: 0.028346\n",
      "Total training time: 1.77 seconds.\n",
      "-- Epoch 5\n",
      "Norm: 16.04, NNZs: 1555, Bias: -3.547499, T: 48440, Avg. loss: 0.025928\n",
      "Total training time: 2.12 seconds.\n",
      "-- Epoch 5\n",
      "Norm: 12.20, NNZs: 966, Bias: -5.481031, T: 60550, Avg. loss: 0.022081\n",
      "Total training time: 2.32 seconds.\n",
      "Norm: 19.47, NNZs: 1957, Bias: -3.292124, T: 48440, Avg. loss: 0.052059\n",
      "Total training time: 2.21 seconds.\n",
      "-- Epoch 5\n",
      "Norm: 29.17, NNZs: 3182, Bias: -1.473976, T: 36330, Avg. loss: 0.110303\n",
      "Total training time: 2.53 seconds.\n",
      "-- Epoch 4\n",
      "Norm: 14.20, NNZs: 1393, Bias: -2.854338, T: 60550, Avg. loss: 0.020164\n",
      "Total training time: 2.54 seconds.\n",
      "Norm: 17.38, NNZs: 1818, Bias: -2.491839, T: 60550, Avg. loss: 0.042448\n",
      "Total training time: 2.64 seconds.\n"
     ]
    },
    {
     "name": "stderr",
     "output_type": "stream",
     "text": [
      "[Parallel(n_jobs=-1)]: Done  10 out of  12 | elapsed:    5.4s remaining:    1.0s\n"
     ]
    },
    {
     "name": "stdout",
     "output_type": "stream",
     "text": [
      "Norm: 24.75, NNZs: 2904, Bias: -1.090755, T: 48440, Avg. loss: 0.079024\n",
      "Total training time: 3.04 seconds.\n",
      "-- Epoch 5\n",
      "Norm: 22.00, NNZs: 2760, Bias: -0.989983, T: 60550, Avg. loss: 0.060472\n",
      "Total training time: 3.75 seconds.\n"
     ]
    },
    {
     "name": "stderr",
     "output_type": "stream",
     "text": [
      "[Parallel(n_jobs=-1)]: Done  12 out of  12 | elapsed:    6.5s finished\n"
     ]
    },
    {
     "data": {
      "text/plain": "SGDClassifier(alpha=0.001, max_iter=5, n_jobs=-1, penalty='elasticnet',\n              random_state=42, tol=None, verbose=1)",
      "text/html": "<style>#sk-container-id-7 {color: black;background-color: white;}#sk-container-id-7 pre{padding: 0;}#sk-container-id-7 div.sk-toggleable {background-color: white;}#sk-container-id-7 label.sk-toggleable__label {cursor: pointer;display: block;width: 100%;margin-bottom: 0;padding: 0.3em;box-sizing: border-box;text-align: center;}#sk-container-id-7 label.sk-toggleable__label-arrow:before {content: \"▸\";float: left;margin-right: 0.25em;color: #696969;}#sk-container-id-7 label.sk-toggleable__label-arrow:hover:before {color: black;}#sk-container-id-7 div.sk-estimator:hover label.sk-toggleable__label-arrow:before {color: black;}#sk-container-id-7 div.sk-toggleable__content {max-height: 0;max-width: 0;overflow: hidden;text-align: left;background-color: #f0f8ff;}#sk-container-id-7 div.sk-toggleable__content pre {margin: 0.2em;color: black;border-radius: 0.25em;background-color: #f0f8ff;}#sk-container-id-7 input.sk-toggleable__control:checked~div.sk-toggleable__content {max-height: 200px;max-width: 100%;overflow: auto;}#sk-container-id-7 input.sk-toggleable__control:checked~label.sk-toggleable__label-arrow:before {content: \"▾\";}#sk-container-id-7 div.sk-estimator input.sk-toggleable__control:checked~label.sk-toggleable__label {background-color: #d4ebff;}#sk-container-id-7 div.sk-label input.sk-toggleable__control:checked~label.sk-toggleable__label {background-color: #d4ebff;}#sk-container-id-7 input.sk-hidden--visually {border: 0;clip: rect(1px 1px 1px 1px);clip: rect(1px, 1px, 1px, 1px);height: 1px;margin: -1px;overflow: hidden;padding: 0;position: absolute;width: 1px;}#sk-container-id-7 div.sk-estimator {font-family: monospace;background-color: #f0f8ff;border: 1px dotted black;border-radius: 0.25em;box-sizing: border-box;margin-bottom: 0.5em;}#sk-container-id-7 div.sk-estimator:hover {background-color: #d4ebff;}#sk-container-id-7 div.sk-parallel-item::after {content: \"\";width: 100%;border-bottom: 1px solid gray;flex-grow: 1;}#sk-container-id-7 div.sk-label:hover label.sk-toggleable__label {background-color: #d4ebff;}#sk-container-id-7 div.sk-serial::before {content: \"\";position: absolute;border-left: 1px solid gray;box-sizing: border-box;top: 0;bottom: 0;left: 50%;z-index: 0;}#sk-container-id-7 div.sk-serial {display: flex;flex-direction: column;align-items: center;background-color: white;padding-right: 0.2em;padding-left: 0.2em;position: relative;}#sk-container-id-7 div.sk-item {position: relative;z-index: 1;}#sk-container-id-7 div.sk-parallel {display: flex;align-items: stretch;justify-content: center;background-color: white;position: relative;}#sk-container-id-7 div.sk-item::before, #sk-container-id-7 div.sk-parallel-item::before {content: \"\";position: absolute;border-left: 1px solid gray;box-sizing: border-box;top: 0;bottom: 0;left: 50%;z-index: -1;}#sk-container-id-7 div.sk-parallel-item {display: flex;flex-direction: column;z-index: 1;position: relative;background-color: white;}#sk-container-id-7 div.sk-parallel-item:first-child::after {align-self: flex-end;width: 50%;}#sk-container-id-7 div.sk-parallel-item:last-child::after {align-self: flex-start;width: 50%;}#sk-container-id-7 div.sk-parallel-item:only-child::after {width: 0;}#sk-container-id-7 div.sk-dashed-wrapped {border: 1px dashed gray;margin: 0 0.4em 0.5em 0.4em;box-sizing: border-box;padding-bottom: 0.4em;background-color: white;}#sk-container-id-7 div.sk-label label {font-family: monospace;font-weight: bold;display: inline-block;line-height: 1.2em;}#sk-container-id-7 div.sk-label-container {text-align: center;}#sk-container-id-7 div.sk-container {/* jupyter's `normalize.less` sets `[hidden] { display: none; }` but bootstrap.min.css set `[hidden] { display: none !important; }` so we also need the `!important` here to be able to override the default hidden behavior on the sphinx rendered scikit-learn.org. See: https://github.com/scikit-learn/scikit-learn/issues/21755 */display: inline-block !important;position: relative;}#sk-container-id-7 div.sk-text-repr-fallback {display: none;}</style><div id=\"sk-container-id-7\" class=\"sk-top-container\"><div class=\"sk-text-repr-fallback\"><pre>SGDClassifier(alpha=0.001, max_iter=5, n_jobs=-1, penalty=&#x27;elasticnet&#x27;,\n              random_state=42, tol=None, verbose=1)</pre><b>In a Jupyter environment, please rerun this cell to show the HTML representation or trust the notebook. <br />On GitHub, the HTML representation is unable to render, please try loading this page with nbviewer.org.</b></div><div class=\"sk-container\" hidden><div class=\"sk-item\"><div class=\"sk-estimator sk-toggleable\"><input class=\"sk-toggleable__control sk-hidden--visually\" id=\"sk-estimator-id-7\" type=\"checkbox\" checked><label for=\"sk-estimator-id-7\" class=\"sk-toggleable__label sk-toggleable__label-arrow\">SGDClassifier</label><div class=\"sk-toggleable__content\"><pre>SGDClassifier(alpha=0.001, max_iter=5, n_jobs=-1, penalty=&#x27;elasticnet&#x27;,\n              random_state=42, tol=None, verbose=1)</pre></div></div></div></div></div>"
     },
     "execution_count": 110,
     "metadata": {},
     "output_type": "execute_result"
    }
   ],
   "source": [
    "# fit naively\n",
    "clf = SGDClassifier(loss='hinge', penalty='elasticnet', alpha=1e-3, random_state=42, max_iter=5, tol=None, n_jobs=-1, verbose=1)\n",
    "clf.fit(tf_idf_matrix_train, y_train)"
   ],
   "metadata": {
    "collapsed": false,
    "pycharm": {
     "name": "#%%\n"
    }
   }
  },
  {
   "cell_type": "code",
   "execution_count": 111,
   "outputs": [
    {
     "name": "stdout",
     "output_type": "stream",
     "text": [
      "Accuracy on validation set:  0.7761941448382126\n",
      "              precision    recall  f1-score   support\n",
      "\n",
      "           0       0.63      0.23      0.33        53\n",
      "           1       0.42      0.30      0.35       122\n",
      "           2       0.89      0.78      0.83       140\n",
      "           3       0.80      0.80      0.80       420\n",
      "           4       0.87      0.91      0.89       665\n",
      "           5       0.47      0.50      0.48       113\n",
      "           6       0.45      0.18      0.26        28\n",
      "           7       0.68      0.61      0.64        38\n",
      "           8       0.86      0.78      0.82       102\n",
      "           9       0.76      0.84      0.80       546\n",
      "          10       0.72      0.73      0.72       195\n",
      "          11       0.78      0.86      0.81       174\n",
      "\n",
      "    accuracy                           0.78      2596\n",
      "   macro avg       0.69      0.63      0.65      2596\n",
      "weighted avg       0.77      0.78      0.77      2596\n",
      "\n"
     ]
    }
   ],
   "source": [
    "# Evaluation on validation set\n",
    "y_pred = clf.predict(tf_idf_matrix_val)\n",
    "print('Accuracy on validation set: ', accuracy_score(y_val, y_pred))\n",
    "\n",
    "# additionally, we check the classification report\n",
    "# look at F1-Score, Precision, Recall, and relationship between Support & metrics\n",
    "print(classification_report(y_val, y_pred))"
   ],
   "metadata": {
    "collapsed": false,
    "pycharm": {
     "name": "#%%\n"
    }
   }
  },
  {
   "cell_type": "code",
   "execution_count": 112,
   "outputs": [],
   "source": [
    "# TODO: hyper-parameter tuning"
   ],
   "metadata": {
    "collapsed": false,
    "pycharm": {
     "name": "#%%\n"
    }
   }
  },
  {
   "cell_type": "code",
   "execution_count": null,
   "outputs": [],
   "source": [],
   "metadata": {
    "collapsed": false,
    "pycharm": {
     "name": "#%%\n"
    }
   }
  },
  {
   "cell_type": "markdown",
   "metadata": {
    "pycharm": {
     "name": "#%% md\n"
    }
   },
   "source": [
    "<a name=\"section-optional\"></a><h2 style=\"color:rgb(0,120,170)\">Task C: Linear Model Interpretability (2 extra point)</h2>"
   ]
  },
  {
   "cell_type": "markdown",
   "metadata": {
    "pycharm": {
     "name": "#%% md\n"
    }
   },
   "source": [
    "<div style=\"background-color:rgb(224, 243, 255)\">\n",
    "Train a logistic regression model on the high-dimensional vectors. Take the coefficient weights, learned by the model, on each dimension (which here corresponds to each token in the dictionary). Separately for each class, study what are the tokens that have the highest contributions/importance for the predictions of the model.\n",
    "</div>"
   ]
  },
  {
   "cell_type": "code",
   "execution_count": 34,
   "metadata": {
    "pycharm": {
     "name": "#%%\n"
    }
   },
   "outputs": [],
   "source": []
  },
  {
   "cell_type": "code",
   "execution_count": 34,
   "metadata": {
    "pycharm": {
     "name": "#%%\n"
    }
   },
   "outputs": [],
   "source": []
  }
 ],
 "metadata": {
  "kernelspec": {
   "display_name": "Python 3",
   "language": "python",
   "name": "python3"
  },
  "language_info": {
   "codemirror_mode": {
    "name": "ipython",
    "version": 3
   },
   "file_extension": ".py",
   "mimetype": "text/x-python",
   "name": "python",
   "nbconvert_exporter": "python",
   "pygments_lexer": "ipython3",
   "version": "3.7.4"
  }
 },
 "nbformat": 4,
 "nbformat_minor": 4
}