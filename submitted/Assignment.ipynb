{
 "cells": [
  {
   "cell_type": "markdown",
   "metadata": {},
   "source": [
    "Please fill out the information of your group!\n",
    "\n",
    "| <p style=\"text-align: center;\">First Name</p>  | <p style=\"text-align: center;\">Family Name</p> | Matr.-No. |\n",
    "| ---------------------------------------------- | ---------------------------------------------- | -------- |\n",
    "| <p style=\"text-align: left\">Markus</p>| <p style=\"text-align: left\">Frohmann</p> | k12005604 |\n",
    "| <p style=\"text-align: left\">Tobias</p>| <p style=\"text-align: left\">Morocutti</p> | k12008172 |\n"
   ]
  },
  {
   "cell_type": "markdown",
   "metadata": {},
   "source": [
    "<h2 style=\"text-align: center\">344.063: Special Topics - Natural Language Processing with Deep Learning (SS2023)</h2><h1 style=\"text-align: center;color:rgb(0,120,170)\">Assignment 1: Document Classification with LSTM and Transformers</h1>"
   ]
  },
  {
   "cell_type": "markdown",
   "metadata": {},
   "source": [
    "<div style=\"background-color:rgb(224, 243, 255)\">\n",
    "<b>Terms of Use</b><br>\n",
    "This  material is prepared for educational purposes at the Johannes Kepler University (JKU) Linz, and is exclusively provided to the registered students of the mentioned course at JKU. It is strictly forbidden to distribute the current file, the contents of the assignment, and its solution. The use or reproduction of this manuscript is only allowed for educational purposes in non-profit organizations, while in this case, the explicit prior acceptance of the author(s) is required.\n",
    "\n",
    "**Author:** Navid Rekab-saz<br>\n",
    "**Email:** navid.rekabsaz@jku.at<br>\n",
    "\n",
    "</div>"
   ]
  },
  {
   "cell_type": "markdown",
   "metadata": {},
   "source": [
    "<h2>Table of contents</h2>\n",
    "<ol>\n",
    "    <a href=\"#section-general-guidelines\"><li style=\"font-size:large;font-weight:bold\">General Guidelines</li></a>\n",
    "    <a href=\"#section-classification-framework\"><li style=\"font-size:large;font-weight:bold\">Task A: PyTorch Framework for Document Classification (5 points)</li></a>\n",
    "    <a href=\"#section-classification-rnn\"><li style=\"font-size:large;font-weight:bold\">Task B: Document Classification with LSTM (15 points)</li></a>\n",
    "    <a href=\"#section-classification-attention\"><li style=\"font-size:large;font-weight:bold\">Task C: Document Classification with Attention (15 points)</li></a>\n",
    "    <a href=\"#section-classification-transformer\"><li style=\"font-size:large;font-weight:bold\">Task D: Document Classification with Transformer (15 points)</li></a>\n",
    "    <a href=\"#section-interpretation\"><li style=\"font-size:large;font-weight:bold\">Task E: Interpreting Attention Weights (3 extra points)</li></a>\n",
    "    \n",
    "</ol>"
   ]
  },
  {
   "cell_type": "markdown",
   "metadata": {},
   "source": [
    "<a name=\"section-general-guidelines\"></a><h2 style=\"color:rgb(0,120,170)\">General Guidelines</h2>"
   ]
  },
  {
   "cell_type": "markdown",
   "metadata": {},
   "source": [
    "<div style=\"background-color:rgb(224, 243, 255)\">\n",
    "\n",
    "### Assignment objective\n",
    "The aim of this assignment is to implement a document/sentence classification model with PyTorch, particularly by using Long Short-Term Memory (LSTM), Attention networks, and Transformers. The assignment has **50 points** in total.\n",
    "\n",
    "This Notebook encompasses all aspects of the assignment, namely the descriptions of tasks as well as your solutions and reports. Feel free to add any required cell for solutions. The cells can contains code, reports, charts, tables, or any other material, required for the assignment. Cover the questions/points, mentioned in the tasks, but also add any necessary point for understanding your experiments. Try to provide the solutions in a clear, and visual way! \n",
    "\n",
    "Please discuss any unclear point in the assignment in the provided forum in MOODLE. It is also encouraged to provide answers to your peer's questions. However when submitting a post, keep in mind to avoid providing solutions. Please let the author(s) know shall you find any error or unclarity in the assignment.\n",
    "\n",
    "</div>"
   ]
  },
  {
   "cell_type": "markdown",
   "metadata": {},
   "source": [
    "<div style=\"background-color:rgb(224, 243, 255)\">\n",
    "\n",
    "### Libraries & Dataset\n",
    "\n",
    "The assignment should be implemented with recent versions of `Python`, `PyTorch` and, `transformers`. Any standard Python library can be used, so far that the library is free and can be simply installed using `pip` or `conda`. Examples of potentially useful libraries are `scikit-learn`, `numpy`, `scipy`, `gensim`, `nltk`, `spaCy`, and `AllenNLP`. Use the latest stable version of each library.\n",
    "\n",
    "To conduct the experiments, we use a subset of the `HumSet` dataset [1] (https://blog.thedeep.io/humset/). `HumSet` is created by the DEEP (https://www.thedeep.io) project – an open source platform which aims to facilitate processing of textual data for international humanitarian response organizations. The platform enables the classification of text excerpts, extracted from news and reports into a set of domain specific classes. The provided dataset contains the classes (labels) referring to the humanitarian sectors like agriculture, health, and protection. The dataset contains an overall number of 17,301 data points. \n",
    "\n",
    "Download the dataset from [this link](https://drive.jku.at/filr/public-link/file-download/0cce88f18654892601870996f2494cf3/48245/7814719893537218646/nlpwdl2023_data.zip).\n",
    "\n",
    "the provided zip file consists of the following files:\n",
    "- `thedeep.subset.train.txt`: Train set in csv format with three fields: sentence_id, text, and label.\n",
    "- `thedeep.subset.validation.txt`: Validation set in csv format with three fields: sentence_id, text, and label.\n",
    "- `thedeep.subset.test.txt`: Test set in csv format with three fields: sentence_id, text, and label.\n",
    "- `thedeep.subset.label.txt`: Captions of the labels.\n",
    "- `thedeep.ToU.txt`: Terms of use of the dataset.\n",
    "\n",
    "[1] HumSet: Dataset of Multilingual Information Extraction and Classification for Humanitarian Crises Response\n",
    "*Selim Fekih, Nicolo' Tamagnone, Benjamin Minixhofer, Ranjan Shrestha, Ximena Contla, Ewan Oglethorpe and Navid Rekabsaz.* \n",
    "In Findings of the 2022 Conference on Empirical Methods in Natural Language Processing (Findings of EMNLP), December 2022.\n",
    "\n",
    "</div>"
   ]
  },
  {
   "cell_type": "markdown",
   "metadata": {},
   "source": [
    "<div style=\"background-color:rgb(224, 243, 255)\">\n",
    "\n",
    "### Submission\n",
    "\n",
    "Each group should submit the following two files:\n",
    "\n",
    "- One Jupyter Notebook file (`.ipynb`), containing all the code, results, visualizations, etc. **In the submitted Notebook, all the results and visualizations should already be present, and can be observed simply by loading the Notebook in a browser.** The Notebook must be self-contained, meaning that (if necessary) one can run all the cells from top to bottom without any error. Do not forget to put in your names and student numbers in the first cell of the Notebook. \n",
    "- The HTML file (`.html`) achieved from exporting the Jupyter Notebook to HTML (Download As HTML).\n",
    "\n",
    "You do not need to include the data files in the submission.\n",
    "\n",
    "\n",
    "</div>"
   ]
  },
  {
   "cell_type": "markdown",
   "metadata": {},
   "source": [
    "<div style=\"background-color:rgb(224, 243, 255)\">\n",
    "\n",
    "### Publishing Experiments Results\n",
    "\n",
    "In all experiments of this assignment, use any experiment monitoring tool like [`TensorBoard`](https://www.tensorflow.org/tensorboard), [`wandb`](https://wandb.ai) to log and store all useful information about the training and evaluation of the models. Feel free to log any important aspect in particular the changes in evaluation results on validation, in training loss, and in learning rate.\n",
    "\n",
    "After finalizing all experiments and cleaning any unnecessary experiment, **provide the URL to the results monitoring page in the cell below**.\n",
    "\n",
    "For instance if using [`TensorBoard.dev`](https://tensorboard.dev), you can run the following command in the folder of log files: `tensorboard dev upload --name my_exp --logdir path/to/output_dir`, and take the provided URL to the TensorBoard's console.\n",
    "\n",
    "</div>\n"
   ]
  },
  {
   "cell_type": "code",
   "execution_count": 1,
   "metadata": {},
   "outputs": [
    {
     "name": "stdout",
     "output_type": "stream",
     "text": [
      "Requirement already satisfied: wandb in /home/tobi/anaconda3/envs/malach/lib/python3.7/site-packages (0.14.0)\n",
      "Requirement already satisfied: pathtools in /home/tobi/anaconda3/envs/malach/lib/python3.7/site-packages (from wandb) (0.1.2)\n",
      "Requirement already satisfied: requests<3,>=2.0.0 in /home/tobi/anaconda3/envs/malach/lib/python3.7/site-packages (from wandb) (2.28.0)\n",
      "Requirement already satisfied: docker-pycreds>=0.4.0 in /home/tobi/anaconda3/envs/malach/lib/python3.7/site-packages (from wandb) (0.4.0)\n",
      "Requirement already satisfied: setproctitle in /home/tobi/anaconda3/envs/malach/lib/python3.7/site-packages (from wandb) (1.3.2)\n",
      "Requirement already satisfied: setuptools in /home/tobi/anaconda3/envs/malach/lib/python3.7/site-packages (from wandb) (61.2.0)\n",
      "Requirement already satisfied: sentry-sdk>=1.0.0 in /home/tobi/anaconda3/envs/malach/lib/python3.7/site-packages (from wandb) (1.9.0)\n",
      "Requirement already satisfied: protobuf!=4.21.0,<5,>=3.12.0 in /home/tobi/anaconda3/envs/malach/lib/python3.7/site-packages (from wandb) (3.19.4)\n",
      "Requirement already satisfied: GitPython!=3.1.29,>=1.0.0 in /home/tobi/anaconda3/envs/malach/lib/python3.7/site-packages (from wandb) (3.1.27)\n",
      "Requirement already satisfied: Click!=8.0.0,>=7.0 in /home/tobi/anaconda3/envs/malach/lib/python3.7/site-packages (from wandb) (8.1.3)\n",
      "Requirement already satisfied: appdirs>=1.4.3 in /home/tobi/anaconda3/envs/malach/lib/python3.7/site-packages (from wandb) (1.4.4)\n",
      "Requirement already satisfied: typing-extensions in /home/tobi/anaconda3/envs/malach/lib/python3.7/site-packages (from wandb) (4.4.0)\n",
      "Requirement already satisfied: psutil>=5.0.0 in /home/tobi/anaconda3/envs/malach/lib/python3.7/site-packages (from wandb) (5.9.4)\n",
      "Requirement already satisfied: PyYAML in /home/tobi/anaconda3/envs/malach/lib/python3.7/site-packages (from wandb) (6.0)\n",
      "Requirement already satisfied: importlib-metadata in /home/tobi/anaconda3/envs/malach/lib/python3.7/site-packages (from Click!=8.0.0,>=7.0->wandb) (4.11.4)\n",
      "Requirement already satisfied: six>=1.4.0 in /home/tobi/anaconda3/envs/malach/lib/python3.7/site-packages (from docker-pycreds>=0.4.0->wandb) (1.16.0)\n",
      "Requirement already satisfied: gitdb<5,>=4.0.1 in /home/tobi/anaconda3/envs/malach/lib/python3.7/site-packages (from GitPython!=3.1.29,>=1.0.0->wandb) (4.0.9)\n",
      "Requirement already satisfied: smmap<6,>=3.0.1 in /home/tobi/anaconda3/envs/malach/lib/python3.7/site-packages (from gitdb<5,>=4.0.1->GitPython!=3.1.29,>=1.0.0->wandb) (5.0.0)\n",
      "Requirement already satisfied: idna<4,>=2.5 in /home/tobi/anaconda3/envs/malach/lib/python3.7/site-packages (from requests<3,>=2.0.0->wandb) (3.3)\n",
      "Requirement already satisfied: urllib3<1.27,>=1.21.1 in /home/tobi/anaconda3/envs/malach/lib/python3.7/site-packages (from requests<3,>=2.0.0->wandb) (1.26.9)\n",
      "Requirement already satisfied: certifi>=2017.4.17 in /home/tobi/anaconda3/envs/malach/lib/python3.7/site-packages (from requests<3,>=2.0.0->wandb) (2023.5.7)\n",
      "Requirement already satisfied: charset-normalizer~=2.0.0 in /home/tobi/anaconda3/envs/malach/lib/python3.7/site-packages (from requests<3,>=2.0.0->wandb) (2.0.12)\n",
      "Requirement already satisfied: zipp>=0.5 in /home/tobi/anaconda3/envs/malach/lib/python3.7/site-packages (from importlib-metadata->Click!=8.0.0,>=7.0->wandb) (3.11.0)\n"
     ]
    }
   ],
   "source": [
    "!pip install wandb"
   ]
  },
  {
   "cell_type": "code",
   "execution_count": 2,
   "metadata": {},
   "outputs": [],
   "source": [
    "# !wandb login"
   ]
  },
  {
   "cell_type": "code",
   "execution_count": 3,
   "metadata": {},
   "outputs": [],
   "source": [
    "import wandb"
   ]
  },
  {
   "cell_type": "markdown",
   "metadata": {},
   "source": [
    "**URL :** *https://wandb.ai/tobiasm/NLPwDL*"
   ]
  },
  {
   "cell_type": "markdown",
   "metadata": {},
   "source": [
    "<a name=\"section-classification-framework\"></a><h2 style=\"color:rgb(0,120,170)\">Task A: PyTorch Framework for Document Classification (5 points)</h2>"
   ]
  },
  {
   "cell_type": "markdown",
   "metadata": {},
   "source": [
    "<div style=\"background-color:rgb(224, 243, 255)\">\n",
    "\n",
    "The formulation of this task is identical to the Assignment 3 of UE Natural Language Processing course. In this task, you implement a document classification model, which given a document/sentence, predicts the corresponding class. The PyTorch model in this task should be called **`ClassificationAverageModel`** in your code.\n",
    "\n",
    "Given a document, first each word is mapped to its corresponding vector. Then, the word vectors are composed to create the embedding of the document using the *element-wise mean* of the word vectors. Formally, given the document $d$, consisting of words $\\left[ v_1, v_2, ..., v_{|d|} \\right]$, the document representation $\\mathbf{e}_d$ is defined as:\n",
    "\n",
    "<center><div>$\\mathbf{e}_d = \\frac{1}{|d|}\\sum_{i=1}^{|d|}{\\mathbf{e}_{v_i}}$</div></center>\n",
    "\n",
    "where $\\mathbf{e}_{v}$ is the vector of the word $v$, and $|d|$ is the length of the document. This document embedding is finally used as features to predict the class (label) of the document. The implementation of the classification model should cover the following points.\n",
    "\n",
    "\n",
    "    \n",
    "**Preprocessing, Dictionary, and Word Embedding Lookup (1 point):** Load the train, validation, and test sets. Apply necessary preprocessing steps based on your judgement. Tokenize the preprocessed text. Use the processed tokens of the training set to create a dictionary of vocabularies. Reduce the size of dictionary using a proper method, for instance by considering a cut-off threshold on the tokens with low frequencies. When removing tokens from the dictionary, consider a strategy for handling Out-Of-Vocabulary (OOV) tokens, namely the ones in the train/validation/test datasets that that are not anymore in the dictionary. Some possible strategies could be to remove OOVs from the texts, or to replace them with a special token like <OOV>. After then, create a lookup for the embeddings of all the words in the dictionary. The lookup is an embedding matrix, which maps the ID of each word to a corresponding vector. Use the pre-trained vectors of a word embedding model (like [`word2vec`](https://code.google.com/archive/p/word2vec/) or [`GloVe`](https://nlp.stanford.edu/projects/glove/)) to initialize the word embeddings of the lookup. Keep in mind that the embeddings of the words in the lookup should be matched with the correct vector in the pretrained word embedding. If the vector of a word in the lookup does not exist in the pretrained word embeddings, the corresponding vector should be initialized randomly. The word embeddings of the classification model are trainable, meaning that the word vectors get updated end-to-end with the other parameters of the model.\n",
    "\n",
    "**Data Batching and Forward Pass (1 point):** Create batches for any given dataset (train/validation/test). Each batch is a two-dimensional matrix of *batch-size* to *max-document-length*, consisting of the ids of the words in documents. *Batch-size* and *max-document-length* are two hyper-parameters of the model. Next, given a batch, the model fetches the corresponding embeddings, and use them to calculate the document embeddings according to the formulation above. These document embeddings are then exploited to predict the probability distributions of the output classes using a linear projection, followed by a softmax layer.\n",
    "\n",
    "**Loss Function, Optimization, Early Stopping, and Evaluation (1.5 point):** Loss between the predicted and the actual classes is calculated using Negative Log Likelihood. Feel free to use any optimization mechanism such as Adam. After each epoch, evaluate the model on the *validation set* using the <ins>accuracy metric</ins>. If the evaluation result improves, save the model as the best performing one so far. If the results are not improving after a certain number of evaluation rounds (set as another hyper-parameter) or if training reaches a certain number of epochs, the training procedure can be terminated. After finishing the training, load the best performing model, and use it to predict the classes of the data points in the test set. To evaluate the models, use the <ins>accuracy metric</ins> throughout the task.\n",
    "\n",
    "**Overall functionality of the model (1 point)**\n",
    "\n",
    "**Reporting (0.5 point)** During loading and processing the collection, provide sufficient information and examples about the data and the applied processing steps. Report the results of the best performing model on the validation and test set in a table. Additionally, feel free to add any plot showing the results.\n",
    "\n",
    "</div>"
   ]
  },
  {
   "cell_type": "code",
   "execution_count": 4,
   "metadata": {},
   "outputs": [
    {
     "name": "stderr",
     "output_type": "stream",
     "text": [
      "\u001b[34m\u001b[1mwandb\u001b[0m: Currently logged in as: \u001b[33mtobiasm\u001b[0m. Use \u001b[1m`wandb login --relogin`\u001b[0m to force relogin\n"
     ]
    },
    {
     "data": {
      "text/html": [
       "wandb version 0.15.3 is available!  To upgrade, please run:\n",
       " $ pip install wandb --upgrade"
      ],
      "text/plain": [
       "<IPython.core.display.HTML object>"
      ]
     },
     "metadata": {},
     "output_type": "display_data"
    },
    {
     "data": {
      "text/html": [
       "Tracking run with wandb version 0.14.0"
      ],
      "text/plain": [
       "<IPython.core.display.HTML object>"
      ]
     },
     "metadata": {},
     "output_type": "display_data"
    },
    {
     "data": {
      "text/html": [
       "Run data is saved locally in <code>/home/tobi/Documents/nlp/nlp-course-2022w/wandb/run-20230530_142142-ibmos0if</code>"
      ],
      "text/plain": [
       "<IPython.core.display.HTML object>"
      ]
     },
     "metadata": {},
     "output_type": "display_data"
    },
    {
     "data": {
      "text/html": [
       "Syncing run <strong><a href='https://wandb.ai/tobiasm/NLPwDL/runs/ibmos0if' target=\"_blank\">average</a></strong> to <a href='https://wandb.ai/tobiasm/NLPwDL' target=\"_blank\">Weights & Biases</a> (<a href='https://wandb.me/run' target=\"_blank\">docs</a>)<br/>"
      ],
      "text/plain": [
       "<IPython.core.display.HTML object>"
      ]
     },
     "metadata": {},
     "output_type": "display_data"
    },
    {
     "data": {
      "text/html": [
       " View project at <a href='https://wandb.ai/tobiasm/NLPwDL' target=\"_blank\">https://wandb.ai/tobiasm/NLPwDL</a>"
      ],
      "text/plain": [
       "<IPython.core.display.HTML object>"
      ]
     },
     "metadata": {},
     "output_type": "display_data"
    },
    {
     "data": {
      "text/html": [
       " View run at <a href='https://wandb.ai/tobiasm/NLPwDL/runs/ibmos0if' target=\"_blank\">https://wandb.ai/tobiasm/NLPwDL/runs/ibmos0if</a>"
      ],
      "text/plain": [
       "<IPython.core.display.HTML object>"
      ]
     },
     "metadata": {},
     "output_type": "display_data"
    },
    {
     "data": {
      "text/html": [
       "<button onClick=\"this.nextSibling.style.display='block';this.style.display='none';\">Display W&B run</button><iframe src='https://wandb.ai/tobiasm/NLPwDL/runs/ibmos0if?jupyter=true' style='border:none;width:100%;height:420px;display:none;'></iframe>"
      ],
      "text/plain": [
       "<wandb.sdk.wandb_run.Run at 0x7fbba4833d10>"
      ]
     },
     "execution_count": 4,
     "metadata": {},
     "output_type": "execute_result"
    }
   ],
   "source": [
    "wandb.init(project=\"NLPwDL\", entity=\"tobiasm\", name=\"average\")"
   ]
  },
  {
   "cell_type": "markdown",
   "metadata": {},
   "source": [
    "## Load data and Imports"
   ]
  },
  {
   "cell_type": "markdown",
   "metadata": {},
   "source": [
    "**Preprocessing, Dictionary, and Word Embedding Lookup (1 point):** Load the train, validation, and test sets. Apply necessary preprocessing steps based on your judgement. Tokenize the preprocessed text. Use the processed tokens of the training set to create a dictionary of vocabularies. Reduce the size of dictionary using a proper method, for instance by considering a cut-off threshold on the tokens with low frequencies. When removing tokens from the dictionary, consider a strategy for handling Out-Of-Vocabulary (OOV) tokens, namely the ones in the train/validation/test datasets that that are not anymore in the dictionary. Some possible strategies could be to remove OOVs from the texts, or to replace them with a special token like <OOV>. After then, create a lookup for the embeddings of all the words in the dictionary. The lookup is an embedding matrix, which maps the ID of each word to a corresponding vector. Use the pre-trained vectors of a word embedding model (like [`word2vec`](https://code.google.com/archive/p/word2vec/) or [`GloVe`](https://nlp.stanford.edu/projects/glove/)) to initialize the word embeddings of the lookup. Keep in mind that the embeddings of the words in the lookup should be matched with the correct vector in the pretrained word embedding. If the vector of a word in the lookup does not exist in the pretrained word embeddings, the corresponding vector should be initialized randomly. The word embeddings of the classification model are trainable, meaning that the word vectors get updated end-to-end with the other parameters of the model."
   ]
  },
  {
   "cell_type": "code",
   "execution_count": 5,
   "metadata": {
    "collapsed": false,
    "jupyter": {
     "outputs_hidden": false
    }
   },
   "outputs": [],
   "source": [
    "import pandas as pd\n",
    "import numpy as np\n",
    "import gensim"
   ]
  },
  {
   "cell_type": "code",
   "execution_count": 6,
   "metadata": {
    "collapsed": false,
    "jupyter": {
     "outputs_hidden": false
    }
   },
   "outputs": [],
   "source": [
    "# Load the train, validation, and test sets\n",
    "BASE_DIR = 'data/nlp2022_23_data/'\n",
    "TRAIN_FILE = BASE_DIR + 'thedeep.subset' + '.train.txt'\n",
    "VAL_FILE = BASE_DIR + 'thedeep.subset' + '.validation.txt'\n",
    "TEST_FILE = BASE_DIR + 'thedeep.subset' + '.test.txt'\n",
    "LABEL_FILE = BASE_DIR + 'thedeep.' + 'labels.txt'\n",
    "\n",
    "train_df = pd.read_csv(TRAIN_FILE, sep=',', header=None, names=['sentence_id', 'text', 'label'])\n",
    "val_df = pd.read_csv(VAL_FILE, sep=',', header=None, names=['sentence_id', 'text', 'label'])\n",
    "test_df = pd.read_csv(TEST_FILE, sep=',', header=None, names=['sentence_id', 'text', 'label'])\n",
    "label_df = pd.read_csv(LABEL_FILE, sep=',', header=None, names=['label', 'caption'])"
   ]
  },
  {
   "cell_type": "markdown",
   "metadata": {},
   "source": [
    "## Pre-process"
   ]
  },
  {
   "cell_type": "code",
   "execution_count": 7,
   "metadata": {
    "collapsed": false,
    "jupyter": {
     "outputs_hidden": false
    }
   },
   "outputs": [
    {
     "name": "stdout",
     "output_type": "stream",
     "text": [
      "Train set length:  12110\n",
      "Validation set length:  2596\n",
      "Test set length:  2595\n"
     ]
    }
   ],
   "source": [
    "# print length of each set\n",
    "print('Train set length: ', len(train_df))\n",
    "print('Validation set length: ', len(val_df))\n",
    "print('Test set length: ', len(test_df))"
   ]
  },
  {
   "cell_type": "code",
   "execution_count": 8,
   "metadata": {
    "collapsed": false,
    "jupyter": {
     "outputs_hidden": false
    }
   },
   "outputs": [
    {
     "name": "stdout",
     "output_type": "stream",
     "text": [
      "Average length of text in train set:  450.86\n",
      "Average length of text in validation set:  446.5\n",
      "Average length of text in test set:  440.51\n"
     ]
    }
   ],
   "source": [
    "# print average length of text in each set\n",
    "print('Average length of text in train set: ', np.round(np.mean(train_df['text'].str.len()), 2))\n",
    "print('Average length of text in validation set: ', np.round(np.mean(val_df['text'].str.len()), 2))\n",
    "print('Average length of text in test set: ', np.round(np.mean(test_df['text'].str.len()), 2))"
   ]
  },
  {
   "cell_type": "code",
   "execution_count": 9,
   "metadata": {
    "collapsed": false,
    "jupyter": {
     "outputs_hidden": false
    }
   },
   "outputs": [
    {
     "data": {
      "text/html": [
       "<div>\n",
       "<style scoped>\n",
       "    .dataframe tbody tr th:only-of-type {\n",
       "        vertical-align: middle;\n",
       "    }\n",
       "\n",
       "    .dataframe tbody tr th {\n",
       "        vertical-align: top;\n",
       "    }\n",
       "\n",
       "    .dataframe thead th {\n",
       "        text-align: right;\n",
       "    }\n",
       "</style>\n",
       "<table border=\"1\" class=\"dataframe\">\n",
       "  <thead>\n",
       "    <tr style=\"text-align: right;\">\n",
       "      <th></th>\n",
       "      <th>label</th>\n",
       "      <th>caption</th>\n",
       "    </tr>\n",
       "  </thead>\n",
       "  <tbody>\n",
       "    <tr>\n",
       "      <th>0</th>\n",
       "      <td>0</td>\n",
       "      <td>Agriculture</td>\n",
       "    </tr>\n",
       "    <tr>\n",
       "      <th>1</th>\n",
       "      <td>1</td>\n",
       "      <td>Cross</td>\n",
       "    </tr>\n",
       "    <tr>\n",
       "      <th>2</th>\n",
       "      <td>2</td>\n",
       "      <td>Education</td>\n",
       "    </tr>\n",
       "    <tr>\n",
       "      <th>3</th>\n",
       "      <td>3</td>\n",
       "      <td>Food</td>\n",
       "    </tr>\n",
       "    <tr>\n",
       "      <th>4</th>\n",
       "      <td>4</td>\n",
       "      <td>Health</td>\n",
       "    </tr>\n",
       "    <tr>\n",
       "      <th>5</th>\n",
       "      <td>5</td>\n",
       "      <td>Livelihood</td>\n",
       "    </tr>\n",
       "    <tr>\n",
       "      <th>6</th>\n",
       "      <td>6</td>\n",
       "      <td>Logistic</td>\n",
       "    </tr>\n",
       "    <tr>\n",
       "      <th>7</th>\n",
       "      <td>7</td>\n",
       "      <td>NFI</td>\n",
       "    </tr>\n",
       "    <tr>\n",
       "      <th>8</th>\n",
       "      <td>8</td>\n",
       "      <td>Nutrition</td>\n",
       "    </tr>\n",
       "    <tr>\n",
       "      <th>9</th>\n",
       "      <td>9</td>\n",
       "      <td>Protection</td>\n",
       "    </tr>\n",
       "    <tr>\n",
       "      <th>10</th>\n",
       "      <td>10</td>\n",
       "      <td>Shelter</td>\n",
       "    </tr>\n",
       "    <tr>\n",
       "      <th>11</th>\n",
       "      <td>11</td>\n",
       "      <td>WASH</td>\n",
       "    </tr>\n",
       "  </tbody>\n",
       "</table>\n",
       "</div>"
      ],
      "text/plain": [
       "    label      caption\n",
       "0       0  Agriculture\n",
       "1       1        Cross\n",
       "2       2    Education\n",
       "3       3         Food\n",
       "4       4       Health\n",
       "5       5   Livelihood\n",
       "6       6     Logistic\n",
       "7       7          NFI\n",
       "8       8    Nutrition\n",
       "9       9   Protection\n",
       "10     10      Shelter\n",
       "11     11         WASH"
      ]
     },
     "execution_count": 9,
     "metadata": {},
     "output_type": "execute_result"
    }
   ],
   "source": [
    "label_df"
   ]
  },
  {
   "cell_type": "markdown",
   "metadata": {},
   "source": [
    "Each label corresponds to a given caption, i.e., a category."
   ]
  },
  {
   "cell_type": "code",
   "execution_count": 10,
   "metadata": {
    "collapsed": false,
    "jupyter": {
     "outputs_hidden": false
    }
   },
   "outputs": [],
   "source": [
    "def map_label_to_caption(label):\n",
    "    \"\"\"\n",
    "    Map label id to caption using label_df\n",
    "    :param label: label id, int\n",
    "    :return: label caption, str\n",
    "    \"\"\"\n",
    "    return label_df[label_df['label'] == label]['caption'].values[0]"
   ]
  },
  {
   "cell_type": "code",
   "execution_count": 11,
   "metadata": {
    "collapsed": false,
    "jupyter": {
     "outputs_hidden": false
    }
   },
   "outputs": [],
   "source": [
    "train_df = train_df.assign(caption=train_df['label'].apply(map_label_to_caption))\n",
    "val_df = val_df.assign(caption=val_df['label'].apply(map_label_to_caption))\n",
    "test_df = test_df.assign(caption=test_df['label'].apply(map_label_to_caption))"
   ]
  },
  {
   "cell_type": "markdown",
   "metadata": {},
   "source": [
    "### Clean text"
   ]
  },
  {
   "cell_type": "code",
   "execution_count": 12,
   "metadata": {
    "collapsed": false,
    "jupyter": {
     "outputs_hidden": false
    }
   },
   "outputs": [],
   "source": [
    "import re\n",
    "\n",
    "# remove punctuation marks, replace dates & numbers, apply case-sensitivity\n",
    "# do this in order to reduce the size of the dictionary & reduce complexity\n",
    "def clean_text(text):\n",
    "    \"\"\"\n",
    "    Clean text by replacing dates & numbers, applying case-sensitivity\n",
    "    :param text: text to clean, str\n",
    "    :return: cleaned text, str\n",
    "    \"\"\"\n",
    "    # remove punctuation marks\n",
    "    # text = re.sub(r'[^\\w\\s]', '', text)\n",
    "    # replace dates\n",
    "    text = re.sub(r'\\d{1,2}/\\d{1,2}/\\d{2,4}', '< date >', text)\n",
    "    # replace numbers\n",
    "    text = re.sub(r'\\d+', '< num >', text)\n",
    "    # apply case-sensitivity\n",
    "    text = text.lower()\n",
    "    return text"
   ]
  },
  {
   "cell_type": "code",
   "execution_count": 13,
   "metadata": {
    "collapsed": false,
    "jupyter": {
     "outputs_hidden": false
    }
   },
   "outputs": [],
   "source": [
    "train_df['cleaned_text'] = train_df['text'].apply(clean_text)\n",
    "val_df['cleaned_text'] = val_df['text'].apply(clean_text)\n",
    "test_df['cleaned_text'] = test_df['text'].apply(clean_text)"
   ]
  },
  {
   "cell_type": "code",
   "execution_count": 14,
   "metadata": {
    "collapsed": false,
    "jupyter": {
     "outputs_hidden": false
    }
   },
   "outputs": [
    {
     "data": {
      "text/html": [
       "<div>\n",
       "<style scoped>\n",
       "    .dataframe tbody tr th:only-of-type {\n",
       "        vertical-align: middle;\n",
       "    }\n",
       "\n",
       "    .dataframe tbody tr th {\n",
       "        vertical-align: top;\n",
       "    }\n",
       "\n",
       "    .dataframe thead th {\n",
       "        text-align: right;\n",
       "    }\n",
       "</style>\n",
       "<table border=\"1\" class=\"dataframe\">\n",
       "  <thead>\n",
       "    <tr style=\"text-align: right;\">\n",
       "      <th></th>\n",
       "      <th>sentence_id</th>\n",
       "      <th>text</th>\n",
       "      <th>label</th>\n",
       "      <th>caption</th>\n",
       "      <th>cleaned_text</th>\n",
       "    </tr>\n",
       "  </thead>\n",
       "  <tbody>\n",
       "    <tr>\n",
       "      <th>0</th>\n",
       "      <td>5446</td>\n",
       "      <td>In addition to the immediate life-saving inter...</td>\n",
       "      <td>9</td>\n",
       "      <td>Protection</td>\n",
       "      <td>in addition to the immediate life-saving inter...</td>\n",
       "    </tr>\n",
       "    <tr>\n",
       "      <th>1</th>\n",
       "      <td>8812</td>\n",
       "      <td>There are approximately 2.6 million people cla...</td>\n",
       "      <td>3</td>\n",
       "      <td>Food</td>\n",
       "      <td>there are approximately &lt; num &gt;.&lt; num &gt; millio...</td>\n",
       "    </tr>\n",
       "    <tr>\n",
       "      <th>2</th>\n",
       "      <td>16709</td>\n",
       "      <td>While aid imports have held up recently, comme...</td>\n",
       "      <td>5</td>\n",
       "      <td>Livelihood</td>\n",
       "      <td>while aid imports have held up recently, comme...</td>\n",
       "    </tr>\n",
       "    <tr>\n",
       "      <th>3</th>\n",
       "      <td>3526</td>\n",
       "      <td>Heavy rainfalls as well as onrush of water fro...</td>\n",
       "      <td>0</td>\n",
       "      <td>Agriculture</td>\n",
       "      <td>heavy rainfalls as well as onrush of water fro...</td>\n",
       "    </tr>\n",
       "    <tr>\n",
       "      <th>4</th>\n",
       "      <td>4928</td>\n",
       "      <td>Based on field reports 9 , the main production...</td>\n",
       "      <td>3</td>\n",
       "      <td>Food</td>\n",
       "      <td>based on field reports &lt; num &gt; , the main prod...</td>\n",
       "    </tr>\n",
       "    <tr>\n",
       "      <th>...</th>\n",
       "      <td>...</td>\n",
       "      <td>...</td>\n",
       "      <td>...</td>\n",
       "      <td>...</td>\n",
       "      <td>...</td>\n",
       "    </tr>\n",
       "    <tr>\n",
       "      <th>12105</th>\n",
       "      <td>12744</td>\n",
       "      <td>The total gap in the number of people who requ...</td>\n",
       "      <td>8</td>\n",
       "      <td>Nutrition</td>\n",
       "      <td>the total gap in the number of people who requ...</td>\n",
       "    </tr>\n",
       "    <tr>\n",
       "      <th>12106</th>\n",
       "      <td>9655</td>\n",
       "      <td>A food crisis is looming in the country with t...</td>\n",
       "      <td>0</td>\n",
       "      <td>Agriculture</td>\n",
       "      <td>a food crisis is looming in the country with t...</td>\n",
       "    </tr>\n",
       "    <tr>\n",
       "      <th>12107</th>\n",
       "      <td>6963</td>\n",
       "      <td>? Acute watery diarrhoea (AWD) continues to be...</td>\n",
       "      <td>4</td>\n",
       "      <td>Health</td>\n",
       "      <td>? acute watery diarrhoea (awd) continues to be...</td>\n",
       "    </tr>\n",
       "    <tr>\n",
       "      <th>12108</th>\n",
       "      <td>923</td>\n",
       "      <td>As South India grapples with drought and water...</td>\n",
       "      <td>11</td>\n",
       "      <td>WASH</td>\n",
       "      <td>as south india grapples with drought and water...</td>\n",
       "    </tr>\n",
       "    <tr>\n",
       "      <th>12109</th>\n",
       "      <td>15880</td>\n",
       "      <td>Mirroring trends in South Africa, the main sou...</td>\n",
       "      <td>3</td>\n",
       "      <td>Food</td>\n",
       "      <td>mirroring trends in south africa, the main sou...</td>\n",
       "    </tr>\n",
       "  </tbody>\n",
       "</table>\n",
       "<p>12110 rows × 5 columns</p>\n",
       "</div>"
      ],
      "text/plain": [
       "       sentence_id                                               text  label  \\\n",
       "0             5446  In addition to the immediate life-saving inter...      9   \n",
       "1             8812  There are approximately 2.6 million people cla...      3   \n",
       "2            16709  While aid imports have held up recently, comme...      5   \n",
       "3             3526  Heavy rainfalls as well as onrush of water fro...      0   \n",
       "4             4928  Based on field reports 9 , the main production...      3   \n",
       "...            ...                                                ...    ...   \n",
       "12105        12744  The total gap in the number of people who requ...      8   \n",
       "12106         9655  A food crisis is looming in the country with t...      0   \n",
       "12107         6963  ? Acute watery diarrhoea (AWD) continues to be...      4   \n",
       "12108          923  As South India grapples with drought and water...     11   \n",
       "12109        15880  Mirroring trends in South Africa, the main sou...      3   \n",
       "\n",
       "           caption                                       cleaned_text  \n",
       "0       Protection  in addition to the immediate life-saving inter...  \n",
       "1             Food  there are approximately < num >.< num > millio...  \n",
       "2       Livelihood  while aid imports have held up recently, comme...  \n",
       "3      Agriculture  heavy rainfalls as well as onrush of water fro...  \n",
       "4             Food  based on field reports < num > , the main prod...  \n",
       "...            ...                                                ...  \n",
       "12105    Nutrition  the total gap in the number of people who requ...  \n",
       "12106  Agriculture  a food crisis is looming in the country with t...  \n",
       "12107       Health  ? acute watery diarrhoea (awd) continues to be...  \n",
       "12108         WASH  as south india grapples with drought and water...  \n",
       "12109         Food  mirroring trends in south africa, the main sou...  \n",
       "\n",
       "[12110 rows x 5 columns]"
      ]
     },
     "execution_count": 14,
     "metadata": {},
     "output_type": "execute_result"
    }
   ],
   "source": [
    "train_df"
   ]
  },
  {
   "cell_type": "markdown",
   "metadata": {},
   "source": [
    "### Tokenization"
   ]
  },
  {
   "cell_type": "code",
   "execution_count": 15,
   "metadata": {
    "collapsed": false,
    "jupyter": {
     "outputs_hidden": false
    }
   },
   "outputs": [
    {
     "name": "stderr",
     "output_type": "stream",
     "text": [
      "[nltk_data] Downloading package punkt to /home/tobi/nltk_data...\n",
      "[nltk_data]   Package punkt is already up-to-date!\n",
      "[nltk_data] Downloading package wordnet to /home/tobi/nltk_data...\n",
      "[nltk_data]   Package wordnet is already up-to-date!\n",
      "[nltk_data] Downloading package omw-1.4 to /home/tobi/nltk_data...\n",
      "[nltk_data]   Package omw-1.4 is already up-to-date!\n"
     ]
    },
    {
     "data": {
      "text/plain": [
       "True"
      ]
     },
     "execution_count": 15,
     "metadata": {},
     "output_type": "execute_result"
    }
   ],
   "source": [
    "import nltk\n",
    "\n",
    "nltk.download('punkt')\n",
    "nltk.download('wordnet')\n",
    "nltk.download('omw-1.4')"
   ]
  },
  {
   "cell_type": "code",
   "execution_count": 16,
   "metadata": {
    "collapsed": false,
    "jupyter": {
     "outputs_hidden": false
    }
   },
   "outputs": [],
   "source": [
    "# use NLTK tokenizer (TreebankWordTokenizer)\n",
    "from nltk.tokenize import word_tokenize\n",
    "train_df['tokenized_text'] = train_df['cleaned_text'].apply(word_tokenize)\n",
    "val_df['tokenized_text'] = val_df['cleaned_text'].apply(word_tokenize)\n",
    "test_df['tokenized_text'] = test_df['cleaned_text'].apply(word_tokenize)"
   ]
  },
  {
   "cell_type": "markdown",
   "metadata": {},
   "source": [
    "## Stopwords"
   ]
  },
  {
   "cell_type": "code",
   "execution_count": 17,
   "metadata": {
    "collapsed": false,
    "jupyter": {
     "outputs_hidden": false
    }
   },
   "outputs": [
    {
     "name": "stderr",
     "output_type": "stream",
     "text": [
      "[nltk_data] Downloading package stopwords to /home/tobi/nltk_data...\n",
      "[nltk_data]   Package stopwords is already up-to-date!\n"
     ]
    },
    {
     "data": {
      "text/plain": [
       "True"
      ]
     },
     "execution_count": 17,
     "metadata": {},
     "output_type": "execute_result"
    }
   ],
   "source": [
    "nltk.download('stopwords')"
   ]
  },
  {
   "cell_type": "code",
   "execution_count": 18,
   "metadata": {
    "collapsed": false,
    "jupyter": {
     "outputs_hidden": false
    }
   },
   "outputs": [],
   "source": [
    "# remove stopwords in English in order to reduce the size of the dictionary\n",
    "from nltk.corpus import stopwords\n",
    "stop_words = set(stopwords.words('english'))\n",
    "train_df['tokenized_text'] = train_df['tokenized_text'].apply(lambda x: [word for word in x if word not in stop_words])\n",
    "val_df['tokenized_text'] = val_df['tokenized_text'].apply(lambda x: [word for word in x if word not in stop_words])\n",
    "test_df['tokenized_text'] = test_df['tokenized_text'].apply(lambda x: [word for word in x if word not in stop_words])"
   ]
  },
  {
   "cell_type": "code",
   "execution_count": 19,
   "metadata": {
    "collapsed": false,
    "jupyter": {
     "outputs_hidden": false
    }
   },
   "outputs": [],
   "source": [
    "# create dictionary using train set\n",
    "def create_dictionary(tokenized_text):\n",
    "    \"\"\"\n",
    "    Create dictionary using train set\n",
    "    :param tokenized_text: tokenized text, list\n",
    "    :return: dictionary, dict\n",
    "    \"\"\"\n",
    "    dictionary = {}\n",
    "    for tokens in tokenized_text:\n",
    "        for token in tokens:\n",
    "            if token not in dictionary:\n",
    "                dictionary[token] = 1\n",
    "            else:\n",
    "                dictionary[token] += 1\n",
    "    return dictionary"
   ]
  },
  {
   "cell_type": "code",
   "execution_count": 20,
   "metadata": {
    "collapsed": false,
    "jupyter": {
     "outputs_hidden": false
    }
   },
   "outputs": [],
   "source": [
    "dictionary = create_dictionary(train_df['tokenized_text'])"
   ]
  },
  {
   "cell_type": "code",
   "execution_count": 21,
   "metadata": {
    "collapsed": false,
    "jupyter": {
     "outputs_hidden": false
    }
   },
   "outputs": [
    {
     "name": "stdout",
     "output_type": "stream",
     "text": [
      "Length of dictionary:  31195\n"
     ]
    }
   ],
   "source": [
    "# print length of dictionary\n",
    "print('Length of dictionary: ', len(dictionary))"
   ]
  },
  {
   "cell_type": "code",
   "execution_count": 22,
   "metadata": {
    "collapsed": false,
    "jupyter": {
     "outputs_hidden": false
    }
   },
   "outputs": [],
   "source": [
    "# keep only top-N most frequent words\n",
    "# removing any word with a lower frequency than a threshold\n",
    "# OOV (out-of-vocabulary) words will be replaced with the <oov> token\n",
    "def clean_dictionary(dictionary, N: int, threshold: int):\n",
    "    \"\"\"\n",
    "    Clean dictionary by keeping only top-N most frequent words and removing any word with a lower frequency than a threshold\n",
    "    :param dictionary: dictionary, dict\n",
    "    :param N: top-N most frequent words, int\n",
    "    :param threshold: threshold of word frequency, int\n",
    "    :return: cleaned dictionary, dict\n",
    "    \"\"\"\n",
    "    # keep only top-N most frequent words\n",
    "    dictionary = dict(sorted(dictionary.items(), key=lambda x: x[1], reverse=True)[:N])\n",
    "\n",
    "    # replace any word with a lower frequency than a threshold\n",
    "    for key, value in dictionary.copy().items():\n",
    "        if value < threshold:\n",
    "            dictionary['<oov>'] = dictionary.get('<oov>', 0) + value\n",
    "            dictionary.pop(key)\n",
    "    return dictionary"
   ]
  },
  {
   "cell_type": "code",
   "execution_count": 23,
   "metadata": {
    "collapsed": false,
    "jupyter": {
     "outputs_hidden": false
    }
   },
   "outputs": [],
   "source": [
    "dictionary = clean_dictionary(dictionary, N=100_000, threshold=5)"
   ]
  },
  {
   "cell_type": "code",
   "execution_count": 24,
   "metadata": {
    "collapsed": false,
    "jupyter": {
     "outputs_hidden": false
    }
   },
   "outputs": [
    {
     "name": "stdout",
     "output_type": "stream",
     "text": [
      "Length of dictionary:  8234\n"
     ]
    }
   ],
   "source": [
    "# print length of dictionary\n",
    "print('Length of dictionary: ', len(dictionary))"
   ]
  },
  {
   "cell_type": "code",
   "execution_count": 25,
   "metadata": {
    "tags": []
   },
   "outputs": [
    {
     "data": {
      "text/plain": [
       "[(',', 51067),\n",
       " ('<', 50593),\n",
       " ('>', 50580),\n",
       " ('num', 50536),\n",
       " ('.', 35837),\n",
       " (')', 9820),\n",
       " ('(', 9808),\n",
       " ('cases', 4755),\n",
       " ('food', 4133),\n",
       " ('%', 4025)]"
      ]
     },
     "execution_count": 25,
     "metadata": {},
     "output_type": "execute_result"
    }
   ],
   "source": [
    "list(dictionary.items())[:10]"
   ]
  },
  {
   "cell_type": "markdown",
   "metadata": {},
   "source": [
    "Since we do not longer care about the frequency of each word, we can replace the frequency counts with the word index"
   ]
  },
  {
   "cell_type": "code",
   "execution_count": 26,
   "metadata": {
    "collapsed": false,
    "jupyter": {
     "outputs_hidden": false
    }
   },
   "outputs": [],
   "source": [
    "# map each word to an index\n",
    "dictionary = {word: index for index, word in enumerate(dictionary.keys())}"
   ]
  },
  {
   "cell_type": "markdown",
   "metadata": {},
   "source": [
    "# Data Batching\n",
    "**Data Batching and Forward Pass (1 point):** Create batches for any given dataset (train/validation/test). Each batch is a two-dimensional matrix of *batch-size* to *max-document-length*, consisting of the ids of the words in documents. *Batch-size* and *max-document-length* are two hyper-parameters of the model. Next, given a batch, the model fetches the corresponding embeddings, and use them to calculate the document embeddings according to the formulation above. These document embeddings are then exploited to predict the probability distributions of the output classes using a linear projection, followed by a softmax layer."
   ]
  },
  {
   "cell_type": "code",
   "execution_count": 27,
   "metadata": {
    "collapsed": false,
    "jupyter": {
     "outputs_hidden": false
    }
   },
   "outputs": [],
   "source": [
    "config = {}\n",
    "config['BATCH_SIZE'] = 32\n",
    "config['MAX_DOCUMENT_LENGTH'] = 100"
   ]
  },
  {
   "cell_type": "code",
   "execution_count": 28,
   "metadata": {
    "collapsed": false,
    "jupyter": {
     "outputs_hidden": false
    }
   },
   "outputs": [],
   "source": [
    "def create_x_batches(df, dictionary, batch_size: int, max_document_length: int):\n",
    "    \"\"\"\n",
    "    Create batches for any given dataset (train/validation/test) - X\n",
    "    :param df: dataframe, pd.DataFrame\n",
    "    :param dictionary: dictionary, dict\n",
    "    :param batch_size: batch size, int\n",
    "    :param max_document_length: max document length, int\n",
    "    :return: batches of inputs, list of np.ndarray of shape (batch_size, max_document_length)\n",
    "    \"\"\"\n",
    "    n_batches = len(df) // batch_size + 1\n",
    "    print(\"Number of batches: \", n_batches)\n",
    "    batches = []\n",
    "    for batch_idx in range(n_batches):\n",
    "        if batch_idx != n_batches - 1:\n",
    "            # standard batch\n",
    "            batch = np.zeros((batch_size, max_document_length), dtype=np.int32)\n",
    "        else:\n",
    "            # last batch - may be smaller than batch_size\n",
    "            batch = np.zeros((len(df) - batch_idx * batch_size, max_document_length), dtype=np.int32)\n",
    "        current_batch_size = batch.shape[0]\n",
    "        for doc_idx in range(current_batch_size):\n",
    "            doc = df.iloc[batch_idx * batch_size + doc_idx]['tokenized_text']\n",
    "            for word_idx in range(min(len(doc), max_document_length)):\n",
    "                word = doc[word_idx]\n",
    "                batch[doc_idx, word_idx] = dictionary.get(word, dictionary['<oov>'])\n",
    "        batches.append(batch)\n",
    "\n",
    "\n",
    "    return batches"
   ]
  },
  {
   "cell_type": "code",
   "execution_count": 29,
   "metadata": {
    "collapsed": false,
    "jupyter": {
     "outputs_hidden": false
    }
   },
   "outputs": [],
   "source": [
    "def create_y_batches(df, batch_size: int):\n",
    "    \"\"\"\n",
    "    Create batches for any given dataset (train/validation/test) - y\n",
    "    :param df: dataframe, pd.DataFrame\n",
    "    :param batch_size: batch size, int\n",
    "    :return: batches of labels, np.ndarray of shape (n_batches, batch_size)\n",
    "    \"\"\"\n",
    "    n_batches = len(df) // batch_size + 1\n",
    "    print(\"Number of batches: \", n_batches)\n",
    "    batches = []\n",
    "    for batch_idx in range(n_batches):\n",
    "        if batch_idx != n_batches - 1:\n",
    "            batch = np.zeros((batch_size), dtype=np.int32)\n",
    "        else:\n",
    "            batch = np.zeros((len(df) - batch_idx * batch_size), dtype=np.int32)\n",
    "        current_batch_size = batch.shape[0]\n",
    "        for doc_idx in range(current_batch_size):\n",
    "            batch[doc_idx] = df.iloc[batch_idx * batch_size + doc_idx]['label']\n",
    "        batches.append(batch)\n",
    "    return batches"
   ]
  },
  {
   "cell_type": "code",
   "execution_count": 30,
   "metadata": {
    "collapsed": false,
    "jupyter": {
     "outputs_hidden": false
    }
   },
   "outputs": [
    {
     "data": {
      "text/html": [
       "<div>\n",
       "<style scoped>\n",
       "    .dataframe tbody tr th:only-of-type {\n",
       "        vertical-align: middle;\n",
       "    }\n",
       "\n",
       "    .dataframe tbody tr th {\n",
       "        vertical-align: top;\n",
       "    }\n",
       "\n",
       "    .dataframe thead th {\n",
       "        text-align: right;\n",
       "    }\n",
       "</style>\n",
       "<table border=\"1\" class=\"dataframe\">\n",
       "  <thead>\n",
       "    <tr style=\"text-align: right;\">\n",
       "      <th></th>\n",
       "      <th>sentence_id</th>\n",
       "      <th>text</th>\n",
       "      <th>label</th>\n",
       "      <th>caption</th>\n",
       "      <th>cleaned_text</th>\n",
       "      <th>tokenized_text</th>\n",
       "    </tr>\n",
       "  </thead>\n",
       "  <tbody>\n",
       "    <tr>\n",
       "      <th>0</th>\n",
       "      <td>5446</td>\n",
       "      <td>In addition to the immediate life-saving inter...</td>\n",
       "      <td>9</td>\n",
       "      <td>Protection</td>\n",
       "      <td>in addition to the immediate life-saving inter...</td>\n",
       "      <td>[addition, immediate, life-saving, interventio...</td>\n",
       "    </tr>\n",
       "    <tr>\n",
       "      <th>1</th>\n",
       "      <td>8812</td>\n",
       "      <td>There are approximately 2.6 million people cla...</td>\n",
       "      <td>3</td>\n",
       "      <td>Food</td>\n",
       "      <td>there are approximately &lt; num &gt;.&lt; num &gt; millio...</td>\n",
       "      <td>[approximately, &lt;, num, &gt;, ., &lt;, num, &gt;, milli...</td>\n",
       "    </tr>\n",
       "    <tr>\n",
       "      <th>2</th>\n",
       "      <td>16709</td>\n",
       "      <td>While aid imports have held up recently, comme...</td>\n",
       "      <td>5</td>\n",
       "      <td>Livelihood</td>\n",
       "      <td>while aid imports have held up recently, comme...</td>\n",
       "      <td>[aid, imports, held, recently, ,, commercial, ...</td>\n",
       "    </tr>\n",
       "    <tr>\n",
       "      <th>3</th>\n",
       "      <td>3526</td>\n",
       "      <td>Heavy rainfalls as well as onrush of water fro...</td>\n",
       "      <td>0</td>\n",
       "      <td>Agriculture</td>\n",
       "      <td>heavy rainfalls as well as onrush of water fro...</td>\n",
       "      <td>[heavy, rainfalls, well, onrush, water, upstre...</td>\n",
       "    </tr>\n",
       "    <tr>\n",
       "      <th>4</th>\n",
       "      <td>4928</td>\n",
       "      <td>Based on field reports 9 , the main production...</td>\n",
       "      <td>3</td>\n",
       "      <td>Food</td>\n",
       "      <td>based on field reports &lt; num &gt; , the main prod...</td>\n",
       "      <td>[based, field, reports, &lt;, num, &gt;, ,, main, pr...</td>\n",
       "    </tr>\n",
       "    <tr>\n",
       "      <th>...</th>\n",
       "      <td>...</td>\n",
       "      <td>...</td>\n",
       "      <td>...</td>\n",
       "      <td>...</td>\n",
       "      <td>...</td>\n",
       "      <td>...</td>\n",
       "    </tr>\n",
       "    <tr>\n",
       "      <th>12105</th>\n",
       "      <td>12744</td>\n",
       "      <td>The total gap in the number of people who requ...</td>\n",
       "      <td>8</td>\n",
       "      <td>Nutrition</td>\n",
       "      <td>the total gap in the number of people who requ...</td>\n",
       "      <td>[total, gap, number, people, require, assistan...</td>\n",
       "    </tr>\n",
       "    <tr>\n",
       "      <th>12106</th>\n",
       "      <td>9655</td>\n",
       "      <td>A food crisis is looming in the country with t...</td>\n",
       "      <td>0</td>\n",
       "      <td>Agriculture</td>\n",
       "      <td>a food crisis is looming in the country with t...</td>\n",
       "      <td>[food, crisis, looming, country, season, ’, ma...</td>\n",
       "    </tr>\n",
       "    <tr>\n",
       "      <th>12107</th>\n",
       "      <td>6963</td>\n",
       "      <td>? Acute watery diarrhoea (AWD) continues to be...</td>\n",
       "      <td>4</td>\n",
       "      <td>Health</td>\n",
       "      <td>? acute watery diarrhoea (awd) continues to be...</td>\n",
       "      <td>[?, acute, watery, diarrhoea, (, awd, ), conti...</td>\n",
       "    </tr>\n",
       "    <tr>\n",
       "      <th>12108</th>\n",
       "      <td>923</td>\n",
       "      <td>As South India grapples with drought and water...</td>\n",
       "      <td>11</td>\n",
       "      <td>WASH</td>\n",
       "      <td>as south india grapples with drought and water...</td>\n",
       "      <td>[south, india, grapples, drought, water, short...</td>\n",
       "    </tr>\n",
       "    <tr>\n",
       "      <th>12109</th>\n",
       "      <td>15880</td>\n",
       "      <td>Mirroring trends in South Africa, the main sou...</td>\n",
       "      <td>3</td>\n",
       "      <td>Food</td>\n",
       "      <td>mirroring trends in south africa, the main sou...</td>\n",
       "      <td>[mirroring, trends, south, africa, ,, main, so...</td>\n",
       "    </tr>\n",
       "  </tbody>\n",
       "</table>\n",
       "<p>12110 rows × 6 columns</p>\n",
       "</div>"
      ],
      "text/plain": [
       "       sentence_id                                               text  label  \\\n",
       "0             5446  In addition to the immediate life-saving inter...      9   \n",
       "1             8812  There are approximately 2.6 million people cla...      3   \n",
       "2            16709  While aid imports have held up recently, comme...      5   \n",
       "3             3526  Heavy rainfalls as well as onrush of water fro...      0   \n",
       "4             4928  Based on field reports 9 , the main production...      3   \n",
       "...            ...                                                ...    ...   \n",
       "12105        12744  The total gap in the number of people who requ...      8   \n",
       "12106         9655  A food crisis is looming in the country with t...      0   \n",
       "12107         6963  ? Acute watery diarrhoea (AWD) continues to be...      4   \n",
       "12108          923  As South India grapples with drought and water...     11   \n",
       "12109        15880  Mirroring trends in South Africa, the main sou...      3   \n",
       "\n",
       "           caption                                       cleaned_text  \\\n",
       "0       Protection  in addition to the immediate life-saving inter...   \n",
       "1             Food  there are approximately < num >.< num > millio...   \n",
       "2       Livelihood  while aid imports have held up recently, comme...   \n",
       "3      Agriculture  heavy rainfalls as well as onrush of water fro...   \n",
       "4             Food  based on field reports < num > , the main prod...   \n",
       "...            ...                                                ...   \n",
       "12105    Nutrition  the total gap in the number of people who requ...   \n",
       "12106  Agriculture  a food crisis is looming in the country with t...   \n",
       "12107       Health  ? acute watery diarrhoea (awd) continues to be...   \n",
       "12108         WASH  as south india grapples with drought and water...   \n",
       "12109         Food  mirroring trends in south africa, the main sou...   \n",
       "\n",
       "                                          tokenized_text  \n",
       "0      [addition, immediate, life-saving, interventio...  \n",
       "1      [approximately, <, num, >, ., <, num, >, milli...  \n",
       "2      [aid, imports, held, recently, ,, commercial, ...  \n",
       "3      [heavy, rainfalls, well, onrush, water, upstre...  \n",
       "4      [based, field, reports, <, num, >, ,, main, pr...  \n",
       "...                                                  ...  \n",
       "12105  [total, gap, number, people, require, assistan...  \n",
       "12106  [food, crisis, looming, country, season, ’, ma...  \n",
       "12107  [?, acute, watery, diarrhoea, (, awd, ), conti...  \n",
       "12108  [south, india, grapples, drought, water, short...  \n",
       "12109  [mirroring, trends, south, africa, ,, main, so...  \n",
       "\n",
       "[12110 rows x 6 columns]"
      ]
     },
     "execution_count": 30,
     "metadata": {},
     "output_type": "execute_result"
    }
   ],
   "source": [
    "train_df"
   ]
  },
  {
   "cell_type": "code",
   "execution_count": 31,
   "metadata": {
    "collapsed": false,
    "jupyter": {
     "outputs_hidden": false
    }
   },
   "outputs": [
    {
     "name": "stdout",
     "output_type": "stream",
     "text": [
      "Number of batches:  379\n",
      "Number of batches:  379\n",
      "Number of batches:  82\n",
      "Number of batches:  82\n",
      "Number of batches:  82\n",
      "Number of batches:  82\n"
     ]
    }
   ],
   "source": [
    "batches = {}\n",
    "for name, df in zip(['train', 'val', 'test'], [train_df, val_df, test_df]):\n",
    "    batches[name] = {}\n",
    "    batches[name]['x'] = create_x_batches(df, dictionary, config['BATCH_SIZE'], config['MAX_DOCUMENT_LENGTH'])\n",
    "    batches[name]['y'] = create_y_batches(df, config['BATCH_SIZE'])\n"
   ]
  },
  {
   "cell_type": "code",
   "execution_count": 32,
   "metadata": {
    "collapsed": false,
    "jupyter": {
     "outputs_hidden": false
    }
   },
   "outputs": [
    {
     "data": {
      "text/plain": [
       "379"
      ]
     },
     "execution_count": 32,
     "metadata": {},
     "output_type": "execute_result"
    }
   ],
   "source": [
    "len(batches['train']['x'])"
   ]
  },
  {
   "cell_type": "code",
   "execution_count": 33,
   "metadata": {
    "collapsed": false,
    "jupyter": {
     "outputs_hidden": false
    }
   },
   "outputs": [
    {
     "data": {
      "text/plain": [
       "379"
      ]
     },
     "execution_count": 33,
     "metadata": {},
     "output_type": "execute_result"
    }
   ],
   "source": [
    "len(batches['train']['y'])"
   ]
  },
  {
   "cell_type": "code",
   "execution_count": 34,
   "metadata": {
    "collapsed": false,
    "jupyter": {
     "outputs_hidden": false
    }
   },
   "outputs": [
    {
     "data": {
      "text/plain": [
       "(32, 100)"
      ]
     },
     "execution_count": 34,
     "metadata": {},
     "output_type": "execute_result"
    }
   ],
   "source": [
    "batches[\"train\"]['x'][0].shape"
   ]
  },
  {
   "cell_type": "code",
   "execution_count": 35,
   "metadata": {
    "collapsed": false,
    "jupyter": {
     "outputs_hidden": false
    }
   },
   "outputs": [
    {
     "data": {
      "text/plain": [
       "(32,)"
      ]
     },
     "execution_count": 35,
     "metadata": {},
     "output_type": "execute_result"
    }
   ],
   "source": [
    "batches[\"train\"]['y'][0].shape"
   ]
  },
  {
   "cell_type": "code",
   "execution_count": 36,
   "metadata": {
    "collapsed": false,
    "jupyter": {
     "outputs_hidden": false
    }
   },
   "outputs": [
    {
     "data": {
      "text/plain": [
       "(14, 100)"
      ]
     },
     "execution_count": 36,
     "metadata": {},
     "output_type": "execute_result"
    }
   ],
   "source": [
    "batches[\"train\"]['x'][-1].shape"
   ]
  },
  {
   "cell_type": "code",
   "execution_count": 37,
   "metadata": {
    "collapsed": false,
    "jupyter": {
     "outputs_hidden": false
    }
   },
   "outputs": [
    {
     "data": {
      "text/plain": [
       "(14,)"
      ]
     },
     "execution_count": 37,
     "metadata": {},
     "output_type": "execute_result"
    }
   ],
   "source": [
    "batches[\"train\"]['y'][-1].shape"
   ]
  },
  {
   "cell_type": "code",
   "execution_count": 38,
   "metadata": {
    "collapsed": false,
    "jupyter": {
     "outputs_hidden": false
    }
   },
   "outputs": [
    {
     "data": {
      "text/plain": [
       "array([[ 297,  719, 1335, ...,    0,    0,    0],\n",
       "       [ 287,    1,    3, ...,  371,    4,  732],\n",
       "       [ 188,  629,  532, ...,    0,    0,    0],\n",
       "       ...,\n",
       "       [  18,  540,   23, ...,    0,    0,    0],\n",
       "       [1709,  125,  114, ...,    0,    0,    0],\n",
       "       [ 104,    1,    3, ...,    0,    0,    0]], dtype=int32)"
      ]
     },
     "execution_count": 38,
     "metadata": {},
     "output_type": "execute_result"
    }
   ],
   "source": [
    "batches[\"train\"]['x'][0]"
   ]
  },
  {
   "cell_type": "code",
   "execution_count": 39,
   "metadata": {
    "collapsed": false,
    "jupyter": {
     "outputs_hidden": false
    }
   },
   "outputs": [
    {
     "data": {
      "text/plain": [
       "array([ 9,  3,  5,  0,  3,  9,  9,  1,  4,  4,  9,  3,  8,  9,  4,  9,  9,\n",
       "        3,  9,  2,  1, 10,  3,  5,  3,  4,  3,  9,  3, 11,  7, 10],\n",
       "      dtype=int32)"
      ]
     },
     "execution_count": 39,
     "metadata": {},
     "output_type": "execute_result"
    }
   ],
   "source": [
    "batches[\"train\"]['y'][0]"
   ]
  },
  {
   "cell_type": "code",
   "execution_count": 40,
   "metadata": {
    "collapsed": false,
    "jupyter": {
     "outputs_hidden": false
    }
   },
   "outputs": [
    {
     "data": {
      "text/plain": [
       "array([[ 231,  126,    1, ...,    0,    0,    0],\n",
       "       [ 271,   70, 3519, ...,    5,  319, 1737],\n",
       "       [ 206,    1,    3, ...,    1,    3,    2],\n",
       "       ...,\n",
       "       [  72,   60,  726, ...,    0,    0,    0],\n",
       "       [  55, 2010, 8233, ...,    0,    0,    0],\n",
       "       [8233,  985,   55, ...,    0,    0,    0]], dtype=int32)"
      ]
     },
     "execution_count": 40,
     "metadata": {},
     "output_type": "execute_result"
    }
   ],
   "source": [
    "batches[\"train\"]['x'][-1]"
   ]
  },
  {
   "cell_type": "code",
   "execution_count": 41,
   "metadata": {
    "collapsed": false,
    "jupyter": {
     "outputs_hidden": false
    }
   },
   "outputs": [
    {
     "data": {
      "text/plain": [
       "array([ 4, 11,  4,  3,  3,  4,  9,  8,  4,  8,  0,  4, 11,  3],\n",
       "      dtype=int32)"
      ]
     },
     "execution_count": 41,
     "metadata": {},
     "output_type": "execute_result"
    }
   ],
   "source": [
    "batches[\"train\"]['y'][-1]"
   ]
  },
  {
   "cell_type": "markdown",
   "metadata": {},
   "source": [
    "## Load pre-trained word embeddings"
   ]
  },
  {
   "cell_type": "code",
   "execution_count": 42,
   "metadata": {
    "collapsed": false,
    "jupyter": {
     "outputs_hidden": false
    }
   },
   "outputs": [],
   "source": [
    "# use gensim to load the word embedding model (GloVe)\n",
    "\n",
    "# Download the GloVe model from https://nlp.stanford.edu/projects/glove/\n",
    "# and unzip it in the /data"
   ]
  },
  {
   "cell_type": "code",
   "execution_count": 43,
   "metadata": {
    "collapsed": false,
    "jupyter": {
     "outputs_hidden": false
    }
   },
   "outputs": [
    {
     "name": "stdout",
     "output_type": "stream",
     "text": [
      "--2023-05-30 14:22:04--  http://nlp.stanford.edu/data/glove.6B.zip\n",
      "Resolving nlp.stanford.edu (nlp.stanford.edu)... 171.64.67.140\n",
      "Connecting to nlp.stanford.edu (nlp.stanford.edu)|171.64.67.140|:80... connected.\n",
      "HTTP request sent, awaiting response... 302 Found\n",
      "Location: https://nlp.stanford.edu/data/glove.6B.zip [following]\n",
      "--2023-05-30 14:22:04--  https://nlp.stanford.edu/data/glove.6B.zip\n",
      "Connecting to nlp.stanford.edu (nlp.stanford.edu)|171.64.67.140|:443... connected.\n",
      "HTTP request sent, awaiting response... 301 Moved Permanently\n",
      "Location: https://downloads.cs.stanford.edu/nlp/data/glove.6B.zip [following]\n",
      "--2023-05-30 14:22:05--  https://downloads.cs.stanford.edu/nlp/data/glove.6B.zip\n",
      "Resolving downloads.cs.stanford.edu (downloads.cs.stanford.edu)... 171.64.64.22\n",
      "Connecting to downloads.cs.stanford.edu (downloads.cs.stanford.edu)|171.64.64.22|:443... connected.\n",
      "HTTP request sent, awaiting response... 200 OK\n",
      "Length: 862182613 (822M) [application/zip]\n",
      "Saving to: ‘glove.6B.zip’\n",
      "\n",
      "glove.6B.zip        100%[===================>] 822,24M  5,07MB/s    in 2m 40s  \n",
      "\n",
      "2023-05-30 14:24:46 (5,13 MB/s) - ‘glove.6B.zip’ saved [862182613/862182613]\n",
      "\n",
      "Archive:  glove.6B.zip\n",
      "  inflating: data/glove.6B.50d.txt   \n",
      "  inflating: data/glove.6B.100d.txt  \n",
      "  inflating: data/glove.6B.200d.txt  \n",
      "  inflating: data/glove.6B.300d.txt  \n"
     ]
    }
   ],
   "source": [
    "!wget http://nlp.stanford.edu/data/glove.6B.zip\n",
    "!unzip glove.6B.zip -d data"
   ]
  },
  {
   "cell_type": "code",
   "execution_count": 44,
   "metadata": {
    "collapsed": false,
    "jupyter": {
     "outputs_hidden": false
    }
   },
   "outputs": [
    {
     "name": "stderr",
     "output_type": "stream",
     "text": [
      "/home/tobi/anaconda3/envs/malach/lib/python3.7/site-packages/ipykernel_launcher.py:2: DeprecationWarning: Call to deprecated `glove2word2vec` (KeyedVectors.load_word2vec_format(.., binary=False, no_header=True) loads GLoVE text vectors.).\n",
      "  \n"
     ]
    }
   ],
   "source": [
    "import gensim.scripts.glove2word2vec as glove2word2vec\n",
    "glove_model = glove2word2vec.glove2word2vec('data/glove.6B.300d.txt', 'data/glove.6B.300d.word2vec.txt')"
   ]
  },
  {
   "cell_type": "code",
   "execution_count": 45,
   "metadata": {
    "collapsed": false,
    "jupyter": {
     "outputs_hidden": false
    }
   },
   "outputs": [],
   "source": [
    "# load the GloVe model\n",
    "glove_model = gensim.models.KeyedVectors.load_word2vec_format('data/glove.6B.300d.word2vec.txt', binary=False)"
   ]
  },
  {
   "cell_type": "markdown",
   "metadata": {},
   "source": [
    "## Create word embedding lookup"
   ]
  },
  {
   "cell_type": "code",
   "execution_count": 46,
   "metadata": {
    "collapsed": false,
    "jupyter": {
     "outputs_hidden": false
    }
   },
   "outputs": [],
   "source": [
    "import torch\n",
    "from torch import nn\n",
    "import torch.nn.functional as F"
   ]
  },
  {
   "cell_type": "code",
   "execution_count": 47,
   "metadata": {
    "collapsed": false,
    "jupyter": {
     "outputs_hidden": false
    }
   },
   "outputs": [],
   "source": [
    "device = \"cuda:0\" if torch.cuda.is_available() else \"cpu\"\n",
    "config['device'] = device\n",
    "device = torch.device(device)"
   ]
  },
  {
   "cell_type": "code",
   "execution_count": 48,
   "metadata": {
    "collapsed": false,
    "jupyter": {
     "outputs_hidden": false
    },
    "scrolled": true,
    "tags": []
   },
   "outputs": [
    {
     "data": {
      "text/plain": [
       "[(',', 0),\n",
       " ('<', 1),\n",
       " ('>', 2),\n",
       " ('num', 3),\n",
       " ('.', 4),\n",
       " (')', 5),\n",
       " ('(', 6),\n",
       " ('cases', 7),\n",
       " ('food', 8),\n",
       " ('%', 9)]"
      ]
     },
     "execution_count": 48,
     "metadata": {},
     "output_type": "execute_result"
    }
   ],
   "source": [
    "list(dictionary.items())[:10]"
   ]
  },
  {
   "cell_type": "code",
   "execution_count": 49,
   "metadata": {
    "collapsed": false,
    "jupyter": {
     "outputs_hidden": false
    }
   },
   "outputs": [],
   "source": [
    "class WordEmbeddingLookup(nn.Module):\n",
    "    \"\"\"\n",
    "    Create word embedding lookup\n",
    "    \"\"\"\n",
    "    def __init__(self, dictionary, pretrained_embeddings, embedding_dim: int):\n",
    "        \"\"\"\n",
    "        :param dictionary: dictionary, dict\n",
    "        :param pretrained_embeddings: pretrained embeddings, gensim.models.keyedvectors.Word2VecKeyedVectors\n",
    "        :param embedding_dim: embedding dimension, int\n",
    "        \"\"\"\n",
    "        super(WordEmbeddingLookup, self).__init__()\n",
    "        self.dictionary = dictionary\n",
    "        self.pretrained_embeddings = pretrained_embeddings\n",
    "        self.embedding_dim = embedding_dim\n",
    "        self.lookup = nn.Embedding(\n",
    "            num_embeddings=len(dictionary),\n",
    "            embedding_dim=embedding_dim\n",
    "        )\n",
    "        self.lookup.weight.data.copy_(self._init_weights())\n",
    "\n",
    "    def _init_weights(self):\n",
    "        \"\"\"\n",
    "        Initialize weights of the lookup\n",
    "        :return: weights, torch.Tensor of shape (len(dictionary), embedding_dim)\n",
    "        \"\"\"\n",
    "        weights = torch.zeros(len(self.dictionary), self.embedding_dim)\n",
    "        # 8247 x 300\n",
    "        for idx, word in enumerate(self.dictionary):\n",
    "            try:\n",
    "                weights[idx] = torch.from_numpy(self.pretrained_embeddings[word])\n",
    "            except KeyError:\n",
    "                weights[idx] = torch.randn(self.embedding_dim)\n",
    "        return weights\n",
    "\n",
    "    def forward(self, x):\n",
    "        \"\"\"\n",
    "        Forward pass\n",
    "        :param x: input, torch.Tensor of shape (batch_size, max_document_length)\n",
    "        :return: output, torch.Tensor of shape (batch_size, max_document_length, embedding_dim)\n",
    "        \"\"\"\n",
    "        return self.lookup(x)"
   ]
  },
  {
   "cell_type": "code",
   "execution_count": 50,
   "metadata": {
    "collapsed": false,
    "jupyter": {
     "outputs_hidden": false
    }
   },
   "outputs": [
    {
     "name": "stderr",
     "output_type": "stream",
     "text": [
      "/home/tobi/anaconda3/envs/malach/lib/python3.7/site-packages/ipykernel_launcher.py:30: UserWarning: The given NumPy array is not writable, and PyTorch does not support non-writable tensors. This means writing to this tensor will result in undefined behavior. You may want to copy the array to protect its data or make it writable before converting it to a tensor. This type of warning will be suppressed for the rest of this program. (Triggered internally at  ../torch/csrc/utils/tensor_numpy.cpp:178.)\n"
     ]
    }
   ],
   "source": [
    "lookup = WordEmbeddingLookup(dictionary, glove_model, 300)"
   ]
  },
  {
   "cell_type": "code",
   "execution_count": 51,
   "metadata": {
    "collapsed": false,
    "jupyter": {
     "outputs_hidden": false
    }
   },
   "outputs": [
    {
     "data": {
      "text/plain": [
       "torch.Size([1, 300])"
      ]
     },
     "execution_count": 51,
     "metadata": {},
     "output_type": "execute_result"
    }
   ],
   "source": [
    "lookup(torch.LongTensor([0])).shape"
   ]
  },
  {
   "cell_type": "code",
   "execution_count": 52,
   "metadata": {
    "collapsed": false,
    "jupyter": {
     "outputs_hidden": false
    }
   },
   "outputs": [
    {
     "data": {
      "text/plain": [
       "tensor([[-2.5539e-01, -2.5723e-01,  1.3169e-01, -4.2688e-02,  2.1817e-01,\n",
       "         -2.2702e-02, -1.7854e-01,  1.0756e-01,  5.8936e-02, -1.3854e+00,\n",
       "          5.8509e-01,  3.6501e-02, -1.9846e-01,  1.9613e-01,  4.0929e-01,\n",
       "          1.5702e-01, -1.5305e-01,  5.0447e-02,  3.0045e-01, -1.1295e-01,\n",
       "         -1.7043e-02,  1.8593e-01,  1.9982e-01,  2.0053e-01, -6.3141e-01,\n",
       "         -1.2622e-01,  2.9510e-01, -2.6282e-01, -1.5831e-01,  1.2383e-03,\n",
       "          1.1784e-02,  5.8758e-01, -1.5914e-01,  2.7731e-01, -8.2343e-01,\n",
       "         -2.1134e-01,  1.3414e-02,  1.9637e-01, -4.1470e-01,  1.0276e-03,\n",
       "          1.3422e-01, -1.4205e-01,  5.1545e-02,  3.4993e-01, -2.9868e-01,\n",
       "         -3.2090e-01,  1.9566e-01,  4.7886e-01,  1.0744e-01,  1.0004e-02,\n",
       "          1.8503e-01,  8.0694e-02,  2.0739e-01, -9.7365e-02, -3.9448e-02,\n",
       "          2.0151e-02, -1.7378e-01,  2.5679e-01,  2.4198e-01, -3.5100e-01,\n",
       "          1.8759e-01,  6.3857e-03,  1.8395e-01, -1.3929e-01,  8.1855e-03,\n",
       "         -6.3109e-01,  2.9832e-01,  3.1731e-01,  1.3022e-01, -3.2284e-01,\n",
       "         -5.0343e-02, -1.1400e-01,  1.2097e-01,  1.4687e-01, -3.3244e-01,\n",
       "         -5.5789e-02, -5.8490e-02,  2.7551e-01, -4.3855e-02,  3.9664e-02,\n",
       "          1.5162e-01, -8.6627e-02,  6.7729e-02,  2.3146e-01,  1.5351e-02,\n",
       "         -1.5142e-01, -3.1975e-02,  4.5181e-01, -6.8806e-02, -7.7058e-02,\n",
       "          5.5193e-02,  5.4596e-02, -2.4708e-01,  3.1113e-02, -1.2826e-01,\n",
       "          1.2782e-01, -4.6708e-01, -2.6264e-02,  1.0387e-02, -3.3174e-01,\n",
       "          1.7277e-01, -2.6894e-01,  2.0467e-01, -1.6181e-01, -4.1519e-02,\n",
       "         -1.4878e-02,  1.0279e-01,  1.8868e-01, -2.3396e-01, -1.8436e-02,\n",
       "         -1.4747e-01, -3.2685e-01, -2.2055e-02, -5.4000e-02,  1.6264e-01,\n",
       "          2.7095e-01, -2.2792e-01, -7.7006e-03,  1.1206e-01, -3.9787e-02,\n",
       "         -1.1906e-01,  2.1773e-02,  5.5280e-02, -1.3318e-01, -5.6867e-02,\n",
       "          8.3040e-03, -2.7021e-02,  2.3447e-01,  8.6864e-02,  1.2009e-01,\n",
       "         -3.0726e-01,  2.4735e-03,  2.9041e-01, -4.4887e-02,  1.2297e-01,\n",
       "          1.3077e-01,  9.0807e-02, -3.9141e-01,  8.0546e-02,  1.8724e-01,\n",
       "         -9.7481e-02,  1.0397e-01,  1.1492e-01,  1.7775e-01, -1.8167e-01,\n",
       "          2.4652e-01,  2.0136e-01, -2.3395e-01, -3.5018e-01, -1.4061e-01,\n",
       "          1.7091e-01, -9.5465e-02, -1.0962e-01, -9.8360e-02,  1.5344e-01,\n",
       "          8.8680e-02, -2.2048e-01, -1.3803e-01, -1.1288e-01, -8.5340e-02,\n",
       "          7.2735e-02, -1.2732e-01, -1.9640e-01, -1.0586e-01,  2.0616e-03,\n",
       "          1.3496e-01,  5.8912e-02, -4.3979e-02, -9.1375e-02,  2.4408e-01,\n",
       "          1.6872e-01,  2.4297e-01, -4.3983e-01,  4.7089e-01, -1.8595e-02,\n",
       "          1.6146e-01,  1.9828e-01, -1.7237e-01, -2.6998e-03,  5.2097e-01,\n",
       "         -8.0197e-02,  4.3324e-01, -6.6261e-02,  4.3240e-02,  8.4954e-02,\n",
       "         -1.4836e-01, -4.1936e-01,  1.5988e-01, -1.8411e-01,  1.3210e-01,\n",
       "          2.7476e-01,  2.7279e-01, -1.3465e-01, -9.1238e-02, -3.2523e-01,\n",
       "          2.7936e-01,  2.3296e-02, -3.3472e-01,  1.6878e-02, -5.5544e-02,\n",
       "          9.2915e-01, -3.3914e-01, -1.4791e-01,  1.7301e-02,  1.8272e-01,\n",
       "          3.5108e-01, -1.1438e-01,  1.3228e-01, -2.1064e-02, -2.7453e-01,\n",
       "         -1.0081e-01, -4.6296e-02,  2.1689e-01, -5.6319e-02,  1.4651e-01,\n",
       "         -2.3536e-02,  6.8026e-02, -4.5453e-02, -2.3851e-01, -3.3868e-01,\n",
       "          3.1396e-01, -3.1914e-02, -1.9217e-02,  1.8715e-03, -1.3328e-01,\n",
       "          7.0148e-02, -3.9761e-02,  7.0801e-02,  1.8422e-03, -1.2646e-01,\n",
       "          2.8675e-02, -9.5728e-02,  2.6673e-01, -3.5536e-01,  1.5286e-01,\n",
       "          6.4565e-02,  1.2647e-01,  2.3397e-01, -4.6058e-02,  1.3519e-01,\n",
       "         -1.4549e-01,  2.3031e-01,  4.2066e-01,  1.6267e-01, -1.6541e-01,\n",
       "         -2.0155e-03,  8.0653e-02, -3.0025e-01, -7.6014e-02,  7.0612e-02,\n",
       "          3.1570e-01,  5.3520e-02, -1.0721e-01, -1.3660e-01,  3.2214e-01,\n",
       "          2.0040e-01,  1.1609e-01, -2.2501e-01,  1.2155e-01, -1.0851e-01,\n",
       "         -6.3187e-02, -2.4553e-01, -5.9751e-02,  6.8787e-02, -1.1627e-01,\n",
       "         -8.3402e-03,  5.2044e-03, -2.0159e-01, -2.3663e-02,  1.7562e-01,\n",
       "         -3.1475e-01, -1.1162e-01, -1.2492e-01,  1.0949e-01, -2.6913e-01,\n",
       "          3.4893e-01, -1.6997e+00, -2.4470e-01,  3.0292e-01,  5.6720e-02,\n",
       "         -3.1737e-01,  8.3612e-02,  9.5949e-02, -1.7590e-01,  1.0235e-01,\n",
       "          3.6808e-01, -3.4380e-01,  2.0607e-01,  1.9135e-01,  1.0992e-01,\n",
       "          7.5968e-02, -1.4359e-02, -7.3794e-02,  2.2176e-01,  1.4652e-01,\n",
       "          5.6686e-01,  5.3307e-02, -2.3290e-01, -1.2226e-01,  3.5499e-01]],\n",
       "       grad_fn=<EmbeddingBackward0>)"
      ]
     },
     "execution_count": 52,
     "metadata": {},
     "output_type": "execute_result"
    }
   ],
   "source": [
    "lookup(torch.LongTensor([0]))"
   ]
  },
  {
   "cell_type": "code",
   "execution_count": 53,
   "metadata": {
    "collapsed": false,
    "jupyter": {
     "outputs_hidden": false
    }
   },
   "outputs": [
    {
     "data": {
      "text/plain": [
       "torch.Size([5, 300])"
      ]
     },
     "execution_count": 53,
     "metadata": {},
     "output_type": "execute_result"
    }
   ],
   "source": [
    "lookup(torch.LongTensor([0, 1, 3, 4, 5])).shape"
   ]
  },
  {
   "cell_type": "code",
   "execution_count": 54,
   "metadata": {
    "collapsed": false,
    "jupyter": {
     "outputs_hidden": false
    }
   },
   "outputs": [
    {
     "data": {
      "text/plain": [
       "tensor([[-0.2554, -0.2572,  0.1317,  ..., -0.2329, -0.1223,  0.3550],\n",
       "        [ 0.0781,  0.1256,  0.4092,  ..., -0.5402,  0.0186,  0.1694],\n",
       "        [-0.2471,  0.1417,  0.3834,  ...,  0.1208, -0.0695,  0.2728],\n",
       "        [-0.1256,  0.0136,  0.1031,  ..., -0.3422, -0.0224,  0.1368],\n",
       "        [-0.1388, -0.2495, -0.1390,  ..., -0.5921,  0.3364, -0.3376]],\n",
       "       grad_fn=<EmbeddingBackward0>)"
      ]
     },
     "execution_count": 54,
     "metadata": {},
     "output_type": "execute_result"
    }
   ],
   "source": [
    "lookup(torch.LongTensor([0, 1, 3, 4, 5]))"
   ]
  },
  {
   "cell_type": "code",
   "execution_count": 55,
   "metadata": {
    "collapsed": false,
    "jupyter": {
     "outputs_hidden": false
    }
   },
   "outputs": [
    {
     "data": {
      "text/plain": [
       "torch.Size([32, 100, 300])"
      ]
     },
     "execution_count": 55,
     "metadata": {},
     "output_type": "execute_result"
    }
   ],
   "source": [
    "lookup(torch.LongTensor(batches['train']['x'][0])).shape"
   ]
  },
  {
   "cell_type": "code",
   "execution_count": 56,
   "metadata": {
    "collapsed": false,
    "jupyter": {
     "outputs_hidden": false
    }
   },
   "outputs": [
    {
     "data": {
      "text/plain": [
       "tensor([[[-0.3065,  0.1035,  0.1314,  ..., -0.2260, -0.1216, -0.1998],\n",
       "         [ 0.2865, -0.1274,  0.2993,  ...,  0.0082, -0.1743,  0.0679],\n",
       "         [-0.0869, -0.2978,  0.5271,  ..., -0.1748,  0.3437, -0.3702],\n",
       "         ...,\n",
       "         [-0.2554, -0.2572,  0.1317,  ..., -0.2329, -0.1223,  0.3550],\n",
       "         [-0.2554, -0.2572,  0.1317,  ..., -0.2329, -0.1223,  0.3550],\n",
       "         [-0.2554, -0.2572,  0.1317,  ..., -0.2329, -0.1223,  0.3550]],\n",
       "\n",
       "        [[-0.8402,  0.1228, -0.0439,  ...,  0.3091,  0.2616, -0.6601],\n",
       "         [ 0.0781,  0.1256,  0.4092,  ..., -0.5402,  0.0186,  0.1694],\n",
       "         [-0.2471,  0.1417,  0.3834,  ...,  0.1208, -0.0695,  0.2728],\n",
       "         ...,\n",
       "         [ 0.1376,  0.8267, -0.0110,  ...,  0.0446,  0.0998, -0.6314],\n",
       "         [-0.1256,  0.0136,  0.1031,  ..., -0.3422, -0.0224,  0.1368],\n",
       "         [ 0.0354, -0.0639,  0.0024,  ..., -0.3730, -0.1845,  0.1761]],\n",
       "\n",
       "        [[-0.0900, -0.7406, -0.1571,  ...,  0.1088, -0.3891,  0.1672],\n",
       "         [ 0.4358,  0.2319, -0.2250,  ..., -0.5412,  0.5101, -0.2823],\n",
       "         [-0.3396, -0.0727, -0.1596,  ..., -0.4824, -0.3472,  0.0435],\n",
       "         ...,\n",
       "         [-0.2554, -0.2572,  0.1317,  ..., -0.2329, -0.1223,  0.3550],\n",
       "         [-0.2554, -0.2572,  0.1317,  ..., -0.2329, -0.1223,  0.3550],\n",
       "         [-0.2554, -0.2572,  0.1317,  ..., -0.2329, -0.1223,  0.3550]],\n",
       "\n",
       "        ...,\n",
       "\n",
       "        [[-0.3458, -0.4930,  0.1680,  ...,  0.0419, -0.2587, -0.2274],\n",
       "         [-0.6812,  0.2399, -0.1369,  ..., -0.1962,  0.7529,  0.3970],\n",
       "         [ 0.0963, -0.2143,  0.1403,  ..., -0.3957, -0.1794,  0.5939],\n",
       "         ...,\n",
       "         [-0.2554, -0.2572,  0.1317,  ..., -0.2329, -0.1223,  0.3550],\n",
       "         [-0.2554, -0.2572,  0.1317,  ..., -0.2329, -0.1223,  0.3550],\n",
       "         [-0.2554, -0.2572,  0.1317,  ..., -0.2329, -0.1223,  0.3550]],\n",
       "\n",
       "        [[ 0.8583,  0.2088,  0.1964,  ..., -0.4205,  0.1143, -0.3841],\n",
       "         [-0.0013,  0.3651, -0.0774,  ..., -0.1836, -0.7652,  0.3921],\n",
       "         [-0.0666,  0.7397,  0.0369,  ..., -0.0585, -0.2657, -0.2135],\n",
       "         ...,\n",
       "         [-0.2554, -0.2572,  0.1317,  ..., -0.2329, -0.1223,  0.3550],\n",
       "         [-0.2554, -0.2572,  0.1317,  ..., -0.2329, -0.1223,  0.3550],\n",
       "         [-0.2554, -0.2572,  0.1317,  ..., -0.2329, -0.1223,  0.3550]],\n",
       "\n",
       "        [[-0.5219,  0.7321,  0.1877,  ...,  0.1389,  0.0840, -0.4217],\n",
       "         [ 0.0781,  0.1256,  0.4092,  ..., -0.5402,  0.0186,  0.1694],\n",
       "         [-0.2471,  0.1417,  0.3834,  ...,  0.1208, -0.0695,  0.2728],\n",
       "         ...,\n",
       "         [-0.2554, -0.2572,  0.1317,  ..., -0.2329, -0.1223,  0.3550],\n",
       "         [-0.2554, -0.2572,  0.1317,  ..., -0.2329, -0.1223,  0.3550],\n",
       "         [-0.2554, -0.2572,  0.1317,  ..., -0.2329, -0.1223,  0.3550]]],\n",
       "       grad_fn=<EmbeddingBackward0>)"
      ]
     },
     "execution_count": 56,
     "metadata": {},
     "output_type": "execute_result"
    }
   ],
   "source": [
    "lookup(torch.LongTensor(batches['train']['x'][0]))"
   ]
  },
  {
   "cell_type": "code",
   "execution_count": 57,
   "metadata": {
    "collapsed": false,
    "jupyter": {
     "outputs_hidden": false
    }
   },
   "outputs": [
    {
     "data": {
      "text/plain": [
       "torch.Size([14, 100, 300])"
      ]
     },
     "execution_count": 57,
     "metadata": {},
     "output_type": "execute_result"
    }
   ],
   "source": [
    "lookup(torch.LongTensor(batches['train']['x'][-1])).shape"
   ]
  },
  {
   "cell_type": "code",
   "execution_count": 58,
   "metadata": {
    "collapsed": false,
    "jupyter": {
     "outputs_hidden": false
    }
   },
   "outputs": [
    {
     "data": {
      "text/plain": [
       "tensor([[[-3.8775e-01,  4.1099e-01, -2.0687e-02,  ..., -5.0146e-01,\n",
       "           3.2521e-01, -5.7759e-01],\n",
       "         [-8.5832e-01, -3.4205e-01,  1.3168e+00,  ..., -1.0156e+00,\n",
       "          -1.0798e+00,  3.8542e-01],\n",
       "         [ 7.8119e-02,  1.2563e-01,  4.0916e-01,  ..., -5.4024e-01,\n",
       "           1.8594e-02,  1.6943e-01],\n",
       "         ...,\n",
       "         [-2.5539e-01, -2.5723e-01,  1.3169e-01,  ..., -2.3290e-01,\n",
       "          -1.2226e-01,  3.5499e-01],\n",
       "         [-2.5539e-01, -2.5723e-01,  1.3169e-01,  ..., -2.3290e-01,\n",
       "          -1.2226e-01,  3.5499e-01],\n",
       "         [-2.5539e-01, -2.5723e-01,  1.3169e-01,  ..., -2.3290e-01,\n",
       "          -1.2226e-01,  3.5499e-01]],\n",
       "\n",
       "        [[-2.2436e-01,  3.2679e-01,  1.8346e-02,  ..., -2.0585e-01,\n",
       "          -4.1200e-01, -3.4145e-01],\n",
       "         [-3.7763e-01,  5.0981e-01, -4.4110e-01,  ..., -6.0567e-01,\n",
       "          -4.4908e-01, -1.4731e-01],\n",
       "         [-5.7449e-02,  8.0789e-02, -1.1824e-01,  ..., -1.1858e-03,\n",
       "           2.1189e-01, -2.9694e-01],\n",
       "         ...,\n",
       "         [-1.3877e-01, -2.4946e-01, -1.3896e-01,  ..., -5.9205e-01,\n",
       "           3.3636e-01, -3.3764e-01],\n",
       "         [-1.0515e-01,  1.3407e-01,  1.3839e-01,  ..., -4.1949e-01,\n",
       "           8.9402e-02,  1.7569e-01],\n",
       "         [-1.9073e-01, -1.7206e-01, -5.4401e-01,  ..., -3.1628e-02,\n",
       "           7.8345e-02,  2.7092e-01]],\n",
       "\n",
       "        [[-1.7814e-01,  1.9422e-02, -1.8881e-01,  ..., -4.3968e-01,\n",
       "          -4.6828e-01, -8.9665e-02],\n",
       "         [ 7.8119e-02,  1.2563e-01,  4.0916e-01,  ..., -5.4024e-01,\n",
       "           1.8594e-02,  1.6943e-01],\n",
       "         [-2.4710e-01,  1.4174e-01,  3.8344e-01,  ...,  1.2077e-01,\n",
       "          -6.9548e-02,  2.7282e-01],\n",
       "         ...,\n",
       "         [ 7.8119e-02,  1.2563e-01,  4.0916e-01,  ..., -5.4024e-01,\n",
       "           1.8594e-02,  1.6943e-01],\n",
       "         [-2.4710e-01,  1.4174e-01,  3.8344e-01,  ...,  1.2077e-01,\n",
       "          -6.9548e-02,  2.7282e-01],\n",
       "         [-1.6601e-01,  1.4081e-01,  4.6603e-01,  ..., -3.5561e-01,\n",
       "           7.4174e-01,  4.1375e-01]],\n",
       "\n",
       "        ...,\n",
       "\n",
       "        [[-8.3300e-02, -2.0896e-01, -4.3623e-02,  ..., -1.7745e-01,\n",
       "           5.5793e-02,  8.0126e-01],\n",
       "         [-1.7501e-01,  4.4941e-01, -1.5821e-02,  ..., -1.2013e-01,\n",
       "           2.1710e-01, -8.8589e-01],\n",
       "         [-5.8517e-04,  8.6176e-02, -6.2549e-02,  ...,  4.1881e-01,\n",
       "          -2.5998e-01, -6.3070e-02],\n",
       "         ...,\n",
       "         [-2.5539e-01, -2.5723e-01,  1.3169e-01,  ..., -2.3290e-01,\n",
       "          -1.2226e-01,  3.5499e-01],\n",
       "         [-2.5539e-01, -2.5723e-01,  1.3169e-01,  ..., -2.3290e-01,\n",
       "          -1.2226e-01,  3.5499e-01],\n",
       "         [-2.5539e-01, -2.5723e-01,  1.3169e-01,  ..., -2.3290e-01,\n",
       "          -1.2226e-01,  3.5499e-01]],\n",
       "\n",
       "        [[-3.9116e-01,  1.5113e-01, -1.8260e-01,  ..., -5.6988e-02,\n",
       "           1.4564e-01,  9.1975e-02],\n",
       "         [-1.1337e-01, -5.7114e-01,  7.0453e-02,  ..., -3.9104e-01,\n",
       "           3.5309e-01, -1.7767e-01],\n",
       "         [-1.5056e+00, -7.3709e-01,  1.2257e-01,  ..., -9.2698e-02,\n",
       "           6.2748e-02, -1.4363e+00],\n",
       "         ...,\n",
       "         [-2.5539e-01, -2.5723e-01,  1.3169e-01,  ..., -2.3290e-01,\n",
       "          -1.2226e-01,  3.5499e-01],\n",
       "         [-2.5539e-01, -2.5723e-01,  1.3169e-01,  ..., -2.3290e-01,\n",
       "          -1.2226e-01,  3.5499e-01],\n",
       "         [-2.5539e-01, -2.5723e-01,  1.3169e-01,  ..., -2.3290e-01,\n",
       "          -1.2226e-01,  3.5499e-01]],\n",
       "\n",
       "        [[-1.5056e+00, -7.3709e-01,  1.2257e-01,  ..., -9.2698e-02,\n",
       "           6.2748e-02, -1.4363e+00],\n",
       "         [ 1.8015e-01, -6.4859e-02,  4.2917e-01,  ...,  4.5782e-01,\n",
       "           6.8569e-02,  4.6032e-02],\n",
       "         [-3.9116e-01,  1.5113e-01, -1.8260e-01,  ..., -5.6988e-02,\n",
       "           1.4564e-01,  9.1975e-02],\n",
       "         ...,\n",
       "         [-2.5539e-01, -2.5723e-01,  1.3169e-01,  ..., -2.3290e-01,\n",
       "          -1.2226e-01,  3.5499e-01],\n",
       "         [-2.5539e-01, -2.5723e-01,  1.3169e-01,  ..., -2.3290e-01,\n",
       "          -1.2226e-01,  3.5499e-01],\n",
       "         [-2.5539e-01, -2.5723e-01,  1.3169e-01,  ..., -2.3290e-01,\n",
       "          -1.2226e-01,  3.5499e-01]]], grad_fn=<EmbeddingBackward0>)"
      ]
     },
     "execution_count": 58,
     "metadata": {},
     "output_type": "execute_result"
    }
   ],
   "source": [
    "lookup(torch.LongTensor(batches['train']['x'][-1]))"
   ]
  },
  {
   "cell_type": "code",
   "execution_count": 59,
   "metadata": {
    "collapsed": false,
    "jupyter": {
     "outputs_hidden": false
    }
   },
   "outputs": [],
   "source": [
    "class ClassificationAverageModel(nn.Module):\n",
    "    \"\"\"\n",
    "    Classification model\n",
    "    \"\"\"\n",
    "    def __init__(self, lookup, num_classes: int):\n",
    "        \"\"\"\n",
    "        Initialize the model - include the lookup as model's parameters\n",
    "        :param lookup: word embedding lookup, WordEmbeddingLookup\n",
    "        :param num_classes: number of classes, int\n",
    "        \"\"\"\n",
    "        super(ClassificationAverageModel, self).__init__()\n",
    "        self.lookup = lookup\n",
    "        self.num_classes = num_classes\n",
    "        self.linear = nn.Linear(300, num_classes)\n",
    "\n",
    "\n",
    "    def forward(self, x):\n",
    "        \"\"\"\n",
    "        Forward pass - get lookup of x, calculate the mean of the embeddings of the words in the document,\n",
    "        and apply a linear transformation to the embeddings size to the number of classes followed by Softmax\n",
    "        :param x: input, torch.Tensor of shape (batch_size, max_document_length)\n",
    "        :return: output, torch.Tensor of shape (batch_size, num_classes)\n",
    "        \"\"\"\n",
    "\n",
    "        # get the embeddings of the word IDs in the batch using the lookup\n",
    "        x = self.lookup(x)\n",
    "        \n",
    "        # calculate the *element-wise mean* of the embeddings of the document's words\n",
    "        x = torch.mean(x, dim=1)\n",
    "        \n",
    "        # apply a linear transformation from the embeddings size to the number of classes, followed by Softmax\n",
    "        x = self.linear(x)\n",
    "        x = F.softmax(x, dim=1)\n",
    "        return x\n"
   ]
  },
  {
   "cell_type": "markdown",
   "metadata": {},
   "source": [
    "# Loss Function and optimization\n",
    "**Loss Function, Optimization, Early Stopping, and Evaluation (1.5 point):** Loss between the predicted and the actual classes is calculated using Negative Log Likelihood. Feel free to use any optimization mechanism such as Adam. After each epoch, evaluate the model on the *validation set* using the <ins>accuracy metric</ins>. If the evaluation result improves, save the model as the best performing one so far. If the results are not improving after a certain number of evaluation rounds (set as another hyper-parameter) or if training reaches a certain number of epochs, the training procedure can be terminated. After finishing the training, load the best performing model, and use it to predict the classes of the data points in the test set. To evaluate the models, use the <ins>accuracy metric</ins> throughout the task.\n"
   ]
  },
  {
   "cell_type": "code",
   "execution_count": 60,
   "metadata": {
    "collapsed": false,
    "jupyter": {
     "outputs_hidden": false
    }
   },
   "outputs": [],
   "source": [
    "model = ClassificationAverageModel(lookup.to(device), np.unique(train_df[\"label\"]).shape[0]).to(device)"
   ]
  },
  {
   "cell_type": "code",
   "execution_count": 61,
   "metadata": {
    "collapsed": false,
    "jupyter": {
     "outputs_hidden": false
    }
   },
   "outputs": [],
   "source": [
    "from torch import optim\n",
    "\n",
    "config['LOSS'] = \"nll\"\n",
    "if config['LOSS'] == \"nll\":\n",
    "    criterion = nn.NLLLoss()\n",
    "else:\n",
    "    # Cross Entropy is the default loss function\n",
    "    criterion = nn.CrossEntropyLoss()"
   ]
  },
  {
   "cell_type": "code",
   "execution_count": 62,
   "metadata": {
    "collapsed": false,
    "jupyter": {
     "outputs_hidden": false
    }
   },
   "outputs": [],
   "source": [
    "config['LR'] = 1e-3\n",
    "config['optim_fn'] = \"adam\"\n",
    "\n",
    "if config['optim_fn'] == \"sgd\":\n",
    "    optimizer = optim.SGD(model.parameters(), lr=config['LR'])\n",
    "else:\n",
    "    # Adam is the default optimizer\n",
    "    optimizer = optim.Adam(model.parameters(), lr=config['LR'])"
   ]
  },
  {
   "cell_type": "code",
   "execution_count": 63,
   "metadata": {
    "collapsed": false,
    "jupyter": {
     "outputs_hidden": false
    }
   },
   "outputs": [],
   "source": [
    "from sklearn.metrics import accuracy_score\n",
    "from tqdm.notebook import tqdm\n",
    "\n",
    "def do_train(model, criterion, optimizer, batches, epochs: int = 20, patience: int = 3, model_arch='', device='cpu'):\n",
    "    \"\"\"\n",
    "    Train the model for a number of epochs\n",
    "    :param model: model to train, ClassificationAverageModel\n",
    "    :param criterion: loss function, nn.CrossEntropyLoss\n",
    "    :param optimizer: optimization method, optim.Adam\n",
    "    :param batches: batches of data, list of (np.array, np.array)\n",
    "    :param epochs: number of epochs, int\n",
    "    :param patience: number of epochs to wait before early stopping, int\n",
    "    :return: best model, ClassificationAverageModel\n",
    "    \"\"\"\n",
    "    best_model = None\n",
    "    best_acc = 0.0\n",
    "    best_epoch = 0\n",
    "    X_train = batches[\"train\"][\"x\"]\n",
    "    y_train = batches[\"train\"][\"y\"]\n",
    "    X_val = batches[\"val\"][\"x\"]\n",
    "    y_val = batches[\"val\"][\"y\"]\n",
    "    patience_counter = 0\n",
    "    loss = torch.tensor(0.0)\n",
    "\n",
    "    print(\"Start training!\")\n",
    "    print(\"=\" * len(\"Start training!\"))\n",
    "    print(f\"Optimizer: {config['optim_fn']}, Loss: {config['LOSS']}, LR: {config['LR']}\")\n",
    "    print(f\"Epochs: {epochs}, Patience: {patience}\")\n",
    "    print(\"=\" * len(f\"Epochs: {epochs}, Patience: {patience}\"))\n",
    "    print()\n",
    "\n",
    "    # LOOP OVER EPOCHS\n",
    "    for epoch in tqdm(range(1, epochs + 1), desc=\"Epochs\", total=epochs):\n",
    "        print(f\"Epoch: {epoch}\")\n",
    "        model.train()\n",
    "        # lists of all predictions and labels to calculate accuracy\n",
    "        y_pred_all = []\n",
    "        y_true_all = []\n",
    "        losses = []\n",
    "        for x, y in tqdm(zip(X_train, y_train), desc=\"Training\", total=len(X_train)):\n",
    "            optimizer.zero_grad()\n",
    "\n",
    "            x = torch.LongTensor(x).to(device)\n",
    "            y_true = torch.LongTensor(y).to(device)\n",
    "\n",
    "            y_pred = model(x)\n",
    "            loss = criterion(y_pred, y_true)\n",
    "            losses.append(loss.item())\n",
    "            loss.backward()\n",
    "            optimizer.step()\n",
    "            # to calculate accuracy\n",
    "            y_pred_all.append(torch.argmax(y_pred, dim=1).tolist())\n",
    "            y_true_all.append(y_true.tolist())\n",
    "        y_pred_all = np.concatenate(y_pred_all)\n",
    "        y_true_all = np.concatenate(y_true_all)\n",
    "        acc = accuracy_score(y_true_all, y_pred_all)\n",
    "        print(f\"Train accuracy: {acc}, Train loss: {np.mean(losses)}\")\n",
    "\n",
    "        # VALIDATION\n",
    "        model.eval()\n",
    "        val_losses = []\n",
    "        \n",
    "        # lists of all predictions and labels to calculate accuracy\n",
    "        y_pred_all = []\n",
    "        y_true_all = []\n",
    "        for x, y in zip(X_val, y_val):\n",
    "            x = torch.LongTensor(x).to(device)\n",
    "            y_pred = model(x)\n",
    "            y_true = torch.LongTensor(y).to(device)\n",
    "            \n",
    "            with torch.no_grad(): \n",
    "                val_loss = criterion(y_pred, y_true)\n",
    "                val_losses.append(val_loss.item())\n",
    "            \n",
    "            y_pred_all.append(torch.argmax(y_pred, dim=1).tolist())\n",
    "            y_true_all.append(y_true.tolist())\n",
    "        y_pred_all = np.concatenate(y_pred_all)\n",
    "        y_true_all = np.concatenate(y_true_all)\n",
    "        val_acc = accuracy_score(y_true_all, y_pred_all)\n",
    "        print(f\"Validation Accuracy: {val_acc}\")\n",
    "        \n",
    "        wandb.log({\n",
    "            \"train_loss\": np.mean(losses), \n",
    "            \"train_acc\": acc, \n",
    "            \"epoch\": epoch,\n",
    "            \"val_loss\": np.mean(val_losses),\n",
    "            \"val_acc\": val_acc\n",
    "        })\n",
    "\n",
    "        # EARLY STOPPING\n",
    "        if val_acc > best_acc:\n",
    "            best_acc = val_acc\n",
    "            best_epoch = epoch\n",
    "            torch.save(model, f\"best_model_{config['MODEL_ARCH']}.pt\")\n",
    "            best_model = torch.load(f\"best_model_{config['MODEL_ARCH']}.pt\").to(device)\n",
    "            print(\"Best model updated\")\n",
    "            patience_counter = 0\n",
    "        else:\n",
    "            patience_counter += 1\n",
    "            if patience_counter == patience:\n",
    "                print(f\"Early stopping after {epoch} epochs\")\n",
    "                break\n",
    "\n",
    "    print(\"Training finished\")\n",
    "    print(\"Best validation accuracy: \", best_acc)\n",
    "    print(\"Best epoch: \", best_epoch)\n",
    "    return best_model"
   ]
  },
  {
   "cell_type": "code",
   "execution_count": 64,
   "metadata": {
    "collapsed": false,
    "jupyter": {
     "outputs_hidden": false
    }
   },
   "outputs": [],
   "source": [
    "config['N_EPOCHS'] = 20\n",
    "config['PATIENCE'] = 3\n",
    "config['DO_TRAIN'] = True\n",
    "config['MODEL_ARCH'] = 'average'\n",
    "\n",
    "wandb.config = config"
   ]
  },
  {
   "cell_type": "code",
   "execution_count": 65,
   "metadata": {
    "collapsed": false,
    "jupyter": {
     "outputs_hidden": false
    }
   },
   "outputs": [
    {
     "name": "stdout",
     "output_type": "stream",
     "text": [
      "Start training!\n",
      "===============\n",
      "Optimizer: adam, Loss: nll, LR: 0.001\n",
      "Epochs: 20, Patience: 3\n",
      "=======================\n",
      "\n"
     ]
    },
    {
     "data": {
      "application/vnd.jupyter.widget-view+json": {
       "model_id": "391a87e84f2e4f34858d459ec695cc23",
       "version_major": 2,
       "version_minor": 0
      },
      "text/plain": [
       "Epochs:   0%|          | 0/20 [00:00<?, ?it/s]"
      ]
     },
     "metadata": {},
     "output_type": "display_data"
    },
    {
     "name": "stdout",
     "output_type": "stream",
     "text": [
      "Epoch: 1\n"
     ]
    },
    {
     "data": {
      "application/vnd.jupyter.widget-view+json": {
       "model_id": "93b317eee75d45358e7aa6cc045a01d0",
       "version_major": 2,
       "version_minor": 0
      },
      "text/plain": [
       "Training:   0%|          | 0/379 [00:00<?, ?it/s]"
      ]
     },
     "metadata": {},
     "output_type": "display_data"
    },
    {
     "name": "stdout",
     "output_type": "stream",
     "text": [
      "Train accuracy: 0.37654830718414534, Train loss: -0.3129104417908475\n",
      "Validation Accuracy: 0.4776579352850539\n",
      "Best model updated\n",
      "Epoch: 2\n"
     ]
    },
    {
     "data": {
      "application/vnd.jupyter.widget-view+json": {
       "model_id": "bc03b71830e34f4a8284a9add0b9019c",
       "version_major": 2,
       "version_minor": 0
      },
      "text/plain": [
       "Training:   0%|          | 0/379 [00:00<?, ?it/s]"
      ]
     },
     "metadata": {},
     "output_type": "display_data"
    },
    {
     "name": "stdout",
     "output_type": "stream",
     "text": [
      "Train accuracy: 0.543682906688687, Train loss: -0.4822834723071247\n",
      "Validation Accuracy: 0.5631741140215717\n",
      "Best model updated\n",
      "Epoch: 3\n"
     ]
    },
    {
     "data": {
      "application/vnd.jupyter.widget-view+json": {
       "model_id": "38a6cb89608f42528e1b4b223e0fcbf6",
       "version_major": 2,
       "version_minor": 0
      },
      "text/plain": [
       "Training:   0%|          | 0/379 [00:00<?, ?it/s]"
      ]
     },
     "metadata": {},
     "output_type": "display_data"
    },
    {
     "name": "stdout",
     "output_type": "stream",
     "text": [
      "Train accuracy: 0.5797687861271676, Train loss: -0.5371934946105474\n",
      "Validation Accuracy: 0.5805084745762712\n",
      "Best model updated\n",
      "Epoch: 4\n"
     ]
    },
    {
     "data": {
      "application/vnd.jupyter.widget-view+json": {
       "model_id": "f7a9a236840e43c9b388f171e41731bf",
       "version_major": 2,
       "version_minor": 0
      },
      "text/plain": [
       "Training:   0%|          | 0/379 [00:00<?, ?it/s]"
      ]
     },
     "metadata": {},
     "output_type": "display_data"
    },
    {
     "name": "stdout",
     "output_type": "stream",
     "text": [
      "Train accuracy: 0.5922378199834847, Train loss: -0.5613452632540449\n",
      "Validation Accuracy: 0.5878274268104776\n",
      "Best model updated\n",
      "Epoch: 5\n"
     ]
    },
    {
     "data": {
      "application/vnd.jupyter.widget-view+json": {
       "model_id": "97e116e2e89a4a76ae8c135f8c579b2d",
       "version_major": 2,
       "version_minor": 0
      },
      "text/plain": [
       "Training:   0%|          | 0/379 [00:00<?, ?it/s]"
      ]
     },
     "metadata": {},
     "output_type": "display_data"
    },
    {
     "name": "stdout",
     "output_type": "stream",
     "text": [
      "Train accuracy: 0.5991742361684558, Train loss: -0.5752700537364527\n",
      "Validation Accuracy: 0.5897534668721109\n",
      "Best model updated\n",
      "Epoch: 6\n"
     ]
    },
    {
     "data": {
      "application/vnd.jupyter.widget-view+json": {
       "model_id": "d2ab3a8efe834796aa306640fa527106",
       "version_major": 2,
       "version_minor": 0
      },
      "text/plain": [
       "Training:   0%|          | 0/379 [00:00<?, ?it/s]"
      ]
     },
     "metadata": {},
     "output_type": "display_data"
    },
    {
     "name": "stdout",
     "output_type": "stream",
     "text": [
      "Train accuracy: 0.6020644095788604, Train loss: -0.5843620359268541\n",
      "Validation Accuracy: 0.5924499229583975\n",
      "Best model updated\n",
      "Epoch: 7\n"
     ]
    },
    {
     "data": {
      "application/vnd.jupyter.widget-view+json": {
       "model_id": "663d2fb1c5c54795b00db51a618f794d",
       "version_major": 2,
       "version_minor": 0
      },
      "text/plain": [
       "Training:   0%|          | 0/379 [00:00<?, ?it/s]"
      ]
     },
     "metadata": {},
     "output_type": "display_data"
    },
    {
     "name": "stdout",
     "output_type": "stream",
     "text": [
      "Train accuracy: 0.6061932287365813, Train loss: -0.5910021581718978\n",
      "Validation Accuracy: 0.5936055469953775\n",
      "Best model updated\n",
      "Epoch: 8\n"
     ]
    },
    {
     "data": {
      "application/vnd.jupyter.widget-view+json": {
       "model_id": "ca4a169b5d5446ccbdcd8d8ce30800c4",
       "version_major": 2,
       "version_minor": 0
      },
      "text/plain": [
       "Training:   0%|          | 0/379 [00:00<?, ?it/s]"
      ]
     },
     "metadata": {},
     "output_type": "display_data"
    },
    {
     "name": "stdout",
     "output_type": "stream",
     "text": [
      "Train accuracy: 0.609496284062758, Train loss: -0.5966827555665241\n",
      "Validation Accuracy: 0.600924499229584\n",
      "Best model updated\n",
      "Epoch: 9\n"
     ]
    },
    {
     "data": {
      "application/vnd.jupyter.widget-view+json": {
       "model_id": "422b68ad48b743c49816b8db9a3f402f",
       "version_major": 2,
       "version_minor": 0
      },
      "text/plain": [
       "Training:   0%|          | 0/379 [00:00<?, ?it/s]"
      ]
     },
     "metadata": {},
     "output_type": "display_data"
    },
    {
     "name": "stdout",
     "output_type": "stream",
     "text": [
      "Train accuracy: 0.6328654004954583, Train loss: -0.6137329099360745\n",
      "Validation Accuracy: 0.6205701078582434\n",
      "Best model updated\n",
      "Epoch: 10\n"
     ]
    },
    {
     "data": {
      "application/vnd.jupyter.widget-view+json": {
       "model_id": "f24ecdcd17c84d56aa6c25f96078841b",
       "version_major": 2,
       "version_minor": 0
      },
      "text/plain": [
       "Training:   0%|          | 0/379 [00:00<?, ?it/s]"
      ]
     },
     "metadata": {},
     "output_type": "display_data"
    },
    {
     "name": "stdout",
     "output_type": "stream",
     "text": [
      "Train accuracy: 0.6563996696944674, Train loss: -0.6318908134047777\n",
      "Validation Accuracy: 0.6298151001540832\n",
      "Best model updated\n",
      "Epoch: 11\n"
     ]
    },
    {
     "data": {
      "application/vnd.jupyter.widget-view+json": {
       "model_id": "daf1fac4c5094f0c8d7409e31ab6e43a",
       "version_major": 2,
       "version_minor": 0
      },
      "text/plain": [
       "Training:   0%|          | 0/379 [00:00<?, ?it/s]"
      ]
     },
     "metadata": {},
     "output_type": "display_data"
    },
    {
     "name": "stdout",
     "output_type": "stream",
     "text": [
      "Train accuracy: 0.6673823286540049, Train loss: -0.6455107539656294\n",
      "Validation Accuracy: 0.6336671802773498\n",
      "Best model updated\n",
      "Epoch: 12\n"
     ]
    },
    {
     "data": {
      "application/vnd.jupyter.widget-view+json": {
       "model_id": "9c90831e519e4f949474ffe8fe9da81e",
       "version_major": 2,
       "version_minor": 0
      },
      "text/plain": [
       "Training:   0%|          | 0/379 [00:00<?, ?it/s]"
      ]
     },
     "metadata": {},
     "output_type": "display_data"
    },
    {
     "name": "stdout",
     "output_type": "stream",
     "text": [
      "Train accuracy: 0.6738232865400495, Train loss: -0.6548803660989122\n",
      "Validation Accuracy: 0.6363636363636364\n",
      "Best model updated\n",
      "Epoch: 13\n"
     ]
    },
    {
     "data": {
      "application/vnd.jupyter.widget-view+json": {
       "model_id": "9ecfad7755124c4483f41580697523ca",
       "version_major": 2,
       "version_minor": 0
      },
      "text/plain": [
       "Training:   0%|          | 0/379 [00:00<?, ?it/s]"
      ]
     },
     "metadata": {},
     "output_type": "display_data"
    },
    {
     "name": "stdout",
     "output_type": "stream",
     "text": [
      "Train accuracy: 0.6781172584640792, Train loss: -0.6615454517599775\n",
      "Validation Accuracy: 0.6371340523882897\n",
      "Best model updated\n",
      "Epoch: 14\n"
     ]
    },
    {
     "data": {
      "application/vnd.jupyter.widget-view+json": {
       "model_id": "a721a6adc3264604af618adf2bde4398",
       "version_major": 2,
       "version_minor": 0
      },
      "text/plain": [
       "Training:   0%|          | 0/379 [00:00<?, ?it/s]"
      ]
     },
     "metadata": {},
     "output_type": "display_data"
    },
    {
     "name": "stdout",
     "output_type": "stream",
     "text": [
      "Train accuracy: 0.6857968620974402, Train loss: -0.669863170715624\n",
      "Validation Accuracy: 0.652542372881356\n",
      "Best model updated\n",
      "Epoch: 15\n"
     ]
    },
    {
     "data": {
      "application/vnd.jupyter.widget-view+json": {
       "model_id": "e51afadfa2cc4cb585804f3e08a0a87f",
       "version_major": 2,
       "version_minor": 0
      },
      "text/plain": [
       "Training:   0%|          | 0/379 [00:00<?, ?it/s]"
      ]
     },
     "metadata": {},
     "output_type": "display_data"
    },
    {
     "name": "stdout",
     "output_type": "stream",
     "text": [
      "Train accuracy: 0.7079273327828242, Train loss: -0.6872179824318294\n",
      "Validation Accuracy: 0.674884437596302\n",
      "Best model updated\n",
      "Epoch: 16\n"
     ]
    },
    {
     "data": {
      "application/vnd.jupyter.widget-view+json": {
       "model_id": "9f4722f333a548cbb47339caf89bd901",
       "version_major": 2,
       "version_minor": 0
      },
      "text/plain": [
       "Training:   0%|          | 0/379 [00:00<?, ?it/s]"
      ]
     },
     "metadata": {},
     "output_type": "display_data"
    },
    {
     "name": "stdout",
     "output_type": "stream",
     "text": [
      "Train accuracy: 0.7189099917423617, Train loss: -0.6997301814424016\n",
      "Validation Accuracy: 0.6810477657935285\n",
      "Best model updated\n",
      "Epoch: 17\n"
     ]
    },
    {
     "data": {
      "application/vnd.jupyter.widget-view+json": {
       "model_id": "093b05efa1ee4b778e649e814972fb08",
       "version_major": 2,
       "version_minor": 0
      },
      "text/plain": [
       "Training:   0%|          | 0/379 [00:00<?, ?it/s]"
      ]
     },
     "metadata": {},
     "output_type": "display_data"
    },
    {
     "name": "stdout",
     "output_type": "stream",
     "text": [
      "Train accuracy: 0.7369942196531792, Train loss: -0.7150141695873089\n",
      "Validation Accuracy: 0.7064714946070878\n",
      "Best model updated\n",
      "Epoch: 18\n"
     ]
    },
    {
     "data": {
      "application/vnd.jupyter.widget-view+json": {
       "model_id": "f76de1d77180431e9926942690514232",
       "version_major": 2,
       "version_minor": 0
      },
      "text/plain": [
       "Training:   0%|          | 0/379 [00:00<?, ?it/s]"
      ]
     },
     "metadata": {},
     "output_type": "display_data"
    },
    {
     "name": "stdout",
     "output_type": "stream",
     "text": [
      "Train accuracy: 0.7668042939719241, Train loss: -0.7392225070490371\n",
      "Validation Accuracy: 0.7334360554699538\n",
      "Best model updated\n",
      "Epoch: 19\n"
     ]
    },
    {
     "data": {
      "application/vnd.jupyter.widget-view+json": {
       "model_id": "57d7a311b5f4425c8e7916f36d67eae7",
       "version_major": 2,
       "version_minor": 0
      },
      "text/plain": [
       "Training:   0%|          | 0/379 [00:00<?, ?it/s]"
      ]
     },
     "metadata": {},
     "output_type": "display_data"
    },
    {
     "name": "stdout",
     "output_type": "stream",
     "text": [
      "Train accuracy: 0.7926507018992568, Train loss: -0.7628923077382009\n",
      "Validation Accuracy: 0.7503852080123267\n",
      "Best model updated\n",
      "Epoch: 20\n"
     ]
    },
    {
     "data": {
      "application/vnd.jupyter.widget-view+json": {
       "model_id": "ed96f8f3d0494f96a800e74ab7648b55",
       "version_major": 2,
       "version_minor": 0
      },
      "text/plain": [
       "Training:   0%|          | 0/379 [00:00<?, ?it/s]"
      ]
     },
     "metadata": {},
     "output_type": "display_data"
    },
    {
     "name": "stdout",
     "output_type": "stream",
     "text": [
      "Train accuracy: 0.8052023121387283, Train loss: -0.7792527408272736\n",
      "Validation Accuracy: 0.75231124807396\n",
      "Best model updated\n",
      "Training finished\n",
      "Best validation accuracy:  0.75231124807396\n",
      "Best epoch:  20\n"
     ]
    }
   ],
   "source": [
    "if config['DO_TRAIN']:\n",
    "    best_model = do_train(\n",
    "        model=model,\n",
    "        criterion=criterion,\n",
    "        optimizer=optimizer,\n",
    "        batches=batches,\n",
    "        epochs=config['N_EPOCHS'],\n",
    "        patience=config['PATIENCE'],\n",
    "        model_arch=config['MODEL_ARCH'],\n",
    "        device=device\n",
    "    )\n",
    "else:\n",
    "    best_model = torch.load(f\"best_model_{config['MODEL_ARCH']}.pt\").to(device)"
   ]
  },
  {
   "cell_type": "code",
   "execution_count": 66,
   "metadata": {
    "collapsed": false,
    "jupyter": {
     "outputs_hidden": false
    }
   },
   "outputs": [],
   "source": [
    "def predict(model, input_to_predict, device='cpu'):\n",
    "    \"\"\"\n",
    "    Predict the classes of the test set\n",
    "    :param model: trained model, Classifica*tionAverageModel\n",
    "    :param input: test set, list of np.array\n",
    "    :return: predicted classes, torch.Tensor of shape (batch_size, num_classes)\n",
    "    \"\"\"\n",
    "    model.eval()\n",
    "    y_pred_all = []\n",
    "    for x in input_to_predict:\n",
    "\n",
    "        x = torch.LongTensor(x).to(device)\n",
    "        y_pred = model(x)\n",
    "        y_pred_all.append(torch.argmax(y_pred, dim=1).tolist())\n",
    "    return np.concatenate(y_pred_all)"
   ]
  },
  {
   "cell_type": "code",
   "execution_count": 67,
   "metadata": {
    "collapsed": false,
    "jupyter": {
     "outputs_hidden": false
    }
   },
   "outputs": [],
   "source": [
    "y_pred_test = predict(best_model, batches[\"test\"][\"x\"], device=device)"
   ]
  },
  {
   "cell_type": "code",
   "execution_count": 68,
   "metadata": {
    "collapsed": false,
    "jupyter": {
     "outputs_hidden": false
    }
   },
   "outputs": [],
   "source": [
    "assert y_pred_test.shape == (test_df.shape[0],)"
   ]
  },
  {
   "cell_type": "code",
   "execution_count": 69,
   "metadata": {
    "collapsed": false,
    "jupyter": {
     "outputs_hidden": false
    }
   },
   "outputs": [
    {
     "data": {
      "text/plain": [
       "0.7533718689788054"
      ]
     },
     "execution_count": 69,
     "metadata": {},
     "output_type": "execute_result"
    }
   ],
   "source": [
    "acc_test = accuracy_score(test_df[\"label\"], y_pred_test)\n",
    "wandb.log({\"test_acc\": acc_test})\n",
    "acc_test"
   ]
  },
  {
   "cell_type": "markdown",
   "metadata": {},
   "source": [
    "# Reporting\n",
    "**Reporting (0.5 point)** During loading and processing the collection, provide sufficient information and examples about the data and the applied processing steps. Report the results of the best performing model on the validation and test set in a table. Additionally, feel free to add any plot showing the results."
   ]
  },
  {
   "cell_type": "markdown",
   "metadata": {},
   "source": [
    "Sufficient information and examples are provided throughout the notebook."
   ]
  },
  {
   "cell_type": "code",
   "execution_count": 70,
   "metadata": {
    "collapsed": false,
    "jupyter": {
     "outputs_hidden": false
    }
   },
   "outputs": [],
   "source": [
    "y_pred_val = predict(best_model, batches[\"val\"][\"x\"], device=device)"
   ]
  },
  {
   "cell_type": "code",
   "execution_count": 71,
   "metadata": {
    "collapsed": false,
    "jupyter": {
     "outputs_hidden": false
    }
   },
   "outputs": [
    {
     "data": {
      "text/plain": [
       "0.75231124807396"
      ]
     },
     "execution_count": 71,
     "metadata": {},
     "output_type": "execute_result"
    }
   ],
   "source": [
    "acc_val = accuracy_score(val_df[\"label\"], y_pred_val)\n",
    "wandb.log({\"final_val_acc\": acc_val})\n",
    "acc_val"
   ]
  },
  {
   "cell_type": "code",
   "execution_count": 72,
   "metadata": {
    "collapsed": false,
    "jupyter": {
     "outputs_hidden": false
    }
   },
   "outputs": [
    {
     "name": "stdout",
     "output_type": "stream",
     "text": [
      "Validation accuracy: 0.75231124807396\n",
      "Test accuracy: 0.7533718689788054\n"
     ]
    }
   ],
   "source": [
    "print(f\"Validation accuracy: {acc_val}\")\n",
    "print(f\"Test accuracy: {acc_test}\")"
   ]
  },
  {
   "cell_type": "code",
   "execution_count": 73,
   "metadata": {
    "collapsed": false,
    "jupyter": {
     "outputs_hidden": false
    }
   },
   "outputs": [
    {
     "data": {
      "text/html": [
       "<div>\n",
       "<style scoped>\n",
       "    .dataframe tbody tr th:only-of-type {\n",
       "        vertical-align: middle;\n",
       "    }\n",
       "\n",
       "    .dataframe tbody tr th {\n",
       "        vertical-align: top;\n",
       "    }\n",
       "\n",
       "    .dataframe thead th {\n",
       "        text-align: right;\n",
       "    }\n",
       "</style>\n",
       "<table border=\"1\" class=\"dataframe\">\n",
       "  <thead>\n",
       "    <tr style=\"text-align: right;\">\n",
       "      <th></th>\n",
       "      <th>Validation Accuracy</th>\n",
       "      <th>Test Accuracy</th>\n",
       "    </tr>\n",
       "  </thead>\n",
       "  <tbody>\n",
       "    <tr>\n",
       "      <th>0</th>\n",
       "      <td>0.752311</td>\n",
       "      <td>0.753372</td>\n",
       "    </tr>\n",
       "  </tbody>\n",
       "</table>\n",
       "</div>"
      ],
      "text/plain": [
       "   Validation Accuracy  Test Accuracy\n",
       "0             0.752311       0.753372"
      ]
     },
     "execution_count": 73,
     "metadata": {},
     "output_type": "execute_result"
    }
   ],
   "source": [
    "report = pd.DataFrame(\n",
    "    {\n",
    "        \"Validation Accuracy\": [acc_val],\n",
    "        \"Test Accuracy\": [acc_test],\n",
    "    }\n",
    ")\n",
    "report"
   ]
  },
  {
   "cell_type": "code",
   "execution_count": 74,
   "metadata": {},
   "outputs": [
    {
     "data": {
      "text/html": [
       "Waiting for W&B process to finish... <strong style=\"color:green\">(success).</strong>"
      ],
      "text/plain": [
       "<IPython.core.display.HTML object>"
      ]
     },
     "metadata": {},
     "output_type": "display_data"
    },
    {
     "data": {
      "text/html": [
       "<style>\n",
       "    table.wandb td:nth-child(1) { padding: 0 10px; text-align: left ; width: auto;} td:nth-child(2) {text-align: left ; width: 100%}\n",
       "    .wandb-row { display: flex; flex-direction: row; flex-wrap: wrap; justify-content: flex-start; width: 100% }\n",
       "    .wandb-col { display: flex; flex-direction: column; flex-basis: 100%; flex: 1; padding: 10px; }\n",
       "    </style>\n",
       "<div class=\"wandb-row\"><div class=\"wandb-col\"><h3>Run history:</h3><br/><table class=\"wandb\"><tr><td>epoch</td><td>▁▁▂▂▂▃▃▄▄▄▅▅▅▆▆▇▇▇██</td></tr><tr><td>final_val_acc</td><td>▁</td></tr><tr><td>test_acc</td><td>▁</td></tr><tr><td>train_acc</td><td>▁▄▄▅▅▅▅▅▅▆▆▆▆▆▆▇▇▇██</td></tr><tr><td>train_loss</td><td>█▅▅▄▄▄▄▄▃▃▃▃▃▃▂▂▂▂▁▁</td></tr><tr><td>val_acc</td><td>▁▃▄▄▄▄▄▄▅▅▅▅▅▅▆▆▇███</td></tr><tr><td>val_loss</td><td>█▆▅▅▅▅▄▄▄▄▄▃▃▃▃▃▂▂▁▁</td></tr></table><br/></div><div class=\"wandb-col\"><h3>Run summary:</h3><br/><table class=\"wandb\"><tr><td>epoch</td><td>20</td></tr><tr><td>final_val_acc</td><td>0.75231</td></tr><tr><td>test_acc</td><td>0.75337</td></tr><tr><td>train_acc</td><td>0.8052</td></tr><tr><td>train_loss</td><td>-0.77925</td></tr><tr><td>val_acc</td><td>0.75231</td></tr><tr><td>val_loss</td><td>-0.71902</td></tr></table><br/></div></div>"
      ],
      "text/plain": [
       "<IPython.core.display.HTML object>"
      ]
     },
     "metadata": {},
     "output_type": "display_data"
    },
    {
     "data": {
      "text/html": [
       " View run <strong style=\"color:#cdcd00\">average</strong> at: <a href='https://wandb.ai/tobiasm/NLPwDL/runs/ibmos0if' target=\"_blank\">https://wandb.ai/tobiasm/NLPwDL/runs/ibmos0if</a><br/>Synced 6 W&B file(s), 0 media file(s), 0 artifact file(s) and 0 other file(s)"
      ],
      "text/plain": [
       "<IPython.core.display.HTML object>"
      ]
     },
     "metadata": {},
     "output_type": "display_data"
    },
    {
     "data": {
      "text/html": [
       "Find logs at: <code>./wandb/run-20230530_142142-ibmos0if/logs</code>"
      ],
      "text/plain": [
       "<IPython.core.display.HTML object>"
      ]
     },
     "metadata": {},
     "output_type": "display_data"
    }
   ],
   "source": [
    "wandb.finish()"
   ]
  },
  {
   "cell_type": "markdown",
   "metadata": {},
   "source": [
    "<a name=\"section-classification-rnn\"></a><h2 style=\"color:rgb(0,120,170)\">Task B: Classification with LSTM (15 points)</h2>"
   ]
  },
  {
   "attachments": {
    "rnn_model.png": {
     "image/png": "[encoded data removed]"
    }
   },
   "cell_type": "markdown",
   "metadata": {},
   "source": [
    "<div style=\"background-color:rgb(224, 243, 255)\">\n",
    "\n",
    "This task implements a document classification model with PyTorch using Long Short-Term Memory (LSTM). This model should be called **`ClassificationRNNModel`** in your code, which contains all various variants as explained later. The schematic architecture of `ClassificationRNNModel` is shown in the figure below. `ClassificationRNNModel` extends `ClassificationAverageModel` by an LSTM layer. \n",
    "\n",
    "<img src=\"attachment:rnn_model.png\" alt=\"Drawing\" style=\"width: 220px;\"/>\n",
    "\n",
    "The implementation of `ClassificationRNNModel` covers the following points:\n",
    "\n",
    "**Baseline model (5 points):** The baseline LSTM model first fetches the corresponding embeddings of the word IDs of a given batch. It then calculates hidden states of the given sequences (documents) with the LSTM model. Finally, the **last hidden state** of LSTM is used as document embedding to predict the probability distribution of the output classes by the decoder (a linear projection) and a softmax layer. A dropout layer is applied to the output of the LSTM.\n",
    "\n",
    "**Model variations (3 points):** Implement the **three variations** of the baseline LSTM model as explained below. Each variation applies only one change to the baseline architecture, making it possible to study the effect of the change. The code of all variations should be inside `ClassificationRNNModel`, and executing a variation should be done by simply passing the corresponding parameters of the variation to the model. \n",
    "\n",
    "- **Variation 1 - Word Embeddings & RNN (1 point).** Select (at least) one of these proposed cases:\n",
    "  - Freeze the weights of encoder word embeddings (no updates)\n",
    "  - Initialize the encoder word embeddings randomly instead of using pretrained embeddings. \n",
    "  - Increase/decrease the dimension of the hidden state of the RNN.\n",
    "  - Use GRU instead of LSTM.\n",
    "\n",
    "- **Variation 2 - Regularization & Optimization (1 point).** Select (at least) one of these proposed cases:\n",
    "  - Increase/decrease drop out rates and tune the model accordingly.\n",
    "  - Add L2 weight regularization to the loss function.\n",
    "  - Use SGD instead of Adam.\n",
    "\n",
    "- **Variation 3 - Document Embedding (1 point).** Select (at least) one of these proposed cases:\n",
    "  - Use a Bidirectional LSTM, and set the document embedding as the concatenation of the last state of forward LSTM with the last state of backward LSTM.\n",
    "  - Calculate the mean of all the intermediary hidden states as the final document embedding.\n",
    "\n",
    "**Reporting and discussion (2 points)** Report the evaluation results of the baseline model, as well as the ones for all the variations in a table and also in a plot. Discuss which variation(s) appear to be the most effective. Explain your take.\n",
    "\n",
    "</div>"
   ]
  },
  {
   "cell_type": "code",
   "execution_count": 75,
   "metadata": {},
   "outputs": [],
   "source": [
    "class ClassificationRNNModel(ClassificationAverageModel):\n",
    "    \"\"\"\n",
    "    Classification model with LSTM\n",
    "    \"\"\"\n",
    "    def __init__(\n",
    "            self,\n",
    "            lookup,\n",
    "            num_classes: int,\n",
    "            freeze_embeddings=False, # variation 1.1\n",
    "            random_embeddings=False, # variation 1.2\n",
    "            hidden_size=128, # variation 1.3\n",
    "            bidirectional=False, # variation 3.1\n",
    "            dropout=0.5, # variation 2.1\n",
    "            calculate_mean=False, # variation 3.2\n",
    "            rnn_type=\"LSTM\", # variation 1.4\n",
    "            l2_regularization=0.0,\n",
    "            optim_fn='Adam'\n",
    "            ):\n",
    "        \"\"\"\n",
    "        Initialize the model\n",
    "        :param freeze_embeddings: Whether to freeze the embeddings or not\n",
    "        :param random_embeddings: Whether to initialize the embeddings randomly or not\n",
    "        :param hidden_size: Hidden size of the LSTM\n",
    "        :param bidirectional: Whether to use a bidirectional LSTM or not\n",
    "        :param dropout: Dropout rate\n",
    "        :param calculate_mean: Whether to calculate the mean of the hidden states or not\n",
    "        \"\"\"\n",
    "        super().__init__(lookup, num_classes)\n",
    "        self.freeze_embeddings = freeze_embeddings\n",
    "        self.random_embeddings = random_embeddings\n",
    "        self.hidden_size = hidden_size\n",
    "        self.bidirectional = bidirectional\n",
    "        self.dropout = dropout\n",
    "        self.calculate_mean = calculate_mean\n",
    "        self.embedding_dim = lookup.embedding_dim\n",
    "        self.rnn_type = rnn_type\n",
    "        \n",
    "        self.l2_regularization = l2_regularization\n",
    "        self.optim_fn = optim_fn\n",
    "\n",
    "        self.rnn = None\n",
    "        self.decoder = None\n",
    "        self._build_model()\n",
    "\n",
    "    def _build_model(self):\n",
    "        \"\"\"\n",
    "        Build the model\n",
    "        :return: None\n",
    "        \"\"\"\n",
    "        # Embeddings\n",
    "        if self.random_embeddings:\n",
    "            self.lookup = nn.Embedding.from_pretrained(\n",
    "                torch.randn(self.vocab_size, self.embedding_dim)\n",
    "            )\n",
    "        if self.freeze_embeddings:\n",
    "            self.lookup.lookup.weight.requires_grad = False\n",
    "            \n",
    "        # RNN\n",
    "        if self.rnn_type == \"LSTM\":\n",
    "            self.rnn = nn.LSTM(\n",
    "                input_size=self.embedding_dim,\n",
    "                hidden_size=self.hidden_size,\n",
    "                num_layers=1,\n",
    "                batch_first=True,\n",
    "                bidirectional=self.bidirectional\n",
    "            )\n",
    "            \n",
    "        elif self.rnn_type == \"GRU\":\n",
    "            self.rnn = nn.GRU(\n",
    "                input_size=self.embedding_dim,\n",
    "                hidden_size=self.hidden_size,\n",
    "                num_layers=1,\n",
    "                batch_first=True,\n",
    "                bidirectional=self.bidirectional\n",
    "            )\n",
    "            \n",
    "        # Decoder\n",
    "        self.decoder = nn.Sequential(\n",
    "            nn.Dropout(self.dropout),\n",
    "            nn.Linear(self.hidden_size*(2 if self.bidirectional else 1), self.num_classes),\n",
    "        )\n",
    "\n",
    "    def forward(self, x):\n",
    "        \"\"\"\n",
    "        Forward pass\n",
    "        :param x: input batch\n",
    "        :return: output logits\n",
    "        \"\"\"\n",
    "        \n",
    "        # Embeddings\n",
    "        x = self.lookup(x)\n",
    "        \n",
    "        # RNN\n",
    "        x, _ = self.rnn(x)\n",
    "        \n",
    "        # Document embedding\n",
    "        if self.bidirectional:\n",
    "            x = torch.cat((x[:, -1, :self.hidden_size], x[:, 0, self.hidden_size:]), dim=1)\n",
    "        elif self.calculate_mean:\n",
    "            x = torch.mean(x, dim=1)\n",
    "        else:\n",
    "            x = x[:, -1, :]\n",
    "            \n",
    "        # Decoder\n",
    "        x = self.decoder(x)\n",
    "        return x"
   ]
  },
  {
   "cell_type": "code",
   "execution_count": 76,
   "metadata": {},
   "outputs": [],
   "source": [
    "from torch import optim\n",
    "\n",
    "config['LOSS'] = \"ce\"\n",
    "if config['LOSS'] == \"nll\":\n",
    "    criterion = nn.NLLLoss()\n",
    "else:\n",
    "    # Cross Entropy is the default loss function\n",
    "    criterion = nn.CrossEntropyLoss()\n",
    "    \n",
    "config['N_EPOCHS'] = 20\n",
    "config['PATIENCE'] = 3\n",
    "config['DO_TRAIN'] = True\n",
    "config['LR'] = 1e-4"
   ]
  },
  {
   "cell_type": "markdown",
   "metadata": {},
   "source": [
    "## Baseline\n",
    "\n",
    "Baseline using LSTM and adjusted learning rate"
   ]
  },
  {
   "cell_type": "code",
   "execution_count": 77,
   "metadata": {},
   "outputs": [
    {
     "data": {
      "application/vnd.jupyter.widget-view+json": {
       "model_id": "ae549d22a6dc4d788d463d7e759c8f3c",
       "version_major": 2,
       "version_minor": 0
      },
      "text/plain": [
       "VBox(children=(Label(value='Waiting for wandb.init()...\\r'), FloatProgress(value=0.016669474816687093, max=1.0…"
      ]
     },
     "metadata": {},
     "output_type": "display_data"
    },
    {
     "data": {
      "text/html": [
       "wandb version 0.15.3 is available!  To upgrade, please run:\n",
       " $ pip install wandb --upgrade"
      ],
      "text/plain": [
       "<IPython.core.display.HTML object>"
      ]
     },
     "metadata": {},
     "output_type": "display_data"
    },
    {
     "data": {
      "text/html": [
       "Tracking run with wandb version 0.14.0"
      ],
      "text/plain": [
       "<IPython.core.display.HTML object>"
      ]
     },
     "metadata": {},
     "output_type": "display_data"
    },
    {
     "data": {
      "text/html": [
       "Run data is saved locally in <code>/home/tobi/Documents/nlp/nlp-course-2022w/wandb/run-20230530_143129-rhfyhc7a</code>"
      ],
      "text/plain": [
       "<IPython.core.display.HTML object>"
      ]
     },
     "metadata": {},
     "output_type": "display_data"
    },
    {
     "data": {
      "text/html": [
       "Syncing run <strong><a href='https://wandb.ai/tobiasm/NLPwDL/runs/rhfyhc7a' target=\"_blank\">RNN_baseline</a></strong> to <a href='https://wandb.ai/tobiasm/NLPwDL' target=\"_blank\">Weights & Biases</a> (<a href='https://wandb.me/run' target=\"_blank\">docs</a>)<br/>"
      ],
      "text/plain": [
       "<IPython.core.display.HTML object>"
      ]
     },
     "metadata": {},
     "output_type": "display_data"
    },
    {
     "data": {
      "text/html": [
       " View project at <a href='https://wandb.ai/tobiasm/NLPwDL' target=\"_blank\">https://wandb.ai/tobiasm/NLPwDL</a>"
      ],
      "text/plain": [
       "<IPython.core.display.HTML object>"
      ]
     },
     "metadata": {},
     "output_type": "display_data"
    },
    {
     "data": {
      "text/html": [
       " View run at <a href='https://wandb.ai/tobiasm/NLPwDL/runs/rhfyhc7a' target=\"_blank\">https://wandb.ai/tobiasm/NLPwDL/runs/rhfyhc7a</a>"
      ],
      "text/plain": [
       "<IPython.core.display.HTML object>"
      ]
     },
     "metadata": {},
     "output_type": "display_data"
    },
    {
     "data": {
      "text/html": [
       "<button onClick=\"this.nextSibling.style.display='block';this.style.display='none';\">Display W&B run</button><iframe src='https://wandb.ai/tobiasm/NLPwDL/runs/rhfyhc7a?jupyter=true' style='border:none;width:100%;height:420px;display:none;'></iframe>"
      ],
      "text/plain": [
       "<wandb.sdk.wandb_run.Run at 0x7fbb7936dbd0>"
      ]
     },
     "execution_count": 77,
     "metadata": {},
     "output_type": "execute_result"
    }
   ],
   "source": [
    "config['MODEL_ARCH'] = 'RNN_baseline'\n",
    "wandb.init(project=\"NLPwDL\", entity=\"tobiasm\", name=config['MODEL_ARCH'])"
   ]
  },
  {
   "cell_type": "code",
   "execution_count": 78,
   "metadata": {
    "collapsed": false,
    "jupyter": {
     "outputs_hidden": false
    }
   },
   "outputs": [],
   "source": [
    "model = ClassificationRNNModel(\n",
    "    lookup=lookup.to(device),\n",
    "    num_classes=np.unique(train_df[\"label\"]).shape[0],\n",
    "    rnn_type='LSTM',\n",
    ").to(device)"
   ]
  },
  {
   "cell_type": "code",
   "execution_count": 79,
   "metadata": {
    "collapsed": false,
    "jupyter": {
     "outputs_hidden": false
    }
   },
   "outputs": [
    {
     "name": "stdout",
     "output_type": "stream",
     "text": [
      "Start training!\n",
      "===============\n",
      "Optimizer: Adam, Loss: ce, LR: 0.0001\n",
      "Epochs: 20, Patience: 3\n",
      "=======================\n",
      "\n"
     ]
    },
    {
     "data": {
      "application/vnd.jupyter.widget-view+json": {
       "model_id": "a16fd012af6b4cd0bb02fc060b2eb8c0",
       "version_major": 2,
       "version_minor": 0
      },
      "text/plain": [
       "Epochs:   0%|          | 0/20 [00:00<?, ?it/s]"
      ]
     },
     "metadata": {},
     "output_type": "display_data"
    },
    {
     "name": "stdout",
     "output_type": "stream",
     "text": [
      "Epoch: 1\n"
     ]
    },
    {
     "data": {
      "application/vnd.jupyter.widget-view+json": {
       "model_id": "c0aa823568a848d2919e3621f1194559",
       "version_major": 2,
       "version_minor": 0
      },
      "text/plain": [
       "Training:   0%|          | 0/379 [00:00<?, ?it/s]"
      ]
     },
     "metadata": {},
     "output_type": "display_data"
    },
    {
     "name": "stdout",
     "output_type": "stream",
     "text": [
      "Train accuracy: 0.2500412881915772, Train loss: 2.1828663000016224\n",
      "Validation Accuracy: 0.2684899845916795\n",
      "Best model updated\n",
      "Epoch: 2\n"
     ]
    },
    {
     "data": {
      "application/vnd.jupyter.widget-view+json": {
       "model_id": "be6bec0bcd9447c2976450e9cbd243c3",
       "version_major": 2,
       "version_minor": 0
      },
      "text/plain": [
       "Training:   0%|          | 0/379 [00:00<?, ?it/s]"
      ]
     },
     "metadata": {},
     "output_type": "display_data"
    },
    {
     "name": "stdout",
     "output_type": "stream",
     "text": [
      "Train accuracy: 0.4429397192402973, Train loss: 1.7871742437256988\n",
      "Validation Accuracy: 0.5793528505392912\n",
      "Best model updated\n",
      "Epoch: 3\n"
     ]
    },
    {
     "data": {
      "application/vnd.jupyter.widget-view+json": {
       "model_id": "7cc587569a7a478397e2ce88a69112f4",
       "version_major": 2,
       "version_minor": 0
      },
      "text/plain": [
       "Training:   0%|          | 0/379 [00:00<?, ?it/s]"
      ]
     },
     "metadata": {},
     "output_type": "display_data"
    },
    {
     "name": "stdout",
     "output_type": "stream",
     "text": [
      "Train accuracy: 0.5966969446738233, Train loss: 1.4797612464836845\n",
      "Validation Accuracy: 0.5832049306625577\n",
      "Best model updated\n",
      "Epoch: 4\n"
     ]
    },
    {
     "data": {
      "application/vnd.jupyter.widget-view+json": {
       "model_id": "4a7d5800e2df44c9ad51559a0b8ef8bd",
       "version_major": 2,
       "version_minor": 0
      },
      "text/plain": [
       "Training:   0%|          | 0/379 [00:00<?, ?it/s]"
      ]
     },
     "metadata": {},
     "output_type": "display_data"
    },
    {
     "name": "stdout",
     "output_type": "stream",
     "text": [
      "Train accuracy: 0.5926507018992568, Train loss: 1.4723316721991688\n",
      "Validation Accuracy: 0.5597072419106317\n",
      "Epoch: 5\n"
     ]
    },
    {
     "data": {
      "application/vnd.jupyter.widget-view+json": {
       "model_id": "9eb7e15249774e0799773f338b5ab09e",
       "version_major": 2,
       "version_minor": 0
      },
      "text/plain": [
       "Training:   0%|          | 0/379 [00:00<?, ?it/s]"
      ]
     },
     "metadata": {},
     "output_type": "display_data"
    },
    {
     "name": "stdout",
     "output_type": "stream",
     "text": [
      "Train accuracy: 0.597440132122213, Train loss: 1.455205614774397\n",
      "Validation Accuracy: 0.5685670261941448\n",
      "Epoch: 6\n"
     ]
    },
    {
     "data": {
      "application/vnd.jupyter.widget-view+json": {
       "model_id": "f53970d7f26d4042a4464869c43155e9",
       "version_major": 2,
       "version_minor": 0
      },
      "text/plain": [
       "Training:   0%|          | 0/379 [00:00<?, ?it/s]"
      ]
     },
     "metadata": {},
     "output_type": "display_data"
    },
    {
     "name": "stdout",
     "output_type": "stream",
     "text": [
      "Train accuracy: 0.5660611065235343, Train loss: 1.5469469339992252\n",
      "Validation Accuracy: 0.5808936825885979\n",
      "Early stopping after 6 epochs\n",
      "Training finished\n",
      "Best validation accuracy:  0.5832049306625577\n",
      "Best epoch:  3\n"
     ]
    }
   ],
   "source": [
    "config['optim_fn'] = model.optim_fn\n",
    "config[\"l2_regularization\"] = model.l2_regularization \n",
    "\n",
    "if config['optim_fn'] == \"sgd\":\n",
    "    optimizer = optim.SGD(model.parameters(), lr=config['LR'], weight_decay=config[\"l2_regularization\"])\n",
    "else:\n",
    "    # Adam is the default optimizer\n",
    "    optimizer = optim.Adam(model.parameters(), lr=config['LR'], weight_decay=config[\"l2_regularization\"])\n",
    "    \n",
    "wandb.config = config\n",
    "\n",
    "if config['DO_TRAIN']:\n",
    "    best_model = do_train(\n",
    "        model=model,\n",
    "        criterion=criterion,\n",
    "        optimizer=optimizer,\n",
    "        batches=batches,\n",
    "        epochs=config['N_EPOCHS'],\n",
    "        patience=config['PATIENCE'],\n",
    "        model_arch=config['MODEL_ARCH'],\n",
    "        device=device\n",
    "    )\n",
    "else:\n",
    "    best_model = torch.load(f\"best_model_{config['MODEL_ARCH']}.pt\").to(device)\n",
    "    "
   ]
  },
  {
   "cell_type": "code",
   "execution_count": 80,
   "metadata": {
    "collapsed": false,
    "jupyter": {
     "outputs_hidden": false
    }
   },
   "outputs": [
    {
     "name": "stdout",
     "output_type": "stream",
     "text": [
      "Validation accuracy:  0.5832049306625577\n",
      "Test accuracy:  0.5888246628131021\n"
     ]
    }
   ],
   "source": [
    "y_pred_val = predict(best_model, batches[\"val\"][\"x\"], device=device)\n",
    "acc_val_baseline = accuracy_score(val_df[\"label\"], y_pred_val)\n",
    "wandb.log({\"final_val_acc\": acc_val_baseline})\n",
    "print(\"Validation accuracy: \", acc_val_baseline)\n",
    "\n",
    "y_pred_test = predict(best_model, batches[\"test\"][\"x\"], device=device)\n",
    "assert y_pred_test.shape == (test_df.shape[0],)\n",
    "\n",
    "acc_test_baseline = accuracy_score(test_df[\"label\"], y_pred_test)\n",
    "wandb.log({\"test_acc\": acc_test_baseline})\n",
    "print(\"Test accuracy: \", acc_test_baseline)"
   ]
  },
  {
   "cell_type": "code",
   "execution_count": 81,
   "metadata": {
    "collapsed": false,
    "jupyter": {
     "outputs_hidden": false
    }
   },
   "outputs": [
    {
     "data": {
      "text/html": [
       "Waiting for W&B process to finish... <strong style=\"color:green\">(success).</strong>"
      ],
      "text/plain": [
       "<IPython.core.display.HTML object>"
      ]
     },
     "metadata": {},
     "output_type": "display_data"
    },
    {
     "data": {
      "text/html": [
       "<style>\n",
       "    table.wandb td:nth-child(1) { padding: 0 10px; text-align: left ; width: auto;} td:nth-child(2) {text-align: left ; width: 100%}\n",
       "    .wandb-row { display: flex; flex-direction: row; flex-wrap: wrap; justify-content: flex-start; width: 100% }\n",
       "    .wandb-col { display: flex; flex-direction: column; flex-basis: 100%; flex: 1; padding: 10px; }\n",
       "    </style>\n",
       "<div class=\"wandb-row\"><div class=\"wandb-col\"><h3>Run history:</h3><br/><table class=\"wandb\"><tr><td>epoch</td><td>▁▂▄▅▇█</td></tr><tr><td>final_val_acc</td><td>▁</td></tr><tr><td>test_acc</td><td>▁</td></tr><tr><td>train_acc</td><td>▁▅███▇</td></tr><tr><td>train_loss</td><td>█▄▁▁▁▂</td></tr><tr><td>val_acc</td><td>▁██▇██</td></tr><tr><td>val_loss</td><td>█▂▁▁▁▁</td></tr></table><br/></div><div class=\"wandb-col\"><h3>Run summary:</h3><br/><table class=\"wandb\"><tr><td>epoch</td><td>6</td></tr><tr><td>final_val_acc</td><td>0.5832</td></tr><tr><td>test_acc</td><td>0.58882</td></tr><tr><td>train_acc</td><td>0.56606</td></tr><tr><td>train_loss</td><td>1.54695</td></tr><tr><td>val_acc</td><td>0.58089</td></tr><tr><td>val_loss</td><td>1.50584</td></tr></table><br/></div></div>"
      ],
      "text/plain": [
       "<IPython.core.display.HTML object>"
      ]
     },
     "metadata": {},
     "output_type": "display_data"
    },
    {
     "data": {
      "text/html": [
       " View run <strong style=\"color:#cdcd00\">RNN_baseline</strong> at: <a href='https://wandb.ai/tobiasm/NLPwDL/runs/rhfyhc7a' target=\"_blank\">https://wandb.ai/tobiasm/NLPwDL/runs/rhfyhc7a</a><br/>Synced 6 W&B file(s), 0 media file(s), 0 artifact file(s) and 0 other file(s)"
      ],
      "text/plain": [
       "<IPython.core.display.HTML object>"
      ]
     },
     "metadata": {},
     "output_type": "display_data"
    },
    {
     "data": {
      "text/html": [
       "Find logs at: <code>./wandb/run-20230530_143129-rhfyhc7a/logs</code>"
      ],
      "text/plain": [
       "<IPython.core.display.HTML object>"
      ]
     },
     "metadata": {},
     "output_type": "display_data"
    }
   ],
   "source": [
    "wandb.finish()"
   ]
  },
  {
   "cell_type": "markdown",
   "metadata": {
    "jupyter": {
     "outputs_hidden": false
    }
   },
   "source": [
    "## Variation 1\n",
    "\n",
    "Using a GRU network instead of a LSTM network. "
   ]
  },
  {
   "cell_type": "code",
   "execution_count": 82,
   "metadata": {
    "collapsed": false,
    "jupyter": {
     "outputs_hidden": false
    }
   },
   "outputs": [
    {
     "data": {
      "application/vnd.jupyter.widget-view+json": {
       "model_id": "c0dac3733e394bedb5d90566039c682b",
       "version_major": 2,
       "version_minor": 0
      },
      "text/plain": [
       "VBox(children=(Label(value='Waiting for wandb.init()...\\r'), FloatProgress(value=0.016671339766677798, max=1.0…"
      ]
     },
     "metadata": {},
     "output_type": "display_data"
    },
    {
     "data": {
      "text/html": [
       "wandb version 0.15.3 is available!  To upgrade, please run:\n",
       " $ pip install wandb --upgrade"
      ],
      "text/plain": [
       "<IPython.core.display.HTML object>"
      ]
     },
     "metadata": {},
     "output_type": "display_data"
    },
    {
     "data": {
      "text/html": [
       "Tracking run with wandb version 0.14.0"
      ],
      "text/plain": [
       "<IPython.core.display.HTML object>"
      ]
     },
     "metadata": {},
     "output_type": "display_data"
    },
    {
     "data": {
      "text/html": [
       "Run data is saved locally in <code>/home/tobi/Documents/nlp/nlp-course-2022w/wandb/run-20230530_143227-y3h9ocud</code>"
      ],
      "text/plain": [
       "<IPython.core.display.HTML object>"
      ]
     },
     "metadata": {},
     "output_type": "display_data"
    },
    {
     "data": {
      "text/html": [
       "Syncing run <strong><a href='https://wandb.ai/tobiasm/NLPwDL/runs/y3h9ocud' target=\"_blank\">RNN_variation_1</a></strong> to <a href='https://wandb.ai/tobiasm/NLPwDL' target=\"_blank\">Weights & Biases</a> (<a href='https://wandb.me/run' target=\"_blank\">docs</a>)<br/>"
      ],
      "text/plain": [
       "<IPython.core.display.HTML object>"
      ]
     },
     "metadata": {},
     "output_type": "display_data"
    },
    {
     "data": {
      "text/html": [
       " View project at <a href='https://wandb.ai/tobiasm/NLPwDL' target=\"_blank\">https://wandb.ai/tobiasm/NLPwDL</a>"
      ],
      "text/plain": [
       "<IPython.core.display.HTML object>"
      ]
     },
     "metadata": {},
     "output_type": "display_data"
    },
    {
     "data": {
      "text/html": [
       " View run at <a href='https://wandb.ai/tobiasm/NLPwDL/runs/y3h9ocud' target=\"_blank\">https://wandb.ai/tobiasm/NLPwDL/runs/y3h9ocud</a>"
      ],
      "text/plain": [
       "<IPython.core.display.HTML object>"
      ]
     },
     "metadata": {},
     "output_type": "display_data"
    },
    {
     "data": {
      "text/html": [
       "<button onClick=\"this.nextSibling.style.display='block';this.style.display='none';\">Display W&B run</button><iframe src='https://wandb.ai/tobiasm/NLPwDL/runs/y3h9ocud?jupyter=true' style='border:none;width:100%;height:420px;display:none;'></iframe>"
      ],
      "text/plain": [
       "<wandb.sdk.wandb_run.Run at 0x7fbae0d57cd0>"
      ]
     },
     "execution_count": 82,
     "metadata": {},
     "output_type": "execute_result"
    }
   ],
   "source": [
    "config['MODEL_ARCH'] = 'RNN_variation_1'\n",
    "wandb.init(project=\"NLPwDL\", entity=\"tobiasm\", name=config['MODEL_ARCH'])"
   ]
  },
  {
   "cell_type": "code",
   "execution_count": 83,
   "metadata": {},
   "outputs": [],
   "source": [
    "model = ClassificationRNNModel(\n",
    "    lookup=lookup.to(device),\n",
    "    num_classes=np.unique(train_df[\"label\"]).shape[0],\n",
    "    rnn_type='GRU'\n",
    ").to(device)"
   ]
  },
  {
   "cell_type": "code",
   "execution_count": 84,
   "metadata": {},
   "outputs": [
    {
     "name": "stdout",
     "output_type": "stream",
     "text": [
      "Start training!\n",
      "===============\n",
      "Optimizer: Adam, Loss: ce, LR: 0.0001\n",
      "Epochs: 20, Patience: 3\n",
      "=======================\n",
      "\n"
     ]
    },
    {
     "data": {
      "application/vnd.jupyter.widget-view+json": {
       "model_id": "766b990472384d2bb96dda1665a1d7e8",
       "version_major": 2,
       "version_minor": 0
      },
      "text/plain": [
       "Epochs:   0%|          | 0/20 [00:00<?, ?it/s]"
      ]
     },
     "metadata": {},
     "output_type": "display_data"
    },
    {
     "name": "stdout",
     "output_type": "stream",
     "text": [
      "Epoch: 1\n"
     ]
    },
    {
     "data": {
      "application/vnd.jupyter.widget-view+json": {
       "model_id": "b3a8475a5e0f45c0aa9431b13262db8a",
       "version_major": 2,
       "version_minor": 0
      },
      "text/plain": [
       "Training:   0%|          | 0/379 [00:00<?, ?it/s]"
      ]
     },
     "metadata": {},
     "output_type": "display_data"
    },
    {
     "name": "stdout",
     "output_type": "stream",
     "text": [
      "Train accuracy: 0.24888521882741535, Train loss: 2.171022319542072\n",
      "Validation Accuracy: 0.2642526964560863\n",
      "Best model updated\n",
      "Epoch: 2\n"
     ]
    },
    {
     "data": {
      "application/vnd.jupyter.widget-view+json": {
       "model_id": "36fd6390027c4e8db2a6d05d1ee4f36e",
       "version_major": 2,
       "version_minor": 0
      },
      "text/plain": [
       "Training:   0%|          | 0/379 [00:00<?, ?it/s]"
      ]
     },
     "metadata": {},
     "output_type": "display_data"
    },
    {
     "name": "stdout",
     "output_type": "stream",
     "text": [
      "Train accuracy: 0.3933113129644922, Train loss: 1.8765027172332702\n",
      "Validation Accuracy: 0.5755007704160247\n",
      "Best model updated\n",
      "Epoch: 3\n"
     ]
    },
    {
     "data": {
      "application/vnd.jupyter.widget-view+json": {
       "model_id": "cd86b3278a844047965542a89e09b07a",
       "version_major": 2,
       "version_minor": 0
      },
      "text/plain": [
       "Training:   0%|          | 0/379 [00:00<?, ?it/s]"
      ]
     },
     "metadata": {},
     "output_type": "display_data"
    },
    {
     "name": "stdout",
     "output_type": "stream",
     "text": [
      "Train accuracy: 0.6264244426094137, Train loss: 1.2843889466690828\n",
      "Validation Accuracy: 0.6140215716486903\n",
      "Best model updated\n",
      "Epoch: 4\n"
     ]
    },
    {
     "data": {
      "application/vnd.jupyter.widget-view+json": {
       "model_id": "eb7b23467d8b41c7932a5a82e2ee176a",
       "version_major": 2,
       "version_minor": 0
      },
      "text/plain": [
       "Training:   0%|          | 0/379 [00:00<?, ?it/s]"
      ]
     },
     "metadata": {},
     "output_type": "display_data"
    },
    {
     "name": "stdout",
     "output_type": "stream",
     "text": [
      "Train accuracy: 0.6667217175887696, Train loss: 1.1236103919376483\n",
      "Validation Accuracy: 0.6190292758089369\n",
      "Best model updated\n",
      "Epoch: 5\n"
     ]
    },
    {
     "data": {
      "application/vnd.jupyter.widget-view+json": {
       "model_id": "21a25b0a3b404d1b89ab02fedbb5c401",
       "version_major": 2,
       "version_minor": 0
      },
      "text/plain": [
       "Training:   0%|          | 0/379 [00:00<?, ?it/s]"
      ]
     },
     "metadata": {},
     "output_type": "display_data"
    },
    {
     "name": "stdout",
     "output_type": "stream",
     "text": [
      "Train accuracy: 0.6836498761354253, Train loss: 1.0573197181746954\n",
      "Validation Accuracy: 0.6429121725731896\n",
      "Best model updated\n",
      "Epoch: 6\n"
     ]
    },
    {
     "data": {
      "application/vnd.jupyter.widget-view+json": {
       "model_id": "944a2512359e440cb44e358c75d03f70",
       "version_major": 2,
       "version_minor": 0
      },
      "text/plain": [
       "Training:   0%|          | 0/379 [00:00<?, ?it/s]"
      ]
     },
     "metadata": {},
     "output_type": "display_data"
    },
    {
     "name": "stdout",
     "output_type": "stream",
     "text": [
      "Train accuracy: 0.7056977704376548, Train loss: 0.9925440123653664\n",
      "Validation Accuracy: 0.6687211093990755\n",
      "Best model updated\n",
      "Epoch: 7\n"
     ]
    },
    {
     "data": {
      "application/vnd.jupyter.widget-view+json": {
       "model_id": "4e1aedf980c34b56afd93e47dc480f7a",
       "version_major": 2,
       "version_minor": 0
      },
      "text/plain": [
       "Training:   0%|          | 0/379 [00:00<?, ?it/s]"
      ]
     },
     "metadata": {},
     "output_type": "display_data"
    },
    {
     "name": "stdout",
     "output_type": "stream",
     "text": [
      "Train accuracy: 0.7323699421965318, Train loss: 0.9323264257417191\n",
      "Validation Accuracy: 0.6802773497688752\n",
      "Best model updated\n",
      "Epoch: 8\n"
     ]
    },
    {
     "data": {
      "application/vnd.jupyter.widget-view+json": {
       "model_id": "af87021731e741a2b6ef7d04a6e8a83f",
       "version_major": 2,
       "version_minor": 0
      },
      "text/plain": [
       "Training:   0%|          | 0/379 [00:00<?, ?it/s]"
      ]
     },
     "metadata": {},
     "output_type": "display_data"
    },
    {
     "name": "stdout",
     "output_type": "stream",
     "text": [
      "Train accuracy: 0.7526011560693642, Train loss: 0.867618209689777\n",
      "Validation Accuracy: 0.6949152542372882\n",
      "Best model updated\n",
      "Epoch: 9\n"
     ]
    },
    {
     "data": {
      "application/vnd.jupyter.widget-view+json": {
       "model_id": "a4e50e83659e46ad9536841ce63429fa",
       "version_major": 2,
       "version_minor": 0
      },
      "text/plain": [
       "Training:   0%|          | 0/379 [00:00<?, ?it/s]"
      ]
     },
     "metadata": {},
     "output_type": "display_data"
    },
    {
     "name": "stdout",
     "output_type": "stream",
     "text": [
      "Train accuracy: 0.7753922378199835, Train loss: 0.8005070639159875\n",
      "Validation Accuracy: 0.727657935285054\n",
      "Best model updated\n",
      "Epoch: 10\n"
     ]
    },
    {
     "data": {
      "application/vnd.jupyter.widget-view+json": {
       "model_id": "32e5c50683314eb197947403c606039a",
       "version_major": 2,
       "version_minor": 0
      },
      "text/plain": [
       "Training:   0%|          | 0/379 [00:00<?, ?it/s]"
      ]
     },
     "metadata": {},
     "output_type": "display_data"
    },
    {
     "name": "stdout",
     "output_type": "stream",
     "text": [
      "Train accuracy: 0.801981833195706, Train loss: 0.7334407501925264\n",
      "Validation Accuracy: 0.7457627118644068\n",
      "Best model updated\n",
      "Epoch: 11\n"
     ]
    },
    {
     "data": {
      "application/vnd.jupyter.widget-view+json": {
       "model_id": "e2260d7015d9413987e573dc81b3cc53",
       "version_major": 2,
       "version_minor": 0
      },
      "text/plain": [
       "Training:   0%|          | 0/379 [00:00<?, ?it/s]"
      ]
     },
     "metadata": {},
     "output_type": "display_data"
    },
    {
     "name": "stdout",
     "output_type": "stream",
     "text": [
      "Train accuracy: 0.8213047068538398, Train loss: 0.6699102450172002\n",
      "Validation Accuracy: 0.7457627118644068\n",
      "Epoch: 12\n"
     ]
    },
    {
     "data": {
      "application/vnd.jupyter.widget-view+json": {
       "model_id": "2031e4cbb0c74019b8aa19a8ffff8998",
       "version_major": 2,
       "version_minor": 0
      },
      "text/plain": [
       "Training:   0%|          | 0/379 [00:00<?, ?it/s]"
      ]
     },
     "metadata": {},
     "output_type": "display_data"
    },
    {
     "name": "stdout",
     "output_type": "stream",
     "text": [
      "Train accuracy: 0.835177539223782, Train loss: 0.6221450470525546\n",
      "Validation Accuracy: 0.7449922958397535\n",
      "Epoch: 13\n"
     ]
    },
    {
     "data": {
      "application/vnd.jupyter.widget-view+json": {
       "model_id": "3b77df3ce8234dcdaa343dd659062f02",
       "version_major": 2,
       "version_minor": 0
      },
      "text/plain": [
       "Training:   0%|          | 0/379 [00:00<?, ?it/s]"
      ]
     },
     "metadata": {},
     "output_type": "display_data"
    },
    {
     "name": "stdout",
     "output_type": "stream",
     "text": [
      "Train accuracy: 0.8440132122213047, Train loss: 0.5798314499194515\n",
      "Validation Accuracy: 0.7457627118644068\n",
      "Early stopping after 13 epochs\n",
      "Training finished\n",
      "Best validation accuracy:  0.7457627118644068\n",
      "Best epoch:  10\n",
      "====================\n",
      "Validation accuracy:  0.7457627118644068\n",
      "Test accuracy:  0.751830443159923\n"
     ]
    }
   ],
   "source": [
    "config['optim_fn'] = model.optim_fn\n",
    "config[\"l2_regularization\"] = model.l2_regularization \n",
    "\n",
    "if config['optim_fn'] == \"sgd\":\n",
    "    optimizer = optim.SGD(model.parameters(), lr=config['LR'], weight_decay=config[\"l2_regularization\"])\n",
    "else:\n",
    "    # Adam is the default optimizer\n",
    "    optimizer = optim.Adam(model.parameters(), lr=config['LR'], weight_decay=config[\"l2_regularization\"])\n",
    "    \n",
    "wandb.config = config\n",
    "\n",
    "if config['DO_TRAIN']:\n",
    "    best_model = do_train(\n",
    "        model=model,\n",
    "        criterion=criterion,\n",
    "        optimizer=optimizer,\n",
    "        batches=batches,\n",
    "        epochs=config['N_EPOCHS'],\n",
    "        patience=config['PATIENCE'],\n",
    "        model_arch=config['MODEL_ARCH'],\n",
    "        device=device\n",
    "    )\n",
    "else:\n",
    "    best_model = torch.load(f\"best_model_{config['MODEL_ARCH']}.pt\").to(device)\n",
    "    \n",
    "print('='*20)\n",
    "y_pred_val = predict(best_model, batches[\"val\"][\"x\"], device=device)\n",
    "acc_val_one = accuracy_score(val_df[\"label\"], y_pred_val)\n",
    "wandb.log({\"final_val_acc\": acc_val_one})\n",
    "print(\"Validation accuracy: \", acc_val_one)\n",
    "\n",
    "y_pred_test = predict(best_model, batches[\"test\"][\"x\"], device=device)\n",
    "assert y_pred_test.shape == (test_df.shape[0],)\n",
    "\n",
    "acc_test_one = accuracy_score(test_df[\"label\"], y_pred_test)\n",
    "wandb.log({\"test_acc\": acc_test_one})\n",
    "print(\"Test accuracy: \", acc_test_one)"
   ]
  },
  {
   "cell_type": "code",
   "execution_count": 85,
   "metadata": {},
   "outputs": [
    {
     "data": {
      "text/html": [
       "Waiting for W&B process to finish... <strong style=\"color:green\">(success).</strong>"
      ],
      "text/plain": [
       "<IPython.core.display.HTML object>"
      ]
     },
     "metadata": {},
     "output_type": "display_data"
    },
    {
     "data": {
      "application/vnd.jupyter.widget-view+json": {
       "model_id": "96267174beef435e8e9180496ba3294f",
       "version_major": 2,
       "version_minor": 0
      },
      "text/plain": [
       "VBox(children=(Label(value='0.002 MB of 0.013 MB uploaded (0.000 MB deduped)\\r'), FloatProgress(value=0.157838…"
      ]
     },
     "metadata": {},
     "output_type": "display_data"
    },
    {
     "data": {
      "text/html": [
       "<style>\n",
       "    table.wandb td:nth-child(1) { padding: 0 10px; text-align: left ; width: auto;} td:nth-child(2) {text-align: left ; width: 100%}\n",
       "    .wandb-row { display: flex; flex-direction: row; flex-wrap: wrap; justify-content: flex-start; width: 100% }\n",
       "    .wandb-col { display: flex; flex-direction: column; flex-basis: 100%; flex: 1; padding: 10px; }\n",
       "    </style>\n",
       "<div class=\"wandb-row\"><div class=\"wandb-col\"><h3>Run history:</h3><br/><table class=\"wandb\"><tr><td>epoch</td><td>▁▂▂▃▃▄▅▅▆▆▇▇█</td></tr><tr><td>final_val_acc</td><td>▁</td></tr><tr><td>test_acc</td><td>▁</td></tr><tr><td>train_acc</td><td>▁▃▅▆▆▆▇▇▇████</td></tr><tr><td>train_loss</td><td>█▇▄▃▃▃▃▂▂▂▁▁▁</td></tr><tr><td>val_acc</td><td>▁▆▆▆▇▇▇▇█████</td></tr><tr><td>val_loss</td><td>█▄▃▃▃▂▂▂▁▁▁▁▁</td></tr></table><br/></div><div class=\"wandb-col\"><h3>Run summary:</h3><br/><table class=\"wandb\"><tr><td>epoch</td><td>13</td></tr><tr><td>final_val_acc</td><td>0.74576</td></tr><tr><td>test_acc</td><td>0.75183</td></tr><tr><td>train_acc</td><td>0.84401</td></tr><tr><td>train_loss</td><td>0.57983</td></tr><tr><td>val_acc</td><td>0.74576</td></tr><tr><td>val_loss</td><td>0.92568</td></tr></table><br/></div></div>"
      ],
      "text/plain": [
       "<IPython.core.display.HTML object>"
      ]
     },
     "metadata": {},
     "output_type": "display_data"
    },
    {
     "data": {
      "text/html": [
       " View run <strong style=\"color:#cdcd00\">RNN_variation_1</strong> at: <a href='https://wandb.ai/tobiasm/NLPwDL/runs/y3h9ocud' target=\"_blank\">https://wandb.ai/tobiasm/NLPwDL/runs/y3h9ocud</a><br/>Synced 6 W&B file(s), 0 media file(s), 0 artifact file(s) and 0 other file(s)"
      ],
      "text/plain": [
       "<IPython.core.display.HTML object>"
      ]
     },
     "metadata": {},
     "output_type": "display_data"
    },
    {
     "data": {
      "text/html": [
       "Find logs at: <code>./wandb/run-20230530_143227-y3h9ocud/logs</code>"
      ],
      "text/plain": [
       "<IPython.core.display.HTML object>"
      ]
     },
     "metadata": {},
     "output_type": "display_data"
    }
   ],
   "source": [
    "wandb.finish()"
   ]
  },
  {
   "cell_type": "markdown",
   "metadata": {},
   "source": [
    "## Variation 2\n",
    "\n",
    "LSTM network with a SGD optimizer instead of an Adam optimizer."
   ]
  },
  {
   "cell_type": "code",
   "execution_count": 86,
   "metadata": {},
   "outputs": [
    {
     "data": {
      "application/vnd.jupyter.widget-view+json": {
       "model_id": "b4c324e8cd11405a808f9e88b3b07db5",
       "version_major": 2,
       "version_minor": 0
      },
      "text/plain": [
       "VBox(children=(Label(value='Waiting for wandb.init()...\\r'), FloatProgress(value=0.016670488683333436, max=1.0…"
      ]
     },
     "metadata": {},
     "output_type": "display_data"
    },
    {
     "data": {
      "text/html": [
       "wandb version 0.15.3 is available!  To upgrade, please run:\n",
       " $ pip install wandb --upgrade"
      ],
      "text/plain": [
       "<IPython.core.display.HTML object>"
      ]
     },
     "metadata": {},
     "output_type": "display_data"
    },
    {
     "data": {
      "text/html": [
       "Tracking run with wandb version 0.14.0"
      ],
      "text/plain": [
       "<IPython.core.display.HTML object>"
      ]
     },
     "metadata": {},
     "output_type": "display_data"
    },
    {
     "data": {
      "text/html": [
       "Run data is saved locally in <code>/home/tobi/Documents/nlp/nlp-course-2022w/wandb/run-20230530_143500-x396ih7n</code>"
      ],
      "text/plain": [
       "<IPython.core.display.HTML object>"
      ]
     },
     "metadata": {},
     "output_type": "display_data"
    },
    {
     "data": {
      "text/html": [
       "Syncing run <strong><a href='https://wandb.ai/tobiasm/NLPwDL/runs/x396ih7n' target=\"_blank\">RNN_variation_2</a></strong> to <a href='https://wandb.ai/tobiasm/NLPwDL' target=\"_blank\">Weights & Biases</a> (<a href='https://wandb.me/run' target=\"_blank\">docs</a>)<br/>"
      ],
      "text/plain": [
       "<IPython.core.display.HTML object>"
      ]
     },
     "metadata": {},
     "output_type": "display_data"
    },
    {
     "data": {
      "text/html": [
       " View project at <a href='https://wandb.ai/tobiasm/NLPwDL' target=\"_blank\">https://wandb.ai/tobiasm/NLPwDL</a>"
      ],
      "text/plain": [
       "<IPython.core.display.HTML object>"
      ]
     },
     "metadata": {},
     "output_type": "display_data"
    },
    {
     "data": {
      "text/html": [
       " View run at <a href='https://wandb.ai/tobiasm/NLPwDL/runs/x396ih7n' target=\"_blank\">https://wandb.ai/tobiasm/NLPwDL/runs/x396ih7n</a>"
      ],
      "text/plain": [
       "<IPython.core.display.HTML object>"
      ]
     },
     "metadata": {},
     "output_type": "display_data"
    },
    {
     "data": {
      "text/html": [
       "<button onClick=\"this.nextSibling.style.display='block';this.style.display='none';\">Display W&B run</button><iframe src='https://wandb.ai/tobiasm/NLPwDL/runs/x396ih7n?jupyter=true' style='border:none;width:100%;height:420px;display:none;'></iframe>"
      ],
      "text/plain": [
       "<wandb.sdk.wandb_run.Run at 0x7fbb79346710>"
      ]
     },
     "execution_count": 86,
     "metadata": {},
     "output_type": "execute_result"
    }
   ],
   "source": [
    "config['MODEL_ARCH'] = 'RNN_variation_2'\n",
    "wandb.init(project=\"NLPwDL\", entity=\"tobiasm\", name=config['MODEL_ARCH'])"
   ]
  },
  {
   "cell_type": "code",
   "execution_count": 87,
   "metadata": {},
   "outputs": [],
   "source": [
    "model = ClassificationRNNModel(\n",
    "    lookup=lookup.to(device),\n",
    "    num_classes=np.unique(train_df[\"label\"]).shape[0],\n",
    "    rnn_type='LSTM',\n",
    "    optim_fn='SGD'\n",
    ").to(device)"
   ]
  },
  {
   "cell_type": "code",
   "execution_count": 88,
   "metadata": {},
   "outputs": [
    {
     "name": "stdout",
     "output_type": "stream",
     "text": [
      "Start training!\n",
      "===============\n",
      "Optimizer: SGD, Loss: ce, LR: 0.0001\n",
      "Epochs: 20, Patience: 3\n",
      "=======================\n",
      "\n"
     ]
    },
    {
     "data": {
      "application/vnd.jupyter.widget-view+json": {
       "model_id": "6c55c1e758cd43d7ae8177649c86fb19",
       "version_major": 2,
       "version_minor": 0
      },
      "text/plain": [
       "Epochs:   0%|          | 0/20 [00:00<?, ?it/s]"
      ]
     },
     "metadata": {},
     "output_type": "display_data"
    },
    {
     "name": "stdout",
     "output_type": "stream",
     "text": [
      "Epoch: 1\n"
     ]
    },
    {
     "data": {
      "application/vnd.jupyter.widget-view+json": {
       "model_id": "cadce3c068fe46f798e9b78f37cb8b88",
       "version_major": 2,
       "version_minor": 0
      },
      "text/plain": [
       "Training:   0%|          | 0/379 [00:00<?, ?it/s]"
      ]
     },
     "metadata": {},
     "output_type": "display_data"
    },
    {
     "name": "stdout",
     "output_type": "stream",
     "text": [
      "Train accuracy: 0.2507018992568126, Train loss: 2.170991580215796\n",
      "Validation Accuracy: 0.2731124807395994\n",
      "Best model updated\n",
      "Epoch: 2\n"
     ]
    },
    {
     "data": {
      "application/vnd.jupyter.widget-view+json": {
       "model_id": "cdff3a4694b5440fbabf2c65ffe71653",
       "version_major": 2,
       "version_minor": 0
      },
      "text/plain": [
       "Training:   0%|          | 0/379 [00:00<?, ?it/s]"
      ]
     },
     "metadata": {},
     "output_type": "display_data"
    },
    {
     "name": "stdout",
     "output_type": "stream",
     "text": [
      "Train accuracy: 0.42840627580511975, Train loss: 1.8143921357660622\n",
      "Validation Accuracy: 0.4911402157164869\n",
      "Best model updated\n",
      "Epoch: 3\n"
     ]
    },
    {
     "data": {
      "application/vnd.jupyter.widget-view+json": {
       "model_id": "1e362bab543f48b5a1f65ddb356d6b61",
       "version_major": 2,
       "version_minor": 0
      },
      "text/plain": [
       "Training:   0%|          | 0/379 [00:00<?, ?it/s]"
      ]
     },
     "metadata": {},
     "output_type": "display_data"
    },
    {
     "name": "stdout",
     "output_type": "stream",
     "text": [
      "Train accuracy: 0.5890999174236169, Train loss: 1.525705616832723\n",
      "Validation Accuracy: 0.5747303543913713\n",
      "Best model updated\n",
      "Epoch: 4\n"
     ]
    },
    {
     "data": {
      "application/vnd.jupyter.widget-view+json": {
       "model_id": "d7e02f64dad24372b6d903e64fb398c2",
       "version_major": 2,
       "version_minor": 0
      },
      "text/plain": [
       "Training:   0%|          | 0/379 [00:00<?, ?it/s]"
      ]
     },
     "metadata": {},
     "output_type": "display_data"
    },
    {
     "name": "stdout",
     "output_type": "stream",
     "text": [
      "Train accuracy: 0.5303055326176713, Train loss: 1.6359361230855252\n",
      "Validation Accuracy: 0.47226502311248075\n",
      "Epoch: 5\n"
     ]
    },
    {
     "data": {
      "application/vnd.jupyter.widget-view+json": {
       "model_id": "c20592ee0d07435da2ab9c047734232a",
       "version_major": 2,
       "version_minor": 0
      },
      "text/plain": [
       "Training:   0%|          | 0/379 [00:00<?, ?it/s]"
      ]
     },
     "metadata": {},
     "output_type": "display_data"
    },
    {
     "name": "stdout",
     "output_type": "stream",
     "text": [
      "Train accuracy: 0.5554087530966144, Train loss: 1.555708166005429\n",
      "Validation Accuracy: 0.5743451463790447\n",
      "Epoch: 6\n"
     ]
    },
    {
     "data": {
      "application/vnd.jupyter.widget-view+json": {
       "model_id": "8f55c0e05ff54193ab579d79923ecd34",
       "version_major": 2,
       "version_minor": 0
      },
      "text/plain": [
       "Training:   0%|          | 0/379 [00:00<?, ?it/s]"
      ]
     },
     "metadata": {},
     "output_type": "display_data"
    },
    {
     "name": "stdout",
     "output_type": "stream",
     "text": [
      "Train accuracy: 0.6007431874483897, Train loss: 1.4177405592004981\n",
      "Validation Accuracy: 0.5812788906009245\n",
      "Best model updated\n",
      "Epoch: 7\n"
     ]
    },
    {
     "data": {
      "application/vnd.jupyter.widget-view+json": {
       "model_id": "0e400b23131048b6ab221d324bfda623",
       "version_major": 2,
       "version_minor": 0
      },
      "text/plain": [
       "Training:   0%|          | 0/379 [00:00<?, ?it/s]"
      ]
     },
     "metadata": {},
     "output_type": "display_data"
    },
    {
     "name": "stdout",
     "output_type": "stream",
     "text": [
      "Train accuracy: 0.5897605284888522, Train loss: 1.4060130094160819\n",
      "Validation Accuracy: 0.5716486902927581\n",
      "Epoch: 8\n"
     ]
    },
    {
     "data": {
      "application/vnd.jupyter.widget-view+json": {
       "model_id": "f1c816a17bf4487fad5cada38529bdc5",
       "version_major": 2,
       "version_minor": 0
      },
      "text/plain": [
       "Training:   0%|          | 0/379 [00:00<?, ?it/s]"
      ]
     },
     "metadata": {},
     "output_type": "display_data"
    },
    {
     "name": "stdout",
     "output_type": "stream",
     "text": [
      "Train accuracy: 0.6218827415359207, Train loss: 1.2793438772727443\n",
      "Validation Accuracy: 0.5989984591679507\n",
      "Best model updated\n",
      "Epoch: 9\n"
     ]
    },
    {
     "data": {
      "application/vnd.jupyter.widget-view+json": {
       "model_id": "2a00536f6e2c4a9483764fc4c60e877c",
       "version_major": 2,
       "version_minor": 0
      },
      "text/plain": [
       "Training:   0%|          | 0/379 [00:00<?, ?it/s]"
      ]
     },
     "metadata": {},
     "output_type": "display_data"
    },
    {
     "name": "stdout",
     "output_type": "stream",
     "text": [
      "Train accuracy: 0.6085879438480595, Train loss: 1.3116207533272715\n",
      "Validation Accuracy: 0.5570107858243452\n",
      "Epoch: 10\n"
     ]
    },
    {
     "data": {
      "application/vnd.jupyter.widget-view+json": {
       "model_id": "e299b3bc011f48d587f72ab76dbfbf49",
       "version_major": 2,
       "version_minor": 0
      },
      "text/plain": [
       "Training:   0%|          | 0/379 [00:00<?, ?it/s]"
      ]
     },
     "metadata": {},
     "output_type": "display_data"
    },
    {
     "name": "stdout",
     "output_type": "stream",
     "text": [
      "Train accuracy: 0.6208092485549133, Train loss: 1.3067210131081552\n",
      "Validation Accuracy: 0.6043913713405239\n",
      "Best model updated\n",
      "Epoch: 11\n"
     ]
    },
    {
     "data": {
      "application/vnd.jupyter.widget-view+json": {
       "model_id": "d7de8be590f64ed2bcd6eb5cc9781c0f",
       "version_major": 2,
       "version_minor": 0
      },
      "text/plain": [
       "Training:   0%|          | 0/379 [00:00<?, ?it/s]"
      ]
     },
     "metadata": {},
     "output_type": "display_data"
    },
    {
     "name": "stdout",
     "output_type": "stream",
     "text": [
      "Train accuracy: 0.6682080924855491, Train loss: 1.1844513875513405\n",
      "Validation Accuracy: 0.6205701078582434\n",
      "Best model updated\n",
      "Epoch: 12\n"
     ]
    },
    {
     "data": {
      "application/vnd.jupyter.widget-view+json": {
       "model_id": "2f17a5e214a94facac633ccdd45c49e8",
       "version_major": 2,
       "version_minor": 0
      },
      "text/plain": [
       "Training:   0%|          | 0/379 [00:00<?, ?it/s]"
      ]
     },
     "metadata": {},
     "output_type": "display_data"
    },
    {
     "name": "stdout",
     "output_type": "stream",
     "text": [
      "Train accuracy: 0.6669694467382329, Train loss: 1.1769416297645872\n",
      "Validation Accuracy: 0.6232665639445301\n",
      "Best model updated\n",
      "Epoch: 13\n"
     ]
    },
    {
     "data": {
      "application/vnd.jupyter.widget-view+json": {
       "model_id": "2186acd57bf447cb8f9ec50dda201d89",
       "version_major": 2,
       "version_minor": 0
      },
      "text/plain": [
       "Training:   0%|          | 0/379 [00:00<?, ?it/s]"
      ]
     },
     "metadata": {},
     "output_type": "display_data"
    },
    {
     "name": "stdout",
     "output_type": "stream",
     "text": [
      "Train accuracy: 0.7010734929810074, Train loss: 1.0815563953646254\n",
      "Validation Accuracy: 0.6448382126348228\n",
      "Best model updated\n",
      "Epoch: 14\n"
     ]
    },
    {
     "data": {
      "application/vnd.jupyter.widget-view+json": {
       "model_id": "66be5b1526e74b3b8e4f48ddae30e498",
       "version_major": 2,
       "version_minor": 0
      },
      "text/plain": [
       "Training:   0%|          | 0/379 [00:00<?, ?it/s]"
      ]
     },
     "metadata": {},
     "output_type": "display_data"
    },
    {
     "name": "stdout",
     "output_type": "stream",
     "text": [
      "Train accuracy: 0.7165152766308835, Train loss: 1.0234978821000826\n",
      "Validation Accuracy: 0.6683359013867488\n",
      "Best model updated\n",
      "Epoch: 15\n"
     ]
    },
    {
     "data": {
      "application/vnd.jupyter.widget-view+json": {
       "model_id": "705bcf5338c24af58a9bd62375025826",
       "version_major": 2,
       "version_minor": 0
      },
      "text/plain": [
       "Training:   0%|          | 0/379 [00:00<?, ?it/s]"
      ]
     },
     "metadata": {},
     "output_type": "display_data"
    },
    {
     "name": "stdout",
     "output_type": "stream",
     "text": [
      "Train accuracy: 0.7366639141205615, Train loss: 0.9864576699551303\n",
      "Validation Accuracy: 0.6560092449922958\n",
      "Epoch: 16\n"
     ]
    },
    {
     "data": {
      "application/vnd.jupyter.widget-view+json": {
       "model_id": "a35523bb13354949987036481cc102b1",
       "version_major": 2,
       "version_minor": 0
      },
      "text/plain": [
       "Training:   0%|          | 0/379 [00:00<?, ?it/s]"
      ]
     },
     "metadata": {},
     "output_type": "display_data"
    },
    {
     "name": "stdout",
     "output_type": "stream",
     "text": [
      "Train accuracy: 0.7158546655656483, Train loss: 1.0086584540187211\n",
      "Validation Accuracy: 0.6787365177195686\n",
      "Best model updated\n",
      "Epoch: 17\n"
     ]
    },
    {
     "data": {
      "application/vnd.jupyter.widget-view+json": {
       "model_id": "d295670bd90a4d2c9a80b2c71e8a0c23",
       "version_major": 2,
       "version_minor": 0
      },
      "text/plain": [
       "Training:   0%|          | 0/379 [00:00<?, ?it/s]"
      ]
     },
     "metadata": {},
     "output_type": "display_data"
    },
    {
     "name": "stdout",
     "output_type": "stream",
     "text": [
      "Train accuracy: 0.7511147811725847, Train loss: 0.9241809764763925\n",
      "Validation Accuracy: 0.7057010785824345\n",
      "Best model updated\n",
      "Epoch: 18\n"
     ]
    },
    {
     "data": {
      "application/vnd.jupyter.widget-view+json": {
       "model_id": "26a9df3e1d3a40ac946a2daaaee3d57c",
       "version_major": 2,
       "version_minor": 0
      },
      "text/plain": [
       "Training:   0%|          | 0/379 [00:00<?, ?it/s]"
      ]
     },
     "metadata": {},
     "output_type": "display_data"
    },
    {
     "name": "stdout",
     "output_type": "stream",
     "text": [
      "Train accuracy: 0.7540875309661437, Train loss: 0.9337788319367532\n",
      "Validation Accuracy: 0.7122496147919877\n",
      "Best model updated\n",
      "Epoch: 19\n"
     ]
    },
    {
     "data": {
      "application/vnd.jupyter.widget-view+json": {
       "model_id": "7445568bec2e44c7a0e1066a1e2c7844",
       "version_major": 2,
       "version_minor": 0
      },
      "text/plain": [
       "Training:   0%|          | 0/379 [00:00<?, ?it/s]"
      ]
     },
     "metadata": {},
     "output_type": "display_data"
    },
    {
     "name": "stdout",
     "output_type": "stream",
     "text": [
      "Train accuracy: 0.7762180016515277, Train loss: 0.8970087494573367\n",
      "Validation Accuracy: 0.710708782742681\n",
      "Epoch: 20\n"
     ]
    },
    {
     "data": {
      "application/vnd.jupyter.widget-view+json": {
       "model_id": "01635f66a72f4aa087645731dd921cf8",
       "version_major": 2,
       "version_minor": 0
      },
      "text/plain": [
       "Training:   0%|          | 0/379 [00:00<?, ?it/s]"
      ]
     },
     "metadata": {},
     "output_type": "display_data"
    },
    {
     "name": "stdout",
     "output_type": "stream",
     "text": [
      "Train accuracy: 0.7511147811725847, Train loss: 0.9187243039029255\n",
      "Validation Accuracy: 0.7114791987673343\n",
      "Training finished\n",
      "Best validation accuracy:  0.7122496147919877\n",
      "Best epoch:  18\n",
      "====================\n",
      "Validation accuracy:  0.7122496147919877\n",
      "Test accuracy:  0.7140655105973025\n"
     ]
    }
   ],
   "source": [
    "config['optim_fn'] = model.optim_fn\n",
    "config[\"l2_regularization\"] = model.l2_regularization \n",
    "\n",
    "if config['optim_fn'] == \"sgd\":\n",
    "    optimizer = optim.SGD(model.parameters(), lr=config['LR'], weight_decay=config[\"l2_regularization\"])\n",
    "else:\n",
    "    # Adam is the default optimizer\n",
    "    optimizer = optim.Adam(model.parameters(), lr=config['LR'], weight_decay=config[\"l2_regularization\"])\n",
    "    \n",
    "wandb.config = config\n",
    "\n",
    "if config['DO_TRAIN']:\n",
    "    best_model = do_train(\n",
    "        model=model,\n",
    "        criterion=criterion,\n",
    "        optimizer=optimizer,\n",
    "        batches=batches,\n",
    "        epochs=config['N_EPOCHS'],\n",
    "        patience=config['PATIENCE'],\n",
    "        model_arch=config['MODEL_ARCH'],\n",
    "        device=device\n",
    "    )\n",
    "else:\n",
    "    best_model = torch.load(f\"best_model_{config['MODEL_ARCH']}.pt\").to(device)\n",
    "    \n",
    "print('='*20)\n",
    "y_pred_val = predict(best_model, batches[\"val\"][\"x\"], device=device)\n",
    "acc_val_two = accuracy_score(val_df[\"label\"], y_pred_val)\n",
    "wandb.log({\"final_val_acc\": acc_val_two})\n",
    "print(\"Validation accuracy: \", acc_val_two)\n",
    "\n",
    "y_pred_test = predict(best_model, batches[\"test\"][\"x\"], device=device)\n",
    "assert y_pred_test.shape == (test_df.shape[0],)\n",
    "\n",
    "acc_test_two = accuracy_score(test_df[\"label\"], y_pred_test)\n",
    "wandb.log({\"test_acc\": acc_test_two})\n",
    "print(\"Test accuracy: \", acc_test_two)"
   ]
  },
  {
   "cell_type": "code",
   "execution_count": 89,
   "metadata": {},
   "outputs": [
    {
     "data": {
      "text/html": [
       "Waiting for W&B process to finish... <strong style=\"color:green\">(success).</strong>"
      ],
      "text/plain": [
       "<IPython.core.display.HTML object>"
      ]
     },
     "metadata": {},
     "output_type": "display_data"
    },
    {
     "data": {
      "application/vnd.jupyter.widget-view+json": {
       "model_id": "b4d306332da44b0fa15a2d166ea169d6",
       "version_major": 2,
       "version_minor": 0
      },
      "text/plain": [
       "VBox(children=(Label(value='0.002 MB of 0.002 MB uploaded (0.000 MB deduped)\\r'), FloatProgress(value=1.0, max…"
      ]
     },
     "metadata": {},
     "output_type": "display_data"
    },
    {
     "data": {
      "text/html": [
       "<style>\n",
       "    table.wandb td:nth-child(1) { padding: 0 10px; text-align: left ; width: auto;} td:nth-child(2) {text-align: left ; width: 100%}\n",
       "    .wandb-row { display: flex; flex-direction: row; flex-wrap: wrap; justify-content: flex-start; width: 100% }\n",
       "    .wandb-col { display: flex; flex-direction: column; flex-basis: 100%; flex: 1; padding: 10px; }\n",
       "    </style>\n",
       "<div class=\"wandb-row\"><div class=\"wandb-col\"><h3>Run history:</h3><br/><table class=\"wandb\"><tr><td>epoch</td><td>▁▁▂▂▂▃▃▄▄▄▅▅▅▆▆▇▇▇██</td></tr><tr><td>final_val_acc</td><td>▁</td></tr><tr><td>test_acc</td><td>▁</td></tr><tr><td>train_acc</td><td>▁▃▆▅▅▆▆▆▆▆▇▇▇▇▇▇████</td></tr><tr><td>train_loss</td><td>█▆▄▅▅▄▄▃▃▃▃▃▂▂▁▂▁▁▁▁</td></tr><tr><td>val_acc</td><td>▁▄▆▄▆▆▆▆▆▆▇▇▇▇▇▇████</td></tr><tr><td>val_loss</td><td>█▅▄▅▄▃▃▃▄▂▂▂▂▂▂▁▁▂▁▁</td></tr></table><br/></div><div class=\"wandb-col\"><h3>Run summary:</h3><br/><table class=\"wandb\"><tr><td>epoch</td><td>20</td></tr><tr><td>final_val_acc</td><td>0.71225</td></tr><tr><td>test_acc</td><td>0.71407</td></tr><tr><td>train_acc</td><td>0.75111</td></tr><tr><td>train_loss</td><td>0.91872</td></tr><tr><td>val_acc</td><td>0.71148</td></tr><tr><td>val_loss</td><td>1.08633</td></tr></table><br/></div></div>"
      ],
      "text/plain": [
       "<IPython.core.display.HTML object>"
      ]
     },
     "metadata": {},
     "output_type": "display_data"
    },
    {
     "data": {
      "text/html": [
       " View run <strong style=\"color:#cdcd00\">RNN_variation_2</strong> at: <a href='https://wandb.ai/tobiasm/NLPwDL/runs/x396ih7n' target=\"_blank\">https://wandb.ai/tobiasm/NLPwDL/runs/x396ih7n</a><br/>Synced 6 W&B file(s), 0 media file(s), 0 artifact file(s) and 0 other file(s)"
      ],
      "text/plain": [
       "<IPython.core.display.HTML object>"
      ]
     },
     "metadata": {},
     "output_type": "display_data"
    },
    {
     "data": {
      "text/html": [
       "Find logs at: <code>./wandb/run-20230530_143500-x396ih7n/logs</code>"
      ],
      "text/plain": [
       "<IPython.core.display.HTML object>"
      ]
     },
     "metadata": {},
     "output_type": "display_data"
    }
   ],
   "source": [
    "wandb.finish()"
   ]
  },
  {
   "cell_type": "markdown",
   "metadata": {},
   "source": [
    "## Variation 3\n",
    "\n",
    "Using a bidirectional LSTM network."
   ]
  },
  {
   "cell_type": "code",
   "execution_count": 90,
   "metadata": {},
   "outputs": [
    {
     "data": {
      "application/vnd.jupyter.widget-view+json": {
       "model_id": "d2adf511b95c4869bf83b342c6477a27",
       "version_major": 2,
       "version_minor": 0
      },
      "text/plain": [
       "VBox(children=(Label(value='Waiting for wandb.init()...\\r'), FloatProgress(value=0.016670216999985617, max=1.0…"
      ]
     },
     "metadata": {},
     "output_type": "display_data"
    },
    {
     "data": {
      "text/html": [
       "wandb version 0.15.3 is available!  To upgrade, please run:\n",
       " $ pip install wandb --upgrade"
      ],
      "text/plain": [
       "<IPython.core.display.HTML object>"
      ]
     },
     "metadata": {},
     "output_type": "display_data"
    },
    {
     "data": {
      "text/html": [
       "Tracking run with wandb version 0.14.0"
      ],
      "text/plain": [
       "<IPython.core.display.HTML object>"
      ]
     },
     "metadata": {},
     "output_type": "display_data"
    },
    {
     "data": {
      "text/html": [
       "Run data is saved locally in <code>/home/tobi/Documents/nlp/nlp-course-2022w/wandb/run-20230530_143832-gl5lqf0h</code>"
      ],
      "text/plain": [
       "<IPython.core.display.HTML object>"
      ]
     },
     "metadata": {},
     "output_type": "display_data"
    },
    {
     "data": {
      "text/html": [
       "Syncing run <strong><a href='https://wandb.ai/tobiasm/NLPwDL/runs/gl5lqf0h' target=\"_blank\">RNN_variation_3</a></strong> to <a href='https://wandb.ai/tobiasm/NLPwDL' target=\"_blank\">Weights & Biases</a> (<a href='https://wandb.me/run' target=\"_blank\">docs</a>)<br/>"
      ],
      "text/plain": [
       "<IPython.core.display.HTML object>"
      ]
     },
     "metadata": {},
     "output_type": "display_data"
    },
    {
     "data": {
      "text/html": [
       " View project at <a href='https://wandb.ai/tobiasm/NLPwDL' target=\"_blank\">https://wandb.ai/tobiasm/NLPwDL</a>"
      ],
      "text/plain": [
       "<IPython.core.display.HTML object>"
      ]
     },
     "metadata": {},
     "output_type": "display_data"
    },
    {
     "data": {
      "text/html": [
       " View run at <a href='https://wandb.ai/tobiasm/NLPwDL/runs/gl5lqf0h' target=\"_blank\">https://wandb.ai/tobiasm/NLPwDL/runs/gl5lqf0h</a>"
      ],
      "text/plain": [
       "<IPython.core.display.HTML object>"
      ]
     },
     "metadata": {},
     "output_type": "display_data"
    },
    {
     "data": {
      "text/html": [
       "<button onClick=\"this.nextSibling.style.display='block';this.style.display='none';\">Display W&B run</button><iframe src='https://wandb.ai/tobiasm/NLPwDL/runs/gl5lqf0h?jupyter=true' style='border:none;width:100%;height:420px;display:none;'></iframe>"
      ],
      "text/plain": [
       "<wandb.sdk.wandb_run.Run at 0x7fbaa0111790>"
      ]
     },
     "execution_count": 90,
     "metadata": {},
     "output_type": "execute_result"
    }
   ],
   "source": [
    "config['MODEL_ARCH'] = 'RNN_variation_3'\n",
    "wandb.init(project=\"NLPwDL\", entity=\"tobiasm\", name=config['MODEL_ARCH'])"
   ]
  },
  {
   "cell_type": "code",
   "execution_count": 91,
   "metadata": {},
   "outputs": [],
   "source": [
    "model = ClassificationRNNModel(\n",
    "    lookup=lookup.to(device),\n",
    "    num_classes=np.unique(train_df[\"label\"]).shape[0],\n",
    "    rnn_type='LSTM',\n",
    "    bidirectional=True\n",
    ").to(device)"
   ]
  },
  {
   "cell_type": "code",
   "execution_count": 92,
   "metadata": {},
   "outputs": [
    {
     "name": "stdout",
     "output_type": "stream",
     "text": [
      "Start training!\n",
      "===============\n",
      "Optimizer: Adam, Loss: ce, LR: 0.0001\n",
      "Epochs: 20, Patience: 3\n",
      "=======================\n",
      "\n"
     ]
    },
    {
     "data": {
      "application/vnd.jupyter.widget-view+json": {
       "model_id": "ca01c92f96454240b240d454f707ddd0",
       "version_major": 2,
       "version_minor": 0
      },
      "text/plain": [
       "Epochs:   0%|          | 0/20 [00:00<?, ?it/s]"
      ]
     },
     "metadata": {},
     "output_type": "display_data"
    },
    {
     "name": "stdout",
     "output_type": "stream",
     "text": [
      "Epoch: 1\n"
     ]
    },
    {
     "data": {
      "application/vnd.jupyter.widget-view+json": {
       "model_id": "7610bf32d2c84e84832460b576f13051",
       "version_major": 2,
       "version_minor": 0
      },
      "text/plain": [
       "Training:   0%|          | 0/379 [00:00<?, ?it/s]"
      ]
     },
     "metadata": {},
     "output_type": "display_data"
    },
    {
     "name": "stdout",
     "output_type": "stream",
     "text": [
      "Train accuracy: 0.5463253509496284, Train loss: 1.6235540787588638\n",
      "Validation Accuracy: 0.652542372881356\n",
      "Best model updated\n",
      "Epoch: 2\n"
     ]
    },
    {
     "data": {
      "application/vnd.jupyter.widget-view+json": {
       "model_id": "099ae6aeb70b4fc5908efd64631ed993",
       "version_major": 2,
       "version_minor": 0
      },
      "text/plain": [
       "Training:   0%|          | 0/379 [00:00<?, ?it/s]"
      ]
     },
     "metadata": {},
     "output_type": "display_data"
    },
    {
     "name": "stdout",
     "output_type": "stream",
     "text": [
      "Train accuracy: 0.7518579686209744, Train loss: 1.0014653135887237\n",
      "Validation Accuracy: 0.7272727272727273\n",
      "Best model updated\n",
      "Epoch: 3\n"
     ]
    },
    {
     "data": {
      "application/vnd.jupyter.widget-view+json": {
       "model_id": "9c196415e49e47f7a13f843b1eacdf01",
       "version_major": 2,
       "version_minor": 0
      },
      "text/plain": [
       "Training:   0%|          | 0/379 [00:00<?, ?it/s]"
      ]
     },
     "metadata": {},
     "output_type": "display_data"
    },
    {
     "name": "stdout",
     "output_type": "stream",
     "text": [
      "Train accuracy: 0.8072667217175887, Train loss: 0.7931680858607028\n",
      "Validation Accuracy: 0.7492295839753467\n",
      "Best model updated\n",
      "Epoch: 4\n"
     ]
    },
    {
     "data": {
      "application/vnd.jupyter.widget-view+json": {
       "model_id": "6a64c5cbe3cf431f91fb599d3d217e9c",
       "version_major": 2,
       "version_minor": 0
      },
      "text/plain": [
       "Training:   0%|          | 0/379 [00:00<?, ?it/s]"
      ]
     },
     "metadata": {},
     "output_type": "display_data"
    },
    {
     "name": "stdout",
     "output_type": "stream",
     "text": [
      "Train accuracy: 0.8205615194054501, Train loss: 0.6951004715739579\n",
      "Validation Accuracy: 0.7565485362095532\n",
      "Best model updated\n",
      "Epoch: 5\n"
     ]
    },
    {
     "data": {
      "application/vnd.jupyter.widget-view+json": {
       "model_id": "ef571f1097fa471885895b34e2754061",
       "version_major": 2,
       "version_minor": 0
      },
      "text/plain": [
       "Training:   0%|          | 0/379 [00:00<?, ?it/s]"
      ]
     },
     "metadata": {},
     "output_type": "display_data"
    },
    {
     "name": "stdout",
     "output_type": "stream",
     "text": [
      "Train accuracy: 0.8284888521882742, Train loss: 0.6446286051443195\n",
      "Validation Accuracy: 0.7580893682588598\n",
      "Best model updated\n",
      "Epoch: 6\n"
     ]
    },
    {
     "data": {
      "application/vnd.jupyter.widget-view+json": {
       "model_id": "1c69406972b44fe3afb14dc847baf49f",
       "version_major": 2,
       "version_minor": 0
      },
      "text/plain": [
       "Training:   0%|          | 0/379 [00:00<?, ?it/s]"
      ]
     },
     "metadata": {},
     "output_type": "display_data"
    },
    {
     "name": "stdout",
     "output_type": "stream",
     "text": [
      "Train accuracy: 0.8337737407101569, Train loss: 0.6111294351183959\n",
      "Validation Accuracy: 0.7619414483821263\n",
      "Best model updated\n",
      "Epoch: 7\n"
     ]
    },
    {
     "data": {
      "application/vnd.jupyter.widget-view+json": {
       "model_id": "443525a0ef2348e5899b3b825e6e0e9d",
       "version_major": 2,
       "version_minor": 0
      },
      "text/plain": [
       "Training:   0%|          | 0/379 [00:00<?, ?it/s]"
      ]
     },
     "metadata": {},
     "output_type": "display_data"
    },
    {
     "name": "stdout",
     "output_type": "stream",
     "text": [
      "Train accuracy: 0.8409578860445912, Train loss: 0.5807574491623524\n",
      "Validation Accuracy: 0.7669491525423728\n",
      "Best model updated\n",
      "Epoch: 8\n"
     ]
    },
    {
     "data": {
      "application/vnd.jupyter.widget-view+json": {
       "model_id": "a6f3ead28ee64b41b8b447cf6c74ba98",
       "version_major": 2,
       "version_minor": 0
      },
      "text/plain": [
       "Training:   0%|          | 0/379 [00:00<?, ?it/s]"
      ]
     },
     "metadata": {},
     "output_type": "display_data"
    },
    {
     "name": "stdout",
     "output_type": "stream",
     "text": [
      "Train accuracy: 0.8496284062758052, Train loss: 0.5526517060312558\n",
      "Validation Accuracy: 0.7600154083204931\n",
      "Epoch: 9\n"
     ]
    },
    {
     "data": {
      "application/vnd.jupyter.widget-view+json": {
       "model_id": "230bc8d63177477bbe0e273f2306b903",
       "version_major": 2,
       "version_minor": 0
      },
      "text/plain": [
       "Training:   0%|          | 0/379 [00:00<?, ?it/s]"
      ]
     },
     "metadata": {},
     "output_type": "display_data"
    },
    {
     "name": "stdout",
     "output_type": "stream",
     "text": [
      "Train accuracy: 0.8516928158546656, Train loss: 0.5318149102158786\n",
      "Validation Accuracy: 0.7673343605546995\n",
      "Best model updated\n",
      "Epoch: 10\n"
     ]
    },
    {
     "data": {
      "application/vnd.jupyter.widget-view+json": {
       "model_id": "c0e8651a1ad14c549d01026e19ef4078",
       "version_major": 2,
       "version_minor": 0
      },
      "text/plain": [
       "Training:   0%|          | 0/379 [00:00<?, ?it/s]"
      ]
     },
     "metadata": {},
     "output_type": "display_data"
    },
    {
     "name": "stdout",
     "output_type": "stream",
     "text": [
      "Train accuracy: 0.8601156069364162, Train loss: 0.5039549993257724\n",
      "Validation Accuracy: 0.765793528505393\n",
      "Epoch: 11\n"
     ]
    },
    {
     "data": {
      "application/vnd.jupyter.widget-view+json": {
       "model_id": "7b0386d36be4444e8bf601461b50b712",
       "version_major": 2,
       "version_minor": 0
      },
      "text/plain": [
       "Training:   0%|          | 0/379 [00:00<?, ?it/s]"
      ]
     },
     "metadata": {},
     "output_type": "display_data"
    },
    {
     "name": "stdout",
     "output_type": "stream",
     "text": [
      "Train accuracy: 0.8650701899256813, Train loss: 0.48966807549657165\n",
      "Validation Accuracy: 0.773497688751926\n",
      "Best model updated\n",
      "Epoch: 12\n"
     ]
    },
    {
     "data": {
      "application/vnd.jupyter.widget-view+json": {
       "model_id": "190a243ed99e467099c258a8e3acc1ef",
       "version_major": 2,
       "version_minor": 0
      },
      "text/plain": [
       "Training:   0%|          | 0/379 [00:00<?, ?it/s]"
      ]
     },
     "metadata": {},
     "output_type": "display_data"
    },
    {
     "name": "stdout",
     "output_type": "stream",
     "text": [
      "Train accuracy: 0.8701899256812552, Train loss: 0.4657483465753319\n",
      "Validation Accuracy: 0.7677195685670262\n",
      "Epoch: 13\n"
     ]
    },
    {
     "data": {
      "application/vnd.jupyter.widget-view+json": {
       "model_id": "3c33403f8cb24deabd0c2985a3debe9d",
       "version_major": 2,
       "version_minor": 0
      },
      "text/plain": [
       "Training:   0%|          | 0/379 [00:00<?, ?it/s]"
      ]
     },
     "metadata": {},
     "output_type": "display_data"
    },
    {
     "name": "stdout",
     "output_type": "stream",
     "text": [
      "Train accuracy: 0.8763831544178365, Train loss: 0.44918380754368287\n",
      "Validation Accuracy: 0.7700308166409862\n",
      "Epoch: 14\n"
     ]
    },
    {
     "data": {
      "application/vnd.jupyter.widget-view+json": {
       "model_id": "cf75d01b21544362a1b014c9df8f45b9",
       "version_major": 2,
       "version_minor": 0
      },
      "text/plain": [
       "Training:   0%|          | 0/379 [00:00<?, ?it/s]"
      ]
     },
     "metadata": {},
     "output_type": "display_data"
    },
    {
     "name": "stdout",
     "output_type": "stream",
     "text": [
      "Train accuracy: 0.8811725846407927, Train loss: 0.43522463986615706\n",
      "Validation Accuracy: 0.773497688751926\n",
      "Early stopping after 14 epochs\n",
      "Training finished\n",
      "Best validation accuracy:  0.773497688751926\n",
      "Best epoch:  11\n",
      "====================\n",
      "Validation accuracy:  0.773497688751926\n",
      "Test accuracy:  0.7695568400770713\n"
     ]
    }
   ],
   "source": [
    "config['optim_fn'] = model.optim_fn\n",
    "config[\"l2_regularization\"] = model.l2_regularization \n",
    "\n",
    "if config['optim_fn'] == \"sgd\":\n",
    "    optimizer = optim.SGD(model.parameters(), lr=config['LR'], weight_decay=config[\"l2_regularization\"])\n",
    "else:\n",
    "    # Adam is the default optimizer\n",
    "    optimizer = optim.Adam(model.parameters(), lr=config['LR'], weight_decay=config[\"l2_regularization\"])\n",
    "    \n",
    "wandb.config = config\n",
    "\n",
    "if config['DO_TRAIN']:\n",
    "    best_model = do_train(\n",
    "        model=model,\n",
    "        criterion=criterion,\n",
    "        optimizer=optimizer,\n",
    "        batches=batches,\n",
    "        epochs=config['N_EPOCHS'],\n",
    "        patience=config['PATIENCE'],\n",
    "        model_arch=config['MODEL_ARCH'],\n",
    "        device=device\n",
    "    )\n",
    "else:\n",
    "    best_model = torch.load(f\"best_model_{config['MODEL_ARCH']}.pt\").to(device)\n",
    "    \n",
    "    \n",
    "print('='*20)\n",
    "y_pred_val = predict(best_model, batches[\"val\"][\"x\"], device=device)\n",
    "acc_val_three = accuracy_score(val_df[\"label\"], y_pred_val)\n",
    "wandb.log({\"final_val_acc\": acc_val_three})\n",
    "print(\"Validation accuracy: \", acc_val_three)\n",
    "\n",
    "y_pred_test = predict(best_model, batches[\"test\"][\"x\"], device=device)\n",
    "assert y_pred_test.shape == (test_df.shape[0],)\n",
    "\n",
    "acc_test_three = accuracy_score(test_df[\"label\"], y_pred_test)\n",
    "wandb.log({\"test_acc\": acc_test_three})\n",
    "print(\"Test accuracy: \", acc_test_three)"
   ]
  },
  {
   "cell_type": "code",
   "execution_count": 93,
   "metadata": {},
   "outputs": [
    {
     "data": {
      "text/html": [
       "Waiting for W&B process to finish... <strong style=\"color:green\">(success).</strong>"
      ],
      "text/plain": [
       "<IPython.core.display.HTML object>"
      ]
     },
     "metadata": {},
     "output_type": "display_data"
    },
    {
     "data": {
      "application/vnd.jupyter.widget-view+json": {
       "model_id": "60d89337367f49658376754221d1eed4",
       "version_major": 2,
       "version_minor": 0
      },
      "text/plain": [
       "VBox(children=(Label(value='0.002 MB of 0.002 MB uploaded (0.000 MB deduped)\\r'), FloatProgress(value=1.0, max…"
      ]
     },
     "metadata": {},
     "output_type": "display_data"
    },
    {
     "data": {
      "text/html": [
       "<style>\n",
       "    table.wandb td:nth-child(1) { padding: 0 10px; text-align: left ; width: auto;} td:nth-child(2) {text-align: left ; width: 100%}\n",
       "    .wandb-row { display: flex; flex-direction: row; flex-wrap: wrap; justify-content: flex-start; width: 100% }\n",
       "    .wandb-col { display: flex; flex-direction: column; flex-basis: 100%; flex: 1; padding: 10px; }\n",
       "    </style>\n",
       "<div class=\"wandb-row\"><div class=\"wandb-col\"><h3>Run history:</h3><br/><table class=\"wandb\"><tr><td>epoch</td><td>▁▂▂▃▃▄▄▅▅▆▆▇▇█</td></tr><tr><td>final_val_acc</td><td>▁</td></tr><tr><td>test_acc</td><td>▁</td></tr><tr><td>train_acc</td><td>▁▅▆▇▇▇▇▇▇█████</td></tr><tr><td>train_loss</td><td>█▄▃▃▂▂▂▂▂▁▁▁▁▁</td></tr><tr><td>val_acc</td><td>▁▅▇▇▇▇█▇██████</td></tr><tr><td>val_loss</td><td>█▄▂▂▁▁▁▁▁▁▁▁▁▁</td></tr></table><br/></div><div class=\"wandb-col\"><h3>Run summary:</h3><br/><table class=\"wandb\"><tr><td>epoch</td><td>14</td></tr><tr><td>final_val_acc</td><td>0.7735</td></tr><tr><td>test_acc</td><td>0.76956</td></tr><tr><td>train_acc</td><td>0.88117</td></tr><tr><td>train_loss</td><td>0.43522</td></tr><tr><td>val_acc</td><td>0.7735</td></tr><tr><td>val_loss</td><td>0.86294</td></tr></table><br/></div></div>"
      ],
      "text/plain": [
       "<IPython.core.display.HTML object>"
      ]
     },
     "metadata": {},
     "output_type": "display_data"
    },
    {
     "data": {
      "text/html": [
       " View run <strong style=\"color:#cdcd00\">RNN_variation_3</strong> at: <a href='https://wandb.ai/tobiasm/NLPwDL/runs/gl5lqf0h' target=\"_blank\">https://wandb.ai/tobiasm/NLPwDL/runs/gl5lqf0h</a><br/>Synced 6 W&B file(s), 0 media file(s), 0 artifact file(s) and 0 other file(s)"
      ],
      "text/plain": [
       "<IPython.core.display.HTML object>"
      ]
     },
     "metadata": {},
     "output_type": "display_data"
    },
    {
     "data": {
      "text/html": [
       "Find logs at: <code>./wandb/run-20230530_143832-gl5lqf0h/logs</code>"
      ],
      "text/plain": [
       "<IPython.core.display.HTML object>"
      ]
     },
     "metadata": {},
     "output_type": "display_data"
    }
   ],
   "source": [
    "wandb.finish()"
   ]
  },
  {
   "cell_type": "markdown",
   "metadata": {},
   "source": [
    "## **Reporting and discussion (2 points)** \n",
    "\n",
    "Report the evaluation results of the baseline model, as well as the ones for all the variations in a table and also in a plot. Discuss which variation(s) appear to be the most effective. Explain your take."
   ]
  },
  {
   "cell_type": "code",
   "execution_count": 94,
   "metadata": {
    "collapsed": false,
    "jupyter": {
     "outputs_hidden": false
    }
   },
   "outputs": [
    {
     "data": {
      "text/html": [
       "<div>\n",
       "<style scoped>\n",
       "    .dataframe tbody tr th:only-of-type {\n",
       "        vertical-align: middle;\n",
       "    }\n",
       "\n",
       "    .dataframe tbody tr th {\n",
       "        vertical-align: top;\n",
       "    }\n",
       "\n",
       "    .dataframe thead th {\n",
       "        text-align: right;\n",
       "    }\n",
       "</style>\n",
       "<table border=\"1\" class=\"dataframe\">\n",
       "  <thead>\n",
       "    <tr style=\"text-align: right;\">\n",
       "      <th></th>\n",
       "      <th>Run</th>\n",
       "      <th>Description</th>\n",
       "      <th>Validation Accuracy</th>\n",
       "      <th>Test Accuracy</th>\n",
       "    </tr>\n",
       "  </thead>\n",
       "  <tbody>\n",
       "    <tr>\n",
       "      <th>0</th>\n",
       "      <td>Baseline</td>\n",
       "      <td>Baseline with LSTM</td>\n",
       "      <td>0.583205</td>\n",
       "      <td>0.588825</td>\n",
       "    </tr>\n",
       "    <tr>\n",
       "      <th>1</th>\n",
       "      <td>Variation 1</td>\n",
       "      <td>GRU instead of LSTM</td>\n",
       "      <td>0.745763</td>\n",
       "      <td>0.751830</td>\n",
       "    </tr>\n",
       "    <tr>\n",
       "      <th>2</th>\n",
       "      <td>Variation 2</td>\n",
       "      <td>SGD optimizer instead of Adam</td>\n",
       "      <td>0.712250</td>\n",
       "      <td>0.714066</td>\n",
       "    </tr>\n",
       "    <tr>\n",
       "      <th>3</th>\n",
       "      <td>Variation 3</td>\n",
       "      <td>bidirectional LSTM</td>\n",
       "      <td>0.773498</td>\n",
       "      <td>0.769557</td>\n",
       "    </tr>\n",
       "  </tbody>\n",
       "</table>\n",
       "</div>"
      ],
      "text/plain": [
       "           Run                    Description  Validation Accuracy  \\\n",
       "0     Baseline             Baseline with LSTM             0.583205   \n",
       "1  Variation 1            GRU instead of LSTM             0.745763   \n",
       "2  Variation 2  SGD optimizer instead of Adam             0.712250   \n",
       "3  Variation 3             bidirectional LSTM             0.773498   \n",
       "\n",
       "   Test Accuracy  \n",
       "0       0.588825  \n",
       "1       0.751830  \n",
       "2       0.714066  \n",
       "3       0.769557  "
      ]
     },
     "execution_count": 94,
     "metadata": {},
     "output_type": "execute_result"
    }
   ],
   "source": [
    "report = pd.DataFrame(\n",
    "    {\n",
    "        \"Run\": ['Baseline', 'Variation 1', 'Variation 2', 'Variation 3'],\n",
    "        \"Description\": ['Baseline with LSTM', 'GRU instead of LSTM', 'SGD optimizer instead of Adam', 'bidirectional LSTM'],\n",
    "        \"Validation Accuracy\": [acc_val_baseline, acc_val_one, acc_val_two, acc_val_three],\n",
    "        \"Test Accuracy\": [acc_test_baseline, acc_test_one, acc_test_two, acc_test_three],\n",
    "    }\n",
    ")\n",
    "report"
   ]
  },
  {
   "cell_type": "code",
   "execution_count": 95,
   "metadata": {},
   "outputs": [],
   "source": [
    "report_df = pd.DataFrame({})\n",
    "report_df['Run'] = pd.concat([report['Run'], report['Run']])\n",
    "report_df['Description'] = pd.concat([report['Description'], report['Description']])\n",
    "report_df['acc'] = pd.concat([report['Validation Accuracy'], report['Test Accuracy']])\n",
    "report_df['set'] = ['val'] * 4 + ['test'] * 4"
   ]
  },
  {
   "cell_type": "code",
   "execution_count": 96,
   "metadata": {},
   "outputs": [],
   "source": [
    "import seaborn as sns"
   ]
  },
  {
   "cell_type": "code",
   "execution_count": 97,
   "metadata": {},
   "outputs": [
    {
     "data": {
      "text/plain": [
       "(0.4, 0.85)"
      ]
     },
     "execution_count": 97,
     "metadata": {},
     "output_type": "execute_result"
    },
    {
     "data": {
      "image/png": "[encoded data removed]",
      "text/plain": [
       "<Figure size 640x480 with 1 Axes>"
      ]
     },
     "metadata": {},
     "output_type": "display_data"
    }
   ],
   "source": [
    "sns.barplot(report_df, x='Run', y='acc', hue='set').set_ylim(0.4, 0.85)"
   ]
  },
  {
   "cell_type": "markdown",
   "metadata": {},
   "source": [
    "The third variation, using a bidirectional LSTM network seems to be most effective. \n",
    "Since our experiments are not deterministic, results of the same experiments can differ heavily. \n",
    "In an optimal situation, we would analyze the performance of different experiments over a few runs (per experiment) and we would implement a learning rate scheduler with decreasing learning rate at the end.\n",
    "\n",
    "To sum up, there is a clear performance increase when we use a bidirectional LSTM network and the other experiments perform very similar. Depending on the i"
   ]
  },
  {
   "cell_type": "markdown",
   "metadata": {},
   "source": [
    "<a name=\"section-classification-attention\"></a><h2 style=\"color:rgb(0,120,170)\">Task C: Document Classification with Attention (15 points)</h2>"
   ]
  },
  {
   "attachments": {
    "att_model.png": {
     "image/png": "[encoded data removed]"
    }
   },
   "cell_type": "markdown",
   "metadata": {},
   "source": [
    "<div style=\"background-color:rgb(224, 243, 255)\">\n",
    "    \n",
    "This task implements a document classification model using Attention networks. The model is called **`ClassificationAttentionModel`** in the code, containing all various variants as explained later. The basic architecture of `ClassificationAttentionModel` is shown in the figure below.\n",
    "\n",
    "<img src=\"attachment:att_model.png\" alt=\"Drawing\" style=\"width: 290px;\"/>\n",
    "\n",
    "The implementation of the basic architecture of `ClassificationAttentionModel` should cover the following points:\n",
    "\n",
    "**Baseline model**  \n",
    "\n",
    "- **Embeddings & RNN Layer (1 points).** The baseline model first fetches the corresponding embeddings of the word IDs of a given batch. Next, a bidirectional LSTM/GRU layer is applied to the word embeddings. The hidden states of this RNN model can be seen as the contextual embeddings of the underlying word embeddings, and will be used in the next layer instead of the original word embeddings.\n",
    "\n",
    "- **Attention Layer (4 points).** This Attention layer should be implemented by you from scratch without using any specific library/class. Here, you implement the baseline Attention layer following the formulation of the (single-head) **basic dot-product Attention**. In this model, Query vector is defined in the model's initialization as *a vector of learnable parameters*, whose values are learned together with the other model's parameters during training. The hidden states of the previous layer are passed as the values (and keys) to the Attention layer, where the Query vector is the query of the Attention. An important point in the forward pass of the Attention layer is correctly setting the padding masks, which mask out the attention weights of the padded tokens of each batch. The masks excludes the corresponding vectors of these padded tokens from the calculations in Attention. If the mask is not passed correctly, the padded items will be counted in the Softmax of the Attention layer, and influence other attention weights. A sign that the baseline model is working correctly is that the final attention weights of the corresponding vectors of the padded tokens are equal to zero. \n",
    "\n",
    "- **Prediction Layer (1 points).** The output of the Attention layer for each batch is the corresponding document embedding, passed to the decoder layer (a linear projection) and softmax to predict the probability distribution of the output classes.\n",
    "\n",
    "- **General model functionality (1 points).** \n",
    "\n",
    "\n",
    "**Model variations:** Implement the **two variations** of the baseline model as explained below. Each variation applies only one change to the baseline architecture, making it possible to study the effect of the change. The code of all variations should be inside `ClassificationAttentionModel`, and executing a variation should be done by simply passing the corresponding parameters of the variation to the model. \n",
    "\n",
    "- **No RNN (1 point).** Run the model without the RNN layer.\n",
    "\n",
    "- **Another attention variation (1 point).** Implement another type of single-head Attention other than basic dot-product.\n",
    "\n",
    "**Reporting and discussion (1 point).** Report the evaluation results of the baseline model, as well as the ones for all the variations in a table and also in a plot. Discuss which variation(s) appear to be the most effective. Explain your take.\n",
    "\n",
    "\n",
    "</div>"
   ]
  },
  {
   "cell_type": "code",
   "execution_count": 98,
   "metadata": {},
   "outputs": [],
   "source": [
    "class DotProductAttention(nn.Module):\n",
    "    def __init__(self, hidden_size):\n",
    "        \"\"\"\n",
    "        Calculate the attention weights using the dot-product of the query and keys.\n",
    "        :param hidden_size: the size of the hidden state\n",
    "        \"\"\"\n",
    "        super(DotProductAttention, self).__init__()\n",
    "        self.query = nn.Parameter(torch.randn(hidden_size))\n",
    "\n",
    "    def forward(self, values, keys, mask=None):\n",
    "        \"\"\"\n",
    "        :param values: (batch_size, seq_len, hidden_size)\n",
    "        :param keys: (batch_size, seq_len, hidden_size)\n",
    "        :param mask: (batch_size, seq_len)\n",
    "        :return: attention: (batch_size, hidden_size)\n",
    "                 attention_weights: (batch_size, seq_len)\n",
    "        \"\"\"\n",
    "        # Calculate the attention weights\n",
    "        attention_weights = torch.matmul(keys, self.query)\n",
    "        attention_weights = attention_weights / math.sqrt(self.query.size(0))\n",
    "        \n",
    "        # Mask the attention weights\n",
    "        if mask is not None:\n",
    "            attention_weights = attention_weights.masked_fill(mask == 0, -1e9)\n",
    "            \n",
    "        # Softmax\n",
    "        attention_weights = F.softmax(attention_weights, dim=1)\n",
    "        \n",
    "        # Calculate the attention\n",
    "        attention = torch.matmul(attention_weights.unsqueeze(1), values).squeeze(1)\n",
    "        return attention, attention_weights\n",
    "\n",
    "    \n",
    "class AdditiveAttention(nn.Module):\n",
    "    def __init__(self, hidden_size):\n",
    "        \"\"\"\n",
    "        Calculate the attention weights using the additive-product of the query and keys.\n",
    "        :param hidden_size: the size of the hidden state\n",
    "        \"\"\"\n",
    "        super(AdditiveAttention, self).__init__()\n",
    "        self.query = nn.Parameter(torch.randn(hidden_size, 1))\n",
    "        self.W = torch.nn.Linear(hidden_size*2, hidden_size)\n",
    "        \n",
    "        # initialization\n",
    "        nn.init.normal_(self.query, 0, 0.1)\n",
    "        \n",
    "    def forward(self, values, keys, mask=None):\n",
    "        \"\"\"\n",
    "        :param values: (batch_size, seq_len, hidden_size)\n",
    "        :param keys: (batch_size, seq_len, hidden_size)\n",
    "        :param mask: (batch_size, seq_len)\n",
    "        :return: attention: (batch_size, hidden_size)\n",
    "                 attention_weights: (batch_size, seq_len)\n",
    "        \"\"\"\n",
    "        \n",
    "        B, T, H = keys.size()\n",
    "        \n",
    "        # compute energy \n",
    "        feats = torch.cat((values, keys), dim=2)\n",
    "        feats = feats.permute(1, 0, 2)  # 100 x 32 x 512\n",
    "        energy = torch.tanh(self.W(feats))  # 100 x 32 x 256\n",
    "        \n",
    "        # compute attention scores\n",
    "        query = self.query.t().repeat(B, 1, 1)\n",
    "        energy = energy.permute(1, 2, 0)  # 32 x 256 x 100\n",
    "        \n",
    "        scores = torch.bmm(query, energy)\n",
    "        \n",
    "        # apply mask, renormalize\n",
    "        if mask is not None: \n",
    "            scores = scores * mask\n",
    "        \n",
    "        scores.div_(scores.sum(2, keepdim=True))\n",
    "        \n",
    "        combo = torch.bmm(scores, keys).squeeze(1)\n",
    "        \n",
    "        return (combo, scores)\n",
    "    \n",
    "        \n",
    "class ClassificationAttentionModel(ClassificationAverageModel):\n",
    "    def __init__(\n",
    "            self,\n",
    "            lookup,\n",
    "            num_classes,\n",
    "            freeze_embeddings=False,\n",
    "            random_embeddings=False,\n",
    "            hidden_size=128,\n",
    "            bidirectional=True,\n",
    "            dropout=0.5,\n",
    "            attention_type=\"dot\",\n",
    "            rnn_type=\"LSTM\",\n",
    "            no_rnn=False,\n",
    "    ):\n",
    "        \"\"\"\n",
    "        Initialize the model\n",
    "        :param freeze_embeddings: Whether to freeze the embeddings or not\n",
    "        :param random_embeddings: Whether to initialize the embeddings randomly or not\n",
    "        :param hidden_size: Hidden size of the LSTM\n",
    "        :param bidirectional: Whether to use a bidirectional LSTM or not\n",
    "        :param dropout: Dropout rate\n",
    "        :param attention_type: Type of attention to use\n",
    "        :param rnn_type: Type of RNN to use\n",
    "        \"\"\"\n",
    "        super().__init__(lookup, num_classes)\n",
    "        self.freeze_embeddings = freeze_embeddings\n",
    "        self.random_embeddings = random_embeddings\n",
    "        self.hidden_size = hidden_size\n",
    "        self.bidirectional = bidirectional\n",
    "        self.dropout = dropout\n",
    "        self.embedding_dim = lookup.embedding_dim\n",
    "        self.attention_type = attention_type\n",
    "        self.rnn_type = rnn_type\n",
    "        self.no_rnn = no_rnn\n",
    "\n",
    "        self.rnn = None\n",
    "        self.attention = None\n",
    "        self.decoder = None\n",
    "        self._build_model()\n",
    "\n",
    "    def _build_model(self):\n",
    "        \"\"\"\n",
    "        Build the model\n",
    "        :return: None\n",
    "        \"\"\"\n",
    "        # Embeddings\n",
    "        if self.random_embeddings:\n",
    "            self.lookup = nn.Embedding.from_pretrained(\n",
    "                torch.randn(self.vocab_size, self.embedding_dim)\n",
    "            )\n",
    "        if self.freeze_embeddings:\n",
    "            self.lookup.weight.requires_grad = False\n",
    "        # RNN\n",
    "        if self.no_rnn:\n",
    "            self.rnn = None\n",
    "        else:\n",
    "            if self.rnn_type == \"LSTM\":\n",
    "                self.rnn = nn.LSTM(\n",
    "                    input_size=self.embedding_dim,\n",
    "                    hidden_size=self.hidden_size,\n",
    "                    num_layers=1,\n",
    "                    batch_first=True,\n",
    "                    bidirectional=self.bidirectional\n",
    "                )\n",
    "            elif self.rnn_type == \"GRU\":\n",
    "                self.rnn = nn.GRU(\n",
    "                    input_size=self.embedding_dim,\n",
    "                    hidden_size=self.hidden_size,\n",
    "                    num_layers=1,\n",
    "                    batch_first=True,\n",
    "                    bidirectional=self.bidirectional\n",
    "                )\n",
    "        # Attention\n",
    "        attention = None\n",
    "        if self.attention_type == 'dot': \n",
    "            if self.no_rnn:\n",
    "                self.attention = DotProductAttention(self.embedding_dim)\n",
    "            else:\n",
    "                self.attention = DotProductAttention(self.hidden_size * 2 if self.bidirectional else self.hidden_size)\n",
    "        elif self.attention_type == 'add': \n",
    "            if self.no_rnn:\n",
    "                self.attention = AdditiveAttention(self.embedding_dim)\n",
    "            else:\n",
    "                self.attention = AdditiveAttention(self.hidden_size * 2 if self.bidirectional else self.hidden_size)\n",
    "            \n",
    "\n",
    "        # Decoder\n",
    "        if self.no_rnn:\n",
    "            self.decoder = nn.Linear(self.embedding_dim, self.num_classes)\n",
    "        else:\n",
    "            self.decoder = nn.Linear(self.hidden_size * 2 if self.bidirectional else self.hidden_size, self.num_classes)\n",
    "\n",
    "        # Dropout\n",
    "        self.dropout = nn.Dropout(self.dropout)\n",
    "\n",
    "    def forward(self, x):\n",
    "        \"\"\"\n",
    "        Forward pass\n",
    "        :param x: Input\n",
    "        :return: Output\n",
    "        \"\"\"\n",
    "        # Embeddings\n",
    "        x = self.lookup(x)\n",
    "        \n",
    "        # RNN\n",
    "        if self.no_rnn:\n",
    "            x = x\n",
    "        elif self.rnn_type == \"LSTM\":\n",
    "            x, _ = self.rnn(x)\n",
    "        elif self.rnn_type == \"GRU\":\n",
    "            x, _ = self.rnn(x)\n",
    "            \n",
    "        # Attention\n",
    "        x, _ = self.attention(x, x)\n",
    "        \n",
    "        # Decoder\n",
    "        x = self.decoder(x)\n",
    "        return x"
   ]
  },
  {
   "cell_type": "markdown",
   "metadata": {},
   "source": [
    "## Baseline model"
   ]
  },
  {
   "cell_type": "code",
   "execution_count": 99,
   "metadata": {},
   "outputs": [
    {
     "data": {
      "text/html": [
       "wandb version 0.15.3 is available!  To upgrade, please run:\n",
       " $ pip install wandb --upgrade"
      ],
      "text/plain": [
       "<IPython.core.display.HTML object>"
      ]
     },
     "metadata": {},
     "output_type": "display_data"
    },
    {
     "data": {
      "text/html": [
       "Tracking run with wandb version 0.14.0"
      ],
      "text/plain": [
       "<IPython.core.display.HTML object>"
      ]
     },
     "metadata": {},
     "output_type": "display_data"
    },
    {
     "data": {
      "text/html": [
       "Run data is saved locally in <code>/home/tobi/Documents/nlp/nlp-course-2022w/wandb/run-20230530_144120-bgzor5e2</code>"
      ],
      "text/plain": [
       "<IPython.core.display.HTML object>"
      ]
     },
     "metadata": {},
     "output_type": "display_data"
    },
    {
     "data": {
      "text/html": [
       "Syncing run <strong><a href='https://wandb.ai/tobiasm/NLPwDL/runs/bgzor5e2' target=\"_blank\">attention_baseline</a></strong> to <a href='https://wandb.ai/tobiasm/NLPwDL' target=\"_blank\">Weights & Biases</a> (<a href='https://wandb.me/run' target=\"_blank\">docs</a>)<br/>"
      ],
      "text/plain": [
       "<IPython.core.display.HTML object>"
      ]
     },
     "metadata": {},
     "output_type": "display_data"
    },
    {
     "data": {
      "text/html": [
       " View project at <a href='https://wandb.ai/tobiasm/NLPwDL' target=\"_blank\">https://wandb.ai/tobiasm/NLPwDL</a>"
      ],
      "text/plain": [
       "<IPython.core.display.HTML object>"
      ]
     },
     "metadata": {},
     "output_type": "display_data"
    },
    {
     "data": {
      "text/html": [
       " View run at <a href='https://wandb.ai/tobiasm/NLPwDL/runs/bgzor5e2' target=\"_blank\">https://wandb.ai/tobiasm/NLPwDL/runs/bgzor5e2</a>"
      ],
      "text/plain": [
       "<IPython.core.display.HTML object>"
      ]
     },
     "metadata": {},
     "output_type": "display_data"
    },
    {
     "data": {
      "text/html": [
       "<button onClick=\"this.nextSibling.style.display='block';this.style.display='none';\">Display W&B run</button><iframe src='https://wandb.ai/tobiasm/NLPwDL/runs/bgzor5e2?jupyter=true' style='border:none;width:100%;height:420px;display:none;'></iframe>"
      ],
      "text/plain": [
       "<wandb.sdk.wandb_run.Run at 0x7fbae0bea190>"
      ]
     },
     "execution_count": 99,
     "metadata": {},
     "output_type": "execute_result"
    }
   ],
   "source": [
    "config['MODEL_ARCH'] = 'attention_baseline'\n",
    "wandb.init(project=\"NLPwDL\", entity=\"tobiasm\", name=config['MODEL_ARCH'])"
   ]
  },
  {
   "cell_type": "code",
   "execution_count": 100,
   "metadata": {
    "collapsed": false,
    "jupyter": {
     "outputs_hidden": false
    }
   },
   "outputs": [],
   "source": [
    "model = ClassificationAttentionModel(\n",
    "    lookup=lookup.to(device),\n",
    "    num_classes=np.unique(train_df[\"label\"]).shape[0],\n",
    "    attention_type=\"dot\",\n",
    ").to(device)"
   ]
  },
  {
   "cell_type": "code",
   "execution_count": 101,
   "metadata": {
    "collapsed": false,
    "jupyter": {
     "outputs_hidden": false
    }
   },
   "outputs": [],
   "source": [
    "from torch import optim\n",
    "\n",
    "config['LOSS'] = \"ce\"\n",
    "if config['LOSS'] == \"nll\":\n",
    "    criterion = nn.NLLLoss()\n",
    "else:\n",
    "    # Cross Entropy is the default loss function\n",
    "    criterion = nn.CrossEntropyLoss()"
   ]
  },
  {
   "cell_type": "code",
   "execution_count": 102,
   "metadata": {
    "collapsed": false,
    "jupyter": {
     "outputs_hidden": false
    }
   },
   "outputs": [],
   "source": [
    "config['LR'] = 1e-4\n",
    "config['optim_fn'] = \"adam\"\n",
    "\n",
    "if config['optim_fn'] == \"sgd\":\n",
    "    optimizer = optim.SGD(model.parameters(), lr=config['LR'])\n",
    "else:\n",
    "    # Adam is the default optimizer\n",
    "    optimizer = optim.Adam(model.parameters(), lr=config['LR'])"
   ]
  },
  {
   "cell_type": "code",
   "execution_count": 103,
   "metadata": {
    "collapsed": false,
    "jupyter": {
     "outputs_hidden": false
    }
   },
   "outputs": [],
   "source": [
    "config['N_EPOCHS'] = 20\n",
    "config['PATIENCE'] = 3\n",
    "config['DO_TRAIN'] = True\n",
    "\n",
    "wandb.config = config"
   ]
  },
  {
   "cell_type": "code",
   "execution_count": 104,
   "metadata": {
    "collapsed": false,
    "jupyter": {
     "outputs_hidden": false
    }
   },
   "outputs": [
    {
     "name": "stdout",
     "output_type": "stream",
     "text": [
      "Start training!\n",
      "===============\n",
      "Optimizer: adam, Loss: ce, LR: 0.0001\n",
      "Epochs: 20, Patience: 3\n",
      "=======================\n",
      "\n"
     ]
    },
    {
     "data": {
      "application/vnd.jupyter.widget-view+json": {
       "model_id": "d346af7bb1ae44889195bb82ab9c53ed",
       "version_major": 2,
       "version_minor": 0
      },
      "text/plain": [
       "Epochs:   0%|          | 0/20 [00:00<?, ?it/s]"
      ]
     },
     "metadata": {},
     "output_type": "display_data"
    },
    {
     "name": "stdout",
     "output_type": "stream",
     "text": [
      "Epoch: 1\n"
     ]
    },
    {
     "data": {
      "application/vnd.jupyter.widget-view+json": {
       "model_id": "59f15e690a4b4f80a5951df2b8bac463",
       "version_major": 2,
       "version_minor": 0
      },
      "text/plain": [
       "Training:   0%|          | 0/379 [00:00<?, ?it/s]"
      ]
     },
     "metadata": {},
     "output_type": "display_data"
    },
    {
     "name": "stdout",
     "output_type": "stream",
     "text": [
      "Train accuracy: 0.6625928984310487, Train loss: 1.312353300780923\n",
      "Validation Accuracy: 0.7553929121725732\n",
      "Best model updated\n",
      "Epoch: 2\n"
     ]
    },
    {
     "data": {
      "application/vnd.jupyter.widget-view+json": {
       "model_id": "985a80e0dc134c2a93b73b936bf66b56",
       "version_major": 2,
       "version_minor": 0
      },
      "text/plain": [
       "Training:   0%|          | 0/379 [00:00<?, ?it/s]"
      ]
     },
     "metadata": {},
     "output_type": "display_data"
    },
    {
     "name": "stdout",
     "output_type": "stream",
     "text": [
      "Train accuracy: 0.8203137902559868, Train loss: 0.6520741636174335\n",
      "Validation Accuracy: 0.7692604006163328\n",
      "Best model updated\n",
      "Epoch: 3\n"
     ]
    },
    {
     "data": {
      "application/vnd.jupyter.widget-view+json": {
       "model_id": "3a6ea81c649c421db30ef0b81a3c3e7b",
       "version_major": 2,
       "version_minor": 0
      },
      "text/plain": [
       "Training:   0%|          | 0/379 [00:00<?, ?it/s]"
      ]
     },
     "metadata": {},
     "output_type": "display_data"
    },
    {
     "name": "stdout",
     "output_type": "stream",
     "text": [
      "Train accuracy: 0.8402972749793559, Train loss: 0.5642870753059915\n",
      "Validation Accuracy: 0.7754237288135594\n",
      "Best model updated\n",
      "Epoch: 4\n"
     ]
    },
    {
     "data": {
      "application/vnd.jupyter.widget-view+json": {
       "model_id": "b0e6208c27af42a18a32759abeed5644",
       "version_major": 2,
       "version_minor": 0
      },
      "text/plain": [
       "Training:   0%|          | 0/379 [00:00<?, ?it/s]"
      ]
     },
     "metadata": {},
     "output_type": "display_data"
    },
    {
     "name": "stdout",
     "output_type": "stream",
     "text": [
      "Train accuracy: 0.8556564822460776, Train loss: 0.5137823109261908\n",
      "Validation Accuracy: 0.7788906009244992\n",
      "Best model updated\n",
      "Epoch: 5\n"
     ]
    },
    {
     "data": {
      "application/vnd.jupyter.widget-view+json": {
       "model_id": "bd3c4b05bc684dc699c9d725cb07913c",
       "version_major": 2,
       "version_minor": 0
      },
      "text/plain": [
       "Training:   0%|          | 0/379 [00:00<?, ?it/s]"
      ]
     },
     "metadata": {},
     "output_type": "display_data"
    },
    {
     "name": "stdout",
     "output_type": "stream",
     "text": [
      "Train accuracy: 0.8684558216350123, Train loss: 0.47437879655480697\n",
      "Validation Accuracy: 0.7835130970724191\n",
      "Best model updated\n",
      "Epoch: 6\n"
     ]
    },
    {
     "data": {
      "application/vnd.jupyter.widget-view+json": {
       "model_id": "e6a63d94dfa94fc79a3f4223610cb048",
       "version_major": 2,
       "version_minor": 0
      },
      "text/plain": [
       "Training:   0%|          | 0/379 [00:00<?, ?it/s]"
      ]
     },
     "metadata": {},
     "output_type": "display_data"
    },
    {
     "name": "stdout",
     "output_type": "stream",
     "text": [
      "Train accuracy: 0.8802642444260942, Train loss: 0.44183929423779483\n",
      "Validation Accuracy: 0.7838983050847458\n",
      "Best model updated\n",
      "Epoch: 7\n"
     ]
    },
    {
     "data": {
      "application/vnd.jupyter.widget-view+json": {
       "model_id": "a1fa0323bc8f4a03a6428b7c7b534419",
       "version_major": 2,
       "version_minor": 0
      },
      "text/plain": [
       "Training:   0%|          | 0/379 [00:00<?, ?it/s]"
      ]
     },
     "metadata": {},
     "output_type": "display_data"
    },
    {
     "name": "stdout",
     "output_type": "stream",
     "text": [
      "Train accuracy: 0.8882741535920726, Train loss: 0.4128262230187733\n",
      "Validation Accuracy: 0.786979969183359\n",
      "Best model updated\n",
      "Epoch: 8\n"
     ]
    },
    {
     "data": {
      "application/vnd.jupyter.widget-view+json": {
       "model_id": "9adc5b75ea914f6dbdccc4315b5dd350",
       "version_major": 2,
       "version_minor": 0
      },
      "text/plain": [
       "Training:   0%|          | 0/379 [00:00<?, ?it/s]"
      ]
     },
     "metadata": {},
     "output_type": "display_data"
    },
    {
     "name": "stdout",
     "output_type": "stream",
     "text": [
      "Train accuracy: 0.8958711808422791, Train loss: 0.38783545308503126\n",
      "Validation Accuracy: 0.7873651771956857\n",
      "Best model updated\n",
      "Epoch: 9\n"
     ]
    },
    {
     "data": {
      "application/vnd.jupyter.widget-view+json": {
       "model_id": "8b150a273fe14c94a542b4829e113bf9",
       "version_major": 2,
       "version_minor": 0
      },
      "text/plain": [
       "Training:   0%|          | 0/379 [00:00<?, ?it/s]"
      ]
     },
     "metadata": {},
     "output_type": "display_data"
    },
    {
     "name": "stdout",
     "output_type": "stream",
     "text": [
      "Train accuracy: 0.9028075970272502, Train loss: 0.36443957352229345\n",
      "Validation Accuracy: 0.7927580893682589\n",
      "Best model updated\n",
      "Epoch: 10\n"
     ]
    },
    {
     "data": {
      "application/vnd.jupyter.widget-view+json": {
       "model_id": "384733009ab74a87826aa634d9dc4cf4",
       "version_major": 2,
       "version_minor": 0
      },
      "text/plain": [
       "Training:   0%|          | 0/379 [00:00<?, ?it/s]"
      ]
     },
     "metadata": {},
     "output_type": "display_data"
    },
    {
     "name": "stdout",
     "output_type": "stream",
     "text": [
      "Train accuracy: 0.9087530966143683, Train loss: 0.344635235838651\n",
      "Validation Accuracy: 0.7946841294298922\n",
      "Best model updated\n",
      "Epoch: 11\n"
     ]
    },
    {
     "data": {
      "application/vnd.jupyter.widget-view+json": {
       "model_id": "0931d17719cf41b19f57157b0aa6c5b3",
       "version_major": 2,
       "version_minor": 0
      },
      "text/plain": [
       "Training:   0%|          | 0/379 [00:00<?, ?it/s]"
      ]
     },
     "metadata": {},
     "output_type": "display_data"
    },
    {
     "name": "stdout",
     "output_type": "stream",
     "text": [
      "Train accuracy: 0.9143682906688687, Train loss: 0.3243303959869772\n",
      "Validation Accuracy: 0.7873651771956857\n",
      "Epoch: 12\n"
     ]
    },
    {
     "data": {
      "application/vnd.jupyter.widget-view+json": {
       "model_id": "3111b5c8b9754870aec3d6b1479e5861",
       "version_major": 2,
       "version_minor": 0
      },
      "text/plain": [
       "Training:   0%|          | 0/379 [00:00<?, ?it/s]"
      ]
     },
     "metadata": {},
     "output_type": "display_data"
    },
    {
     "name": "stdout",
     "output_type": "stream",
     "text": [
      "Train accuracy: 0.9199009083402147, Train loss: 0.30703367483568694\n",
      "Validation Accuracy: 0.7900616332819723\n",
      "Epoch: 13\n"
     ]
    },
    {
     "data": {
      "application/vnd.jupyter.widget-view+json": {
       "model_id": "a4e3ff4870e24fbabec97e0e008c397a",
       "version_major": 2,
       "version_minor": 0
      },
      "text/plain": [
       "Training:   0%|          | 0/379 [00:00<?, ?it/s]"
      ]
     },
     "metadata": {},
     "output_type": "display_data"
    },
    {
     "name": "stdout",
     "output_type": "stream",
     "text": [
      "Train accuracy: 0.9264244426094137, Train loss: 0.28456092817527007\n",
      "Validation Accuracy: 0.7900616332819723\n",
      "Early stopping after 13 epochs\n",
      "Training finished\n",
      "Best validation accuracy:  0.7946841294298922\n",
      "Best epoch:  10\n"
     ]
    }
   ],
   "source": [
    "import math\n",
    "\n",
    "if config['DO_TRAIN']:\n",
    "    best_model = do_train(\n",
    "        model=model,\n",
    "        criterion=criterion,\n",
    "        optimizer=optimizer,\n",
    "        batches=batches,\n",
    "        epochs=config['N_EPOCHS'],\n",
    "        patience=config['PATIENCE'],\n",
    "        model_arch=config['MODEL_ARCH'],\n",
    "        device=device\n",
    "    )\n",
    "else:\n",
    "    best_model = torch.load(f\"best_model_{config['MODEL_ARCH']}.pt\").to(device)"
   ]
  },
  {
   "cell_type": "code",
   "execution_count": 105,
   "metadata": {},
   "outputs": [
    {
     "name": "stdout",
     "output_type": "stream",
     "text": [
      "Validation accuracy:  0.7946841294298922\n",
      "Test accuracy:  0.8011560693641618\n"
     ]
    }
   ],
   "source": [
    "y_pred_val = predict(best_model, batches[\"val\"][\"x\"], device=device)\n",
    "acc_val_baseline = accuracy_score(val_df[\"label\"], y_pred_val)\n",
    "wandb.log({\"final_val_acc\": acc_val_baseline})\n",
    "print(\"Validation accuracy: \", acc_val_baseline)\n",
    "\n",
    "y_pred_test = predict(best_model, batches[\"test\"][\"x\"], device=device)\n",
    "assert y_pred_test.shape == (test_df.shape[0],)\n",
    "\n",
    "acc_test_baseline = accuracy_score(test_df[\"label\"], y_pred_test)\n",
    "wandb.log({\"test_acc\": acc_test_baseline})\n",
    "print(\"Test accuracy: \", acc_test_baseline)"
   ]
  },
  {
   "cell_type": "code",
   "execution_count": 106,
   "metadata": {},
   "outputs": [
    {
     "data": {
      "text/html": [
       "Waiting for W&B process to finish... <strong style=\"color:green\">(success).</strong>"
      ],
      "text/plain": [
       "<IPython.core.display.HTML object>"
      ]
     },
     "metadata": {},
     "output_type": "display_data"
    },
    {
     "data": {
      "application/vnd.jupyter.widget-view+json": {
       "model_id": "0d908c46abfa46c7b393ecd94a6ab2e4",
       "version_major": 2,
       "version_minor": 0
      },
      "text/plain": [
       "VBox(children=(Label(value='0.002 MB of 0.002 MB uploaded (0.000 MB deduped)\\r'), FloatProgress(value=1.0, max…"
      ]
     },
     "metadata": {},
     "output_type": "display_data"
    },
    {
     "data": {
      "text/html": [
       "<style>\n",
       "    table.wandb td:nth-child(1) { padding: 0 10px; text-align: left ; width: auto;} td:nth-child(2) {text-align: left ; width: 100%}\n",
       "    .wandb-row { display: flex; flex-direction: row; flex-wrap: wrap; justify-content: flex-start; width: 100% }\n",
       "    .wandb-col { display: flex; flex-direction: column; flex-basis: 100%; flex: 1; padding: 10px; }\n",
       "    </style>\n",
       "<div class=\"wandb-row\"><div class=\"wandb-col\"><h3>Run history:</h3><br/><table class=\"wandb\"><tr><td>epoch</td><td>▁▂▂▃▃▄▅▅▆▆▇▇█</td></tr><tr><td>final_val_acc</td><td>▁</td></tr><tr><td>test_acc</td><td>▁</td></tr><tr><td>train_acc</td><td>▁▅▆▆▆▇▇▇▇████</td></tr><tr><td>train_loss</td><td>█▄▃▃▂▂▂▂▂▁▁▁▁</td></tr><tr><td>val_acc</td><td>▁▃▅▅▆▆▇▇██▇▇▇</td></tr><tr><td>val_loss</td><td>█▄▃▂▂▂▁▂▁▂▂▂▂</td></tr></table><br/></div><div class=\"wandb-col\"><h3>Run summary:</h3><br/><table class=\"wandb\"><tr><td>epoch</td><td>13</td></tr><tr><td>final_val_acc</td><td>0.79468</td></tr><tr><td>test_acc</td><td>0.80116</td></tr><tr><td>train_acc</td><td>0.92642</td></tr><tr><td>train_loss</td><td>0.28456</td></tr><tr><td>val_acc</td><td>0.79006</td></tr><tr><td>val_loss</td><td>0.7606</td></tr></table><br/></div></div>"
      ],
      "text/plain": [
       "<IPython.core.display.HTML object>"
      ]
     },
     "metadata": {},
     "output_type": "display_data"
    },
    {
     "data": {
      "text/html": [
       " View run <strong style=\"color:#cdcd00\">attention_baseline</strong> at: <a href='https://wandb.ai/tobiasm/NLPwDL/runs/bgzor5e2' target=\"_blank\">https://wandb.ai/tobiasm/NLPwDL/runs/bgzor5e2</a><br/>Synced 6 W&B file(s), 0 media file(s), 0 artifact file(s) and 0 other file(s)"
      ],
      "text/plain": [
       "<IPython.core.display.HTML object>"
      ]
     },
     "metadata": {},
     "output_type": "display_data"
    },
    {
     "data": {
      "text/html": [
       "Find logs at: <code>./wandb/run-20230530_144120-bgzor5e2/logs</code>"
      ],
      "text/plain": [
       "<IPython.core.display.HTML object>"
      ]
     },
     "metadata": {},
     "output_type": "display_data"
    }
   ],
   "source": [
    "wandb.finish()"
   ]
  },
  {
   "cell_type": "markdown",
   "metadata": {},
   "source": [
    "## Model variations\n",
    "**Model variations:** Implement the **two variations** of the baseline model as explained below. Each variation applies only one change to the baseline architecture, making it possible to study the effect of the change. The code of all variations should be inside `ClassificationAttentionModel`, and executing a variation should be done by simply passing the corresponding parameters of the variation to the model. \n",
    "\n",
    "- **No RNN (1 point).** Run the model without the RNN layer.\n",
    "\n",
    "- **Another attention variation (1 point).** Implement another type of single-head Attention other than basic dot-product."
   ]
  },
  {
   "cell_type": "markdown",
   "metadata": {},
   "source": [
    "### No RNN"
   ]
  },
  {
   "cell_type": "code",
   "execution_count": 107,
   "metadata": {},
   "outputs": [
    {
     "data": {
      "application/vnd.jupyter.widget-view+json": {
       "model_id": "fd6ffcc91c134c349130fde1e2231927",
       "version_major": 2,
       "version_minor": 0
      },
      "text/plain": [
       "VBox(children=(Label(value='Waiting for wandb.init()...\\r'), FloatProgress(value=0.016670261449993024, max=1.0…"
      ]
     },
     "metadata": {},
     "output_type": "display_data"
    },
    {
     "data": {
      "text/html": [
       "wandb version 0.15.3 is available!  To upgrade, please run:\n",
       " $ pip install wandb --upgrade"
      ],
      "text/plain": [
       "<IPython.core.display.HTML object>"
      ]
     },
     "metadata": {},
     "output_type": "display_data"
    },
    {
     "data": {
      "text/html": [
       "Tracking run with wandb version 0.14.0"
      ],
      "text/plain": [
       "<IPython.core.display.HTML object>"
      ]
     },
     "metadata": {},
     "output_type": "display_data"
    },
    {
     "data": {
      "text/html": [
       "Run data is saved locally in <code>/home/tobi/Documents/nlp/nlp-course-2022w/wandb/run-20230530_144415-ka9eavpb</code>"
      ],
      "text/plain": [
       "<IPython.core.display.HTML object>"
      ]
     },
     "metadata": {},
     "output_type": "display_data"
    },
    {
     "data": {
      "text/html": [
       "Syncing run <strong><a href='https://wandb.ai/tobiasm/NLPwDL/runs/ka9eavpb' target=\"_blank\">attention_no_RNN</a></strong> to <a href='https://wandb.ai/tobiasm/NLPwDL' target=\"_blank\">Weights & Biases</a> (<a href='https://wandb.me/run' target=\"_blank\">docs</a>)<br/>"
      ],
      "text/plain": [
       "<IPython.core.display.HTML object>"
      ]
     },
     "metadata": {},
     "output_type": "display_data"
    },
    {
     "data": {
      "text/html": [
       " View project at <a href='https://wandb.ai/tobiasm/NLPwDL' target=\"_blank\">https://wandb.ai/tobiasm/NLPwDL</a>"
      ],
      "text/plain": [
       "<IPython.core.display.HTML object>"
      ]
     },
     "metadata": {},
     "output_type": "display_data"
    },
    {
     "data": {
      "text/html": [
       " View run at <a href='https://wandb.ai/tobiasm/NLPwDL/runs/ka9eavpb' target=\"_blank\">https://wandb.ai/tobiasm/NLPwDL/runs/ka9eavpb</a>"
      ],
      "text/plain": [
       "<IPython.core.display.HTML object>"
      ]
     },
     "metadata": {},
     "output_type": "display_data"
    },
    {
     "data": {
      "text/html": [
       "<button onClick=\"this.nextSibling.style.display='block';this.style.display='none';\">Display W&B run</button><iframe src='https://wandb.ai/tobiasm/NLPwDL/runs/ka9eavpb?jupyter=true' style='border:none;width:100%;height:420px;display:none;'></iframe>"
      ],
      "text/plain": [
       "<wandb.sdk.wandb_run.Run at 0x7fbacc89e8d0>"
      ]
     },
     "execution_count": 107,
     "metadata": {},
     "output_type": "execute_result"
    }
   ],
   "source": [
    "config['MODEL_ARCH'] = 'attention_no_RNN'\n",
    "wandb.init(project=\"NLPwDL\", entity=\"tobiasm\", name=config['MODEL_ARCH'])"
   ]
  },
  {
   "cell_type": "code",
   "execution_count": 108,
   "metadata": {},
   "outputs": [
    {
     "name": "stdout",
     "output_type": "stream",
     "text": [
      "Start training!\n",
      "===============\n",
      "Optimizer: adam, Loss: ce, LR: 0.0001\n",
      "Epochs: 20, Patience: 3\n",
      "=======================\n",
      "\n"
     ]
    },
    {
     "data": {
      "application/vnd.jupyter.widget-view+json": {
       "model_id": "47514f7ef3944dc0be14ea7558643d5c",
       "version_major": 2,
       "version_minor": 0
      },
      "text/plain": [
       "Epochs:   0%|          | 0/20 [00:00<?, ?it/s]"
      ]
     },
     "metadata": {},
     "output_type": "display_data"
    },
    {
     "name": "stdout",
     "output_type": "stream",
     "text": [
      "Epoch: 1\n"
     ]
    },
    {
     "data": {
      "application/vnd.jupyter.widget-view+json": {
       "model_id": "1f64a4589b114d9f828905f0e06b22a3",
       "version_major": 2,
       "version_minor": 0
      },
      "text/plain": [
       "Training:   0%|          | 0/379 [00:00<?, ?it/s]"
      ]
     },
     "metadata": {},
     "output_type": "display_data"
    },
    {
     "name": "stdout",
     "output_type": "stream",
     "text": [
      "Train accuracy: 0.4295623451692816, Train loss: 1.9403359981199682\n",
      "Validation Accuracy: 0.5119414483821263\n",
      "Best model updated\n",
      "Epoch: 2\n"
     ]
    },
    {
     "data": {
      "application/vnd.jupyter.widget-view+json": {
       "model_id": "fec5609e40534702b06ae1bdc69a90a3",
       "version_major": 2,
       "version_minor": 0
      },
      "text/plain": [
       "Training:   0%|          | 0/379 [00:00<?, ?it/s]"
      ]
     },
     "metadata": {},
     "output_type": "display_data"
    },
    {
     "name": "stdout",
     "output_type": "stream",
     "text": [
      "Train accuracy: 0.6024772914946326, Train loss: 1.4953943376176275\n",
      "Validation Accuracy: 0.6610169491525424\n",
      "Best model updated\n",
      "Epoch: 3\n"
     ]
    },
    {
     "data": {
      "application/vnd.jupyter.widget-view+json": {
       "model_id": "9e234e0ad5924647ac9644c0046bcbb1",
       "version_major": 2,
       "version_minor": 0
      },
      "text/plain": [
       "Training:   0%|          | 0/379 [00:00<?, ?it/s]"
      ]
     },
     "metadata": {},
     "output_type": "display_data"
    },
    {
     "name": "stdout",
     "output_type": "stream",
     "text": [
      "Train accuracy: 0.719157720891825, Train loss: 1.0891956331547459\n",
      "Validation Accuracy: 0.7315100154083205\n",
      "Best model updated\n",
      "Epoch: 4\n"
     ]
    },
    {
     "data": {
      "application/vnd.jupyter.widget-view+json": {
       "model_id": "ad0ec329cf934a408e56e5ca2fb831c7",
       "version_major": 2,
       "version_minor": 0
      },
      "text/plain": [
       "Training:   0%|          | 0/379 [00:00<?, ?it/s]"
      ]
     },
     "metadata": {},
     "output_type": "display_data"
    },
    {
     "name": "stdout",
     "output_type": "stream",
     "text": [
      "Train accuracy: 0.7672171758876961, Train loss: 0.8573037522763879\n",
      "Validation Accuracy: 0.7611710323574731\n",
      "Best model updated\n",
      "Epoch: 5\n"
     ]
    },
    {
     "data": {
      "application/vnd.jupyter.widget-view+json": {
       "model_id": "2efb0b38587247f1ae1dacc58a52acc9",
       "version_major": 2,
       "version_minor": 0
      },
      "text/plain": [
       "Training:   0%|          | 0/379 [00:00<?, ?it/s]"
      ]
     },
     "metadata": {},
     "output_type": "display_data"
    },
    {
     "name": "stdout",
     "output_type": "stream",
     "text": [
      "Train accuracy: 0.7895953757225433, Train loss: 0.7504971437057908\n",
      "Validation Accuracy: 0.7650231124807396\n",
      "Best model updated\n",
      "Epoch: 6\n"
     ]
    },
    {
     "data": {
      "application/vnd.jupyter.widget-view+json": {
       "model_id": "cfad8363e09a4ef6a83b04d9c94cb45e",
       "version_major": 2,
       "version_minor": 0
      },
      "text/plain": [
       "Training:   0%|          | 0/379 [00:00<?, ?it/s]"
      ]
     },
     "metadata": {},
     "output_type": "display_data"
    },
    {
     "name": "stdout",
     "output_type": "stream",
     "text": [
      "Train accuracy: 0.7997522708505368, Train loss: 0.6970584754657619\n",
      "Validation Accuracy: 0.7785053929121726\n",
      "Best model updated\n",
      "Epoch: 7\n"
     ]
    },
    {
     "data": {
      "application/vnd.jupyter.widget-view+json": {
       "model_id": "b8edfef821db46d48b2de3eea230e1bf",
       "version_major": 2,
       "version_minor": 0
      },
      "text/plain": [
       "Training:   0%|          | 0/379 [00:00<?, ?it/s]"
      ]
     },
     "metadata": {},
     "output_type": "display_data"
    },
    {
     "name": "stdout",
     "output_type": "stream",
     "text": [
      "Train accuracy: 0.8090834021469859, Train loss: 0.6620532106362421\n",
      "Validation Accuracy: 0.785824345146379\n",
      "Best model updated\n",
      "Epoch: 8\n"
     ]
    },
    {
     "data": {
      "application/vnd.jupyter.widget-view+json": {
       "model_id": "4b67cc56cf964bac94049aee872ed8ca",
       "version_major": 2,
       "version_minor": 0
      },
      "text/plain": [
       "Training:   0%|          | 0/379 [00:00<?, ?it/s]"
      ]
     },
     "metadata": {},
     "output_type": "display_data"
    },
    {
     "name": "stdout",
     "output_type": "stream",
     "text": [
      "Train accuracy: 0.8180842279108175, Train loss: 0.6336644438923507\n",
      "Validation Accuracy: 0.7908320493066255\n",
      "Best model updated\n",
      "Epoch: 9\n"
     ]
    },
    {
     "data": {
      "application/vnd.jupyter.widget-view+json": {
       "model_id": "06eac54030124e4ab997fcf34bec5801",
       "version_major": 2,
       "version_minor": 0
      },
      "text/plain": [
       "Training:   0%|          | 0/379 [00:00<?, ?it/s]"
      ]
     },
     "metadata": {},
     "output_type": "display_data"
    },
    {
     "name": "stdout",
     "output_type": "stream",
     "text": [
      "Train accuracy: 0.8273327828241123, Train loss: 0.6084382849742995\n",
      "Validation Accuracy: 0.7939137134052389\n",
      "Best model updated\n",
      "Epoch: 10\n"
     ]
    },
    {
     "data": {
      "application/vnd.jupyter.widget-view+json": {
       "model_id": "b6516ef6baf84e1b8859612189a34a0e",
       "version_major": 2,
       "version_minor": 0
      },
      "text/plain": [
       "Training:   0%|          | 0/379 [00:00<?, ?it/s]"
      ]
     },
     "metadata": {},
     "output_type": "display_data"
    },
    {
     "name": "stdout",
     "output_type": "stream",
     "text": [
      "Train accuracy: 0.8360858794384806, Train loss: 0.5852763184928642\n",
      "Validation Accuracy: 0.8012326656394453\n",
      "Best model updated\n",
      "Epoch: 11\n"
     ]
    },
    {
     "data": {
      "application/vnd.jupyter.widget-view+json": {
       "model_id": "35d501af080c4f2090fe3dec0a323cea",
       "version_major": 2,
       "version_minor": 0
      },
      "text/plain": [
       "Training:   0%|          | 0/379 [00:00<?, ?it/s]"
      ]
     },
     "metadata": {},
     "output_type": "display_data"
    },
    {
     "name": "stdout",
     "output_type": "stream",
     "text": [
      "Train accuracy: 0.8418662262592899, Train loss: 0.5639775110737945\n",
      "Validation Accuracy: 0.8054699537750385\n",
      "Best model updated\n",
      "Epoch: 12\n"
     ]
    },
    {
     "data": {
      "application/vnd.jupyter.widget-view+json": {
       "model_id": "dc2e56d881dc4c08997dd4fb37b77fc4",
       "version_major": 2,
       "version_minor": 0
      },
      "text/plain": [
       "Training:   0%|          | 0/379 [00:00<?, ?it/s]"
      ]
     },
     "metadata": {},
     "output_type": "display_data"
    },
    {
     "name": "stdout",
     "output_type": "stream",
     "text": [
      "Train accuracy: 0.848802642444261, Train loss: 0.5446501527581177\n",
      "Validation Accuracy: 0.8043143297380585\n",
      "Epoch: 13\n"
     ]
    },
    {
     "data": {
      "application/vnd.jupyter.widget-view+json": {
       "model_id": "76971f0ff776446baabcd669574f00e5",
       "version_major": 2,
       "version_minor": 0
      },
      "text/plain": [
       "Training:   0%|          | 0/379 [00:00<?, ?it/s]"
      ]
     },
     "metadata": {},
     "output_type": "display_data"
    },
    {
     "name": "stdout",
     "output_type": "stream",
     "text": [
      "Train accuracy: 0.8533443435177539, Train loss: 0.5272754339162152\n",
      "Validation Accuracy: 0.8039291217257319\n",
      "Epoch: 14\n"
     ]
    },
    {
     "data": {
      "application/vnd.jupyter.widget-view+json": {
       "model_id": "2c144b7c1c904c77b19b1fdcd4856058",
       "version_major": 2,
       "version_minor": 0
      },
      "text/plain": [
       "Training:   0%|          | 0/379 [00:00<?, ?it/s]"
      ]
     },
     "metadata": {},
     "output_type": "display_data"
    },
    {
     "name": "stdout",
     "output_type": "stream",
     "text": [
      "Train accuracy: 0.8585466556564822, Train loss: 0.5115800321023508\n",
      "Validation Accuracy: 0.8058551617873652\n",
      "Best model updated\n",
      "Epoch: 15\n"
     ]
    },
    {
     "data": {
      "application/vnd.jupyter.widget-view+json": {
       "model_id": "c47bb2f63bd5402288e71784bac3ddcf",
       "version_major": 2,
       "version_minor": 0
      },
      "text/plain": [
       "Training:   0%|          | 0/379 [00:00<?, ?it/s]"
      ]
     },
     "metadata": {},
     "output_type": "display_data"
    },
    {
     "name": "stdout",
     "output_type": "stream",
     "text": [
      "Train accuracy: 0.8620974401321222, Train loss: 0.49719392366726983\n",
      "Validation Accuracy: 0.8062403697996918\n",
      "Best model updated\n",
      "Epoch: 16\n"
     ]
    },
    {
     "data": {
      "application/vnd.jupyter.widget-view+json": {
       "model_id": "53d9d0445b8e4294a9830e921ac850aa",
       "version_major": 2,
       "version_minor": 0
      },
      "text/plain": [
       "Training:   0%|          | 0/379 [00:00<?, ?it/s]"
      ]
     },
     "metadata": {},
     "output_type": "display_data"
    },
    {
     "name": "stdout",
     "output_type": "stream",
     "text": [
      "Train accuracy: 0.8653179190751445, Train loss: 0.48380108154071666\n",
      "Validation Accuracy: 0.809322033898305\n",
      "Best model updated\n",
      "Epoch: 17\n"
     ]
    },
    {
     "data": {
      "application/vnd.jupyter.widget-view+json": {
       "model_id": "48a2013e06fe4d68a3a7590d9633e914",
       "version_major": 2,
       "version_minor": 0
      },
      "text/plain": [
       "Training:   0%|          | 0/379 [00:00<?, ?it/s]"
      ]
     },
     "metadata": {},
     "output_type": "display_data"
    },
    {
     "name": "stdout",
     "output_type": "stream",
     "text": [
      "Train accuracy: 0.8705202312138728, Train loss: 0.4711779396499367\n",
      "Validation Accuracy: 0.811633281972265\n",
      "Best model updated\n",
      "Epoch: 18\n"
     ]
    },
    {
     "data": {
      "application/vnd.jupyter.widget-view+json": {
       "model_id": "430c78f9eb40428bb94ae50ec80b7640",
       "version_major": 2,
       "version_minor": 0
      },
      "text/plain": [
       "Training:   0%|          | 0/379 [00:00<?, ?it/s]"
      ]
     },
     "metadata": {},
     "output_type": "display_data"
    },
    {
     "name": "stdout",
     "output_type": "stream",
     "text": [
      "Train accuracy: 0.8735755573905863, Train loss: 0.45917671081415895\n",
      "Validation Accuracy: 0.8124036979969184\n",
      "Best model updated\n",
      "Epoch: 19\n"
     ]
    },
    {
     "data": {
      "application/vnd.jupyter.widget-view+json": {
       "model_id": "9b336237e09a484db29f4ae0fa0b59dc",
       "version_major": 2,
       "version_minor": 0
      },
      "text/plain": [
       "Training:   0%|          | 0/379 [00:00<?, ?it/s]"
      ]
     },
     "metadata": {},
     "output_type": "display_data"
    },
    {
     "name": "stdout",
     "output_type": "stream",
     "text": [
      "Train accuracy: 0.8764657308009909, Train loss: 0.44770160993674185\n",
      "Validation Accuracy: 0.8124036979969184\n",
      "Epoch: 20\n"
     ]
    },
    {
     "data": {
      "application/vnd.jupyter.widget-view+json": {
       "model_id": "25799bacf0864ef194740f7b507ba498",
       "version_major": 2,
       "version_minor": 0
      },
      "text/plain": [
       "Training:   0%|          | 0/379 [00:00<?, ?it/s]"
      ]
     },
     "metadata": {},
     "output_type": "display_data"
    },
    {
     "name": "stdout",
     "output_type": "stream",
     "text": [
      "Train accuracy: 0.8790255986787778, Train loss: 0.4366909918574356\n",
      "Validation Accuracy: 0.8131741140215717\n",
      "Best model updated\n",
      "Training finished\n",
      "Best validation accuracy:  0.8131741140215717\n",
      "Best epoch:  20\n"
     ]
    }
   ],
   "source": [
    "model = ClassificationAttentionModel(\n",
    "    lookup=lookup.to(device),\n",
    "    num_classes=np.unique(train_df[\"label\"]).shape[0],\n",
    "    no_rnn=True,\n",
    "    attention_type=\"dot\",\n",
    ").to(device)\n",
    "\n",
    "if config['LOSS'] == \"nll\":\n",
    "    criterion = nn.NLLLoss()\n",
    "else:\n",
    "    # Cross Entropy is the default loss function\n",
    "    criterion = nn.CrossEntropyLoss()\n",
    "\n",
    "if config['optim_fn'] == \"sgd\":\n",
    "    optimizer = optim.SGD(model.parameters(), lr=config['LR'])\n",
    "else:\n",
    "    # Adam is the default optimizer\n",
    "    optimizer = optim.Adam(model.parameters(), lr=config['LR'])\n",
    "\n",
    "if config['DO_TRAIN']:\n",
    "    best_model = do_train(\n",
    "        model=model,\n",
    "        criterion=criterion,\n",
    "        optimizer=optimizer,\n",
    "        batches=batches,\n",
    "        epochs=config['N_EPOCHS'],\n",
    "        patience=config['PATIENCE'],\n",
    "        model_arch=config['MODEL_ARCH'],\n",
    "        device=device\n",
    "    )\n",
    "else:\n",
    "    best_model = torch.load(f\"best_model_{config['MODEL_ARCH']}.pt\").to(device)"
   ]
  },
  {
   "cell_type": "code",
   "execution_count": 109,
   "metadata": {},
   "outputs": [
    {
     "name": "stdout",
     "output_type": "stream",
     "text": [
      "Validation accuracy:  0.8131741140215717\n",
      "Test accuracy:  0.8131021194605009\n"
     ]
    }
   ],
   "source": [
    "y_pred_val = predict(best_model, batches[\"val\"][\"x\"], device=device)\n",
    "acc_val_no_rnn = accuracy_score(val_df[\"label\"], y_pred_val)\n",
    "wandb.log({\"final_val_acc\": acc_val_no_rnn})\n",
    "print(\"Validation accuracy: \", acc_val_no_rnn)\n",
    "\n",
    "y_pred_test = predict(best_model, batches[\"test\"][\"x\"], device=device)\n",
    "assert y_pred_test.shape == (test_df.shape[0],)\n",
    "\n",
    "acc_test_no_rnn = accuracy_score(test_df[\"label\"], y_pred_test)\n",
    "wandb.log({\"test_acc\": acc_test_no_rnn})\n",
    "print(\"Test accuracy: \", acc_test_no_rnn)"
   ]
  },
  {
   "cell_type": "code",
   "execution_count": 110,
   "metadata": {},
   "outputs": [
    {
     "data": {
      "text/plain": [
       "'attention_no_RNN'"
      ]
     },
     "execution_count": 110,
     "metadata": {},
     "output_type": "execute_result"
    }
   ],
   "source": [
    "config['MODEL_ARCH']"
   ]
  },
  {
   "cell_type": "code",
   "execution_count": 111,
   "metadata": {},
   "outputs": [
    {
     "data": {
      "text/html": [
       "Waiting for W&B process to finish... <strong style=\"color:green\">(success).</strong>"
      ],
      "text/plain": [
       "<IPython.core.display.HTML object>"
      ]
     },
     "metadata": {},
     "output_type": "display_data"
    },
    {
     "data": {
      "application/vnd.jupyter.widget-view+json": {
       "model_id": "40e7e76bf3ab4f44979dbd0271db6aa8",
       "version_major": 2,
       "version_minor": 0
      },
      "text/plain": [
       "VBox(children=(Label(value='0.002 MB of 0.013 MB uploaded (0.000 MB deduped)\\r'), FloatProgress(value=0.147635…"
      ]
     },
     "metadata": {},
     "output_type": "display_data"
    },
    {
     "data": {
      "text/html": [
       "<style>\n",
       "    table.wandb td:nth-child(1) { padding: 0 10px; text-align: left ; width: auto;} td:nth-child(2) {text-align: left ; width: 100%}\n",
       "    .wandb-row { display: flex; flex-direction: row; flex-wrap: wrap; justify-content: flex-start; width: 100% }\n",
       "    .wandb-col { display: flex; flex-direction: column; flex-basis: 100%; flex: 1; padding: 10px; }\n",
       "    </style>\n",
       "<div class=\"wandb-row\"><div class=\"wandb-col\"><h3>Run history:</h3><br/><table class=\"wandb\"><tr><td>epoch</td><td>▁▁▂▂▂▃▃▄▄▄▅▅▅▆▆▇▇▇██</td></tr><tr><td>final_val_acc</td><td>▁</td></tr><tr><td>test_acc</td><td>▁</td></tr><tr><td>train_acc</td><td>▁▄▆▆▇▇▇▇▇▇▇█████████</td></tr><tr><td>train_loss</td><td>█▆▄▃▂▂▂▂▂▂▂▂▁▁▁▁▁▁▁▁</td></tr><tr><td>val_acc</td><td>▁▄▆▇▇▇▇▇████████████</td></tr><tr><td>val_loss</td><td>█▅▃▂▂▂▂▂▁▁▁▁▁▁▁▁▁▁▁▁</td></tr></table><br/></div><div class=\"wandb-col\"><h3>Run summary:</h3><br/><table class=\"wandb\"><tr><td>epoch</td><td>20</td></tr><tr><td>final_val_acc</td><td>0.81317</td></tr><tr><td>test_acc</td><td>0.8131</td></tr><tr><td>train_acc</td><td>0.87903</td></tr><tr><td>train_loss</td><td>0.43669</td></tr><tr><td>val_acc</td><td>0.81317</td></tr><tr><td>val_loss</td><td>0.66314</td></tr></table><br/></div></div>"
      ],
      "text/plain": [
       "<IPython.core.display.HTML object>"
      ]
     },
     "metadata": {},
     "output_type": "display_data"
    },
    {
     "data": {
      "text/html": [
       " View run <strong style=\"color:#cdcd00\">attention_no_RNN</strong> at: <a href='https://wandb.ai/tobiasm/NLPwDL/runs/ka9eavpb' target=\"_blank\">https://wandb.ai/tobiasm/NLPwDL/runs/ka9eavpb</a><br/>Synced 6 W&B file(s), 0 media file(s), 0 artifact file(s) and 0 other file(s)"
      ],
      "text/plain": [
       "<IPython.core.display.HTML object>"
      ]
     },
     "metadata": {},
     "output_type": "display_data"
    },
    {
     "data": {
      "text/html": [
       "Find logs at: <code>./wandb/run-20230530_144415-ka9eavpb/logs</code>"
      ],
      "text/plain": [
       "<IPython.core.display.HTML object>"
      ]
     },
     "metadata": {},
     "output_type": "display_data"
    }
   ],
   "source": [
    "wandb.finish()"
   ]
  },
  {
   "cell_type": "markdown",
   "metadata": {},
   "source": [
    "### Additive Attention"
   ]
  },
  {
   "cell_type": "code",
   "execution_count": 112,
   "metadata": {},
   "outputs": [
    {
     "data": {
      "application/vnd.jupyter.widget-view+json": {
       "model_id": "ee29aa77202945ae902de238d5ef32e6",
       "version_major": 2,
       "version_minor": 0
      },
      "text/plain": [
       "VBox(children=(Label(value='Waiting for wandb.init()...\\r'), FloatProgress(value=0.01667341934999058, max=1.0)…"
      ]
     },
     "metadata": {},
     "output_type": "display_data"
    },
    {
     "data": {
      "text/html": [
       "wandb version 0.15.3 is available!  To upgrade, please run:\n",
       " $ pip install wandb --upgrade"
      ],
      "text/plain": [
       "<IPython.core.display.HTML object>"
      ]
     },
     "metadata": {},
     "output_type": "display_data"
    },
    {
     "data": {
      "text/html": [
       "Tracking run with wandb version 0.14.0"
      ],
      "text/plain": [
       "<IPython.core.display.HTML object>"
      ]
     },
     "metadata": {},
     "output_type": "display_data"
    },
    {
     "data": {
      "text/html": [
       "Run data is saved locally in <code>/home/tobi/Documents/nlp/nlp-course-2022w/wandb/run-20230530_144801-l4bletwk</code>"
      ],
      "text/plain": [
       "<IPython.core.display.HTML object>"
      ]
     },
     "metadata": {},
     "output_type": "display_data"
    },
    {
     "data": {
      "text/html": [
       "Syncing run <strong><a href='https://wandb.ai/tobiasm/NLPwDL/runs/l4bletwk' target=\"_blank\">attention_additive</a></strong> to <a href='https://wandb.ai/tobiasm/NLPwDL' target=\"_blank\">Weights & Biases</a> (<a href='https://wandb.me/run' target=\"_blank\">docs</a>)<br/>"
      ],
      "text/plain": [
       "<IPython.core.display.HTML object>"
      ]
     },
     "metadata": {},
     "output_type": "display_data"
    },
    {
     "data": {
      "text/html": [
       " View project at <a href='https://wandb.ai/tobiasm/NLPwDL' target=\"_blank\">https://wandb.ai/tobiasm/NLPwDL</a>"
      ],
      "text/plain": [
       "<IPython.core.display.HTML object>"
      ]
     },
     "metadata": {},
     "output_type": "display_data"
    },
    {
     "data": {
      "text/html": [
       " View run at <a href='https://wandb.ai/tobiasm/NLPwDL/runs/l4bletwk' target=\"_blank\">https://wandb.ai/tobiasm/NLPwDL/runs/l4bletwk</a>"
      ],
      "text/plain": [
       "<IPython.core.display.HTML object>"
      ]
     },
     "metadata": {},
     "output_type": "display_data"
    },
    {
     "data": {
      "text/html": [
       "<button onClick=\"this.nextSibling.style.display='block';this.style.display='none';\">Display W&B run</button><iframe src='https://wandb.ai/tobiasm/NLPwDL/runs/l4bletwk?jupyter=true' style='border:none;width:100%;height:420px;display:none;'></iframe>"
      ],
      "text/plain": [
       "<wandb.sdk.wandb_run.Run at 0x7fbaa1631410>"
      ]
     },
     "execution_count": 112,
     "metadata": {},
     "output_type": "execute_result"
    }
   ],
   "source": [
    "config['MODEL_ARCH'] = 'attention_additive'\n",
    "wandb.init(project=\"NLPwDL\", entity=\"tobiasm\", name=config['MODEL_ARCH'])"
   ]
  },
  {
   "cell_type": "code",
   "execution_count": 113,
   "metadata": {},
   "outputs": [
    {
     "name": "stdout",
     "output_type": "stream",
     "text": [
      "Start training!\n",
      "===============\n",
      "Optimizer: adam, Loss: ce, LR: 0.0001\n",
      "Epochs: 20, Patience: 3\n",
      "=======================\n",
      "\n"
     ]
    },
    {
     "data": {
      "application/vnd.jupyter.widget-view+json": {
       "model_id": "f32215a7154b4818857f99cd118d4bcd",
       "version_major": 2,
       "version_minor": 0
      },
      "text/plain": [
       "Epochs:   0%|          | 0/20 [00:00<?, ?it/s]"
      ]
     },
     "metadata": {},
     "output_type": "display_data"
    },
    {
     "name": "stdout",
     "output_type": "stream",
     "text": [
      "Epoch: 1\n"
     ]
    },
    {
     "data": {
      "application/vnd.jupyter.widget-view+json": {
       "model_id": "1e1045300230466dbd4648c915f266ba",
       "version_major": 2,
       "version_minor": 0
      },
      "text/plain": [
       "Training:   0%|          | 0/379 [00:00<?, ?it/s]"
      ]
     },
     "metadata": {},
     "output_type": "display_data"
    },
    {
     "name": "stdout",
     "output_type": "stream",
     "text": [
      "Train accuracy: 0.3490503715937242, Train loss: 2.187383341600524\n",
      "Validation Accuracy: 0.423728813559322\n",
      "Best model updated\n",
      "Epoch: 2\n"
     ]
    },
    {
     "data": {
      "application/vnd.jupyter.widget-view+json": {
       "model_id": "982b1c71e20541ba8754fcbbeb955660",
       "version_major": 2,
       "version_minor": 0
      },
      "text/plain": [
       "Training:   0%|          | 0/379 [00:00<?, ?it/s]"
      ]
     },
     "metadata": {},
     "output_type": "display_data"
    },
    {
     "name": "stdout",
     "output_type": "stream",
     "text": [
      "Train accuracy: 0.5022295623451692, Train loss: 1.7445408256827684\n",
      "Validation Accuracy: 0.4872881355932203\n",
      "Best model updated\n",
      "Epoch: 3\n"
     ]
    },
    {
     "data": {
      "application/vnd.jupyter.widget-view+json": {
       "model_id": "f7cb6d8dc8de4e6e93ff4bb5e4d719d3",
       "version_major": 2,
       "version_minor": 0
      },
      "text/plain": [
       "Training:   0%|          | 0/379 [00:00<?, ?it/s]"
      ]
     },
     "metadata": {},
     "output_type": "display_data"
    },
    {
     "name": "stdout",
     "output_type": "stream",
     "text": [
      "Train accuracy: 0.5388934764657308, Train loss: 1.5933982761365442\n",
      "Validation Accuracy: 0.5285053929121726\n",
      "Best model updated\n",
      "Epoch: 4\n"
     ]
    },
    {
     "data": {
      "application/vnd.jupyter.widget-view+json": {
       "model_id": "8399b27262d6475aafa6990c85e166a6",
       "version_major": 2,
       "version_minor": 0
      },
      "text/plain": [
       "Training:   0%|          | 0/379 [00:00<?, ?it/s]"
      ]
     },
     "metadata": {},
     "output_type": "display_data"
    },
    {
     "name": "stdout",
     "output_type": "stream",
     "text": [
      "Train accuracy: 0.5872832369942197, Train loss: 1.4825135191071945\n",
      "Validation Accuracy: 0.573959938366718\n",
      "Best model updated\n",
      "Epoch: 5\n"
     ]
    },
    {
     "data": {
      "application/vnd.jupyter.widget-view+json": {
       "model_id": "222a650dcd0440f69457968240e3b0f2",
       "version_major": 2,
       "version_minor": 0
      },
      "text/plain": [
       "Training:   0%|          | 0/379 [00:00<?, ?it/s]"
      ]
     },
     "metadata": {},
     "output_type": "display_data"
    },
    {
     "name": "stdout",
     "output_type": "stream",
     "text": [
      "Train accuracy: 0.6132947976878613, Train loss: 1.2883180153401357\n",
      "Validation Accuracy: 0.5920647149460708\n",
      "Best model updated\n",
      "Epoch: 6\n"
     ]
    },
    {
     "data": {
      "application/vnd.jupyter.widget-view+json": {
       "model_id": "8e04527e34154979ae3576f0f194495c",
       "version_major": 2,
       "version_minor": 0
      },
      "text/plain": [
       "Training:   0%|          | 0/379 [00:00<?, ?it/s]"
      ]
     },
     "metadata": {},
     "output_type": "display_data"
    },
    {
     "name": "stdout",
     "output_type": "stream",
     "text": [
      "Train accuracy: 0.6626754748142032, Train loss: 1.148245692410381\n",
      "Validation Accuracy: 0.634437596302003\n",
      "Best model updated\n",
      "Epoch: 7\n"
     ]
    },
    {
     "data": {
      "application/vnd.jupyter.widget-view+json": {
       "model_id": "9a703ddbce06418596b57b7c10063fd7",
       "version_major": 2,
       "version_minor": 0
      },
      "text/plain": [
       "Training:   0%|          | 0/379 [00:00<?, ?it/s]"
      ]
     },
     "metadata": {},
     "output_type": "display_data"
    },
    {
     "name": "stdout",
     "output_type": "stream",
     "text": [
      "Train accuracy: 0.7161849710982658, Train loss: 1.0198669686795538\n",
      "Validation Accuracy: 0.6818181818181818\n",
      "Best model updated\n",
      "Epoch: 8\n"
     ]
    },
    {
     "data": {
      "application/vnd.jupyter.widget-view+json": {
       "model_id": "63bee94219ec468381f85a35c981b744",
       "version_major": 2,
       "version_minor": 0
      },
      "text/plain": [
       "Training:   0%|          | 0/379 [00:00<?, ?it/s]"
      ]
     },
     "metadata": {},
     "output_type": "display_data"
    },
    {
     "name": "stdout",
     "output_type": "stream",
     "text": [
      "Train accuracy: 0.7672997522708506, Train loss: 0.8810249609494272\n",
      "Validation Accuracy: 0.7134052388289677\n",
      "Best model updated\n",
      "Epoch: 9\n"
     ]
    },
    {
     "data": {
      "application/vnd.jupyter.widget-view+json": {
       "model_id": "a84df0a3d0c54cfda052789ba75a29b5",
       "version_major": 2,
       "version_minor": 0
      },
      "text/plain": [
       "Training:   0%|          | 0/379 [00:00<?, ?it/s]"
      ]
     },
     "metadata": {},
     "output_type": "display_data"
    },
    {
     "name": "stdout",
     "output_type": "stream",
     "text": [
      "Train accuracy: 0.5510322047894303, Train loss: 1.8018182980039188\n",
      "Validation Accuracy: 0.36941448382126346\n",
      "Epoch: 10\n"
     ]
    },
    {
     "data": {
      "application/vnd.jupyter.widget-view+json": {
       "model_id": "a1bfbdc3a6d94140ace7d572deb31e92",
       "version_major": 2,
       "version_minor": 0
      },
      "text/plain": [
       "Training:   0%|          | 0/379 [00:00<?, ?it/s]"
      ]
     },
     "metadata": {},
     "output_type": "display_data"
    },
    {
     "name": "stdout",
     "output_type": "stream",
     "text": [
      "Train accuracy: 0.5373245251857969, Train loss: 1.6811333973363711\n",
      "Validation Accuracy: 0.538135593220339\n",
      "Epoch: 11\n"
     ]
    },
    {
     "data": {
      "application/vnd.jupyter.widget-view+json": {
       "model_id": "b82f51f4070f4c06ba8d3506f01234b4",
       "version_major": 2,
       "version_minor": 0
      },
      "text/plain": [
       "Training:   0%|          | 0/379 [00:00<?, ?it/s]"
      ]
     },
     "metadata": {},
     "output_type": "display_data"
    },
    {
     "name": "stdout",
     "output_type": "stream",
     "text": [
      "Train accuracy: 0.5836498761354253, Train loss: 1.600104258368701\n",
      "Validation Accuracy: 0.5539291217257319\n",
      "Early stopping after 11 epochs\n",
      "Training finished\n",
      "Best validation accuracy:  0.7134052388289677\n",
      "Best epoch:  8\n"
     ]
    }
   ],
   "source": [
    "model = ClassificationAttentionModel(\n",
    "    lookup=lookup.to(device),\n",
    "    num_classes=np.unique(train_df[\"label\"]).shape[0],\n",
    "    attention_type=\"add\",\n",
    ").to(device)\n",
    "\n",
    "if config['LOSS'] == \"nll\":\n",
    "    criterion = nn.NLLLoss()\n",
    "else:\n",
    "    # Cross Entropy is the default loss function\n",
    "    criterion = nn.CrossEntropyLoss()\n",
    "\n",
    "if config['optim_fn'] == \"sgd\":\n",
    "    optimizer = optim.SGD(model.parameters(), lr=config['LR'])\n",
    "else:\n",
    "    # Adam is the default optimizer\n",
    "    optimizer = optim.Adam(model.parameters(), lr=config['LR'])\n",
    "\n",
    "if config['DO_TRAIN']:\n",
    "    best_model = do_train(\n",
    "        model=model,\n",
    "        criterion=criterion,\n",
    "        optimizer=optimizer,\n",
    "        batches=batches,\n",
    "        epochs=config['N_EPOCHS'],\n",
    "        patience=config['PATIENCE'],\n",
    "        model_arch=config['MODEL_ARCH'],\n",
    "        device=device\n",
    "    )\n",
    "else:\n",
    "    best_model = torch.load(f\"best_model_{config['MODEL_ARCH']}.pt\").to(device)"
   ]
  },
  {
   "cell_type": "code",
   "execution_count": 114,
   "metadata": {},
   "outputs": [
    {
     "name": "stdout",
     "output_type": "stream",
     "text": [
      "Validation accuracy:  0.7134052388289677\n",
      "Test accuracy:  0.7163776493256262\n"
     ]
    }
   ],
   "source": [
    "y_pred_val = predict(best_model, batches[\"val\"][\"x\"], device=device)\n",
    "acc_val_additive = accuracy_score(val_df[\"label\"], y_pred_val)\n",
    "wandb.log({\"final_val_acc\": acc_val_additive})\n",
    "print(\"Validation accuracy: \", acc_val_additive)\n",
    "\n",
    "y_pred_test = predict(best_model, batches[\"test\"][\"x\"], device=device)\n",
    "assert y_pred_test.shape == (test_df.shape[0],)\n",
    "\n",
    "acc_test_additive = accuracy_score(test_df[\"label\"], y_pred_test)\n",
    "wandb.log({\"test_acc\": acc_test_additive})\n",
    "print(\"Test accuracy: \", acc_test_additive)"
   ]
  },
  {
   "cell_type": "code",
   "execution_count": 115,
   "metadata": {},
   "outputs": [
    {
     "data": {
      "text/html": [
       "Waiting for W&B process to finish... <strong style=\"color:green\">(success).</strong>"
      ],
      "text/plain": [
       "<IPython.core.display.HTML object>"
      ]
     },
     "metadata": {},
     "output_type": "display_data"
    },
    {
     "data": {
      "application/vnd.jupyter.widget-view+json": {
       "model_id": "7812279230104fa196f23e387be5d48c",
       "version_major": 2,
       "version_minor": 0
      },
      "text/plain": [
       "VBox(children=(Label(value='0.002 MB of 0.002 MB uploaded (0.000 MB deduped)\\r'), FloatProgress(value=1.0, max…"
      ]
     },
     "metadata": {},
     "output_type": "display_data"
    },
    {
     "data": {
      "text/html": [
       "<style>\n",
       "    table.wandb td:nth-child(1) { padding: 0 10px; text-align: left ; width: auto;} td:nth-child(2) {text-align: left ; width: 100%}\n",
       "    .wandb-row { display: flex; flex-direction: row; flex-wrap: wrap; justify-content: flex-start; width: 100% }\n",
       "    .wandb-col { display: flex; flex-direction: column; flex-basis: 100%; flex: 1; padding: 10px; }\n",
       "    </style>\n",
       "<div class=\"wandb-row\"><div class=\"wandb-col\"><h3>Run history:</h3><br/><table class=\"wandb\"><tr><td>epoch</td><td>▁▂▂▃▄▅▅▆▇▇█</td></tr><tr><td>final_val_acc</td><td>▁</td></tr><tr><td>test_acc</td><td>▁</td></tr><tr><td>train_acc</td><td>▁▄▄▅▅▆▇█▄▄▅</td></tr><tr><td>train_loss</td><td>█▆▅▄▃▂▂▁▆▅▅</td></tr><tr><td>val_acc</td><td>▂▃▄▅▆▆▇█▁▄▅</td></tr><tr><td>val_loss</td><td>█▆▅▄▃▂▂▁▇▆▅</td></tr></table><br/></div><div class=\"wandb-col\"><h3>Run summary:</h3><br/><table class=\"wandb\"><tr><td>epoch</td><td>11</td></tr><tr><td>final_val_acc</td><td>0.71341</td></tr><tr><td>test_acc</td><td>0.71638</td></tr><tr><td>train_acc</td><td>0.58365</td></tr><tr><td>train_loss</td><td>1.6001</td></tr><tr><td>val_acc</td><td>0.55393</td></tr><tr><td>val_loss</td><td>1.59305</td></tr></table><br/></div></div>"
      ],
      "text/plain": [
       "<IPython.core.display.HTML object>"
      ]
     },
     "metadata": {},
     "output_type": "display_data"
    },
    {
     "data": {
      "text/html": [
       " View run <strong style=\"color:#cdcd00\">attention_additive</strong> at: <a href='https://wandb.ai/tobiasm/NLPwDL/runs/l4bletwk' target=\"_blank\">https://wandb.ai/tobiasm/NLPwDL/runs/l4bletwk</a><br/>Synced 6 W&B file(s), 0 media file(s), 0 artifact file(s) and 0 other file(s)"
      ],
      "text/plain": [
       "<IPython.core.display.HTML object>"
      ]
     },
     "metadata": {},
     "output_type": "display_data"
    },
    {
     "data": {
      "text/html": [
       "Find logs at: <code>./wandb/run-20230530_144801-l4bletwk/logs</code>"
      ],
      "text/plain": [
       "<IPython.core.display.HTML object>"
      ]
     },
     "metadata": {},
     "output_type": "display_data"
    }
   ],
   "source": [
    "wandb.finish()"
   ]
  },
  {
   "cell_type": "markdown",
   "metadata": {},
   "source": [
    "## Reporting and discussion\n",
    "**Reporting and discussion (1 point).** Report the evaluation results of the baseline model, as well as the ones for all the variations in a table and also in a plot. Discuss which variation(s) appear to be the most effective. Explain your take."
   ]
  },
  {
   "cell_type": "code",
   "execution_count": 116,
   "metadata": {},
   "outputs": [
    {
     "data": {
      "text/html": [
       "<div>\n",
       "<style scoped>\n",
       "    .dataframe tbody tr th:only-of-type {\n",
       "        vertical-align: middle;\n",
       "    }\n",
       "\n",
       "    .dataframe tbody tr th {\n",
       "        vertical-align: top;\n",
       "    }\n",
       "\n",
       "    .dataframe thead th {\n",
       "        text-align: right;\n",
       "    }\n",
       "</style>\n",
       "<table border=\"1\" class=\"dataframe\">\n",
       "  <thead>\n",
       "    <tr style=\"text-align: right;\">\n",
       "      <th></th>\n",
       "      <th>Run</th>\n",
       "      <th>Description</th>\n",
       "      <th>Validation Accuracy</th>\n",
       "      <th>Test Accuracy</th>\n",
       "    </tr>\n",
       "  </thead>\n",
       "  <tbody>\n",
       "    <tr>\n",
       "      <th>0</th>\n",
       "      <td>Baseline</td>\n",
       "      <td>Baseline with RNN</td>\n",
       "      <td>0.794684</td>\n",
       "      <td>0.801156</td>\n",
       "    </tr>\n",
       "    <tr>\n",
       "      <th>1</th>\n",
       "      <td>No RNN</td>\n",
       "      <td>Network without RNN</td>\n",
       "      <td>0.813174</td>\n",
       "      <td>0.813102</td>\n",
       "    </tr>\n",
       "    <tr>\n",
       "      <th>2</th>\n",
       "      <td>Additive Attention</td>\n",
       "      <td>Network using Additive Attention instead of Do...</td>\n",
       "      <td>0.713405</td>\n",
       "      <td>0.716378</td>\n",
       "    </tr>\n",
       "  </tbody>\n",
       "</table>\n",
       "</div>"
      ],
      "text/plain": [
       "                  Run                                        Description  \\\n",
       "0            Baseline                                  Baseline with RNN   \n",
       "1              No RNN                                Network without RNN   \n",
       "2  Additive Attention  Network using Additive Attention instead of Do...   \n",
       "\n",
       "   Validation Accuracy  Test Accuracy  \n",
       "0             0.794684       0.801156  \n",
       "1             0.813174       0.813102  \n",
       "2             0.713405       0.716378  "
      ]
     },
     "execution_count": 116,
     "metadata": {},
     "output_type": "execute_result"
    }
   ],
   "source": [
    "report = pd.DataFrame(\n",
    "    {\n",
    "        \"Run\": ['Baseline', 'No RNN', 'Additive Attention'],\n",
    "        \"Description\": ['Baseline with RNN', 'Network without RNN', 'Network using Additive Attention instead of Dot-Product Attention'],\n",
    "        \"Validation Accuracy\": [acc_val_baseline, acc_val_no_rnn, acc_val_additive],\n",
    "        \"Test Accuracy\": [acc_test_baseline, acc_test_no_rnn, acc_test_additive],\n",
    "    }\n",
    ")\n",
    "report"
   ]
  },
  {
   "cell_type": "code",
   "execution_count": 117,
   "metadata": {},
   "outputs": [],
   "source": [
    "report_df = pd.DataFrame({})\n",
    "report_df['Run'] = pd.concat([report['Run'], report['Run']])\n",
    "report_df['Description'] = pd.concat([report['Description'], report['Description']])\n",
    "report_df['acc'] = pd.concat([report['Validation Accuracy'], report['Test Accuracy']])\n",
    "report_df['set'] = ['val'] * 3 + ['test'] * 3"
   ]
  },
  {
   "cell_type": "code",
   "execution_count": 118,
   "metadata": {},
   "outputs": [
    {
     "data": {
      "text/plain": [
       "(0.6, 0.85)"
      ]
     },
     "execution_count": 118,
     "metadata": {},
     "output_type": "execute_result"
    },
    {
     "data": {
      "image/png": "[encoded data removed]",
      "text/plain": [
       "<Figure size 640x480 with 1 Axes>"
      ]
     },
     "metadata": {},
     "output_type": "display_data"
    }
   ],
   "source": [
    "sns.barplot(report_df, x='Run', y='acc', hue='set').set_ylim(0.6, 0.85)"
   ]
  },
  {
   "cell_type": "markdown",
   "metadata": {},
   "source": [
    "The variant without the RNN actually performs best on the validation and test set. Additive attention works worse than dot-product attention."
   ]
  },
  {
   "cell_type": "markdown",
   "metadata": {},
   "source": [
    "<a name=\"section-classification-transformer\"></a><h2 style=\"color:rgb(0,120,170)\">Task D: Document Classification with Transformer (15 points)</h2>"
   ]
  },
  {
   "cell_type": "markdown",
   "metadata": {},
   "source": [
    "<div style=\"background-color:rgb(224, 243, 255)\">\n",
    "    \n",
    "This task implements a document classification model using Transformer Decoder. This model is called **`ClassificationTransformerModel`** in the code, containing all various variants as explained later. \n",
    "\n",
    "The implementation of the basic architecture of `ClassificationTransformerModel` covers the following points:\n",
    "\n",
    "**Baseline model:** The architecture of baseline `ClassificationTransformerModel`is the exactly the same as the one of `ClassificationAttentionModel`. The only difference is that `ClassificationTransformerModel` replaces the Attention layer with a Transformer Decoder. \n",
    "\n",
    "- **Transformer Decoder (3 points).** Use `torch.nn.TransformerDecoder` class or any other implementation of Transformer Decoder. The baseline model consists of one layer of Transformer Decoder and is defined with default parameters of Transformer Decoder. As before, Query vector is defined separately, and used as the query of the Transformer.\n",
    "\n",
    "- **Model Functionality (1 point).**\n",
    "\n",
    "**Model variations:** Implement the **two variations** of the baseline model as explained below. Each variation applies only one change to the baseline architecture, making it possible to study the effect of the change. The code of all variations should be inside `ClassificationTransformerModel`, and executing a variation should be done by simply passing the corresponding parameters of the variation to the model. \n",
    "\n",
    "- **Transformer Encoder (3 point).** Replace the RNN layer with a Transformer Encoder. Similar to the RNN, the aim of this layer is to provide contextual embeddings of the input word embeddings. \n",
    "\n",
    "- **Number of heads (1 point).** Study the effect of increasing/decreasing the number of heads of the Transformer Decoder.\n",
    "\n",
    "- **Number of layers (1 point).** Study the effect of increasing the layers of the Transformer Decoder.\n",
    "\n",
    "\n",
    "**Reporting and discussion (1 point).** Report the evaluation results of the baseline model, as well as the ones for all the variations in a table and also in a plot. Discuss which variation(s) appear to be the most effective. Explain your take.\n",
    "</div>"
   ]
  },
  {
   "cell_type": "code",
   "execution_count": 119,
   "metadata": {},
   "outputs": [
    {
     "data": {
      "application/vnd.jupyter.widget-view+json": {
       "model_id": "2f411cae5f7b4f4fa80c932d6f80dd4e",
       "version_major": 2,
       "version_minor": 0
      },
      "text/plain": [
       "VBox(children=(Label(value='Waiting for wandb.init()...\\r'), FloatProgress(value=0.016673357216677686, max=1.0…"
      ]
     },
     "metadata": {},
     "output_type": "display_data"
    },
    {
     "data": {
      "text/html": [
       "wandb version 0.15.3 is available!  To upgrade, please run:\n",
       " $ pip install wandb --upgrade"
      ],
      "text/plain": [
       "<IPython.core.display.HTML object>"
      ]
     },
     "metadata": {},
     "output_type": "display_data"
    },
    {
     "data": {
      "text/html": [
       "Tracking run with wandb version 0.14.0"
      ],
      "text/plain": [
       "<IPython.core.display.HTML object>"
      ]
     },
     "metadata": {},
     "output_type": "display_data"
    },
    {
     "data": {
      "text/html": [
       "Run data is saved locally in <code>/home/tobi/Documents/nlp/nlp-course-2022w/wandb/run-20230530_145026-onfj6xwg</code>"
      ],
      "text/plain": [
       "<IPython.core.display.HTML object>"
      ]
     },
     "metadata": {},
     "output_type": "display_data"
    },
    {
     "data": {
      "text/html": [
       "Syncing run <strong><a href='https://wandb.ai/tobiasm/NLPwDL/runs/onfj6xwg' target=\"_blank\">Transformer</a></strong> to <a href='https://wandb.ai/tobiasm/NLPwDL' target=\"_blank\">Weights & Biases</a> (<a href='https://wandb.me/run' target=\"_blank\">docs</a>)<br/>"
      ],
      "text/plain": [
       "<IPython.core.display.HTML object>"
      ]
     },
     "metadata": {},
     "output_type": "display_data"
    },
    {
     "data": {
      "text/html": [
       " View project at <a href='https://wandb.ai/tobiasm/NLPwDL' target=\"_blank\">https://wandb.ai/tobiasm/NLPwDL</a>"
      ],
      "text/plain": [
       "<IPython.core.display.HTML object>"
      ]
     },
     "metadata": {},
     "output_type": "display_data"
    },
    {
     "data": {
      "text/html": [
       " View run at <a href='https://wandb.ai/tobiasm/NLPwDL/runs/onfj6xwg' target=\"_blank\">https://wandb.ai/tobiasm/NLPwDL/runs/onfj6xwg</a>"
      ],
      "text/plain": [
       "<IPython.core.display.HTML object>"
      ]
     },
     "metadata": {},
     "output_type": "display_data"
    },
    {
     "data": {
      "text/html": [
       "<button onClick=\"this.nextSibling.style.display='block';this.style.display='none';\">Display W&B run</button><iframe src='https://wandb.ai/tobiasm/NLPwDL/runs/onfj6xwg?jupyter=true' style='border:none;width:100%;height:420px;display:none;'></iframe>"
      ],
      "text/plain": [
       "<wandb.sdk.wandb_run.Run at 0x7fbac47a9810>"
      ]
     },
     "execution_count": 119,
     "metadata": {},
     "output_type": "execute_result"
    }
   ],
   "source": [
    "wandb.init(project=\"NLPwDL\", entity=\"tobiasm\", name=\"Transformer\")"
   ]
  },
  {
   "cell_type": "code",
   "execution_count": 120,
   "metadata": {},
   "outputs": [
    {
     "data": {
      "text/plain": [
       "(300, 12)"
      ]
     },
     "execution_count": 120,
     "metadata": {},
     "output_type": "execute_result"
    }
   ],
   "source": [
    "lookup.embedding_dim, np.unique(train_df[\"label\"]).shape[0]"
   ]
  },
  {
   "cell_type": "code",
   "execution_count": 121,
   "metadata": {
    "collapsed": false,
    "jupyter": {
     "outputs_hidden": false
    }
   },
   "outputs": [],
   "source": [
    "class ClassificationTransformerModel(ClassificationAverageModel):\n",
    "    def __init__(\n",
    "            self,\n",
    "            lookup,\n",
    "            num_classes,\n",
    "            freeze_embeddings=False,\n",
    "            random_embeddings=False,\n",
    "            hidden_size=128,\n",
    "            bidirectional=True,\n",
    "            dropout=0.5,\n",
    "            attention_type=\"dot\",\n",
    "            rnn_type=\"LSTM\",\n",
    "            use_transformer_encoder=False,\n",
    "            n_heads=1,\n",
    "            n_layers=1,\n",
    "    ):\n",
    "        super().__init__(lookup, num_classes)\n",
    "        self.freeze_embeddings = freeze_embeddings\n",
    "        self.random_embeddings = random_embeddings\n",
    "        self.hidden_size = hidden_size\n",
    "        self.bidirectional = bidirectional\n",
    "        self.dropout = dropout\n",
    "        self.embedding_dim = lookup.embedding_dim\n",
    "        self.attention_type = attention_type\n",
    "        self.rnn_type = rnn_type\n",
    "        self.use_transformer_encoder = use_transformer_encoder\n",
    "        self.n_heads = n_heads\n",
    "        self.n_layers = n_layers\n",
    "\n",
    "        self.rnn = None\n",
    "        self.attention = None\n",
    "        self.decoder = None\n",
    "        self._build_model()\n",
    "\n",
    "    def _build_model(self):\n",
    "        \"\"\"\n",
    "        Build the model\n",
    "        :return: None\n",
    "        \"\"\"\n",
    "        # Embeddings\n",
    "        if self.random_embeddings:\n",
    "            self.lookup = nn.Embedding.from_pretrained(\n",
    "                torch.randn(self.vocab_size, self.embedding_dim)\n",
    "            )\n",
    "        if self.freeze_embeddings:\n",
    "            self.lookup.weight.requires_grad = False\n",
    "        # encoder\n",
    "        if self.use_transformer_encoder:\n",
    "            DECODER_DIM = self.embedding_dim\n",
    "            self.encoder = nn.TransformerEncoder(\n",
    "                nn.TransformerEncoderLayer(\n",
    "                    d_model=self.embedding_dim,\n",
    "                    nhead=self.n_heads,\n",
    "                    dim_feedforward=self.hidden_size,\n",
    "                    dropout=self.dropout,\n",
    "                ),\n",
    "                num_layers=self.n_layers,\n",
    "            )\n",
    "        else:\n",
    "            DECODER_DIM = self.hidden_size * (2 if self.bidirectional else 1)\n",
    "            self.encoder = getattr(nn, self.rnn_type)(\n",
    "                input_size=self.embedding_dim,\n",
    "                hidden_size=self.hidden_size,\n",
    "                bidirectional=self.bidirectional,\n",
    "                batch_first=True,\n",
    "                dropout=self.dropout,\n",
    "            )\n",
    "            \n",
    "        # transformer decoder\n",
    "        self.decoder = nn.TransformerDecoder(\n",
    "            nn.TransformerDecoderLayer(\n",
    "                d_model=DECODER_DIM,\n",
    "                nhead=self.n_heads,\n",
    "                dim_feedforward=self.hidden_size,\n",
    "                dropout=self.dropout,\n",
    "            ),\n",
    "            num_layers=self.n_layers,\n",
    "        )\n",
    "\n",
    "        # linear\n",
    "        self.linear = nn.Linear(\n",
    "            in_features=DECODER_DIM,\n",
    "            out_features=self.num_classes,\n",
    "        )\n",
    "\n",
    "        # dropout\n",
    "        self.dropout = nn.Dropout(self.dropout)\n",
    "\n",
    "        # softmax\n",
    "        self.softmax = nn.Softmax(dim=2)\n",
    "\n",
    "    def forward(self, x):\n",
    "        \"\"\"\n",
    "        Forward pass\n",
    "        :param x: input\n",
    "        :return: output\n",
    "        \"\"\"\n",
    "        \n",
    "        # embeddings\n",
    "        x = self.lookup(x)\n",
    "        \n",
    "        # encoder\n",
    "        if self.use_transformer_encoder:\n",
    "            x = self.encoder(x)\n",
    "        else:\n",
    "            x, _ = self.encoder(x)\n",
    "        \n",
    "        # decoder\n",
    "        x = self.decoder(x, x)\n",
    "        \n",
    "        # linear\n",
    "        x = self.linear(x)\n",
    "        \n",
    "        # dropout\n",
    "        x = self.dropout(x)\n",
    "        \n",
    "        # softmax\n",
    "        x = self.softmax(x)\n",
    "        x = x.mean(dim=1)\n",
    "        \n",
    "        return x"
   ]
  },
  {
   "cell_type": "code",
   "execution_count": 122,
   "metadata": {
    "collapsed": false,
    "jupyter": {
     "outputs_hidden": false
    }
   },
   "outputs": [
    {
     "name": "stderr",
     "output_type": "stream",
     "text": [
      "/home/tobi/anaconda3/envs/malach/lib/python3.7/site-packages/torch/nn/modules/rnn.py:65: UserWarning: dropout option adds dropout after all but last recurrent layer, so non-zero dropout expects num_layers greater than 1, but got dropout=0.5 and num_layers=1\n",
      "  \"num_layers={}\".format(dropout, num_layers))\n"
     ]
    }
   ],
   "source": [
    "model = ClassificationTransformerModel(\n",
    "    lookup=lookup.to(device),\n",
    "    num_classes=np.unique(train_df[\"label\"]).shape[0], \n",
    ").to(device)"
   ]
  },
  {
   "cell_type": "code",
   "execution_count": 123,
   "metadata": {
    "collapsed": false,
    "jupyter": {
     "outputs_hidden": false
    }
   },
   "outputs": [],
   "source": [
    "from torch import optim\n",
    "\n",
    "config['LOSS'] = \"ce\"\n",
    "if config['LOSS'] == \"nll\":\n",
    "    criterion = nn.NLLLoss()\n",
    "else:\n",
    "    # Cross Entropy is the default loss function\n",
    "    criterion = nn.CrossEntropyLoss()"
   ]
  },
  {
   "cell_type": "code",
   "execution_count": 124,
   "metadata": {
    "collapsed": false,
    "jupyter": {
     "outputs_hidden": false
    }
   },
   "outputs": [],
   "source": [
    "config['LR'] = 1e-4\n",
    "config['optim_fn'] = \"adam\"\n",
    "config[\"l2_regularization\"] = 0.0\n",
    "\n",
    "if config['optim_fn'] == \"sgd\":\n",
    "    optimizer = optim.SGD(model.parameters(), lr=config['LR'], weight_decay=config[\"l2_regularization\"])\n",
    "else:\n",
    "    # Adam is the default optimizer\n",
    "    optimizer = optim.Adam(model.parameters(), lr=config['LR'])"
   ]
  },
  {
   "cell_type": "code",
   "execution_count": 125,
   "metadata": {
    "collapsed": false,
    "jupyter": {
     "outputs_hidden": false
    }
   },
   "outputs": [],
   "source": [
    "config['N_EPOCHS'] = 20\n",
    "config['PATIENCE'] = 3\n",
    "config['DO_TRAIN'] = True\n",
    "config['MODEL_ARCH'] = 'transformer_baseline'\n",
    "\n",
    "wandb.config = config"
   ]
  },
  {
   "cell_type": "code",
   "execution_count": 126,
   "metadata": {
    "collapsed": false,
    "jupyter": {
     "outputs_hidden": false
    }
   },
   "outputs": [
    {
     "name": "stdout",
     "output_type": "stream",
     "text": [
      "Start training!\n",
      "===============\n",
      "Optimizer: adam, Loss: ce, LR: 0.0001\n",
      "Epochs: 20, Patience: 3\n",
      "=======================\n",
      "\n"
     ]
    },
    {
     "data": {
      "application/vnd.jupyter.widget-view+json": {
       "model_id": "dd2e583dd6cf4fa6bf4d901cd5148ca6",
       "version_major": 2,
       "version_minor": 0
      },
      "text/plain": [
       "Epochs:   0%|          | 0/20 [00:00<?, ?it/s]"
      ]
     },
     "metadata": {},
     "output_type": "display_data"
    },
    {
     "name": "stdout",
     "output_type": "stream",
     "text": [
      "Epoch: 1\n"
     ]
    },
    {
     "data": {
      "application/vnd.jupyter.widget-view+json": {
       "model_id": "5390cb6708c54e789d8504c07e4b1dfe",
       "version_major": 2,
       "version_minor": 0
      },
      "text/plain": [
       "Training:   0%|          | 0/379 [00:00<?, ?it/s]"
      ]
     },
     "metadata": {},
     "output_type": "display_data"
    },
    {
     "name": "stdout",
     "output_type": "stream",
     "text": [
      "Train accuracy: 0.5586292320396367, Train loss: 2.2535757924132738\n",
      "Validation Accuracy: 0.5862865947611711\n",
      "Best model updated\n",
      "Epoch: 2\n"
     ]
    },
    {
     "data": {
      "application/vnd.jupyter.widget-view+json": {
       "model_id": "da20fc8a6389454494e485c693df5c06",
       "version_major": 2,
       "version_minor": 0
      },
      "text/plain": [
       "Training:   0%|          | 0/379 [00:00<?, ?it/s]"
      ]
     },
     "metadata": {},
     "output_type": "display_data"
    },
    {
     "name": "stdout",
     "output_type": "stream",
     "text": [
      "Train accuracy: 0.7275805119735755, Train loss: 2.14915933835475\n",
      "Validation Accuracy: 0.7157164869029276\n",
      "Best model updated\n",
      "Epoch: 3\n"
     ]
    },
    {
     "data": {
      "application/vnd.jupyter.widget-view+json": {
       "model_id": "d310cd2b9b9d4c09a73f4e7f72bfcfec",
       "version_major": 2,
       "version_minor": 0
      },
      "text/plain": [
       "Training:   0%|          | 0/379 [00:00<?, ?it/s]"
      ]
     },
     "metadata": {},
     "output_type": "display_data"
    },
    {
     "name": "stdout",
     "output_type": "stream",
     "text": [
      "Train accuracy: 0.7610239471511148, Train loss: 2.1284912249029153\n",
      "Validation Accuracy: 0.7311248073959938\n",
      "Best model updated\n",
      "Epoch: 4\n"
     ]
    },
    {
     "data": {
      "application/vnd.jupyter.widget-view+json": {
       "model_id": "cf65be6b4e4f4705be4367e23f37fed0",
       "version_major": 2,
       "version_minor": 0
      },
      "text/plain": [
       "Training:   0%|          | 0/379 [00:00<?, ?it/s]"
      ]
     },
     "metadata": {},
     "output_type": "display_data"
    },
    {
     "name": "stdout",
     "output_type": "stream",
     "text": [
      "Train accuracy: 0.7832369942196532, Train loss: 2.118585460733298\n",
      "Validation Accuracy: 0.7361325115562404\n",
      "Best model updated\n",
      "Epoch: 5\n"
     ]
    },
    {
     "data": {
      "application/vnd.jupyter.widget-view+json": {
       "model_id": "81577be8d274462ab15be58791c5b49d",
       "version_major": 2,
       "version_minor": 0
      },
      "text/plain": [
       "Training:   0%|          | 0/379 [00:00<?, ?it/s]"
      ]
     },
     "metadata": {},
     "output_type": "display_data"
    },
    {
     "name": "stdout",
     "output_type": "stream",
     "text": [
      "Train accuracy: 0.7998348472336911, Train loss: 2.109789522467943\n",
      "Validation Accuracy: 0.7534668721109399\n",
      "Best model updated\n",
      "Epoch: 6\n"
     ]
    },
    {
     "data": {
      "application/vnd.jupyter.widget-view+json": {
       "model_id": "c7346218f4334cab94f3ec4356dc5def",
       "version_major": 2,
       "version_minor": 0
      },
      "text/plain": [
       "Training:   0%|          | 0/379 [00:00<?, ?it/s]"
      ]
     },
     "metadata": {},
     "output_type": "display_data"
    },
    {
     "name": "stdout",
     "output_type": "stream",
     "text": [
      "Train accuracy: 0.8053674649050372, Train loss: 2.105548754216499\n",
      "Validation Accuracy: 0.75231124807396\n",
      "Epoch: 7\n"
     ]
    },
    {
     "data": {
      "application/vnd.jupyter.widget-view+json": {
       "model_id": "0ea0ea2a24bc4332bf54f468597a34c4",
       "version_major": 2,
       "version_minor": 0
      },
      "text/plain": [
       "Training:   0%|          | 0/379 [00:00<?, ?it/s]"
      ]
     },
     "metadata": {},
     "output_type": "display_data"
    },
    {
     "name": "stdout",
     "output_type": "stream",
     "text": [
      "Train accuracy: 0.8168455821635012, Train loss: 2.0991672173653555\n",
      "Validation Accuracy: 0.7526964560862865\n",
      "Epoch: 8\n"
     ]
    },
    {
     "data": {
      "application/vnd.jupyter.widget-view+json": {
       "model_id": "bb640cea469b470387ebeb84885d40af",
       "version_major": 2,
       "version_minor": 0
      },
      "text/plain": [
       "Training:   0%|          | 0/379 [00:00<?, ?it/s]"
      ]
     },
     "metadata": {},
     "output_type": "display_data"
    },
    {
     "name": "stdout",
     "output_type": "stream",
     "text": [
      "Train accuracy: 0.822130470685384, Train loss: 2.0964300638767535\n",
      "Validation Accuracy: 0.7611710323574731\n",
      "Best model updated\n",
      "Epoch: 9\n"
     ]
    },
    {
     "data": {
      "application/vnd.jupyter.widget-view+json": {
       "model_id": "d521b8df940a49f885d112082b8ca79b",
       "version_major": 2,
       "version_minor": 0
      },
      "text/plain": [
       "Training:   0%|          | 0/379 [00:00<?, ?it/s]"
      ]
     },
     "metadata": {},
     "output_type": "display_data"
    },
    {
     "name": "stdout",
     "output_type": "stream",
     "text": [
      "Train accuracy: 0.8153592072667217, Train loss: 2.099793120235755\n",
      "Validation Accuracy: 0.7542372881355932\n",
      "Epoch: 10\n"
     ]
    },
    {
     "data": {
      "application/vnd.jupyter.widget-view+json": {
       "model_id": "d3493eb08c014334a74236acd00f9c16",
       "version_major": 2,
       "version_minor": 0
      },
      "text/plain": [
       "Training:   0%|          | 0/379 [00:00<?, ?it/s]"
      ]
     },
     "metadata": {},
     "output_type": "display_data"
    },
    {
     "name": "stdout",
     "output_type": "stream",
     "text": [
      "Train accuracy: 0.8167630057803468, Train loss: 2.0989242386377582\n",
      "Validation Accuracy: 0.7619414483821263\n",
      "Best model updated\n",
      "Epoch: 11\n"
     ]
    },
    {
     "data": {
      "application/vnd.jupyter.widget-view+json": {
       "model_id": "836b62f70426483b91468518b6f98fd3",
       "version_major": 2,
       "version_minor": 0
      },
      "text/plain": [
       "Training:   0%|          | 0/379 [00:00<?, ?it/s]"
      ]
     },
     "metadata": {},
     "output_type": "display_data"
    },
    {
     "name": "stdout",
     "output_type": "stream",
     "text": [
      "Train accuracy: 0.8260115606936416, Train loss: 2.0939937012176717\n",
      "Validation Accuracy: 0.7569337442218799\n",
      "Epoch: 12\n"
     ]
    },
    {
     "data": {
      "application/vnd.jupyter.widget-view+json": {
       "model_id": "8dba20c8dfc54937828eeca17a857021",
       "version_major": 2,
       "version_minor": 0
      },
      "text/plain": [
       "Training:   0%|          | 0/379 [00:00<?, ?it/s]"
      ]
     },
     "metadata": {},
     "output_type": "display_data"
    },
    {
     "name": "stdout",
     "output_type": "stream",
     "text": [
      "Train accuracy: 0.8283236994219653, Train loss: 2.092472773428643\n",
      "Validation Accuracy: 0.7642526964560863\n",
      "Best model updated\n",
      "Epoch: 13\n"
     ]
    },
    {
     "data": {
      "application/vnd.jupyter.widget-view+json": {
       "model_id": "6251277ab1ac4669840e74b5c9ea8701",
       "version_major": 2,
       "version_minor": 0
      },
      "text/plain": [
       "Training:   0%|          | 0/379 [00:00<?, ?it/s]"
      ]
     },
     "metadata": {},
     "output_type": "display_data"
    },
    {
     "name": "stdout",
     "output_type": "stream",
     "text": [
      "Train accuracy: 0.8289843104872007, Train loss: 2.091412422839444\n",
      "Validation Accuracy: 0.763482280431433\n",
      "Epoch: 14\n"
     ]
    },
    {
     "data": {
      "application/vnd.jupyter.widget-view+json": {
       "model_id": "b13dac89a02043bbab8b39098f49978d",
       "version_major": 2,
       "version_minor": 0
      },
      "text/plain": [
       "Training:   0%|          | 0/379 [00:00<?, ?it/s]"
      ]
     },
     "metadata": {},
     "output_type": "display_data"
    },
    {
     "name": "stdout",
     "output_type": "stream",
     "text": [
      "Train accuracy: 0.8320396366639141, Train loss: 2.0897162583383846\n",
      "Validation Accuracy: 0.7642526964560863\n",
      "Epoch: 15\n"
     ]
    },
    {
     "data": {
      "application/vnd.jupyter.widget-view+json": {
       "model_id": "084b808da6d24ba3a2b57f4b4fc8522f",
       "version_major": 2,
       "version_minor": 0
      },
      "text/plain": [
       "Training:   0%|          | 0/379 [00:00<?, ?it/s]"
      ]
     },
     "metadata": {},
     "output_type": "display_data"
    },
    {
     "name": "stdout",
     "output_type": "stream",
     "text": [
      "Train accuracy: 0.8235342691990091, Train loss: 2.094134968314762\n",
      "Validation Accuracy: 0.7546224961479199\n",
      "Early stopping after 15 epochs\n",
      "Training finished\n",
      "Best validation accuracy:  0.7642526964560863\n",
      "Best epoch:  12\n"
     ]
    }
   ],
   "source": [
    "if config['DO_TRAIN']:\n",
    "    best_model = do_train(\n",
    "        model=model,\n",
    "        criterion=criterion,\n",
    "        optimizer=optimizer,\n",
    "        batches=batches,\n",
    "        epochs=config['N_EPOCHS'],\n",
    "        patience=config['PATIENCE'],\n",
    "        model_arch=config['MODEL_ARCH'],\n",
    "        device=device\n",
    "    )\n",
    "else:\n",
    "    best_model = torch.load(f\"best_model_{config['MODEL_ARCH']}.pt\").to(device)"
   ]
  },
  {
   "cell_type": "code",
   "execution_count": 127,
   "metadata": {
    "collapsed": false,
    "jupyter": {
     "outputs_hidden": false
    }
   },
   "outputs": [
    {
     "name": "stdout",
     "output_type": "stream",
     "text": [
      "Validation accuracy:  0.7642526964560863\n",
      "Test accuracy:  0.7614643545279384\n"
     ]
    }
   ],
   "source": [
    "y_pred_val = predict(best_model, batches[\"val\"][\"x\"], device=device)\n",
    "acc_val_baseline = accuracy_score(val_df[\"label\"], y_pred_val)\n",
    "wandb.log({\"final_val_acc\": acc_val_baseline})\n",
    "print(\"Validation accuracy: \", acc_val_baseline)\n",
    "\n",
    "y_pred_test = predict(best_model, batches[\"test\"][\"x\"], device=device)\n",
    "assert y_pred_test.shape == (test_df.shape[0],)\n",
    "\n",
    "acc_test_baseline = accuracy_score(test_df[\"label\"], y_pred_test)\n",
    "wandb.log({\"test_acc\": acc_test_baseline})\n",
    "print(\"Test accuracy: \", acc_test_baseline)"
   ]
  },
  {
   "cell_type": "code",
   "execution_count": 128,
   "metadata": {},
   "outputs": [
    {
     "data": {
      "text/html": [
       "Waiting for W&B process to finish... <strong style=\"color:green\">(success).</strong>"
      ],
      "text/plain": [
       "<IPython.core.display.HTML object>"
      ]
     },
     "metadata": {},
     "output_type": "display_data"
    },
    {
     "data": {
      "application/vnd.jupyter.widget-view+json": {
       "model_id": "4e73b1ea83a24f94ad9da7d93c53ecf5",
       "version_major": 2,
       "version_minor": 0
      },
      "text/plain": [
       "VBox(children=(Label(value='0.002 MB of 0.002 MB uploaded (0.000 MB deduped)\\r'), FloatProgress(value=1.0, max…"
      ]
     },
     "metadata": {},
     "output_type": "display_data"
    },
    {
     "data": {
      "text/html": [
       "<style>\n",
       "    table.wandb td:nth-child(1) { padding: 0 10px; text-align: left ; width: auto;} td:nth-child(2) {text-align: left ; width: 100%}\n",
       "    .wandb-row { display: flex; flex-direction: row; flex-wrap: wrap; justify-content: flex-start; width: 100% }\n",
       "    .wandb-col { display: flex; flex-direction: column; flex-basis: 100%; flex: 1; padding: 10px; }\n",
       "    </style>\n",
       "<div class=\"wandb-row\"><div class=\"wandb-col\"><h3>Run history:</h3><br/><table class=\"wandb\"><tr><td>epoch</td><td>▁▁▂▃▃▃▄▅▅▅▆▇▇▇█</td></tr><tr><td>final_val_acc</td><td>▁</td></tr><tr><td>test_acc</td><td>▁</td></tr><tr><td>train_acc</td><td>▁▅▆▇▇▇█████████</td></tr><tr><td>train_loss</td><td>█▄▃▂▂▂▁▁▁▁▁▁▁▁▁</td></tr><tr><td>val_acc</td><td>▁▆▇▇███████████</td></tr><tr><td>val_loss</td><td>█▃▃▃▂▂▂▁▁▁▁▁▁▁▁</td></tr></table><br/></div><div class=\"wandb-col\"><h3>Run summary:</h3><br/><table class=\"wandb\"><tr><td>epoch</td><td>15</td></tr><tr><td>final_val_acc</td><td>0.76425</td></tr><tr><td>test_acc</td><td>0.76146</td></tr><tr><td>train_acc</td><td>0.82353</td></tr><tr><td>train_loss</td><td>2.09413</td></tr><tr><td>val_acc</td><td>0.75462</td></tr><tr><td>val_loss</td><td>1.8634</td></tr></table><br/></div></div>"
      ],
      "text/plain": [
       "<IPython.core.display.HTML object>"
      ]
     },
     "metadata": {},
     "output_type": "display_data"
    },
    {
     "data": {
      "text/html": [
       " View run <strong style=\"color:#cdcd00\">Transformer</strong> at: <a href='https://wandb.ai/tobiasm/NLPwDL/runs/onfj6xwg' target=\"_blank\">https://wandb.ai/tobiasm/NLPwDL/runs/onfj6xwg</a><br/>Synced 6 W&B file(s), 0 media file(s), 0 artifact file(s) and 0 other file(s)"
      ],
      "text/plain": [
       "<IPython.core.display.HTML object>"
      ]
     },
     "metadata": {},
     "output_type": "display_data"
    },
    {
     "data": {
      "text/html": [
       "Find logs at: <code>./wandb/run-20230530_145026-onfj6xwg/logs</code>"
      ],
      "text/plain": [
       "<IPython.core.display.HTML object>"
      ]
     },
     "metadata": {},
     "output_type": "display_data"
    }
   ],
   "source": [
    "wandb.finish()"
   ]
  },
  {
   "cell_type": "markdown",
   "metadata": {
    "jupyter": {
     "outputs_hidden": false
    }
   },
   "source": [
    "## Variation 1 - Transformer Encoder"
   ]
  },
  {
   "cell_type": "code",
   "execution_count": 129,
   "metadata": {},
   "outputs": [
    {
     "data": {
      "application/vnd.jupyter.widget-view+json": {
       "model_id": "115a4694e16e4eb5b24dd6ae95c01d31",
       "version_major": 2,
       "version_minor": 0
      },
      "text/plain": [
       "VBox(children=(Label(value='Waiting for wandb.init()...\\r'), FloatProgress(value=0.016672169600011937, max=1.0…"
      ]
     },
     "metadata": {},
     "output_type": "display_data"
    },
    {
     "data": {
      "text/html": [
       "wandb version 0.15.3 is available!  To upgrade, please run:\n",
       " $ pip install wandb --upgrade"
      ],
      "text/plain": [
       "<IPython.core.display.HTML object>"
      ]
     },
     "metadata": {},
     "output_type": "display_data"
    },
    {
     "data": {
      "text/html": [
       "Tracking run with wandb version 0.14.0"
      ],
      "text/plain": [
       "<IPython.core.display.HTML object>"
      ]
     },
     "metadata": {},
     "output_type": "display_data"
    },
    {
     "data": {
      "text/html": [
       "Run data is saved locally in <code>/home/tobi/Documents/nlp/nlp-course-2022w/wandb/run-20230530_145346-cb3f3lre</code>"
      ],
      "text/plain": [
       "<IPython.core.display.HTML object>"
      ]
     },
     "metadata": {},
     "output_type": "display_data"
    },
    {
     "data": {
      "text/html": [
       "Syncing run <strong><a href='https://wandb.ai/tobiasm/NLPwDL/runs/cb3f3lre' target=\"_blank\">transformer_with_encoder</a></strong> to <a href='https://wandb.ai/tobiasm/NLPwDL' target=\"_blank\">Weights & Biases</a> (<a href='https://wandb.me/run' target=\"_blank\">docs</a>)<br/>"
      ],
      "text/plain": [
       "<IPython.core.display.HTML object>"
      ]
     },
     "metadata": {},
     "output_type": "display_data"
    },
    {
     "data": {
      "text/html": [
       " View project at <a href='https://wandb.ai/tobiasm/NLPwDL' target=\"_blank\">https://wandb.ai/tobiasm/NLPwDL</a>"
      ],
      "text/plain": [
       "<IPython.core.display.HTML object>"
      ]
     },
     "metadata": {},
     "output_type": "display_data"
    },
    {
     "data": {
      "text/html": [
       " View run at <a href='https://wandb.ai/tobiasm/NLPwDL/runs/cb3f3lre' target=\"_blank\">https://wandb.ai/tobiasm/NLPwDL/runs/cb3f3lre</a>"
      ],
      "text/plain": [
       "<IPython.core.display.HTML object>"
      ]
     },
     "metadata": {},
     "output_type": "display_data"
    },
    {
     "data": {
      "text/html": [
       "<button onClick=\"this.nextSibling.style.display='block';this.style.display='none';\">Display W&B run</button><iframe src='https://wandb.ai/tobiasm/NLPwDL/runs/cb3f3lre?jupyter=true' style='border:none;width:100%;height:420px;display:none;'></iframe>"
      ],
      "text/plain": [
       "<wandb.sdk.wandb_run.Run at 0x7fbaf31ef790>"
      ]
     },
     "execution_count": 129,
     "metadata": {},
     "output_type": "execute_result"
    }
   ],
   "source": [
    "config['MODEL_ARCH'] = 'transformer_with_encoder'\n",
    "wandb.init(project=\"NLPwDL\", entity=\"tobiasm\", name=config['MODEL_ARCH'])"
   ]
  },
  {
   "cell_type": "code",
   "execution_count": 130,
   "metadata": {},
   "outputs": [],
   "source": [
    "model = ClassificationTransformerModel(\n",
    "    lookup=lookup.to(device),\n",
    "    num_classes=np.unique(train_df[\"label\"]).shape[0], \n",
    "    use_transformer_encoder=True,\n",
    ").to(device)\n",
    "\n",
    "if config['LOSS'] == \"nll\":\n",
    "    criterion = nn.NLLLoss()\n",
    "else:\n",
    "    # Cross Entropy is the default loss function\n",
    "    criterion = nn.CrossEntropyLoss()\n",
    "    \n",
    "if config['optim_fn'] == \"sgd\":\n",
    "    optimizer = optim.SGD(model.parameters(), lr=config['LR'], weight_decay=config[\"l2_regularization\"])\n",
    "else:\n",
    "    # Adam is the default optimizer\n",
    "    optimizer = optim.Adam(model.parameters(), lr=config['LR'])\n",
    "    \n",
    "wandb.config = config"
   ]
  },
  {
   "cell_type": "code",
   "execution_count": 131,
   "metadata": {},
   "outputs": [
    {
     "name": "stdout",
     "output_type": "stream",
     "text": [
      "Start training!\n",
      "===============\n",
      "Optimizer: adam, Loss: ce, LR: 0.0001\n",
      "Epochs: 20, Patience: 3\n",
      "=======================\n",
      "\n"
     ]
    },
    {
     "data": {
      "application/vnd.jupyter.widget-view+json": {
       "model_id": "3e9ab5ca9bdc470f96763784b78841e4",
       "version_major": 2,
       "version_minor": 0
      },
      "text/plain": [
       "Epochs:   0%|          | 0/20 [00:00<?, ?it/s]"
      ]
     },
     "metadata": {},
     "output_type": "display_data"
    },
    {
     "name": "stdout",
     "output_type": "stream",
     "text": [
      "Epoch: 1\n"
     ]
    },
    {
     "data": {
      "application/vnd.jupyter.widget-view+json": {
       "model_id": "19994c3ec12a4599ae815c17b11c1bfd",
       "version_major": 2,
       "version_minor": 0
      },
      "text/plain": [
       "Training:   0%|          | 0/379 [00:00<?, ?it/s]"
      ]
     },
     "metadata": {},
     "output_type": "display_data"
    },
    {
     "name": "stdout",
     "output_type": "stream",
     "text": [
      "Train accuracy: 0.3146985962014864, Train loss: 2.3579359715091837\n",
      "Validation Accuracy: 0.3066255778120185\n",
      "Best model updated\n",
      "Epoch: 2\n"
     ]
    },
    {
     "data": {
      "application/vnd.jupyter.widget-view+json": {
       "model_id": "c0db13b42af449c0932d549b697dc0ad",
       "version_major": 2,
       "version_minor": 0
      },
      "text/plain": [
       "Training:   0%|          | 0/379 [00:00<?, ?it/s]"
      ]
     },
     "metadata": {},
     "output_type": "display_data"
    },
    {
     "name": "stdout",
     "output_type": "stream",
     "text": [
      "Train accuracy: 0.3606110652353427, Train loss: 2.345732437903774\n",
      "Validation Accuracy: 0.3054699537750385\n",
      "Epoch: 3\n"
     ]
    },
    {
     "data": {
      "application/vnd.jupyter.widget-view+json": {
       "model_id": "e9cf7f2e004a432a926491ab0d9d6263",
       "version_major": 2,
       "version_minor": 0
      },
      "text/plain": [
       "Training:   0%|          | 0/379 [00:00<?, ?it/s]"
      ]
     },
     "metadata": {},
     "output_type": "display_data"
    },
    {
     "name": "stdout",
     "output_type": "stream",
     "text": [
      "Train accuracy: 0.3578034682080925, Train loss: 2.3421864773793084\n",
      "Validation Accuracy: 0.30315870570107856\n",
      "Epoch: 4\n"
     ]
    },
    {
     "data": {
      "application/vnd.jupyter.widget-view+json": {
       "model_id": "0dcf21d5a8094f2b954e22a136a68d3d",
       "version_major": 2,
       "version_minor": 0
      },
      "text/plain": [
       "Training:   0%|          | 0/379 [00:00<?, ?it/s]"
      ]
     },
     "metadata": {},
     "output_type": "display_data"
    },
    {
     "name": "stdout",
     "output_type": "stream",
     "text": [
      "Train accuracy: 0.36630883567299755, Train loss: 2.340926292389238\n",
      "Validation Accuracy: 0.31240369799691836\n",
      "Best model updated\n",
      "Epoch: 5\n"
     ]
    },
    {
     "data": {
      "application/vnd.jupyter.widget-view+json": {
       "model_id": "64c0aca2ba1a46568191dd522ec99255",
       "version_major": 2,
       "version_minor": 0
      },
      "text/plain": [
       "Training:   0%|          | 0/379 [00:00<?, ?it/s]"
      ]
     },
     "metadata": {},
     "output_type": "display_data"
    },
    {
     "name": "stdout",
     "output_type": "stream",
     "text": [
      "Train accuracy: 0.36416184971098264, Train loss: 2.3404388465478743\n",
      "Validation Accuracy: 0.31664098613251157\n",
      "Best model updated\n",
      "Epoch: 6\n"
     ]
    },
    {
     "data": {
      "application/vnd.jupyter.widget-view+json": {
       "model_id": "ee0cde753545479589a0b86482bd6e79",
       "version_major": 2,
       "version_minor": 0
      },
      "text/plain": [
       "Training:   0%|          | 0/379 [00:00<?, ?it/s]"
      ]
     },
     "metadata": {},
     "output_type": "display_data"
    },
    {
     "name": "stdout",
     "output_type": "stream",
     "text": [
      "Train accuracy: 0.3708505367464905, Train loss: 2.3383303556719053\n",
      "Validation Accuracy: 0.31856702619414484\n",
      "Best model updated\n",
      "Epoch: 7\n"
     ]
    },
    {
     "data": {
      "application/vnd.jupyter.widget-view+json": {
       "model_id": "1c293905107a4806852ebf43b80c5b97",
       "version_major": 2,
       "version_minor": 0
      },
      "text/plain": [
       "Training:   0%|          | 0/379 [00:00<?, ?it/s]"
      ]
     },
     "metadata": {},
     "output_type": "display_data"
    },
    {
     "name": "stdout",
     "output_type": "stream",
     "text": [
      "Train accuracy: 0.3694467382328654, Train loss: 2.338658061694344\n",
      "Validation Accuracy: 0.3135593220338983\n",
      "Epoch: 8\n"
     ]
    },
    {
     "data": {
      "application/vnd.jupyter.widget-view+json": {
       "model_id": "c01d3a3c045b4b069816c63532bfd270",
       "version_major": 2,
       "version_minor": 0
      },
      "text/plain": [
       "Training:   0%|          | 0/379 [00:00<?, ?it/s]"
      ]
     },
     "metadata": {},
     "output_type": "display_data"
    },
    {
     "name": "stdout",
     "output_type": "stream",
     "text": [
      "Train accuracy: 0.36688687035507844, Train loss: 2.3378153268768793\n",
      "Validation Accuracy: 0.31432973805855163\n",
      "Epoch: 9\n"
     ]
    },
    {
     "data": {
      "application/vnd.jupyter.widget-view+json": {
       "model_id": "f0f7dcd8aa814c659eb03059e114f701",
       "version_major": 2,
       "version_minor": 0
      },
      "text/plain": [
       "Training:   0%|          | 0/379 [00:00<?, ?it/s]"
      ]
     },
     "metadata": {},
     "output_type": "display_data"
    },
    {
     "name": "stdout",
     "output_type": "stream",
     "text": [
      "Train accuracy: 0.36639141205615194, Train loss: 2.3378994074849153\n",
      "Validation Accuracy: 0.31317411402157164\n",
      "Early stopping after 9 epochs\n",
      "Training finished\n",
      "Best validation accuracy:  0.31856702619414484\n",
      "Best epoch:  6\n"
     ]
    }
   ],
   "source": [
    "if config['DO_TRAIN']:\n",
    "    best_model = do_train(\n",
    "        model=model,\n",
    "        criterion=criterion,\n",
    "        optimizer=optimizer,\n",
    "        batches=batches,\n",
    "        epochs=config['N_EPOCHS'],\n",
    "        patience=config['PATIENCE'],\n",
    "        model_arch=config['MODEL_ARCH'],\n",
    "        device=device\n",
    "    )\n",
    "else:\n",
    "    best_model = torch.load(f\"best_model_{config['MODEL_ARCH']}.pt\").to(device)"
   ]
  },
  {
   "cell_type": "code",
   "execution_count": 132,
   "metadata": {},
   "outputs": [
    {
     "name": "stdout",
     "output_type": "stream",
     "text": [
      "Validation accuracy:  0.31856702619414484\n",
      "Test accuracy:  0.33371868978805397\n"
     ]
    }
   ],
   "source": [
    "y_pred_val = predict(best_model, batches[\"val\"][\"x\"], device=device)\n",
    "acc_val_one = accuracy_score(val_df[\"label\"], y_pred_val)\n",
    "wandb.log({\"final_val_acc\": acc_val_one})\n",
    "print(\"Validation accuracy: \", acc_val_one)\n",
    "\n",
    "y_pred_test = predict(best_model, batches[\"test\"][\"x\"], device=device)\n",
    "assert y_pred_test.shape == (test_df.shape[0],)\n",
    "\n",
    "acc_test_one = accuracy_score(test_df[\"label\"], y_pred_test)\n",
    "wandb.log({\"test_acc\": acc_test_one})\n",
    "print(\"Test accuracy: \", acc_test_one)"
   ]
  },
  {
   "cell_type": "code",
   "execution_count": 133,
   "metadata": {},
   "outputs": [
    {
     "data": {
      "text/html": [
       "Waiting for W&B process to finish... <strong style=\"color:green\">(success).</strong>"
      ],
      "text/plain": [
       "<IPython.core.display.HTML object>"
      ]
     },
     "metadata": {},
     "output_type": "display_data"
    },
    {
     "data": {
      "application/vnd.jupyter.widget-view+json": {
       "model_id": "b2d7806127b247d7b6a5260ffaf7d92c",
       "version_major": 2,
       "version_minor": 0
      },
      "text/plain": [
       "VBox(children=(Label(value='0.002 MB of 0.012 MB uploaded (0.000 MB deduped)\\r'), FloatProgress(value=0.169316…"
      ]
     },
     "metadata": {},
     "output_type": "display_data"
    },
    {
     "data": {
      "text/html": [
       "<style>\n",
       "    table.wandb td:nth-child(1) { padding: 0 10px; text-align: left ; width: auto;} td:nth-child(2) {text-align: left ; width: 100%}\n",
       "    .wandb-row { display: flex; flex-direction: row; flex-wrap: wrap; justify-content: flex-start; width: 100% }\n",
       "    .wandb-col { display: flex; flex-direction: column; flex-basis: 100%; flex: 1; padding: 10px; }\n",
       "    </style>\n",
       "<div class=\"wandb-row\"><div class=\"wandb-col\"><h3>Run history:</h3><br/><table class=\"wandb\"><tr><td>epoch</td><td>▁▂▃▄▅▅▆▇█</td></tr><tr><td>final_val_acc</td><td>▁</td></tr><tr><td>test_acc</td><td>▁</td></tr><tr><td>train_acc</td><td>▁▇▆▇▇███▇</td></tr><tr><td>train_loss</td><td>█▄▃▂▂▁▁▁▁</td></tr><tr><td>val_acc</td><td>▃▂▁▅▇█▆▆▆</td></tr><tr><td>val_loss</td><td>█▅▄▂▂▂▂▁▁</td></tr></table><br/></div><div class=\"wandb-col\"><h3>Run summary:</h3><br/><table class=\"wandb\"><tr><td>epoch</td><td>9</td></tr><tr><td>final_val_acc</td><td>0.31857</td></tr><tr><td>test_acc</td><td>0.33372</td></tr><tr><td>train_acc</td><td>0.36639</td></tr><tr><td>train_loss</td><td>2.3379</td></tr><tr><td>val_acc</td><td>0.31317</td></tr><tr><td>val_loss</td><td>2.28607</td></tr></table><br/></div></div>"
      ],
      "text/plain": [
       "<IPython.core.display.HTML object>"
      ]
     },
     "metadata": {},
     "output_type": "display_data"
    },
    {
     "data": {
      "text/html": [
       " View run <strong style=\"color:#cdcd00\">transformer_with_encoder</strong> at: <a href='https://wandb.ai/tobiasm/NLPwDL/runs/cb3f3lre' target=\"_blank\">https://wandb.ai/tobiasm/NLPwDL/runs/cb3f3lre</a><br/>Synced 6 W&B file(s), 0 media file(s), 0 artifact file(s) and 0 other file(s)"
      ],
      "text/plain": [
       "<IPython.core.display.HTML object>"
      ]
     },
     "metadata": {},
     "output_type": "display_data"
    },
    {
     "data": {
      "text/html": [
       "Find logs at: <code>./wandb/run-20230530_145346-cb3f3lre/logs</code>"
      ],
      "text/plain": [
       "<IPython.core.display.HTML object>"
      ]
     },
     "metadata": {},
     "output_type": "display_data"
    }
   ],
   "source": [
    "wandb.finish()"
   ]
  },
  {
   "cell_type": "markdown",
   "metadata": {},
   "source": [
    "## Variation 2 - change number of heads"
   ]
  },
  {
   "cell_type": "code",
   "execution_count": 134,
   "metadata": {},
   "outputs": [
    {
     "data": {
      "application/vnd.jupyter.widget-view+json": {
       "model_id": "aa0173892e31413586cb3a19e488988e",
       "version_major": 2,
       "version_minor": 0
      },
      "text/plain": [
       "VBox(children=(Label(value='Waiting for wandb.init()...\\r'), FloatProgress(value=0.01666943596665078, max=1.0)…"
      ]
     },
     "metadata": {},
     "output_type": "display_data"
    },
    {
     "data": {
      "text/html": [
       "wandb version 0.15.3 is available!  To upgrade, please run:\n",
       " $ pip install wandb --upgrade"
      ],
      "text/plain": [
       "<IPython.core.display.HTML object>"
      ]
     },
     "metadata": {},
     "output_type": "display_data"
    },
    {
     "data": {
      "text/html": [
       "Tracking run with wandb version 0.14.0"
      ],
      "text/plain": [
       "<IPython.core.display.HTML object>"
      ]
     },
     "metadata": {},
     "output_type": "display_data"
    },
    {
     "data": {
      "text/html": [
       "Run data is saved locally in <code>/home/tobi/Documents/nlp/nlp-course-2022w/wandb/run-20230530_145535-9jvnu3dg</code>"
      ],
      "text/plain": [
       "<IPython.core.display.HTML object>"
      ]
     },
     "metadata": {},
     "output_type": "display_data"
    },
    {
     "data": {
      "text/html": [
       "Syncing run <strong><a href='https://wandb.ai/tobiasm/NLPwDL/runs/9jvnu3dg' target=\"_blank\">transformer_nr_heads</a></strong> to <a href='https://wandb.ai/tobiasm/NLPwDL' target=\"_blank\">Weights & Biases</a> (<a href='https://wandb.me/run' target=\"_blank\">docs</a>)<br/>"
      ],
      "text/plain": [
       "<IPython.core.display.HTML object>"
      ]
     },
     "metadata": {},
     "output_type": "display_data"
    },
    {
     "data": {
      "text/html": [
       " View project at <a href='https://wandb.ai/tobiasm/NLPwDL' target=\"_blank\">https://wandb.ai/tobiasm/NLPwDL</a>"
      ],
      "text/plain": [
       "<IPython.core.display.HTML object>"
      ]
     },
     "metadata": {},
     "output_type": "display_data"
    },
    {
     "data": {
      "text/html": [
       " View run at <a href='https://wandb.ai/tobiasm/NLPwDL/runs/9jvnu3dg' target=\"_blank\">https://wandb.ai/tobiasm/NLPwDL/runs/9jvnu3dg</a>"
      ],
      "text/plain": [
       "<IPython.core.display.HTML object>"
      ]
     },
     "metadata": {},
     "output_type": "display_data"
    },
    {
     "data": {
      "text/html": [
       "<button onClick=\"this.nextSibling.style.display='block';this.style.display='none';\">Display W&B run</button><iframe src='https://wandb.ai/tobiasm/NLPwDL/runs/9jvnu3dg?jupyter=true' style='border:none;width:100%;height:420px;display:none;'></iframe>"
      ],
      "text/plain": [
       "<wandb.sdk.wandb_run.Run at 0x7fbaa1374590>"
      ]
     },
     "execution_count": 134,
     "metadata": {},
     "output_type": "execute_result"
    }
   ],
   "source": [
    "config['MODEL_ARCH'] = 'transformer_nr_heads'\n",
    "wandb.init(project=\"NLPwDL\", entity=\"tobiasm\", name=config['MODEL_ARCH'])"
   ]
  },
  {
   "cell_type": "code",
   "execution_count": 135,
   "metadata": {},
   "outputs": [
    {
     "name": "stderr",
     "output_type": "stream",
     "text": [
      "/home/tobi/anaconda3/envs/malach/lib/python3.7/site-packages/torch/nn/modules/rnn.py:65: UserWarning: dropout option adds dropout after all but last recurrent layer, so non-zero dropout expects num_layers greater than 1, but got dropout=0.5 and num_layers=1\n",
      "  \"num_layers={}\".format(dropout, num_layers))\n"
     ]
    }
   ],
   "source": [
    "model = ClassificationTransformerModel(\n",
    "    lookup=lookup.to(device),\n",
    "    num_classes=np.unique(train_df[\"label\"]).shape[0], \n",
    "    n_heads=2,\n",
    ").to(device)\n",
    "\n",
    "if config['LOSS'] == \"nll\":\n",
    "    criterion = nn.NLLLoss()\n",
    "else:\n",
    "    # Cross Entropy is the default loss function\n",
    "    criterion = nn.CrossEntropyLoss()\n",
    "    \n",
    "if config['optim_fn'] == \"sgd\":\n",
    "    optimizer = optim.SGD(model.parameters(), lr=config['LR'], weight_decay=config[\"l2_regularization\"])\n",
    "else:\n",
    "    # Adam is the default optimizer\n",
    "    optimizer = optim.Adam(model.parameters(), lr=config['LR'])\n",
    "    \n",
    "wandb.config = config"
   ]
  },
  {
   "cell_type": "code",
   "execution_count": 136,
   "metadata": {},
   "outputs": [
    {
     "name": "stdout",
     "output_type": "stream",
     "text": [
      "Start training!\n",
      "===============\n",
      "Optimizer: adam, Loss: ce, LR: 0.0001\n",
      "Epochs: 20, Patience: 3\n",
      "=======================\n",
      "\n"
     ]
    },
    {
     "data": {
      "application/vnd.jupyter.widget-view+json": {
       "model_id": "6899d9fceddf4c9cb393e10bc4ce1488",
       "version_major": 2,
       "version_minor": 0
      },
      "text/plain": [
       "Epochs:   0%|          | 0/20 [00:00<?, ?it/s]"
      ]
     },
     "metadata": {},
     "output_type": "display_data"
    },
    {
     "name": "stdout",
     "output_type": "stream",
     "text": [
      "Epoch: 1\n"
     ]
    },
    {
     "data": {
      "application/vnd.jupyter.widget-view+json": {
       "model_id": "770367c3cc3344e88d09b79d6351ee1e",
       "version_major": 2,
       "version_minor": 0
      },
      "text/plain": [
       "Training:   0%|          | 0/379 [00:00<?, ?it/s]"
      ]
     },
     "metadata": {},
     "output_type": "display_data"
    },
    {
     "name": "stdout",
     "output_type": "stream",
     "text": [
      "Train accuracy: 0.5695293146160199, Train loss: 2.2513447569039378\n",
      "Validation Accuracy: 0.6336671802773498\n",
      "Best model updated\n",
      "Epoch: 2\n"
     ]
    },
    {
     "data": {
      "application/vnd.jupyter.widget-view+json": {
       "model_id": "eb79de4f209a4a71b3098bc98ff0cb55",
       "version_major": 2,
       "version_minor": 0
      },
      "text/plain": [
       "Training:   0%|          | 0/379 [00:00<?, ?it/s]"
      ]
     },
     "metadata": {},
     "output_type": "display_data"
    },
    {
     "name": "stdout",
     "output_type": "stream",
     "text": [
      "Train accuracy: 0.7344343517753923, Train loss: 2.1469758934584644\n",
      "Validation Accuracy: 0.6798921417565486\n",
      "Best model updated\n",
      "Epoch: 3\n"
     ]
    },
    {
     "data": {
      "application/vnd.jupyter.widget-view+json": {
       "model_id": "7225f96a25c84b119a4108d599adf1c5",
       "version_major": 2,
       "version_minor": 0
      },
      "text/plain": [
       "Training:   0%|          | 0/379 [00:00<?, ?it/s]"
      ]
     },
     "metadata": {},
     "output_type": "display_data"
    },
    {
     "name": "stdout",
     "output_type": "stream",
     "text": [
      "Train accuracy: 0.7770437654830719, Train loss: 2.12749638720993\n",
      "Validation Accuracy: 0.726502311248074\n",
      "Best model updated\n",
      "Epoch: 4\n"
     ]
    },
    {
     "data": {
      "application/vnd.jupyter.widget-view+json": {
       "model_id": "d3caea2992fc44f2ace153705dc18dae",
       "version_major": 2,
       "version_minor": 0
      },
      "text/plain": [
       "Training:   0%|          | 0/379 [00:00<?, ?it/s]"
      ]
     },
     "metadata": {},
     "output_type": "display_data"
    },
    {
     "name": "stdout",
     "output_type": "stream",
     "text": [
      "Train accuracy: 0.7947151114781172, Train loss: 2.114722056250459\n",
      "Validation Accuracy: 0.7399845916795069\n",
      "Best model updated\n",
      "Epoch: 5\n"
     ]
    },
    {
     "data": {
      "application/vnd.jupyter.widget-view+json": {
       "model_id": "ce1cce850e1e4f368d80a0c3e256be89",
       "version_major": 2,
       "version_minor": 0
      },
      "text/plain": [
       "Training:   0%|          | 0/379 [00:00<?, ?it/s]"
      ]
     },
     "metadata": {},
     "output_type": "display_data"
    },
    {
     "name": "stdout",
     "output_type": "stream",
     "text": [
      "Train accuracy: 0.8073492981007432, Train loss: 2.1050126093358665\n",
      "Validation Accuracy: 0.7407550077041603\n",
      "Best model updated\n",
      "Epoch: 6\n"
     ]
    },
    {
     "data": {
      "application/vnd.jupyter.widget-view+json": {
       "model_id": "d58ca55df2b740638bd0a0fc8b9b6eb1",
       "version_major": 2,
       "version_minor": 0
      },
      "text/plain": [
       "Training:   0%|          | 0/379 [00:00<?, ?it/s]"
      ]
     },
     "metadata": {},
     "output_type": "display_data"
    },
    {
     "name": "stdout",
     "output_type": "stream",
     "text": [
      "Train accuracy: 0.8135425268373245, Train loss: 2.1019715463894966\n",
      "Validation Accuracy: 0.7573189522342064\n",
      "Best model updated\n",
      "Epoch: 7\n"
     ]
    },
    {
     "data": {
      "application/vnd.jupyter.widget-view+json": {
       "model_id": "f7a6eb976e2b490c8701dcc1c368e991",
       "version_major": 2,
       "version_minor": 0
      },
      "text/plain": [
       "Training:   0%|          | 0/379 [00:00<?, ?it/s]"
      ]
     },
     "metadata": {},
     "output_type": "display_data"
    },
    {
     "name": "stdout",
     "output_type": "stream",
     "text": [
      "Train accuracy: 0.8171758876961189, Train loss: 2.0991471015054506\n",
      "Validation Accuracy: 0.7557781201848999\n",
      "Epoch: 8\n"
     ]
    },
    {
     "data": {
      "application/vnd.jupyter.widget-view+json": {
       "model_id": "055819cfb7144f739468f98b2f9482d2",
       "version_major": 2,
       "version_minor": 0
      },
      "text/plain": [
       "Training:   0%|          | 0/379 [00:00<?, ?it/s]"
      ]
     },
     "metadata": {},
     "output_type": "display_data"
    },
    {
     "name": "stdout",
     "output_type": "stream",
     "text": [
      "Train accuracy: 0.8201486374896779, Train loss: 2.0966680358141896\n",
      "Validation Accuracy: 0.7345916795069337\n",
      "Epoch: 9\n"
     ]
    },
    {
     "data": {
      "application/vnd.jupyter.widget-view+json": {
       "model_id": "27a1212efcbc48c7ac55862f3db80c33",
       "version_major": 2,
       "version_minor": 0
      },
      "text/plain": [
       "Training:   0%|          | 0/379 [00:00<?, ?it/s]"
      ]
     },
     "metadata": {},
     "output_type": "display_data"
    },
    {
     "name": "stdout",
     "output_type": "stream",
     "text": [
      "Train accuracy: 0.8201486374896779, Train loss: 2.096623355920837\n",
      "Validation Accuracy: 0.7577041602465331\n",
      "Best model updated\n",
      "Epoch: 10\n"
     ]
    },
    {
     "data": {
      "application/vnd.jupyter.widget-view+json": {
       "model_id": "23913913d2284475aabf3ad12ab64b95",
       "version_major": 2,
       "version_minor": 0
      },
      "text/plain": [
       "Training:   0%|          | 0/379 [00:00<?, ?it/s]"
      ]
     },
     "metadata": {},
     "output_type": "display_data"
    },
    {
     "name": "stdout",
     "output_type": "stream",
     "text": [
      "Train accuracy: 0.8248554913294798, Train loss: 2.093799598613326\n",
      "Validation Accuracy: 0.7565485362095532\n",
      "Epoch: 11\n"
     ]
    },
    {
     "data": {
      "application/vnd.jupyter.widget-view+json": {
       "model_id": "0d436f9480e74d41a9a17c42241a5055",
       "version_major": 2,
       "version_minor": 0
      },
      "text/plain": [
       "Training:   0%|          | 0/379 [00:00<?, ?it/s]"
      ]
     },
     "metadata": {},
     "output_type": "display_data"
    },
    {
     "name": "stdout",
     "output_type": "stream",
     "text": [
      "Train accuracy: 0.825681255161024, Train loss: 2.093588440588093\n",
      "Validation Accuracy: 0.7573189522342064\n",
      "Epoch: 12\n"
     ]
    },
    {
     "data": {
      "application/vnd.jupyter.widget-view+json": {
       "model_id": "efdb3879c5e445ad99e0fae0c9b76338",
       "version_major": 2,
       "version_minor": 0
      },
      "text/plain": [
       "Training:   0%|          | 0/379 [00:00<?, ?it/s]"
      ]
     },
     "metadata": {},
     "output_type": "display_data"
    },
    {
     "name": "stdout",
     "output_type": "stream",
     "text": [
      "Train accuracy: 0.8243600330305533, Train loss: 2.093974850108567\n",
      "Validation Accuracy: 0.7604006163328197\n",
      "Best model updated\n",
      "Epoch: 13\n"
     ]
    },
    {
     "data": {
      "application/vnd.jupyter.widget-view+json": {
       "model_id": "778b7f8ea2894266b159eb523640590e",
       "version_major": 2,
       "version_minor": 0
      },
      "text/plain": [
       "Training:   0%|          | 0/379 [00:00<?, ?it/s]"
      ]
     },
     "metadata": {},
     "output_type": "display_data"
    },
    {
     "name": "stdout",
     "output_type": "stream",
     "text": [
      "Train accuracy: 0.8293146160198184, Train loss: 2.0914683285363433\n",
      "Validation Accuracy: 0.7684899845916795\n",
      "Best model updated\n",
      "Epoch: 14\n"
     ]
    },
    {
     "data": {
      "application/vnd.jupyter.widget-view+json": {
       "model_id": "db74c114594249b89205ff396951515b",
       "version_major": 2,
       "version_minor": 0
      },
      "text/plain": [
       "Training:   0%|          | 0/379 [00:00<?, ?it/s]"
      ]
     },
     "metadata": {},
     "output_type": "display_data"
    },
    {
     "name": "stdout",
     "output_type": "stream",
     "text": [
      "Train accuracy: 0.8293971924029727, Train loss: 2.091784222459416\n",
      "Validation Accuracy: 0.7569337442218799\n",
      "Epoch: 15\n"
     ]
    },
    {
     "data": {
      "application/vnd.jupyter.widget-view+json": {
       "model_id": "089de358b1294b68b29ae0cc66b7a055",
       "version_major": 2,
       "version_minor": 0
      },
      "text/plain": [
       "Training:   0%|          | 0/379 [00:00<?, ?it/s]"
      ]
     },
     "metadata": {},
     "output_type": "display_data"
    },
    {
     "name": "stdout",
     "output_type": "stream",
     "text": [
      "Train accuracy: 0.8309661436829067, Train loss: 2.090215030005865\n",
      "Validation Accuracy: 0.7650231124807396\n",
      "Epoch: 16\n"
     ]
    },
    {
     "data": {
      "application/vnd.jupyter.widget-view+json": {
       "model_id": "21f05cd5b4d74a39ba31dba2b321b942",
       "version_major": 2,
       "version_minor": 0
      },
      "text/plain": [
       "Training:   0%|          | 0/379 [00:00<?, ?it/s]"
      ]
     },
     "metadata": {},
     "output_type": "display_data"
    },
    {
     "name": "stdout",
     "output_type": "stream",
     "text": [
      "Train accuracy: 0.8328654004954583, Train loss: 2.089099531752453\n",
      "Validation Accuracy: 0.7607858243451464\n",
      "Early stopping after 16 epochs\n",
      "Training finished\n",
      "Best validation accuracy:  0.7684899845916795\n",
      "Best epoch:  13\n"
     ]
    }
   ],
   "source": [
    "if config['DO_TRAIN']:\n",
    "    best_model = do_train(\n",
    "        model=model,\n",
    "        criterion=criterion,\n",
    "        optimizer=optimizer,\n",
    "        batches=batches,\n",
    "        epochs=config['N_EPOCHS'],\n",
    "        patience=config['PATIENCE'],\n",
    "        model_arch=config['MODEL_ARCH'],\n",
    "        device=device\n",
    "    )\n",
    "else:\n",
    "    best_model = torch.load(f\"best_model_{config['MODEL_ARCH']}.pt\").to(device)"
   ]
  },
  {
   "cell_type": "code",
   "execution_count": 137,
   "metadata": {},
   "outputs": [
    {
     "name": "stdout",
     "output_type": "stream",
     "text": [
      "Validation accuracy:  0.7684899845916795\n",
      "Test accuracy:  0.7645472061657033\n"
     ]
    }
   ],
   "source": [
    "y_pred_val = predict(best_model, batches[\"val\"][\"x\"], device=device)\n",
    "acc_val_two = accuracy_score(val_df[\"label\"], y_pred_val)\n",
    "wandb.log({\"final_val_acc\": acc_val_two})\n",
    "print(\"Validation accuracy: \", acc_val_two)\n",
    "\n",
    "y_pred_test = predict(best_model, batches[\"test\"][\"x\"], device=device)\n",
    "assert y_pred_test.shape == (test_df.shape[0],)\n",
    "\n",
    "acc_test_two = accuracy_score(test_df[\"label\"], y_pred_test)\n",
    "wandb.log({\"test_acc\": acc_test_two})\n",
    "print(\"Test accuracy: \", acc_test_two)"
   ]
  },
  {
   "cell_type": "code",
   "execution_count": 138,
   "metadata": {},
   "outputs": [
    {
     "data": {
      "text/html": [
       "Waiting for W&B process to finish... <strong style=\"color:green\">(success).</strong>"
      ],
      "text/plain": [
       "<IPython.core.display.HTML object>"
      ]
     },
     "metadata": {},
     "output_type": "display_data"
    },
    {
     "data": {
      "application/vnd.jupyter.widget-view+json": {
       "model_id": "57c35f1e2a25473e952565cee87b300c",
       "version_major": 2,
       "version_minor": 0
      },
      "text/plain": [
       "VBox(children=(Label(value='0.002 MB of 0.002 MB uploaded (0.000 MB deduped)\\r'), FloatProgress(value=1.0, max…"
      ]
     },
     "metadata": {},
     "output_type": "display_data"
    },
    {
     "data": {
      "text/html": [
       "<style>\n",
       "    table.wandb td:nth-child(1) { padding: 0 10px; text-align: left ; width: auto;} td:nth-child(2) {text-align: left ; width: 100%}\n",
       "    .wandb-row { display: flex; flex-direction: row; flex-wrap: wrap; justify-content: flex-start; width: 100% }\n",
       "    .wandb-col { display: flex; flex-direction: column; flex-basis: 100%; flex: 1; padding: 10px; }\n",
       "    </style>\n",
       "<div class=\"wandb-row\"><div class=\"wandb-col\"><h3>Run history:</h3><br/><table class=\"wandb\"><tr><td>epoch</td><td>▁▁▂▂▃▃▄▄▅▅▆▆▇▇██</td></tr><tr><td>final_val_acc</td><td>▁</td></tr><tr><td>test_acc</td><td>▁</td></tr><tr><td>train_acc</td><td>▁▅▇▇▇▇██████████</td></tr><tr><td>train_loss</td><td>█▃▃▂▂▂▁▁▁▁▁▁▁▁▁▁</td></tr><tr><td>val_acc</td><td>▁▃▆▇▇▇▇▆▇▇▇██▇██</td></tr><tr><td>val_loss</td><td>█▅▄▃▂▂▂▂▁▁▁▁▁▁▁▁</td></tr></table><br/></div><div class=\"wandb-col\"><h3>Run summary:</h3><br/><table class=\"wandb\"><tr><td>epoch</td><td>16</td></tr><tr><td>final_val_acc</td><td>0.76849</td></tr><tr><td>test_acc</td><td>0.76455</td></tr><tr><td>train_acc</td><td>0.83287</td></tr><tr><td>train_loss</td><td>2.0891</td></tr><tr><td>val_acc</td><td>0.76079</td></tr><tr><td>val_loss</td><td>1.85666</td></tr></table><br/></div></div>"
      ],
      "text/plain": [
       "<IPython.core.display.HTML object>"
      ]
     },
     "metadata": {},
     "output_type": "display_data"
    },
    {
     "data": {
      "text/html": [
       " View run <strong style=\"color:#cdcd00\">transformer_nr_heads</strong> at: <a href='https://wandb.ai/tobiasm/NLPwDL/runs/9jvnu3dg' target=\"_blank\">https://wandb.ai/tobiasm/NLPwDL/runs/9jvnu3dg</a><br/>Synced 6 W&B file(s), 0 media file(s), 0 artifact file(s) and 0 other file(s)"
      ],
      "text/plain": [
       "<IPython.core.display.HTML object>"
      ]
     },
     "metadata": {},
     "output_type": "display_data"
    },
    {
     "data": {
      "text/html": [
       "Find logs at: <code>./wandb/run-20230530_145535-9jvnu3dg/logs</code>"
      ],
      "text/plain": [
       "<IPython.core.display.HTML object>"
      ]
     },
     "metadata": {},
     "output_type": "display_data"
    }
   ],
   "source": [
    "wandb.finish()"
   ]
  },
  {
   "cell_type": "markdown",
   "metadata": {
    "jupyter": {
     "outputs_hidden": false
    }
   },
   "source": [
    "## Variation 3 - change number of layers"
   ]
  },
  {
   "cell_type": "code",
   "execution_count": 139,
   "metadata": {},
   "outputs": [
    {
     "data": {
      "application/vnd.jupyter.widget-view+json": {
       "model_id": "d0ff58d79a9e4dcebb2c50e44785182d",
       "version_major": 2,
       "version_minor": 0
      },
      "text/plain": [
       "VBox(children=(Label(value='Waiting for wandb.init()...\\r'), FloatProgress(value=0.01666904890001509, max=1.0)…"
      ]
     },
     "metadata": {},
     "output_type": "display_data"
    },
    {
     "data": {
      "text/html": [
       "wandb version 0.15.3 is available!  To upgrade, please run:\n",
       " $ pip install wandb --upgrade"
      ],
      "text/plain": [
       "<IPython.core.display.HTML object>"
      ]
     },
     "metadata": {},
     "output_type": "display_data"
    },
    {
     "data": {
      "text/html": [
       "Tracking run with wandb version 0.14.0"
      ],
      "text/plain": [
       "<IPython.core.display.HTML object>"
      ]
     },
     "metadata": {},
     "output_type": "display_data"
    },
    {
     "data": {
      "text/html": [
       "Run data is saved locally in <code>/home/tobi/Documents/nlp/nlp-course-2022w/wandb/run-20230530_145915-4a78wbdo</code>"
      ],
      "text/plain": [
       "<IPython.core.display.HTML object>"
      ]
     },
     "metadata": {},
     "output_type": "display_data"
    },
    {
     "data": {
      "text/html": [
       "Syncing run <strong><a href='https://wandb.ai/tobiasm/NLPwDL/runs/4a78wbdo' target=\"_blank\">transformer_nr_layers</a></strong> to <a href='https://wandb.ai/tobiasm/NLPwDL' target=\"_blank\">Weights & Biases</a> (<a href='https://wandb.me/run' target=\"_blank\">docs</a>)<br/>"
      ],
      "text/plain": [
       "<IPython.core.display.HTML object>"
      ]
     },
     "metadata": {},
     "output_type": "display_data"
    },
    {
     "data": {
      "text/html": [
       " View project at <a href='https://wandb.ai/tobiasm/NLPwDL' target=\"_blank\">https://wandb.ai/tobiasm/NLPwDL</a>"
      ],
      "text/plain": [
       "<IPython.core.display.HTML object>"
      ]
     },
     "metadata": {},
     "output_type": "display_data"
    },
    {
     "data": {
      "text/html": [
       " View run at <a href='https://wandb.ai/tobiasm/NLPwDL/runs/4a78wbdo' target=\"_blank\">https://wandb.ai/tobiasm/NLPwDL/runs/4a78wbdo</a>"
      ],
      "text/plain": [
       "<IPython.core.display.HTML object>"
      ]
     },
     "metadata": {},
     "output_type": "display_data"
    },
    {
     "data": {
      "text/html": [
       "<button onClick=\"this.nextSibling.style.display='block';this.style.display='none';\">Display W&B run</button><iframe src='https://wandb.ai/tobiasm/NLPwDL/runs/4a78wbdo?jupyter=true' style='border:none;width:100%;height:420px;display:none;'></iframe>"
      ],
      "text/plain": [
       "<wandb.sdk.wandb_run.Run at 0x7fbacc02d190>"
      ]
     },
     "execution_count": 139,
     "metadata": {},
     "output_type": "execute_result"
    }
   ],
   "source": [
    "config['MODEL_ARCH'] = 'transformer_nr_layers'\n",
    "wandb.init(project=\"NLPwDL\", entity=\"tobiasm\", name=config['MODEL_ARCH'])"
   ]
  },
  {
   "cell_type": "code",
   "execution_count": 140,
   "metadata": {},
   "outputs": [
    {
     "name": "stderr",
     "output_type": "stream",
     "text": [
      "/home/tobi/anaconda3/envs/malach/lib/python3.7/site-packages/torch/nn/modules/rnn.py:65: UserWarning: dropout option adds dropout after all but last recurrent layer, so non-zero dropout expects num_layers greater than 1, but got dropout=0.5 and num_layers=1\n",
      "  \"num_layers={}\".format(dropout, num_layers))\n"
     ]
    }
   ],
   "source": [
    "model = ClassificationTransformerModel(\n",
    "    lookup=lookup.to(device),\n",
    "    num_classes=np.unique(train_df[\"label\"]).shape[0], \n",
    "    n_layers=2\n",
    ").to(device)\n",
    "\n",
    "if config['LOSS'] == \"nll\":\n",
    "    criterion = nn.NLLLoss()\n",
    "else:\n",
    "    # Cross Entropy is the default loss function\n",
    "    criterion = nn.CrossEntropyLoss()\n",
    "    \n",
    "if config['optim_fn'] == \"sgd\":\n",
    "    optimizer = optim.SGD(model.parameters(), lr=config['LR'], weight_decay=config[\"l2_regularization\"])\n",
    "else:\n",
    "    # Adam is the default optimizer\n",
    "    optimizer = optim.Adam(model.parameters(), lr=config['LR'])\n",
    "    \n",
    "wandb.config = config"
   ]
  },
  {
   "cell_type": "code",
   "execution_count": 141,
   "metadata": {},
   "outputs": [
    {
     "name": "stdout",
     "output_type": "stream",
     "text": [
      "Start training!\n",
      "===============\n",
      "Optimizer: adam, Loss: ce, LR: 0.0001\n",
      "Epochs: 20, Patience: 3\n",
      "=======================\n",
      "\n"
     ]
    },
    {
     "data": {
      "application/vnd.jupyter.widget-view+json": {
       "model_id": "bd4e87bc90f5464a8261f69422f14b0a",
       "version_major": 2,
       "version_minor": 0
      },
      "text/plain": [
       "Epochs:   0%|          | 0/20 [00:00<?, ?it/s]"
      ]
     },
     "metadata": {},
     "output_type": "display_data"
    },
    {
     "name": "stdout",
     "output_type": "stream",
     "text": [
      "Epoch: 1\n"
     ]
    },
    {
     "data": {
      "application/vnd.jupyter.widget-view+json": {
       "model_id": "a7f6277d9476453595e6d1aaa625ba45",
       "version_major": 2,
       "version_minor": 0
      },
      "text/plain": [
       "Training:   0%|          | 0/379 [00:00<?, ?it/s]"
      ]
     },
     "metadata": {},
     "output_type": "display_data"
    },
    {
     "name": "stdout",
     "output_type": "stream",
     "text": [
      "Train accuracy: 0.5682080924855492, Train loss: 2.248192866433579\n",
      "Validation Accuracy: 0.6822033898305084\n",
      "Best model updated\n",
      "Epoch: 2\n"
     ]
    },
    {
     "data": {
      "application/vnd.jupyter.widget-view+json": {
       "model_id": "de523474110c43e390f3b391f0b69f45",
       "version_major": 2,
       "version_minor": 0
      },
      "text/plain": [
       "Training:   0%|          | 0/379 [00:00<?, ?it/s]"
      ]
     },
     "metadata": {},
     "output_type": "display_data"
    },
    {
     "name": "stdout",
     "output_type": "stream",
     "text": [
      "Train accuracy: 0.7330305532617671, Train loss: 2.149418578613402\n",
      "Validation Accuracy: 0.7211093990755008\n",
      "Best model updated\n",
      "Epoch: 3\n"
     ]
    },
    {
     "data": {
      "application/vnd.jupyter.widget-view+json": {
       "model_id": "7e17a1e69af74863af8ea9515773da07",
       "version_major": 2,
       "version_minor": 0
      },
      "text/plain": [
       "Training:   0%|          | 0/379 [00:00<?, ?it/s]"
      ]
     },
     "metadata": {},
     "output_type": "display_data"
    },
    {
     "name": "stdout",
     "output_type": "stream",
     "text": [
      "Train accuracy: 0.790503715937242, Train loss: 2.1192338938448865\n",
      "Validation Accuracy: 0.7245762711864406\n",
      "Best model updated\n",
      "Epoch: 4\n"
     ]
    },
    {
     "data": {
      "application/vnd.jupyter.widget-view+json": {
       "model_id": "3c9be2784b4c4ed0b6893e325f20245f",
       "version_major": 2,
       "version_minor": 0
      },
      "text/plain": [
       "Training:   0%|          | 0/379 [00:00<?, ?it/s]"
      ]
     },
     "metadata": {},
     "output_type": "display_data"
    },
    {
     "name": "stdout",
     "output_type": "stream",
     "text": [
      "Train accuracy: 0.8095788604459124, Train loss: 2.1053390754558796\n",
      "Validation Accuracy: 0.7473035439137135\n",
      "Best model updated\n",
      "Epoch: 5\n"
     ]
    },
    {
     "data": {
      "application/vnd.jupyter.widget-view+json": {
       "model_id": "1e952f5918f3495185e25ad116f4f1b7",
       "version_major": 2,
       "version_minor": 0
      },
      "text/plain": [
       "Training:   0%|          | 0/379 [00:00<?, ?it/s]"
      ]
     },
     "metadata": {},
     "output_type": "display_data"
    },
    {
     "name": "stdout",
     "output_type": "stream",
     "text": [
      "Train accuracy: 0.8113129644921553, Train loss: 2.1030937087252775\n",
      "Validation Accuracy: 0.7399845916795069\n",
      "Epoch: 6\n"
     ]
    },
    {
     "data": {
      "application/vnd.jupyter.widget-view+json": {
       "model_id": "05b5bbbf27c445de8a8bea25cef42db5",
       "version_major": 2,
       "version_minor": 0
      },
      "text/plain": [
       "Training:   0%|          | 0/379 [00:00<?, ?it/s]"
      ]
     },
     "metadata": {},
     "output_type": "display_data"
    },
    {
     "name": "stdout",
     "output_type": "stream",
     "text": [
      "Train accuracy: 0.8202312138728324, Train loss: 2.0973073829132525\n",
      "Validation Accuracy: 0.7573189522342064\n",
      "Best model updated\n",
      "Epoch: 7\n"
     ]
    },
    {
     "data": {
      "application/vnd.jupyter.widget-view+json": {
       "model_id": "1f9554d57ed44563b6b10dbcc72525e7",
       "version_major": 2,
       "version_minor": 0
      },
      "text/plain": [
       "Training:   0%|          | 0/379 [00:00<?, ?it/s]"
      ]
     },
     "metadata": {},
     "output_type": "display_data"
    },
    {
     "name": "stdout",
     "output_type": "stream",
     "text": [
      "Train accuracy: 0.8250206440957886, Train loss: 2.0951120601794964\n",
      "Validation Accuracy: 0.75231124807396\n",
      "Epoch: 8\n"
     ]
    },
    {
     "data": {
      "application/vnd.jupyter.widget-view+json": {
       "model_id": "2f78c811c4c04956a421376e28e006a7",
       "version_major": 2,
       "version_minor": 0
      },
      "text/plain": [
       "Training:   0%|          | 0/379 [00:00<?, ?it/s]"
      ]
     },
     "metadata": {},
     "output_type": "display_data"
    },
    {
     "name": "stdout",
     "output_type": "stream",
     "text": [
      "Train accuracy: 0.8265895953757225, Train loss: 2.093414559527878\n",
      "Validation Accuracy: 0.7503852080123267\n",
      "Epoch: 9\n"
     ]
    },
    {
     "data": {
      "application/vnd.jupyter.widget-view+json": {
       "model_id": "7a51b025b7114cddb93ab7f42b89a9f0",
       "version_major": 2,
       "version_minor": 0
      },
      "text/plain": [
       "Training:   0%|          | 0/379 [00:00<?, ?it/s]"
      ]
     },
     "metadata": {},
     "output_type": "display_data"
    },
    {
     "name": "stdout",
     "output_type": "stream",
     "text": [
      "Train accuracy: 0.8258464079273328, Train loss: 2.0935088204205194\n",
      "Validation Accuracy: 0.7553929121725732\n",
      "Early stopping after 9 epochs\n",
      "Training finished\n",
      "Best validation accuracy:  0.7573189522342064\n",
      "Best epoch:  6\n"
     ]
    }
   ],
   "source": [
    "if config['DO_TRAIN']:\n",
    "    best_model = do_train(\n",
    "        model=model,\n",
    "        criterion=criterion,\n",
    "        optimizer=optimizer,\n",
    "        batches=batches,\n",
    "        epochs=config['N_EPOCHS'],\n",
    "        patience=config['PATIENCE'],\n",
    "        model_arch=config['MODEL_ARCH'],\n",
    "        device=device\n",
    "    )\n",
    "else:\n",
    "    best_model = torch.load(f\"best_model_{config['MODEL_ARCH']}.pt\").to(device)"
   ]
  },
  {
   "cell_type": "code",
   "execution_count": 142,
   "metadata": {},
   "outputs": [
    {
     "name": "stdout",
     "output_type": "stream",
     "text": [
      "Validation accuracy:  0.7573189522342064\n",
      "Test accuracy:  0.756840077071291\n"
     ]
    }
   ],
   "source": [
    "y_pred_val = predict(best_model, batches[\"val\"][\"x\"], device=device)\n",
    "acc_val_three = accuracy_score(val_df[\"label\"], y_pred_val)\n",
    "wandb.log({\"final_val_acc\": acc_val_three})\n",
    "print(\"Validation accuracy: \", acc_val_three)\n",
    "\n",
    "y_pred_test = predict(best_model, batches[\"test\"][\"x\"], device=device)\n",
    "assert y_pred_test.shape == (test_df.shape[0],)\n",
    "\n",
    "acc_test_three = accuracy_score(test_df[\"label\"], y_pred_test)\n",
    "wandb.log({\"test_acc\": acc_test_three})\n",
    "print(\"Test accuracy: \", acc_test_three)"
   ]
  },
  {
   "cell_type": "code",
   "execution_count": 143,
   "metadata": {},
   "outputs": [
    {
     "data": {
      "text/html": [
       "Waiting for W&B process to finish... <strong style=\"color:green\">(success).</strong>"
      ],
      "text/plain": [
       "<IPython.core.display.HTML object>"
      ]
     },
     "metadata": {},
     "output_type": "display_data"
    },
    {
     "data": {
      "application/vnd.jupyter.widget-view+json": {
       "model_id": "86fef79c077d4316917526fa449bd761",
       "version_major": 2,
       "version_minor": 0
      },
      "text/plain": [
       "VBox(children=(Label(value='0.002 MB of 0.002 MB uploaded (0.000 MB deduped)\\r'), FloatProgress(value=1.0, max…"
      ]
     },
     "metadata": {},
     "output_type": "display_data"
    },
    {
     "data": {
      "text/html": [
       "<style>\n",
       "    table.wandb td:nth-child(1) { padding: 0 10px; text-align: left ; width: auto;} td:nth-child(2) {text-align: left ; width: 100%}\n",
       "    .wandb-row { display: flex; flex-direction: row; flex-wrap: wrap; justify-content: flex-start; width: 100% }\n",
       "    .wandb-col { display: flex; flex-direction: column; flex-basis: 100%; flex: 1; padding: 10px; }\n",
       "    </style>\n",
       "<div class=\"wandb-row\"><div class=\"wandb-col\"><h3>Run history:</h3><br/><table class=\"wandb\"><tr><td>epoch</td><td>▁▂▃▄▅▅▆▇█</td></tr><tr><td>final_val_acc</td><td>▁</td></tr><tr><td>test_acc</td><td>▁</td></tr><tr><td>train_acc</td><td>▁▅▇██████</td></tr><tr><td>train_loss</td><td>█▄▂▂▁▁▁▁▁</td></tr><tr><td>val_acc</td><td>▁▅▅▇▆██▇█</td></tr><tr><td>val_loss</td><td>█▅▄▂▂▁▁▁▁</td></tr></table><br/></div><div class=\"wandb-col\"><h3>Run summary:</h3><br/><table class=\"wandb\"><tr><td>epoch</td><td>9</td></tr><tr><td>final_val_acc</td><td>0.75732</td></tr><tr><td>test_acc</td><td>0.75684</td></tr><tr><td>train_acc</td><td>0.82585</td></tr><tr><td>train_loss</td><td>2.09351</td></tr><tr><td>val_acc</td><td>0.75539</td></tr><tr><td>val_loss</td><td>1.86321</td></tr></table><br/></div></div>"
      ],
      "text/plain": [
       "<IPython.core.display.HTML object>"
      ]
     },
     "metadata": {},
     "output_type": "display_data"
    },
    {
     "data": {
      "text/html": [
       " View run <strong style=\"color:#cdcd00\">transformer_nr_layers</strong> at: <a href='https://wandb.ai/tobiasm/NLPwDL/runs/4a78wbdo' target=\"_blank\">https://wandb.ai/tobiasm/NLPwDL/runs/4a78wbdo</a><br/>Synced 6 W&B file(s), 0 media file(s), 0 artifact file(s) and 0 other file(s)"
      ],
      "text/plain": [
       "<IPython.core.display.HTML object>"
      ]
     },
     "metadata": {},
     "output_type": "display_data"
    },
    {
     "data": {
      "text/html": [
       "Find logs at: <code>./wandb/run-20230530_145915-4a78wbdo/logs</code>"
      ],
      "text/plain": [
       "<IPython.core.display.HTML object>"
      ]
     },
     "metadata": {},
     "output_type": "display_data"
    }
   ],
   "source": [
    "wandb.finish()"
   ]
  },
  {
   "cell_type": "markdown",
   "metadata": {},
   "source": [
    "## Reporting and discussion\n",
    "**Reporting and discussion (1 point).** Report the evaluation results of the baseline model, as well as the ones for all the variations in a table and also in a plot. Discuss which variation(s) appear to be the most effective. Explain your take."
   ]
  },
  {
   "cell_type": "code",
   "execution_count": 144,
   "metadata": {},
   "outputs": [
    {
     "data": {
      "text/html": [
       "<div>\n",
       "<style scoped>\n",
       "    .dataframe tbody tr th:only-of-type {\n",
       "        vertical-align: middle;\n",
       "    }\n",
       "\n",
       "    .dataframe tbody tr th {\n",
       "        vertical-align: top;\n",
       "    }\n",
       "\n",
       "    .dataframe thead th {\n",
       "        text-align: right;\n",
       "    }\n",
       "</style>\n",
       "<table border=\"1\" class=\"dataframe\">\n",
       "  <thead>\n",
       "    <tr style=\"text-align: right;\">\n",
       "      <th></th>\n",
       "      <th>Run</th>\n",
       "      <th>Validation Accuracy</th>\n",
       "      <th>Test Accuracy</th>\n",
       "    </tr>\n",
       "  </thead>\n",
       "  <tbody>\n",
       "    <tr>\n",
       "      <th>0</th>\n",
       "      <td>Baseline</td>\n",
       "      <td>0.764253</td>\n",
       "      <td>0.761464</td>\n",
       "    </tr>\n",
       "    <tr>\n",
       "      <th>1</th>\n",
       "      <td>w/ Encoder</td>\n",
       "      <td>0.318567</td>\n",
       "      <td>0.333719</td>\n",
       "    </tr>\n",
       "    <tr>\n",
       "      <th>2</th>\n",
       "      <td>w/ x heads</td>\n",
       "      <td>0.768490</td>\n",
       "      <td>0.764547</td>\n",
       "    </tr>\n",
       "    <tr>\n",
       "      <th>3</th>\n",
       "      <td>w/ x layers</td>\n",
       "      <td>0.757319</td>\n",
       "      <td>0.756840</td>\n",
       "    </tr>\n",
       "  </tbody>\n",
       "</table>\n",
       "</div>"
      ],
      "text/plain": [
       "           Run  Validation Accuracy  Test Accuracy\n",
       "0     Baseline             0.764253       0.761464\n",
       "1   w/ Encoder             0.318567       0.333719\n",
       "2   w/ x heads             0.768490       0.764547\n",
       "3  w/ x layers             0.757319       0.756840"
      ]
     },
     "execution_count": 144,
     "metadata": {},
     "output_type": "execute_result"
    }
   ],
   "source": [
    "report = pd.DataFrame(\n",
    "    {\n",
    "        \"Run\": ['Baseline', 'w/ Encoder', 'w/ x heads', 'w/ x layers'],\n",
    "        \"Validation Accuracy\": [acc_val_baseline, acc_val_one, acc_val_two, acc_val_three],\n",
    "        \"Test Accuracy\": [acc_test_baseline, acc_test_one, acc_test_two, acc_test_three],\n",
    "    }\n",
    ")\n",
    "report"
   ]
  },
  {
   "cell_type": "code",
   "execution_count": 145,
   "metadata": {},
   "outputs": [],
   "source": [
    "report_df = pd.DataFrame({})\n",
    "report_df['Run'] = pd.concat([report['Run'], report['Run']])\n",
    "report_df['acc'] = pd.concat([report['Validation Accuracy'], report['Test Accuracy']])\n",
    "report_df['set'] = ['val'] * 4 + ['test'] * 4"
   ]
  },
  {
   "cell_type": "code",
   "execution_count": 146,
   "metadata": {},
   "outputs": [
    {
     "data": {
      "text/plain": [
       "(0.2, 0.85)"
      ]
     },
     "execution_count": 146,
     "metadata": {},
     "output_type": "execute_result"
    },
    {
     "data": {
      "image/png": "[encoded data removed]",
      "text/plain": [
       "<Figure size 640x480 with 1 Axes>"
      ]
     },
     "metadata": {},
     "output_type": "display_data"
    }
   ],
   "source": [
    "sns.barplot(report_df, x='Run', y='acc', hue='set').set_ylim(0.2, 0.85)"
   ]
  },
  {
   "cell_type": "markdown",
   "metadata": {},
   "source": [
    "With the available computing resources and with this dataset, increasing the number of heads or the number of layers does not seem to significantly boost the performance.\n",
    "\n",
    "The variant with the Transformer Encoder does not work well, as can be seen by the training loss, which does not really go down. We assume something is missing for the vanilla encoder to work well in our setup. "
   ]
  },
  {
   "cell_type": "markdown",
   "metadata": {},
   "source": [
    "<a name=\"section-interpretation\"></a><h2 style=\"color:rgb(0,120,170)\">Task E: Interpreting Attention Weights (3 extra points)</h2>"
   ]
  },
  {
   "cell_type": "markdown",
   "metadata": {},
   "source": [
    "<div style=\"background-color:rgb(224, 243, 255)\">\n",
    "\n",
    "The aim of this task is to provide an interpretation of the functionality of one of the models, by exploring which words have the higher contributions to the prediction results of some specific documents. \n",
    "\n",
    "**Attention weights (2.5 extra points):** Select one of the models trained in the previous tasks as you prefer. Select four documents from test set, such that two are correctly and the other two are incorrectly classified by the model. Next, run the forward pass for each of these documents and extract the corresponding attention weights from the model. Separately for each document, interpret the mechanism of the classifier by looking at the words with the highest attention weights. Do these words – in your opinion – provide important information to the predicted class?\n",
    "\n",
    "**Visualization (0.5 overall extra points):** Visualize the attention weights over document’s words. Some suggested tools and resources:\n",
    "\n",
    "https://github.com/minqi/hnatt\n",
    "\n",
    "https://github.com/jiesutd/Text-Attention-Heatmap-Visualization \n",
    "\n",
    "https://github.com/cbaziotis/neat-vision\n",
    "</div>"
   ]
  },
  {
   "cell_type": "code",
   "execution_count": 147,
   "metadata": {},
   "outputs": [],
   "source": [
    "model = torch.load(f\"best_model_attention_no_RNN.pt\").to(device)"
   ]
  },
  {
   "cell_type": "code",
   "execution_count": 148,
   "metadata": {},
   "outputs": [],
   "source": [
    "x_test = batches[\"test\"][\"x\"]\n",
    "x_test_arr = np.vstack(x_test[:-1])"
   ]
  },
  {
   "cell_type": "code",
   "execution_count": 149,
   "metadata": {},
   "outputs": [],
   "source": [
    "y_pred_test = predict(model, batches[\"test\"][\"x\"], device=device)\n",
    "y_test = batches[\"test\"][\"y\"]"
   ]
  },
  {
   "cell_type": "code",
   "execution_count": 150,
   "metadata": {},
   "outputs": [],
   "source": [
    "y_test_arr = np.hstack(y_test[:-1])\n",
    "y_pred_test_arr = y_pred_test[:len(y_test_arr)]"
   ]
  },
  {
   "cell_type": "code",
   "execution_count": 151,
   "metadata": {},
   "outputs": [],
   "source": [
    "correct_classified_indices = np.where(y_pred_test_arr == y_test_arr)[0]"
   ]
  },
  {
   "cell_type": "code",
   "execution_count": 152,
   "metadata": {},
   "outputs": [],
   "source": [
    "incorrect_classified_indices = np.where(y_pred_test_arr != y_test_arr)[0]"
   ]
  },
  {
   "cell_type": "code",
   "execution_count": 153,
   "metadata": {},
   "outputs": [],
   "source": [
    "correct_idx1 = np.random.choice(correct_classified_indices)\n",
    "correct_idx2 = np.random.choice(correct_classified_indices)\n",
    "\n",
    "incorrect_idx1 = np.random.choice(incorrect_classified_indices)\n",
    "incorrect_idx2 = np.random.choice(incorrect_classified_indices)"
   ]
  },
  {
   "cell_type": "code",
   "execution_count": 154,
   "metadata": {},
   "outputs": [],
   "source": [
    "correct_x1 = x_test_arr[correct_idx1]\n",
    "correct_x2 = x_test_arr[correct_idx2]\n",
    "\n",
    "incorrect_x1 = x_test_arr[incorrect_idx1]\n",
    "incorrect_x2 = x_test_arr[incorrect_idx2]\n",
    "\n",
    "correct_x1.resize(1, 100)\n",
    "correct_x2.resize(1, 100)\n",
    "\n",
    "incorrect_x1.resize(1, 100)\n",
    "incorrect_x2.resize(1, 100)\n",
    "\n",
    "correct_x1 = torch.LongTensor(correct_x1).to(device)\n",
    "correct_x2 = torch.LongTensor(correct_x2).to(device)\n",
    "incorrect_x1 = torch.LongTensor(incorrect_x1).to(device)\n",
    "incorrect_x2 = torch.LongTensor(incorrect_x2).to(device)"
   ]
  },
  {
   "cell_type": "code",
   "execution_count": 155,
   "metadata": {},
   "outputs": [
    {
     "data": {
      "text/plain": [
       "'An impressive outbreak has started in North Kivu province, affecting mainly Goma, Karisimbi, Nyirango and Binza. Based on this specific situation, the regional cholera platform has looked for additional information and found out that, 1,464 cumulated cases incl. 12 deaths were reported in a 4- week time (between W24 and W28) in the sole North Kivu Province.'"
      ]
     },
     "execution_count": 155,
     "metadata": {},
     "output_type": "execute_result"
    }
   ],
   "source": [
    "rnn_correct_x1 = model.lookup(correct_x1)\n",
    "attention_scores_correct_x1, attention_weights_correct_x1 = model.attention(rnn_correct_x1, rnn_correct_x1)\n",
    "test_df['text'][correct_idx1]"
   ]
  },
  {
   "cell_type": "code",
   "execution_count": 156,
   "metadata": {},
   "outputs": [
    {
     "data": {
      "text/html": [
       "<div>\n",
       "<style scoped>\n",
       "    .dataframe tbody tr th:only-of-type {\n",
       "        vertical-align: middle;\n",
       "    }\n",
       "\n",
       "    .dataframe tbody tr th {\n",
       "        vertical-align: top;\n",
       "    }\n",
       "\n",
       "    .dataframe thead th {\n",
       "        text-align: right;\n",
       "    }\n",
       "</style>\n",
       "<table border=\"1\" class=\"dataframe\">\n",
       "  <thead>\n",
       "    <tr style=\"text-align: right;\">\n",
       "      <th></th>\n",
       "      <th>words</th>\n",
       "      <th>weights</th>\n",
       "    </tr>\n",
       "  </thead>\n",
       "  <tbody>\n",
       "    <tr>\n",
       "      <th>21</th>\n",
       "      <td>cholera</td>\n",
       "      <td>0.094277</td>\n",
       "    </tr>\n",
       "    <tr>\n",
       "      <th>1</th>\n",
       "      <td>outbreak</td>\n",
       "      <td>0.086786</td>\n",
       "    </tr>\n",
       "    <tr>\n",
       "      <th>36</th>\n",
       "      <td>cases</td>\n",
       "      <td>0.075356</td>\n",
       "    </tr>\n",
       "    <tr>\n",
       "      <th>42</th>\n",
       "      <td>deaths</td>\n",
       "      <td>0.059350</td>\n",
       "    </tr>\n",
       "    <tr>\n",
       "      <th>20</th>\n",
       "      <td>regional</td>\n",
       "      <td>0.053858</td>\n",
       "    </tr>\n",
       "    <tr>\n",
       "      <th>17</th>\n",
       "      <td>specific</td>\n",
       "      <td>0.049644</td>\n",
       "    </tr>\n",
       "    <tr>\n",
       "      <th>4</th>\n",
       "      <td>kivu</td>\n",
       "      <td>0.039794</td>\n",
       "    </tr>\n",
       "    <tr>\n",
       "      <th>62</th>\n",
       "      <td>kivu</td>\n",
       "      <td>0.039794</td>\n",
       "    </tr>\n",
       "    <tr>\n",
       "      <th>25</th>\n",
       "      <td>information</td>\n",
       "      <td>0.036745</td>\n",
       "    </tr>\n",
       "    <tr>\n",
       "      <th>7</th>\n",
       "      <td>affecting</td>\n",
       "      <td>0.032409</td>\n",
       "    </tr>\n",
       "    <tr>\n",
       "      <th>16</th>\n",
       "      <td>based</td>\n",
       "      <td>0.029734</td>\n",
       "    </tr>\n",
       "    <tr>\n",
       "      <th>48</th>\n",
       "      <td>week</td>\n",
       "      <td>0.028986</td>\n",
       "    </tr>\n",
       "    <tr>\n",
       "      <th>60</th>\n",
       "      <td>sole</td>\n",
       "      <td>0.027421</td>\n",
       "    </tr>\n",
       "    <tr>\n",
       "      <th>51</th>\n",
       "      <td>w</td>\n",
       "      <td>0.024135</td>\n",
       "    </tr>\n",
       "    <tr>\n",
       "      <th>55</th>\n",
       "      <td>w</td>\n",
       "      <td>0.024135</td>\n",
       "    </tr>\n",
       "    <tr>\n",
       "      <th>2</th>\n",
       "      <td>started</td>\n",
       "      <td>0.022956</td>\n",
       "    </tr>\n",
       "    <tr>\n",
       "      <th>63</th>\n",
       "      <td>province</td>\n",
       "      <td>0.020904</td>\n",
       "    </tr>\n",
       "    <tr>\n",
       "      <th>5</th>\n",
       "      <td>province</td>\n",
       "      <td>0.020904</td>\n",
       "    </tr>\n",
       "    <tr>\n",
       "      <th>24</th>\n",
       "      <td>additional</td>\n",
       "      <td>0.020854</td>\n",
       "    </tr>\n",
       "    <tr>\n",
       "      <th>49</th>\n",
       "      <td>time</td>\n",
       "      <td>0.017602</td>\n",
       "    </tr>\n",
       "  </tbody>\n",
       "</table>\n",
       "</div>"
      ],
      "text/plain": [
       "          words   weights\n",
       "21      cholera  0.094277\n",
       "1      outbreak  0.086786\n",
       "36        cases  0.075356\n",
       "42       deaths  0.059350\n",
       "20     regional  0.053858\n",
       "17     specific  0.049644\n",
       "4          kivu  0.039794\n",
       "62         kivu  0.039794\n",
       "25  information  0.036745\n",
       "7     affecting  0.032409\n",
       "16        based  0.029734\n",
       "48         week  0.028986\n",
       "60         sole  0.027421\n",
       "51            w  0.024135\n",
       "55            w  0.024135\n",
       "2       started  0.022956\n",
       "63     province  0.020904\n",
       "5      province  0.020904\n",
       "24   additional  0.020854\n",
       "49         time  0.017602"
      ]
     },
     "execution_count": 156,
     "metadata": {},
     "output_type": "execute_result"
    }
   ],
   "source": [
    "doc_len = min(config['MAX_DOCUMENT_LENGTH'], len(test_df['tokenized_text'][correct_idx1]))\n",
    "w_df = pd.DataFrame({'words': test_df['tokenized_text'][correct_idx1][:doc_len], 'weights': attention_weights_correct_x1.detach().cpu().numpy()[0][:doc_len]})\n",
    "w_df.sort_values('weights', ascending=False).head(20)"
   ]
  },
  {
   "cell_type": "code",
   "execution_count": 157,
   "metadata": {},
   "outputs": [
    {
     "data": {
      "text/plain": [
       "'Armed actors are becoming a persistent feature within IDP camps, especially in Jad’ah, Hammam Al-Alil and Haj Ali camps, despite repeated efforts by humanitarian actors and camp managers to assert the civilian character of camps. IDPs frequently report feeling threatened by the presence of armed actors and the risk of intimidation of vulnerable IDPs especially female headed households.Interventions by humanitarian partners to address this extremely concerning development are ongoing with relevant stakeholders. '"
      ]
     },
     "execution_count": 157,
     "metadata": {},
     "output_type": "execute_result"
    }
   ],
   "source": [
    "rnn_correct_x2 = model.lookup(correct_x2)\n",
    "attention_scores_correct_x2, attention_weights_correct_x2 = model.attention(rnn_correct_x2, rnn_correct_x2)\n",
    "test_df['text'][correct_idx2]"
   ]
  },
  {
   "cell_type": "code",
   "execution_count": 158,
   "metadata": {},
   "outputs": [
    {
     "data": {
      "text/html": [
       "<div>\n",
       "<style scoped>\n",
       "    .dataframe tbody tr th:only-of-type {\n",
       "        vertical-align: middle;\n",
       "    }\n",
       "\n",
       "    .dataframe tbody tr th {\n",
       "        vertical-align: top;\n",
       "    }\n",
       "\n",
       "    .dataframe thead th {\n",
       "        text-align: right;\n",
       "    }\n",
       "</style>\n",
       "<table border=\"1\" class=\"dataframe\">\n",
       "  <thead>\n",
       "    <tr style=\"text-align: right;\">\n",
       "      <th></th>\n",
       "      <th>words</th>\n",
       "      <th>weights</th>\n",
       "    </tr>\n",
       "  </thead>\n",
       "  <tbody>\n",
       "    <tr>\n",
       "      <th>55</th>\n",
       "      <td>relevant</td>\n",
       "      <td>0.058806</td>\n",
       "    </tr>\n",
       "    <tr>\n",
       "      <th>35</th>\n",
       "      <td>feeling</td>\n",
       "      <td>0.049809</td>\n",
       "    </tr>\n",
       "    <tr>\n",
       "      <th>45</th>\n",
       "      <td>female</td>\n",
       "      <td>0.045012</td>\n",
       "    </tr>\n",
       "    <tr>\n",
       "      <th>2</th>\n",
       "      <td>becoming</td>\n",
       "      <td>0.038086</td>\n",
       "    </tr>\n",
       "    <tr>\n",
       "      <th>21</th>\n",
       "      <td>repeated</td>\n",
       "      <td>0.035423</td>\n",
       "    </tr>\n",
       "    <tr>\n",
       "      <th>15</th>\n",
       "      <td>al-alil</td>\n",
       "      <td>0.034569</td>\n",
       "    </tr>\n",
       "    <tr>\n",
       "      <th>14</th>\n",
       "      <td>hammam</td>\n",
       "      <td>0.031045</td>\n",
       "    </tr>\n",
       "    <tr>\n",
       "      <th>33</th>\n",
       "      <td>frequently</td>\n",
       "      <td>0.028360</td>\n",
       "    </tr>\n",
       "    <tr>\n",
       "      <th>56</th>\n",
       "      <td>stakeholders</td>\n",
       "      <td>0.028162</td>\n",
       "    </tr>\n",
       "    <tr>\n",
       "      <th>37</th>\n",
       "      <td>presence</td>\n",
       "      <td>0.027915</td>\n",
       "    </tr>\n",
       "    <tr>\n",
       "      <th>12</th>\n",
       "      <td>ah</td>\n",
       "      <td>0.026567</td>\n",
       "    </tr>\n",
       "    <tr>\n",
       "      <th>7</th>\n",
       "      <td>camps</td>\n",
       "      <td>0.025657</td>\n",
       "    </tr>\n",
       "    <tr>\n",
       "      <th>30</th>\n",
       "      <td>camps</td>\n",
       "      <td>0.025657</td>\n",
       "    </tr>\n",
       "    <tr>\n",
       "      <th>18</th>\n",
       "      <td>camps</td>\n",
       "      <td>0.025657</td>\n",
       "    </tr>\n",
       "    <tr>\n",
       "      <th>3</th>\n",
       "      <td>persistent</td>\n",
       "      <td>0.024765</td>\n",
       "    </tr>\n",
       "    <tr>\n",
       "      <th>52</th>\n",
       "      <td>concerning</td>\n",
       "      <td>0.024572</td>\n",
       "    </tr>\n",
       "    <tr>\n",
       "      <th>17</th>\n",
       "      <td>ali</td>\n",
       "      <td>0.024269</td>\n",
       "    </tr>\n",
       "    <tr>\n",
       "      <th>28</th>\n",
       "      <td>civilian</td>\n",
       "      <td>0.023876</td>\n",
       "    </tr>\n",
       "    <tr>\n",
       "      <th>46</th>\n",
       "      <td>headed</td>\n",
       "      <td>0.023656</td>\n",
       "    </tr>\n",
       "    <tr>\n",
       "      <th>50</th>\n",
       "      <td>address</td>\n",
       "      <td>0.021926</td>\n",
       "    </tr>\n",
       "  </tbody>\n",
       "</table>\n",
       "</div>"
      ],
      "text/plain": [
       "           words   weights\n",
       "55      relevant  0.058806\n",
       "35       feeling  0.049809\n",
       "45        female  0.045012\n",
       "2       becoming  0.038086\n",
       "21      repeated  0.035423\n",
       "15       al-alil  0.034569\n",
       "14        hammam  0.031045\n",
       "33    frequently  0.028360\n",
       "56  stakeholders  0.028162\n",
       "37      presence  0.027915\n",
       "12            ah  0.026567\n",
       "7          camps  0.025657\n",
       "30         camps  0.025657\n",
       "18         camps  0.025657\n",
       "3     persistent  0.024765\n",
       "52    concerning  0.024572\n",
       "17           ali  0.024269\n",
       "28      civilian  0.023876\n",
       "46        headed  0.023656\n",
       "50       address  0.021926"
      ]
     },
     "execution_count": 158,
     "metadata": {},
     "output_type": "execute_result"
    }
   ],
   "source": [
    "doc_len = min(config['MAX_DOCUMENT_LENGTH'], len(test_df['tokenized_text'][correct_idx2]))\n",
    "w_df = pd.DataFrame({'words': test_df['tokenized_text'][correct_idx2][:doc_len], 'weights': attention_weights_correct_x2.detach().cpu().numpy()[0][:doc_len]})\n",
    "w_df.sort_values('weights', ascending=False).head(20)"
   ]
  },
  {
   "cell_type": "code",
   "execution_count": 159,
   "metadata": {},
   "outputs": [
    {
     "data": {
      "text/plain": [
       "'Meanwhile, yesterday, an inter-agency United Nations/Syria Arab Red Crescent mission visited the towns of Saqba and Kafar Batna, in eastern Ghouta. This was the first United Nations access to eastern Ghouta since it delivered assistance to Duma on 15 March. During the visit, the mission visited medical facilities, schools and a local market. They observed the destruction of infrastructure, with over half of Saqba damaged or destroyed. Six schools in Saqba are functioning, and interventions are ongoing to rehabilitate additional educational facilities.'"
      ]
     },
     "execution_count": 159,
     "metadata": {},
     "output_type": "execute_result"
    }
   ],
   "source": [
    "rnn_incorrect_x1 = model.lookup(incorrect_x1)\n",
    "attention_scores_incorrect_x1, attention_weights_incorrect_x1 = model.attention(rnn_incorrect_x1, rnn_incorrect_x1)\n",
    "test_df['text'][incorrect_idx1]"
   ]
  },
  {
   "cell_type": "code",
   "execution_count": 160,
   "metadata": {},
   "outputs": [
    {
     "data": {
      "text/html": [
       "<div>\n",
       "<style scoped>\n",
       "    .dataframe tbody tr th:only-of-type {\n",
       "        vertical-align: middle;\n",
       "    }\n",
       "\n",
       "    .dataframe tbody tr th {\n",
       "        vertical-align: top;\n",
       "    }\n",
       "\n",
       "    .dataframe thead th {\n",
       "        text-align: right;\n",
       "    }\n",
       "</style>\n",
       "<table border=\"1\" class=\"dataframe\">\n",
       "  <thead>\n",
       "    <tr style=\"text-align: right;\">\n",
       "      <th></th>\n",
       "      <th>words</th>\n",
       "      <th>weights</th>\n",
       "    </tr>\n",
       "  </thead>\n",
       "  <tbody>\n",
       "    <tr>\n",
       "      <th>64</th>\n",
       "      <td>educational</td>\n",
       "      <td>0.117071</td>\n",
       "    </tr>\n",
       "    <tr>\n",
       "      <th>56</th>\n",
       "      <td>schools</td>\n",
       "      <td>0.087641</td>\n",
       "    </tr>\n",
       "    <tr>\n",
       "      <th>42</th>\n",
       "      <td>schools</td>\n",
       "      <td>0.087641</td>\n",
       "    </tr>\n",
       "    <tr>\n",
       "      <th>39</th>\n",
       "      <td>medical</td>\n",
       "      <td>0.049405</td>\n",
       "    </tr>\n",
       "    <tr>\n",
       "      <th>7</th>\n",
       "      <td>arab</td>\n",
       "      <td>0.038733</td>\n",
       "    </tr>\n",
       "    <tr>\n",
       "      <th>44</th>\n",
       "      <td>market</td>\n",
       "      <td>0.038661</td>\n",
       "    </tr>\n",
       "    <tr>\n",
       "      <th>28</th>\n",
       "      <td>assistance</td>\n",
       "      <td>0.035640</td>\n",
       "    </tr>\n",
       "    <tr>\n",
       "      <th>4</th>\n",
       "      <td>inter-agency</td>\n",
       "      <td>0.033841</td>\n",
       "    </tr>\n",
       "    <tr>\n",
       "      <th>65</th>\n",
       "      <td>facilities</td>\n",
       "      <td>0.032313</td>\n",
       "    </tr>\n",
       "    <tr>\n",
       "      <th>40</th>\n",
       "      <td>facilities</td>\n",
       "      <td>0.032313</td>\n",
       "    </tr>\n",
       "    <tr>\n",
       "      <th>53</th>\n",
       "      <td>destroyed</td>\n",
       "      <td>0.024161</td>\n",
       "    </tr>\n",
       "    <tr>\n",
       "      <th>60</th>\n",
       "      <td>interventions</td>\n",
       "      <td>0.024035</td>\n",
       "    </tr>\n",
       "    <tr>\n",
       "      <th>52</th>\n",
       "      <td>damaged</td>\n",
       "      <td>0.021519</td>\n",
       "    </tr>\n",
       "    <tr>\n",
       "      <th>48</th>\n",
       "      <td>infrastructure</td>\n",
       "      <td>0.021078</td>\n",
       "    </tr>\n",
       "    <tr>\n",
       "      <th>0</th>\n",
       "      <td>meanwhile</td>\n",
       "      <td>0.019877</td>\n",
       "    </tr>\n",
       "    <tr>\n",
       "      <th>10</th>\n",
       "      <td>mission</td>\n",
       "      <td>0.019297</td>\n",
       "    </tr>\n",
       "    <tr>\n",
       "      <th>37</th>\n",
       "      <td>mission</td>\n",
       "      <td>0.019297</td>\n",
       "    </tr>\n",
       "    <tr>\n",
       "      <th>9</th>\n",
       "      <td>crescent</td>\n",
       "      <td>0.019050</td>\n",
       "    </tr>\n",
       "    <tr>\n",
       "      <th>27</th>\n",
       "      <td>delivered</td>\n",
       "      <td>0.017138</td>\n",
       "    </tr>\n",
       "    <tr>\n",
       "      <th>11</th>\n",
       "      <td>visited</td>\n",
       "      <td>0.017108</td>\n",
       "    </tr>\n",
       "  </tbody>\n",
       "</table>\n",
       "</div>"
      ],
      "text/plain": [
       "             words   weights\n",
       "64     educational  0.117071\n",
       "56         schools  0.087641\n",
       "42         schools  0.087641\n",
       "39         medical  0.049405\n",
       "7             arab  0.038733\n",
       "44          market  0.038661\n",
       "28      assistance  0.035640\n",
       "4     inter-agency  0.033841\n",
       "65      facilities  0.032313\n",
       "40      facilities  0.032313\n",
       "53       destroyed  0.024161\n",
       "60   interventions  0.024035\n",
       "52         damaged  0.021519\n",
       "48  infrastructure  0.021078\n",
       "0        meanwhile  0.019877\n",
       "10         mission  0.019297\n",
       "37         mission  0.019297\n",
       "9         crescent  0.019050\n",
       "27       delivered  0.017138\n",
       "11         visited  0.017108"
      ]
     },
     "execution_count": 160,
     "metadata": {},
     "output_type": "execute_result"
    }
   ],
   "source": [
    "doc_len = min(config['MAX_DOCUMENT_LENGTH'], len(test_df['tokenized_text'][incorrect_idx1]))\n",
    "w_df = pd.DataFrame({'words': test_df['tokenized_text'][incorrect_idx1][:doc_len], 'weights': attention_weights_incorrect_x1.detach().cpu().numpy()[0][:doc_len]})\n",
    "w_df.sort_values('weights', ascending=False).head(20)"
   ]
  },
  {
   "cell_type": "code",
   "execution_count": 161,
   "metadata": {},
   "outputs": [
    {
     "data": {
      "text/plain": [
       "'A secondary student was killed by flash floods that also cut off the Narok-Mai Mahiu road on Tuesday night.Motorists and passengers were forced to spend the night in the cold after heavy rains swept away a section of the busy highway. The student from Governors Secondary School in Mai Mahiu was killed near the Karima trading centre.“Nearly all roads are impassable. We are asking for quick intervention so that normal operations can resume,” Waithera said.“We saw some cattle being swept away while occupants of a small car were rescued. We don’t know how long it will take us here,” passenger Peter Tobiko said. '"
      ]
     },
     "execution_count": 161,
     "metadata": {},
     "output_type": "execute_result"
    }
   ],
   "source": [
    "rnn_incorrect_x2 = model.lookup(incorrect_x2)\n",
    "attention_scores_incorrect_x2, attention_weights_incorrect_x2 = model.attention(rnn_incorrect_x2, rnn_incorrect_x2)\n",
    "test_df['text'][incorrect_idx2]"
   ]
  },
  {
   "cell_type": "code",
   "execution_count": 162,
   "metadata": {},
   "outputs": [
    {
     "data": {
      "text/html": [
       "<div>\n",
       "<style scoped>\n",
       "    .dataframe tbody tr th:only-of-type {\n",
       "        vertical-align: middle;\n",
       "    }\n",
       "\n",
       "    .dataframe tbody tr th {\n",
       "        vertical-align: top;\n",
       "    }\n",
       "\n",
       "    .dataframe thead th {\n",
       "        text-align: right;\n",
       "    }\n",
       "</style>\n",
       "<table border=\"1\" class=\"dataframe\">\n",
       "  <thead>\n",
       "    <tr style=\"text-align: right;\">\n",
       "      <th></th>\n",
       "      <th>words</th>\n",
       "      <th>weights</th>\n",
       "    </tr>\n",
       "  </thead>\n",
       "  <tbody>\n",
       "    <tr>\n",
       "      <th>26</th>\n",
       "      <td>governors</td>\n",
       "      <td>0.097863</td>\n",
       "    </tr>\n",
       "    <tr>\n",
       "      <th>38</th>\n",
       "      <td>roads</td>\n",
       "      <td>0.067484</td>\n",
       "    </tr>\n",
       "    <tr>\n",
       "      <th>28</th>\n",
       "      <td>school</td>\n",
       "      <td>0.058168</td>\n",
       "    </tr>\n",
       "    <tr>\n",
       "      <th>53</th>\n",
       "      <td>cattle</td>\n",
       "      <td>0.053433</td>\n",
       "    </tr>\n",
       "    <tr>\n",
       "      <th>23</th>\n",
       "      <td>highway</td>\n",
       "      <td>0.032212</td>\n",
       "    </tr>\n",
       "    <tr>\n",
       "      <th>9</th>\n",
       "      <td>road</td>\n",
       "      <td>0.032107</td>\n",
       "    </tr>\n",
       "    <tr>\n",
       "      <th>39</th>\n",
       "      <td>impassable</td>\n",
       "      <td>0.031085</td>\n",
       "    </tr>\n",
       "    <tr>\n",
       "      <th>62</th>\n",
       "      <td>know</td>\n",
       "      <td>0.025511</td>\n",
       "    </tr>\n",
       "    <tr>\n",
       "      <th>1</th>\n",
       "      <td>student</td>\n",
       "      <td>0.024418</td>\n",
       "    </tr>\n",
       "    <tr>\n",
       "      <th>25</th>\n",
       "      <td>student</td>\n",
       "      <td>0.024418</td>\n",
       "    </tr>\n",
       "    <tr>\n",
       "      <th>0</th>\n",
       "      <td>secondary</td>\n",
       "      <td>0.022312</td>\n",
       "    </tr>\n",
       "    <tr>\n",
       "      <th>27</th>\n",
       "      <td>secondary</td>\n",
       "      <td>0.022312</td>\n",
       "    </tr>\n",
       "    <tr>\n",
       "      <th>13</th>\n",
       "      <td>forced</td>\n",
       "      <td>0.022221</td>\n",
       "    </tr>\n",
       "    <tr>\n",
       "      <th>41</th>\n",
       "      <td>asking</td>\n",
       "      <td>0.021558</td>\n",
       "    </tr>\n",
       "    <tr>\n",
       "      <th>52</th>\n",
       "      <td>saw</td>\n",
       "      <td>0.020753</td>\n",
       "    </tr>\n",
       "    <tr>\n",
       "      <th>46</th>\n",
       "      <td>resume</td>\n",
       "      <td>0.019124</td>\n",
       "    </tr>\n",
       "    <tr>\n",
       "      <th>22</th>\n",
       "      <td>busy</td>\n",
       "      <td>0.018806</td>\n",
       "    </tr>\n",
       "    <tr>\n",
       "      <th>69</th>\n",
       "      <td>peter</td>\n",
       "      <td>0.018463</td>\n",
       "    </tr>\n",
       "    <tr>\n",
       "      <th>34</th>\n",
       "      <td>trading</td>\n",
       "      <td>0.018401</td>\n",
       "    </tr>\n",
       "    <tr>\n",
       "      <th>29</th>\n",
       "      <td>mai</td>\n",
       "      <td>0.017950</td>\n",
       "    </tr>\n",
       "  </tbody>\n",
       "</table>\n",
       "</div>"
      ],
      "text/plain": [
       "         words   weights\n",
       "26   governors  0.097863\n",
       "38       roads  0.067484\n",
       "28      school  0.058168\n",
       "53      cattle  0.053433\n",
       "23     highway  0.032212\n",
       "9         road  0.032107\n",
       "39  impassable  0.031085\n",
       "62        know  0.025511\n",
       "1      student  0.024418\n",
       "25     student  0.024418\n",
       "0    secondary  0.022312\n",
       "27   secondary  0.022312\n",
       "13      forced  0.022221\n",
       "41      asking  0.021558\n",
       "52         saw  0.020753\n",
       "46      resume  0.019124\n",
       "22        busy  0.018806\n",
       "69       peter  0.018463\n",
       "34     trading  0.018401\n",
       "29         mai  0.017950"
      ]
     },
     "execution_count": 162,
     "metadata": {},
     "output_type": "execute_result"
    }
   ],
   "source": [
    "doc_len = min(config['MAX_DOCUMENT_LENGTH'], len(test_df['tokenized_text'][incorrect_idx2]))\n",
    "w_df = pd.DataFrame({'words': test_df['tokenized_text'][incorrect_idx2][:doc_len], 'weights': attention_weights_incorrect_x2.detach().cpu().numpy()[0][:doc_len]})\n",
    "w_df.sort_values('weights', ascending=False).head(20)"
   ]
  },
  {
   "cell_type": "markdown",
   "metadata": {},
   "source": [
    "In most of the cases, the weights assigned to the different words make sense. "
   ]
  },
  {
   "cell_type": "code",
   "execution_count": null,
   "metadata": {},
   "outputs": [],
   "source": []
  },
  {
   "cell_type": "code",
   "execution_count": null,
   "metadata": {},
   "outputs": [],
   "source": []
  }
 ],
 "metadata": {
  "kernelspec": {
   "display_name": "Python 3 (ipykernel)",
   "language": "python",
   "name": "python3"
  },
  "language_info": {
   "codemirror_mode": {
    "name": "ipython",
    "version": 3
   },
   "file_extension": ".py",
   "mimetype": "text/x-python",
   "name": "python",
   "nbconvert_exporter": "python",
   "pygments_lexer": "ipython3",
   "version": "3.7.10"
  }
 },
 "nbformat": 4,
 "nbformat_minor": 4
}
