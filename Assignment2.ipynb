{
 "cells": [
  {
   "cell_type": "markdown",
   "metadata": {
    "pycharm": {
     "name": "#%% md\n"
    }
   },
   "source": [
    "Please fill out the information of your group!\n",
    "\n",
    "| <p style=\"text-align: center;\">First Name</p>  | <p style=\"text-align: center;\">Family Name</p> | Matr.-No. |\n",
    "| ---------------------------------------------- | ---------------------------------------------- | -------- |\n",
    "| <p style=\"text-align: left\">Markus</p>| <p style=\"text-align: left\">Frohmann</p> | k12005604 |\n",
    "| <p style=\"text-align: left\">Tobias</p>| <p style=\"text-align: left\">Morocutti</p> | k12008172 |\n",
    "\n"
   ]
  },
  {
   "cell_type": "markdown",
   "metadata": {
    "pycharm": {
     "name": "#%% md\n"
    }
   },
   "source": [
    "<h2 style=\"text-align: center\">344.105/6/7 UE: Natural Language Processing (WS2022/23)</h2>\n",
    "<h1 style=\"color:rgb(0,120,170)\">Assignment 2</h1>\n",
    "<h2 style=\"color:rgb(0,120,170)\">Getting to Know Word Embedding!</h2>"
   ]
  },
  {
   "cell_type": "markdown",
   "metadata": {
    "pycharm": {
     "name": "#%% md\n"
    }
   },
   "source": [
    "<div style=\"background-color:rgb(224, 243, 255)\">\n",
    "<b>Terms of Use</b><br>\n",
    "This  material is prepared for educational purposes at the Johannes Kepler University Linz (JKU), and is exclusively provided to the registered students of the mentioned course at JKU. It is strictly forbidden to distribute the current file, the contents of the assignment, and its solution. The use or reproduction of this manuscript is only allowed for educational purposes in non-profit organizations, while in this case, the explicit prior acceptance of the author(s) is required.\n",
    "\n",
    "**Author:** Navid Rekab-saz<br>\n",
    "**Email:** navid.rekabsaz@jku.at<br>\n",
    "\n",
    "</div>"
   ]
  },
  {
   "cell_type": "markdown",
   "metadata": {
    "pycharm": {
     "name": "#%% md\n"
    }
   },
   "source": [
    "<h2>Table of contents</h2>\n",
    "<ol>\n",
    "    <a href=\"#section-general-guidelines\"><li style=\"font-size:large;font-weight:bold\">General Guidelines</li></a>\n",
    "    <a href=\"#section-taskA\"><li style=\"font-size:large;font-weight:bold\">Task A: Words Similarity and Nearest Neighbors (15 points)</li></a>\n",
    "    <a href=\"#section-taskB\"><li style=\"font-size:large;font-weight:bold\">Task B: Document Classification with Word Embedding (15 points)</li></a>\n",
    "    <a href=\"#section-taskC\"><li style=\"font-size:large;font-weight:bold\">Task C: Classification with sent2vec Document Embeddings (2 extra point)</li></a>\n",
    "    <a href=\"#section-references\"><li style=\"font-size:large;font-weight:bold\">References</li></a>\n",
    "    \n",
    "</ol>"
   ]
  },
  {
   "cell_type": "markdown",
   "metadata": {
    "pycharm": {
     "name": "#%% md\n"
    }
   },
   "source": [
    "<a name=\"section-general-guidelines\"></a><h2 style=\"color:rgb(0,120,170)\">General Guidelines</h2>"
   ]
  },
  {
   "cell_type": "markdown",
   "metadata": {
    "pycharm": {
     "name": "#%% md\n"
    }
   },
   "source": [
    "<div style=\"background-color:rgb(224, 243, 255)\">\n",
    "\n",
    "### Assignment objective\n",
    "The aim of this assignment is to get familiarized with using word embedding (WE) models in practice. The assignment in total has **30 points**; it also offers **2 extra points** which can cover any missing point.\n",
    "\n",
    "This Notebook encompasses all aspects of the assignment, namely the descriptions of tasks as well as your solutions and reports. Feel free to add any required cell for solutions. The cells can contain code, reports, charts, tables, or any other material, required for the assignment. Feel free to provide the solutions in an interactive and visual way! \n",
    "\n",
    "Please discuss any unclear point in the assignment in the provided forum in MOODLE. It is also encouraged to provide answers to your peer's questions. However when submitting a post, keep in mind to avoid providing solutions. Please let the tutor(s) know shall you find any error or unclarity in the assignment.\n",
    "\n",
    "</div>"
   ]
  },
  {
   "cell_type": "markdown",
   "metadata": {
    "pycharm": {
     "name": "#%% md\n"
    }
   },
   "source": [
    "<div style=\"background-color:rgb(224, 243, 255)\">\n",
    "\n",
    "### Libraries & Dataset\n",
    "\n",
    "The assignment should be implemented with recent versions of `Python` (>3.7). Any standard Python library can be used, so far that the library is free and can be simply installed using `pip` or `conda`. Examples of potentially useful libraries are `scikit-learn`, `numpy`, `scipy`, `gensim`, `nltk`, `spaCy`, and `AllenNLP`. Use the latest stable version of each library.\n",
    "\n",
    "To conduct the experiments, we use a subset of the `HumSet` dataset [1] (https://blog.thedeep.io/humset/). `HumSet` is created by the DEEP (https://www.thedeep.io) project – an open source platform which aims to facilitate processing of textual data for international humanitarian response organizations. The platform enables the classification of text excerpts, extracted from news and reports into a set of domain specific classes. The provided dataset contains the classes (labels) referring to the humanitarian sectors like agriculture, health, and protection. The dataset contains an overall number of 17,301 data points. \n",
    "\n",
    "Download the dataset from [this link](https://drive.jku.at/filr/public-link/file-download/0cce88f083887a0401841aee8fab3d36/44093/-2905493136371866025/nlp2022_23_data.zip).\n",
    "\n",
    "the provided zip file consists of the following files:\n",
    "- `thedeep.subset.train.txt`: Train set in csv format with three fields: sentence_id, text, and label.\n",
    "- `thedeep.subset.validation.txt`: Validation set in csv format with three fields: sentence_id, text, and label.\n",
    "- `thedeep.subset.test.txt`: Test set in csv format with three fields: sentence_id, text, and label.\n",
    "- `thedeep.subset.label.txt`: Captions of the labels.\n",
    "- `thedeep.ToU.txt`: Terms of use of the dataset.\n",
    "\n",
    "[1] HumSet: Dataset of Multilingual Information Extraction and Classification for Humanitarian Crises Response\n",
    "*Selim Fekih, Nicolo' Tamagnone, Benjamin Minixhofer, Ranjan Shrestha, Ximena Contla, Ewan Oglethorpe and Navid Rekabsaz.* \n",
    "In Findings of the 2022 Conference on Empirical Methods in Natural Language Processing (Findings of EMNLP), December 2022.\n",
    "\n",
    "</div>"
   ]
  },
  {
   "cell_type": "markdown",
   "metadata": {
    "pycharm": {
     "name": "#%% md\n"
    }
   },
   "source": [
    "<div style=\"background-color:rgb(224, 243, 255)\">\n",
    "\n",
    "### Submission\n",
    "\n",
    "Each group should submit the following two files:\n",
    "\n",
    "- One Jupyter Notebook file (`.ipynb`), containing all the code, results, visualizations, etc. **In the submitted Notebook, all the results and visualizations should already be present, and can be observed simply by loading the Notebook in a browser.** The Notebook must be self-contained, meaning that (if necessary) one can run all the cells from top to bottom without any error. Do not forget to put in your names and student numbers in the first cell of the Notebook. \n",
    "- The HTML file (`.html`) achieved from exporting the Jupyter Notebook to HTML (Download As HTML).\n",
    "\n",
    "You do not need to include the data files in the submission.\n",
    "\n",
    "\n",
    "</div>"
   ]
  },
  {
   "cell_type": "markdown",
   "metadata": {
    "pycharm": {
     "name": "#%% md\n"
    }
   },
   "source": [
    "<a name=\"section-taskA\"></a><h2 style=\"color:rgb(0,120,170)\">Task A: Words Similarity and Nearest Neighbors (15 points)</h2>"
   ]
  },
  {
   "cell_type": "markdown",
   "metadata": {
    "pycharm": {
     "name": "#%% md\n"
    }
   },
   "source": [
    "<div style=\"background-color:rgb(224, 243, 255)\">\n",
    "\n",
    "**Loading a word embedding (WE) model (1 points).** Download a pre-trained word embedding model such as word2vec (https://code.google.com/archive/p/word2vec/) or GloVe (https://nlp.stanford.edu/projects/glove/). You can load the downloaded vectors into arrays, or use libraries such as `gensim` to download and process the vectors. \n",
    "\n",
    "**Calculating word-to-word similarities (4 points).** Select <ins>5 arbitrary words</ins> from 5 different topics like objects, science disciplines, verbs, adjectives, animals, etc. Let us refer to these words as *source words*. For each source word, calculate its cosine similarities to <ins>6 target words</ins>. The target words of each source word are also selected by you and should cover various levels of semantic relations – according to your linguistic judgement – to the source word, namely from highly-related to not related at all. Organize the target words in tables, such that the target words of each source word are sorted from the highest to the lowest relevance (according to your judgement). Consider the following points:\n",
    "\n",
    "- **Implementation (2/4 points):** Implement cosine similarity as a function that takes two vectors and returns the similarity score. Implement cosine by yourself and do NOT use the provided functionalities of any library.\n",
    "- **Reporting and observations (2/4 points):** Report the calculated similarities side by side with your word-to-word semantic relevance judgements in tables. Compare the results and report your observations.  \n",
    "\n",
    "**Calculating nearest neighbors (10 points).** For the 5 source words, retrieve the $k=10$ nearest neighbors using the word embedding model, namely the words with the highest similarities to the source word. Consider the following points: \n",
    "    \n",
    "- **Overall implementation (3/10 points):** your implemented function takes a source vector, a set of target vectors, and the $k$ parameter, and returns the $k$ nearest neighbors and their similarity scores. Implement nearest neighbor calculation by yourself and do NOT use the provided functionalities of any library.\n",
    "- **Similarity metrics (2/10 points):** execute the calculation of nearest neighbors according to <ins>two similarity metrics</ins> namely cosine and dot product.\n",
    "- **Efficiency (3/10 points):** your nearest neighbor functions should provide an *efficient* calculation of nearest neighbors. An inefficient way (which should be avoided!) would be looping over the set of vectors in the word embedding model, and one by one calculating the cosine/dot product similarity of the source vector to each of the target vectors. As a hint for an efficient way, consider that in `numpy` (and other libraries), calculating the dot product of a vector to a matrix is much faster than the dot products of the vector to each vector of the matrix.\n",
    "- **Reporting and observations (2/10 points):** report the results in tables, which enable comparing between the outputs of the two similarity metrics. Which similarity metric would you prefer? Report your observations.\n",
    "\n",
    "</div>"
   ]
  },
  {
   "cell_type": "markdown",
   "metadata": {
    "pycharm": {
     "name": "#%% md\n"
    }
   },
   "source": [
    "## Load the data and word embedding model"
   ]
  },
  {
   "cell_type": "code",
   "execution_count": 1,
   "metadata": {
    "pycharm": {
     "name": "#%%\n"
    }
   },
   "outputs": [],
   "source": [
    "import pandas as pd\n",
    "import numpy as np\n",
    "import matplotlib.pyplot as plt\n",
    "import seaborn as sns\n",
    "import gensim"
   ]
  },
  {
   "cell_type": "code",
   "execution_count": 2,
   "metadata": {
    "collapsed": false,
    "jupyter": {
     "outputs_hidden": false
    },
    "pycharm": {
     "name": "#%%\n"
    }
   },
   "outputs": [],
   "source": [
    "# Load the train, validation, and test sets\n",
    "BASE_DIR = 'data/nlp2022_23_data/'\n",
    "TRAIN_FILE = BASE_DIR + 'thedeep.subset' + '.train.txt'\n",
    "VAL_FILE = BASE_DIR + 'thedeep.subset' + '.validation.txt'\n",
    "TEST_FILE = BASE_DIR + 'thedeep.subset' + '.test.txt'\n",
    "LABEL_FILE = BASE_DIR + 'thedeep.' + 'labels.txt'\n",
    "\n",
    "train_df = pd.read_csv(TRAIN_FILE, sep=',', header=None, names=['sentence_id', 'text', 'label'])\n",
    "val_df = pd.read_csv(VAL_FILE, sep=',', header=None, names=['sentence_id', 'text', 'label'])\n",
    "test_df = pd.read_csv(TEST_FILE, sep=',', header=None, names=['sentence_id', 'text', 'label'])\n",
    "label_df = pd.read_csv(LABEL_FILE, sep=',', header=None, names=['label', 'caption'])"
   ]
  },
  {
   "cell_type": "markdown",
   "metadata": {
    "pycharm": {
     "name": "#%% md\n"
    }
   },
   "source": [
    "Download a pre-trained word embedding model such as word2vec (https://code.google.com/archive/p/word2vec/) or GloVe (https://nlp.stanford.edu/projects/glove/). You can load the downloaded vectors into arrays, or use libraries such as `gensim`\n"
   ]
  },
  {
   "cell_type": "code",
   "execution_count": 3,
   "metadata": {
    "collapsed": false,
    "jupyter": {
     "outputs_hidden": false
    },
    "pycharm": {
     "name": "#%%\n"
    }
   },
   "outputs": [],
   "source": [
    "# use gensim to load the word embedding model (GloVe)\n",
    "\n",
    "# Download the GloVe model from https://nlp.stanford.edu/projects/glove/\n",
    "# and unzip it in the /data"
   ]
  },
  {
   "cell_type": "code",
   "execution_count": 4,
   "metadata": {
    "collapsed": false,
    "jupyter": {
     "outputs_hidden": false
    },
    "pycharm": {
     "name": "#%%\n"
    }
   },
   "outputs": [
    {
     "name": "stdout",
     "output_type": "stream",
     "text": [
      "Uncomment this!!! \n"
     ]
    }
   ],
   "source": [
    "print(\"Uncomment this!!! \")\n",
    "\n",
    "# !wget http://nlp.stanford.edu/data/glove.6B.zip\n",
    "# !unzip glove.6B.zip -d data"
   ]
  },
  {
   "cell_type": "code",
   "execution_count": 5,
   "metadata": {
    "collapsed": false,
    "jupyter": {
     "outputs_hidden": false
    },
    "pycharm": {
     "name": "#%%\n"
    }
   },
   "outputs": [
    {
     "name": "stderr",
     "output_type": "stream",
     "text": [
      "/home/tobias/miniconda3/envs/nlp/lib/python3.7/site-packages/ipykernel_launcher.py:2: DeprecationWarning: Call to deprecated `glove2word2vec` (KeyedVectors.load_word2vec_format(.., binary=False, no_header=True) loads GLoVE text vectors.).\n",
      "  \n"
     ]
    }
   ],
   "source": [
    "import gensim.scripts.glove2word2vec as glove2word2vec\n",
    "glove_model = glove2word2vec.glove2word2vec('data/glove.6B.300d.txt', 'data/glove.6B.300d.word2vec.txt')"
   ]
  },
  {
   "cell_type": "code",
   "execution_count": 6,
   "metadata": {
    "collapsed": false,
    "jupyter": {
     "outputs_hidden": false
    },
    "pycharm": {
     "name": "#%%\n"
    }
   },
   "outputs": [],
   "source": [
    "# load the GloVe model\n",
    "glove_model = gensim.models.KeyedVectors.load_word2vec_format('data/glove.6B.300d.word2vec.txt', binary=False)"
   ]
  },
  {
   "cell_type": "markdown",
   "metadata": {
    "pycharm": {
     "name": "#%% md\n"
    }
   },
   "source": [
    "**Calculating word-to-word similarities (4 points).** Select <ins>5 arbitrary words</ins> from 5 different topics like objects, science disciplines, verbs, adjectives, animals, etc. Let us refer to these words as *source words*. For each source word, calculate its cosine similarities to <ins>6 target words</ins>. The target words of each source word are also selected by you and should cover various levels of semantic relations – according to your linguistic judgement – to the source word, namely from highly-related to not related at all. Organize the target words in tables, such that the target words of each source word are sorted from the highest to the lowest relevance (according to your judgement). Consider the following points:\n",
    "\n",
    "- **Implementation (2/4 points):** Implement cosine similarity as a function that takes two vectors and returns the similarity score. Implement cosine by yourself and do NOT use the provided functionalities of any library.\n",
    "- **Reporting and observations (2/4 points):** Report the calculated similarities side by side with your word-to-word semantic relevance judgements in tables. Compare the results and report your observations.\n"
   ]
  },
  {
   "cell_type": "code",
   "execution_count": 7,
   "metadata": {
    "collapsed": false,
    "jupyter": {
     "outputs_hidden": false
    },
    "pycharm": {
     "name": "#%%\n"
    }
   },
   "outputs": [],
   "source": [
    "# select 5 source words\n",
    "source_words = ['hospital', 'cat', 'car', 'plane', 'apple']\n",
    "\n",
    "# select 6 target words for each source word (according to our linguistic judgement)\n",
    "# higher similarity --> earlier in list\n",
    "target_words = {\n",
    "    'hospital': ['clinic', 'doctor', 'nurse', 'patient', 'computer', 'bill'],\n",
    "    'cat': ['dog', 'mouse', 'cute', 'bird', 'fish', 'insect'],\n",
    "    'car': ['truck', 'driving', 'motorcycle', 'bus', 'bike', 'fast'],\n",
    "    'plane': ['airplane', 'train', 'traveling', 'boat', 'rocket', 'sea'],\n",
    "    'apple': ['pear', 'peach', 'banana', 'pie', 'eating', 'chocolate']\n",
    "}\n"
   ]
  },
  {
   "cell_type": "code",
   "execution_count": 8,
   "metadata": {
    "collapsed": false,
    "jupyter": {
     "outputs_hidden": false
    },
    "pycharm": {
     "name": "#%%\n"
    }
   },
   "outputs": [],
   "source": [
    "# calculate the cosine similarity between each source word and each target word\n",
    "def cosine_similarity(v1, v2):\n",
    "    return np.dot(v1, v2) / (np.linalg.norm(v1) * np.linalg.norm(v2))\n",
    "\n",
    "# calculate the cosine similarity between each source word and each target word\n",
    "similarity_scores = {}\n",
    "for source_word in source_words:\n",
    "    similarity_scores[source_word] = {}\n",
    "    for target_word in target_words[source_word]:\n",
    "        similarity_scores[source_word][target_word] = cosine_similarity(glove_model[source_word], glove_model[target_word])"
   ]
  },
  {
   "cell_type": "code",
   "execution_count": 9,
   "metadata": {
    "collapsed": false,
    "jupyter": {
     "outputs_hidden": false
    },
    "pycharm": {
     "name": "#%%\n"
    }
   },
   "outputs": [
    {
     "name": "stdout",
     "output_type": "stream",
     "text": [
      "Source word: hospital\n",
      "Target words: ['clinic', 'doctor', 'nurse', 'patient', 'computer', 'bill']\n",
      "Similarity scores: {'clinic': 0.64873356, 'doctor': 0.56831884, 'nurse': 0.5382149, 'patient': 0.5410522, 'computer': 0.11727008, 'bill': 0.13094033}\n",
      "\n",
      "Source word: cat\n",
      "Target words: ['dog', 'mouse', 'cute', 'bird', 'fish', 'insect']\n",
      "Similarity scores: {'dog': 0.6816746, 'mouse': 0.453791, 'cute': 0.3395511, 'bird': 0.39755473, 'fish': 0.27653947, 'insect': 0.22102602}\n",
      "\n",
      "Source word: car\n",
      "Target words: ['truck', 'driving', 'motorcycle', 'bus', 'bike', 'fast']\n",
      "Similarity scores: {'truck': 0.7350621, 'driving': 0.6442225, 'motorcycle': 0.60225135, 'bus': 0.5653251, 'bike': 0.46721223, 'fast': 0.30292118}\n",
      "\n",
      "Source word: plane\n",
      "Target words: ['airplane', 'train', 'traveling', 'boat', 'rocket', 'sea']\n",
      "Similarity scores: {'airplane': 0.7737392, 'train': 0.40176648, 'traveling': 0.43667153, 'boat': 0.44285083, 'rocket': 0.34800434, 'sea': 0.3100224}\n",
      "\n",
      "Source word: apple\n",
      "Target words: ['pear', 'peach', 'banana', 'pie', 'eating', 'chocolate']\n",
      "Similarity scores: {'pear': 0.41169775, 'peach': 0.41737673, 'banana': 0.392375, 'pie': 0.3846857, 'eating': 0.24240357, 'chocolate': 0.32571977}\n",
      "\n"
     ]
    }
   ],
   "source": [
    "# report the results in tables\n",
    "for source_word in source_words:\n",
    "    print('Source word:', source_word)\n",
    "    print('Target words:', target_words[source_word])\n",
    "    print('Similarity scores:', similarity_scores[source_word])\n",
    "    print()"
   ]
  },
  {
   "cell_type": "code",
   "execution_count": 10,
   "metadata": {
    "collapsed": false,
    "jupyter": {
     "outputs_hidden": false
    },
    "pycharm": {
     "name": "#%%\n"
    }
   },
   "outputs": [
    {
     "data": {
      "text/html": [
       "<div>\n",
       "<style scoped>\n",
       "    .dataframe tbody tr th:only-of-type {\n",
       "        vertical-align: middle;\n",
       "    }\n",
       "\n",
       "    .dataframe tbody tr th {\n",
       "        vertical-align: top;\n",
       "    }\n",
       "\n",
       "    .dataframe thead th {\n",
       "        text-align: right;\n",
       "    }\n",
       "</style>\n",
       "<table border=\"1\" class=\"dataframe\">\n",
       "  <thead>\n",
       "    <tr style=\"text-align: right;\">\n",
       "      <th></th>\n",
       "      <th>clinic</th>\n",
       "      <th>doctor</th>\n",
       "      <th>nurse</th>\n",
       "      <th>patient</th>\n",
       "      <th>computer</th>\n",
       "      <th>bill</th>\n",
       "    </tr>\n",
       "  </thead>\n",
       "  <tbody>\n",
       "    <tr>\n",
       "      <th>hospital</th>\n",
       "      <td>0.648734</td>\n",
       "      <td>0.568319</td>\n",
       "      <td>0.538215</td>\n",
       "      <td>0.541052</td>\n",
       "      <td>0.11727</td>\n",
       "      <td>0.13094</td>\n",
       "    </tr>\n",
       "  </tbody>\n",
       "</table>\n",
       "</div>"
      ],
      "text/plain": [
       "            clinic    doctor     nurse   patient  computer     bill\n",
       "hospital  0.648734  0.568319  0.538215  0.541052   0.11727  0.13094"
      ]
     },
     "execution_count": 10,
     "metadata": {},
     "output_type": "execute_result"
    }
   ],
   "source": [
    "pd.DataFrame(similarity_scores['hospital'], index=['hospital'])"
   ]
  },
  {
   "cell_type": "code",
   "execution_count": 11,
   "metadata": {
    "collapsed": false,
    "jupyter": {
     "outputs_hidden": false
    },
    "pycharm": {
     "name": "#%%\n"
    }
   },
   "outputs": [
    {
     "data": {
      "text/html": [
       "<div>\n",
       "<style scoped>\n",
       "    .dataframe tbody tr th:only-of-type {\n",
       "        vertical-align: middle;\n",
       "    }\n",
       "\n",
       "    .dataframe tbody tr th {\n",
       "        vertical-align: top;\n",
       "    }\n",
       "\n",
       "    .dataframe thead th {\n",
       "        text-align: right;\n",
       "    }\n",
       "</style>\n",
       "<table border=\"1\" class=\"dataframe\">\n",
       "  <thead>\n",
       "    <tr style=\"text-align: right;\">\n",
       "      <th></th>\n",
       "      <th>dog</th>\n",
       "      <th>mouse</th>\n",
       "      <th>cute</th>\n",
       "      <th>bird</th>\n",
       "      <th>fish</th>\n",
       "      <th>insect</th>\n",
       "    </tr>\n",
       "  </thead>\n",
       "  <tbody>\n",
       "    <tr>\n",
       "      <th>cat</th>\n",
       "      <td>0.681675</td>\n",
       "      <td>0.453791</td>\n",
       "      <td>0.339551</td>\n",
       "      <td>0.397555</td>\n",
       "      <td>0.276539</td>\n",
       "      <td>0.221026</td>\n",
       "    </tr>\n",
       "  </tbody>\n",
       "</table>\n",
       "</div>"
      ],
      "text/plain": [
       "          dog     mouse      cute      bird      fish    insect\n",
       "cat  0.681675  0.453791  0.339551  0.397555  0.276539  0.221026"
      ]
     },
     "execution_count": 11,
     "metadata": {},
     "output_type": "execute_result"
    }
   ],
   "source": [
    "pd.DataFrame(similarity_scores['cat'], index=['cat'])"
   ]
  },
  {
   "cell_type": "code",
   "execution_count": 12,
   "metadata": {
    "collapsed": false,
    "jupyter": {
     "outputs_hidden": false
    },
    "pycharm": {
     "name": "#%%\n"
    }
   },
   "outputs": [
    {
     "data": {
      "text/html": [
       "<div>\n",
       "<style scoped>\n",
       "    .dataframe tbody tr th:only-of-type {\n",
       "        vertical-align: middle;\n",
       "    }\n",
       "\n",
       "    .dataframe tbody tr th {\n",
       "        vertical-align: top;\n",
       "    }\n",
       "\n",
       "    .dataframe thead th {\n",
       "        text-align: right;\n",
       "    }\n",
       "</style>\n",
       "<table border=\"1\" class=\"dataframe\">\n",
       "  <thead>\n",
       "    <tr style=\"text-align: right;\">\n",
       "      <th></th>\n",
       "      <th>truck</th>\n",
       "      <th>driving</th>\n",
       "      <th>motorcycle</th>\n",
       "      <th>bus</th>\n",
       "      <th>bike</th>\n",
       "      <th>fast</th>\n",
       "    </tr>\n",
       "  </thead>\n",
       "  <tbody>\n",
       "    <tr>\n",
       "      <th>car</th>\n",
       "      <td>0.735062</td>\n",
       "      <td>0.644222</td>\n",
       "      <td>0.602251</td>\n",
       "      <td>0.565325</td>\n",
       "      <td>0.467212</td>\n",
       "      <td>0.302921</td>\n",
       "    </tr>\n",
       "  </tbody>\n",
       "</table>\n",
       "</div>"
      ],
      "text/plain": [
       "        truck   driving  motorcycle       bus      bike      fast\n",
       "car  0.735062  0.644222    0.602251  0.565325  0.467212  0.302921"
      ]
     },
     "execution_count": 12,
     "metadata": {},
     "output_type": "execute_result"
    }
   ],
   "source": [
    "pd.DataFrame(similarity_scores['car'], index=['car'])"
   ]
  },
  {
   "cell_type": "code",
   "execution_count": 13,
   "metadata": {
    "collapsed": false,
    "jupyter": {
     "outputs_hidden": false
    },
    "pycharm": {
     "name": "#%%\n"
    }
   },
   "outputs": [
    {
     "data": {
      "text/html": [
       "<div>\n",
       "<style scoped>\n",
       "    .dataframe tbody tr th:only-of-type {\n",
       "        vertical-align: middle;\n",
       "    }\n",
       "\n",
       "    .dataframe tbody tr th {\n",
       "        vertical-align: top;\n",
       "    }\n",
       "\n",
       "    .dataframe thead th {\n",
       "        text-align: right;\n",
       "    }\n",
       "</style>\n",
       "<table border=\"1\" class=\"dataframe\">\n",
       "  <thead>\n",
       "    <tr style=\"text-align: right;\">\n",
       "      <th></th>\n",
       "      <th>airplane</th>\n",
       "      <th>train</th>\n",
       "      <th>traveling</th>\n",
       "      <th>boat</th>\n",
       "      <th>rocket</th>\n",
       "      <th>sea</th>\n",
       "    </tr>\n",
       "  </thead>\n",
       "  <tbody>\n",
       "    <tr>\n",
       "      <th>plane</th>\n",
       "      <td>0.773739</td>\n",
       "      <td>0.401766</td>\n",
       "      <td>0.436672</td>\n",
       "      <td>0.442851</td>\n",
       "      <td>0.348004</td>\n",
       "      <td>0.310022</td>\n",
       "    </tr>\n",
       "  </tbody>\n",
       "</table>\n",
       "</div>"
      ],
      "text/plain": [
       "       airplane     train  traveling      boat    rocket       sea\n",
       "plane  0.773739  0.401766   0.436672  0.442851  0.348004  0.310022"
      ]
     },
     "execution_count": 13,
     "metadata": {},
     "output_type": "execute_result"
    }
   ],
   "source": [
    "pd.DataFrame(similarity_scores['plane'], index=['plane'])"
   ]
  },
  {
   "cell_type": "code",
   "execution_count": 14,
   "metadata": {
    "collapsed": false,
    "jupyter": {
     "outputs_hidden": false
    },
    "pycharm": {
     "name": "#%%\n"
    }
   },
   "outputs": [
    {
     "data": {
      "text/html": [
       "<div>\n",
       "<style scoped>\n",
       "    .dataframe tbody tr th:only-of-type {\n",
       "        vertical-align: middle;\n",
       "    }\n",
       "\n",
       "    .dataframe tbody tr th {\n",
       "        vertical-align: top;\n",
       "    }\n",
       "\n",
       "    .dataframe thead th {\n",
       "        text-align: right;\n",
       "    }\n",
       "</style>\n",
       "<table border=\"1\" class=\"dataframe\">\n",
       "  <thead>\n",
       "    <tr style=\"text-align: right;\">\n",
       "      <th></th>\n",
       "      <th>pear</th>\n",
       "      <th>peach</th>\n",
       "      <th>banana</th>\n",
       "      <th>pie</th>\n",
       "      <th>eating</th>\n",
       "      <th>chocolate</th>\n",
       "    </tr>\n",
       "  </thead>\n",
       "  <tbody>\n",
       "    <tr>\n",
       "      <th>apple</th>\n",
       "      <td>0.411698</td>\n",
       "      <td>0.417377</td>\n",
       "      <td>0.392375</td>\n",
       "      <td>0.384686</td>\n",
       "      <td>0.242404</td>\n",
       "      <td>0.32572</td>\n",
       "    </tr>\n",
       "  </tbody>\n",
       "</table>\n",
       "</div>"
      ],
      "text/plain": [
       "           pear     peach    banana       pie    eating  chocolate\n",
       "apple  0.411698  0.417377  0.392375  0.384686  0.242404    0.32572"
      ]
     },
     "execution_count": 14,
     "metadata": {},
     "output_type": "execute_result"
    }
   ],
   "source": [
    "pd.DataFrame(similarity_scores['apple'], index=['apple'])"
   ]
  },
  {
   "cell_type": "markdown",
   "metadata": {
    "pycharm": {
     "name": "#%% md\n"
    }
   },
   "source": [
    "Most of the time, linguistic judgment correlated well with calculated cosine similarities. We observe this by seeing that the cosine similarities go down from each target word.\n",
    "\n",
    "However, the correlation is not perfect: For example, 'peach' is slightly more similiar (according to GloVe embeddings) to 'apple' than 'pear'. Moreover, 'boat' is more similar to 'plane' than 'train' (according to GloVe embeddings). This is probably because the GloVe embeddings are trained on a large corpus of text, and the words 'plane' and 'boat' are probably used in more similar contexts."
   ]
  },
  {
   "cell_type": "markdown",
   "metadata": {
    "pycharm": {
     "name": "#%% md\n"
    }
   },
   "source": [
    "**Calculating nearest neighbors (10 points).** For the 5 source words, retrieve the $k=10$ nearest neighbors using the word embedding model, namely the words with the highest similarities to the source word. Consider the following points:\n",
    "\n",
    "- **Overall implementation (3/10 points):** your implemented function takes a source vector, a set of target vectors, and the $k$ parameter, and returns the $k$ nearest neighbors and their similarity scores. Implement nearest neighbor calculation by yourself and do NOT use the provided functionalities of any library.\n",
    "- **Similarity metrics (2/10 points):** execute the calculation of nearest neighbors according to <ins>two similarity metrics</ins> namely cosine and dot product.\n",
    "- **Efficiency (3/10 points):** your nearest neighbor functions should provide an *efficient* calculation of nearest neighbors. An inefficient way (which should be avoided!) would be looping over the set of vectors in the word embedding model, and one by one calculating the cosine/dot product similarity of the source vector to each of the target vectors. As a hint for an efficient way, consider that in `numpy` (and other libraries), calculating the dot product of a vector to a matrix is much faster than the dot products of the vector to each vector of the matrix.\n",
    "- **Reporting and observations (2/10 points):** report the results in tables, which enable comparing between the outputs of the two similarity metrics. Which similarity metric would you prefer? Report your observations."
   ]
  },
  {
   "cell_type": "code",
   "execution_count": 15,
   "metadata": {
    "collapsed": false,
    "jupyter": {
     "outputs_hidden": false
    },
    "pycharm": {
     "name": "#%%\n"
    }
   },
   "outputs": [],
   "source": [
    "# calculate the nearest neighbors of each source word\n",
    "def nearest_neighbors(source_vector, target_vectors, k=10, metric='cosine'):\n",
    "    if metric == 'cosine':\n",
    "        similarities = np.dot(target_vectors, source_vector) / (np.linalg.norm(target_vectors, axis=1) * np.linalg.norm(source_vector))\n",
    "    elif metric == 'dot':\n",
    "        similarities = np.dot(target_vectors, source_vector)\n",
    "    else:\n",
    "        raise ValueError(f'Unknown metric: {metric}')\n",
    "    return np.argsort(similarities)[::-1][:k], similarities[np.argsort(similarities)[::-1][:k]]"
   ]
  },
  {
   "cell_type": "code",
   "execution_count": 16,
   "metadata": {
    "collapsed": false,
    "jupyter": {
     "outputs_hidden": false
    },
    "pycharm": {
     "name": "#%%\n"
    }
   },
   "outputs": [],
   "source": [
    "# calculate the nearest neighbors of each source word\n",
    "k = 10\n",
    "\n",
    "nearest_neighbors_scores = {}\n",
    "for source_word in source_words:\n",
    "    nearest_neighbors_scores[source_word] = {}\n",
    "    for metric in ['cosine', 'dot']:\n",
    "        nearest_neighbors_scores[source_word][metric] = {}\n",
    "        nearest_neighbors_scores[source_word][metric]['neighbors'], nearest_neighbors_scores[source_word][metric]['scores'] = nearest_neighbors(glove_model[source_word], glove_model.vectors, metric=metric, k=k)"
   ]
  },
  {
   "cell_type": "code",
   "execution_count": 17,
   "metadata": {
    "collapsed": false,
    "jupyter": {
     "outputs_hidden": false
    },
    "pycharm": {
     "name": "#%%\n"
    },
    "scrolled": true,
    "tags": []
   },
   "outputs": [
    {
     "name": "stdout",
     "output_type": "stream",
     "text": [
      "Source word: hospital\n",
      "cosine - 1: hospital (1.000)\n",
      "cosine - 2: hospitals (0.708)\n",
      "cosine - 3: medical (0.691)\n",
      "cosine - 4: clinic (0.649)\n",
      "cosine - 5: doctors (0.625)\n",
      "cosine - 6: psychiatric (0.571)\n",
      "cosine - 7: doctor (0.568)\n",
      "cosine - 8: care (0.565)\n",
      "cosine - 9: patients (0.562)\n",
      "cosine - 10: hospitalized (0.558)\n",
      "\n",
      "dot - 1: hospital (53.356)\n",
      "dot - 2: hospitals (35.466)\n",
      "dot - 3: medical (35.328)\n",
      "dot - 4: clinic (30.239)\n",
      "dot - 5: doctors (30.029)\n",
      "dot - 6: surgery (29.523)\n",
      "dot - 7: psychiatric (29.191)\n",
      "dot - 8: patients (28.474)\n",
      "dot - 9: ambulance (28.258)\n",
      "dot - 10: hospitalized (28.080)\n",
      "\n",
      "Source word: cat\n",
      "cosine - 1: cat (1.000)\n",
      "cosine - 2: dog (0.682)\n",
      "cosine - 3: cats (0.682)\n",
      "cosine - 4: pet (0.587)\n",
      "cosine - 5: dogs (0.541)\n",
      "cosine - 6: feline (0.490)\n",
      "cosine - 7: monkey (0.488)\n",
      "cosine - 8: horse (0.473)\n",
      "cosine - 9: pets (0.463)\n",
      "cosine - 10: rabbit (0.461)\n",
      "\n",
      "dot - 1: cat (40.023)\n",
      "dot - 2: dog (28.778)\n",
      "dot - 3: cats (27.335)\n",
      "dot - 4: pet (24.378)\n",
      "dot - 5: dogs (23.071)\n",
      "dot - 6: horse (20.386)\n",
      "dot - 7: mouse (20.201)\n",
      "dot - 8: leopard (20.095)\n",
      "dot - 9: monkey (19.909)\n",
      "dot - 10: rabbit (19.457)\n",
      "\n",
      "Source word: car\n",
      "cosine - 1: car (1.000)\n",
      "cosine - 2: cars (0.783)\n",
      "cosine - 3: vehicle (0.766)\n",
      "cosine - 4: truck (0.735)\n",
      "cosine - 5: driver (0.711)\n",
      "cosine - 6: driving (0.644)\n",
      "cosine - 7: vehicles (0.633)\n",
      "cosine - 8: motorcycle (0.602)\n",
      "cosine - 9: automobile (0.596)\n",
      "cosine - 10: parked (0.591)\n",
      "\n",
      "dot - 1: car (48.388)\n",
      "dot - 2: cars (38.601)\n",
      "dot - 3: vehicle (35.862)\n",
      "dot - 4: truck (34.166)\n",
      "dot - 5: driver (33.105)\n",
      "dot - 6: vehicles (31.110)\n",
      "dot - 7: motorcycle (29.320)\n",
      "dot - 8: drivers (27.847)\n",
      "dot - 9: parked (27.843)\n",
      "dot - 10: suv (27.382)\n",
      "\n",
      "Source word: plane\n",
      "cosine - 1: plane (1.000)\n",
      "cosine - 2: airplane (0.774)\n",
      "cosine - 3: planes (0.737)\n",
      "cosine - 4: jet (0.712)\n",
      "cosine - 5: crashed (0.703)\n",
      "cosine - 6: aircraft (0.691)\n",
      "cosine - 7: flight (0.684)\n",
      "cosine - 8: airliner (0.664)\n",
      "cosine - 9: crash (0.664)\n",
      "cosine - 10: helicopter (0.634)\n",
      "\n",
      "dot - 1: plane (49.321)\n",
      "dot - 2: planes (36.936)\n",
      "dot - 3: aircraft (36.347)\n",
      "dot - 4: airliner (36.048)\n",
      "dot - 5: jet (35.651)\n",
      "dot - 6: crashed (34.711)\n",
      "dot - 7: flight (33.833)\n",
      "dot - 8: airplane (33.484)\n",
      "dot - 9: jetliner (32.878)\n",
      "dot - 10: helicopter (32.231)\n",
      "\n",
      "Source word: apple\n",
      "cosine - 1: apple (1.000)\n",
      "cosine - 2: iphone (0.599)\n",
      "cosine - 3: macintosh (0.584)\n",
      "cosine - 4: ipod (0.576)\n",
      "cosine - 5: microsoft (0.566)\n",
      "cosine - 6: ipad (0.563)\n",
      "cosine - 7: intel (0.546)\n",
      "cosine - 8: ibm (0.529)\n",
      "cosine - 9: google (0.528)\n",
      "cosine - 10: imac (0.507)\n",
      "\n",
      "dot - 1: apple (50.243)\n",
      "dot - 2: iphone (32.451)\n",
      "dot - 3: ipod (31.652)\n",
      "dot - 4: macintosh (30.304)\n",
      "dot - 5: microsoft (30.064)\n",
      "dot - 6: ipad (28.712)\n",
      "dot - 7: intel (28.047)\n",
      "dot - 8: google (27.637)\n",
      "dot - 9: ibm (26.730)\n",
      "dot - 10: itunes (26.468)\n",
      "\n"
     ]
    }
   ],
   "source": [
    "# report the results in tables\n",
    "for source_word in source_words:\n",
    "    print('Source word:', source_word)\n",
    "    for metric in ['cosine', 'dot']:\n",
    "        for i in range(k):\n",
    "            print(f'{metric} - {i+1}: {glove_model.index_to_key[nearest_neighbors_scores[source_word][metric][\"neighbors\"][i]]} ({nearest_neighbors_scores[source_word][metric][\"scores\"][i]:.3f})')\n",
    "        print()"
   ]
  },
  {
   "cell_type": "code",
   "execution_count": 18,
   "metadata": {
    "collapsed": false,
    "jupyter": {
     "outputs_hidden": false
    },
    "pycharm": {
     "name": "#%%\n"
    }
   },
   "outputs": [],
   "source": [
    "# create pd DataFrame from result\n",
    "df = pd.DataFrame(columns=['source_word', 'rank', 'cos_word', 'cos_score', 'dot_word', 'dot_score'])\n",
    "for source_word in source_words:\n",
    "#     for metric in ['cosine', 'dot']:\n",
    "    for i in range(k):\n",
    "        df = pd.concat([df, pd.DataFrame({\n",
    "            'source_word': [source_word],\n",
    "            'rank': [i+1],\n",
    "            'cos_word': [glove_model.index_to_key[nearest_neighbors_scores[source_word]['cosine'][\"neighbors\"][i]]],\n",
    "            'cos_score': [nearest_neighbors_scores[source_word]['cosine'][\"scores\"][i]],\n",
    "            'dot_word': [glove_model.index_to_key[nearest_neighbors_scores[source_word]['dot'][\"neighbors\"][i]]],\n",
    "            'dot_score': [nearest_neighbors_scores[source_word]['dot'][\"scores\"][i]],\n",
    "        })])"
   ]
  },
  {
   "cell_type": "code",
   "execution_count": 19,
   "metadata": {
    "collapsed": false,
    "jupyter": {
     "outputs_hidden": false
    },
    "pycharm": {
     "name": "#%%\n"
    }
   },
   "outputs": [],
   "source": [
    "df.set_index(['source_word', 'rank'], inplace=True)"
   ]
  },
  {
   "cell_type": "code",
   "execution_count": 20,
   "metadata": {
    "collapsed": false,
    "jupyter": {
     "outputs_hidden": false
    },
    "pycharm": {
     "name": "#%%\n"
    }
   },
   "outputs": [],
   "source": [
    "df.columns = [['cosine','cosine','dot','dot'],['word','score', 'word', 'score']]"
   ]
  },
  {
   "cell_type": "code",
   "execution_count": 21,
   "metadata": {
    "collapsed": false,
    "jupyter": {
     "outputs_hidden": false
    },
    "pycharm": {
     "name": "#%%\n"
    }
   },
   "outputs": [
    {
     "data": {
      "text/html": [
       "<div>\n",
       "<style scoped>\n",
       "    .dataframe tbody tr th:only-of-type {\n",
       "        vertical-align: middle;\n",
       "    }\n",
       "\n",
       "    .dataframe tbody tr th {\n",
       "        vertical-align: top;\n",
       "    }\n",
       "\n",
       "    .dataframe thead tr th {\n",
       "        text-align: left;\n",
       "    }\n",
       "\n",
       "    .dataframe thead tr:last-of-type th {\n",
       "        text-align: right;\n",
       "    }\n",
       "</style>\n",
       "<table border=\"1\" class=\"dataframe\">\n",
       "  <thead>\n",
       "    <tr>\n",
       "      <th></th>\n",
       "      <th></th>\n",
       "      <th colspan=\"2\" halign=\"left\">cosine</th>\n",
       "      <th colspan=\"2\" halign=\"left\">dot</th>\n",
       "    </tr>\n",
       "    <tr>\n",
       "      <th></th>\n",
       "      <th></th>\n",
       "      <th>word</th>\n",
       "      <th>score</th>\n",
       "      <th>word</th>\n",
       "      <th>score</th>\n",
       "    </tr>\n",
       "    <tr>\n",
       "      <th>source_word</th>\n",
       "      <th>rank</th>\n",
       "      <th></th>\n",
       "      <th></th>\n",
       "      <th></th>\n",
       "      <th></th>\n",
       "    </tr>\n",
       "  </thead>\n",
       "  <tbody>\n",
       "    <tr>\n",
       "      <th rowspan=\"10\" valign=\"top\">hospital</th>\n",
       "      <th>1</th>\n",
       "      <td>hospital</td>\n",
       "      <td>1.000000</td>\n",
       "      <td>hospital</td>\n",
       "      <td>53.355907</td>\n",
       "    </tr>\n",
       "    <tr>\n",
       "      <th>2</th>\n",
       "      <td>hospitals</td>\n",
       "      <td>0.707926</td>\n",
       "      <td>hospitals</td>\n",
       "      <td>35.465721</td>\n",
       "    </tr>\n",
       "    <tr>\n",
       "      <th>3</th>\n",
       "      <td>medical</td>\n",
       "      <td>0.690507</td>\n",
       "      <td>medical</td>\n",
       "      <td>35.328308</td>\n",
       "    </tr>\n",
       "    <tr>\n",
       "      <th>4</th>\n",
       "      <td>clinic</td>\n",
       "      <td>0.648733</td>\n",
       "      <td>clinic</td>\n",
       "      <td>30.238682</td>\n",
       "    </tr>\n",
       "    <tr>\n",
       "      <th>5</th>\n",
       "      <td>doctors</td>\n",
       "      <td>0.624972</td>\n",
       "      <td>doctors</td>\n",
       "      <td>30.028748</td>\n",
       "    </tr>\n",
       "    <tr>\n",
       "      <th>6</th>\n",
       "      <td>psychiatric</td>\n",
       "      <td>0.571112</td>\n",
       "      <td>surgery</td>\n",
       "      <td>29.522640</td>\n",
       "    </tr>\n",
       "    <tr>\n",
       "      <th>7</th>\n",
       "      <td>doctor</td>\n",
       "      <td>0.568319</td>\n",
       "      <td>psychiatric</td>\n",
       "      <td>29.191055</td>\n",
       "    </tr>\n",
       "    <tr>\n",
       "      <th>8</th>\n",
       "      <td>care</td>\n",
       "      <td>0.564767</td>\n",
       "      <td>patients</td>\n",
       "      <td>28.473736</td>\n",
       "    </tr>\n",
       "    <tr>\n",
       "      <th>9</th>\n",
       "      <td>patients</td>\n",
       "      <td>0.562192</td>\n",
       "      <td>ambulance</td>\n",
       "      <td>28.258392</td>\n",
       "    </tr>\n",
       "    <tr>\n",
       "      <th>10</th>\n",
       "      <td>hospitalized</td>\n",
       "      <td>0.558139</td>\n",
       "      <td>hospitalized</td>\n",
       "      <td>28.079788</td>\n",
       "    </tr>\n",
       "    <tr>\n",
       "      <th rowspan=\"10\" valign=\"top\">cat</th>\n",
       "      <th>1</th>\n",
       "      <td>cat</td>\n",
       "      <td>1.000000</td>\n",
       "      <td>cat</td>\n",
       "      <td>40.023449</td>\n",
       "    </tr>\n",
       "    <tr>\n",
       "      <th>2</th>\n",
       "      <td>dog</td>\n",
       "      <td>0.681675</td>\n",
       "      <td>dog</td>\n",
       "      <td>28.778008</td>\n",
       "    </tr>\n",
       "    <tr>\n",
       "      <th>3</th>\n",
       "      <td>cats</td>\n",
       "      <td>0.681584</td>\n",
       "      <td>cats</td>\n",
       "      <td>27.334890</td>\n",
       "    </tr>\n",
       "    <tr>\n",
       "      <th>4</th>\n",
       "      <td>pet</td>\n",
       "      <td>0.587037</td>\n",
       "      <td>pet</td>\n",
       "      <td>24.377987</td>\n",
       "    </tr>\n",
       "    <tr>\n",
       "      <th>5</th>\n",
       "      <td>dogs</td>\n",
       "      <td>0.540767</td>\n",
       "      <td>dogs</td>\n",
       "      <td>23.070911</td>\n",
       "    </tr>\n",
       "    <tr>\n",
       "      <th>6</th>\n",
       "      <td>feline</td>\n",
       "      <td>0.489797</td>\n",
       "      <td>horse</td>\n",
       "      <td>20.386066</td>\n",
       "    </tr>\n",
       "    <tr>\n",
       "      <th>7</th>\n",
       "      <td>monkey</td>\n",
       "      <td>0.487943</td>\n",
       "      <td>mouse</td>\n",
       "      <td>20.201138</td>\n",
       "    </tr>\n",
       "    <tr>\n",
       "      <th>8</th>\n",
       "      <td>horse</td>\n",
       "      <td>0.473213</td>\n",
       "      <td>leopard</td>\n",
       "      <td>20.094938</td>\n",
       "    </tr>\n",
       "    <tr>\n",
       "      <th>9</th>\n",
       "      <td>pets</td>\n",
       "      <td>0.463486</td>\n",
       "      <td>monkey</td>\n",
       "      <td>19.908772</td>\n",
       "    </tr>\n",
       "    <tr>\n",
       "      <th>10</th>\n",
       "      <td>rabbit</td>\n",
       "      <td>0.460876</td>\n",
       "      <td>rabbit</td>\n",
       "      <td>19.456947</td>\n",
       "    </tr>\n",
       "    <tr>\n",
       "      <th rowspan=\"10\" valign=\"top\">car</th>\n",
       "      <th>1</th>\n",
       "      <td>car</td>\n",
       "      <td>1.000000</td>\n",
       "      <td>car</td>\n",
       "      <td>48.388351</td>\n",
       "    </tr>\n",
       "    <tr>\n",
       "      <th>2</th>\n",
       "      <td>cars</td>\n",
       "      <td>0.782716</td>\n",
       "      <td>cars</td>\n",
       "      <td>38.601295</td>\n",
       "    </tr>\n",
       "    <tr>\n",
       "      <th>3</th>\n",
       "      <td>vehicle</td>\n",
       "      <td>0.765537</td>\n",
       "      <td>vehicle</td>\n",
       "      <td>35.861515</td>\n",
       "    </tr>\n",
       "    <tr>\n",
       "      <th>4</th>\n",
       "      <td>truck</td>\n",
       "      <td>0.735062</td>\n",
       "      <td>truck</td>\n",
       "      <td>34.166348</td>\n",
       "    </tr>\n",
       "    <tr>\n",
       "      <th>5</th>\n",
       "      <td>driver</td>\n",
       "      <td>0.711478</td>\n",
       "      <td>driver</td>\n",
       "      <td>33.105103</td>\n",
       "    </tr>\n",
       "    <tr>\n",
       "      <th>6</th>\n",
       "      <td>driving</td>\n",
       "      <td>0.644222</td>\n",
       "      <td>vehicles</td>\n",
       "      <td>31.110245</td>\n",
       "    </tr>\n",
       "    <tr>\n",
       "      <th>7</th>\n",
       "      <td>vehicles</td>\n",
       "      <td>0.632800</td>\n",
       "      <td>motorcycle</td>\n",
       "      <td>29.319912</td>\n",
       "    </tr>\n",
       "    <tr>\n",
       "      <th>8</th>\n",
       "      <td>motorcycle</td>\n",
       "      <td>0.602251</td>\n",
       "      <td>drivers</td>\n",
       "      <td>27.846518</td>\n",
       "    </tr>\n",
       "    <tr>\n",
       "      <th>9</th>\n",
       "      <td>automobile</td>\n",
       "      <td>0.595573</td>\n",
       "      <td>parked</td>\n",
       "      <td>27.842724</td>\n",
       "    </tr>\n",
       "    <tr>\n",
       "      <th>10</th>\n",
       "      <td>parked</td>\n",
       "      <td>0.591003</td>\n",
       "      <td>suv</td>\n",
       "      <td>27.381613</td>\n",
       "    </tr>\n",
       "    <tr>\n",
       "      <th rowspan=\"10\" valign=\"top\">plane</th>\n",
       "      <th>1</th>\n",
       "      <td>plane</td>\n",
       "      <td>1.000000</td>\n",
       "      <td>plane</td>\n",
       "      <td>49.320660</td>\n",
       "    </tr>\n",
       "    <tr>\n",
       "      <th>2</th>\n",
       "      <td>airplane</td>\n",
       "      <td>0.773739</td>\n",
       "      <td>planes</td>\n",
       "      <td>36.935619</td>\n",
       "    </tr>\n",
       "    <tr>\n",
       "      <th>3</th>\n",
       "      <td>planes</td>\n",
       "      <td>0.737317</td>\n",
       "      <td>aircraft</td>\n",
       "      <td>36.346619</td>\n",
       "    </tr>\n",
       "    <tr>\n",
       "      <th>4</th>\n",
       "      <td>jet</td>\n",
       "      <td>0.711837</td>\n",
       "      <td>airliner</td>\n",
       "      <td>36.047611</td>\n",
       "    </tr>\n",
       "    <tr>\n",
       "      <th>5</th>\n",
       "      <td>crashed</td>\n",
       "      <td>0.703250</td>\n",
       "      <td>jet</td>\n",
       "      <td>35.650505</td>\n",
       "    </tr>\n",
       "    <tr>\n",
       "      <th>6</th>\n",
       "      <td>aircraft</td>\n",
       "      <td>0.691475</td>\n",
       "      <td>crashed</td>\n",
       "      <td>34.711281</td>\n",
       "    </tr>\n",
       "    <tr>\n",
       "      <th>7</th>\n",
       "      <td>flight</td>\n",
       "      <td>0.684018</td>\n",
       "      <td>flight</td>\n",
       "      <td>33.832893</td>\n",
       "    </tr>\n",
       "    <tr>\n",
       "      <th>8</th>\n",
       "      <td>airliner</td>\n",
       "      <td>0.664274</td>\n",
       "      <td>airplane</td>\n",
       "      <td>33.484070</td>\n",
       "    </tr>\n",
       "    <tr>\n",
       "      <th>9</th>\n",
       "      <td>crash</td>\n",
       "      <td>0.664109</td>\n",
       "      <td>jetliner</td>\n",
       "      <td>32.878044</td>\n",
       "    </tr>\n",
       "    <tr>\n",
       "      <th>10</th>\n",
       "      <td>helicopter</td>\n",
       "      <td>0.634306</td>\n",
       "      <td>helicopter</td>\n",
       "      <td>32.230980</td>\n",
       "    </tr>\n",
       "    <tr>\n",
       "      <th rowspan=\"10\" valign=\"top\">apple</th>\n",
       "      <th>1</th>\n",
       "      <td>apple</td>\n",
       "      <td>1.000000</td>\n",
       "      <td>apple</td>\n",
       "      <td>50.242741</td>\n",
       "    </tr>\n",
       "    <tr>\n",
       "      <th>2</th>\n",
       "      <td>iphone</td>\n",
       "      <td>0.598704</td>\n",
       "      <td>iphone</td>\n",
       "      <td>32.451447</td>\n",
       "    </tr>\n",
       "    <tr>\n",
       "      <th>3</th>\n",
       "      <td>macintosh</td>\n",
       "      <td>0.583633</td>\n",
       "      <td>ipod</td>\n",
       "      <td>31.651672</td>\n",
       "    </tr>\n",
       "    <tr>\n",
       "      <th>4</th>\n",
       "      <td>ipod</td>\n",
       "      <td>0.576112</td>\n",
       "      <td>macintosh</td>\n",
       "      <td>30.303549</td>\n",
       "    </tr>\n",
       "    <tr>\n",
       "      <th>5</th>\n",
       "      <td>microsoft</td>\n",
       "      <td>0.566383</td>\n",
       "      <td>microsoft</td>\n",
       "      <td>30.064159</td>\n",
       "    </tr>\n",
       "    <tr>\n",
       "      <th>6</th>\n",
       "      <td>ipad</td>\n",
       "      <td>0.562810</td>\n",
       "      <td>ipad</td>\n",
       "      <td>28.711628</td>\n",
       "    </tr>\n",
       "    <tr>\n",
       "      <th>7</th>\n",
       "      <td>intel</td>\n",
       "      <td>0.545756</td>\n",
       "      <td>intel</td>\n",
       "      <td>28.046631</td>\n",
       "    </tr>\n",
       "    <tr>\n",
       "      <th>8</th>\n",
       "      <td>ibm</td>\n",
       "      <td>0.528620</td>\n",
       "      <td>google</td>\n",
       "      <td>27.636509</td>\n",
       "    </tr>\n",
       "    <tr>\n",
       "      <th>9</th>\n",
       "      <td>google</td>\n",
       "      <td>0.528247</td>\n",
       "      <td>ibm</td>\n",
       "      <td>26.729830</td>\n",
       "    </tr>\n",
       "    <tr>\n",
       "      <th>10</th>\n",
       "      <td>imac</td>\n",
       "      <td>0.507252</td>\n",
       "      <td>itunes</td>\n",
       "      <td>26.468224</td>\n",
       "    </tr>\n",
       "  </tbody>\n",
       "</table>\n",
       "</div>"
      ],
      "text/plain": [
       "                        cosine                     dot           \n",
       "                          word     score          word      score\n",
       "source_word rank                                                 \n",
       "hospital    1         hospital  1.000000      hospital  53.355907\n",
       "            2        hospitals  0.707926     hospitals  35.465721\n",
       "            3          medical  0.690507       medical  35.328308\n",
       "            4           clinic  0.648733        clinic  30.238682\n",
       "            5          doctors  0.624972       doctors  30.028748\n",
       "            6      psychiatric  0.571112       surgery  29.522640\n",
       "            7           doctor  0.568319   psychiatric  29.191055\n",
       "            8             care  0.564767      patients  28.473736\n",
       "            9         patients  0.562192     ambulance  28.258392\n",
       "            10    hospitalized  0.558139  hospitalized  28.079788\n",
       "cat         1              cat  1.000000           cat  40.023449\n",
       "            2              dog  0.681675           dog  28.778008\n",
       "            3             cats  0.681584          cats  27.334890\n",
       "            4              pet  0.587037           pet  24.377987\n",
       "            5             dogs  0.540767          dogs  23.070911\n",
       "            6           feline  0.489797         horse  20.386066\n",
       "            7           monkey  0.487943         mouse  20.201138\n",
       "            8            horse  0.473213       leopard  20.094938\n",
       "            9             pets  0.463486        monkey  19.908772\n",
       "            10          rabbit  0.460876        rabbit  19.456947\n",
       "car         1              car  1.000000           car  48.388351\n",
       "            2             cars  0.782716          cars  38.601295\n",
       "            3          vehicle  0.765537       vehicle  35.861515\n",
       "            4            truck  0.735062         truck  34.166348\n",
       "            5           driver  0.711478        driver  33.105103\n",
       "            6          driving  0.644222      vehicles  31.110245\n",
       "            7         vehicles  0.632800    motorcycle  29.319912\n",
       "            8       motorcycle  0.602251       drivers  27.846518\n",
       "            9       automobile  0.595573        parked  27.842724\n",
       "            10          parked  0.591003           suv  27.381613\n",
       "plane       1            plane  1.000000         plane  49.320660\n",
       "            2         airplane  0.773739        planes  36.935619\n",
       "            3           planes  0.737317      aircraft  36.346619\n",
       "            4              jet  0.711837      airliner  36.047611\n",
       "            5          crashed  0.703250           jet  35.650505\n",
       "            6         aircraft  0.691475       crashed  34.711281\n",
       "            7           flight  0.684018        flight  33.832893\n",
       "            8         airliner  0.664274      airplane  33.484070\n",
       "            9            crash  0.664109      jetliner  32.878044\n",
       "            10      helicopter  0.634306    helicopter  32.230980\n",
       "apple       1            apple  1.000000         apple  50.242741\n",
       "            2           iphone  0.598704        iphone  32.451447\n",
       "            3        macintosh  0.583633          ipod  31.651672\n",
       "            4             ipod  0.576112     macintosh  30.303549\n",
       "            5        microsoft  0.566383     microsoft  30.064159\n",
       "            6             ipad  0.562810          ipad  28.711628\n",
       "            7            intel  0.545756         intel  28.046631\n",
       "            8              ibm  0.528620        google  27.636509\n",
       "            9           google  0.528247           ibm  26.729830\n",
       "            10            imac  0.507252        itunes  26.468224"
      ]
     },
     "execution_count": 21,
     "metadata": {},
     "output_type": "execute_result"
    }
   ],
   "source": [
    "df"
   ]
  },
  {
   "cell_type": "code",
   "execution_count": 22,
   "metadata": {
    "collapsed": false,
    "jupyter": {
     "outputs_hidden": false
    },
    "pycharm": {
     "name": "#%%\n"
    }
   },
   "outputs": [
    {
     "data": {
      "image/png": "[encoded data removed]",
      "text/plain": [
       "<Figure size 1000x2000 with 10 Axes>"
      ]
     },
     "metadata": {},
     "output_type": "display_data"
    }
   ],
   "source": [
    "# plot the results\n",
    "fig, axes = plt.subplots(5, 2, figsize=(10, 20))\n",
    "for i, source_word in enumerate(source_words):\n",
    "    for j, metric in enumerate(['cosine', 'dot']):\n",
    "        df.loc[source_word][metric]['score'].plot(kind='bar', ax=axes[i, j])\n",
    "        axes[i, j].set_title(f'{source_word} - {metric}')\n",
    "        axes[i, j].set_xlabel('rank')\n",
    "        axes[i, j].set_ylabel('similarity score')\n",
    "        axes[i, j].set_xticklabels(df.loc[source_word][metric]['word'])\n",
    "plt.tight_layout()"
   ]
  },
  {
   "cell_type": "markdown",
   "metadata": {
    "pycharm": {
     "name": "#%% md\n"
    }
   },
   "source": [
    "The ranking for both similarity metrics is very similar, which makes sense, since the two metrics are very similar. The only difference is that the dot product similarity metric is slightly more sensitive to the magnitude of the vectors, which is why the scores are slightly different. Anyhow, the cosine similarity metric is more intuitive and interpretable, since it is between \\[0, 1\\]."
   ]
  },
  {
   "cell_type": "markdown",
   "metadata": {
    "pycharm": {
     "name": "#%% md\n"
    }
   },
   "source": [
    "<a name=\"section-taskB\"></a><h2 style=\"color:rgb(0,120,170)\">Task B: Document Classification with WE (15 points)</h2>"
   ]
  },
  {
   "cell_type": "markdown",
   "metadata": {
    "pycharm": {
     "name": "#%% md\n"
    }
   },
   "source": [
    "<div style=\"background-color:rgb(224, 243, 255)\">\n",
    "\n",
    "This task follows the same instruction for document classification as provided in Assignment 1. You are indeed free to reuse any part of your code in Assignment 1 for this task. In Assignment 1, the representation of each document was created using a bag of words representation followed by dimensionality reduction. In this task, the document representations are created from the pre-trained word embeddings.\n",
    "\n",
    "**Map word embeddings to dictionary words (5 points).** For every word in the dictionary (as discussed and created in Assignment 1), fetch the corresponding word embedding from the pre-trained model. If no embedding is found, initialize the corresponding word embedding randomly.\n",
    "\n",
    "**Document embedding as the average of word embeddings (5 points).** Using the word embeddings, the representation of each document is defined as the *mean of the vectors of each document's words*. In particular, given the document $d$, consisting of words $\\left[ v_1, v_2, ..., v_{|d|} \\right]$, the document representation $\\mathbf{e}_d$ is defined as:\n",
    "\n",
    "$\\mathbf{e}_d = \\frac{1}{|d|}\\sum_{i=1}^{|d|}{\\mathbf{e}_{v_i}}$\n",
    "\n",
    "where $\\mathbf{e}_{v}$ is the vector of the word $v$, and $|d|$ is the length of the document.\n",
    "\n",
    "**Classification and evaluation (5 points)** Using these new document representations, apply <ins>three classification algorithms</ins> and report the evaluation results (based on accuracy metric) on the test set.\n",
    "\n",
    "</div>"
   ]
  },
  {
   "cell_type": "markdown",
   "metadata": {
    "pycharm": {
     "name": "#%% md\n"
    }
   },
   "source": [
    "## Pre-process"
   ]
  },
  {
   "cell_type": "code",
   "execution_count": 23,
   "metadata": {
    "collapsed": false,
    "jupyter": {
     "outputs_hidden": false
    },
    "pycharm": {
     "name": "#%%\n"
    }
   },
   "outputs": [
    {
     "name": "stdout",
     "output_type": "stream",
     "text": [
      "Train set length:  12110\n",
      "Validation set length:  2596\n",
      "Test set length:  2595\n"
     ]
    }
   ],
   "source": [
    "# print length of each set\n",
    "print('Train set length: ', len(train_df))\n",
    "print('Validation set length: ', len(val_df))\n",
    "print('Test set length: ', len(test_df))"
   ]
  },
  {
   "cell_type": "code",
   "execution_count": 24,
   "metadata": {
    "collapsed": false,
    "jupyter": {
     "outputs_hidden": false
    },
    "pycharm": {
     "name": "#%%\n"
    }
   },
   "outputs": [
    {
     "name": "stdout",
     "output_type": "stream",
     "text": [
      "Average length of text in train set:  450.86\n",
      "Average length of text in validation set:  446.5\n",
      "Average length of text in test set:  440.51\n"
     ]
    }
   ],
   "source": [
    "# print average length of text in each set\n",
    "print('Average length of text in train set: ', np.round(np.mean(train_df['text'].str.len()), 2))\n",
    "print('Average length of text in validation set: ', np.round(np.mean(val_df['text'].str.len()), 2))\n",
    "print('Average length of text in test set: ', np.round(np.mean(test_df['text'].str.len()), 2))"
   ]
  },
  {
   "cell_type": "code",
   "execution_count": 25,
   "metadata": {
    "collapsed": false,
    "jupyter": {
     "outputs_hidden": false
    },
    "pycharm": {
     "name": "#%%\n"
    }
   },
   "outputs": [
    {
     "data": {
      "text/html": [
       "<div>\n",
       "<style scoped>\n",
       "    .dataframe tbody tr th:only-of-type {\n",
       "        vertical-align: middle;\n",
       "    }\n",
       "\n",
       "    .dataframe tbody tr th {\n",
       "        vertical-align: top;\n",
       "    }\n",
       "\n",
       "    .dataframe thead th {\n",
       "        text-align: right;\n",
       "    }\n",
       "</style>\n",
       "<table border=\"1\" class=\"dataframe\">\n",
       "  <thead>\n",
       "    <tr style=\"text-align: right;\">\n",
       "      <th></th>\n",
       "      <th>label</th>\n",
       "      <th>caption</th>\n",
       "    </tr>\n",
       "  </thead>\n",
       "  <tbody>\n",
       "    <tr>\n",
       "      <th>0</th>\n",
       "      <td>0</td>\n",
       "      <td>Agriculture</td>\n",
       "    </tr>\n",
       "    <tr>\n",
       "      <th>1</th>\n",
       "      <td>1</td>\n",
       "      <td>Cross</td>\n",
       "    </tr>\n",
       "    <tr>\n",
       "      <th>2</th>\n",
       "      <td>2</td>\n",
       "      <td>Education</td>\n",
       "    </tr>\n",
       "    <tr>\n",
       "      <th>3</th>\n",
       "      <td>3</td>\n",
       "      <td>Food</td>\n",
       "    </tr>\n",
       "    <tr>\n",
       "      <th>4</th>\n",
       "      <td>4</td>\n",
       "      <td>Health</td>\n",
       "    </tr>\n",
       "    <tr>\n",
       "      <th>5</th>\n",
       "      <td>5</td>\n",
       "      <td>Livelihood</td>\n",
       "    </tr>\n",
       "    <tr>\n",
       "      <th>6</th>\n",
       "      <td>6</td>\n",
       "      <td>Logistic</td>\n",
       "    </tr>\n",
       "    <tr>\n",
       "      <th>7</th>\n",
       "      <td>7</td>\n",
       "      <td>NFI</td>\n",
       "    </tr>\n",
       "    <tr>\n",
       "      <th>8</th>\n",
       "      <td>8</td>\n",
       "      <td>Nutrition</td>\n",
       "    </tr>\n",
       "    <tr>\n",
       "      <th>9</th>\n",
       "      <td>9</td>\n",
       "      <td>Protection</td>\n",
       "    </tr>\n",
       "    <tr>\n",
       "      <th>10</th>\n",
       "      <td>10</td>\n",
       "      <td>Shelter</td>\n",
       "    </tr>\n",
       "    <tr>\n",
       "      <th>11</th>\n",
       "      <td>11</td>\n",
       "      <td>WASH</td>\n",
       "    </tr>\n",
       "  </tbody>\n",
       "</table>\n",
       "</div>"
      ],
      "text/plain": [
       "    label      caption\n",
       "0       0  Agriculture\n",
       "1       1        Cross\n",
       "2       2    Education\n",
       "3       3         Food\n",
       "4       4       Health\n",
       "5       5   Livelihood\n",
       "6       6     Logistic\n",
       "7       7          NFI\n",
       "8       8    Nutrition\n",
       "9       9   Protection\n",
       "10     10      Shelter\n",
       "11     11         WASH"
      ]
     },
     "execution_count": 25,
     "metadata": {},
     "output_type": "execute_result"
    }
   ],
   "source": [
    "label_df"
   ]
  },
  {
   "cell_type": "markdown",
   "metadata": {
    "pycharm": {
     "name": "#%% md\n"
    }
   },
   "source": [
    "Each label corresponds to a given caption, i.e., a category."
   ]
  },
  {
   "cell_type": "code",
   "execution_count": 26,
   "metadata": {
    "collapsed": false,
    "jupyter": {
     "outputs_hidden": false
    },
    "pycharm": {
     "name": "#%%\n"
    }
   },
   "outputs": [],
   "source": [
    "def map_label_to_caption(label):\n",
    "    \"\"\"\n",
    "    Map label id to caption using label_df\n",
    "    :param label: label id, int\n",
    "    :return: label caption, str\n",
    "    \"\"\"\n",
    "    return label_df[label_df['label'] == label]['caption'].values[0]"
   ]
  },
  {
   "cell_type": "code",
   "execution_count": 27,
   "metadata": {
    "collapsed": false,
    "jupyter": {
     "outputs_hidden": false
    },
    "pycharm": {
     "name": "#%%\n"
    }
   },
   "outputs": [],
   "source": [
    "train_df = train_df.assign(caption=train_df['label'].apply(map_label_to_caption))\n",
    "val_df = val_df.assign(caption=val_df['label'].apply(map_label_to_caption))\n",
    "test_df = test_df.assign(caption=test_df['label'].apply(map_label_to_caption))"
   ]
  },
  {
   "cell_type": "markdown",
   "metadata": {
    "pycharm": {
     "name": "#%% md\n"
    }
   },
   "source": [
    "### Clean text"
   ]
  },
  {
   "cell_type": "code",
   "execution_count": 28,
   "metadata": {
    "collapsed": false,
    "jupyter": {
     "outputs_hidden": false
    },
    "pycharm": {
     "name": "#%%\n"
    }
   },
   "outputs": [],
   "source": [
    "import re\n",
    "\n",
    "# remove punctuation marks, replace dates & numbers, apply case-sensitivity\n",
    "# do this in order to reduce the size of the dictionary & reduce complexity\n",
    "def clean_text(text):\n",
    "    \"\"\"\n",
    "    Clean text by removing punctuation marks, replacing dates & numbers, applying case-sensitivity\n",
    "    :param text: text to clean, str\n",
    "    :return: cleaned text, str\n",
    "    \"\"\"\n",
    "    # remove punctuation marks\n",
    "#     text = re.sub(r'[^\\w\\s]', '', text)\n",
    "    # replace dates\n",
    "    text = re.sub(r'\\d{1,2}/\\d{1,2}/\\d{2,4}', '< date >', text)\n",
    "    # replace numbers\n",
    "    text = re.sub(r'\\d+', '< num >', text)\n",
    "    # apply case-sensitivity\n",
    "    text = text.lower()\n",
    "    return text"
   ]
  },
  {
   "cell_type": "code",
   "execution_count": 29,
   "metadata": {
    "collapsed": false,
    "jupyter": {
     "outputs_hidden": false
    },
    "pycharm": {
     "name": "#%%\n"
    }
   },
   "outputs": [],
   "source": [
    "train_df['cleaned_text'] = train_df['text'].apply(clean_text)\n",
    "val_df['cleaned_text'] = val_df['text'].apply(clean_text)\n",
    "test_df['cleaned_text'] = test_df['text'].apply(clean_text)"
   ]
  },
  {
   "cell_type": "code",
   "execution_count": 30,
   "metadata": {
    "collapsed": false,
    "jupyter": {
     "outputs_hidden": false
    },
    "pycharm": {
     "name": "#%%\n"
    }
   },
   "outputs": [
    {
     "data": {
      "text/html": [
       "<div>\n",
       "<style scoped>\n",
       "    .dataframe tbody tr th:only-of-type {\n",
       "        vertical-align: middle;\n",
       "    }\n",
       "\n",
       "    .dataframe tbody tr th {\n",
       "        vertical-align: top;\n",
       "    }\n",
       "\n",
       "    .dataframe thead th {\n",
       "        text-align: right;\n",
       "    }\n",
       "</style>\n",
       "<table border=\"1\" class=\"dataframe\">\n",
       "  <thead>\n",
       "    <tr style=\"text-align: right;\">\n",
       "      <th></th>\n",
       "      <th>sentence_id</th>\n",
       "      <th>text</th>\n",
       "      <th>label</th>\n",
       "      <th>caption</th>\n",
       "      <th>cleaned_text</th>\n",
       "    </tr>\n",
       "  </thead>\n",
       "  <tbody>\n",
       "    <tr>\n",
       "      <th>0</th>\n",
       "      <td>5446</td>\n",
       "      <td>In addition to the immediate life-saving inter...</td>\n",
       "      <td>9</td>\n",
       "      <td>Protection</td>\n",
       "      <td>in addition to the immediate life-saving inter...</td>\n",
       "    </tr>\n",
       "    <tr>\n",
       "      <th>1</th>\n",
       "      <td>8812</td>\n",
       "      <td>There are approximately 2.6 million people cla...</td>\n",
       "      <td>3</td>\n",
       "      <td>Food</td>\n",
       "      <td>there are approximately &lt; num &gt;.&lt; num &gt; millio...</td>\n",
       "    </tr>\n",
       "    <tr>\n",
       "      <th>2</th>\n",
       "      <td>16709</td>\n",
       "      <td>While aid imports have held up recently, comme...</td>\n",
       "      <td>5</td>\n",
       "      <td>Livelihood</td>\n",
       "      <td>while aid imports have held up recently, comme...</td>\n",
       "    </tr>\n",
       "    <tr>\n",
       "      <th>3</th>\n",
       "      <td>3526</td>\n",
       "      <td>Heavy rainfalls as well as onrush of water fro...</td>\n",
       "      <td>0</td>\n",
       "      <td>Agriculture</td>\n",
       "      <td>heavy rainfalls as well as onrush of water fro...</td>\n",
       "    </tr>\n",
       "    <tr>\n",
       "      <th>4</th>\n",
       "      <td>4928</td>\n",
       "      <td>Based on field reports 9 , the main production...</td>\n",
       "      <td>3</td>\n",
       "      <td>Food</td>\n",
       "      <td>based on field reports &lt; num &gt; , the main prod...</td>\n",
       "    </tr>\n",
       "    <tr>\n",
       "      <th>...</th>\n",
       "      <td>...</td>\n",
       "      <td>...</td>\n",
       "      <td>...</td>\n",
       "      <td>...</td>\n",
       "      <td>...</td>\n",
       "    </tr>\n",
       "    <tr>\n",
       "      <th>12105</th>\n",
       "      <td>12744</td>\n",
       "      <td>The total gap in the number of people who requ...</td>\n",
       "      <td>8</td>\n",
       "      <td>Nutrition</td>\n",
       "      <td>the total gap in the number of people who requ...</td>\n",
       "    </tr>\n",
       "    <tr>\n",
       "      <th>12106</th>\n",
       "      <td>9655</td>\n",
       "      <td>A food crisis is looming in the country with t...</td>\n",
       "      <td>0</td>\n",
       "      <td>Agriculture</td>\n",
       "      <td>a food crisis is looming in the country with t...</td>\n",
       "    </tr>\n",
       "    <tr>\n",
       "      <th>12107</th>\n",
       "      <td>6963</td>\n",
       "      <td>? Acute watery diarrhoea (AWD) continues to be...</td>\n",
       "      <td>4</td>\n",
       "      <td>Health</td>\n",
       "      <td>? acute watery diarrhoea (awd) continues to be...</td>\n",
       "    </tr>\n",
       "    <tr>\n",
       "      <th>12108</th>\n",
       "      <td>923</td>\n",
       "      <td>As South India grapples with drought and water...</td>\n",
       "      <td>11</td>\n",
       "      <td>WASH</td>\n",
       "      <td>as south india grapples with drought and water...</td>\n",
       "    </tr>\n",
       "    <tr>\n",
       "      <th>12109</th>\n",
       "      <td>15880</td>\n",
       "      <td>Mirroring trends in South Africa, the main sou...</td>\n",
       "      <td>3</td>\n",
       "      <td>Food</td>\n",
       "      <td>mirroring trends in south africa, the main sou...</td>\n",
       "    </tr>\n",
       "  </tbody>\n",
       "</table>\n",
       "<p>12110 rows × 5 columns</p>\n",
       "</div>"
      ],
      "text/plain": [
       "       sentence_id                                               text  label  \\\n",
       "0             5446  In addition to the immediate life-saving inter...      9   \n",
       "1             8812  There are approximately 2.6 million people cla...      3   \n",
       "2            16709  While aid imports have held up recently, comme...      5   \n",
       "3             3526  Heavy rainfalls as well as onrush of water fro...      0   \n",
       "4             4928  Based on field reports 9 , the main production...      3   \n",
       "...            ...                                                ...    ...   \n",
       "12105        12744  The total gap in the number of people who requ...      8   \n",
       "12106         9655  A food crisis is looming in the country with t...      0   \n",
       "12107         6963  ? Acute watery diarrhoea (AWD) continues to be...      4   \n",
       "12108          923  As South India grapples with drought and water...     11   \n",
       "12109        15880  Mirroring trends in South Africa, the main sou...      3   \n",
       "\n",
       "           caption                                       cleaned_text  \n",
       "0       Protection  in addition to the immediate life-saving inter...  \n",
       "1             Food  there are approximately < num >.< num > millio...  \n",
       "2       Livelihood  while aid imports have held up recently, comme...  \n",
       "3      Agriculture  heavy rainfalls as well as onrush of water fro...  \n",
       "4             Food  based on field reports < num > , the main prod...  \n",
       "...            ...                                                ...  \n",
       "12105    Nutrition  the total gap in the number of people who requ...  \n",
       "12106  Agriculture  a food crisis is looming in the country with t...  \n",
       "12107       Health  ? acute watery diarrhoea (awd) continues to be...  \n",
       "12108         WASH  as south india grapples with drought and water...  \n",
       "12109         Food  mirroring trends in south africa, the main sou...  \n",
       "\n",
       "[12110 rows x 5 columns]"
      ]
     },
     "execution_count": 30,
     "metadata": {},
     "output_type": "execute_result"
    }
   ],
   "source": [
    "train_df"
   ]
  },
  {
   "cell_type": "markdown",
   "metadata": {
    "pycharm": {
     "name": "#%% md\n"
    }
   },
   "source": [
    "### Tokenization"
   ]
  },
  {
   "cell_type": "code",
   "execution_count": 31,
   "metadata": {
    "collapsed": false,
    "jupyter": {
     "outputs_hidden": false
    },
    "pycharm": {
     "name": "#%%\n"
    }
   },
   "outputs": [
    {
     "name": "stderr",
     "output_type": "stream",
     "text": [
      "[nltk_data] Downloading package punkt to /home/tobias/nltk_data...\n",
      "[nltk_data]   Package punkt is already up-to-date!\n",
      "[nltk_data] Downloading package wordnet to /home/tobias/nltk_data...\n",
      "[nltk_data]   Package wordnet is already up-to-date!\n",
      "[nltk_data] Downloading package omw-1.4 to /home/tobias/nltk_data...\n",
      "[nltk_data]   Package omw-1.4 is already up-to-date!\n"
     ]
    },
    {
     "data": {
      "text/plain": [
       "True"
      ]
     },
     "execution_count": 31,
     "metadata": {},
     "output_type": "execute_result"
    }
   ],
   "source": [
    "import nltk\n",
    "\n",
    "nltk.download('punkt')\n",
    "nltk.download('wordnet')\n",
    "nltk.download('omw-1.4')"
   ]
  },
  {
   "cell_type": "code",
   "execution_count": 32,
   "metadata": {
    "collapsed": false,
    "jupyter": {
     "outputs_hidden": false
    },
    "pycharm": {
     "name": "#%%\n"
    }
   },
   "outputs": [],
   "source": [
    "# use NLTK tokenizer (TreebankWordTokenizer)\n",
    "from nltk.tokenize import word_tokenize\n",
    "train_df['tokenized_text'] = train_df['cleaned_text'].apply(word_tokenize)\n",
    "val_df['tokenized_text'] = val_df['cleaned_text'].apply(word_tokenize)\n",
    "test_df['tokenized_text'] = test_df['cleaned_text'].apply(word_tokenize)"
   ]
  },
  {
   "cell_type": "markdown",
   "metadata": {
    "pycharm": {
     "name": "#%% md\n"
    }
   },
   "source": [
    "## Stopwords"
   ]
  },
  {
   "cell_type": "code",
   "execution_count": 33,
   "metadata": {
    "collapsed": false,
    "jupyter": {
     "outputs_hidden": false
    },
    "pycharm": {
     "name": "#%%\n"
    }
   },
   "outputs": [
    {
     "name": "stderr",
     "output_type": "stream",
     "text": [
      "[nltk_data] Downloading package stopwords to /home/tobias/nltk_data...\n",
      "[nltk_data]   Package stopwords is already up-to-date!\n"
     ]
    },
    {
     "data": {
      "text/plain": [
       "True"
      ]
     },
     "execution_count": 33,
     "metadata": {},
     "output_type": "execute_result"
    }
   ],
   "source": [
    "nltk.download('stopwords')"
   ]
  },
  {
   "cell_type": "code",
   "execution_count": 34,
   "metadata": {
    "collapsed": false,
    "jupyter": {
     "outputs_hidden": false
    },
    "pycharm": {
     "name": "#%%\n"
    }
   },
   "outputs": [],
   "source": [
    "# remove stopwords in English in order to reduce the size of the dictionary\n",
    "from nltk.corpus import stopwords\n",
    "stop_words = set(stopwords.words('english'))\n",
    "train_df['tokenized_text'] = train_df['tokenized_text'].apply(lambda x: [word for word in x if word not in stop_words])\n",
    "val_df['tokenized_text'] = val_df['tokenized_text'].apply(lambda x: [word for word in x if word not in stop_words])\n",
    "test_df['tokenized_text'] = test_df['tokenized_text'].apply(lambda x: [word for word in x if word not in stop_words])"
   ]
  },
  {
   "cell_type": "code",
   "execution_count": 35,
   "metadata": {
    "collapsed": false,
    "jupyter": {
     "outputs_hidden": false
    },
    "pycharm": {
     "name": "#%%\n"
    }
   },
   "outputs": [],
   "source": [
    "# create dictionary using train set\n",
    "def create_dictionary(tokenized_text):\n",
    "    \"\"\"\n",
    "    Create dictionary using train set\n",
    "    :param tokenized_text: tokenized text, list\n",
    "    :return: dictionary, dict\n",
    "    \"\"\"\n",
    "    dictionary = {}\n",
    "    for tokens in tokenized_text:\n",
    "        for token in tokens:\n",
    "            if token not in dictionary:\n",
    "                dictionary[token] = 1\n",
    "            else:\n",
    "                dictionary[token] += 1\n",
    "    return dictionary"
   ]
  },
  {
   "cell_type": "code",
   "execution_count": 36,
   "metadata": {
    "collapsed": false,
    "jupyter": {
     "outputs_hidden": false
    },
    "pycharm": {
     "name": "#%%\n"
    }
   },
   "outputs": [],
   "source": [
    "dictionary = create_dictionary(train_df['tokenized_text'])"
   ]
  },
  {
   "cell_type": "code",
   "execution_count": 37,
   "metadata": {},
   "outputs": [
    {
     "name": "stdout",
     "output_type": "stream",
     "text": [
      "Length of dictionary:  31363\n"
     ]
    }
   ],
   "source": [
    "# print length of dictionary\n",
    "print('Length of dictionary: ', len(dictionary))"
   ]
  },
  {
   "cell_type": "code",
   "execution_count": 38,
   "metadata": {
    "collapsed": false,
    "jupyter": {
     "outputs_hidden": false
    },
    "pycharm": {
     "name": "#%%\n"
    }
   },
   "outputs": [],
   "source": [
    "# keep only top-N most frequent words\n",
    "# removing any word with a lower frequency than a threshold\n",
    "# OOV (out-of-vocabulary) words will be replaced with the <oov> token\n",
    "def clean_dictionary(dictionary, N: int, threshold: int):\n",
    "    \"\"\"\n",
    "    Clean dictionary by keeping only top-N most frequent words and removing any word with a lower frequency than a threshold\n",
    "    :param dictionary: dictionary, dict\n",
    "    :param N: top-N most frequent words, int\n",
    "    :param threshold: threshold of word frequency, int\n",
    "    :return: cleaned dictionary, dict\n",
    "    \"\"\"\n",
    "    # keep only top-N most frequent words\n",
    "    dictionary = dict(sorted(dictionary.items(), key=lambda x: x[1], reverse=True)[:N])\n",
    "\n",
    "    # replace any word with a lower frequency than a threshold\n",
    "    for key, value in dictionary.copy().items():\n",
    "        if value < threshold:\n",
    "            dictionary['<oov>'] = dictionary.get('<oov>', 0) + value\n",
    "            dictionary.pop(key)\n",
    "    return dictionary"
   ]
  },
  {
   "cell_type": "code",
   "execution_count": 39,
   "metadata": {
    "collapsed": false,
    "jupyter": {
     "outputs_hidden": false
    },
    "pycharm": {
     "name": "#%%\n"
    }
   },
   "outputs": [],
   "source": [
    "dictionary = clean_dictionary(dictionary, N=100_000, threshold=5)"
   ]
  },
  {
   "cell_type": "code",
   "execution_count": 40,
   "metadata": {
    "collapsed": false,
    "jupyter": {
     "outputs_hidden": false
    },
    "pycharm": {
     "name": "#%%\n"
    }
   },
   "outputs": [
    {
     "name": "stdout",
     "output_type": "stream",
     "text": [
      "Length of dictionary:  8247\n"
     ]
    }
   ],
   "source": [
    "# print length of dictionary\n",
    "print('Length of dictionary: ', len(dictionary))"
   ]
  },
  {
   "cell_type": "markdown",
   "metadata": {
    "pycharm": {
     "name": "#%% md\n"
    }
   },
   "source": [
    "**Map word embeddings to dictionary words (5 points).** For every word in the dictionary (as discussed and created in Assignment 1), fetch the corresponding word embedding from the pre-trained model. If no embedding is found, initialize the corresponding word embedding randomly.\n"
   ]
  },
  {
   "cell_type": "code",
   "execution_count": 41,
   "metadata": {
    "collapsed": false,
    "jupyter": {
     "outputs_hidden": false
    },
    "pycharm": {
     "name": "#%%\n"
    }
   },
   "outputs": [
    {
     "name": "stdout",
     "output_type": "stream",
     "text": [
      "KeyedVectors<vector_size=300, 400000 keys>\n"
     ]
    }
   ],
   "source": [
    "# load the pre-trained word embeddings\n",
    "print(glove_model)"
   ]
  },
  {
   "cell_type": "code",
   "execution_count": 42,
   "metadata": {
    "collapsed": false,
    "jupyter": {
     "outputs_hidden": false
    },
    "pycharm": {
     "name": "#%%\n"
    }
   },
   "outputs": [],
   "source": [
    "# create a dictionary of word embeddings\n",
    "word_embeddings_train = {}\n",
    "word_embeddings_val = {}\n",
    "word_embeddings_test = {}\n",
    "for split in [word_embeddings_train, word_embeddings_val, word_embeddings_test]:\n",
    "    for word in dictionary:\n",
    "        try:\n",
    "            split[word] = glove_model[word]\n",
    "        except KeyError:\n",
    "            split[word] = np.random.uniform(-1, 1, size=300)\n",
    "\n",
    "word_embeddings_train['<oov>'] = np.random.uniform(-1, 1, size=glove_model.vector_size)\n",
    "word_embeddings_val['<oov>'] = np.random.uniform(-1, 1, size=glove_model.vector_size)\n",
    "word_embeddings_test['<oov>'] = np.random.uniform(-1, 1, size=glove_model.vector_size)"
   ]
  },
  {
   "cell_type": "code",
   "execution_count": 43,
   "metadata": {
    "collapsed": false,
    "jupyter": {
     "outputs_hidden": false
    },
    "pycharm": {
     "name": "#%%\n"
    }
   },
   "outputs": [
    {
     "name": "stdout",
     "output_type": "stream",
     "text": [
      "Length of word embeddings:  8247\n"
     ]
    }
   ],
   "source": [
    "# print length of word embeddings\n",
    "print('Length of word embeddings: ', len(word_embeddings_train))"
   ]
  },
  {
   "cell_type": "code",
   "execution_count": 44,
   "metadata": {
    "collapsed": false,
    "jupyter": {
     "outputs_hidden": false
    },
    "pycharm": {
     "name": "#%%\n"
    }
   },
   "outputs": [
    {
     "data": {
      "text/html": [
       "<div>\n",
       "<style scoped>\n",
       "    .dataframe tbody tr th:only-of-type {\n",
       "        vertical-align: middle;\n",
       "    }\n",
       "\n",
       "    .dataframe tbody tr th {\n",
       "        vertical-align: top;\n",
       "    }\n",
       "\n",
       "    .dataframe thead th {\n",
       "        text-align: right;\n",
       "    }\n",
       "</style>\n",
       "<table border=\"1\" class=\"dataframe\">\n",
       "  <thead>\n",
       "    <tr style=\"text-align: right;\">\n",
       "      <th></th>\n",
       "      <th>sentence_id</th>\n",
       "      <th>text</th>\n",
       "      <th>label</th>\n",
       "      <th>caption</th>\n",
       "      <th>cleaned_text</th>\n",
       "      <th>tokenized_text</th>\n",
       "    </tr>\n",
       "  </thead>\n",
       "  <tbody>\n",
       "    <tr>\n",
       "      <th>0</th>\n",
       "      <td>5446</td>\n",
       "      <td>In addition to the immediate life-saving inter...</td>\n",
       "      <td>9</td>\n",
       "      <td>Protection</td>\n",
       "      <td>in addition to the immediate life-saving inter...</td>\n",
       "      <td>[addition, immediate, life-saving, interventio...</td>\n",
       "    </tr>\n",
       "    <tr>\n",
       "      <th>1</th>\n",
       "      <td>8812</td>\n",
       "      <td>There are approximately 2.6 million people cla...</td>\n",
       "      <td>3</td>\n",
       "      <td>Food</td>\n",
       "      <td>there are approximately &lt; num &gt;.&lt; num &gt; millio...</td>\n",
       "      <td>[approximately, &lt;, num, &gt;, ., &lt;, num, &gt;, milli...</td>\n",
       "    </tr>\n",
       "    <tr>\n",
       "      <th>2</th>\n",
       "      <td>16709</td>\n",
       "      <td>While aid imports have held up recently, comme...</td>\n",
       "      <td>5</td>\n",
       "      <td>Livelihood</td>\n",
       "      <td>while aid imports have held up recently, comme...</td>\n",
       "      <td>[aid, imports, held, recently, ,, commercial, ...</td>\n",
       "    </tr>\n",
       "    <tr>\n",
       "      <th>3</th>\n",
       "      <td>3526</td>\n",
       "      <td>Heavy rainfalls as well as onrush of water fro...</td>\n",
       "      <td>0</td>\n",
       "      <td>Agriculture</td>\n",
       "      <td>heavy rainfalls as well as onrush of water fro...</td>\n",
       "      <td>[heavy, rainfalls, well, onrush, water, upstre...</td>\n",
       "    </tr>\n",
       "    <tr>\n",
       "      <th>4</th>\n",
       "      <td>4928</td>\n",
       "      <td>Based on field reports 9 , the main production...</td>\n",
       "      <td>3</td>\n",
       "      <td>Food</td>\n",
       "      <td>based on field reports &lt; num &gt; , the main prod...</td>\n",
       "      <td>[based, field, reports, &lt;, num, &gt;, ,, main, pr...</td>\n",
       "    </tr>\n",
       "    <tr>\n",
       "      <th>...</th>\n",
       "      <td>...</td>\n",
       "      <td>...</td>\n",
       "      <td>...</td>\n",
       "      <td>...</td>\n",
       "      <td>...</td>\n",
       "      <td>...</td>\n",
       "    </tr>\n",
       "    <tr>\n",
       "      <th>12105</th>\n",
       "      <td>12744</td>\n",
       "      <td>The total gap in the number of people who requ...</td>\n",
       "      <td>8</td>\n",
       "      <td>Nutrition</td>\n",
       "      <td>the total gap in the number of people who requ...</td>\n",
       "      <td>[total, gap, number, people, require, assistan...</td>\n",
       "    </tr>\n",
       "    <tr>\n",
       "      <th>12106</th>\n",
       "      <td>9655</td>\n",
       "      <td>A food crisis is looming in the country with t...</td>\n",
       "      <td>0</td>\n",
       "      <td>Agriculture</td>\n",
       "      <td>a food crisis is looming in the country with t...</td>\n",
       "      <td>[food, crisis, looming, country, season, ’, ma...</td>\n",
       "    </tr>\n",
       "    <tr>\n",
       "      <th>12107</th>\n",
       "      <td>6963</td>\n",
       "      <td>? Acute watery diarrhoea (AWD) continues to be...</td>\n",
       "      <td>4</td>\n",
       "      <td>Health</td>\n",
       "      <td>? acute watery diarrhoea (awd) continues to be...</td>\n",
       "      <td>[?, acute, watery, diarrhoea, (, awd, ), conti...</td>\n",
       "    </tr>\n",
       "    <tr>\n",
       "      <th>12108</th>\n",
       "      <td>923</td>\n",
       "      <td>As South India grapples with drought and water...</td>\n",
       "      <td>11</td>\n",
       "      <td>WASH</td>\n",
       "      <td>as south india grapples with drought and water...</td>\n",
       "      <td>[south, india, grapples, drought, water, short...</td>\n",
       "    </tr>\n",
       "    <tr>\n",
       "      <th>12109</th>\n",
       "      <td>15880</td>\n",
       "      <td>Mirroring trends in South Africa, the main sou...</td>\n",
       "      <td>3</td>\n",
       "      <td>Food</td>\n",
       "      <td>mirroring trends in south africa, the main sou...</td>\n",
       "      <td>[mirroring, trends, south, africa, ,, main, so...</td>\n",
       "    </tr>\n",
       "  </tbody>\n",
       "</table>\n",
       "<p>12110 rows × 6 columns</p>\n",
       "</div>"
      ],
      "text/plain": [
       "       sentence_id                                               text  label  \\\n",
       "0             5446  In addition to the immediate life-saving inter...      9   \n",
       "1             8812  There are approximately 2.6 million people cla...      3   \n",
       "2            16709  While aid imports have held up recently, comme...      5   \n",
       "3             3526  Heavy rainfalls as well as onrush of water fro...      0   \n",
       "4             4928  Based on field reports 9 , the main production...      3   \n",
       "...            ...                                                ...    ...   \n",
       "12105        12744  The total gap in the number of people who requ...      8   \n",
       "12106         9655  A food crisis is looming in the country with t...      0   \n",
       "12107         6963  ? Acute watery diarrhoea (AWD) continues to be...      4   \n",
       "12108          923  As South India grapples with drought and water...     11   \n",
       "12109        15880  Mirroring trends in South Africa, the main sou...      3   \n",
       "\n",
       "           caption                                       cleaned_text  \\\n",
       "0       Protection  in addition to the immediate life-saving inter...   \n",
       "1             Food  there are approximately < num >.< num > millio...   \n",
       "2       Livelihood  while aid imports have held up recently, comme...   \n",
       "3      Agriculture  heavy rainfalls as well as onrush of water fro...   \n",
       "4             Food  based on field reports < num > , the main prod...   \n",
       "...            ...                                                ...   \n",
       "12105    Nutrition  the total gap in the number of people who requ...   \n",
       "12106  Agriculture  a food crisis is looming in the country with t...   \n",
       "12107       Health  ? acute watery diarrhoea (awd) continues to be...   \n",
       "12108         WASH  as south india grapples with drought and water...   \n",
       "12109         Food  mirroring trends in south africa, the main sou...   \n",
       "\n",
       "                                          tokenized_text  \n",
       "0      [addition, immediate, life-saving, interventio...  \n",
       "1      [approximately, <, num, >, ., <, num, >, milli...  \n",
       "2      [aid, imports, held, recently, ,, commercial, ...  \n",
       "3      [heavy, rainfalls, well, onrush, water, upstre...  \n",
       "4      [based, field, reports, <, num, >, ,, main, pr...  \n",
       "...                                                  ...  \n",
       "12105  [total, gap, number, people, require, assistan...  \n",
       "12106  [food, crisis, looming, country, season, ’, ma...  \n",
       "12107  [?, acute, watery, diarrhoea, (, awd, ), conti...  \n",
       "12108  [south, india, grapples, drought, water, short...  \n",
       "12109  [mirroring, trends, south, africa, ,, main, so...  \n",
       "\n",
       "[12110 rows x 6 columns]"
      ]
     },
     "execution_count": 44,
     "metadata": {},
     "output_type": "execute_result"
    }
   ],
   "source": [
    "train_df"
   ]
  },
  {
   "cell_type": "markdown",
   "metadata": {
    "pycharm": {
     "name": "#%% md\n"
    }
   },
   "source": [
    "**Document embedding as the average of word embeddings (5 points).** Using the word embeddings, the representation of each document is defined as the *mean of the vectors of each document's words*. In particular, given the document $d$, consisting of words $\\left[ v_1, v_2, ..., v_{|d|} \\right]$, the document representation $\\mathbf{e}_d$ is defined as:\n",
    "\n",
    "$\\mathbf{e}_d = \\frac{1}{|d|}\\sum_{i=1}^{|d|}{\\mathbf{e}_{v_i}}$\n",
    "\n",
    "where $\\mathbf{e}_{v}$ is the vector of the word $v$, and $|d|$ is the length of the document."
   ]
  },
  {
   "cell_type": "code",
   "execution_count": 45,
   "metadata": {
    "collapsed": false,
    "jupyter": {
     "outputs_hidden": false
    },
    "pycharm": {
     "name": "#%%\n"
    }
   },
   "outputs": [],
   "source": [
    "# drop words that are not in the dictionary\n",
    "train_df['tokenized_text'] = train_df['tokenized_text'].apply(lambda x: [word for word in x if word in dictionary])\n",
    "val_df['tokenized_text'] = val_df['tokenized_text'].apply(lambda x: [word for word in x if word in dictionary])\n",
    "test_df['tokenized_text'] = test_df['tokenized_text'].apply(lambda x: [word for word in x if word in dictionary])"
   ]
  },
  {
   "cell_type": "code",
   "execution_count": 46,
   "metadata": {
    "pycharm": {
     "name": "#%%\n"
    }
   },
   "outputs": [
    {
     "data": {
      "text/plain": [
       "(300,)"
      ]
     },
     "execution_count": 46,
     "metadata": {},
     "output_type": "execute_result"
    }
   ],
   "source": [
    "word_embeddings_train['addition'].shape"
   ]
  },
  {
   "cell_type": "code",
   "execution_count": 47,
   "metadata": {
    "collapsed": false,
    "jupyter": {
     "outputs_hidden": false
    },
    "pycharm": {
     "name": "#%%\n"
    }
   },
   "outputs": [],
   "source": [
    "# create a dictionary of document embeddings\n",
    "document_embeddings_train = {}\n",
    "for index, row in train_df.iterrows():\n",
    "    # computes element-wise mean along the specified axis\n",
    "    document_embeddings_train[row['sentence_id']] = np.mean([word_embeddings_train[word] for word in row['tokenized_text']], axis=0)\n",
    "\n",
    "document_embeddings_val = {}\n",
    "for index, row in val_df.iterrows():\n",
    "    document_embeddings_val[row['sentence_id']] = np.mean([word_embeddings_val[word] for word in row['tokenized_text']], axis=0)\n",
    "\n",
    "document_embeddings_test = {}\n",
    "for index, row in test_df.iterrows():\n",
    "    document_embeddings_test[row['sentence_id']] = np.mean([word_embeddings_test[word] for word in row['tokenized_text']], axis=0)"
   ]
  },
  {
   "cell_type": "code",
   "execution_count": 48,
   "metadata": {
    "collapsed": false,
    "jupyter": {
     "outputs_hidden": false
    },
    "pycharm": {
     "name": "#%%\n"
    }
   },
   "outputs": [],
   "source": [
    "# move embeddings into df\n",
    "train_df['document_embeddings'] = train_df['sentence_id'].map(document_embeddings_train)\n",
    "val_df['document_embeddings'] = val_df['sentence_id'].map(document_embeddings_val)\n",
    "test_df['document_embeddings'] = test_df['sentence_id'].map(document_embeddings_test)"
   ]
  },
  {
   "cell_type": "code",
   "execution_count": 49,
   "metadata": {
    "collapsed": false,
    "jupyter": {
     "outputs_hidden": false
    },
    "pycharm": {
     "name": "#%%\n"
    }
   },
   "outputs": [
    {
     "data": {
      "text/html": [
       "<div>\n",
       "<style scoped>\n",
       "    .dataframe tbody tr th:only-of-type {\n",
       "        vertical-align: middle;\n",
       "    }\n",
       "\n",
       "    .dataframe tbody tr th {\n",
       "        vertical-align: top;\n",
       "    }\n",
       "\n",
       "    .dataframe thead th {\n",
       "        text-align: right;\n",
       "    }\n",
       "</style>\n",
       "<table border=\"1\" class=\"dataframe\">\n",
       "  <thead>\n",
       "    <tr style=\"text-align: right;\">\n",
       "      <th></th>\n",
       "      <th>sentence_id</th>\n",
       "      <th>text</th>\n",
       "      <th>label</th>\n",
       "      <th>caption</th>\n",
       "      <th>cleaned_text</th>\n",
       "      <th>tokenized_text</th>\n",
       "      <th>document_embeddings</th>\n",
       "    </tr>\n",
       "  </thead>\n",
       "  <tbody>\n",
       "    <tr>\n",
       "      <th>0</th>\n",
       "      <td>5446</td>\n",
       "      <td>In addition to the immediate life-saving inter...</td>\n",
       "      <td>9</td>\n",
       "      <td>Protection</td>\n",
       "      <td>in addition to the immediate life-saving inter...</td>\n",
       "      <td>[addition, immediate, life-saving, interventio...</td>\n",
       "      <td>[-0.093476795, -0.000837736, 0.16196184, -0.02...</td>\n",
       "    </tr>\n",
       "    <tr>\n",
       "      <th>1</th>\n",
       "      <td>8812</td>\n",
       "      <td>There are approximately 2.6 million people cla...</td>\n",
       "      <td>3</td>\n",
       "      <td>Food</td>\n",
       "      <td>there are approximately &lt; num &gt;.&lt; num &gt; millio...</td>\n",
       "      <td>[approximately, &lt;, num, &gt;, ., &lt;, num, &gt;, milli...</td>\n",
       "      <td>[-0.18293726, 0.05829492, 0.08778859, -0.02920...</td>\n",
       "    </tr>\n",
       "    <tr>\n",
       "      <th>2</th>\n",
       "      <td>16709</td>\n",
       "      <td>While aid imports have held up recently, comme...</td>\n",
       "      <td>5</td>\n",
       "      <td>Livelihood</td>\n",
       "      <td>while aid imports have held up recently, comme...</td>\n",
       "      <td>[aid, imports, held, recently, ,, commercial, ...</td>\n",
       "      <td>[0.11866271, 0.009274091, 0.05972651, -0.14722...</td>\n",
       "    </tr>\n",
       "    <tr>\n",
       "      <th>3</th>\n",
       "      <td>3526</td>\n",
       "      <td>Heavy rainfalls as well as onrush of water fro...</td>\n",
       "      <td>0</td>\n",
       "      <td>Agriculture</td>\n",
       "      <td>heavy rainfalls as well as onrush of water fro...</td>\n",
       "      <td>[heavy, rainfalls, well, water, upstream, hill...</td>\n",
       "      <td>[-0.13517979656558068, -0.05630535418889347, -...</td>\n",
       "    </tr>\n",
       "    <tr>\n",
       "      <th>4</th>\n",
       "      <td>4928</td>\n",
       "      <td>Based on field reports 9 , the main production...</td>\n",
       "      <td>3</td>\n",
       "      <td>Food</td>\n",
       "      <td>based on field reports &lt; num &gt; , the main prod...</td>\n",
       "      <td>[based, field, reports, &lt;, num, &gt;, ,, main, pr...</td>\n",
       "      <td>[-0.1331483110326543, 0.07542296148016878, 0.1...</td>\n",
       "    </tr>\n",
       "    <tr>\n",
       "      <th>...</th>\n",
       "      <td>...</td>\n",
       "      <td>...</td>\n",
       "      <td>...</td>\n",
       "      <td>...</td>\n",
       "      <td>...</td>\n",
       "      <td>...</td>\n",
       "      <td>...</td>\n",
       "    </tr>\n",
       "    <tr>\n",
       "      <th>12105</th>\n",
       "      <td>12744</td>\n",
       "      <td>The total gap in the number of people who requ...</td>\n",
       "      <td>8</td>\n",
       "      <td>Nutrition</td>\n",
       "      <td>the total gap in the number of people who requ...</td>\n",
       "      <td>[total, gap, number, people, require, assistan...</td>\n",
       "      <td>[-0.21061791, 0.05985846, 0.21382454, -0.02071...</td>\n",
       "    </tr>\n",
       "    <tr>\n",
       "      <th>12106</th>\n",
       "      <td>9655</td>\n",
       "      <td>A food crisis is looming in the country with t...</td>\n",
       "      <td>0</td>\n",
       "      <td>Agriculture</td>\n",
       "      <td>a food crisis is looming in the country with t...</td>\n",
       "      <td>[food, crisis, looming, country, season, ’, ma...</td>\n",
       "      <td>[-0.15977849, 0.045400452, 0.07647694, -0.0550...</td>\n",
       "    </tr>\n",
       "    <tr>\n",
       "      <th>12107</th>\n",
       "      <td>6963</td>\n",
       "      <td>? Acute watery diarrhoea (AWD) continues to be...</td>\n",
       "      <td>4</td>\n",
       "      <td>Health</td>\n",
       "      <td>? acute watery diarrhoea (awd) continues to be...</td>\n",
       "      <td>[?, acute, watery, diarrhoea, (, awd, ), conti...</td>\n",
       "      <td>[0.0115707815, 0.055143524, 0.096252844, 0.012...</td>\n",
       "    </tr>\n",
       "    <tr>\n",
       "      <th>12108</th>\n",
       "      <td>923</td>\n",
       "      <td>As South India grapples with drought and water...</td>\n",
       "      <td>11</td>\n",
       "      <td>WASH</td>\n",
       "      <td>as south india grapples with drought and water...</td>\n",
       "      <td>[south, india, drought, water, shortage, ,, tu...</td>\n",
       "      <td>[-0.18711536, 0.029368445, -0.020083334, -0.13...</td>\n",
       "    </tr>\n",
       "    <tr>\n",
       "      <th>12109</th>\n",
       "      <td>15880</td>\n",
       "      <td>Mirroring trends in South Africa, the main sou...</td>\n",
       "      <td>3</td>\n",
       "      <td>Food</td>\n",
       "      <td>mirroring trends in south africa, the main sou...</td>\n",
       "      <td>[trends, south, africa, ,, main, source, impor...</td>\n",
       "      <td>[-0.14169126593149028, 0.12942679586288647, 0....</td>\n",
       "    </tr>\n",
       "  </tbody>\n",
       "</table>\n",
       "<p>12110 rows × 7 columns</p>\n",
       "</div>"
      ],
      "text/plain": [
       "       sentence_id                                               text  label  \\\n",
       "0             5446  In addition to the immediate life-saving inter...      9   \n",
       "1             8812  There are approximately 2.6 million people cla...      3   \n",
       "2            16709  While aid imports have held up recently, comme...      5   \n",
       "3             3526  Heavy rainfalls as well as onrush of water fro...      0   \n",
       "4             4928  Based on field reports 9 , the main production...      3   \n",
       "...            ...                                                ...    ...   \n",
       "12105        12744  The total gap in the number of people who requ...      8   \n",
       "12106         9655  A food crisis is looming in the country with t...      0   \n",
       "12107         6963  ? Acute watery diarrhoea (AWD) continues to be...      4   \n",
       "12108          923  As South India grapples with drought and water...     11   \n",
       "12109        15880  Mirroring trends in South Africa, the main sou...      3   \n",
       "\n",
       "           caption                                       cleaned_text  \\\n",
       "0       Protection  in addition to the immediate life-saving inter...   \n",
       "1             Food  there are approximately < num >.< num > millio...   \n",
       "2       Livelihood  while aid imports have held up recently, comme...   \n",
       "3      Agriculture  heavy rainfalls as well as onrush of water fro...   \n",
       "4             Food  based on field reports < num > , the main prod...   \n",
       "...            ...                                                ...   \n",
       "12105    Nutrition  the total gap in the number of people who requ...   \n",
       "12106  Agriculture  a food crisis is looming in the country with t...   \n",
       "12107       Health  ? acute watery diarrhoea (awd) continues to be...   \n",
       "12108         WASH  as south india grapples with drought and water...   \n",
       "12109         Food  mirroring trends in south africa, the main sou...   \n",
       "\n",
       "                                          tokenized_text  \\\n",
       "0      [addition, immediate, life-saving, interventio...   \n",
       "1      [approximately, <, num, >, ., <, num, >, milli...   \n",
       "2      [aid, imports, held, recently, ,, commercial, ...   \n",
       "3      [heavy, rainfalls, well, water, upstream, hill...   \n",
       "4      [based, field, reports, <, num, >, ,, main, pr...   \n",
       "...                                                  ...   \n",
       "12105  [total, gap, number, people, require, assistan...   \n",
       "12106  [food, crisis, looming, country, season, ’, ma...   \n",
       "12107  [?, acute, watery, diarrhoea, (, awd, ), conti...   \n",
       "12108  [south, india, drought, water, shortage, ,, tu...   \n",
       "12109  [trends, south, africa, ,, main, source, impor...   \n",
       "\n",
       "                                     document_embeddings  \n",
       "0      [-0.093476795, -0.000837736, 0.16196184, -0.02...  \n",
       "1      [-0.18293726, 0.05829492, 0.08778859, -0.02920...  \n",
       "2      [0.11866271, 0.009274091, 0.05972651, -0.14722...  \n",
       "3      [-0.13517979656558068, -0.05630535418889347, -...  \n",
       "4      [-0.1331483110326543, 0.07542296148016878, 0.1...  \n",
       "...                                                  ...  \n",
       "12105  [-0.21061791, 0.05985846, 0.21382454, -0.02071...  \n",
       "12106  [-0.15977849, 0.045400452, 0.07647694, -0.0550...  \n",
       "12107  [0.0115707815, 0.055143524, 0.096252844, 0.012...  \n",
       "12108  [-0.18711536, 0.029368445, -0.020083334, -0.13...  \n",
       "12109  [-0.14169126593149028, 0.12942679586288647, 0....  \n",
       "\n",
       "[12110 rows x 7 columns]"
      ]
     },
     "execution_count": 49,
     "metadata": {},
     "output_type": "execute_result"
    }
   ],
   "source": [
    "train_df"
   ]
  },
  {
   "cell_type": "code",
   "execution_count": 50,
   "metadata": {
    "collapsed": false,
    "jupyter": {
     "outputs_hidden": false
    },
    "pycharm": {
     "name": "#%%\n"
    }
   },
   "outputs": [
    {
     "data": {
      "text/html": [
       "<div>\n",
       "<style scoped>\n",
       "    .dataframe tbody tr th:only-of-type {\n",
       "        vertical-align: middle;\n",
       "    }\n",
       "\n",
       "    .dataframe tbody tr th {\n",
       "        vertical-align: top;\n",
       "    }\n",
       "\n",
       "    .dataframe thead th {\n",
       "        text-align: right;\n",
       "    }\n",
       "</style>\n",
       "<table border=\"1\" class=\"dataframe\">\n",
       "  <thead>\n",
       "    <tr style=\"text-align: right;\">\n",
       "      <th></th>\n",
       "      <th>sentence_id</th>\n",
       "      <th>text</th>\n",
       "      <th>label</th>\n",
       "      <th>caption</th>\n",
       "      <th>cleaned_text</th>\n",
       "      <th>tokenized_text</th>\n",
       "      <th>document_embeddings</th>\n",
       "    </tr>\n",
       "  </thead>\n",
       "  <tbody>\n",
       "    <tr>\n",
       "      <th>0</th>\n",
       "      <td>633</td>\n",
       "      <td>The veterans threw up roadblocks on the main n...</td>\n",
       "      <td>9</td>\n",
       "      <td>Protection</td>\n",
       "      <td>the veterans threw up roadblocks on the main n...</td>\n",
       "      <td>[threw, main, highway, morning, ,, traffic, ,,...</td>\n",
       "      <td>[-0.18601175, -0.26252487, 0.054941665, 0.0021...</td>\n",
       "    </tr>\n",
       "    <tr>\n",
       "      <th>1</th>\n",
       "      <td>6001</td>\n",
       "      <td>Water department complains about lack of skill...</td>\n",
       "      <td>11</td>\n",
       "      <td>WASH</td>\n",
       "      <td>water department complains about lack of skill...</td>\n",
       "      <td>[water, department, lack, skilled, workers, aw...</td>\n",
       "      <td>[-0.019157480522280536, -0.08683458812165513, ...</td>\n",
       "    </tr>\n",
       "    <tr>\n",
       "      <th>2</th>\n",
       "      <td>14014</td>\n",
       "      <td>On 13 February 2018, the Ministry of Health of...</td>\n",
       "      <td>4</td>\n",
       "      <td>Health</td>\n",
       "      <td>on &lt; num &gt; february &lt; num &gt;, the ministry of h...</td>\n",
       "      <td>[&lt;, num, &gt;, february, &lt;, num, &gt;, ,, ministry, ...</td>\n",
       "      <td>[-0.10311383540470498, 0.08527794677981314, 0....</td>\n",
       "    </tr>\n",
       "    <tr>\n",
       "      <th>3</th>\n",
       "      <td>12225</td>\n",
       "      <td>In Kakuma and Kalobeyei, both host and refugee...</td>\n",
       "      <td>7</td>\n",
       "      <td>NFI</td>\n",
       "      <td>in kakuma and kalobeyei, both host and refugee...</td>\n",
       "      <td>[kakuma, kalobeyei, ,, host, refugee, communit...</td>\n",
       "      <td>[-0.06870294054060225, 0.026094279682702608, 0...</td>\n",
       "    </tr>\n",
       "    <tr>\n",
       "      <th>4</th>\n",
       "      <td>10181</td>\n",
       "      <td>'Raqqa is now empty of civilians who had been ...</td>\n",
       "      <td>9</td>\n",
       "      <td>Protection</td>\n",
       "      <td>'raqqa is now empty of civilians who had been ...</td>\n",
       "      <td>[empty, civilians, taken, human, shields, ,, '...</td>\n",
       "      <td>[-0.10982646, 0.090287864, 0.10718104, -0.0385...</td>\n",
       "    </tr>\n",
       "    <tr>\n",
       "      <th>...</th>\n",
       "      <td>...</td>\n",
       "      <td>...</td>\n",
       "      <td>...</td>\n",
       "      <td>...</td>\n",
       "      <td>...</td>\n",
       "      <td>...</td>\n",
       "      <td>...</td>\n",
       "    </tr>\n",
       "    <tr>\n",
       "      <th>2591</th>\n",
       "      <td>5109</td>\n",
       "      <td>UNICEF-supported Child Health Days happen in D...</td>\n",
       "      <td>4</td>\n",
       "      <td>Health</td>\n",
       "      <td>unicef-supported child health days happen in d...</td>\n",
       "      <td>[unicef-supported, child, health, days, happen...</td>\n",
       "      <td>[-0.17084297092151052, 0.1351369584650209, 0.1...</td>\n",
       "    </tr>\n",
       "    <tr>\n",
       "      <th>2592</th>\n",
       "      <td>5696</td>\n",
       "      <td>The residents of Karachi once again faced prol...</td>\n",
       "      <td>7</td>\n",
       "      <td>NFI</td>\n",
       "      <td>the residents of karachi once again faced prol...</td>\n",
       "      <td>[residents, karachi, faced, prolonged, power, ...</td>\n",
       "      <td>[-0.013541935, -0.020618187, 0.05550125, -0.15...</td>\n",
       "    </tr>\n",
       "    <tr>\n",
       "      <th>2593</th>\n",
       "      <td>4622</td>\n",
       "      <td>Poverty ripping off Malawi farmers Poverty has...</td>\n",
       "      <td>3</td>\n",
       "      <td>Food</td>\n",
       "      <td>poverty ripping off malawi farmers poverty has...</td>\n",
       "      <td>[poverty, malawi, farmers, poverty, left, farm...</td>\n",
       "      <td>[-0.15910497, 0.07687842, 0.084463544, 0.01881...</td>\n",
       "    </tr>\n",
       "    <tr>\n",
       "      <th>2594</th>\n",
       "      <td>9053</td>\n",
       "      <td>The Sheikh Jarrah residential neighbourhood is...</td>\n",
       "      <td>10</td>\n",
       "      <td>Shelter</td>\n",
       "      <td>the sheikh jarrah residential neighbourhood is...</td>\n",
       "      <td>[sheikh, jarrah, residential, neighbourhood, k...</td>\n",
       "      <td>[-0.10768389, -0.037770793, 0.021050956, -0.03...</td>\n",
       "    </tr>\n",
       "    <tr>\n",
       "      <th>2595</th>\n",
       "      <td>6095</td>\n",
       "      <td>. Male IDPs between the ages of 18-40 years ar...</td>\n",
       "      <td>9</td>\n",
       "      <td>Protection</td>\n",
       "      <td>. male idps between the ages of &lt; num &gt;-&lt; num ...</td>\n",
       "      <td>[., male, idps, ages, &lt;, num, &gt;, -, &lt;, num, &gt;,...</td>\n",
       "      <td>[-0.028990465536672803, -0.0007917438043458384...</td>\n",
       "    </tr>\n",
       "  </tbody>\n",
       "</table>\n",
       "<p>2596 rows × 7 columns</p>\n",
       "</div>"
      ],
      "text/plain": [
       "      sentence_id                                               text  label  \\\n",
       "0             633  The veterans threw up roadblocks on the main n...      9   \n",
       "1            6001  Water department complains about lack of skill...     11   \n",
       "2           14014  On 13 February 2018, the Ministry of Health of...      4   \n",
       "3           12225  In Kakuma and Kalobeyei, both host and refugee...      7   \n",
       "4           10181  'Raqqa is now empty of civilians who had been ...      9   \n",
       "...           ...                                                ...    ...   \n",
       "2591         5109  UNICEF-supported Child Health Days happen in D...      4   \n",
       "2592         5696  The residents of Karachi once again faced prol...      7   \n",
       "2593         4622  Poverty ripping off Malawi farmers Poverty has...      3   \n",
       "2594         9053  The Sheikh Jarrah residential neighbourhood is...     10   \n",
       "2595         6095  . Male IDPs between the ages of 18-40 years ar...      9   \n",
       "\n",
       "         caption                                       cleaned_text  \\\n",
       "0     Protection  the veterans threw up roadblocks on the main n...   \n",
       "1           WASH  water department complains about lack of skill...   \n",
       "2         Health  on < num > february < num >, the ministry of h...   \n",
       "3            NFI  in kakuma and kalobeyei, both host and refugee...   \n",
       "4     Protection  'raqqa is now empty of civilians who had been ...   \n",
       "...          ...                                                ...   \n",
       "2591      Health  unicef-supported child health days happen in d...   \n",
       "2592         NFI  the residents of karachi once again faced prol...   \n",
       "2593        Food  poverty ripping off malawi farmers poverty has...   \n",
       "2594     Shelter  the sheikh jarrah residential neighbourhood is...   \n",
       "2595  Protection  . male idps between the ages of < num >-< num ...   \n",
       "\n",
       "                                         tokenized_text  \\\n",
       "0     [threw, main, highway, morning, ,, traffic, ,,...   \n",
       "1     [water, department, lack, skilled, workers, aw...   \n",
       "2     [<, num, >, february, <, num, >, ,, ministry, ...   \n",
       "3     [kakuma, kalobeyei, ,, host, refugee, communit...   \n",
       "4     [empty, civilians, taken, human, shields, ,, '...   \n",
       "...                                                 ...   \n",
       "2591  [unicef-supported, child, health, days, happen...   \n",
       "2592  [residents, karachi, faced, prolonged, power, ...   \n",
       "2593  [poverty, malawi, farmers, poverty, left, farm...   \n",
       "2594  [sheikh, jarrah, residential, neighbourhood, k...   \n",
       "2595  [., male, idps, ages, <, num, >, -, <, num, >,...   \n",
       "\n",
       "                                    document_embeddings  \n",
       "0     [-0.18601175, -0.26252487, 0.054941665, 0.0021...  \n",
       "1     [-0.019157480522280536, -0.08683458812165513, ...  \n",
       "2     [-0.10311383540470498, 0.08527794677981314, 0....  \n",
       "3     [-0.06870294054060225, 0.026094279682702608, 0...  \n",
       "4     [-0.10982646, 0.090287864, 0.10718104, -0.0385...  \n",
       "...                                                 ...  \n",
       "2591  [-0.17084297092151052, 0.1351369584650209, 0.1...  \n",
       "2592  [-0.013541935, -0.020618187, 0.05550125, -0.15...  \n",
       "2593  [-0.15910497, 0.07687842, 0.084463544, 0.01881...  \n",
       "2594  [-0.10768389, -0.037770793, 0.021050956, -0.03...  \n",
       "2595  [-0.028990465536672803, -0.0007917438043458384...  \n",
       "\n",
       "[2596 rows x 7 columns]"
      ]
     },
     "execution_count": 50,
     "metadata": {},
     "output_type": "execute_result"
    }
   ],
   "source": [
    "val_df"
   ]
  },
  {
   "cell_type": "code",
   "execution_count": 51,
   "metadata": {
    "collapsed": false,
    "jupyter": {
     "outputs_hidden": false
    },
    "pycharm": {
     "name": "#%%\n"
    }
   },
   "outputs": [
    {
     "data": {
      "text/html": [
       "<div>\n",
       "<style scoped>\n",
       "    .dataframe tbody tr th:only-of-type {\n",
       "        vertical-align: middle;\n",
       "    }\n",
       "\n",
       "    .dataframe tbody tr th {\n",
       "        vertical-align: top;\n",
       "    }\n",
       "\n",
       "    .dataframe thead th {\n",
       "        text-align: right;\n",
       "    }\n",
       "</style>\n",
       "<table border=\"1\" class=\"dataframe\">\n",
       "  <thead>\n",
       "    <tr style=\"text-align: right;\">\n",
       "      <th></th>\n",
       "      <th>sentence_id</th>\n",
       "      <th>text</th>\n",
       "      <th>label</th>\n",
       "      <th>caption</th>\n",
       "      <th>cleaned_text</th>\n",
       "      <th>tokenized_text</th>\n",
       "      <th>document_embeddings</th>\n",
       "    </tr>\n",
       "  </thead>\n",
       "  <tbody>\n",
       "    <tr>\n",
       "      <th>0</th>\n",
       "      <td>5805</td>\n",
       "      <td>Overall 30% decrease in MAM Children admission...</td>\n",
       "      <td>8</td>\n",
       "      <td>Nutrition</td>\n",
       "      <td>overall &lt; num &gt;% decrease in mam children admi...</td>\n",
       "      <td>[overall, &lt;, num, &gt;, %, decrease, mam, childre...</td>\n",
       "      <td>[-0.15477568, 0.1199117, 0.31659392, -0.040603...</td>\n",
       "    </tr>\n",
       "    <tr>\n",
       "      <th>1</th>\n",
       "      <td>17120</td>\n",
       "      <td>In 2014, fear of Ebola also led to attacks on ...</td>\n",
       "      <td>9</td>\n",
       "      <td>Protection</td>\n",
       "      <td>in &lt; num &gt;, fear of ebola also led to attacks ...</td>\n",
       "      <td>[&lt;, num, &gt;, ,, fear, ebola, also, led, attacks...</td>\n",
       "      <td>[-0.13245693, 0.057286073, 0.06569567, -0.0252...</td>\n",
       "    </tr>\n",
       "    <tr>\n",
       "      <th>2</th>\n",
       "      <td>11901</td>\n",
       "      <td>Wheat is the staple food for most Afghans, com...</td>\n",
       "      <td>3</td>\n",
       "      <td>Food</td>\n",
       "      <td>wheat is the staple food for most afghans, com...</td>\n",
       "      <td>[wheat, staple, food, afghans, ,, comprising, ...</td>\n",
       "      <td>[-0.076030225, -0.03276389, 0.073795095, -0.14...</td>\n",
       "    </tr>\n",
       "    <tr>\n",
       "      <th>3</th>\n",
       "      <td>2589</td>\n",
       "      <td>We have received serious allegations that two ...</td>\n",
       "      <td>9</td>\n",
       "      <td>Protection</td>\n",
       "      <td>we have received serious allegations that two ...</td>\n",
       "      <td>[received, serious, allegations, two, lna, fig...</td>\n",
       "      <td>[-0.03510326, 0.12675568, 0.19455142, 0.008961...</td>\n",
       "    </tr>\n",
       "    <tr>\n",
       "      <th>4</th>\n",
       "      <td>4188</td>\n",
       "      <td>Somali: 67 of 93 woredas hotspot . 410k MAM, 4...</td>\n",
       "      <td>8</td>\n",
       "      <td>Nutrition</td>\n",
       "      <td>somali: &lt; num &gt; of &lt; num &gt; woredas hotspot . &lt;...</td>\n",
       "      <td>[somali, :, &lt;, num, &gt;, &lt;, num, &gt;, woredas, hot...</td>\n",
       "      <td>[-0.17127988, 0.07232512, 0.25456542, 0.023812...</td>\n",
       "    </tr>\n",
       "    <tr>\n",
       "      <th>...</th>\n",
       "      <td>...</td>\n",
       "      <td>...</td>\n",
       "      <td>...</td>\n",
       "      <td>...</td>\n",
       "      <td>...</td>\n",
       "      <td>...</td>\n",
       "      <td>...</td>\n",
       "    </tr>\n",
       "    <tr>\n",
       "      <th>2590</th>\n",
       "      <td>1979</td>\n",
       "      <td>Tropical Storm Dineo caused widespread damage ...</td>\n",
       "      <td>10</td>\n",
       "      <td>Shelter</td>\n",
       "      <td>tropical storm dineo caused widespread damage ...</td>\n",
       "      <td>[tropical, storm, caused, widespread, damage, ...</td>\n",
       "      <td>[-0.08306688, 0.038516074, 0.058453973, -0.118...</td>\n",
       "    </tr>\n",
       "    <tr>\n",
       "      <th>2591</th>\n",
       "      <td>7549</td>\n",
       "      <td>Monsoon rains and increased water levels in ma...</td>\n",
       "      <td>10</td>\n",
       "      <td>Shelter</td>\n",
       "      <td>monsoon rains and increased water levels in ma...</td>\n",
       "      <td>[monsoon, rains, increased, water, levels, maj...</td>\n",
       "      <td>[-0.13587068, -0.018213073, 0.023086226, -0.06...</td>\n",
       "    </tr>\n",
       "    <tr>\n",
       "      <th>2592</th>\n",
       "      <td>6064</td>\n",
       "      <td>I am extremely concerned about possible outbre...</td>\n",
       "      <td>11</td>\n",
       "      <td>WASH</td>\n",
       "      <td>i am extremely concerned about possible outbre...</td>\n",
       "      <td>[extremely, concerned, possible, outbreaks, wa...</td>\n",
       "      <td>[0.025469813, -0.03305603, 0.10265118, -0.1074...</td>\n",
       "    </tr>\n",
       "    <tr>\n",
       "      <th>2593</th>\n",
       "      <td>3582</td>\n",
       "      <td>Newly displaced persons from Al Mukha and Dhub...</td>\n",
       "      <td>11</td>\n",
       "      <td>WASH</td>\n",
       "      <td>newly displaced persons from al mukha and dhub...</td>\n",
       "      <td>[newly, displaced, persons, al, areas, require...</td>\n",
       "      <td>[-0.0993140897621246, -0.08031745092514711, -0...</td>\n",
       "    </tr>\n",
       "    <tr>\n",
       "      <th>2594</th>\n",
       "      <td>1049</td>\n",
       "      <td>State of emergency declared for areas affected...</td>\n",
       "      <td>10</td>\n",
       "      <td>Shelter</td>\n",
       "      <td>state of emergency declared for areas affected...</td>\n",
       "      <td>[state, emergency, declared, areas, affected, ...</td>\n",
       "      <td>[-0.024886347, -0.028299816, -0.012705857, -0....</td>\n",
       "    </tr>\n",
       "  </tbody>\n",
       "</table>\n",
       "<p>2595 rows × 7 columns</p>\n",
       "</div>"
      ],
      "text/plain": [
       "      sentence_id                                               text  label  \\\n",
       "0            5805  Overall 30% decrease in MAM Children admission...      8   \n",
       "1           17120  In 2014, fear of Ebola also led to attacks on ...      9   \n",
       "2           11901  Wheat is the staple food for most Afghans, com...      3   \n",
       "3            2589  We have received serious allegations that two ...      9   \n",
       "4            4188  Somali: 67 of 93 woredas hotspot . 410k MAM, 4...      8   \n",
       "...           ...                                                ...    ...   \n",
       "2590         1979  Tropical Storm Dineo caused widespread damage ...     10   \n",
       "2591         7549  Monsoon rains and increased water levels in ma...     10   \n",
       "2592         6064  I am extremely concerned about possible outbre...     11   \n",
       "2593         3582  Newly displaced persons from Al Mukha and Dhub...     11   \n",
       "2594         1049  State of emergency declared for areas affected...     10   \n",
       "\n",
       "         caption                                       cleaned_text  \\\n",
       "0      Nutrition  overall < num >% decrease in mam children admi...   \n",
       "1     Protection  in < num >, fear of ebola also led to attacks ...   \n",
       "2           Food  wheat is the staple food for most afghans, com...   \n",
       "3     Protection  we have received serious allegations that two ...   \n",
       "4      Nutrition  somali: < num > of < num > woredas hotspot . <...   \n",
       "...          ...                                                ...   \n",
       "2590     Shelter  tropical storm dineo caused widespread damage ...   \n",
       "2591     Shelter  monsoon rains and increased water levels in ma...   \n",
       "2592        WASH  i am extremely concerned about possible outbre...   \n",
       "2593        WASH  newly displaced persons from al mukha and dhub...   \n",
       "2594     Shelter  state of emergency declared for areas affected...   \n",
       "\n",
       "                                         tokenized_text  \\\n",
       "0     [overall, <, num, >, %, decrease, mam, childre...   \n",
       "1     [<, num, >, ,, fear, ebola, also, led, attacks...   \n",
       "2     [wheat, staple, food, afghans, ,, comprising, ...   \n",
       "3     [received, serious, allegations, two, lna, fig...   \n",
       "4     [somali, :, <, num, >, <, num, >, woredas, hot...   \n",
       "...                                                 ...   \n",
       "2590  [tropical, storm, caused, widespread, damage, ...   \n",
       "2591  [monsoon, rains, increased, water, levels, maj...   \n",
       "2592  [extremely, concerned, possible, outbreaks, wa...   \n",
       "2593  [newly, displaced, persons, al, areas, require...   \n",
       "2594  [state, emergency, declared, areas, affected, ...   \n",
       "\n",
       "                                    document_embeddings  \n",
       "0     [-0.15477568, 0.1199117, 0.31659392, -0.040603...  \n",
       "1     [-0.13245693, 0.057286073, 0.06569567, -0.0252...  \n",
       "2     [-0.076030225, -0.03276389, 0.073795095, -0.14...  \n",
       "3     [-0.03510326, 0.12675568, 0.19455142, 0.008961...  \n",
       "4     [-0.17127988, 0.07232512, 0.25456542, 0.023812...  \n",
       "...                                                 ...  \n",
       "2590  [-0.08306688, 0.038516074, 0.058453973, -0.118...  \n",
       "2591  [-0.13587068, -0.018213073, 0.023086226, -0.06...  \n",
       "2592  [0.025469813, -0.03305603, 0.10265118, -0.1074...  \n",
       "2593  [-0.0993140897621246, -0.08031745092514711, -0...  \n",
       "2594  [-0.024886347, -0.028299816, -0.012705857, -0....  \n",
       "\n",
       "[2595 rows x 7 columns]"
      ]
     },
     "execution_count": 51,
     "metadata": {},
     "output_type": "execute_result"
    }
   ],
   "source": [
    "test_df"
   ]
  },
  {
   "cell_type": "code",
   "execution_count": 52,
   "metadata": {
    "collapsed": false,
    "jupyter": {
     "outputs_hidden": false
    },
    "pycharm": {
     "name": "#%%\n"
    }
   },
   "outputs": [],
   "source": [
    "# pickle files\n",
    "train_df.to_pickle('train_df.pkl')\n",
    "val_df.to_pickle('val_df.pkl')\n",
    "test_df.to_pickle('test_df.pkl')"
   ]
  },
  {
   "cell_type": "code",
   "execution_count": 53,
   "metadata": {
    "collapsed": false,
    "jupyter": {
     "outputs_hidden": false
    },
    "pycharm": {
     "name": "#%%\n"
    }
   },
   "outputs": [],
   "source": [
    "# load\n",
    "train_df = pd.read_pickle('train_df.pkl')\n",
    "val_df = pd.read_pickle('val_df.pkl')\n",
    "test_df = pd.read_pickle('test_df.pkl')"
   ]
  },
  {
   "cell_type": "markdown",
   "metadata": {
    "pycharm": {
     "name": "#%% md\n"
    }
   },
   "source": [
    "**Classification and evaluation (5 points)** Using these new document representations, apply <ins>three classification algorithms</ins> and report the evaluation results (based on accuracy metric) on the test set."
   ]
  },
  {
   "cell_type": "code",
   "execution_count": 54,
   "metadata": {
    "collapsed": false,
    "jupyter": {
     "outputs_hidden": false
    },
    "pycharm": {
     "name": "#%%\n"
    }
   },
   "outputs": [],
   "source": [
    "X_train = np.array(train_df['document_embeddings'].tolist())\n",
    "y_train = np.array(train_df['label'].tolist())\n",
    "X_val = np.array(val_df['document_embeddings'].tolist())\n",
    "y_val = np.array(val_df['label'].tolist())\n",
    "X_test = np.array(test_df['document_embeddings'].tolist())\n",
    "y_test = np.array(test_df['label'].tolist())"
   ]
  },
  {
   "cell_type": "markdown",
   "metadata": {
    "pycharm": {
     "name": "#%% md\n"
    }
   },
   "source": [
    "## Model 1"
   ]
  },
  {
   "cell_type": "code",
   "execution_count": 55,
   "metadata": {
    "collapsed": false,
    "jupyter": {
     "outputs_hidden": false
    },
    "pycharm": {
     "name": "#%%\n"
    }
   },
   "outputs": [],
   "source": [
    "from sklearn.linear_model import LogisticRegression\n",
    "\n",
    "model_1 = LogisticRegression(random_state=0, max_iter=1000)"
   ]
  },
  {
   "cell_type": "code",
   "execution_count": 56,
   "metadata": {
    "collapsed": false,
    "jupyter": {
     "outputs_hidden": false
    },
    "pycharm": {
     "name": "#%%\n"
    }
   },
   "outputs": [
    {
     "data": {
      "text/plain": [
       "LogisticRegression(max_iter=1000, random_state=0)"
      ]
     },
     "execution_count": 56,
     "metadata": {},
     "output_type": "execute_result"
    }
   ],
   "source": [
    "model_1.fit(X_train, y_train)"
   ]
  },
  {
   "cell_type": "code",
   "execution_count": 57,
   "metadata": {
    "collapsed": false,
    "jupyter": {
     "outputs_hidden": false
    },
    "pycharm": {
     "name": "#%%\n"
    }
   },
   "outputs": [],
   "source": [
    "from sklearn.metrics import accuracy_score, classification_report"
   ]
  },
  {
   "cell_type": "code",
   "execution_count": 58,
   "metadata": {
    "collapsed": false,
    "jupyter": {
     "outputs_hidden": false
    },
    "pycharm": {
     "name": "#%%\n"
    }
   },
   "outputs": [
    {
     "name": "stdout",
     "output_type": "stream",
     "text": [
      "Accuracy on validation set:  0.7923728813559322\n"
     ]
    }
   ],
   "source": [
    "\n",
    "y_pred = model_1.predict(X_val)\n",
    "acc_score_val = accuracy_score(y_val, y_pred)\n",
    "print('Accuracy on validation set: ', acc_score_val)"
   ]
  },
  {
   "cell_type": "code",
   "execution_count": 59,
   "metadata": {
    "collapsed": false,
    "jupyter": {
     "outputs_hidden": false
    },
    "pycharm": {
     "name": "#%%\n"
    }
   },
   "outputs": [
    {
     "name": "stdout",
     "output_type": "stream",
     "text": [
      "              precision    recall  f1-score   support\n",
      "\n",
      "           0       0.65      0.21      0.31        53\n",
      "           1       0.47      0.24      0.32       122\n",
      "           2       0.91      0.82      0.86       140\n",
      "           3       0.78      0.89      0.83       420\n",
      "           4       0.90      0.90      0.90       665\n",
      "           5       0.62      0.50      0.55       113\n",
      "           6       0.47      0.32      0.38        28\n",
      "           7       0.77      0.63      0.70        38\n",
      "           8       0.85      0.76      0.80       102\n",
      "           9       0.77      0.88      0.82       546\n",
      "          10       0.68      0.72      0.70       195\n",
      "          11       0.79      0.84      0.81       174\n",
      "\n",
      "    accuracy                           0.79      2596\n",
      "   macro avg       0.72      0.64      0.67      2596\n",
      "weighted avg       0.78      0.79      0.78      2596\n",
      "\n"
     ]
    }
   ],
   "source": [
    "# classification report\n",
    "print(classification_report(y_val, y_pred))"
   ]
  },
  {
   "cell_type": "code",
   "execution_count": 60,
   "metadata": {
    "collapsed": false,
    "jupyter": {
     "outputs_hidden": false
    },
    "pycharm": {
     "name": "#%%\n"
    }
   },
   "outputs": [
    {
     "name": "stderr",
     "output_type": "stream",
     "text": [
      "/home/tobias/miniconda3/envs/nlp/lib/python3.7/site-packages/sklearn/utils/deprecation.py:87: FutureWarning: Function plot_confusion_matrix is deprecated; Function `plot_confusion_matrix` is deprecated in 1.0 and will be removed in 1.2. Use one of the class methods: ConfusionMatrixDisplay.from_predictions or ConfusionMatrixDisplay.from_estimator.\n",
      "  warnings.warn(msg, category=FutureWarning)\n"
     ]
    },
    {
     "data": {
      "image/png": "[encoded data removed]",
      "text/plain": [
       "<Figure size 640x480 with 2 Axes>"
      ]
     },
     "metadata": {},
     "output_type": "display_data"
    }
   ],
   "source": [
    "# confusion matrix display\n",
    "from sklearn.metrics import plot_confusion_matrix\n",
    "import matplotlib.pyplot as plt\n",
    "\n",
    "plot_confusion_matrix(model_1, X_val, y_val, cmap=plt.cm.Blues)\n",
    "# remove ticks\n",
    "plt.xticks([])\n",
    "plt.yticks([])\n",
    "plt.show()"
   ]
  },
  {
   "cell_type": "markdown",
   "metadata": {
    "pycharm": {
     "name": "#%% md\n"
    }
   },
   "source": [
    "## Model 2"
   ]
  },
  {
   "cell_type": "code",
   "execution_count": 61,
   "metadata": {
    "collapsed": false,
    "jupyter": {
     "outputs_hidden": false
    },
    "pycharm": {
     "name": "#%%\n"
    }
   },
   "outputs": [],
   "source": [
    "from sklearn.neural_network import MLPClassifier\n",
    "\n",
    "model_2 = MLPClassifier(random_state=1, max_iter=300)"
   ]
  },
  {
   "cell_type": "code",
   "execution_count": 62,
   "metadata": {
    "collapsed": false,
    "jupyter": {
     "outputs_hidden": false
    },
    "pycharm": {
     "name": "#%%\n"
    }
   },
   "outputs": [
    {
     "name": "stderr",
     "output_type": "stream",
     "text": [
      "/home/tobias/miniconda3/envs/nlp/lib/python3.7/site-packages/sklearn/neural_network/_multilayer_perceptron.py:696: ConvergenceWarning: Stochastic Optimizer: Maximum iterations (300) reached and the optimization hasn't converged yet.\n",
      "  ConvergenceWarning,\n"
     ]
    },
    {
     "data": {
      "text/plain": [
       "MLPClassifier(max_iter=300, random_state=1)"
      ]
     },
     "execution_count": 62,
     "metadata": {},
     "output_type": "execute_result"
    }
   ],
   "source": [
    "model_2.fit(X_train, y_train)"
   ]
  },
  {
   "cell_type": "code",
   "execution_count": 63,
   "metadata": {
    "collapsed": false,
    "jupyter": {
     "outputs_hidden": false
    },
    "pycharm": {
     "name": "#%%\n"
    }
   },
   "outputs": [
    {
     "name": "stdout",
     "output_type": "stream",
     "text": [
      "Accuracy on validation set:  0.7630970724191063\n"
     ]
    }
   ],
   "source": [
    "y_pred = model_2.predict(X_val)\n",
    "acc_score_val = accuracy_score(y_val, y_pred)\n",
    "print('Accuracy on validation set: ', acc_score_val)"
   ]
  },
  {
   "cell_type": "code",
   "execution_count": 64,
   "metadata": {
    "collapsed": false,
    "jupyter": {
     "outputs_hidden": false
    },
    "pycharm": {
     "name": "#%%\n"
    }
   },
   "outputs": [
    {
     "name": "stdout",
     "output_type": "stream",
     "text": [
      "              precision    recall  f1-score   support\n",
      "\n",
      "           0       0.31      0.21      0.25        53\n",
      "           1       0.31      0.31      0.31       122\n",
      "           2       0.84      0.81      0.82       140\n",
      "           3       0.79      0.82      0.80       420\n",
      "           4       0.91      0.87      0.89       665\n",
      "           5       0.55      0.54      0.55       113\n",
      "           6       0.50      0.46      0.48        28\n",
      "           7       0.57      0.66      0.61        38\n",
      "           8       0.76      0.75      0.76       102\n",
      "           9       0.80      0.82      0.81       546\n",
      "          10       0.68      0.69      0.69       195\n",
      "          11       0.72      0.79      0.76       174\n",
      "\n",
      "    accuracy                           0.76      2596\n",
      "   macro avg       0.65      0.64      0.64      2596\n",
      "weighted avg       0.76      0.76      0.76      2596\n",
      "\n"
     ]
    }
   ],
   "source": [
    "print(classification_report(y_val, y_pred))"
   ]
  },
  {
   "cell_type": "code",
   "execution_count": 65,
   "metadata": {
    "collapsed": false,
    "jupyter": {
     "outputs_hidden": false
    },
    "pycharm": {
     "name": "#%%\n"
    }
   },
   "outputs": [
    {
     "name": "stderr",
     "output_type": "stream",
     "text": [
      "/home/tobias/miniconda3/envs/nlp/lib/python3.7/site-packages/sklearn/utils/deprecation.py:87: FutureWarning: Function plot_confusion_matrix is deprecated; Function `plot_confusion_matrix` is deprecated in 1.0 and will be removed in 1.2. Use one of the class methods: ConfusionMatrixDisplay.from_predictions or ConfusionMatrixDisplay.from_estimator.\n",
      "  warnings.warn(msg, category=FutureWarning)\n"
     ]
    },
    {
     "data": {
      "image/png": "[encoded data removed]",
      "text/plain": [
       "<Figure size 640x480 with 2 Axes>"
      ]
     },
     "metadata": {},
     "output_type": "display_data"
    }
   ],
   "source": [
    "plot_confusion_matrix(model_2, X_val, y_val, cmap=plt.cm.Blues)\n",
    "# remove ticks\n",
    "plt.xticks([])\n",
    "plt.yticks([])\n",
    "plt.show()"
   ]
  },
  {
   "cell_type": "markdown",
   "metadata": {
    "pycharm": {
     "name": "#%% md\n"
    }
   },
   "source": [
    "## Model 3"
   ]
  },
  {
   "cell_type": "code",
   "execution_count": 66,
   "metadata": {
    "collapsed": false,
    "jupyter": {
     "outputs_hidden": false
    },
    "pycharm": {
     "name": "#%%\n"
    }
   },
   "outputs": [],
   "source": [
    "from sklearn.svm import LinearSVC"
   ]
  },
  {
   "cell_type": "code",
   "execution_count": 67,
   "metadata": {
    "collapsed": false,
    "jupyter": {
     "outputs_hidden": false
    },
    "pycharm": {
     "name": "#%%\n"
    }
   },
   "outputs": [],
   "source": [
    "model_3 = LinearSVC(random_state=0, tol=1e-5, max_iter=1000)"
   ]
  },
  {
   "cell_type": "code",
   "execution_count": 68,
   "metadata": {
    "collapsed": false,
    "jupyter": {
     "outputs_hidden": false
    },
    "pycharm": {
     "name": "#%%\n"
    }
   },
   "outputs": [
    {
     "data": {
      "text/plain": [
       "LinearSVC(random_state=0, tol=1e-05)"
      ]
     },
     "execution_count": 68,
     "metadata": {},
     "output_type": "execute_result"
    }
   ],
   "source": [
    "model_3.fit(X_train, y_train)"
   ]
  },
  {
   "cell_type": "code",
   "execution_count": 69,
   "metadata": {
    "collapsed": false,
    "jupyter": {
     "outputs_hidden": false
    },
    "pycharm": {
     "name": "#%%\n"
    }
   },
   "outputs": [
    {
     "name": "stdout",
     "output_type": "stream",
     "text": [
      "Accuracy on validation set:  0.7916024653312789\n"
     ]
    }
   ],
   "source": [
    "y_pred = model_3.predict(X_val)\n",
    "acc_score_val = accuracy_score(y_val, y_pred)\n",
    "print('Accuracy on validation set: ', acc_score_val)"
   ]
  },
  {
   "cell_type": "code",
   "execution_count": 70,
   "metadata": {
    "collapsed": false,
    "jupyter": {
     "outputs_hidden": false
    },
    "pycharm": {
     "name": "#%%\n"
    }
   },
   "outputs": [
    {
     "name": "stdout",
     "output_type": "stream",
     "text": [
      "              precision    recall  f1-score   support\n",
      "\n",
      "           0       0.50      0.17      0.25        53\n",
      "           1       0.62      0.15      0.24       122\n",
      "           2       0.85      0.84      0.84       140\n",
      "           3       0.77      0.88      0.82       420\n",
      "           4       0.88      0.90      0.89       665\n",
      "           5       0.67      0.54      0.60       113\n",
      "           6       0.50      0.21      0.30        28\n",
      "           7       0.67      0.68      0.68        38\n",
      "           8       0.84      0.77      0.81       102\n",
      "           9       0.78      0.88      0.83       546\n",
      "          10       0.69      0.73      0.71       195\n",
      "          11       0.77      0.86      0.82       174\n",
      "\n",
      "    accuracy                           0.79      2596\n",
      "   macro avg       0.71      0.63      0.65      2596\n",
      "weighted avg       0.78      0.79      0.77      2596\n",
      "\n"
     ]
    }
   ],
   "source": [
    "print(classification_report(y_val, y_pred))"
   ]
  },
  {
   "cell_type": "code",
   "execution_count": 71,
   "metadata": {
    "collapsed": false,
    "jupyter": {
     "outputs_hidden": false
    },
    "pycharm": {
     "name": "#%%\n"
    }
   },
   "outputs": [
    {
     "name": "stderr",
     "output_type": "stream",
     "text": [
      "/home/tobias/miniconda3/envs/nlp/lib/python3.7/site-packages/sklearn/utils/deprecation.py:87: FutureWarning: Function plot_confusion_matrix is deprecated; Function `plot_confusion_matrix` is deprecated in 1.0 and will be removed in 1.2. Use one of the class methods: ConfusionMatrixDisplay.from_predictions or ConfusionMatrixDisplay.from_estimator.\n",
      "  warnings.warn(msg, category=FutureWarning)\n"
     ]
    },
    {
     "data": {
      "image/png": "[encoded data removed]",
      "text/plain": [
       "<Figure size 640x480 with 2 Axes>"
      ]
     },
     "metadata": {},
     "output_type": "display_data"
    }
   ],
   "source": [
    "from sklearn.metrics import plot_confusion_matrix\n",
    "import matplotlib.pyplot as plt\n",
    "\n",
    "plot_confusion_matrix(model_3, X_val, y_val, cmap=plt.cm.Blues)\n",
    "# remove ticks\n",
    "plt.xticks([])\n",
    "plt.yticks([])\n",
    "plt.show()"
   ]
  },
  {
   "cell_type": "markdown",
   "metadata": {
    "pycharm": {
     "name": "#%% md\n"
    }
   },
   "source": [
    "## Compare models on test set"
   ]
  },
  {
   "cell_type": "code",
   "execution_count": 72,
   "metadata": {
    "collapsed": false,
    "jupyter": {
     "outputs_hidden": false
    },
    "pycharm": {
     "name": "#%%\n"
    }
   },
   "outputs": [],
   "source": [
    "y_pred_1 = model_1.predict(X_test)\n",
    "y_pred_2 = model_2.predict(X_test)\n",
    "y_pred_3 = model_3.predict(X_test)"
   ]
  },
  {
   "cell_type": "code",
   "execution_count": 73,
   "metadata": {
    "collapsed": false,
    "jupyter": {
     "outputs_hidden": false
    },
    "pycharm": {
     "name": "#%%\n"
    }
   },
   "outputs": [
    {
     "name": "stdout",
     "output_type": "stream",
     "text": [
      "Accuracy on test set for model 1 (Logistic Regression):  0.7865125240847785\n",
      "Accuracy on test set for model 2 (MLP):  0.7714836223506744\n",
      "Accuracy on test set for model 3 (Linear SVC):  0.7903660886319845\n"
     ]
    }
   ],
   "source": [
    "print('Accuracy on test set for model 1 (Logistic Regression): ', accuracy_score(y_test, y_pred_1))\n",
    "print('Accuracy on test set for model 2 (MLP): ', accuracy_score(y_test, y_pred_2))\n",
    "print('Accuracy on test set for model 3 (Linear SVC): ', accuracy_score(y_test, y_pred_3))"
   ]
  },
  {
   "cell_type": "markdown",
   "metadata": {
    "pycharm": {
     "name": "#%% md\n"
    }
   },
   "source": [
    "We can see that the models perform rather similarly on the test set. Model 3 (the Linear SVC) is the best performing model, with model 1 (Logistic Regression) being the close second. Model 2 (MLP) is the worst performing model, but still performs decently."
   ]
  },
  {
   "cell_type": "markdown",
   "metadata": {
    "pycharm": {
     "name": "#%% md\n"
    }
   },
   "source": [
    "<a name=\"section-taskC\"></a><h2 style=\"color:rgb(0,120,170)\">Task C: Classification with sent2vec Document Embeddings (2 extra point)</h2>"
   ]
  },
  {
   "cell_type": "markdown",
   "metadata": {
    "pycharm": {
     "name": "#%% md\n"
    }
   },
   "source": [
    "<div style=\"background-color:rgb(224, 243, 255)\">\n",
    "\n",
    "Sent2vec [1] suggests another unsupervised approach to creating document embeddings from the underlying word embeddings. First, using the provided code in the paper, train a sendtvec model on the training set to create document embeddings. Then, repeat Task B while using the document embeddings provided by sent2vec. Similar to Task 2, conduct the classification experiments and report evaluation results.\n",
    "\n",
    "[1] M. Pagliardini, P. Gupta, and M. Jaggi. Unsupervised Learning of Sentence Embeddings using Compositional n-Gram Features. In Proceedings of the conference of the North American Chapter of the Association for Computational Linguistics (NAACL), 2018.\n",
    "\n",
    "</div>"
   ]
  },
  {
   "cell_type": "code",
   "execution_count": 74,
   "metadata": {
    "collapsed": false,
    "jupyter": {
     "outputs_hidden": false
    },
    "pycharm": {
     "name": "#%%\n"
    }
   },
   "outputs": [],
   "source": [
    "import sent2vec"
   ]
  },
  {
   "cell_type": "code",
   "execution_count": 75,
   "metadata": {},
   "outputs": [],
   "source": [
    "model = sent2vec.Sent2vecModel()"
   ]
  },
  {
   "cell_type": "code",
   "execution_count": 76,
   "metadata": {},
   "outputs": [
    {
     "data": {
      "text/plain": [
       "['addition',\n",
       " 'immediate',\n",
       " 'life-saving',\n",
       " 'interventions',\n",
       " ',',\n",
       " 'unicef',\n",
       " 'taking',\n",
       " 'action',\n",
       " 'protect',\n",
       " '<',\n",
       " 'num',\n",
       " '>',\n",
       " 'children',\n",
       " 'arrived',\n",
       " 'camps',\n",
       " 'angola',\n",
       " 'without',\n",
       " 'families',\n",
       " '.']"
      ]
     },
     "execution_count": 76,
     "metadata": {},
     "output_type": "execute_result"
    }
   ],
   "source": [
    "train_df['tokenized_text'][0]"
   ]
  },
  {
   "cell_type": "code",
   "execution_count": 77,
   "metadata": {},
   "outputs": [
    {
     "data": {
      "text/plain": [
       "12110"
      ]
     },
     "execution_count": 77,
     "metadata": {},
     "output_type": "execute_result"
    }
   ],
   "source": [
    "len(train_df)"
   ]
  },
  {
   "cell_type": "code",
   "execution_count": 78,
   "metadata": {},
   "outputs": [],
   "source": [
    "tokenized_text = [' '.join(text) for text in train_df['tokenized_text']]"
   ]
  },
  {
   "cell_type": "code",
   "execution_count": 79,
   "metadata": {},
   "outputs": [
    {
     "data": {
      "text/plain": [
       "300"
      ]
     },
     "execution_count": 79,
     "metadata": {},
     "output_type": "execute_result"
    }
   ],
   "source": [
    "len(train_df['document_embeddings'][0])"
   ]
  },
  {
   "cell_type": "code",
   "execution_count": 80,
   "metadata": {},
   "outputs": [],
   "source": [
    "path = \"data/nlp2022_23_data/tokenized_text_train.txt\"\n",
    "\n",
    "with open(path, \"w\") as f: \n",
    "    f.write('\\n'.join(tokenized_text))"
   ]
  },
  {
   "cell_type": "code",
   "execution_count": 81,
   "metadata": {},
   "outputs": [
    {
     "name": "stdout",
     "output_type": "stream",
     "text": [
      "Read 0M words\n",
      "Number of words:  8248\n",
      "Number of labels: 0\n",
      "Progress: 100.0%  words/sec/thread: 33469  lr: 0.000000  loss: 1.216082  eta: 0h0m 3%  words/sec/thread: 8312  lr: 0.199329  loss: 3.447351  eta: 0h10m %  words/sec/thread: 12904  lr: 0.198708  loss: 3.355298  eta: 0h6m 15781  lr: 0.198180  loss: 3.286321  eta: 0h5m 1.8%  words/sec/thread: 21323  lr: 0.196494  loss: 3.144885  eta: 0h3m 2.8%  words/sec/thread: 24497  lr: 0.194485  loss: 3.071615  eta: 0h3m 2.8%  words/sec/thread: 24644  lr: 0.194363  loss: 3.060372  eta: 0h3m 0.193444  loss: 2.987117  eta: 0h3m 3.5%  words/sec/thread: 25918  lr: 0.193030  loss: 2.968529  eta: 0h3m 3.5%  words/sec/thread: 25972  lr: 0.192927  loss: 2.960618  eta: 0h3m 3.7%  words/sec/thread: 26160  lr: 0.192592  loss: 2.936293  eta: 0h3m 3.8%  words/sec/thread: 26248  lr: 0.192498  loss: 2.927403  eta: 0h3m 3.9%  words/sec/thread: 26399  lr: 0.192242  loss: 2.911876  eta: 0h3m 4.0%  words/sec/thread: 26625  lr: 0.191918  loss: 2.893765  eta: 0h3m 4.7%  words/sec/thread: 27406  lr: 0.190525  loss: 2.829420  eta: 0h2m 5.1%  words/sec/thread: 27696  lr: 0.189895  loss: 2.800388  eta: 0h2m 5.4%  words/sec/thread: 28038  lr: 0.189136  loss: 2.768970  eta: 0h2m 6.1%  words/sec/thread: 28616  lr: 0.187811  loss: 2.714291  eta: 0h2m 6.3%  words/sec/thread: 28665  lr: 0.187490  loss: 2.706067  eta: 0h2m 7.1%  words/sec/thread: 28949  lr: 0.185886  loss: 2.645125  eta: 0h2m 7.1%  words/sec/thread: 28994  lr: 0.185718  loss: 2.637059  eta: 0h2m 7.7%  words/sec/thread: 29274  lr: 0.184677  loss: 2.610891  eta: 0h2m 8.4%  words/sec/thread: 29579  lr: 0.183185  loss: 2.573994  eta: 0h2m 8.7%  words/sec/thread: 29707  lr: 0.182578  loss: 2.553868  eta: 0h2m 9.1%  words/sec/thread: 29844  lr: 0.181836  loss: 2.538613  eta: 0h2m 10.0%  words/sec/thread: 30256  lr: 0.179900  loss: 2.500840  eta: 0h2m 10.7%  words/sec/thread: 30542  lr: 0.178696  loss: 2.476053  eta: 0h2m 10.8%  words/sec/thread: 30598  lr: 0.178332  loss: 2.469673  eta: 0h2m 10.9%  words/sec/thread: 30647  lr: 0.178149  loss: 2.466356  eta: 0h2m   words/sec/thread: 30765  lr: 0.177320  loss: 2.445644  eta: 0h2m 11.4%  words/sec/thread: 30768  lr: 0.177149  loss: 2.443368  eta: 0h2m 11.4%  words/sec/thread: 30767  lr: 0.177110  loss: 2.442325  eta: 0h2m 11.5%  words/sec/thread: 30760  lr: 0.176905  loss: 2.439052  eta: 0h2m 12.1%  words/sec/thread: 30957  lr: 0.175762  loss: 2.418334  eta: 0h2m 31106  lr: 0.174788  loss: 2.401904  eta: 0h2m 12.8%  words/sec/thread: 31134  lr: 0.174384  loss: 2.393758  eta: 0h2m   lr: 0.173747  loss: 2.381731  eta: 0h2m 13.5%  words/sec/thread: 31271  lr: 0.173039  loss: 2.369194  eta: 0h2m   lr: 0.172909  loss: 2.367736  eta: 0h2m 13.8%  words/sec/thread: 31340  lr: 0.172494  loss: 2.361347  eta: 0h2m 14.0%  words/sec/thread: 31377  lr: 0.172025  loss: 2.354723  eta: 0h2m   loss: 2.348676  eta: 0h2m   lr: 0.171263  loss: 2.341641  eta: 0h2m 15.1%  words/sec/thread: 31414  lr: 0.169730  loss: 2.311862  eta: 0h2m 31440  lr: 0.169506  loss: 2.308936  eta: 0h2m 15.6%  words/sec/thread: 31521  lr: 0.168702  loss: 2.292949  eta: 0h2m 15.7%  words/sec/thread: 31518  lr: 0.168596  loss: 2.290771  eta: 0h2m 16.1%  words/sec/thread: 31560  lr: 0.167842  loss: 2.277431  eta: 0h2m 17.1%  words/sec/thread: 31576  lr: 0.165825  loss: 2.261480  eta: 0h2m 17.4%  words/sec/thread: 31661  lr: 0.165270  loss: 2.254445  eta: 0h2m 17.6%  words/sec/thread: 31735  lr: 0.164817  loss: 2.247115  eta: 0h2m   words/sec/thread: 31854  lr: 0.163489  loss: 2.229408  eta: 0h2m   words/sec/thread: 31869  lr: 0.163359  loss: 2.227161  eta: 0h2m 18.5%  words/sec/thread: 31889  lr: 0.163064  loss: 2.222073  eta: 0h2m 18.6%  words/sec/thread: 31904  lr: 0.162834  loss: 2.218081  eta: 0h2m 18.9%  words/sec/thread: 31982  lr: 0.162189  loss: 2.209583  eta: 0h2m 19.7%  words/sec/thread: 32078  lr: 0.160567  loss: 2.186868  eta: 0h2m 20.0%  words/sec/thread: 32007  lr: 0.160080  loss: 2.177301  eta: 0h2m 20.0%  words/sec/thread: 32001  lr: 0.159960  loss: 2.175494  eta: 0h2m 20.4%  words/sec/thread: 32012  lr: 0.159234  loss: 2.163176  eta: 0h2m 21.6%  words/sec/thread: 32083  lr: 0.156862  loss: 2.127950  eta: 0h2m 21.7%  words/sec/thread: 32105  lr: 0.156602  loss: 2.123822  eta: 0h2m 22.3%  words/sec/thread: 32053  lr: 0.155454  loss: 2.107337  eta: 0h2m 22.5%  words/sec/thread: 32029  lr: 0.155041  loss: 2.104099  eta: 0h2m 23.1%  words/sec/thread: 32116  lr: 0.153738  loss: 2.087090  eta: 0h2m   words/sec/thread: 32136  lr: 0.152991  loss: 2.076547  eta: 0h2m %  words/sec/thread: 32133  lr: 0.152878  loss: 2.075225  eta: 0h2m 24.5%  words/sec/thread: 32230  lr: 0.150937  loss: 2.057331  eta: 0h1m 24.6%  words/sec/thread: 32228  lr: 0.150731  loss: 2.054491  eta: 0h1m 24.9%  words/sec/thread: 32243  lr: 0.150149  loss: 2.046803  eta: 0h1m 25.2%  words/sec/thread: 32274  lr: 0.149661  loss: 2.040994  eta: 0h1m 25.5%  words/sec/thread: 32328  lr: 0.149053  loss: 2.035164  eta: 0h1m 32376  lr: 0.148201  loss: 2.023310  eta: 0h1m 27.4%  words/sec/thread: 32546  lr: 0.145194  loss: 1.986124  eta: 0h1m 27.8%  words/sec/thread: 32535  lr: 0.144484  loss: 1.979352  eta: 0h1m %  words/sec/thread: 32596  lr: 0.143371  loss: 1.969792  eta: 0h1m 28.4%  words/sec/thread: 32611  lr: 0.143173  loss: 1.968539  eta: 0h1m 28.8%  words/sec/thread: 32618  lr: 0.142481  loss: 1.961380  eta: 0h1m 29.1%  words/sec/thread: 32652  lr: 0.141715  loss: 1.953399  eta: 0h1m 29.2%  words/sec/thread: 32659  lr: 0.141591  loss: 1.952233  eta: 0h1m 29.2%  words/sec/thread: 32662  lr: 0.141538  loss: 1.951426  eta: 0h1m 29.3%  words/sec/thread: 32660  lr: 0.141481  loss: 1.950731  eta: 0h1m 32666  lr: 0.141321  loss: 1.949726  eta: 0h1m 29.6%  words/sec/thread: 32647  lr: 0.140781  loss: 1.944481  eta: 0h1m 29.8%  words/sec/thread: 32624  lr: 0.140360  loss: 1.939962  eta: 0h1m 29.9%  words/sec/thread: 32616  lr: 0.140155  loss: 1.937918  eta: 0h1m 30.5%  words/sec/thread: 32609  lr: 0.139074  loss: 1.925103  eta: 0h1m 31.0%  words/sec/thread: 32673  lr: 0.137924  loss: 1.913148  eta: 0h1m   lr: 0.134299  loss: 1.893463  eta: 0h1m 33.0%  words/sec/thread: 32690  lr: 0.133913  loss: 1.891796  eta: 0h1m 33.7%  words/sec/thread: 32749  lr: 0.132639  loss: 1.880317  eta: 0h1m 33.8%  words/sec/thread: 32764  lr: 0.132433  loss: 1.879117  eta: 0h1m 33.8%  words/sec/thread: 32773  lr: 0.132377  loss: 1.878723  eta: 0h1m 33.8%  words/sec/thread: 32774  lr: 0.132311  loss: 1.878105  eta: 0h1m 35.3%  words/sec/thread: 32763  lr: 0.129453  loss: 1.850381  eta: 0h1m 35.4%  words/sec/thread: 32756  lr: 0.129290  loss: 1.848448  eta: 0h1m 36.1%  words/sec/thread: 32725  lr: 0.127765  loss: 1.833222  eta: 0h1m 36.6%  words/sec/thread: 32771  lr: 0.126761  loss: 1.824661  eta: 0h1m 36.6%  words/sec/thread: 32773  lr: 0.126700  loss: 1.824273  eta: 0h1m 37.1%  words/sec/thread: 32772  lr: 0.125847  loss: 1.816786  eta: 0h1m 37.1%  words/sec/thread: 32780  lr: 0.125783  loss: 1.816062  eta: 0h1m 37.3%  words/sec/thread: 32777  lr: 0.125494  loss: 1.813581  eta: 0h1m 37.5%  words/sec/thread: 32762  lr: 0.125025  loss: 1.810961  eta: 0h1m 37.5%  words/sec/thread: 32761  lr: 0.124915  loss: 1.809923  eta: 0h1m   lr: 0.123677  loss: 1.796399  eta: 0h1m %  words/sec/thread: 32769  lr: 0.123510  loss: 1.795192  eta: 0h1m 38.5%  words/sec/thread: 32758  lr: 0.122984  loss: 1.791088  eta: 0h1m   words/sec/thread: 32780  lr: 0.122095  loss: 1.784957  eta: 0h1m 40.0%  words/sec/thread: 32862  lr: 0.119914  loss: 1.768239  eta: 0h1m 40.5%  words/sec/thread: 32875  lr: 0.119036  loss: 1.760919  eta: 0h1m 40.6%  words/sec/thread: 32888  lr: 0.118835  loss: 1.759379  eta: 0h1m 40.8%  words/sec/thread: 32891  lr: 0.118393  loss: 1.756126  eta: 0h1m 40.9%  words/sec/thread: 32904  lr: 0.118131  loss: 1.755119  eta: 0h1m 41.0%  words/sec/thread: 32908  lr: 0.117998  loss: 1.754443  eta: 0h1m 41.9%  words/sec/thread: 32984  lr: 0.116286  loss: 1.741080  eta: 0h1m %  words/sec/thread: 32998  lr: 0.116024  loss: 1.738932  eta: 0h1m 42.1%  words/sec/thread: 33001  lr: 0.115730  loss: 1.737232  eta: 0h1m 42.2%  words/sec/thread: 33002  lr: 0.115500  loss: 1.734559  eta: 0h1m 42.4%  words/sec/thread: 33009  lr: 0.115160  loss: 1.732247  eta: 0h1m 43.7%  words/sec/thread: 33039  lr: 0.112530  loss: 1.712514  eta: 0h1m 43.8%  words/sec/thread: 33041  lr: 0.112418  loss: 1.711430  eta: 0h1m 44.0%  words/sec/thread: 33046  lr: 0.112083  loss: 1.708628  eta: 0h1m 44.6%  words/sec/thread: 33020  lr: 0.110719  loss: 1.697556  eta: 0h1m 44.8%  words/sec/thread: 33038  lr: 0.110318  loss: 1.694171  eta: 0h1m 45.3%  words/sec/thread: 33044  lr: 0.109472  loss: 1.687093  eta: 0h1m 46.4%  words/sec/thread: 33008  lr: 0.107280  loss: 1.679759  eta: 0h1m 46.5%  words/sec/thread: 33013  lr: 0.106982  loss: 1.677258  eta: 0h1m 47.5%  words/sec/thread: 33056  lr: 0.105082  loss: 1.665185  eta: 0h1m 48.2%  words/sec/thread: 33109  lr: 0.103614  loss: 1.655087  eta: 0h1m 48.3%  words/sec/thread: 33119  lr: 0.103411  loss: 1.653510  eta: 0h1m 48.5%  words/sec/thread: 33115  lr: 0.103067  loss: 1.653022  eta: 0h1m %  words/sec/thread: 33161  lr: 0.101488  loss: 1.642018  eta: 0h1m 49.4%  words/sec/thread: 33158  lr: 0.101208  loss: 1.639656  eta: 0h1m 50.5%  words/sec/thread: 33212  lr: 0.098935  loss: 1.622941  eta: 0h1m 50.6%  words/sec/thread: 33211  lr: 0.098772  loss: 1.621628  eta: 0h1m 33190  lr: 0.098214  loss: 1.617472  eta: 0h1m %  words/sec/thread: 33145  lr: 0.097590  loss: 1.612123  eta: 0h1m 51.8%  words/sec/thread: 33085  lr: 0.096446  loss: 1.606177  eta: 0h1m %  words/sec/thread: 33080  lr: 0.095681  loss: 1.600275  eta: 0h1m 52.3%  words/sec/thread: 33083  lr: 0.095376  loss: 1.598042  eta: 0h1m 53.2%  words/sec/thread: 33075  lr: 0.093672  loss: 1.589878  eta: 0h1m 53.8%  words/sec/thread: 33079  lr: 0.092381  loss: 1.583937  eta: 0h1m 53.9%  words/sec/thread: 33085  lr: 0.092244  loss: 1.582876  eta: 0h1m %  words/sec/thread: 33087  lr: 0.092118  loss: 1.581911  eta: 0h1m 54.3%  words/sec/thread: 33117  lr: 0.091420  loss: 1.577779  eta: 0h1m 54.8%  words/sec/thread: 33136  lr: 0.090397  loss: 1.572991  eta: 0h1m 54.9%  words/sec/thread: 33140  lr: 0.090256  loss: 1.572458  eta: 0h1m 33152  lr: 0.089691  loss: 1.569041  eta: 0h1m 33167  lr: 0.089061  loss: 1.566511  eta: 0h1m 55.9%  words/sec/thread: 33187  lr: 0.088251  loss: 1.562607  eta: 0h1m 33196  lr: 0.087991  loss: 1.561354  eta: 0h1m 57.0%  words/sec/thread: 33248  lr: 0.086056  loss: 1.550504  eta: 0h1m 57.0%  words/sec/thread: 33251  lr: 0.085987  loss: 1.549937  eta: 0h1m 57.8%  words/sec/thread: 33299  lr: 0.084471  loss: 1.542175  eta: 0h1m 59.5%  words/sec/thread: 33256  lr: 0.081059  loss: 1.521249  eta: 0h1m 59.8%  words/sec/thread: 33245  lr: 0.080462  loss: 1.517296  eta: 0h1m %  words/sec/thread: 33261  lr: 0.079795  loss: 1.513259  eta: 0h1m 33250  lr: 0.078434  loss: 1.511578  eta: 0h0m %  words/sec/thread: 33247  lr: 0.076826  loss: 1.503095  eta: 0h0m 61.8%  words/sec/thread: 33248  lr: 0.076306  loss: 1.500619  eta: 0h0m 33262  lr: 0.075713  loss: 1.496548  eta: 0h0m %  words/sec/thread: 33294  lr: 0.074831  loss: 1.491941  eta: 0h0m   lr: 0.073325  loss: 1.483413  eta: 0h0m %  words/sec/thread: 33308  lr: 0.072915  loss: 1.481134  eta: 0h0m %  words/sec/thread: 33323  lr: 0.072332  loss: 1.477672  eta: 0h0m   words/sec/thread: 33324  lr: 0.072215  loss: 1.476773  eta: 0h0m   words/sec/thread: 33345  lr: 0.071797  loss: 1.474572  eta: 0h0m 64.4%  words/sec/thread: 33344  lr: 0.071113  loss: 1.470282  eta: 0h0m 64.5%  words/sec/thread: 33338  lr: 0.071025  loss: 1.469317  eta: 0h0m 33335  lr: 0.070989  loss: 1.468925  eta: 0h0m 64.7%  words/sec/thread: 33336  lr: 0.070593  loss: 1.466227  eta: 0h0m 65.3%  words/sec/thread: 33369  lr: 0.069482  loss: 1.460669  eta: 0h0m 65.7%  words/sec/thread: 33372  lr: 0.068626  loss: 1.455743  eta: 0h0m 65.8%  words/sec/thread: 33342  lr: 0.068438  loss: 1.455330  eta: 0h0m 65.9%  words/sec/thread: 33321  lr: 0.068238  loss: 1.454452  eta: 0h0m 66.1%  words/sec/thread: 33322  lr: 0.067838  loss: 1.451701  eta: 0h0m   words/sec/thread: 33308  lr: 0.066851  loss: 1.445689  eta: 0h0m   words/sec/thread: 33297  lr: 0.066720  loss: 1.445309  eta: 0h0m 67.5%  words/sec/thread: 33283  lr: 0.065097  loss: 1.438802  eta: 0h0m 67.8%  words/sec/thread: 33290  lr: 0.064386  loss: 1.435905  eta: 0h0m 68.6%  words/sec/thread: 33301  lr: 0.062866  loss: 1.428887  eta: 0h0m 68.8%  words/sec/thread: 33298  lr: 0.062304  loss: 1.426574  eta: 0h0m 69.2%  words/sec/thread: 33303  lr: 0.061699  loss: 1.423470  eta: 0h0m 69.4%  words/sec/thread: 33297  lr: 0.061224  loss: 1.422036  eta: 0h0m 69.5%  words/sec/thread: 33292  lr: 0.060953  loss: 1.421009  eta: 0h0m 69.8%  words/sec/thread: 33297  lr: 0.060301  loss: 1.417411  eta: 0h0m 70.5%  words/sec/thread: 33321  lr: 0.058918  loss: 1.411755  eta: 0h0m 71.1%  words/sec/thread: 33334  lr: 0.057726  loss: 1.406113  eta: 0h0m %  words/sec/thread: 33342  lr: 0.056314  loss: 1.401071  eta: 0h0m 71.9%  words/sec/thread: 33344  lr: 0.056248  loss: 1.400747  eta: 0h0m 72.7%  words/sec/thread: 33379  lr: 0.054674  loss: 1.394249  eta: 0h0m 73.0%  words/sec/thread: 33364  lr: 0.053961  loss: 1.390484  eta: 0h0m 73.1%  words/sec/thread: 33366  lr: 0.053801  loss: 1.389571  eta: 0h0m 75.7%  words/sec/thread: 33313  lr: 0.048553  loss: 1.371497  eta: 0h0m 33320  lr: 0.047427  loss: 1.366241  eta: 0h0m 76.9%  words/sec/thread: 33346  lr: 0.046210  loss: 1.362270  eta: 0h0m 77.0%  words/sec/thread: 33351  lr: 0.046075  loss: 1.361605  eta: 0h0m 77.1%  words/sec/thread: 33354  lr: 0.045826  loss: 1.360647  eta: 0h0m 77.2%  words/sec/thread: 33353  lr: 0.045544  loss: 1.359503  eta: 0h0m 78.2%  words/sec/thread: 33364  lr: 0.043506  loss: 1.350798  eta: 0h0m 78.9%  words/sec/thread: 33373  lr: 0.042236  loss: 1.345887  eta: 0h0m 79.3%  words/sec/thread: 33387  lr: 0.041375  loss: 1.341872  eta: 0h0m 79.3%  words/sec/thread: 33385  lr: 0.041325  loss: 1.341552  eta: 0h0m 79.5%  words/sec/thread: 33382  lr: 0.041056  loss: 1.340054  eta: 0h0m 79.9%  words/sec/thread: 33390  lr: 0.040159  loss: 1.336228  eta: 0h0m 80.9%  words/sec/thread: 33374  lr: 0.038184  loss: 1.328337  eta: 0h0m 81.6%  words/sec/thread: 33369  lr: 0.036837  loss: 1.324341  eta: 0h0m 81.6%  words/sec/thread: 33368  lr: 0.036783  loss: 1.324039  eta: 0h0m 82.4%  words/sec/thread: 33324  lr: 0.035125  loss: 1.317940  eta: 0h0m 82.6%  words/sec/thread: 33326  lr: 0.034827  loss: 1.316651  eta: 0h0m 83.2%  words/sec/thread: 33333  lr: 0.033699  loss: 1.313162  eta: 0h0m 83.5%  words/sec/thread: 33340  lr: 0.033024  loss: 1.310502  eta: 0h0m 83.6%  words/sec/thread: 33344  lr: 0.032745  loss: 1.309900  eta: 0h0m 83.9%  words/sec/thread: 33356  lr: 0.032144  loss: 1.308339  eta: 0h0m 84.0%  words/sec/thread: 33361  lr: 0.031943  loss: 1.307471  eta: 0h0m 84.5%  words/sec/thread: 33369  lr: 0.031029  loss: 1.304306  eta: 0h0m 84.7%  words/sec/thread: 33361  lr: 0.030606  loss: 1.302989  eta: 0h0m 84.8%  words/sec/thread: 33367  lr: 0.030343  loss: 1.302205  eta: 0h0m 84.9%  words/sec/thread: 33365  lr: 0.030121  loss: 1.301903  eta: 0h0m 85.0%  words/sec/thread: 33366  lr: 0.030059  loss: 1.301741  eta: 0h0m 85.3%  words/sec/thread: 33368  lr: 0.029463  loss: 1.300477  eta: 0h0m 85.6%  words/sec/thread: 33376  lr: 0.028764  loss: 1.298303  eta: 0h0m 1.298258  eta: 0h0m 85.9%  words/sec/thread: 33385  lr: 0.028248  loss: 1.296714  eta: 0h0m 85.9%  words/sec/thread: 33386  lr: 0.028146  loss: 1.296596  eta: 0h0m 86.6%  words/sec/thread: 33393  lr: 0.026753  loss: 1.293709  eta: 0h0m 87.0%  words/sec/thread: 33392  lr: 0.026061  loss: 1.291686  eta: 0h0m 87.4%  words/sec/thread: 33397  lr: 0.025274  loss: 1.289114  eta: 0h0m   words/sec/thread: 33401  lr: 0.025143  loss: 1.288716  eta: 0h0m %  words/sec/thread: 33398  lr: 0.024737  loss: 1.287482  eta: 0h0m %  words/sec/thread: 33399  lr: 0.024432  loss: 1.286511  eta: 0h0m %  words/sec/thread: 33398  lr: 0.024380  loss: 1.286397  eta: 0h0m 87.8%  words/sec/thread: 33400  lr: 0.024327  loss: 1.286180  eta: 0h0m 88.0%  words/sec/thread: 33398  lr: 0.023972  loss: 1.284735  eta: 0h0m 88.9%  words/sec/thread: 33368  lr: 0.022104  loss: 1.277457  eta: 0h0m 89.1%  words/sec/thread: 33346  lr: 0.021884  loss: 1.276911  eta: 0h0m 90.2%  words/sec/thread: 33366  lr: 0.019507  loss: 1.273240  eta: 0h0m 91.3%  words/sec/thread: 33353  lr: 0.017360  loss: 1.266795  eta: 0h0m 91.8%  words/sec/thread: 33354  lr: 0.016371  loss: 1.264460  eta: 0h0m 92.0%  words/sec/thread: 33363  lr: 0.015979  loss: 1.263218  eta: 0h0m 92.5%  words/sec/thread: 33381  lr: 0.014930  loss: 1.259638  eta: 0h0m 93.0%  words/sec/thread: 33387  lr: 0.014089  loss: 1.257022  eta: 0h0m 0m 94.1%  words/sec/thread: 33429  lr: 0.011858  loss: 1.249797  eta: 0h0m 94.2%  words/sec/thread: 33432  lr: 0.011681  loss: 1.249405  eta: 0h0m 94.2%  words/sec/thread: 33432  lr: 0.011634  loss: 1.249251  eta: 0h0m 94.5%  words/sec/thread: 33434  lr: 0.011001  loss: 1.247192  eta: 0h0m 33428  lr: 0.010368  loss: 1.245178  eta: 0h0m   words/sec/thread: 33428  lr: 0.010280  loss: 1.244847  eta: 0h0m 95.1%  words/sec/thread: 33432  lr: 0.009817  loss: 1.243891  eta: 0h0m 0.008111  loss: 1.237885  eta: 0h0m   words/sec/thread: 33445  lr: 0.007982  loss: 1.237363  eta: 0h0m   words/sec/thread: 33444  lr: 0.007875  loss: 1.236992  eta: 0h0m 96.3%  words/sec/thread: 33432  lr: 0.007407  loss: 1.236021  eta: 0h0m   words/sec/thread: 33431  lr: 0.007248  loss: 1.235247  eta: 0h0m %  words/sec/thread: 33431  lr: 0.007195  loss: 1.234996  eta: 0h0m   words/sec/thread: 33425  lr: 0.005731  loss: 1.230530  eta: 0h0m 33425  lr: 0.005627  loss: 1.230068  eta: 0h0m   lr: 0.005140  loss: 1.228757  eta: 0h0m %  words/sec/thread: 33407  lr: 0.004619  loss: 1.227085  eta: 0h0m   loss: 1.226456  eta: 0h0m   words/sec/thread: 33414  lr: 0.004008  loss: 1.225593  eta: 0h0m 98.2%  words/sec/thread: 33416  lr: 0.003502  loss: 1.224556  eta: 0h0m 98.9%  words/sec/thread: 33426  lr: 0.002117  loss: 1.220811  eta: 0h0m %  words/sec/thread: 33435  lr: 0.001541  loss: 1.219786  eta: 0h0m 33449  lr: 0.000977  loss: 1.218295  eta: 0h0m   words/sec/thread: 33455  lr: 0.000534  loss: 1.217398  eta: 0h0m 33466  lr: 0.000131  loss: 1.216267  eta: 0h0m \n"
     ]
    }
   ],
   "source": [
    "# -minCount 5 -dim 500 -epoch 15 -lr 0.002 -wordNgrams 2 -loss ns -neg 10 -thread 20 -t 0.000005 -dropoutK 4 -minCountLabel 20 -bucket 4000000 -maxVocabSize 100000\n",
    "# !./fastText/sent2vec/fasttext sent2vec -input \"data/nlp2022_23_data/thedeep.subset.train.txt\" -output \"data/sent2vec_model\" -epoch 100 -lr 0.2\n",
    "!./fastText/sent2vec/fasttext sent2vec -input \"data/nlp2022_23_data/tokenized_text_train.txt\" -output \"data/sent2vec_model\" -epoch 80 -lr 0.2 -dim 300"
   ]
  },
  {
   "cell_type": "code",
   "execution_count": 82,
   "metadata": {},
   "outputs": [],
   "source": [
    "model.load_model('data/sent2vec_model.bin')"
   ]
  },
  {
   "cell_type": "code",
   "execution_count": 83,
   "metadata": {},
   "outputs": [],
   "source": [
    "uni_embs, vocab = model.get_unigram_embeddings()"
   ]
  },
  {
   "cell_type": "code",
   "execution_count": 84,
   "metadata": {},
   "outputs": [
    {
     "data": {
      "text/plain": [
       "(8248, 300)"
      ]
     },
     "execution_count": 84,
     "metadata": {},
     "output_type": "execute_result"
    }
   ],
   "source": [
    "uni_embs.shape"
   ]
  },
  {
   "cell_type": "code",
   "execution_count": 85,
   "metadata": {},
   "outputs": [
    {
     "data": {
      "text/plain": [
       "['<PLACEHOLDER>', ',', '<', '>', 'num', '.', '</s>', ')', '(', 'cases']"
      ]
     },
     "execution_count": 85,
     "metadata": {},
     "output_type": "execute_result"
    }
   ],
   "source": [
    "vocab[:10]"
   ]
  },
  {
   "cell_type": "code",
   "execution_count": 86,
   "metadata": {},
   "outputs": [
    {
     "data": {
      "text/plain": [
       "['addition',\n",
       " 'immediate',\n",
       " 'life-saving',\n",
       " 'interventions',\n",
       " ',',\n",
       " 'unicef',\n",
       " 'taking',\n",
       " 'action',\n",
       " 'protect',\n",
       " '<',\n",
       " 'num',\n",
       " '>',\n",
       " 'children',\n",
       " 'arrived',\n",
       " 'camps',\n",
       " 'angola',\n",
       " 'without',\n",
       " 'families',\n",
       " '.']"
      ]
     },
     "execution_count": 86,
     "metadata": {},
     "output_type": "execute_result"
    }
   ],
   "source": [
    "train_df['tokenized_text'][0]"
   ]
  },
  {
   "cell_type": "code",
   "execution_count": 87,
   "metadata": {},
   "outputs": [],
   "source": [
    "sentence_embeddings_train = {}\n",
    "for index, row in train_df.iterrows():\n",
    "    # computes element-wise mean along the specified axis\n",
    "    sentence_embeddings_train[row['sentence_id']] = np.mean(model.embed_unigrams(row['tokenized_text']), axis=0)"
   ]
  },
  {
   "cell_type": "code",
   "execution_count": 88,
   "metadata": {},
   "outputs": [],
   "source": [
    "# move embeddings into df\n",
    "train_df['sentence_embeddings'] = train_df['sentence_id'].map(sentence_embeddings_train)"
   ]
  },
  {
   "cell_type": "code",
   "execution_count": 89,
   "metadata": {},
   "outputs": [
    {
     "data": {
      "text/html": [
       "<div>\n",
       "<style scoped>\n",
       "    .dataframe tbody tr th:only-of-type {\n",
       "        vertical-align: middle;\n",
       "    }\n",
       "\n",
       "    .dataframe tbody tr th {\n",
       "        vertical-align: top;\n",
       "    }\n",
       "\n",
       "    .dataframe thead th {\n",
       "        text-align: right;\n",
       "    }\n",
       "</style>\n",
       "<table border=\"1\" class=\"dataframe\">\n",
       "  <thead>\n",
       "    <tr style=\"text-align: right;\">\n",
       "      <th></th>\n",
       "      <th>sentence_id</th>\n",
       "      <th>text</th>\n",
       "      <th>label</th>\n",
       "      <th>caption</th>\n",
       "      <th>cleaned_text</th>\n",
       "      <th>tokenized_text</th>\n",
       "      <th>document_embeddings</th>\n",
       "      <th>sentence_embeddings</th>\n",
       "    </tr>\n",
       "  </thead>\n",
       "  <tbody>\n",
       "    <tr>\n",
       "      <th>0</th>\n",
       "      <td>5446</td>\n",
       "      <td>In addition to the immediate life-saving inter...</td>\n",
       "      <td>9</td>\n",
       "      <td>Protection</td>\n",
       "      <td>in addition to the immediate life-saving inter...</td>\n",
       "      <td>[addition, immediate, life-saving, interventio...</td>\n",
       "      <td>[-0.093476795, -0.000837736, 0.16196184, -0.02...</td>\n",
       "      <td>[-0.3199597, 0.002913275, -0.2206722, 0.225501...</td>\n",
       "    </tr>\n",
       "    <tr>\n",
       "      <th>1</th>\n",
       "      <td>8812</td>\n",
       "      <td>There are approximately 2.6 million people cla...</td>\n",
       "      <td>3</td>\n",
       "      <td>Food</td>\n",
       "      <td>there are approximately &lt; num &gt;.&lt; num &gt; millio...</td>\n",
       "      <td>[approximately, &lt;, num, &gt;, ., &lt;, num, &gt;, milli...</td>\n",
       "      <td>[-0.18293726, 0.05829492, 0.08778859, -0.02920...</td>\n",
       "      <td>[-0.20553748, 0.22014655, -0.04603493, 0.19179...</td>\n",
       "    </tr>\n",
       "    <tr>\n",
       "      <th>2</th>\n",
       "      <td>16709</td>\n",
       "      <td>While aid imports have held up recently, comme...</td>\n",
       "      <td>5</td>\n",
       "      <td>Livelihood</td>\n",
       "      <td>while aid imports have held up recently, comme...</td>\n",
       "      <td>[aid, imports, held, recently, ,, commercial, ...</td>\n",
       "      <td>[0.11866271, 0.009274091, 0.05972651, -0.14722...</td>\n",
       "      <td>[-0.092249215, 0.4029353, -0.057907265, -0.063...</td>\n",
       "    </tr>\n",
       "    <tr>\n",
       "      <th>3</th>\n",
       "      <td>3526</td>\n",
       "      <td>Heavy rainfalls as well as onrush of water fro...</td>\n",
       "      <td>0</td>\n",
       "      <td>Agriculture</td>\n",
       "      <td>heavy rainfalls as well as onrush of water fro...</td>\n",
       "      <td>[heavy, rainfalls, well, water, upstream, hill...</td>\n",
       "      <td>[-0.13517979656558068, -0.05630535418889347, -...</td>\n",
       "      <td>[0.034044154, 0.36403084, -0.26526612, -0.0993...</td>\n",
       "    </tr>\n",
       "    <tr>\n",
       "      <th>4</th>\n",
       "      <td>4928</td>\n",
       "      <td>Based on field reports 9 , the main production...</td>\n",
       "      <td>3</td>\n",
       "      <td>Food</td>\n",
       "      <td>based on field reports &lt; num &gt; , the main prod...</td>\n",
       "      <td>[based, field, reports, &lt;, num, &gt;, ,, main, pr...</td>\n",
       "      <td>[-0.1331483110326543, 0.07542296148016878, 0.1...</td>\n",
       "      <td>[0.26944327, 0.1733922, 0.09724752, -0.0492026...</td>\n",
       "    </tr>\n",
       "    <tr>\n",
       "      <th>...</th>\n",
       "      <td>...</td>\n",
       "      <td>...</td>\n",
       "      <td>...</td>\n",
       "      <td>...</td>\n",
       "      <td>...</td>\n",
       "      <td>...</td>\n",
       "      <td>...</td>\n",
       "      <td>...</td>\n",
       "    </tr>\n",
       "    <tr>\n",
       "      <th>12105</th>\n",
       "      <td>12744</td>\n",
       "      <td>The total gap in the number of people who requ...</td>\n",
       "      <td>8</td>\n",
       "      <td>Nutrition</td>\n",
       "      <td>the total gap in the number of people who requ...</td>\n",
       "      <td>[total, gap, number, people, require, assistan...</td>\n",
       "      <td>[-0.21061791, 0.05985846, 0.21382454, -0.02071...</td>\n",
       "      <td>[0.23793975, 0.17761831, -0.042763416, 0.00133...</td>\n",
       "    </tr>\n",
       "    <tr>\n",
       "      <th>12106</th>\n",
       "      <td>9655</td>\n",
       "      <td>A food crisis is looming in the country with t...</td>\n",
       "      <td>0</td>\n",
       "      <td>Agriculture</td>\n",
       "      <td>a food crisis is looming in the country with t...</td>\n",
       "      <td>[food, crisis, looming, country, season, ’, ma...</td>\n",
       "      <td>[-0.15977849, 0.045400452, 0.07647694, -0.0550...</td>\n",
       "      <td>[-0.026937416, 0.0612251, 0.085071065, -0.1084...</td>\n",
       "    </tr>\n",
       "    <tr>\n",
       "      <th>12107</th>\n",
       "      <td>6963</td>\n",
       "      <td>? Acute watery diarrhoea (AWD) continues to be...</td>\n",
       "      <td>4</td>\n",
       "      <td>Health</td>\n",
       "      <td>? acute watery diarrhoea (awd) continues to be...</td>\n",
       "      <td>[?, acute, watery, diarrhoea, (, awd, ), conti...</td>\n",
       "      <td>[0.0115707815, 0.055143524, 0.096252844, 0.012...</td>\n",
       "      <td>[-0.36921743, -0.129345, -0.28724694, 0.064349...</td>\n",
       "    </tr>\n",
       "    <tr>\n",
       "      <th>12108</th>\n",
       "      <td>923</td>\n",
       "      <td>As South India grapples with drought and water...</td>\n",
       "      <td>11</td>\n",
       "      <td>WASH</td>\n",
       "      <td>as south india grapples with drought and water...</td>\n",
       "      <td>[south, india, drought, water, shortage, ,, tu...</td>\n",
       "      <td>[-0.18711536, 0.029368445, -0.020083334, -0.13...</td>\n",
       "      <td>[-0.18966265, 0.05037727, 0.099159844, -0.2288...</td>\n",
       "    </tr>\n",
       "    <tr>\n",
       "      <th>12109</th>\n",
       "      <td>15880</td>\n",
       "      <td>Mirroring trends in South Africa, the main sou...</td>\n",
       "      <td>3</td>\n",
       "      <td>Food</td>\n",
       "      <td>mirroring trends in south africa, the main sou...</td>\n",
       "      <td>[trends, south, africa, ,, main, source, impor...</td>\n",
       "      <td>[-0.14169126593149028, 0.12942679586288647, 0....</td>\n",
       "      <td>[0.16459689, -0.1611602, 0.16053537, -0.227198...</td>\n",
       "    </tr>\n",
       "  </tbody>\n",
       "</table>\n",
       "<p>12110 rows × 8 columns</p>\n",
       "</div>"
      ],
      "text/plain": [
       "       sentence_id                                               text  label  \\\n",
       "0             5446  In addition to the immediate life-saving inter...      9   \n",
       "1             8812  There are approximately 2.6 million people cla...      3   \n",
       "2            16709  While aid imports have held up recently, comme...      5   \n",
       "3             3526  Heavy rainfalls as well as onrush of water fro...      0   \n",
       "4             4928  Based on field reports 9 , the main production...      3   \n",
       "...            ...                                                ...    ...   \n",
       "12105        12744  The total gap in the number of people who requ...      8   \n",
       "12106         9655  A food crisis is looming in the country with t...      0   \n",
       "12107         6963  ? Acute watery diarrhoea (AWD) continues to be...      4   \n",
       "12108          923  As South India grapples with drought and water...     11   \n",
       "12109        15880  Mirroring trends in South Africa, the main sou...      3   \n",
       "\n",
       "           caption                                       cleaned_text  \\\n",
       "0       Protection  in addition to the immediate life-saving inter...   \n",
       "1             Food  there are approximately < num >.< num > millio...   \n",
       "2       Livelihood  while aid imports have held up recently, comme...   \n",
       "3      Agriculture  heavy rainfalls as well as onrush of water fro...   \n",
       "4             Food  based on field reports < num > , the main prod...   \n",
       "...            ...                                                ...   \n",
       "12105    Nutrition  the total gap in the number of people who requ...   \n",
       "12106  Agriculture  a food crisis is looming in the country with t...   \n",
       "12107       Health  ? acute watery diarrhoea (awd) continues to be...   \n",
       "12108         WASH  as south india grapples with drought and water...   \n",
       "12109         Food  mirroring trends in south africa, the main sou...   \n",
       "\n",
       "                                          tokenized_text  \\\n",
       "0      [addition, immediate, life-saving, interventio...   \n",
       "1      [approximately, <, num, >, ., <, num, >, milli...   \n",
       "2      [aid, imports, held, recently, ,, commercial, ...   \n",
       "3      [heavy, rainfalls, well, water, upstream, hill...   \n",
       "4      [based, field, reports, <, num, >, ,, main, pr...   \n",
       "...                                                  ...   \n",
       "12105  [total, gap, number, people, require, assistan...   \n",
       "12106  [food, crisis, looming, country, season, ’, ma...   \n",
       "12107  [?, acute, watery, diarrhoea, (, awd, ), conti...   \n",
       "12108  [south, india, drought, water, shortage, ,, tu...   \n",
       "12109  [trends, south, africa, ,, main, source, impor...   \n",
       "\n",
       "                                     document_embeddings  \\\n",
       "0      [-0.093476795, -0.000837736, 0.16196184, -0.02...   \n",
       "1      [-0.18293726, 0.05829492, 0.08778859, -0.02920...   \n",
       "2      [0.11866271, 0.009274091, 0.05972651, -0.14722...   \n",
       "3      [-0.13517979656558068, -0.05630535418889347, -...   \n",
       "4      [-0.1331483110326543, 0.07542296148016878, 0.1...   \n",
       "...                                                  ...   \n",
       "12105  [-0.21061791, 0.05985846, 0.21382454, -0.02071...   \n",
       "12106  [-0.15977849, 0.045400452, 0.07647694, -0.0550...   \n",
       "12107  [0.0115707815, 0.055143524, 0.096252844, 0.012...   \n",
       "12108  [-0.18711536, 0.029368445, -0.020083334, -0.13...   \n",
       "12109  [-0.14169126593149028, 0.12942679586288647, 0....   \n",
       "\n",
       "                                     sentence_embeddings  \n",
       "0      [-0.3199597, 0.002913275, -0.2206722, 0.225501...  \n",
       "1      [-0.20553748, 0.22014655, -0.04603493, 0.19179...  \n",
       "2      [-0.092249215, 0.4029353, -0.057907265, -0.063...  \n",
       "3      [0.034044154, 0.36403084, -0.26526612, -0.0993...  \n",
       "4      [0.26944327, 0.1733922, 0.09724752, -0.0492026...  \n",
       "...                                                  ...  \n",
       "12105  [0.23793975, 0.17761831, -0.042763416, 0.00133...  \n",
       "12106  [-0.026937416, 0.0612251, 0.085071065, -0.1084...  \n",
       "12107  [-0.36921743, -0.129345, -0.28724694, 0.064349...  \n",
       "12108  [-0.18966265, 0.05037727, 0.099159844, -0.2288...  \n",
       "12109  [0.16459689, -0.1611602, 0.16053537, -0.227198...  \n",
       "\n",
       "[12110 rows x 8 columns]"
      ]
     },
     "execution_count": 89,
     "metadata": {},
     "output_type": "execute_result"
    }
   ],
   "source": [
    "train_df"
   ]
  },
  {
   "cell_type": "code",
   "execution_count": 90,
   "metadata": {},
   "outputs": [],
   "source": [
    "sentence_embeddings_val = {}\n",
    "for index, row in val_df.iterrows():\n",
    "    # computes element-wise mean along the specified axis\n",
    "    sentence_embeddings_val[row['sentence_id']] = np.mean(model.embed_unigrams(row['tokenized_text']), axis=0)\n",
    "    \n",
    "val_df['sentence_embeddings'] = val_df['sentence_id'].map(sentence_embeddings_val)"
   ]
  },
  {
   "cell_type": "code",
   "execution_count": 91,
   "metadata": {},
   "outputs": [],
   "source": [
    "sentence_embeddings_test = {}\n",
    "for index, row in test_df.iterrows():\n",
    "    # computes element-wise mean along the specified axis\n",
    "    sentence_embeddings_test[row['sentence_id']] = np.mean(model.embed_unigrams(row['tokenized_text']), axis=0)\n",
    "    \n",
    "test_df['sentence_embeddings'] = test_df['sentence_id'].map(sentence_embeddings_test)"
   ]
  },
  {
   "cell_type": "markdown",
   "metadata": {},
   "source": [
    "### Classify with sentence embeddings"
   ]
  },
  {
   "cell_type": "code",
   "execution_count": 92,
   "metadata": {},
   "outputs": [],
   "source": [
    "X_train = np.array(train_df['sentence_embeddings'].tolist())\n",
    "y_train = np.array(train_df['label'].tolist())\n",
    "X_val = np.array(val_df['sentence_embeddings'].tolist())\n",
    "y_val = np.array(val_df['label'].tolist())\n",
    "X_test = np.array(test_df['sentence_embeddings'].tolist())\n",
    "y_test = np.array(test_df['label'].tolist())"
   ]
  },
  {
   "cell_type": "markdown",
   "metadata": {
    "pycharm": {
     "name": "#%% md\n"
    }
   },
   "source": [
    "## Model 1"
   ]
  },
  {
   "cell_type": "code",
   "execution_count": 93,
   "metadata": {
    "collapsed": false,
    "jupyter": {
     "outputs_hidden": false
    },
    "pycharm": {
     "name": "#%%\n"
    }
   },
   "outputs": [],
   "source": [
    "model_1 = LogisticRegression(random_state=0, max_iter=1000)"
   ]
  },
  {
   "cell_type": "code",
   "execution_count": 94,
   "metadata": {
    "collapsed": false,
    "jupyter": {
     "outputs_hidden": false
    },
    "pycharm": {
     "name": "#%%\n"
    }
   },
   "outputs": [
    {
     "data": {
      "text/plain": [
       "LogisticRegression(max_iter=1000, random_state=0)"
      ]
     },
     "execution_count": 94,
     "metadata": {},
     "output_type": "execute_result"
    }
   ],
   "source": [
    "model_1.fit(X_train, y_train)"
   ]
  },
  {
   "cell_type": "code",
   "execution_count": 95,
   "metadata": {
    "collapsed": false,
    "jupyter": {
     "outputs_hidden": false
    },
    "pycharm": {
     "name": "#%%\n"
    }
   },
   "outputs": [
    {
     "name": "stdout",
     "output_type": "stream",
     "text": [
      "Accuracy on validation set:  0.7804314329738059\n"
     ]
    }
   ],
   "source": [
    "y_pred = model_1.predict(X_val)\n",
    "acc_score_val = accuracy_score(y_val, y_pred)\n",
    "print('Accuracy on validation set: ', acc_score_val)"
   ]
  },
  {
   "cell_type": "code",
   "execution_count": 96,
   "metadata": {
    "collapsed": false,
    "jupyter": {
     "outputs_hidden": false
    },
    "pycharm": {
     "name": "#%%\n"
    }
   },
   "outputs": [
    {
     "name": "stdout",
     "output_type": "stream",
     "text": [
      "              precision    recall  f1-score   support\n",
      "\n",
      "           0       0.47      0.26      0.34        53\n",
      "           1       0.37      0.23      0.28       122\n",
      "           2       0.93      0.80      0.86       140\n",
      "           3       0.79      0.85      0.82       420\n",
      "           4       0.89      0.90      0.89       665\n",
      "           5       0.63      0.51      0.57       113\n",
      "           6       0.30      0.25      0.27        28\n",
      "           7       0.61      0.66      0.63        38\n",
      "           8       0.85      0.76      0.80       102\n",
      "           9       0.78      0.86      0.82       546\n",
      "          10       0.66      0.70      0.68       195\n",
      "          11       0.79      0.81      0.80       174\n",
      "\n",
      "    accuracy                           0.78      2596\n",
      "   macro avg       0.67      0.63      0.65      2596\n",
      "weighted avg       0.77      0.78      0.77      2596\n",
      "\n"
     ]
    }
   ],
   "source": [
    "# classification report\n",
    "print(classification_report(y_val, y_pred))"
   ]
  },
  {
   "cell_type": "code",
   "execution_count": 97,
   "metadata": {
    "collapsed": false,
    "jupyter": {
     "outputs_hidden": false
    },
    "pycharm": {
     "name": "#%%\n"
    }
   },
   "outputs": [
    {
     "name": "stderr",
     "output_type": "stream",
     "text": [
      "/home/tobias/miniconda3/envs/nlp/lib/python3.7/site-packages/sklearn/utils/deprecation.py:87: FutureWarning: Function plot_confusion_matrix is deprecated; Function `plot_confusion_matrix` is deprecated in 1.0 and will be removed in 1.2. Use one of the class methods: ConfusionMatrixDisplay.from_predictions or ConfusionMatrixDisplay.from_estimator.\n",
      "  warnings.warn(msg, category=FutureWarning)\n"
     ]
    },
    {
     "data": {
      "image/png": "[encoded data removed]",
      "text/plain": [
       "<Figure size 640x480 with 2 Axes>"
      ]
     },
     "metadata": {},
     "output_type": "display_data"
    }
   ],
   "source": [
    "plot_confusion_matrix(model_1, X_val, y_val, cmap=plt.cm.Blues)\n",
    "# remove ticks\n",
    "plt.xticks([])\n",
    "plt.yticks([])\n",
    "plt.show()"
   ]
  },
  {
   "cell_type": "markdown",
   "metadata": {
    "pycharm": {
     "name": "#%% md\n"
    },
    "tags": []
   },
   "source": [
    "## Model 2"
   ]
  },
  {
   "cell_type": "code",
   "execution_count": 98,
   "metadata": {
    "collapsed": false,
    "jupyter": {
     "outputs_hidden": false
    },
    "pycharm": {
     "name": "#%%\n"
    }
   },
   "outputs": [],
   "source": [
    "from sklearn.neural_network import MLPClassifier\n",
    "\n",
    "model_2 = MLPClassifier(random_state=1, max_iter=300)"
   ]
  },
  {
   "cell_type": "code",
   "execution_count": 99,
   "metadata": {
    "collapsed": false,
    "jupyter": {
     "outputs_hidden": false
    },
    "pycharm": {
     "name": "#%%\n"
    }
   },
   "outputs": [
    {
     "data": {
      "text/plain": [
       "MLPClassifier(max_iter=300, random_state=1)"
      ]
     },
     "execution_count": 99,
     "metadata": {},
     "output_type": "execute_result"
    }
   ],
   "source": [
    "model_2.fit(X_train, y_train)"
   ]
  },
  {
   "cell_type": "code",
   "execution_count": 100,
   "metadata": {
    "collapsed": false,
    "jupyter": {
     "outputs_hidden": false
    },
    "pycharm": {
     "name": "#%%\n"
    }
   },
   "outputs": [
    {
     "name": "stdout",
     "output_type": "stream",
     "text": [
      "Accuracy on validation set:  0.7515408320493067\n"
     ]
    }
   ],
   "source": [
    "y_pred = model_2.predict(X_val)\n",
    "acc_score_val = accuracy_score(y_val, y_pred)\n",
    "print('Accuracy on validation set: ', acc_score_val)"
   ]
  },
  {
   "cell_type": "code",
   "execution_count": 101,
   "metadata": {
    "collapsed": false,
    "jupyter": {
     "outputs_hidden": false
    },
    "pycharm": {
     "name": "#%%\n"
    }
   },
   "outputs": [
    {
     "name": "stdout",
     "output_type": "stream",
     "text": [
      "              precision    recall  f1-score   support\n",
      "\n",
      "           0       0.52      0.30      0.38        53\n",
      "           1       0.29      0.27      0.28       122\n",
      "           2       0.85      0.79      0.82       140\n",
      "           3       0.77      0.85      0.81       420\n",
      "           4       0.88      0.86      0.87       665\n",
      "           5       0.54      0.51      0.52       113\n",
      "           6       0.21      0.21      0.21        28\n",
      "           7       0.48      0.66      0.56        38\n",
      "           8       0.81      0.77      0.79       102\n",
      "           9       0.78      0.80      0.79       546\n",
      "          10       0.65      0.63      0.64       195\n",
      "          11       0.74      0.77      0.76       174\n",
      "\n",
      "    accuracy                           0.75      2596\n",
      "   macro avg       0.63      0.62      0.62      2596\n",
      "weighted avg       0.75      0.75      0.75      2596\n",
      "\n"
     ]
    }
   ],
   "source": [
    "print(classification_report(y_val, y_pred))"
   ]
  },
  {
   "cell_type": "code",
   "execution_count": 102,
   "metadata": {
    "collapsed": false,
    "jupyter": {
     "outputs_hidden": false
    },
    "pycharm": {
     "name": "#%%\n"
    }
   },
   "outputs": [
    {
     "name": "stderr",
     "output_type": "stream",
     "text": [
      "/home/tobias/miniconda3/envs/nlp/lib/python3.7/site-packages/sklearn/utils/deprecation.py:87: FutureWarning: Function plot_confusion_matrix is deprecated; Function `plot_confusion_matrix` is deprecated in 1.0 and will be removed in 1.2. Use one of the class methods: ConfusionMatrixDisplay.from_predictions or ConfusionMatrixDisplay.from_estimator.\n",
      "  warnings.warn(msg, category=FutureWarning)\n"
     ]
    },
    {
     "data": {
      "image/png": "[encoded data removed]",
      "text/plain": [
       "<Figure size 640x480 with 2 Axes>"
      ]
     },
     "metadata": {},
     "output_type": "display_data"
    }
   ],
   "source": [
    "plot_confusion_matrix(model_2, X_val, y_val, cmap=plt.cm.Blues)\n",
    "# remove ticks\n",
    "plt.xticks([])\n",
    "plt.yticks([])\n",
    "plt.show()"
   ]
  },
  {
   "cell_type": "markdown",
   "metadata": {
    "pycharm": {
     "name": "#%% md\n"
    }
   },
   "source": [
    "## Model 3"
   ]
  },
  {
   "cell_type": "code",
   "execution_count": 103,
   "metadata": {
    "collapsed": false,
    "jupyter": {
     "outputs_hidden": false
    },
    "pycharm": {
     "name": "#%%\n"
    }
   },
   "outputs": [],
   "source": [
    "from sklearn.svm import LinearSVC"
   ]
  },
  {
   "cell_type": "code",
   "execution_count": 104,
   "metadata": {
    "collapsed": false,
    "jupyter": {
     "outputs_hidden": false
    },
    "pycharm": {
     "name": "#%%\n"
    }
   },
   "outputs": [],
   "source": [
    "model_3 = LinearSVC(random_state=0, tol=1e-5, max_iter=1000)"
   ]
  },
  {
   "cell_type": "code",
   "execution_count": 105,
   "metadata": {
    "collapsed": false,
    "jupyter": {
     "outputs_hidden": false
    },
    "pycharm": {
     "name": "#%%\n"
    }
   },
   "outputs": [
    {
     "name": "stderr",
     "output_type": "stream",
     "text": [
      "/home/tobias/miniconda3/envs/nlp/lib/python3.7/site-packages/sklearn/svm/_base.py:1208: ConvergenceWarning: Liblinear failed to converge, increase the number of iterations.\n",
      "  ConvergenceWarning,\n"
     ]
    },
    {
     "data": {
      "text/plain": [
       "LinearSVC(random_state=0, tol=1e-05)"
      ]
     },
     "execution_count": 105,
     "metadata": {},
     "output_type": "execute_result"
    }
   ],
   "source": [
    "model_3.fit(X_train, y_train)"
   ]
  },
  {
   "cell_type": "code",
   "execution_count": 106,
   "metadata": {
    "collapsed": false,
    "jupyter": {
     "outputs_hidden": false
    },
    "pycharm": {
     "name": "#%%\n"
    }
   },
   "outputs": [
    {
     "name": "stdout",
     "output_type": "stream",
     "text": [
      "Accuracy on validation set:  0.7865947611710323\n"
     ]
    }
   ],
   "source": [
    "y_pred = model_3.predict(X_val)\n",
    "acc_score_val = accuracy_score(y_val, y_pred)\n",
    "print('Accuracy on validation set: ', acc_score_val)"
   ]
  },
  {
   "cell_type": "code",
   "execution_count": 107,
   "metadata": {
    "collapsed": false,
    "jupyter": {
     "outputs_hidden": false
    },
    "pycharm": {
     "name": "#%%\n"
    }
   },
   "outputs": [
    {
     "name": "stdout",
     "output_type": "stream",
     "text": [
      "              precision    recall  f1-score   support\n",
      "\n",
      "           0       0.45      0.19      0.27        53\n",
      "           1       0.48      0.12      0.20       122\n",
      "           2       0.90      0.84      0.87       140\n",
      "           3       0.79      0.89      0.84       420\n",
      "           4       0.88      0.91      0.89       665\n",
      "           5       0.65      0.50      0.57       113\n",
      "           6       0.31      0.18      0.23        28\n",
      "           7       0.67      0.68      0.68        38\n",
      "           8       0.85      0.78      0.82       102\n",
      "           9       0.76      0.88      0.81       546\n",
      "          10       0.65      0.66      0.65       195\n",
      "          11       0.77      0.84      0.81       174\n",
      "\n",
      "    accuracy                           0.79      2596\n",
      "   macro avg       0.68      0.62      0.64      2596\n",
      "weighted avg       0.77      0.79      0.77      2596\n",
      "\n"
     ]
    }
   ],
   "source": [
    "print(classification_report(y_val, y_pred))"
   ]
  },
  {
   "cell_type": "code",
   "execution_count": 108,
   "metadata": {
    "collapsed": false,
    "jupyter": {
     "outputs_hidden": false
    },
    "pycharm": {
     "name": "#%%\n"
    }
   },
   "outputs": [
    {
     "name": "stderr",
     "output_type": "stream",
     "text": [
      "/home/tobias/miniconda3/envs/nlp/lib/python3.7/site-packages/sklearn/utils/deprecation.py:87: FutureWarning: Function plot_confusion_matrix is deprecated; Function `plot_confusion_matrix` is deprecated in 1.0 and will be removed in 1.2. Use one of the class methods: ConfusionMatrixDisplay.from_predictions or ConfusionMatrixDisplay.from_estimator.\n",
      "  warnings.warn(msg, category=FutureWarning)\n"
     ]
    },
    {
     "data": {
      "image/png": "[encoded data removed]",
      "text/plain": [
       "<Figure size 640x480 with 2 Axes>"
      ]
     },
     "metadata": {},
     "output_type": "display_data"
    }
   ],
   "source": [
    "from sklearn.metrics import plot_confusion_matrix\n",
    "import matplotlib.pyplot as plt\n",
    "\n",
    "plot_confusion_matrix(model_3, X_val, y_val, cmap=plt.cm.Blues)\n",
    "# remove ticks\n",
    "plt.xticks([])\n",
    "plt.yticks([])\n",
    "plt.show()"
   ]
  },
  {
   "cell_type": "markdown",
   "metadata": {
    "pycharm": {
     "name": "#%% md\n"
    }
   },
   "source": [
    "## Compare models on test set"
   ]
  },
  {
   "cell_type": "code",
   "execution_count": 109,
   "metadata": {
    "collapsed": false,
    "jupyter": {
     "outputs_hidden": false
    },
    "pycharm": {
     "name": "#%%\n"
    }
   },
   "outputs": [],
   "source": [
    "y_pred_1 = model_1.predict(X_test)\n",
    "y_pred_2 = model_2.predict(X_test)\n",
    "y_pred_3 = model_3.predict(X_test)"
   ]
  },
  {
   "cell_type": "code",
   "execution_count": 110,
   "metadata": {
    "collapsed": false,
    "jupyter": {
     "outputs_hidden": false
    },
    "pycharm": {
     "name": "#%%\n"
    }
   },
   "outputs": [
    {
     "name": "stdout",
     "output_type": "stream",
     "text": [
      "Accuracy on test set for model 1 (Logistic Regression):  0.7764932562620424\n",
      "Accuracy on test set for model 2 (MLP):  0.7595375722543353\n",
      "Accuracy on test set for model 3 (Linear SVC):  0.7791907514450868\n"
     ]
    }
   ],
   "source": [
    "print('Accuracy on test set for model 1 (Logistic Regression): ', accuracy_score(y_test, y_pred_1))\n",
    "print('Accuracy on test set for model 2 (MLP): ', accuracy_score(y_test, y_pred_2))\n",
    "print('Accuracy on test set for model 3 (Linear SVC): ', accuracy_score(y_test, y_pred_3))"
   ]
  },
  {
   "cell_type": "code",
   "execution_count": null,
   "metadata": {},
   "outputs": [],
   "source": []
  }
 ],
 "metadata": {
  "kernelspec": {
   "display_name": "Python 3 (ipykernel)",
   "language": "python",
   "name": "python3"
  },
  "language_info": {
   "codemirror_mode": {
    "name": "ipython",
    "version": 3
   },
   "file_extension": ".py",
   "mimetype": "text/x-python",
   "name": "python",
   "nbconvert_exporter": "python",
   "pygments_lexer": "ipython3",
   "version": "3.7.0"
  }
 },
 "nbformat": 4,
 "nbformat_minor": 4
}
