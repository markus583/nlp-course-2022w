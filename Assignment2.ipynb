{
 "cells": [
  {
   "cell_type": "markdown",
   "metadata": {
    "pycharm": {
     "name": "#%% md\n"
    }
   },
   "source": [
    "Please fill out the information of your group!\n",
    "\n",
    "| <p style=\"text-align: center;\">First Name</p>  | <p style=\"text-align: center;\">Family Name</p> | Matr.-No. |\n",
    "| ---------------------------------------------- | ---------------------------------------------- | -------- |\n",
    "| <p style=\"text-align: left\">Markus</p>| <p style=\"text-align: left\">Frohmann</p> | k12005604 |\n",
    "| <p style=\"text-align: left\">Tobias</p>| <p style=\"text-align: left\">Morocutti</p> | k12008172 |\n",
    "\n"
   ]
  },
  {
   "cell_type": "markdown",
   "metadata": {
    "pycharm": {
     "name": "#%% md\n"
    }
   },
   "source": [
    "<h2 style=\"text-align: center\">344.105/6/7 UE: Natural Language Processing (WS2022/23)</h2>\n",
    "<h1 style=\"color:rgb(0,120,170)\">Assignment 2</h1>\n",
    "<h2 style=\"color:rgb(0,120,170)\">Getting to Know Word Embedding!</h2>"
   ]
  },
  {
   "cell_type": "markdown",
   "metadata": {
    "pycharm": {
     "name": "#%% md\n"
    }
   },
   "source": [
    "<div style=\"background-color:rgb(224, 243, 255)\">\n",
    "<b>Terms of Use</b><br>\n",
    "This  material is prepared for educational purposes at the Johannes Kepler University Linz (JKU), and is exclusively provided to the registered students of the mentioned course at JKU. It is strictly forbidden to distribute the current file, the contents of the assignment, and its solution. The use or reproduction of this manuscript is only allowed for educational purposes in non-profit organizations, while in this case, the explicit prior acceptance of the author(s) is required.\n",
    "\n",
    "**Author:** Navid Rekab-saz<br>\n",
    "**Email:** navid.rekabsaz@jku.at<br>\n",
    "\n",
    "</div>"
   ]
  },
  {
   "cell_type": "markdown",
   "metadata": {
    "pycharm": {
     "name": "#%% md\n"
    }
   },
   "source": [
    "<h2>Table of contents</h2>\n",
    "<ol>\n",
    "    <a href=\"#section-general-guidelines\"><li style=\"font-size:large;font-weight:bold\">General Guidelines</li></a>\n",
    "    <a href=\"#section-taskA\"><li style=\"font-size:large;font-weight:bold\">Task A: Words Similarity and Nearest Neighbors (15 points)</li></a>\n",
    "    <a href=\"#section-taskB\"><li style=\"font-size:large;font-weight:bold\">Task B: Document Classification with Word Embedding (15 points)</li></a>\n",
    "    <a href=\"#section-taskC\"><li style=\"font-size:large;font-weight:bold\">Task C: Classification with sent2vec Document Embeddings (2 extra point)</li></a>\n",
    "    <a href=\"#section-references\"><li style=\"font-size:large;font-weight:bold\">References</li></a>\n",
    "    \n",
    "</ol>"
   ]
  },
  {
   "cell_type": "markdown",
   "metadata": {
    "pycharm": {
     "name": "#%% md\n"
    }
   },
   "source": [
    "<a name=\"section-general-guidelines\"></a><h2 style=\"color:rgb(0,120,170)\">General Guidelines</h2>"
   ]
  },
  {
   "cell_type": "markdown",
   "metadata": {
    "pycharm": {
     "name": "#%% md\n"
    }
   },
   "source": [
    "<div style=\"background-color:rgb(224, 243, 255)\">\n",
    "\n",
    "### Assignment objective\n",
    "The aim of this assignment is to get familiarized with using word embedding (WE) models in practice. The assignment in total has **30 points**; it also offers **2 extra points** which can cover any missing point.\n",
    "\n",
    "This Notebook encompasses all aspects of the assignment, namely the descriptions of tasks as well as your solutions and reports. Feel free to add any required cell for solutions. The cells can contain code, reports, charts, tables, or any other material, required for the assignment. Feel free to provide the solutions in an interactive and visual way! \n",
    "\n",
    "Please discuss any unclear point in the assignment in the provided forum in MOODLE. It is also encouraged to provide answers to your peer's questions. However when submitting a post, keep in mind to avoid providing solutions. Please let the tutor(s) know shall you find any error or unclarity in the assignment.\n",
    "\n",
    "</div>"
   ]
  },
  {
   "cell_type": "markdown",
   "metadata": {
    "pycharm": {
     "name": "#%% md\n"
    }
   },
   "source": [
    "<div style=\"background-color:rgb(224, 243, 255)\">\n",
    "\n",
    "### Libraries & Dataset\n",
    "\n",
    "The assignment should be implemented with recent versions of `Python` (>3.7). Any standard Python library can be used, so far that the library is free and can be simply installed using `pip` or `conda`. Examples of potentially useful libraries are `scikit-learn`, `numpy`, `scipy`, `gensim`, `nltk`, `spaCy`, and `AllenNLP`. Use the latest stable version of each library.\n",
    "\n",
    "To conduct the experiments, we use a subset of the `HumSet` dataset [1] (https://blog.thedeep.io/humset/). `HumSet` is created by the DEEP (https://www.thedeep.io) project – an open source platform which aims to facilitate processing of textual data for international humanitarian response organizations. The platform enables the classification of text excerpts, extracted from news and reports into a set of domain specific classes. The provided dataset contains the classes (labels) referring to the humanitarian sectors like agriculture, health, and protection. The dataset contains an overall number of 17,301 data points. \n",
    "\n",
    "Download the dataset from [this link](https://drive.jku.at/filr/public-link/file-download/0cce88f083887a0401841aee8fab3d36/44093/-2905493136371866025/nlp2022_23_data.zip).\n",
    "\n",
    "the provided zip file consists of the following files:\n",
    "- `thedeep.subset.train.txt`: Train set in csv format with three fields: sentence_id, text, and label.\n",
    "- `thedeep.subset.validation.txt`: Validation set in csv format with three fields: sentence_id, text, and label.\n",
    "- `thedeep.subset.test.txt`: Test set in csv format with three fields: sentence_id, text, and label.\n",
    "- `thedeep.subset.label.txt`: Captions of the labels.\n",
    "- `thedeep.ToU.txt`: Terms of use of the dataset.\n",
    "\n",
    "[1] HumSet: Dataset of Multilingual Information Extraction and Classification for Humanitarian Crises Response\n",
    "*Selim Fekih, Nicolo' Tamagnone, Benjamin Minixhofer, Ranjan Shrestha, Ximena Contla, Ewan Oglethorpe and Navid Rekabsaz.* \n",
    "In Findings of the 2022 Conference on Empirical Methods in Natural Language Processing (Findings of EMNLP), December 2022.\n",
    "\n",
    "</div>"
   ]
  },
  {
   "cell_type": "markdown",
   "metadata": {
    "pycharm": {
     "name": "#%% md\n"
    }
   },
   "source": [
    "<div style=\"background-color:rgb(224, 243, 255)\">\n",
    "\n",
    "### Submission\n",
    "\n",
    "Each group should submit the following two files:\n",
    "\n",
    "- One Jupyter Notebook file (`.ipynb`), containing all the code, results, visualizations, etc. **In the submitted Notebook, all the results and visualizations should already be present, and can be observed simply by loading the Notebook in a browser.** The Notebook must be self-contained, meaning that (if necessary) one can run all the cells from top to bottom without any error. Do not forget to put in your names and student numbers in the first cell of the Notebook. \n",
    "- The HTML file (`.html`) achieved from exporting the Jupyter Notebook to HTML (Download As HTML).\n",
    "\n",
    "You do not need to include the data files in the submission.\n",
    "\n",
    "\n",
    "</div>"
   ]
  },
  {
   "cell_type": "markdown",
   "metadata": {
    "pycharm": {
     "name": "#%% md\n"
    }
   },
   "source": [
    "<a name=\"section-taskA\"></a><h2 style=\"color:rgb(0,120,170)\">Task A: Words Similarity and Nearest Neighbors (15 points)</h2>"
   ]
  },
  {
   "cell_type": "markdown",
   "metadata": {
    "pycharm": {
     "name": "#%% md\n"
    }
   },
   "source": [
    "<div style=\"background-color:rgb(224, 243, 255)\">\n",
    "\n",
    "**Loading a word embedding (WE) model (1 points).** Download a pre-trained word embedding model such as word2vec (https://code.google.com/archive/p/word2vec/) or GloVe (https://nlp.stanford.edu/projects/glove/). You can load the downloaded vectors into arrays, or use libraries such as `gensim` to download and process the vectors. \n",
    "\n",
    "**Calculating word-to-word similarities (4 points).** Select <ins>5 arbitrary words</ins> from 5 different topics like objects, science disciplines, verbs, adjectives, animals, etc. Let us refer to these words as *source words*. For each source word, calculate its cosine similarities to <ins>6 target words</ins>. The target words of each source word are also selected by you and should cover various levels of semantic relations – according to your linguistic judgement – to the source word, namely from highly-related to not related at all. Organize the target words in tables, such that the target words of each source word are sorted from the highest to the lowest relevance (according to your judgement). Consider the following points:\n",
    "\n",
    "- **Implementation (2/4 points):** Implement cosine similarity as a function that takes two vectors and returns the similarity score. Implement cosine by yourself and do NOT use the provided functionalities of any library.\n",
    "- **Reporting and observations (2/4 points):** Report the calculated similarities side by side with your word-to-word semantic relevance judgements in tables. Compare the results and report your observations.  \n",
    "\n",
    "**Calculating nearest neighbors (10 points).** For the 5 source words, retrieve the $k=10$ nearest neighbors using the word embedding model, namely the words with the highest similarities to the source word. Consider the following points: \n",
    "    \n",
    "- **Overall implementation (3/10 points):** your implemented function takes a source vector, a set of target vectors, and the $k$ parameter, and returns the $k$ nearest neighbors and their similarity scores. Implement nearest neighbor calculation by yourself and do NOT use the provided functionalities of any library.\n",
    "- **Similarity metrics (2/10 points):** execute the calculation of nearest neighbors according to <ins>two similarity metrics</ins> namely cosine and dot product.\n",
    "- **Efficiency (3/10 points):** your nearest neighbor functions should provide an *efficient* calculation of nearest neighbors. An inefficient way (which should be avoided!) would be looping over the set of vectors in the word embedding model, and one by one calculating the cosine/dot product similarity of the source vector to each of the target vectors. As a hint for an efficient way, consider that in `numpy` (and other libraries), calculating the dot product of a vector to a matrix is much faster than the dot products of the vector to each vector of the matrix.\n",
    "- **Reporting and observations (2/10 points):** report the results in tables, which enable comparing between the outputs of the two similarity metrics. Which similarity metric would you prefer? Report your observations.\n",
    "\n",
    "</div>"
   ]
  },
  {
   "cell_type": "markdown",
   "metadata": {
    "pycharm": {
     "name": "#%% md\n"
    }
   },
   "source": [
    "## Load the data and word embedding model"
   ]
  },
  {
   "cell_type": "code",
   "execution_count": 4,
   "metadata": {
    "pycharm": {
     "name": "#%%\n"
    }
   },
   "outputs": [],
   "source": [
    "import pandas as pd\n",
    "import numpy as np\n",
    "import matplotlib.pyplot as plt\n",
    "import seaborn as sns\n",
    "import gensim"
   ]
  },
  {
   "cell_type": "code",
   "execution_count": 5,
   "metadata": {
    "collapsed": false,
    "jupyter": {
     "outputs_hidden": false
    },
    "pycharm": {
     "name": "#%%\n"
    }
   },
   "outputs": [],
   "source": [
    "# Load the train, validation, and test sets\n",
    "BASE_DIR = 'data/nlp2022_23_data/'\n",
    "TRAIN_FILE = BASE_DIR + 'thedeep.subset' + '.train.txt'\n",
    "VAL_FILE = BASE_DIR + 'thedeep.subset' + '.validation.txt'\n",
    "TEST_FILE = BASE_DIR + 'thedeep.subset' + '.test.txt'\n",
    "LABEL_FILE = BASE_DIR + 'thedeep.' + 'labels.txt'\n",
    "\n",
    "train_df = pd.read_csv(TRAIN_FILE, sep=',', header=None, names=['sentence_id', 'text', 'label'])\n",
    "val_df = pd.read_csv(VAL_FILE, sep=',', header=None, names=['sentence_id', 'text', 'label'])\n",
    "test_df = pd.read_csv(TEST_FILE, sep=',', header=None, names=['sentence_id', 'text', 'label'])\n",
    "label_df = pd.read_csv(LABEL_FILE, sep=',', header=None, names=['label', 'caption'])"
   ]
  },
  {
   "cell_type": "markdown",
   "metadata": {
    "pycharm": {
     "name": "#%% md\n"
    }
   },
   "source": [
    "Download a pre-trained word embedding model such as word2vec (https://code.google.com/archive/p/word2vec/) or GloVe (https://nlp.stanford.edu/projects/glove/). You can load the downloaded vectors into arrays, or use libraries such as `gensim`\n"
   ]
  },
  {
   "cell_type": "code",
   "execution_count": 6,
   "metadata": {
    "collapsed": false,
    "jupyter": {
     "outputs_hidden": false
    },
    "pycharm": {
     "name": "#%%\n"
    }
   },
   "outputs": [],
   "source": [
    "# use gensim to load the word embedding model (GloVe)\n",
    "\n",
    "# Download the GloVe model from https://nlp.stanford.edu/projects/glove/\n",
    "# and unzip it in the /data"
   ]
  },
  {
   "cell_type": "code",
   "execution_count": 7,
   "metadata": {
    "collapsed": false,
    "jupyter": {
     "outputs_hidden": false
    },
    "pycharm": {
     "name": "#%%\n"
    }
   },
   "outputs": [
    {
     "name": "stdout",
     "output_type": "stream",
     "text": [
      "--2022-11-25 13:24:46--  http://nlp.stanford.edu/data/glove.6B.zip\n",
      "Resolving nlp.stanford.edu (nlp.stanford.edu)... 171.64.67.140\n",
      "Connecting to nlp.stanford.edu (nlp.stanford.edu)|171.64.67.140|:80... connected.\n",
      "HTTP request sent, awaiting response... 302 Found\n",
      "Location: https://nlp.stanford.edu/data/glove.6B.zip [following]\n",
      "--2022-11-25 13:24:46--  https://nlp.stanford.edu/data/glove.6B.zip\n",
      "Connecting to nlp.stanford.edu (nlp.stanford.edu)|171.64.67.140|:443... connected.\n",
      "HTTP request sent, awaiting response... 301 Moved Permanently\n",
      "Location: https://downloads.cs.stanford.edu/nlp/data/glove.6B.zip [following]\n",
      "--2022-11-25 13:24:47--  https://downloads.cs.stanford.edu/nlp/data/glove.6B.zip\n",
      "Resolving downloads.cs.stanford.edu (downloads.cs.stanford.edu)... 171.64.64.22\n",
      "Connecting to downloads.cs.stanford.edu (downloads.cs.stanford.edu)|171.64.64.22|:443... connected.\n",
      "HTTP request sent, awaiting response... 200 OK\n",
      "Length: 862182613 (822M) [application/zip]\n",
      "Saving to: 'glove.6B.zip'\n",
      "\n",
      "glove.6B.zip        100%[===================>] 822.24M  2.16MB/s    in 7m 16s  \n",
      "\n",
      "2022-11-25 13:32:05 (1.88 MB/s) - 'glove.6B.zip' saved [862182613/862182613]\n",
      "\n",
      "Archive:  glove.6B.zip\n",
      "  inflating: data/glove.6B.50d.txt   \n",
      "  inflating: data/glove.6B.100d.txt  \n",
      "  inflating: data/glove.6B.200d.txt  \n",
      "  inflating: data/glove.6B.300d.txt  \n"
     ]
    }
   ],
   "source": [
    "!wget http://nlp.stanford.edu/data/glove.6B.zip\n",
    "!unzip glove.6B.zip -d data"
   ]
  },
  {
   "cell_type": "code",
   "execution_count": 8,
   "metadata": {
    "collapsed": false,
    "jupyter": {
     "outputs_hidden": false
    },
    "pycharm": {
     "name": "#%%\n"
    }
   },
   "outputs": [
    {
     "name": "stderr",
     "output_type": "stream",
     "text": [
      "/tmp/ipykernel_1046684/2661584031.py:2: DeprecationWarning: Call to deprecated `glove2word2vec` (KeyedVectors.load_word2vec_format(.., binary=False, no_header=True) loads GLoVE text vectors.).\n",
      "  glove_model = glove2word2vec.glove2word2vec('data/glove.6B.300d.txt', 'data/glove.6B.300d.word2vec.txt')\n"
     ]
    }
   ],
   "source": [
    "import gensim.scripts.glove2word2vec as glove2word2vec\n",
    "glove_model = glove2word2vec.glove2word2vec('data/glove.6B.300d.txt', 'data/glove.6B.300d.word2vec.txt')"
   ]
  },
  {
   "cell_type": "code",
   "execution_count": 9,
   "metadata": {
    "collapsed": false,
    "jupyter": {
     "outputs_hidden": false
    },
    "pycharm": {
     "name": "#%%\n"
    }
   },
   "outputs": [],
   "source": [
    "# load the GloVe model\n",
    "glove_model = gensim.models.KeyedVectors.load_word2vec_format('data/glove.6B.300d.word2vec.txt', binary=False)"
   ]
  },
  {
   "cell_type": "markdown",
   "metadata": {
    "pycharm": {
     "name": "#%% md\n"
    }
   },
   "source": [
    "**Calculating word-to-word similarities (4 points).** Select <ins>5 arbitrary words</ins> from 5 different topics like objects, science disciplines, verbs, adjectives, animals, etc. Let us refer to these words as *source words*. For each source word, calculate its cosine similarities to <ins>6 target words</ins>. The target words of each source word are also selected by you and should cover various levels of semantic relations – according to your linguistic judgement – to the source word, namely from highly-related to not related at all. Organize the target words in tables, such that the target words of each source word are sorted from the highest to the lowest relevance (according to your judgement). Consider the following points:\n",
    "\n",
    "- **Implementation (2/4 points):** Implement cosine similarity as a function that takes two vectors and returns the similarity score. Implement cosine by yourself and do NOT use the provided functionalities of any library.\n",
    "- **Reporting and observations (2/4 points):** Report the calculated similarities side by side with your word-to-word semantic relevance judgements in tables. Compare the results and report your observations.\n"
   ]
  },
  {
   "cell_type": "code",
   "execution_count": 64,
   "metadata": {
    "collapsed": false,
    "jupyter": {
     "outputs_hidden": false
    },
    "pycharm": {
     "name": "#%%\n"
    }
   },
   "outputs": [],
   "source": [
    "# select 5 source words\n",
    "source_words = ['hospital', 'cat', 'car', 'plane', 'apple']\n",
    "\n",
    "# select 6 target words for each source word (according to our linguistic judgement)\n",
    "# higher similarity --> earlier in list\n",
    "\n",
    "#TODO @markus: should we maybe replace some words here by verbs and adjectives? \n",
    "target_words = {\n",
    "    'hospital': ['clinic', 'doctor', 'nurse', 'patient', 'computer', 'bill'],\n",
    "    'cat': ['dog', 'mouse', 'cute', 'bird', 'fish', 'insect'],\n",
    "    'car': ['truck', 'driving', 'motorcycle', 'bus', 'bike', 'fast'],\n",
    "    'plane': ['airplane', 'train', 'traveling', 'boat', 'rocket', 'sea'],\n",
    "    'apple': ['pear', 'peach', 'banana', 'pie', 'eating', 'chocolate']\n",
    "}\n",
    "\n",
    "# target_words = {\n",
    "#     'hospital': ['clinic', 'doctor', 'nurse', 'patient', 'computer', 'bill'],\n",
    "#     'cat': ['dog', 'mouse', 'rabbit', 'bird', 'fish', 'insect'],\n",
    "#     'car': ['truck', 'bus', 'motorcycle', 'bike', 'scooter', 'pedal'],\n",
    "#     'plane': ['airplane', 'helicopter', 'train', 'boat', 'rocket', 'sea'],\n",
    "#     'apple': ['pear', 'peach', 'banana', 'pie', 'chocolate', 'christmas']\n",
    "# }"
   ]
  },
  {
   "cell_type": "code",
   "execution_count": 65,
   "metadata": {
    "collapsed": false,
    "jupyter": {
     "outputs_hidden": false
    },
    "pycharm": {
     "name": "#%%\n"
    }
   },
   "outputs": [],
   "source": [
    "# calculate the cosine similarity between each source word and each target word\n",
    "def cosine_similarity(v1, v2):\n",
    "    return np.dot(v1, v2) / (np.linalg.norm(v1) * np.linalg.norm(v2))\n",
    "\n",
    "# calculate the cosine similarity between each source word and each target word\n",
    "similarity_scores = {}\n",
    "for source_word in source_words:\n",
    "    similarity_scores[source_word] = {}\n",
    "    for target_word in target_words[source_word]:\n",
    "        similarity_scores[source_word][target_word] = cosine_similarity(glove_model[source_word], glove_model[target_word])"
   ]
  },
  {
   "cell_type": "code",
   "execution_count": 66,
   "metadata": {
    "collapsed": false,
    "jupyter": {
     "outputs_hidden": false
    },
    "pycharm": {
     "name": "#%%\n"
    }
   },
   "outputs": [
    {
     "name": "stdout",
     "output_type": "stream",
     "text": [
      "Source word: hospital\n",
      "Target words: ['clinic', 'doctor', 'nurse', 'patient', 'computer', 'bill']\n",
      "Similarity scores: {'clinic': 0.64873356, 'doctor': 0.56831884, 'nurse': 0.5382149, 'patient': 0.5410522, 'computer': 0.11727008, 'bill': 0.13094033}\n",
      "\n",
      "Source word: cat\n",
      "Target words: ['dog', 'mouse', 'cute', 'bird', 'fish', 'insect']\n",
      "Similarity scores: {'dog': 0.6816746, 'mouse': 0.453791, 'cute': 0.3395511, 'bird': 0.39755473, 'fish': 0.27653947, 'insect': 0.22102602}\n",
      "\n",
      "Source word: car\n",
      "Target words: ['truck', 'driving', 'motorcycle', 'bus', 'bike', 'fast']\n",
      "Similarity scores: {'truck': 0.7350621, 'driving': 0.6442225, 'motorcycle': 0.60225135, 'bus': 0.5653251, 'bike': 0.46721223, 'fast': 0.30292118}\n",
      "\n",
      "Source word: plane\n",
      "Target words: ['airplane', 'train', 'traveling', 'boat', 'rocket', 'sea']\n",
      "Similarity scores: {'airplane': 0.7737392, 'train': 0.40176648, 'traveling': 0.43667153, 'boat': 0.44285083, 'rocket': 0.34800434, 'sea': 0.3100224}\n",
      "\n",
      "Source word: apple\n",
      "Target words: ['pear', 'peach', 'banana', 'pie', 'eating', 'chocolate']\n",
      "Similarity scores: {'pear': 0.41169775, 'peach': 0.41737673, 'banana': 0.392375, 'pie': 0.3846857, 'eating': 0.24240357, 'chocolate': 0.32571977}\n",
      "\n"
     ]
    }
   ],
   "source": [
    "# report the results in tables\n",
    "for source_word in source_words:\n",
    "    print('Source word:', source_word)\n",
    "    print('Target words:', target_words[source_word])\n",
    "    print('Similarity scores:', similarity_scores[source_word])\n",
    "    print()"
   ]
  },
  {
   "cell_type": "code",
   "execution_count": 67,
   "metadata": {},
   "outputs": [
    {
     "data": {
      "text/html": [
       "<div>\n",
       "<style scoped>\n",
       "    .dataframe tbody tr th:only-of-type {\n",
       "        vertical-align: middle;\n",
       "    }\n",
       "\n",
       "    .dataframe tbody tr th {\n",
       "        vertical-align: top;\n",
       "    }\n",
       "\n",
       "    .dataframe thead th {\n",
       "        text-align: right;\n",
       "    }\n",
       "</style>\n",
       "<table border=\"1\" class=\"dataframe\">\n",
       "  <thead>\n",
       "    <tr style=\"text-align: right;\">\n",
       "      <th></th>\n",
       "      <th>clinic</th>\n",
       "      <th>doctor</th>\n",
       "      <th>nurse</th>\n",
       "      <th>patient</th>\n",
       "      <th>computer</th>\n",
       "      <th>bill</th>\n",
       "    </tr>\n",
       "  </thead>\n",
       "  <tbody>\n",
       "    <tr>\n",
       "      <th>hospital</th>\n",
       "      <td>0.648734</td>\n",
       "      <td>0.568319</td>\n",
       "      <td>0.538215</td>\n",
       "      <td>0.541052</td>\n",
       "      <td>0.11727</td>\n",
       "      <td>0.13094</td>\n",
       "    </tr>\n",
       "  </tbody>\n",
       "</table>\n",
       "</div>"
      ],
      "text/plain": [
       "            clinic    doctor     nurse   patient  computer     bill\n",
       "hospital  0.648734  0.568319  0.538215  0.541052   0.11727  0.13094"
      ]
     },
     "execution_count": 67,
     "metadata": {},
     "output_type": "execute_result"
    }
   ],
   "source": [
    "pd.DataFrame(similarity_scores['hospital'], index=['hospital'])"
   ]
  },
  {
   "cell_type": "code",
   "execution_count": 68,
   "metadata": {},
   "outputs": [
    {
     "data": {
      "text/html": [
       "<div>\n",
       "<style scoped>\n",
       "    .dataframe tbody tr th:only-of-type {\n",
       "        vertical-align: middle;\n",
       "    }\n",
       "\n",
       "    .dataframe tbody tr th {\n",
       "        vertical-align: top;\n",
       "    }\n",
       "\n",
       "    .dataframe thead th {\n",
       "        text-align: right;\n",
       "    }\n",
       "</style>\n",
       "<table border=\"1\" class=\"dataframe\">\n",
       "  <thead>\n",
       "    <tr style=\"text-align: right;\">\n",
       "      <th></th>\n",
       "      <th>dog</th>\n",
       "      <th>mouse</th>\n",
       "      <th>cute</th>\n",
       "      <th>bird</th>\n",
       "      <th>fish</th>\n",
       "      <th>insect</th>\n",
       "    </tr>\n",
       "  </thead>\n",
       "  <tbody>\n",
       "    <tr>\n",
       "      <th>cat</th>\n",
       "      <td>0.681675</td>\n",
       "      <td>0.453791</td>\n",
       "      <td>0.339551</td>\n",
       "      <td>0.397555</td>\n",
       "      <td>0.276539</td>\n",
       "      <td>0.221026</td>\n",
       "    </tr>\n",
       "  </tbody>\n",
       "</table>\n",
       "</div>"
      ],
      "text/plain": [
       "          dog     mouse      cute      bird      fish    insect\n",
       "cat  0.681675  0.453791  0.339551  0.397555  0.276539  0.221026"
      ]
     },
     "execution_count": 68,
     "metadata": {},
     "output_type": "execute_result"
    }
   ],
   "source": [
    "pd.DataFrame(similarity_scores['cat'], index=['cat'])"
   ]
  },
  {
   "cell_type": "code",
   "execution_count": 69,
   "metadata": {},
   "outputs": [
    {
     "data": {
      "text/html": [
       "<div>\n",
       "<style scoped>\n",
       "    .dataframe tbody tr th:only-of-type {\n",
       "        vertical-align: middle;\n",
       "    }\n",
       "\n",
       "    .dataframe tbody tr th {\n",
       "        vertical-align: top;\n",
       "    }\n",
       "\n",
       "    .dataframe thead th {\n",
       "        text-align: right;\n",
       "    }\n",
       "</style>\n",
       "<table border=\"1\" class=\"dataframe\">\n",
       "  <thead>\n",
       "    <tr style=\"text-align: right;\">\n",
       "      <th></th>\n",
       "      <th>truck</th>\n",
       "      <th>driving</th>\n",
       "      <th>motorcycle</th>\n",
       "      <th>bus</th>\n",
       "      <th>bike</th>\n",
       "      <th>fast</th>\n",
       "    </tr>\n",
       "  </thead>\n",
       "  <tbody>\n",
       "    <tr>\n",
       "      <th>car</th>\n",
       "      <td>0.735062</td>\n",
       "      <td>0.644222</td>\n",
       "      <td>0.602251</td>\n",
       "      <td>0.565325</td>\n",
       "      <td>0.467212</td>\n",
       "      <td>0.302921</td>\n",
       "    </tr>\n",
       "  </tbody>\n",
       "</table>\n",
       "</div>"
      ],
      "text/plain": [
       "        truck   driving  motorcycle       bus      bike      fast\n",
       "car  0.735062  0.644222    0.602251  0.565325  0.467212  0.302921"
      ]
     },
     "execution_count": 69,
     "metadata": {},
     "output_type": "execute_result"
    }
   ],
   "source": [
    "pd.DataFrame(similarity_scores['car'], index=['car'])"
   ]
  },
  {
   "cell_type": "code",
   "execution_count": 70,
   "metadata": {},
   "outputs": [
    {
     "data": {
      "text/html": [
       "<div>\n",
       "<style scoped>\n",
       "    .dataframe tbody tr th:only-of-type {\n",
       "        vertical-align: middle;\n",
       "    }\n",
       "\n",
       "    .dataframe tbody tr th {\n",
       "        vertical-align: top;\n",
       "    }\n",
       "\n",
       "    .dataframe thead th {\n",
       "        text-align: right;\n",
       "    }\n",
       "</style>\n",
       "<table border=\"1\" class=\"dataframe\">\n",
       "  <thead>\n",
       "    <tr style=\"text-align: right;\">\n",
       "      <th></th>\n",
       "      <th>airplane</th>\n",
       "      <th>train</th>\n",
       "      <th>traveling</th>\n",
       "      <th>boat</th>\n",
       "      <th>rocket</th>\n",
       "      <th>sea</th>\n",
       "    </tr>\n",
       "  </thead>\n",
       "  <tbody>\n",
       "    <tr>\n",
       "      <th>plane</th>\n",
       "      <td>0.773739</td>\n",
       "      <td>0.401766</td>\n",
       "      <td>0.436672</td>\n",
       "      <td>0.442851</td>\n",
       "      <td>0.348004</td>\n",
       "      <td>0.310022</td>\n",
       "    </tr>\n",
       "  </tbody>\n",
       "</table>\n",
       "</div>"
      ],
      "text/plain": [
       "       airplane     train  traveling      boat    rocket       sea\n",
       "plane  0.773739  0.401766   0.436672  0.442851  0.348004  0.310022"
      ]
     },
     "execution_count": 70,
     "metadata": {},
     "output_type": "execute_result"
    }
   ],
   "source": [
    "pd.DataFrame(similarity_scores['plane'], index=['plane'])"
   ]
  },
  {
   "cell_type": "code",
   "execution_count": 71,
   "metadata": {},
   "outputs": [
    {
     "data": {
      "text/html": [
       "<div>\n",
       "<style scoped>\n",
       "    .dataframe tbody tr th:only-of-type {\n",
       "        vertical-align: middle;\n",
       "    }\n",
       "\n",
       "    .dataframe tbody tr th {\n",
       "        vertical-align: top;\n",
       "    }\n",
       "\n",
       "    .dataframe thead th {\n",
       "        text-align: right;\n",
       "    }\n",
       "</style>\n",
       "<table border=\"1\" class=\"dataframe\">\n",
       "  <thead>\n",
       "    <tr style=\"text-align: right;\">\n",
       "      <th></th>\n",
       "      <th>pear</th>\n",
       "      <th>peach</th>\n",
       "      <th>banana</th>\n",
       "      <th>pie</th>\n",
       "      <th>eating</th>\n",
       "      <th>chocolate</th>\n",
       "    </tr>\n",
       "  </thead>\n",
       "  <tbody>\n",
       "    <tr>\n",
       "      <th>apple</th>\n",
       "      <td>0.411698</td>\n",
       "      <td>0.417377</td>\n",
       "      <td>0.392375</td>\n",
       "      <td>0.384686</td>\n",
       "      <td>0.242404</td>\n",
       "      <td>0.32572</td>\n",
       "    </tr>\n",
       "  </tbody>\n",
       "</table>\n",
       "</div>"
      ],
      "text/plain": [
       "           pear     peach    banana       pie    eating  chocolate\n",
       "apple  0.411698  0.417377  0.392375  0.384686  0.242404    0.32572"
      ]
     },
     "execution_count": 71,
     "metadata": {},
     "output_type": "execute_result"
    }
   ],
   "source": [
    "pd.DataFrame(similarity_scores['apple'], index=['apple'])"
   ]
  },
  {
   "cell_type": "markdown",
   "metadata": {
    "pycharm": {
     "name": "#%% md\n"
    }
   },
   "source": [
    "Most of the time, linguistic judgment correlated well with calculated cosine similarities. We observe this by seeing that the cosine similarities go down from each target word.\n",
    "\n",
    "However, the correlation is not perfect: For example, 'peach' is slightly more similiar (according to GloVe embeddings) to 'apple' than 'pear'. Moreover, 'boat' is more similar to 'plane' than 'train' (according to GloVe embeddings). This is probably because the GloVe embeddings are trained on a large corpus of text, and the words 'plane' and 'boat' are probably used in more similar contexts."
   ]
  },
  {
   "cell_type": "markdown",
   "metadata": {
    "pycharm": {
     "name": "#%% md\n"
    }
   },
   "source": [
    "**Calculating nearest neighbors (10 points).** For the 5 source words, retrieve the $k=10$ nearest neighbors using the word embedding model, namely the words with the highest similarities to the source word. Consider the following points:\n",
    "\n",
    "- **Overall implementation (3/10 points):** your implemented function takes a source vector, a set of target vectors, and the $k$ parameter, and returns the $k$ nearest neighbors and their similarity scores. Implement nearest neighbor calculation by yourself and do NOT use the provided functionalities of any library.\n",
    "- **Similarity metrics (2/10 points):** execute the calculation of nearest neighbors according to <ins>two similarity metrics</ins> namely cosine and dot product.\n",
    "- **Efficiency (3/10 points):** your nearest neighbor functions should provide an *efficient* calculation of nearest neighbors. An inefficient way (which should be avoided!) would be looping over the set of vectors in the word embedding model, and one by one calculating the cosine/dot product similarity of the source vector to each of the target vectors. As a hint for an efficient way, consider that in `numpy` (and other libraries), calculating the dot product of a vector to a matrix is much faster than the dot products of the vector to each vector of the matrix.\n",
    "- **Reporting and observations (2/10 points):** report the results in tables, which enable comparing between the outputs of the two similarity metrics. Which similarity metric would you prefer? Report your observations."
   ]
  },
  {
   "cell_type": "code",
   "execution_count": 13,
   "metadata": {
    "collapsed": false,
    "jupyter": {
     "outputs_hidden": false
    },
    "pycharm": {
     "name": "#%%\n"
    }
   },
   "outputs": [],
   "source": [
    "# calculate the nearest neighbors of each source word\n",
    "def nearest_neighbors(source_vector, target_vectors, k=10, metric='cosine'):\n",
    "    if metric == 'cosine':\n",
    "        similarities = np.dot(target_vectors, source_vector) / (np.linalg.norm(target_vectors, axis=1) * np.linalg.norm(source_vector))\n",
    "    elif metric == 'dot':\n",
    "        similarities = np.dot(target_vectors, source_vector)\n",
    "    else:\n",
    "        raise ValueError(f'Unknown metric: {metric}')\n",
    "    return np.argsort(similarities)[::-1][:k], similarities[np.argsort(similarities)[::-1][:k]]"
   ]
  },
  {
   "cell_type": "code",
   "execution_count": 14,
   "metadata": {
    "collapsed": false,
    "jupyter": {
     "outputs_hidden": false
    },
    "pycharm": {
     "name": "#%%\n"
    }
   },
   "outputs": [],
   "source": [
    "# calculate the nearest neighbors of each source word\n",
    "k = 10\n",
    "\n",
    "nearest_neighbors_scores = {}\n",
    "for source_word in source_words:\n",
    "    nearest_neighbors_scores[source_word] = {}\n",
    "    for metric in ['cosine', 'dot']:\n",
    "        nearest_neighbors_scores[source_word][metric] = {}\n",
    "        nearest_neighbors_scores[source_word][metric]['neighbors'], nearest_neighbors_scores[source_word][metric]['scores'] = nearest_neighbors(glove_model[source_word], glove_model.vectors, metric=metric, k=k)"
   ]
  },
  {
   "cell_type": "code",
   "execution_count": 74,
   "metadata": {
    "collapsed": false,
    "jupyter": {
     "outputs_hidden": false
    },
    "pycharm": {
     "name": "#%%\n"
    }
   },
   "outputs": [
    {
     "name": "stdout",
     "output_type": "stream",
     "text": [
      "Source word: hospital\n",
      "cosine - 1: hospital (1.000)\n",
      "cosine - 2: hospitals (0.708)\n",
      "cosine - 3: medical (0.691)\n",
      "cosine - 4: clinic (0.649)\n",
      "cosine - 5: doctors (0.625)\n",
      "cosine - 6: psychiatric (0.571)\n",
      "cosine - 7: doctor (0.568)\n",
      "cosine - 8: care (0.565)\n",
      "cosine - 9: patients (0.562)\n",
      "cosine - 10: hospitalized (0.558)\n",
      "\n",
      "dot - 1: hospital (53.356)\n",
      "dot - 2: hospitals (35.466)\n",
      "dot - 3: medical (35.328)\n",
      "dot - 4: clinic (30.239)\n",
      "dot - 5: doctors (30.029)\n",
      "dot - 6: surgery (29.523)\n",
      "dot - 7: psychiatric (29.191)\n",
      "dot - 8: patients (28.474)\n",
      "dot - 9: ambulance (28.258)\n",
      "dot - 10: hospitalized (28.080)\n",
      "\n",
      "Source word: cat\n",
      "cosine - 1: cat (1.000)\n",
      "cosine - 2: dog (0.682)\n",
      "cosine - 3: cats (0.682)\n",
      "cosine - 4: pet (0.587)\n",
      "cosine - 5: dogs (0.541)\n",
      "cosine - 6: feline (0.490)\n",
      "cosine - 7: monkey (0.488)\n",
      "cosine - 8: horse (0.473)\n",
      "cosine - 9: pets (0.463)\n",
      "cosine - 10: rabbit (0.461)\n",
      "\n",
      "dot - 1: cat (40.023)\n",
      "dot - 2: dog (28.778)\n",
      "dot - 3: cats (27.335)\n",
      "dot - 4: pet (24.378)\n",
      "dot - 5: dogs (23.071)\n",
      "dot - 6: horse (20.386)\n",
      "dot - 7: mouse (20.201)\n",
      "dot - 8: leopard (20.095)\n",
      "dot - 9: monkey (19.909)\n",
      "dot - 10: rabbit (19.457)\n",
      "\n",
      "Source word: car\n",
      "cosine - 1: car (1.000)\n",
      "cosine - 2: cars (0.783)\n",
      "cosine - 3: vehicle (0.766)\n",
      "cosine - 4: truck (0.735)\n",
      "cosine - 5: driver (0.711)\n",
      "cosine - 6: driving (0.644)\n",
      "cosine - 7: vehicles (0.633)\n",
      "cosine - 8: motorcycle (0.602)\n",
      "cosine - 9: automobile (0.596)\n",
      "cosine - 10: parked (0.591)\n",
      "\n",
      "dot - 1: car (48.388)\n",
      "dot - 2: cars (38.601)\n",
      "dot - 3: vehicle (35.862)\n",
      "dot - 4: truck (34.166)\n",
      "dot - 5: driver (33.105)\n",
      "dot - 6: vehicles (31.110)\n",
      "dot - 7: motorcycle (29.320)\n",
      "dot - 8: drivers (27.847)\n",
      "dot - 9: parked (27.843)\n",
      "dot - 10: suv (27.382)\n",
      "\n",
      "Source word: plane\n",
      "cosine - 1: plane (1.000)\n",
      "cosine - 2: airplane (0.774)\n",
      "cosine - 3: planes (0.737)\n",
      "cosine - 4: jet (0.712)\n",
      "cosine - 5: crashed (0.703)\n",
      "cosine - 6: aircraft (0.691)\n",
      "cosine - 7: flight (0.684)\n",
      "cosine - 8: airliner (0.664)\n",
      "cosine - 9: crash (0.664)\n",
      "cosine - 10: helicopter (0.634)\n",
      "\n",
      "dot - 1: plane (49.321)\n",
      "dot - 2: planes (36.936)\n",
      "dot - 3: aircraft (36.347)\n",
      "dot - 4: airliner (36.048)\n",
      "dot - 5: jet (35.651)\n",
      "dot - 6: crashed (34.711)\n",
      "dot - 7: flight (33.833)\n",
      "dot - 8: airplane (33.484)\n",
      "dot - 9: jetliner (32.878)\n",
      "dot - 10: helicopter (32.231)\n",
      "\n",
      "Source word: apple\n",
      "cosine - 1: apple (1.000)\n",
      "cosine - 2: iphone (0.599)\n",
      "cosine - 3: macintosh (0.584)\n",
      "cosine - 4: ipod (0.576)\n",
      "cosine - 5: microsoft (0.566)\n",
      "cosine - 6: ipad (0.563)\n",
      "cosine - 7: intel (0.546)\n",
      "cosine - 8: ibm (0.529)\n",
      "cosine - 9: google (0.528)\n",
      "cosine - 10: imac (0.507)\n",
      "\n",
      "dot - 1: apple (50.243)\n",
      "dot - 2: iphone (32.451)\n",
      "dot - 3: ipod (31.652)\n",
      "dot - 4: macintosh (30.304)\n",
      "dot - 5: microsoft (30.064)\n",
      "dot - 6: ipad (28.712)\n",
      "dot - 7: intel (28.047)\n",
      "dot - 8: google (27.637)\n",
      "dot - 9: ibm (26.730)\n",
      "dot - 10: itunes (26.468)\n",
      "\n"
     ]
    }
   ],
   "source": [
    "# report the results in tables\n",
    "for source_word in source_words:\n",
    "    print('Source word:', source_word)\n",
    "    for metric in ['cosine', 'dot']:\n",
    "        for i in range(k):\n",
    "            print(f'{metric} - {i+1}: {glove_model.index_to_key[nearest_neighbors_scores[source_word][metric][\"neighbors\"][i]]} ({nearest_neighbors_scores[source_word][metric][\"scores\"][i]:.3f})')\n",
    "        print()"
   ]
  },
  {
   "cell_type": "code",
   "execution_count": 81,
   "metadata": {},
   "outputs": [],
   "source": [
    "# create pd DataFrame from result\n",
    "df = pd.DataFrame(columns=['source_word', 'rank', 'cos_word', 'cos_score', 'dot_word', 'dot_score'])\n",
    "for source_word in source_words:\n",
    "#     for metric in ['cosine', 'dot']:\n",
    "    for i in range(k):\n",
    "        df = pd.concat([df, pd.DataFrame({\n",
    "            'source_word': [source_word],\n",
    "            'rank': [i+1],\n",
    "            'cos_word': [glove_model.index_to_key[nearest_neighbors_scores[source_word]['cosine'][\"neighbors\"][i]]],\n",
    "            'cos_score': [nearest_neighbors_scores[source_word]['cosine'][\"scores\"][i]],\n",
    "            'dot_word': [glove_model.index_to_key[nearest_neighbors_scores[source_word]['dot'][\"neighbors\"][i]]],\n",
    "            'dot_score': [nearest_neighbors_scores[source_word]['dot'][\"scores\"][i]],\n",
    "        })])"
   ]
  },
  {
   "cell_type": "code",
   "execution_count": 82,
   "metadata": {},
   "outputs": [],
   "source": [
    "df.set_index(['source_word', 'rank'], inplace=True)"
   ]
  },
  {
   "cell_type": "code",
   "execution_count": 89,
   "metadata": {},
   "outputs": [],
   "source": [
    "df.columns = [['cosine','cosine','dot','dot'],['word','score', 'word', 'score']]"
   ]
  },
  {
   "cell_type": "code",
   "execution_count": 100,
   "metadata": {},
   "outputs": [
    {
     "data": {
      "text/html": [
       "<div>\n",
       "<style scoped>\n",
       "    .dataframe tbody tr th:only-of-type {\n",
       "        vertical-align: middle;\n",
       "    }\n",
       "\n",
       "    .dataframe tbody tr th {\n",
       "        vertical-align: top;\n",
       "    }\n",
       "\n",
       "    .dataframe thead tr th {\n",
       "        text-align: left;\n",
       "    }\n",
       "\n",
       "    .dataframe thead tr:last-of-type th {\n",
       "        text-align: right;\n",
       "    }\n",
       "</style>\n",
       "<table border=\"1\" class=\"dataframe\">\n",
       "  <thead>\n",
       "    <tr>\n",
       "      <th></th>\n",
       "      <th></th>\n",
       "      <th colspan=\"2\" halign=\"left\">cosine</th>\n",
       "      <th colspan=\"2\" halign=\"left\">dot</th>\n",
       "    </tr>\n",
       "    <tr>\n",
       "      <th></th>\n",
       "      <th></th>\n",
       "      <th>word</th>\n",
       "      <th>score</th>\n",
       "      <th>word</th>\n",
       "      <th>score</th>\n",
       "    </tr>\n",
       "    <tr>\n",
       "      <th>source_word</th>\n",
       "      <th>rank</th>\n",
       "      <th></th>\n",
       "      <th></th>\n",
       "      <th></th>\n",
       "      <th></th>\n",
       "    </tr>\n",
       "  </thead>\n",
       "  <tbody>\n",
       "    <tr>\n",
       "      <th rowspan=\"10\" valign=\"top\">hospital</th>\n",
       "      <th>1</th>\n",
       "      <td>hospital</td>\n",
       "      <td>1.000000</td>\n",
       "      <td>hospital</td>\n",
       "      <td>53.355907</td>\n",
       "    </tr>\n",
       "    <tr>\n",
       "      <th>2</th>\n",
       "      <td>hospitals</td>\n",
       "      <td>0.707926</td>\n",
       "      <td>hospitals</td>\n",
       "      <td>35.465721</td>\n",
       "    </tr>\n",
       "    <tr>\n",
       "      <th>3</th>\n",
       "      <td>medical</td>\n",
       "      <td>0.690507</td>\n",
       "      <td>medical</td>\n",
       "      <td>35.328308</td>\n",
       "    </tr>\n",
       "    <tr>\n",
       "      <th>4</th>\n",
       "      <td>clinic</td>\n",
       "      <td>0.648733</td>\n",
       "      <td>clinic</td>\n",
       "      <td>30.238682</td>\n",
       "    </tr>\n",
       "    <tr>\n",
       "      <th>5</th>\n",
       "      <td>doctors</td>\n",
       "      <td>0.624972</td>\n",
       "      <td>doctors</td>\n",
       "      <td>30.028748</td>\n",
       "    </tr>\n",
       "    <tr>\n",
       "      <th>6</th>\n",
       "      <td>psychiatric</td>\n",
       "      <td>0.571112</td>\n",
       "      <td>surgery</td>\n",
       "      <td>29.522640</td>\n",
       "    </tr>\n",
       "    <tr>\n",
       "      <th>7</th>\n",
       "      <td>doctor</td>\n",
       "      <td>0.568319</td>\n",
       "      <td>psychiatric</td>\n",
       "      <td>29.191055</td>\n",
       "    </tr>\n",
       "    <tr>\n",
       "      <th>8</th>\n",
       "      <td>care</td>\n",
       "      <td>0.564767</td>\n",
       "      <td>patients</td>\n",
       "      <td>28.473736</td>\n",
       "    </tr>\n",
       "    <tr>\n",
       "      <th>9</th>\n",
       "      <td>patients</td>\n",
       "      <td>0.562192</td>\n",
       "      <td>ambulance</td>\n",
       "      <td>28.258392</td>\n",
       "    </tr>\n",
       "    <tr>\n",
       "      <th>10</th>\n",
       "      <td>hospitalized</td>\n",
       "      <td>0.558139</td>\n",
       "      <td>hospitalized</td>\n",
       "      <td>28.079788</td>\n",
       "    </tr>\n",
       "    <tr>\n",
       "      <th rowspan=\"10\" valign=\"top\">cat</th>\n",
       "      <th>1</th>\n",
       "      <td>cat</td>\n",
       "      <td>1.000000</td>\n",
       "      <td>cat</td>\n",
       "      <td>40.023449</td>\n",
       "    </tr>\n",
       "    <tr>\n",
       "      <th>2</th>\n",
       "      <td>dog</td>\n",
       "      <td>0.681675</td>\n",
       "      <td>dog</td>\n",
       "      <td>28.778008</td>\n",
       "    </tr>\n",
       "    <tr>\n",
       "      <th>3</th>\n",
       "      <td>cats</td>\n",
       "      <td>0.681584</td>\n",
       "      <td>cats</td>\n",
       "      <td>27.334890</td>\n",
       "    </tr>\n",
       "    <tr>\n",
       "      <th>4</th>\n",
       "      <td>pet</td>\n",
       "      <td>0.587037</td>\n",
       "      <td>pet</td>\n",
       "      <td>24.377987</td>\n",
       "    </tr>\n",
       "    <tr>\n",
       "      <th>5</th>\n",
       "      <td>dogs</td>\n",
       "      <td>0.540767</td>\n",
       "      <td>dogs</td>\n",
       "      <td>23.070911</td>\n",
       "    </tr>\n",
       "    <tr>\n",
       "      <th>6</th>\n",
       "      <td>feline</td>\n",
       "      <td>0.489797</td>\n",
       "      <td>horse</td>\n",
       "      <td>20.386066</td>\n",
       "    </tr>\n",
       "    <tr>\n",
       "      <th>7</th>\n",
       "      <td>monkey</td>\n",
       "      <td>0.487943</td>\n",
       "      <td>mouse</td>\n",
       "      <td>20.201138</td>\n",
       "    </tr>\n",
       "    <tr>\n",
       "      <th>8</th>\n",
       "      <td>horse</td>\n",
       "      <td>0.473213</td>\n",
       "      <td>leopard</td>\n",
       "      <td>20.094938</td>\n",
       "    </tr>\n",
       "    <tr>\n",
       "      <th>9</th>\n",
       "      <td>pets</td>\n",
       "      <td>0.463486</td>\n",
       "      <td>monkey</td>\n",
       "      <td>19.908772</td>\n",
       "    </tr>\n",
       "    <tr>\n",
       "      <th>10</th>\n",
       "      <td>rabbit</td>\n",
       "      <td>0.460876</td>\n",
       "      <td>rabbit</td>\n",
       "      <td>19.456947</td>\n",
       "    </tr>\n",
       "    <tr>\n",
       "      <th rowspan=\"10\" valign=\"top\">car</th>\n",
       "      <th>1</th>\n",
       "      <td>car</td>\n",
       "      <td>1.000000</td>\n",
       "      <td>car</td>\n",
       "      <td>48.388351</td>\n",
       "    </tr>\n",
       "    <tr>\n",
       "      <th>2</th>\n",
       "      <td>cars</td>\n",
       "      <td>0.782716</td>\n",
       "      <td>cars</td>\n",
       "      <td>38.601295</td>\n",
       "    </tr>\n",
       "    <tr>\n",
       "      <th>3</th>\n",
       "      <td>vehicle</td>\n",
       "      <td>0.765537</td>\n",
       "      <td>vehicle</td>\n",
       "      <td>35.861515</td>\n",
       "    </tr>\n",
       "    <tr>\n",
       "      <th>4</th>\n",
       "      <td>truck</td>\n",
       "      <td>0.735062</td>\n",
       "      <td>truck</td>\n",
       "      <td>34.166348</td>\n",
       "    </tr>\n",
       "    <tr>\n",
       "      <th>5</th>\n",
       "      <td>driver</td>\n",
       "      <td>0.711478</td>\n",
       "      <td>driver</td>\n",
       "      <td>33.105103</td>\n",
       "    </tr>\n",
       "    <tr>\n",
       "      <th>6</th>\n",
       "      <td>driving</td>\n",
       "      <td>0.644222</td>\n",
       "      <td>vehicles</td>\n",
       "      <td>31.110245</td>\n",
       "    </tr>\n",
       "    <tr>\n",
       "      <th>7</th>\n",
       "      <td>vehicles</td>\n",
       "      <td>0.632800</td>\n",
       "      <td>motorcycle</td>\n",
       "      <td>29.319912</td>\n",
       "    </tr>\n",
       "    <tr>\n",
       "      <th>8</th>\n",
       "      <td>motorcycle</td>\n",
       "      <td>0.602251</td>\n",
       "      <td>drivers</td>\n",
       "      <td>27.846518</td>\n",
       "    </tr>\n",
       "    <tr>\n",
       "      <th>9</th>\n",
       "      <td>automobile</td>\n",
       "      <td>0.595573</td>\n",
       "      <td>parked</td>\n",
       "      <td>27.842724</td>\n",
       "    </tr>\n",
       "    <tr>\n",
       "      <th>10</th>\n",
       "      <td>parked</td>\n",
       "      <td>0.591003</td>\n",
       "      <td>suv</td>\n",
       "      <td>27.381613</td>\n",
       "    </tr>\n",
       "    <tr>\n",
       "      <th rowspan=\"10\" valign=\"top\">plane</th>\n",
       "      <th>1</th>\n",
       "      <td>plane</td>\n",
       "      <td>1.000000</td>\n",
       "      <td>plane</td>\n",
       "      <td>49.320660</td>\n",
       "    </tr>\n",
       "    <tr>\n",
       "      <th>2</th>\n",
       "      <td>airplane</td>\n",
       "      <td>0.773739</td>\n",
       "      <td>planes</td>\n",
       "      <td>36.935619</td>\n",
       "    </tr>\n",
       "    <tr>\n",
       "      <th>3</th>\n",
       "      <td>planes</td>\n",
       "      <td>0.737317</td>\n",
       "      <td>aircraft</td>\n",
       "      <td>36.346619</td>\n",
       "    </tr>\n",
       "    <tr>\n",
       "      <th>4</th>\n",
       "      <td>jet</td>\n",
       "      <td>0.711837</td>\n",
       "      <td>airliner</td>\n",
       "      <td>36.047611</td>\n",
       "    </tr>\n",
       "    <tr>\n",
       "      <th>5</th>\n",
       "      <td>crashed</td>\n",
       "      <td>0.703250</td>\n",
       "      <td>jet</td>\n",
       "      <td>35.650505</td>\n",
       "    </tr>\n",
       "    <tr>\n",
       "      <th>6</th>\n",
       "      <td>aircraft</td>\n",
       "      <td>0.691475</td>\n",
       "      <td>crashed</td>\n",
       "      <td>34.711281</td>\n",
       "    </tr>\n",
       "    <tr>\n",
       "      <th>7</th>\n",
       "      <td>flight</td>\n",
       "      <td>0.684018</td>\n",
       "      <td>flight</td>\n",
       "      <td>33.832893</td>\n",
       "    </tr>\n",
       "    <tr>\n",
       "      <th>8</th>\n",
       "      <td>airliner</td>\n",
       "      <td>0.664274</td>\n",
       "      <td>airplane</td>\n",
       "      <td>33.484070</td>\n",
       "    </tr>\n",
       "    <tr>\n",
       "      <th>9</th>\n",
       "      <td>crash</td>\n",
       "      <td>0.664109</td>\n",
       "      <td>jetliner</td>\n",
       "      <td>32.878044</td>\n",
       "    </tr>\n",
       "    <tr>\n",
       "      <th>10</th>\n",
       "      <td>helicopter</td>\n",
       "      <td>0.634306</td>\n",
       "      <td>helicopter</td>\n",
       "      <td>32.230980</td>\n",
       "    </tr>\n",
       "    <tr>\n",
       "      <th rowspan=\"10\" valign=\"top\">apple</th>\n",
       "      <th>1</th>\n",
       "      <td>apple</td>\n",
       "      <td>1.000000</td>\n",
       "      <td>apple</td>\n",
       "      <td>50.242741</td>\n",
       "    </tr>\n",
       "    <tr>\n",
       "      <th>2</th>\n",
       "      <td>iphone</td>\n",
       "      <td>0.598704</td>\n",
       "      <td>iphone</td>\n",
       "      <td>32.451447</td>\n",
       "    </tr>\n",
       "    <tr>\n",
       "      <th>3</th>\n",
       "      <td>macintosh</td>\n",
       "      <td>0.583633</td>\n",
       "      <td>ipod</td>\n",
       "      <td>31.651672</td>\n",
       "    </tr>\n",
       "    <tr>\n",
       "      <th>4</th>\n",
       "      <td>ipod</td>\n",
       "      <td>0.576112</td>\n",
       "      <td>macintosh</td>\n",
       "      <td>30.303549</td>\n",
       "    </tr>\n",
       "    <tr>\n",
       "      <th>5</th>\n",
       "      <td>microsoft</td>\n",
       "      <td>0.566383</td>\n",
       "      <td>microsoft</td>\n",
       "      <td>30.064159</td>\n",
       "    </tr>\n",
       "    <tr>\n",
       "      <th>6</th>\n",
       "      <td>ipad</td>\n",
       "      <td>0.562810</td>\n",
       "      <td>ipad</td>\n",
       "      <td>28.711628</td>\n",
       "    </tr>\n",
       "    <tr>\n",
       "      <th>7</th>\n",
       "      <td>intel</td>\n",
       "      <td>0.545756</td>\n",
       "      <td>intel</td>\n",
       "      <td>28.046631</td>\n",
       "    </tr>\n",
       "    <tr>\n",
       "      <th>8</th>\n",
       "      <td>ibm</td>\n",
       "      <td>0.528620</td>\n",
       "      <td>google</td>\n",
       "      <td>27.636509</td>\n",
       "    </tr>\n",
       "    <tr>\n",
       "      <th>9</th>\n",
       "      <td>google</td>\n",
       "      <td>0.528247</td>\n",
       "      <td>ibm</td>\n",
       "      <td>26.729830</td>\n",
       "    </tr>\n",
       "    <tr>\n",
       "      <th>10</th>\n",
       "      <td>imac</td>\n",
       "      <td>0.507252</td>\n",
       "      <td>itunes</td>\n",
       "      <td>26.468224</td>\n",
       "    </tr>\n",
       "  </tbody>\n",
       "</table>\n",
       "</div>"
      ],
      "text/plain": [
       "                        cosine                     dot           \n",
       "                          word     score          word      score\n",
       "source_word rank                                                 \n",
       "hospital    1         hospital  1.000000      hospital  53.355907\n",
       "            2        hospitals  0.707926     hospitals  35.465721\n",
       "            3          medical  0.690507       medical  35.328308\n",
       "            4           clinic  0.648733        clinic  30.238682\n",
       "            5          doctors  0.624972       doctors  30.028748\n",
       "            6      psychiatric  0.571112       surgery  29.522640\n",
       "            7           doctor  0.568319   psychiatric  29.191055\n",
       "            8             care  0.564767      patients  28.473736\n",
       "            9         patients  0.562192     ambulance  28.258392\n",
       "            10    hospitalized  0.558139  hospitalized  28.079788\n",
       "cat         1              cat  1.000000           cat  40.023449\n",
       "            2              dog  0.681675           dog  28.778008\n",
       "            3             cats  0.681584          cats  27.334890\n",
       "            4              pet  0.587037           pet  24.377987\n",
       "            5             dogs  0.540767          dogs  23.070911\n",
       "            6           feline  0.489797         horse  20.386066\n",
       "            7           monkey  0.487943         mouse  20.201138\n",
       "            8            horse  0.473213       leopard  20.094938\n",
       "            9             pets  0.463486        monkey  19.908772\n",
       "            10          rabbit  0.460876        rabbit  19.456947\n",
       "car         1              car  1.000000           car  48.388351\n",
       "            2             cars  0.782716          cars  38.601295\n",
       "            3          vehicle  0.765537       vehicle  35.861515\n",
       "            4            truck  0.735062         truck  34.166348\n",
       "            5           driver  0.711478        driver  33.105103\n",
       "            6          driving  0.644222      vehicles  31.110245\n",
       "            7         vehicles  0.632800    motorcycle  29.319912\n",
       "            8       motorcycle  0.602251       drivers  27.846518\n",
       "            9       automobile  0.595573        parked  27.842724\n",
       "            10          parked  0.591003           suv  27.381613\n",
       "plane       1            plane  1.000000         plane  49.320660\n",
       "            2         airplane  0.773739        planes  36.935619\n",
       "            3           planes  0.737317      aircraft  36.346619\n",
       "            4              jet  0.711837      airliner  36.047611\n",
       "            5          crashed  0.703250           jet  35.650505\n",
       "            6         aircraft  0.691475       crashed  34.711281\n",
       "            7           flight  0.684018        flight  33.832893\n",
       "            8         airliner  0.664274      airplane  33.484070\n",
       "            9            crash  0.664109      jetliner  32.878044\n",
       "            10      helicopter  0.634306    helicopter  32.230980\n",
       "apple       1            apple  1.000000         apple  50.242741\n",
       "            2           iphone  0.598704        iphone  32.451447\n",
       "            3        macintosh  0.583633          ipod  31.651672\n",
       "            4             ipod  0.576112     macintosh  30.303549\n",
       "            5        microsoft  0.566383     microsoft  30.064159\n",
       "            6             ipad  0.562810          ipad  28.711628\n",
       "            7            intel  0.545756         intel  28.046631\n",
       "            8              ibm  0.528620        google  27.636509\n",
       "            9           google  0.528247           ibm  26.729830\n",
       "            10            imac  0.507252        itunes  26.468224"
      ]
     },
     "execution_count": 100,
     "metadata": {},
     "output_type": "execute_result"
    }
   ],
   "source": [
    "df"
   ]
  },
  {
   "cell_type": "code",
   "execution_count": 91,
   "metadata": {
    "collapsed": false,
    "jupyter": {
     "outputs_hidden": false
    },
    "pycharm": {
     "name": "#%%\n"
    }
   },
   "outputs": [],
   "source": [
    "# # create pd DataFrame from result\n",
    "# df = pd.DataFrame(columns=['source_word', 'metric', 'rank', 'word', 'score'])\n",
    "# for source_word in source_words:\n",
    "#     for metric in ['cosine', 'dot']:\n",
    "#         for i in range(k):\n",
    "#             df = pd.concat([df, pd.DataFrame({\n",
    "#                 'source_word': [source_word],\n",
    "#                 'metric': [metric],\n",
    "#                 'rank': [i+1],\n",
    "#                 'word': [glove_model.index_to_key[nearest_neighbors_scores[source_word][metric][\"neighbors\"][i]]],\n",
    "#                 'score': [nearest_neighbors_scores[source_word][metric][\"scores\"][i]]\n",
    "#             })])"
   ]
  },
  {
   "cell_type": "code",
   "execution_count": 92,
   "metadata": {
    "collapsed": false,
    "jupyter": {
     "outputs_hidden": false
    },
    "pycharm": {
     "name": "#%%\n"
    }
   },
   "outputs": [],
   "source": [
    "# df.set_index(['source_word', 'metric', 'rank'], inplace=True)"
   ]
  },
  {
   "cell_type": "code",
   "execution_count": 93,
   "metadata": {
    "collapsed": false,
    "jupyter": {
     "outputs_hidden": false
    },
    "pycharm": {
     "name": "#%%\n"
    }
   },
   "outputs": [],
   "source": [
    "# df"
   ]
  },
  {
   "cell_type": "code",
   "execution_count": 94,
   "metadata": {
    "collapsed": false,
    "jupyter": {
     "outputs_hidden": false
    },
    "pycharm": {
     "name": "#%%\n"
    }
   },
   "outputs": [],
   "source": [
    "# for source_word in source_words:\n",
    "#     print('Source word:', source_word)\n",
    "#     print(df.loc[source_word])\n",
    "#     print()"
   ]
  },
  {
   "cell_type": "code",
   "execution_count": 108,
   "metadata": {
    "collapsed": false,
    "jupyter": {
     "outputs_hidden": false
    },
    "pycharm": {
     "name": "#%%\n"
    }
   },
   "outputs": [
    {
     "data": {
      "image/png": "[encoded data removed]",
      "text/plain": [
       "<Figure size 720x1440 with 10 Axes>"
      ]
     },
     "metadata": {
      "needs_background": "light"
     },
     "output_type": "display_data"
    }
   ],
   "source": [
    "# plot the results\n",
    "fig, axes = plt.subplots(5, 2, figsize=(10, 20))\n",
    "for i, source_word in enumerate(source_words):\n",
    "    for j, metric in enumerate(['cosine', 'dot']):\n",
    "        df.loc[source_word][metric]['score'].plot(kind='bar', ax=axes[i, j])\n",
    "        axes[i, j].set_title(f'{source_word} - {metric}')\n",
    "        axes[i, j].set_xlabel('rank')\n",
    "        axes[i, j].set_ylabel('similarity score')\n",
    "        axes[i, j].set_xticklabels(df.loc[source_word][metric]['word'])\n",
    "plt.tight_layout()"
   ]
  },
  {
   "cell_type": "markdown",
   "metadata": {
    "pycharm": {
     "name": "#%% md\n"
    }
   },
   "source": [
    "The ranking for both similarity metrics is the same, which makes sense, since the cosine similarity is just a normalized dot product. The cosine similarity is preferred, since it is more interpretable and intuitive, since it is in the range $[0, 1]$.\n",
    "\n",
    "@Markus: It isn't the same, is it? See last 3 ranks at Apple."
   ]
  },
  {
   "cell_type": "markdown",
   "metadata": {
    "pycharm": {
     "name": "#%% md\n"
    }
   },
   "source": [
    "<a name=\"section-taskB\"></a><h2 style=\"color:rgb(0,120,170)\">Task B: Document Classification with WE (10 points)</h2>"
   ]
  },
  {
   "cell_type": "markdown",
   "metadata": {
    "pycharm": {
     "name": "#%% md\n"
    }
   },
   "source": [
    "<div style=\"background-color:rgb(224, 243, 255)\">\n",
    "\n",
    "This task follows the same instruction for document classification as provided in Assignment 1. You are indeed free to reuse any part of your code in Assignment 1 for this task. In Assignment 1, the representation of each document was created using a bag of words representation followed by dimensionality reduction. In this task, the document representations are created from the pre-trained word embeddings.\n",
    "\n",
    "**Map word embeddings to dictionary words (2 points).** For every word in the dictionary (as discussed and created in Assignment 1), fetch the corresponding word embedding from the pre-trained model. If no embedding is found, initialize the corresponding word embedding randomly.\n",
    "\n",
    "**Document embedding as the average of word embeddings (5 points).** Using the word embeddings, the representation of each document is defined as the *mean of the vectors of each document's words*. In particular, given the document $d$, consisting of words $\\left[ v_1, v_2, ..., v_{|d|} \\right]$, the document representation $\\mathbf{e}_d$ is defined as:\n",
    "\n",
    "$\\mathbf{e}_d = \\frac{1}{|d|}\\sum_{i=1}^{|d|}{\\mathbf{e}_{v_i}}$\n",
    "\n",
    "where $\\mathbf{e}_{v}$ is the vector of the word $v$, and $|d|$ is the length of the document.\n",
    "\n",
    "**Classification and evaluation (3 points)** Using these new document representations, apply <ins>three classification algorithms</ins> and report the evaluation results (based on accuracy metric) on the test set.\n",
    "\n",
    "</div>"
   ]
  },
  {
   "cell_type": "markdown",
   "metadata": {
    "pycharm": {
     "name": "#%% md\n"
    }
   },
   "source": [
    "## Pre-process"
   ]
  },
  {
   "cell_type": "code",
   "execution_count": 109,
   "metadata": {
    "collapsed": false,
    "jupyter": {
     "outputs_hidden": false
    },
    "pycharm": {
     "name": "#%%\n"
    }
   },
   "outputs": [
    {
     "name": "stdout",
     "output_type": "stream",
     "text": [
      "Train set length:  12110\n",
      "Validation set length:  2596\n",
      "Test set length:  2595\n"
     ]
    }
   ],
   "source": [
    "# print length of each set\n",
    "print('Train set length: ', len(train_df))\n",
    "print('Validation set length: ', len(val_df))\n",
    "print('Test set length: ', len(test_df))"
   ]
  },
  {
   "cell_type": "code",
   "execution_count": 110,
   "metadata": {
    "collapsed": false,
    "jupyter": {
     "outputs_hidden": false
    },
    "pycharm": {
     "name": "#%%\n"
    }
   },
   "outputs": [
    {
     "name": "stdout",
     "output_type": "stream",
     "text": [
      "Average length of text in train set:  450.86\n",
      "Average length of text in validation set:  446.5\n",
      "Average length of text in test set:  440.51\n"
     ]
    }
   ],
   "source": [
    "# print average length of text in each set\n",
    "print('Average length of text in train set: ', np.round(np.mean(train_df['text'].str.len()), 2))\n",
    "print('Average length of text in validation set: ', np.round(np.mean(val_df['text'].str.len()), 2))\n",
    "print('Average length of text in test set: ', np.round(np.mean(test_df['text'].str.len()), 2))"
   ]
  },
  {
   "cell_type": "code",
   "execution_count": 111,
   "metadata": {
    "collapsed": false,
    "jupyter": {
     "outputs_hidden": false
    },
    "pycharm": {
     "name": "#%%\n"
    }
   },
   "outputs": [
    {
     "data": {
      "text/html": [
       "<div>\n",
       "<style scoped>\n",
       "    .dataframe tbody tr th:only-of-type {\n",
       "        vertical-align: middle;\n",
       "    }\n",
       "\n",
       "    .dataframe tbody tr th {\n",
       "        vertical-align: top;\n",
       "    }\n",
       "\n",
       "    .dataframe thead th {\n",
       "        text-align: right;\n",
       "    }\n",
       "</style>\n",
       "<table border=\"1\" class=\"dataframe\">\n",
       "  <thead>\n",
       "    <tr style=\"text-align: right;\">\n",
       "      <th></th>\n",
       "      <th>label</th>\n",
       "      <th>caption</th>\n",
       "    </tr>\n",
       "  </thead>\n",
       "  <tbody>\n",
       "    <tr>\n",
       "      <th>0</th>\n",
       "      <td>0</td>\n",
       "      <td>Agriculture</td>\n",
       "    </tr>\n",
       "    <tr>\n",
       "      <th>1</th>\n",
       "      <td>1</td>\n",
       "      <td>Cross</td>\n",
       "    </tr>\n",
       "    <tr>\n",
       "      <th>2</th>\n",
       "      <td>2</td>\n",
       "      <td>Education</td>\n",
       "    </tr>\n",
       "    <tr>\n",
       "      <th>3</th>\n",
       "      <td>3</td>\n",
       "      <td>Food</td>\n",
       "    </tr>\n",
       "    <tr>\n",
       "      <th>4</th>\n",
       "      <td>4</td>\n",
       "      <td>Health</td>\n",
       "    </tr>\n",
       "    <tr>\n",
       "      <th>5</th>\n",
       "      <td>5</td>\n",
       "      <td>Livelihood</td>\n",
       "    </tr>\n",
       "    <tr>\n",
       "      <th>6</th>\n",
       "      <td>6</td>\n",
       "      <td>Logistic</td>\n",
       "    </tr>\n",
       "    <tr>\n",
       "      <th>7</th>\n",
       "      <td>7</td>\n",
       "      <td>NFI</td>\n",
       "    </tr>\n",
       "    <tr>\n",
       "      <th>8</th>\n",
       "      <td>8</td>\n",
       "      <td>Nutrition</td>\n",
       "    </tr>\n",
       "    <tr>\n",
       "      <th>9</th>\n",
       "      <td>9</td>\n",
       "      <td>Protection</td>\n",
       "    </tr>\n",
       "    <tr>\n",
       "      <th>10</th>\n",
       "      <td>10</td>\n",
       "      <td>Shelter</td>\n",
       "    </tr>\n",
       "    <tr>\n",
       "      <th>11</th>\n",
       "      <td>11</td>\n",
       "      <td>WASH</td>\n",
       "    </tr>\n",
       "  </tbody>\n",
       "</table>\n",
       "</div>"
      ],
      "text/plain": [
       "    label      caption\n",
       "0       0  Agriculture\n",
       "1       1        Cross\n",
       "2       2    Education\n",
       "3       3         Food\n",
       "4       4       Health\n",
       "5       5   Livelihood\n",
       "6       6     Logistic\n",
       "7       7          NFI\n",
       "8       8    Nutrition\n",
       "9       9   Protection\n",
       "10     10      Shelter\n",
       "11     11         WASH"
      ]
     },
     "execution_count": 111,
     "metadata": {},
     "output_type": "execute_result"
    }
   ],
   "source": [
    "label_df"
   ]
  },
  {
   "cell_type": "markdown",
   "metadata": {
    "pycharm": {
     "name": "#%% md\n"
    }
   },
   "source": [
    "Each label corresponds to a given caption, i.e., a category."
   ]
  },
  {
   "cell_type": "code",
   "execution_count": 112,
   "metadata": {
    "collapsed": false,
    "jupyter": {
     "outputs_hidden": false
    },
    "pycharm": {
     "name": "#%%\n"
    }
   },
   "outputs": [],
   "source": [
    "def map_label_to_caption(label):\n",
    "    \"\"\"\n",
    "    Map label id to caption using label_df\n",
    "    :param label: label id, int\n",
    "    :return: label caption, str\n",
    "    \"\"\"\n",
    "    return label_df[label_df['label'] == label]['caption'].values[0]"
   ]
  },
  {
   "cell_type": "code",
   "execution_count": 113,
   "metadata": {
    "collapsed": false,
    "jupyter": {
     "outputs_hidden": false
    },
    "pycharm": {
     "name": "#%%\n"
    }
   },
   "outputs": [],
   "source": [
    "train_df = train_df.assign(caption=train_df['label'].apply(map_label_to_caption))\n",
    "val_df = val_df.assign(caption=val_df['label'].apply(map_label_to_caption))\n",
    "test_df = test_df.assign(caption=test_df['label'].apply(map_label_to_caption))"
   ]
  },
  {
   "cell_type": "markdown",
   "metadata": {
    "pycharm": {
     "name": "#%% md\n"
    }
   },
   "source": [
    "### Clean text"
   ]
  },
  {
   "cell_type": "code",
   "execution_count": 114,
   "metadata": {
    "collapsed": false,
    "jupyter": {
     "outputs_hidden": false
    },
    "pycharm": {
     "name": "#%%\n"
    }
   },
   "outputs": [],
   "source": [
    "import re\n",
    "\n",
    "# remove punctuation marks, replace dates & numbers, apply case-sensitivity\n",
    "# do this in order to reduce the size of the dictionary & reduce complexity\n",
    "def clean_text(text):\n",
    "    \"\"\"\n",
    "    Clean text by removing punctuation marks, replacing dates & numbers, applying case-sensitivity\n",
    "    :param text: text to clean, str\n",
    "    :return: cleaned text, str\n",
    "    \"\"\"\n",
    "    # remove punctuation marks\n",
    "    text = re.sub(r'[^\\w\\s]', '', text)\n",
    "    # replace dates\n",
    "    text = re.sub(r'\\d{1,2}/\\d{1,2}/\\d{2,4}', '< date >', text)\n",
    "    # replace numbers\n",
    "    text = re.sub(r'\\d+', '< num >', text)\n",
    "    # apply case-sensitivity\n",
    "    text = text.lower()\n",
    "    return text"
   ]
  },
  {
   "cell_type": "code",
   "execution_count": 115,
   "metadata": {
    "collapsed": false,
    "jupyter": {
     "outputs_hidden": false
    },
    "pycharm": {
     "name": "#%%\n"
    }
   },
   "outputs": [],
   "source": [
    "train_df['cleaned_text'] = train_df['text'].apply(clean_text)\n",
    "val_df['cleaned_text'] = val_df['text'].apply(clean_text)\n",
    "test_df['cleaned_text'] = test_df['text'].apply(clean_text)"
   ]
  },
  {
   "cell_type": "code",
   "execution_count": 116,
   "metadata": {
    "collapsed": false,
    "jupyter": {
     "outputs_hidden": false
    },
    "pycharm": {
     "name": "#%%\n"
    }
   },
   "outputs": [
    {
     "data": {
      "text/html": [
       "<div>\n",
       "<style scoped>\n",
       "    .dataframe tbody tr th:only-of-type {\n",
       "        vertical-align: middle;\n",
       "    }\n",
       "\n",
       "    .dataframe tbody tr th {\n",
       "        vertical-align: top;\n",
       "    }\n",
       "\n",
       "    .dataframe thead th {\n",
       "        text-align: right;\n",
       "    }\n",
       "</style>\n",
       "<table border=\"1\" class=\"dataframe\">\n",
       "  <thead>\n",
       "    <tr style=\"text-align: right;\">\n",
       "      <th></th>\n",
       "      <th>sentence_id</th>\n",
       "      <th>text</th>\n",
       "      <th>label</th>\n",
       "      <th>caption</th>\n",
       "      <th>cleaned_text</th>\n",
       "    </tr>\n",
       "  </thead>\n",
       "  <tbody>\n",
       "    <tr>\n",
       "      <th>0</th>\n",
       "      <td>5446</td>\n",
       "      <td>In addition to the immediate life-saving inter...</td>\n",
       "      <td>9</td>\n",
       "      <td>Protection</td>\n",
       "      <td>in addition to the immediate lifesaving interv...</td>\n",
       "    </tr>\n",
       "    <tr>\n",
       "      <th>1</th>\n",
       "      <td>8812</td>\n",
       "      <td>There are approximately 2.6 million people cla...</td>\n",
       "      <td>3</td>\n",
       "      <td>Food</td>\n",
       "      <td>there are approximately &lt; num &gt; million people...</td>\n",
       "    </tr>\n",
       "    <tr>\n",
       "      <th>2</th>\n",
       "      <td>16709</td>\n",
       "      <td>While aid imports have held up recently, comme...</td>\n",
       "      <td>5</td>\n",
       "      <td>Livelihood</td>\n",
       "      <td>while aid imports have held up recently commer...</td>\n",
       "    </tr>\n",
       "    <tr>\n",
       "      <th>3</th>\n",
       "      <td>3526</td>\n",
       "      <td>Heavy rainfalls as well as onrush of water fro...</td>\n",
       "      <td>0</td>\n",
       "      <td>Agriculture</td>\n",
       "      <td>heavy rainfalls as well as onrush of water fro...</td>\n",
       "    </tr>\n",
       "    <tr>\n",
       "      <th>4</th>\n",
       "      <td>4928</td>\n",
       "      <td>Based on field reports 9 , the main production...</td>\n",
       "      <td>3</td>\n",
       "      <td>Food</td>\n",
       "      <td>based on field reports &lt; num &gt;  the main produ...</td>\n",
       "    </tr>\n",
       "    <tr>\n",
       "      <th>...</th>\n",
       "      <td>...</td>\n",
       "      <td>...</td>\n",
       "      <td>...</td>\n",
       "      <td>...</td>\n",
       "      <td>...</td>\n",
       "    </tr>\n",
       "    <tr>\n",
       "      <th>12105</th>\n",
       "      <td>12744</td>\n",
       "      <td>The total gap in the number of people who requ...</td>\n",
       "      <td>8</td>\n",
       "      <td>Nutrition</td>\n",
       "      <td>the total gap in the number of people who requ...</td>\n",
       "    </tr>\n",
       "    <tr>\n",
       "      <th>12106</th>\n",
       "      <td>9655</td>\n",
       "      <td>A food crisis is looming in the country with t...</td>\n",
       "      <td>0</td>\n",
       "      <td>Agriculture</td>\n",
       "      <td>a food crisis is looming in the country with t...</td>\n",
       "    </tr>\n",
       "    <tr>\n",
       "      <th>12107</th>\n",
       "      <td>6963</td>\n",
       "      <td>? Acute watery diarrhoea (AWD) continues to be...</td>\n",
       "      <td>4</td>\n",
       "      <td>Health</td>\n",
       "      <td>acute watery diarrhoea awd continues to be re...</td>\n",
       "    </tr>\n",
       "    <tr>\n",
       "      <th>12108</th>\n",
       "      <td>923</td>\n",
       "      <td>As South India grapples with drought and water...</td>\n",
       "      <td>11</td>\n",
       "      <td>WASH</td>\n",
       "      <td>as south india grapples with drought and water...</td>\n",
       "    </tr>\n",
       "    <tr>\n",
       "      <th>12109</th>\n",
       "      <td>15880</td>\n",
       "      <td>Mirroring trends in South Africa, the main sou...</td>\n",
       "      <td>3</td>\n",
       "      <td>Food</td>\n",
       "      <td>mirroring trends in south africa the main sour...</td>\n",
       "    </tr>\n",
       "  </tbody>\n",
       "</table>\n",
       "<p>12110 rows × 5 columns</p>\n",
       "</div>"
      ],
      "text/plain": [
       "       sentence_id                                               text  label  \\\n",
       "0             5446  In addition to the immediate life-saving inter...      9   \n",
       "1             8812  There are approximately 2.6 million people cla...      3   \n",
       "2            16709  While aid imports have held up recently, comme...      5   \n",
       "3             3526  Heavy rainfalls as well as onrush of water fro...      0   \n",
       "4             4928  Based on field reports 9 , the main production...      3   \n",
       "...            ...                                                ...    ...   \n",
       "12105        12744  The total gap in the number of people who requ...      8   \n",
       "12106         9655  A food crisis is looming in the country with t...      0   \n",
       "12107         6963  ? Acute watery diarrhoea (AWD) continues to be...      4   \n",
       "12108          923  As South India grapples with drought and water...     11   \n",
       "12109        15880  Mirroring trends in South Africa, the main sou...      3   \n",
       "\n",
       "           caption                                       cleaned_text  \n",
       "0       Protection  in addition to the immediate lifesaving interv...  \n",
       "1             Food  there are approximately < num > million people...  \n",
       "2       Livelihood  while aid imports have held up recently commer...  \n",
       "3      Agriculture  heavy rainfalls as well as onrush of water fro...  \n",
       "4             Food  based on field reports < num >  the main produ...  \n",
       "...            ...                                                ...  \n",
       "12105    Nutrition  the total gap in the number of people who requ...  \n",
       "12106  Agriculture  a food crisis is looming in the country with t...  \n",
       "12107       Health   acute watery diarrhoea awd continues to be re...  \n",
       "12108         WASH  as south india grapples with drought and water...  \n",
       "12109         Food  mirroring trends in south africa the main sour...  \n",
       "\n",
       "[12110 rows x 5 columns]"
      ]
     },
     "execution_count": 116,
     "metadata": {},
     "output_type": "execute_result"
    }
   ],
   "source": [
    "train_df"
   ]
  },
  {
   "cell_type": "markdown",
   "metadata": {
    "pycharm": {
     "name": "#%% md\n"
    }
   },
   "source": [
    "### Tokenization"
   ]
  },
  {
   "cell_type": "code",
   "execution_count": 117,
   "metadata": {
    "collapsed": false,
    "jupyter": {
     "outputs_hidden": false
    },
    "pycharm": {
     "name": "#%%\n"
    }
   },
   "outputs": [
    {
     "name": "stderr",
     "output_type": "stream",
     "text": [
      "[nltk_data] Downloading package punkt to /home/tobias/nltk_data...\n",
      "[nltk_data]   Package punkt is already up-to-date!\n",
      "[nltk_data] Downloading package wordnet to /home/tobias/nltk_data...\n",
      "[nltk_data]   Package wordnet is already up-to-date!\n",
      "[nltk_data] Downloading package omw-1.4 to /home/tobias/nltk_data...\n",
      "[nltk_data]   Package omw-1.4 is already up-to-date!\n"
     ]
    },
    {
     "data": {
      "text/plain": [
       "True"
      ]
     },
     "execution_count": 117,
     "metadata": {},
     "output_type": "execute_result"
    }
   ],
   "source": [
    "import nltk\n",
    "\n",
    "nltk.download('punkt')\n",
    "nltk.download('wordnet')\n",
    "nltk.download('omw-1.4')"
   ]
  },
  {
   "cell_type": "code",
   "execution_count": 118,
   "metadata": {
    "collapsed": false,
    "jupyter": {
     "outputs_hidden": false
    },
    "pycharm": {
     "name": "#%%\n"
    }
   },
   "outputs": [],
   "source": [
    "# use NLTK tokenizer (TreebankWordTokenizer)\n",
    "from nltk.tokenize import word_tokenize\n",
    "train_df['tokenized_text'] = train_df['cleaned_text'].apply(word_tokenize)\n",
    "val_df['tokenized_text'] = val_df['cleaned_text'].apply(word_tokenize)\n",
    "test_df['tokenized_text'] = test_df['cleaned_text'].apply(word_tokenize)"
   ]
  },
  {
   "cell_type": "markdown",
   "metadata": {
    "pycharm": {
     "name": "#%% md\n"
    }
   },
   "source": [
    "## Stopwords"
   ]
  },
  {
   "cell_type": "code",
   "execution_count": 119,
   "metadata": {
    "collapsed": false,
    "jupyter": {
     "outputs_hidden": false
    },
    "pycharm": {
     "name": "#%%\n"
    }
   },
   "outputs": [
    {
     "name": "stderr",
     "output_type": "stream",
     "text": [
      "[nltk_data] Downloading package stopwords to /home/tobias/nltk_data...\n",
      "[nltk_data]   Package stopwords is already up-to-date!\n"
     ]
    },
    {
     "data": {
      "text/plain": [
       "True"
      ]
     },
     "execution_count": 119,
     "metadata": {},
     "output_type": "execute_result"
    }
   ],
   "source": [
    "nltk.download('stopwords')"
   ]
  },
  {
   "cell_type": "code",
   "execution_count": 120,
   "metadata": {
    "collapsed": false,
    "jupyter": {
     "outputs_hidden": false
    },
    "pycharm": {
     "name": "#%%\n"
    }
   },
   "outputs": [],
   "source": [
    "# remove stopwords in English in order to reduce the size of the dictionary\n",
    "from nltk.corpus import stopwords\n",
    "stop_words = set(stopwords.words('english'))\n",
    "train_df['tokenized_text'] = train_df['tokenized_text'].apply(lambda x: [word for word in x if word not in stop_words])\n",
    "val_df['tokenized_text'] = val_df['tokenized_text'].apply(lambda x: [word for word in x if word not in stop_words])\n",
    "test_df['tokenized_text'] = test_df['tokenized_text'].apply(lambda x: [word for word in x if word not in stop_words])"
   ]
  },
  {
   "cell_type": "code",
   "execution_count": 121,
   "metadata": {
    "collapsed": false,
    "jupyter": {
     "outputs_hidden": false
    },
    "pycharm": {
     "name": "#%%\n"
    }
   },
   "outputs": [],
   "source": [
    "# create dictionary using train set\n",
    "def create_dictionary(tokenized_text):\n",
    "    \"\"\"\n",
    "    Create dictionary using train set\n",
    "    :param tokenized_text: tokenized text, list\n",
    "    :return: dictionary, dict\n",
    "    \"\"\"\n",
    "    dictionary = {}\n",
    "    for tokens in tokenized_text:\n",
    "        for token in tokens:\n",
    "            if token not in dictionary:\n",
    "                dictionary[token] = 1\n",
    "            else:\n",
    "                dictionary[token] += 1\n",
    "    return dictionary"
   ]
  },
  {
   "cell_type": "code",
   "execution_count": 122,
   "metadata": {
    "collapsed": false,
    "jupyter": {
     "outputs_hidden": false
    },
    "pycharm": {
     "name": "#%%\n"
    }
   },
   "outputs": [],
   "source": [
    "dictionary = create_dictionary(train_df['tokenized_text'])"
   ]
  },
  {
   "cell_type": "code",
   "execution_count": 123,
   "metadata": {
    "collapsed": false,
    "jupyter": {
     "outputs_hidden": false
    },
    "pycharm": {
     "name": "#%%\n"
    }
   },
   "outputs": [],
   "source": [
    "# keep only top-N most frequent words\n",
    "# removing any word with a lower frequency than a threshold\n",
    "# OOV (out-of-vocabulary) words will be replaced with the <oov> token\n",
    "def clean_dictionary(dictionary, N: int, threshold: int):\n",
    "    \"\"\"\n",
    "    Clean dictionary by keeping only top-N most frequent words and removing any word with a lower frequency than a threshold\n",
    "    :param dictionary: dictionary, dict\n",
    "    :param N: top-N most frequent words, int\n",
    "    :param threshold: threshold of word frequency, int\n",
    "    :return: cleaned dictionary, dict\n",
    "    \"\"\"\n",
    "    # keep only top-N most frequent words\n",
    "    dictionary = dict(sorted(dictionary.items(), key=lambda x: x[1], reverse=True)[:N])\n",
    "\n",
    "    # replace any word with a lower frequency than a threshold\n",
    "    for key, value in dictionary.copy().items():\n",
    "        if value < threshold:\n",
    "            dictionary['<oov>'] = dictionary.get('<oov>', 0) + value\n",
    "            dictionary.pop(key)\n",
    "    return dictionary"
   ]
  },
  {
   "cell_type": "code",
   "execution_count": 124,
   "metadata": {
    "collapsed": false,
    "jupyter": {
     "outputs_hidden": false
    },
    "pycharm": {
     "name": "#%%\n"
    }
   },
   "outputs": [],
   "source": [
    "# dictionary = clean_dictionary(dictionary, N=100_000, threshold=5)"
   ]
  },
  {
   "cell_type": "code",
   "execution_count": 125,
   "metadata": {
    "collapsed": false,
    "jupyter": {
     "outputs_hidden": false
    },
    "pycharm": {
     "name": "#%%\n"
    }
   },
   "outputs": [
    {
     "name": "stdout",
     "output_type": "stream",
     "text": [
      "Length of dictionary:  30396\n"
     ]
    }
   ],
   "source": [
    "# print length of dictionary\n",
    "print('Length of dictionary: ', len(dictionary))"
   ]
  },
  {
   "cell_type": "markdown",
   "metadata": {
    "pycharm": {
     "name": "#%% md\n"
    }
   },
   "source": [
    "**Map word embeddings to dictionary words (2 points).** For every word in the dictionary (as discussed and created in Assignment 1), fetch the corresponding word embedding from the pre-trained model. If no embedding is found, initialize the corresponding word embedding randomly.\n"
   ]
  },
  {
   "cell_type": "code",
   "execution_count": 126,
   "metadata": {
    "collapsed": false,
    "jupyter": {
     "outputs_hidden": false
    },
    "pycharm": {
     "name": "#%%\n"
    }
   },
   "outputs": [
    {
     "name": "stdout",
     "output_type": "stream",
     "text": [
      "KeyedVectors<vector_size=300, 400000 keys>\n"
     ]
    }
   ],
   "source": [
    "# load the pre-trained word embeddings\n",
    "print(glove_model)"
   ]
  },
  {
   "cell_type": "code",
   "execution_count": 127,
   "metadata": {
    "collapsed": false,
    "jupyter": {
     "outputs_hidden": false
    },
    "pycharm": {
     "name": "#%%\n"
    }
   },
   "outputs": [],
   "source": [
    "# create a dictionary of word embeddings\n",
    "word_embeddings_train = {}\n",
    "word_embeddings_val = {}\n",
    "word_embeddings_test = {}\n",
    "for split in [word_embeddings_train, word_embeddings_val, word_embeddings_test]:\n",
    "    for word in dictionary:\n",
    "        try:\n",
    "            split[word] = glove_model[word]\n",
    "        except KeyError:\n",
    "            split[word] = np.random.uniform(-1, 1, size=300)\n",
    "\n",
    "word_embeddings_train['<oov>'] = np.random.uniform(-1, 1, size=glove_model.vector_size)\n",
    "word_embeddings_val['<oov>'] = np.random.uniform(-1, 1, size=glove_model.vector_size)\n",
    "word_embeddings_test['<oov>'] = np.random.uniform(-1, 1, size=glove_model.vector_size)"
   ]
  },
  {
   "cell_type": "code",
   "execution_count": 128,
   "metadata": {
    "collapsed": false,
    "jupyter": {
     "outputs_hidden": false
    },
    "pycharm": {
     "name": "#%%\n"
    }
   },
   "outputs": [
    {
     "name": "stdout",
     "output_type": "stream",
     "text": [
      "Length of word embeddings:  30397\n"
     ]
    }
   ],
   "source": [
    "# print length of word embeddings\n",
    "print('Length of word embeddings: ', len(word_embeddings_train))"
   ]
  },
  {
   "cell_type": "code",
   "execution_count": 129,
   "metadata": {
    "collapsed": false,
    "jupyter": {
     "outputs_hidden": false
    },
    "pycharm": {
     "name": "#%%\n"
    }
   },
   "outputs": [
    {
     "data": {
      "text/html": [
       "<div>\n",
       "<style scoped>\n",
       "    .dataframe tbody tr th:only-of-type {\n",
       "        vertical-align: middle;\n",
       "    }\n",
       "\n",
       "    .dataframe tbody tr th {\n",
       "        vertical-align: top;\n",
       "    }\n",
       "\n",
       "    .dataframe thead th {\n",
       "        text-align: right;\n",
       "    }\n",
       "</style>\n",
       "<table border=\"1\" class=\"dataframe\">\n",
       "  <thead>\n",
       "    <tr style=\"text-align: right;\">\n",
       "      <th></th>\n",
       "      <th>sentence_id</th>\n",
       "      <th>text</th>\n",
       "      <th>label</th>\n",
       "      <th>caption</th>\n",
       "      <th>cleaned_text</th>\n",
       "      <th>tokenized_text</th>\n",
       "    </tr>\n",
       "  </thead>\n",
       "  <tbody>\n",
       "    <tr>\n",
       "      <th>0</th>\n",
       "      <td>5446</td>\n",
       "      <td>In addition to the immediate life-saving inter...</td>\n",
       "      <td>9</td>\n",
       "      <td>Protection</td>\n",
       "      <td>in addition to the immediate lifesaving interv...</td>\n",
       "      <td>[addition, immediate, lifesaving, intervention...</td>\n",
       "    </tr>\n",
       "    <tr>\n",
       "      <th>1</th>\n",
       "      <td>8812</td>\n",
       "      <td>There are approximately 2.6 million people cla...</td>\n",
       "      <td>3</td>\n",
       "      <td>Food</td>\n",
       "      <td>there are approximately &lt; num &gt; million people...</td>\n",
       "      <td>[approximately, &lt;, num, &gt;, million, people, cl...</td>\n",
       "    </tr>\n",
       "    <tr>\n",
       "      <th>2</th>\n",
       "      <td>16709</td>\n",
       "      <td>While aid imports have held up recently, comme...</td>\n",
       "      <td>5</td>\n",
       "      <td>Livelihood</td>\n",
       "      <td>while aid imports have held up recently commer...</td>\n",
       "      <td>[aid, imports, held, recently, commercial, foo...</td>\n",
       "    </tr>\n",
       "    <tr>\n",
       "      <th>3</th>\n",
       "      <td>3526</td>\n",
       "      <td>Heavy rainfalls as well as onrush of water fro...</td>\n",
       "      <td>0</td>\n",
       "      <td>Agriculture</td>\n",
       "      <td>heavy rainfalls as well as onrush of water fro...</td>\n",
       "      <td>[heavy, rainfalls, well, onrush, water, upstre...</td>\n",
       "    </tr>\n",
       "    <tr>\n",
       "      <th>4</th>\n",
       "      <td>4928</td>\n",
       "      <td>Based on field reports 9 , the main production...</td>\n",
       "      <td>3</td>\n",
       "      <td>Food</td>\n",
       "      <td>based on field reports &lt; num &gt;  the main produ...</td>\n",
       "      <td>[based, field, reports, &lt;, num, &gt;, main, produ...</td>\n",
       "    </tr>\n",
       "    <tr>\n",
       "      <th>...</th>\n",
       "      <td>...</td>\n",
       "      <td>...</td>\n",
       "      <td>...</td>\n",
       "      <td>...</td>\n",
       "      <td>...</td>\n",
       "      <td>...</td>\n",
       "    </tr>\n",
       "    <tr>\n",
       "      <th>12105</th>\n",
       "      <td>12744</td>\n",
       "      <td>The total gap in the number of people who requ...</td>\n",
       "      <td>8</td>\n",
       "      <td>Nutrition</td>\n",
       "      <td>the total gap in the number of people who requ...</td>\n",
       "      <td>[total, gap, number, people, require, assistan...</td>\n",
       "    </tr>\n",
       "    <tr>\n",
       "      <th>12106</th>\n",
       "      <td>9655</td>\n",
       "      <td>A food crisis is looming in the country with t...</td>\n",
       "      <td>0</td>\n",
       "      <td>Agriculture</td>\n",
       "      <td>a food crisis is looming in the country with t...</td>\n",
       "      <td>[food, crisis, looming, country, seasons, maiz...</td>\n",
       "    </tr>\n",
       "    <tr>\n",
       "      <th>12107</th>\n",
       "      <td>6963</td>\n",
       "      <td>? Acute watery diarrhoea (AWD) continues to be...</td>\n",
       "      <td>4</td>\n",
       "      <td>Health</td>\n",
       "      <td>acute watery diarrhoea awd continues to be re...</td>\n",
       "      <td>[acute, watery, diarrhoea, awd, continues, rep...</td>\n",
       "    </tr>\n",
       "    <tr>\n",
       "      <th>12108</th>\n",
       "      <td>923</td>\n",
       "      <td>As South India grapples with drought and water...</td>\n",
       "      <td>11</td>\n",
       "      <td>WASH</td>\n",
       "      <td>as south india grapples with drought and water...</td>\n",
       "      <td>[south, india, grapples, drought, water, short...</td>\n",
       "    </tr>\n",
       "    <tr>\n",
       "      <th>12109</th>\n",
       "      <td>15880</td>\n",
       "      <td>Mirroring trends in South Africa, the main sou...</td>\n",
       "      <td>3</td>\n",
       "      <td>Food</td>\n",
       "      <td>mirroring trends in south africa the main sour...</td>\n",
       "      <td>[mirroring, trends, south, africa, main, sourc...</td>\n",
       "    </tr>\n",
       "  </tbody>\n",
       "</table>\n",
       "<p>12110 rows × 6 columns</p>\n",
       "</div>"
      ],
      "text/plain": [
       "       sentence_id                                               text  label  \\\n",
       "0             5446  In addition to the immediate life-saving inter...      9   \n",
       "1             8812  There are approximately 2.6 million people cla...      3   \n",
       "2            16709  While aid imports have held up recently, comme...      5   \n",
       "3             3526  Heavy rainfalls as well as onrush of water fro...      0   \n",
       "4             4928  Based on field reports 9 , the main production...      3   \n",
       "...            ...                                                ...    ...   \n",
       "12105        12744  The total gap in the number of people who requ...      8   \n",
       "12106         9655  A food crisis is looming in the country with t...      0   \n",
       "12107         6963  ? Acute watery diarrhoea (AWD) continues to be...      4   \n",
       "12108          923  As South India grapples with drought and water...     11   \n",
       "12109        15880  Mirroring trends in South Africa, the main sou...      3   \n",
       "\n",
       "           caption                                       cleaned_text  \\\n",
       "0       Protection  in addition to the immediate lifesaving interv...   \n",
       "1             Food  there are approximately < num > million people...   \n",
       "2       Livelihood  while aid imports have held up recently commer...   \n",
       "3      Agriculture  heavy rainfalls as well as onrush of water fro...   \n",
       "4             Food  based on field reports < num >  the main produ...   \n",
       "...            ...                                                ...   \n",
       "12105    Nutrition  the total gap in the number of people who requ...   \n",
       "12106  Agriculture  a food crisis is looming in the country with t...   \n",
       "12107       Health   acute watery diarrhoea awd continues to be re...   \n",
       "12108         WASH  as south india grapples with drought and water...   \n",
       "12109         Food  mirroring trends in south africa the main sour...   \n",
       "\n",
       "                                          tokenized_text  \n",
       "0      [addition, immediate, lifesaving, intervention...  \n",
       "1      [approximately, <, num, >, million, people, cl...  \n",
       "2      [aid, imports, held, recently, commercial, foo...  \n",
       "3      [heavy, rainfalls, well, onrush, water, upstre...  \n",
       "4      [based, field, reports, <, num, >, main, produ...  \n",
       "...                                                  ...  \n",
       "12105  [total, gap, number, people, require, assistan...  \n",
       "12106  [food, crisis, looming, country, seasons, maiz...  \n",
       "12107  [acute, watery, diarrhoea, awd, continues, rep...  \n",
       "12108  [south, india, grapples, drought, water, short...  \n",
       "12109  [mirroring, trends, south, africa, main, sourc...  \n",
       "\n",
       "[12110 rows x 6 columns]"
      ]
     },
     "execution_count": 129,
     "metadata": {},
     "output_type": "execute_result"
    }
   ],
   "source": [
    "train_df"
   ]
  },
  {
   "cell_type": "markdown",
   "metadata": {
    "pycharm": {
     "name": "#%% md\n"
    }
   },
   "source": [
    "**Document embedding as the average of word embeddings (5 points).** Using the word embeddings, the representation of each document is defined as the *mean of the vectors of each document's words*. In particular, given the document $d$, consisting of words $\\left[ v_1, v_2, ..., v_{|d|} \\right]$, the document representation $\\mathbf{e}_d$ is defined as:\n",
    "\n",
    "$\\mathbf{e}_d = \\frac{1}{|d|}\\sum_{i=1}^{|d|}{\\mathbf{e}_{v_i}}$\n",
    "\n",
    "where $\\mathbf{e}_{v}$ is the vector of the word $v$, and $|d|$ is the length of the document."
   ]
  },
  {
   "cell_type": "code",
   "execution_count": 130,
   "metadata": {
    "collapsed": false,
    "jupyter": {
     "outputs_hidden": false
    },
    "pycharm": {
     "name": "#%%\n"
    }
   },
   "outputs": [],
   "source": [
    "# drop words that are not in the dictionary\n",
    "train_df['tokenized_text'] = train_df['tokenized_text'].apply(lambda x: [word for word in x if word in dictionary])\n",
    "val_df['tokenized_text'] = val_df['tokenized_text'].apply(lambda x: [word for word in x if word in dictionary])\n",
    "test_df['tokenized_text'] = test_df['tokenized_text'].apply(lambda x: [word for word in x if word in dictionary])"
   ]
  },
  {
   "cell_type": "code",
   "execution_count": 138,
   "metadata": {},
   "outputs": [
    {
     "data": {
      "text/plain": [
       "(300,)"
      ]
     },
     "execution_count": 138,
     "metadata": {},
     "output_type": "execute_result"
    }
   ],
   "source": [
    "word_embeddings_train['addition'].shape"
   ]
  },
  {
   "cell_type": "code",
   "execution_count": 131,
   "metadata": {
    "collapsed": false,
    "jupyter": {
     "outputs_hidden": false
    },
    "pycharm": {
     "name": "#%%\n"
    }
   },
   "outputs": [],
   "source": [
    "# create a dictionary of document embeddings\n",
    "document_embeddings_train = {}\n",
    "for index, row in train_df.iterrows():\n",
    "    # computes element-wise mean along the specified axis\n",
    "    document_embeddings_train[row['sentence_id']] = np.mean([word_embeddings_train[word] for word in row['tokenized_text']], axis=0)\n",
    "\n",
    "document_embeddings_val = {}\n",
    "for index, row in val_df.iterrows():\n",
    "    document_embeddings_val[row['sentence_id']] = np.mean([word_embeddings_val[word] for word in row['tokenized_text']], axis=0)\n",
    "\n",
    "document_embeddings_test = {}\n",
    "for index, row in test_df.iterrows():\n",
    "    document_embeddings_test[row['sentence_id']] = np.mean([word_embeddings_test[word] for word in row['tokenized_text']], axis=0)"
   ]
  },
  {
   "cell_type": "code",
   "execution_count": 132,
   "metadata": {
    "collapsed": false,
    "jupyter": {
     "outputs_hidden": false
    },
    "pycharm": {
     "name": "#%%\n"
    }
   },
   "outputs": [],
   "source": [
    "# move embeddings into df\n",
    "train_df['document_embeddings'] = train_df['sentence_id'].map(document_embeddings_train)\n",
    "val_df['document_embeddings'] = val_df['sentence_id'].map(document_embeddings_val)\n",
    "test_df['document_embeddings'] = test_df['sentence_id'].map(document_embeddings_test)"
   ]
  },
  {
   "cell_type": "code",
   "execution_count": 133,
   "metadata": {
    "collapsed": false,
    "jupyter": {
     "outputs_hidden": false
    },
    "pycharm": {
     "name": "#%%\n"
    }
   },
   "outputs": [
    {
     "data": {
      "text/html": [
       "<div>\n",
       "<style scoped>\n",
       "    .dataframe tbody tr th:only-of-type {\n",
       "        vertical-align: middle;\n",
       "    }\n",
       "\n",
       "    .dataframe tbody tr th {\n",
       "        vertical-align: top;\n",
       "    }\n",
       "\n",
       "    .dataframe thead th {\n",
       "        text-align: right;\n",
       "    }\n",
       "</style>\n",
       "<table border=\"1\" class=\"dataframe\">\n",
       "  <thead>\n",
       "    <tr style=\"text-align: right;\">\n",
       "      <th></th>\n",
       "      <th>sentence_id</th>\n",
       "      <th>text</th>\n",
       "      <th>label</th>\n",
       "      <th>caption</th>\n",
       "      <th>cleaned_text</th>\n",
       "      <th>tokenized_text</th>\n",
       "      <th>document_embeddings</th>\n",
       "    </tr>\n",
       "  </thead>\n",
       "  <tbody>\n",
       "    <tr>\n",
       "      <th>0</th>\n",
       "      <td>5446</td>\n",
       "      <td>In addition to the immediate life-saving inter...</td>\n",
       "      <td>9</td>\n",
       "      <td>Protection</td>\n",
       "      <td>in addition to the immediate lifesaving interv...</td>\n",
       "      <td>[addition, immediate, lifesaving, intervention...</td>\n",
       "      <td>[-0.05864218, 0.008058413, 0.16732147, 0.01654...</td>\n",
       "    </tr>\n",
       "    <tr>\n",
       "      <th>1</th>\n",
       "      <td>8812</td>\n",
       "      <td>There are approximately 2.6 million people cla...</td>\n",
       "      <td>3</td>\n",
       "      <td>Food</td>\n",
       "      <td>there are approximately &lt; num &gt; million people...</td>\n",
       "      <td>[approximately, &lt;, num, &gt;, million, people, cl...</td>\n",
       "      <td>[-0.17366909193753421, 0.12137763942647847, 0....</td>\n",
       "    </tr>\n",
       "    <tr>\n",
       "      <th>2</th>\n",
       "      <td>16709</td>\n",
       "      <td>While aid imports have held up recently, comme...</td>\n",
       "      <td>5</td>\n",
       "      <td>Livelihood</td>\n",
       "      <td>while aid imports have held up recently commer...</td>\n",
       "      <td>[aid, imports, held, recently, commercial, foo...</td>\n",
       "      <td>[0.13650332046506836, 0.024402419095766396, 0....</td>\n",
       "    </tr>\n",
       "    <tr>\n",
       "      <th>3</th>\n",
       "      <td>3526</td>\n",
       "      <td>Heavy rainfalls as well as onrush of water fro...</td>\n",
       "      <td>0</td>\n",
       "      <td>Agriculture</td>\n",
       "      <td>heavy rainfalls as well as onrush of water fro...</td>\n",
       "      <td>[heavy, rainfalls, well, onrush, water, upstre...</td>\n",
       "      <td>[-0.08918956946592944, -0.032708053979927286, ...</td>\n",
       "    </tr>\n",
       "    <tr>\n",
       "      <th>4</th>\n",
       "      <td>4928</td>\n",
       "      <td>Based on field reports 9 , the main production...</td>\n",
       "      <td>3</td>\n",
       "      <td>Food</td>\n",
       "      <td>based on field reports &lt; num &gt;  the main produ...</td>\n",
       "      <td>[based, field, reports, &lt;, num, &gt;, main, produ...</td>\n",
       "      <td>[-0.13988847219087297, 0.13764085562820236, 0....</td>\n",
       "    </tr>\n",
       "    <tr>\n",
       "      <th>...</th>\n",
       "      <td>...</td>\n",
       "      <td>...</td>\n",
       "      <td>...</td>\n",
       "      <td>...</td>\n",
       "      <td>...</td>\n",
       "      <td>...</td>\n",
       "      <td>...</td>\n",
       "    </tr>\n",
       "    <tr>\n",
       "      <th>12105</th>\n",
       "      <td>12744</td>\n",
       "      <td>The total gap in the number of people who requ...</td>\n",
       "      <td>8</td>\n",
       "      <td>Nutrition</td>\n",
       "      <td>the total gap in the number of people who requ...</td>\n",
       "      <td>[total, gap, number, people, require, assistan...</td>\n",
       "      <td>[-0.2843249695459601, 0.05526599898152701, 0.1...</td>\n",
       "    </tr>\n",
       "    <tr>\n",
       "      <th>12106</th>\n",
       "      <td>9655</td>\n",
       "      <td>A food crisis is looming in the country with t...</td>\n",
       "      <td>0</td>\n",
       "      <td>Agriculture</td>\n",
       "      <td>a food crisis is looming in the country with t...</td>\n",
       "      <td>[food, crisis, looming, country, seasons, maiz...</td>\n",
       "      <td>[-0.15273285044918028, 0.07628881078198031, 0....</td>\n",
       "    </tr>\n",
       "    <tr>\n",
       "      <th>12107</th>\n",
       "      <td>6963</td>\n",
       "      <td>? Acute watery diarrhoea (AWD) continues to be...</td>\n",
       "      <td>4</td>\n",
       "      <td>Health</td>\n",
       "      <td>acute watery diarrhoea awd continues to be re...</td>\n",
       "      <td>[acute, watery, diarrhoea, awd, continues, rep...</td>\n",
       "      <td>[0.07082107, 0.13896765, 0.1413655, -0.0060154...</td>\n",
       "    </tr>\n",
       "    <tr>\n",
       "      <th>12108</th>\n",
       "      <td>923</td>\n",
       "      <td>As South India grapples with drought and water...</td>\n",
       "      <td>11</td>\n",
       "      <td>WASH</td>\n",
       "      <td>as south india grapples with drought and water...</td>\n",
       "      <td>[south, india, grapples, drought, water, short...</td>\n",
       "      <td>[-0.2058511, -0.20000507, -0.057572924, -0.042...</td>\n",
       "    </tr>\n",
       "    <tr>\n",
       "      <th>12109</th>\n",
       "      <td>15880</td>\n",
       "      <td>Mirroring trends in South Africa, the main sou...</td>\n",
       "      <td>3</td>\n",
       "      <td>Food</td>\n",
       "      <td>mirroring trends in south africa the main sour...</td>\n",
       "      <td>[mirroring, trends, south, africa, main, sourc...</td>\n",
       "      <td>[-0.14075638765688533, 0.2102468940262193, 0.2...</td>\n",
       "    </tr>\n",
       "  </tbody>\n",
       "</table>\n",
       "<p>12110 rows × 7 columns</p>\n",
       "</div>"
      ],
      "text/plain": [
       "       sentence_id                                               text  label  \\\n",
       "0             5446  In addition to the immediate life-saving inter...      9   \n",
       "1             8812  There are approximately 2.6 million people cla...      3   \n",
       "2            16709  While aid imports have held up recently, comme...      5   \n",
       "3             3526  Heavy rainfalls as well as onrush of water fro...      0   \n",
       "4             4928  Based on field reports 9 , the main production...      3   \n",
       "...            ...                                                ...    ...   \n",
       "12105        12744  The total gap in the number of people who requ...      8   \n",
       "12106         9655  A food crisis is looming in the country with t...      0   \n",
       "12107         6963  ? Acute watery diarrhoea (AWD) continues to be...      4   \n",
       "12108          923  As South India grapples with drought and water...     11   \n",
       "12109        15880  Mirroring trends in South Africa, the main sou...      3   \n",
       "\n",
       "           caption                                       cleaned_text  \\\n",
       "0       Protection  in addition to the immediate lifesaving interv...   \n",
       "1             Food  there are approximately < num > million people...   \n",
       "2       Livelihood  while aid imports have held up recently commer...   \n",
       "3      Agriculture  heavy rainfalls as well as onrush of water fro...   \n",
       "4             Food  based on field reports < num >  the main produ...   \n",
       "...            ...                                                ...   \n",
       "12105    Nutrition  the total gap in the number of people who requ...   \n",
       "12106  Agriculture  a food crisis is looming in the country with t...   \n",
       "12107       Health   acute watery diarrhoea awd continues to be re...   \n",
       "12108         WASH  as south india grapples with drought and water...   \n",
       "12109         Food  mirroring trends in south africa the main sour...   \n",
       "\n",
       "                                          tokenized_text  \\\n",
       "0      [addition, immediate, lifesaving, intervention...   \n",
       "1      [approximately, <, num, >, million, people, cl...   \n",
       "2      [aid, imports, held, recently, commercial, foo...   \n",
       "3      [heavy, rainfalls, well, onrush, water, upstre...   \n",
       "4      [based, field, reports, <, num, >, main, produ...   \n",
       "...                                                  ...   \n",
       "12105  [total, gap, number, people, require, assistan...   \n",
       "12106  [food, crisis, looming, country, seasons, maiz...   \n",
       "12107  [acute, watery, diarrhoea, awd, continues, rep...   \n",
       "12108  [south, india, grapples, drought, water, short...   \n",
       "12109  [mirroring, trends, south, africa, main, sourc...   \n",
       "\n",
       "                                     document_embeddings  \n",
       "0      [-0.05864218, 0.008058413, 0.16732147, 0.01654...  \n",
       "1      [-0.17366909193753421, 0.12137763942647847, 0....  \n",
       "2      [0.13650332046506836, 0.024402419095766396, 0....  \n",
       "3      [-0.08918956946592944, -0.032708053979927286, ...  \n",
       "4      [-0.13988847219087297, 0.13764085562820236, 0....  \n",
       "...                                                  ...  \n",
       "12105  [-0.2843249695459601, 0.05526599898152701, 0.1...  \n",
       "12106  [-0.15273285044918028, 0.07628881078198031, 0....  \n",
       "12107  [0.07082107, 0.13896765, 0.1413655, -0.0060154...  \n",
       "12108  [-0.2058511, -0.20000507, -0.057572924, -0.042...  \n",
       "12109  [-0.14075638765688533, 0.2102468940262193, 0.2...  \n",
       "\n",
       "[12110 rows x 7 columns]"
      ]
     },
     "execution_count": 133,
     "metadata": {},
     "output_type": "execute_result"
    }
   ],
   "source": [
    "train_df"
   ]
  },
  {
   "cell_type": "code",
   "execution_count": 134,
   "metadata": {
    "collapsed": false,
    "jupyter": {
     "outputs_hidden": false
    },
    "pycharm": {
     "is_executing": true,
     "name": "#%%\n"
    }
   },
   "outputs": [
    {
     "data": {
      "text/html": [
       "<div>\n",
       "<style scoped>\n",
       "    .dataframe tbody tr th:only-of-type {\n",
       "        vertical-align: middle;\n",
       "    }\n",
       "\n",
       "    .dataframe tbody tr th {\n",
       "        vertical-align: top;\n",
       "    }\n",
       "\n",
       "    .dataframe thead th {\n",
       "        text-align: right;\n",
       "    }\n",
       "</style>\n",
       "<table border=\"1\" class=\"dataframe\">\n",
       "  <thead>\n",
       "    <tr style=\"text-align: right;\">\n",
       "      <th></th>\n",
       "      <th>sentence_id</th>\n",
       "      <th>text</th>\n",
       "      <th>label</th>\n",
       "      <th>caption</th>\n",
       "      <th>cleaned_text</th>\n",
       "      <th>tokenized_text</th>\n",
       "      <th>document_embeddings</th>\n",
       "    </tr>\n",
       "  </thead>\n",
       "  <tbody>\n",
       "    <tr>\n",
       "      <th>0</th>\n",
       "      <td>633</td>\n",
       "      <td>The veterans threw up roadblocks on the main n...</td>\n",
       "      <td>9</td>\n",
       "      <td>Protection</td>\n",
       "      <td>the veterans threw up roadblocks on the main n...</td>\n",
       "      <td>[threw, roadblocks, main, highway, morning, tr...</td>\n",
       "      <td>[-0.14376734, -0.2772065, 0.11107665, 0.051852...</td>\n",
       "    </tr>\n",
       "    <tr>\n",
       "      <th>1</th>\n",
       "      <td>6001</td>\n",
       "      <td>Water department complains about lack of skill...</td>\n",
       "      <td>11</td>\n",
       "      <td>WASH</td>\n",
       "      <td>water department complains about lack of skill...</td>\n",
       "      <td>[water, department, lack, skilled, workers, aw...</td>\n",
       "      <td>[-0.0144306945570163, -0.0703416541080461, -0....</td>\n",
       "    </tr>\n",
       "    <tr>\n",
       "      <th>2</th>\n",
       "      <td>14014</td>\n",
       "      <td>On 13 February 2018, the Ministry of Health of...</td>\n",
       "      <td>4</td>\n",
       "      <td>Health</td>\n",
       "      <td>on &lt; num &gt; february &lt; num &gt; the ministry of he...</td>\n",
       "      <td>[&lt;, num, &gt;, february, &lt;, num, &gt;, ministry, hea...</td>\n",
       "      <td>[-0.07906660626993994, 0.13435463325702796, 0....</td>\n",
       "    </tr>\n",
       "    <tr>\n",
       "      <th>3</th>\n",
       "      <td>12225</td>\n",
       "      <td>In Kakuma and Kalobeyei, both host and refugee...</td>\n",
       "      <td>7</td>\n",
       "      <td>NFI</td>\n",
       "      <td>in kakuma and kalobeyei both host and refugee ...</td>\n",
       "      <td>[kakuma, kalobeyei, host, refugee, communities...</td>\n",
       "      <td>[0.02218766567637838, 0.09182174251575205, 0.1...</td>\n",
       "    </tr>\n",
       "    <tr>\n",
       "      <th>4</th>\n",
       "      <td>10181</td>\n",
       "      <td>'Raqqa is now empty of civilians who had been ...</td>\n",
       "      <td>9</td>\n",
       "      <td>Protection</td>\n",
       "      <td>raqqa is now empty of civilians who had been t...</td>\n",
       "      <td>[raqqa, empty, civilians, taken, human, shield...</td>\n",
       "      <td>[-0.11580749, 0.12895992, 0.09467949, -0.03184...</td>\n",
       "    </tr>\n",
       "    <tr>\n",
       "      <th>...</th>\n",
       "      <td>...</td>\n",
       "      <td>...</td>\n",
       "      <td>...</td>\n",
       "      <td>...</td>\n",
       "      <td>...</td>\n",
       "      <td>...</td>\n",
       "      <td>...</td>\n",
       "    </tr>\n",
       "    <tr>\n",
       "      <th>2591</th>\n",
       "      <td>5109</td>\n",
       "      <td>UNICEF-supported Child Health Days happen in D...</td>\n",
       "      <td>4</td>\n",
       "      <td>Health</td>\n",
       "      <td>unicefsupported child health days happen in dp...</td>\n",
       "      <td>[unicefsupported, child, health, days, happen,...</td>\n",
       "      <td>[-0.20019286823212823, 0.14783150299693482, 0....</td>\n",
       "    </tr>\n",
       "    <tr>\n",
       "      <th>2592</th>\n",
       "      <td>5696</td>\n",
       "      <td>The residents of Karachi once again faced prol...</td>\n",
       "      <td>7</td>\n",
       "      <td>NFI</td>\n",
       "      <td>the residents of karachi once again faced prol...</td>\n",
       "      <td>[residents, karachi, faced, prolonged, power, ...</td>\n",
       "      <td>[0.0450877905811943, 0.016161684955403818, 0.0...</td>\n",
       "    </tr>\n",
       "    <tr>\n",
       "      <th>2593</th>\n",
       "      <td>4622</td>\n",
       "      <td>Poverty ripping off Malawi farmers Poverty has...</td>\n",
       "      <td>3</td>\n",
       "      <td>Food</td>\n",
       "      <td>poverty ripping off malawi farmers poverty has...</td>\n",
       "      <td>[poverty, ripping, malawi, farmers, poverty, l...</td>\n",
       "      <td>[-0.14755476, 0.08613991, 0.080961704, 0.03377...</td>\n",
       "    </tr>\n",
       "    <tr>\n",
       "      <th>2594</th>\n",
       "      <td>9053</td>\n",
       "      <td>The Sheikh Jarrah residential neighbourhood is...</td>\n",
       "      <td>10</td>\n",
       "      <td>Shelter</td>\n",
       "      <td>the sheikh jarrah residential neighbourhood is...</td>\n",
       "      <td>[sheikh, jarrah, residential, neighbourhood, k...</td>\n",
       "      <td>[-0.09408376, -0.009995422, 0.026305323, -0.03...</td>\n",
       "    </tr>\n",
       "    <tr>\n",
       "      <th>2595</th>\n",
       "      <td>6095</td>\n",
       "      <td>. Male IDPs between the ages of 18-40 years ar...</td>\n",
       "      <td>9</td>\n",
       "      <td>Protection</td>\n",
       "      <td>male idps between the ages of &lt; num &gt; years a...</td>\n",
       "      <td>[male, idps, ages, &lt;, num, &gt;, years, noticeabl...</td>\n",
       "      <td>[-0.0049042905452447525, 0.037750112940081584,...</td>\n",
       "    </tr>\n",
       "  </tbody>\n",
       "</table>\n",
       "<p>2596 rows × 7 columns</p>\n",
       "</div>"
      ],
      "text/plain": [
       "      sentence_id                                               text  label  \\\n",
       "0             633  The veterans threw up roadblocks on the main n...      9   \n",
       "1            6001  Water department complains about lack of skill...     11   \n",
       "2           14014  On 13 February 2018, the Ministry of Health of...      4   \n",
       "3           12225  In Kakuma and Kalobeyei, both host and refugee...      7   \n",
       "4           10181  'Raqqa is now empty of civilians who had been ...      9   \n",
       "...           ...                                                ...    ...   \n",
       "2591         5109  UNICEF-supported Child Health Days happen in D...      4   \n",
       "2592         5696  The residents of Karachi once again faced prol...      7   \n",
       "2593         4622  Poverty ripping off Malawi farmers Poverty has...      3   \n",
       "2594         9053  The Sheikh Jarrah residential neighbourhood is...     10   \n",
       "2595         6095  . Male IDPs between the ages of 18-40 years ar...      9   \n",
       "\n",
       "         caption                                       cleaned_text  \\\n",
       "0     Protection  the veterans threw up roadblocks on the main n...   \n",
       "1           WASH  water department complains about lack of skill...   \n",
       "2         Health  on < num > february < num > the ministry of he...   \n",
       "3            NFI  in kakuma and kalobeyei both host and refugee ...   \n",
       "4     Protection  raqqa is now empty of civilians who had been t...   \n",
       "...          ...                                                ...   \n",
       "2591      Health  unicefsupported child health days happen in dp...   \n",
       "2592         NFI  the residents of karachi once again faced prol...   \n",
       "2593        Food  poverty ripping off malawi farmers poverty has...   \n",
       "2594     Shelter  the sheikh jarrah residential neighbourhood is...   \n",
       "2595  Protection   male idps between the ages of < num > years a...   \n",
       "\n",
       "                                         tokenized_text  \\\n",
       "0     [threw, roadblocks, main, highway, morning, tr...   \n",
       "1     [water, department, lack, skilled, workers, aw...   \n",
       "2     [<, num, >, february, <, num, >, ministry, hea...   \n",
       "3     [kakuma, kalobeyei, host, refugee, communities...   \n",
       "4     [raqqa, empty, civilians, taken, human, shield...   \n",
       "...                                                 ...   \n",
       "2591  [unicefsupported, child, health, days, happen,...   \n",
       "2592  [residents, karachi, faced, prolonged, power, ...   \n",
       "2593  [poverty, ripping, malawi, farmers, poverty, l...   \n",
       "2594  [sheikh, jarrah, residential, neighbourhood, k...   \n",
       "2595  [male, idps, ages, <, num, >, years, noticeabl...   \n",
       "\n",
       "                                    document_embeddings  \n",
       "0     [-0.14376734, -0.2772065, 0.11107665, 0.051852...  \n",
       "1     [-0.0144306945570163, -0.0703416541080461, -0....  \n",
       "2     [-0.07906660626993994, 0.13435463325702796, 0....  \n",
       "3     [0.02218766567637838, 0.09182174251575205, 0.1...  \n",
       "4     [-0.11580749, 0.12895992, 0.09467949, -0.03184...  \n",
       "...                                                 ...  \n",
       "2591  [-0.20019286823212823, 0.14783150299693482, 0....  \n",
       "2592  [0.0450877905811943, 0.016161684955403818, 0.0...  \n",
       "2593  [-0.14755476, 0.08613991, 0.080961704, 0.03377...  \n",
       "2594  [-0.09408376, -0.009995422, 0.026305323, -0.03...  \n",
       "2595  [-0.0049042905452447525, 0.037750112940081584,...  \n",
       "\n",
       "[2596 rows x 7 columns]"
      ]
     },
     "execution_count": 134,
     "metadata": {},
     "output_type": "execute_result"
    }
   ],
   "source": [
    "val_df"
   ]
  },
  {
   "cell_type": "code",
   "execution_count": 135,
   "metadata": {
    "collapsed": false,
    "jupyter": {
     "outputs_hidden": false
    },
    "pycharm": {
     "name": "#%%\n"
    }
   },
   "outputs": [
    {
     "data": {
      "text/html": [
       "<div>\n",
       "<style scoped>\n",
       "    .dataframe tbody tr th:only-of-type {\n",
       "        vertical-align: middle;\n",
       "    }\n",
       "\n",
       "    .dataframe tbody tr th {\n",
       "        vertical-align: top;\n",
       "    }\n",
       "\n",
       "    .dataframe thead th {\n",
       "        text-align: right;\n",
       "    }\n",
       "</style>\n",
       "<table border=\"1\" class=\"dataframe\">\n",
       "  <thead>\n",
       "    <tr style=\"text-align: right;\">\n",
       "      <th></th>\n",
       "      <th>sentence_id</th>\n",
       "      <th>text</th>\n",
       "      <th>label</th>\n",
       "      <th>caption</th>\n",
       "      <th>cleaned_text</th>\n",
       "      <th>tokenized_text</th>\n",
       "      <th>document_embeddings</th>\n",
       "    </tr>\n",
       "  </thead>\n",
       "  <tbody>\n",
       "    <tr>\n",
       "      <th>0</th>\n",
       "      <td>5805</td>\n",
       "      <td>Overall 30% decrease in MAM Children admission...</td>\n",
       "      <td>8</td>\n",
       "      <td>Nutrition</td>\n",
       "      <td>overall &lt; num &gt; decrease in mam children admis...</td>\n",
       "      <td>[overall, &lt;, num, &gt;, decrease, mam, children, ...</td>\n",
       "      <td>[-0.124241136, 0.15260309, 0.3188759, -0.00510...</td>\n",
       "    </tr>\n",
       "    <tr>\n",
       "      <th>1</th>\n",
       "      <td>17120</td>\n",
       "      <td>In 2014, fear of Ebola also led to attacks on ...</td>\n",
       "      <td>9</td>\n",
       "      <td>Protection</td>\n",
       "      <td>in &lt; num &gt; fear of ebola also led to attacks o...</td>\n",
       "      <td>[&lt;, num, &gt;, fear, ebola, also, led, attacks, h...</td>\n",
       "      <td>[-0.11181302, 0.12729944, 0.08405761, 0.003362...</td>\n",
       "    </tr>\n",
       "    <tr>\n",
       "      <th>2</th>\n",
       "      <td>11901</td>\n",
       "      <td>Wheat is the staple food for most Afghans, com...</td>\n",
       "      <td>3</td>\n",
       "      <td>Food</td>\n",
       "      <td>wheat is the staple food for most afghans comp...</td>\n",
       "      <td>[wheat, staple, food, afghans, comprising, &lt;, ...</td>\n",
       "      <td>[-0.029228147021406997, -0.016845435202134676,...</td>\n",
       "    </tr>\n",
       "    <tr>\n",
       "      <th>3</th>\n",
       "      <td>2589</td>\n",
       "      <td>We have received serious allegations that two ...</td>\n",
       "      <td>9</td>\n",
       "      <td>Protection</td>\n",
       "      <td>we have received serious allegations that two ...</td>\n",
       "      <td>[received, serious, allegations, two, lna, fig...</td>\n",
       "      <td>[-0.011260862, 0.14905222, 0.18497144, 0.04823...</td>\n",
       "    </tr>\n",
       "    <tr>\n",
       "      <th>4</th>\n",
       "      <td>4188</td>\n",
       "      <td>Somali: 67 of 93 woredas hotspot . 410k MAM, 4...</td>\n",
       "      <td>8</td>\n",
       "      <td>Nutrition</td>\n",
       "      <td>somali &lt; num &gt; of &lt; num &gt; woredas hotspot  &lt; n...</td>\n",
       "      <td>[somali, &lt;, num, &gt;, &lt;, num, &gt;, woredas, hotspo...</td>\n",
       "      <td>[-0.18124543, 0.10166666, 0.2714622, 0.0355287...</td>\n",
       "    </tr>\n",
       "    <tr>\n",
       "      <th>...</th>\n",
       "      <td>...</td>\n",
       "      <td>...</td>\n",
       "      <td>...</td>\n",
       "      <td>...</td>\n",
       "      <td>...</td>\n",
       "      <td>...</td>\n",
       "      <td>...</td>\n",
       "    </tr>\n",
       "    <tr>\n",
       "      <th>2590</th>\n",
       "      <td>1979</td>\n",
       "      <td>Tropical Storm Dineo caused widespread damage ...</td>\n",
       "      <td>10</td>\n",
       "      <td>Shelter</td>\n",
       "      <td>tropical storm dineo caused widespread damage ...</td>\n",
       "      <td>[tropical, storm, dineo, caused, widespread, d...</td>\n",
       "      <td>[-0.06641303867215974, 0.08085505517210215, -0...</td>\n",
       "    </tr>\n",
       "    <tr>\n",
       "      <th>2591</th>\n",
       "      <td>7549</td>\n",
       "      <td>Monsoon rains and increased water levels in ma...</td>\n",
       "      <td>10</td>\n",
       "      <td>Shelter</td>\n",
       "      <td>monsoon rains and increased water levels in ma...</td>\n",
       "      <td>[monsoon, rains, increased, water, levels, maj...</td>\n",
       "      <td>[-0.09096202244476809, -0.01410368808310503, -...</td>\n",
       "    </tr>\n",
       "    <tr>\n",
       "      <th>2592</th>\n",
       "      <td>6064</td>\n",
       "      <td>I am extremely concerned about possible outbre...</td>\n",
       "      <td>11</td>\n",
       "      <td>WASH</td>\n",
       "      <td>i am extremely concerned about possible outbre...</td>\n",
       "      <td>[extremely, concerned, possible, outbreaks, wa...</td>\n",
       "      <td>[0.016605055, -0.023312975, 0.078532904, -0.11...</td>\n",
       "    </tr>\n",
       "    <tr>\n",
       "      <th>2593</th>\n",
       "      <td>3582</td>\n",
       "      <td>Newly displaced persons from Al Mukha and Dhub...</td>\n",
       "      <td>11</td>\n",
       "      <td>WASH</td>\n",
       "      <td>newly displaced persons from al mukha and dhub...</td>\n",
       "      <td>[newly, displaced, persons, al, mukha, dhubab,...</td>\n",
       "      <td>[-0.08220191541496824, 0.0011974965565115297, ...</td>\n",
       "    </tr>\n",
       "    <tr>\n",
       "      <th>2594</th>\n",
       "      <td>1049</td>\n",
       "      <td>State of emergency declared for areas affected...</td>\n",
       "      <td>10</td>\n",
       "      <td>Shelter</td>\n",
       "      <td>state of emergency declared for areas affected...</td>\n",
       "      <td>[state, emergency, declared, areas, affected, ...</td>\n",
       "      <td>[0.014856284, -0.003151685, -0.07139489, -0.10...</td>\n",
       "    </tr>\n",
       "  </tbody>\n",
       "</table>\n",
       "<p>2595 rows × 7 columns</p>\n",
       "</div>"
      ],
      "text/plain": [
       "      sentence_id                                               text  label  \\\n",
       "0            5805  Overall 30% decrease in MAM Children admission...      8   \n",
       "1           17120  In 2014, fear of Ebola also led to attacks on ...      9   \n",
       "2           11901  Wheat is the staple food for most Afghans, com...      3   \n",
       "3            2589  We have received serious allegations that two ...      9   \n",
       "4            4188  Somali: 67 of 93 woredas hotspot . 410k MAM, 4...      8   \n",
       "...           ...                                                ...    ...   \n",
       "2590         1979  Tropical Storm Dineo caused widespread damage ...     10   \n",
       "2591         7549  Monsoon rains and increased water levels in ma...     10   \n",
       "2592         6064  I am extremely concerned about possible outbre...     11   \n",
       "2593         3582  Newly displaced persons from Al Mukha and Dhub...     11   \n",
       "2594         1049  State of emergency declared for areas affected...     10   \n",
       "\n",
       "         caption                                       cleaned_text  \\\n",
       "0      Nutrition  overall < num > decrease in mam children admis...   \n",
       "1     Protection  in < num > fear of ebola also led to attacks o...   \n",
       "2           Food  wheat is the staple food for most afghans comp...   \n",
       "3     Protection  we have received serious allegations that two ...   \n",
       "4      Nutrition  somali < num > of < num > woredas hotspot  < n...   \n",
       "...          ...                                                ...   \n",
       "2590     Shelter  tropical storm dineo caused widespread damage ...   \n",
       "2591     Shelter  monsoon rains and increased water levels in ma...   \n",
       "2592        WASH  i am extremely concerned about possible outbre...   \n",
       "2593        WASH  newly displaced persons from al mukha and dhub...   \n",
       "2594     Shelter  state of emergency declared for areas affected...   \n",
       "\n",
       "                                         tokenized_text  \\\n",
       "0     [overall, <, num, >, decrease, mam, children, ...   \n",
       "1     [<, num, >, fear, ebola, also, led, attacks, h...   \n",
       "2     [wheat, staple, food, afghans, comprising, <, ...   \n",
       "3     [received, serious, allegations, two, lna, fig...   \n",
       "4     [somali, <, num, >, <, num, >, woredas, hotspo...   \n",
       "...                                                 ...   \n",
       "2590  [tropical, storm, dineo, caused, widespread, d...   \n",
       "2591  [monsoon, rains, increased, water, levels, maj...   \n",
       "2592  [extremely, concerned, possible, outbreaks, wa...   \n",
       "2593  [newly, displaced, persons, al, mukha, dhubab,...   \n",
       "2594  [state, emergency, declared, areas, affected, ...   \n",
       "\n",
       "                                    document_embeddings  \n",
       "0     [-0.124241136, 0.15260309, 0.3188759, -0.00510...  \n",
       "1     [-0.11181302, 0.12729944, 0.08405761, 0.003362...  \n",
       "2     [-0.029228147021406997, -0.016845435202134676,...  \n",
       "3     [-0.011260862, 0.14905222, 0.18497144, 0.04823...  \n",
       "4     [-0.18124543, 0.10166666, 0.2714622, 0.0355287...  \n",
       "...                                                 ...  \n",
       "2590  [-0.06641303867215974, 0.08085505517210215, -0...  \n",
       "2591  [-0.09096202244476809, -0.01410368808310503, -...  \n",
       "2592  [0.016605055, -0.023312975, 0.078532904, -0.11...  \n",
       "2593  [-0.08220191541496824, 0.0011974965565115297, ...  \n",
       "2594  [0.014856284, -0.003151685, -0.07139489, -0.10...  \n",
       "\n",
       "[2595 rows x 7 columns]"
      ]
     },
     "execution_count": 135,
     "metadata": {},
     "output_type": "execute_result"
    }
   ],
   "source": [
    "test_df"
   ]
  },
  {
   "cell_type": "code",
   "execution_count": 136,
   "metadata": {
    "collapsed": false,
    "jupyter": {
     "outputs_hidden": false
    },
    "pycharm": {
     "name": "#%%\n"
    }
   },
   "outputs": [],
   "source": [
    "# pickle files\n",
    "train_df.to_pickle('train_df.pkl')\n",
    "val_df.to_pickle('val_df.pkl')\n",
    "test_df.to_pickle('test_df.pkl')"
   ]
  },
  {
   "cell_type": "markdown",
   "metadata": {
    "pycharm": {
     "name": "#%% md\n"
    }
   },
   "source": [
    "<a name=\"section-taskC\"></a><h2 style=\"color:rgb(0,120,170)\">Task C: Classification with sent2vec Document Embeddings (2 extra point)</h2>"
   ]
  },
  {
   "cell_type": "markdown",
   "metadata": {
    "pycharm": {
     "name": "#%% md\n"
    }
   },
   "source": [
    "<div style=\"background-color:rgb(224, 243, 255)\">\n",
    "\n",
    "Sent2vec [1] suggests another unsupervised approach to creating document embeddings from the underlying word embeddings. First, using the provided code in the paper, train a sendtvec model on the training set to create document embeddings. Then, repeat Task B while using the document embeddings provided by sent2vec. Similar to Task 2, conduct the classification experiments and report evaluation results.\n",
    "\n",
    "[1] M. Pagliardini, P. Gupta, and M. Jaggi. Unsupervised Learning of Sentence Embeddings using Compositional n-Gram Features. In Proceedings of the conference of the North American Chapter of the Association for Computational Linguistics (NAACL), 2018.\n",
    "\n",
    "</div>"
   ]
  },
  {
   "cell_type": "code",
   "execution_count": null,
   "metadata": {
    "pycharm": {
     "name": "#%%\n"
    }
   },
   "outputs": [],
   "source": []
  }
 ],
 "metadata": {
  "kernelspec": {
   "display_name": "Python 3 (ipykernel)",
   "language": "python",
   "name": "python3"
  },
  "language_info": {
   "codemirror_mode": {
    "name": "ipython",
    "version": 3
   },
   "file_extension": ".py",
   "mimetype": "text/x-python",
   "name": "python",
   "nbconvert_exporter": "python",
   "pygments_lexer": "ipython3",
   "version": "3.8.5"
  }
 },
 "nbformat": 4,
 "nbformat_minor": 4
}
